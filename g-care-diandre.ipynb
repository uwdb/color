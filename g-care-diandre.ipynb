{
 "cells": [
  {
   "attachments": {},
   "cell_type": "markdown",
   "metadata": {},
   "source": [
    "## G-CARE Benchmark"
   ]
  },
  {
   "cell_type": "code",
   "execution_count": 72,
   "metadata": {},
   "outputs": [
    {
     "data": {
      "text/plain": [
       "get_cardinality_bounds (generic function with 1 method)"
      ]
     },
     "metadata": {},
     "output_type": "display_data"
    }
   ],
   "source": [
    "using Graphs: DiGraph\n",
    "using StatsPlots\n",
    "include(\"Source/datasets.jl\")\n",
    "include(\"Source/QuasiStableCardinalityEstimator.jl\")"
   ]
  },
  {
   "cell_type": "code",
   "execution_count": 70,
   "metadata": {},
   "outputs": [],
   "source": [
    "aids_data_file_path = \"dataset/aids/aids.txt\"\n",
    "human_data_file_path = \"dataset/human/human.txt\"\n",
    "lubm80_data_file_path = \"dataset/lubm80/lubm80.txt\"\n",
    "yago_data_file_path = \"dataset/yago/yago.txt\"\n",
    "yeast_data_file_path = \"dataset/yeast/yeast.graph\"\n",
    "hprd_data_file_path = \"dataset/hprd/hprd.graph\"\n",
    "wordnet_data_file_path = \"dataset/wordnet/wordnet.graph\"\n",
    "dblp_data_file_path = \"dataset/dblp/dblp.graph\"\n",
    "\n",
    "human_data = load_dataset(human_data_file_path)\n",
    "aids_data = load_dataset(aids_data_file_path)\n",
    "yeast_data = load_dataset(yeast_data_file_path, subgraph_matching_data=true)\n",
    "hprd_data = load_dataset(hprd_data_file_path, subgraph_matching_data=true)\n",
    "wordnet_data = load_dataset(wordnet_data_file_path, subgraph_matching_data=true)\n",
    "dblp_data = load_dataset(dblp_data_file_path, subgraph_matching_data=true)\n",
    "#lubm80_data = load_dataset(lubm80_data_file_path)\n",
    "#yago_data = load_dataset(yago_data_file_path)\n",
    "nothing"
   ]
  },
  {
   "cell_type": "code",
   "execution_count": 80,
   "metadata": {},
   "outputs": [
    {
     "data": {
      "text/plain": [
       "Dict{String, Int64} with 5 entries:\n",
       "  \"yeast\"   => 6\n",
       "  \"wordnet\" => 3\n",
       "  \"hprd\"    => -1\n",
       "  \"aids\"    => 6\n",
       "  \"human\"   => -1"
      ]
     },
     "metadata": {},
     "output_type": "display_data"
    }
   ],
   "source": [
    "#datasets = [aids_data, human_data, lubm80_data, yago_data]\n",
    "#dataset_names = [\"aids\", \"human\", \"lubm80\", \"yago\"]\n",
    "datasets = Dict(\"aids\"=>aids_data, \"human\"=>human_data, \"yeast\"=>yeast_data, \"hprd\" => hprd_data, \"wordnet\" => wordnet_data)\n",
    "#dataset_names = [\"aids\", \"human\", \"yeast\"]\n",
    "dataset_names = [\"wordnet\"]\n",
    "num_sample_nodes = Dict(\"aids\"=>100, \"human\"=>100, \"yeast\"=>50, \"hprd\"=>100, \"wordnet\"=>10)\n",
    "gcare_dataset = Dict(\"aids\"=>true, \"human\"=>true, \"yeast\"=>false, \"hprd\"=>false, \"wordnet\"=>false)\n",
    "max_cycle_size = Dict(\"aids\"=>6, \"human\"=>-1, \"yeast\"=>6, \"hprd\"=>-1, \"wordnet\"=>3)"
   ]
  },
  {
   "cell_type": "code",
   "execution_count": 39,
   "metadata": {},
   "outputs": [
    {
     "name": "stdout",
     "output_type": "stream",
     "text": [
      "Started bloom filters\n",
      "Finished bloom filters\n",
      "Started cardinality counts"
     ]
    },
    {
     "name": "stdout",
     "output_type": "stream",
     "text": [
      "\n",
      "Finished cardinality counts\n",
      "Started tracking statistics"
     ]
    },
    {
     "name": "stdout",
     "output_type": "stream",
     "text": [
      "\n",
      "Finished tracking statistics\n"
     ]
    },
    {
     "name": "stdout",
     "output_type": "stream",
     "text": [
      "Started bloom filters\n",
      "Finished bloom filters\n",
      "Started cardinality counts\n"
     ]
    },
    {
     "name": "stdout",
     "output_type": "stream",
     "text": [
      "Finished cardinality counts\n",
      "Started tracking statistics\n"
     ]
    },
    {
     "name": "stdout",
     "output_type": "stream",
     "text": [
      "Finished tracking statistics\n",
      "Started coloring\n"
     ]
    },
    {
     "name": "stdout",
     "output_type": "stream",
     "text": [
      "Finished coloring\n",
      "Started bloom filters\n",
      "Finished bloom filters\n",
      "Started cardinality counts"
     ]
    },
    {
     "name": "stdout",
     "output_type": "stream",
     "text": [
      "\n",
      "Finished cardinality counts\n",
      "Started tracking statistics"
     ]
    },
    {
     "name": "stdout",
     "output_type": "stream",
     "text": [
      "\n",
      "Finished tracking statistics\n"
     ]
    },
    {
     "name": "stdout",
     "output_type": "stream",
     "text": [
      "Started bloom filters\n",
      "Finished bloom filters\n",
      "Started cardinality counts\n"
     ]
    },
    {
     "name": "stdout",
     "output_type": "stream",
     "text": [
      "Finished cardinality counts\n",
      "Started tracking statistics\n"
     ]
    },
    {
     "name": "stdout",
     "output_type": "stream",
     "text": [
      "Finished tracking statistics\n",
      "Started coloring"
     ]
    },
    {
     "name": "stdout",
     "output_type": "stream",
     "text": [
      "\n",
      "Finished coloring\n",
      "Started bloom filters\n",
      "Finished bloom filters\n",
      "Started cardinality counts"
     ]
    },
    {
     "name": "stdout",
     "output_type": "stream",
     "text": [
      "\n",
      "Finished cardinality counts\n",
      "Started tracking statistics\n"
     ]
    },
    {
     "name": "stdout",
     "output_type": "stream",
     "text": [
      "Finished tracking statistics\n",
      "Started coloring\n"
     ]
    },
    {
     "name": "stdout",
     "output_type": "stream",
     "text": [
      "Finished coloring\n",
      "Started bloom filters\n",
      "Finished bloom filters\n",
      "Started cardinality counts\n"
     ]
    },
    {
     "name": "stdout",
     "output_type": "stream",
     "text": [
      "Finished cardinality counts\n",
      "Started tracking statistics\n"
     ]
    },
    {
     "name": "stdout",
     "output_type": "stream",
     "text": [
      "Finished tracking statistics\n",
      "Label groups: [[0], [4], [2], [3], [1]]\n",
      "Color hash was 76853\n",
      "Started bloom filters\n",
      "Finished bloom filters\n",
      "Started cardinality counts\n"
     ]
    },
    {
     "name": "stdout",
     "output_type": "stream",
     "text": [
      "Finished cardinality counts\n",
      "Started tracking statistics\n"
     ]
    },
    {
     "name": "stdout",
     "output_type": "stream",
     "text": [
      "Finished tracking statistics\n"
     ]
    },
    {
     "name": "stdout",
     "output_type": "stream",
     "text": [
      "false\n",
      "false\n"
     ]
    }
   ],
   "source": [
    "build_time = Dict()\n",
    "summary_size = Dict()\n",
    "color_summaries = Dict()\n",
    "hash_color_summaries = Dict()\n",
    "no_color_summaries = Dict()\n",
    "degree_color_summaries = Dict()\n",
    "directed_degree_color_summaries = Dict()\n",
    "num_colors = 16\n",
    "for dataset in dataset_names\n",
    "    directed_degree_color_summaries[dataset] = generate_color_summary(datasets[dataset], num_colors, verbose=true, max_size = max_cycle_size[dataset], max_partial_paths=num_sample_nodes[dataset], partitioner=\"DirectedDegree\")\n",
    "    degree_color_summaries[dataset] = generate_color_summary(datasets[dataset], num_colors, verbose=true, max_size = max_cycle_size[dataset], max_partial_paths=num_sample_nodes[dataset], partitioner=\"Degree\")\n",
    "    results = @timed generate_color_summary(datasets[dataset], num_colors, verbose=true, max_size = max_cycle_size[dataset], max_partial_paths=num_sample_nodes[dataset])\n",
    "    build_time[dataset] = results[2]\n",
    "    summary_size[dataset] = get_color_summary_size(results[1])\n",
    "    color_summaries[dataset] = results[1]\n",
    "    hash_color_summaries[dataset] = generate_color_summary(datasets[dataset], num_colors, verbose=true, max_size = max_cycle_size[dataset], max_partial_paths=num_sample_nodes[dataset], partitioner=\"Hash\")\n",
    "    no_color_summaries[dataset] = generate_color_summary(datasets[dataset], 1, verbose=true, max_size = max_cycle_size[dataset], max_partial_paths=num_sample_nodes[dataset])\n",
    "    # println(no_color_summaries[dataset])\n",
    "    # no_color_summaries[dataset] = generate_color_summary(datasets[dataset], 1, verbose=true, max_size = max_cycle_size[dataset], max_partial_paths=num_sample_nodes[dataset], partitioner=\"Simple Label\")\n",
    "    println(no_color_summaries[dataset])\n",
    "end"
   ]
  },
  {
   "cell_type": "code",
   "execution_count": 81,
   "metadata": {},
   "outputs": [
    {
     "name": "stdout",
     "output_type": "stream",
     "text": [
      "Started bloom filters\n",
      "Finished bloom filters\n",
      "Started cardinality counts"
     ]
    },
    {
     "name": "stdout",
     "output_type": "stream",
     "text": [
      "\n",
      "Finished cardinality counts\n",
      "Started tracking statistics\n"
     ]
    },
    {
     "name": "stdout",
     "output_type": "stream",
     "text": [
      "Finished tracking statistics\n"
     ]
    },
    {
     "name": "stdout",
     "output_type": "stream",
     "text": [
      "Started bloom filters\n",
      "Finished bloom filters\n",
      "Started cardinality counts\n"
     ]
    },
    {
     "name": "stdout",
     "output_type": "stream",
     "text": [
      "Finished cardinality counts\n",
      "Started tracking statistics\n"
     ]
    },
    {
     "name": "stdout",
     "output_type": "stream",
     "text": [
      "Finished tracking statistics\n",
      "Started coloring\n"
     ]
    },
    {
     "name": "stdout",
     "output_type": "stream",
     "text": [
      "Finished coloring\n"
     ]
    },
    {
     "name": "stdout",
     "output_type": "stream",
     "text": [
      "Started bloom filters\n",
      "Finished bloom filters\n",
      "Started cardinality counts\n"
     ]
    },
    {
     "name": "stdout",
     "output_type": "stream",
     "text": [
      "Finished cardinality counts\n",
      "Started tracking statistics"
     ]
    },
    {
     "name": "stdout",
     "output_type": "stream",
     "text": [
      "\n",
      "Finished tracking statistics\n"
     ]
    },
    {
     "name": "stdout",
     "output_type": "stream",
     "text": [
      "Started bloom filters\n",
      "Finished bloom filters\n",
      "Started cardinality counts"
     ]
    },
    {
     "name": "stdout",
     "output_type": "stream",
     "text": [
      "\n",
      "Finished cardinality counts\n",
      "Started tracking statistics"
     ]
    },
    {
     "name": "stdout",
     "output_type": "stream",
     "text": [
      "\n",
      "Finished tracking statistics\n",
      "Started coloring\n"
     ]
    },
    {
     "name": "stdout",
     "output_type": "stream",
     "text": [
      "Finished coloring\n",
      "Started bloom filters\n",
      "Finished bloom filters\n",
      "Started cardinality counts"
     ]
    },
    {
     "name": "stdout",
     "output_type": "stream",
     "text": [
      "\n",
      "Finished cardinality counts\n",
      "Started tracking statistics"
     ]
    },
    {
     "name": "stdout",
     "output_type": "stream",
     "text": [
      "\n",
      "Finished tracking statistics\n",
      "Label groups: [[0], [4], [2], [3], [1]]\n",
      "Color hash was 76853"
     ]
    },
    {
     "name": "stdout",
     "output_type": "stream",
     "text": [
      "\n",
      "Started bloom filters\n",
      "Finished bloom filters\n",
      "Started cardinality counts"
     ]
    },
    {
     "name": "stdout",
     "output_type": "stream",
     "text": [
      "\n",
      "Finished cardinality counts\n",
      "Started tracking statistics\n"
     ]
    },
    {
     "name": "stdout",
     "output_type": "stream",
     "text": [
      "Finished tracking statistics\n"
     ]
    },
    {
     "name": "stdout",
     "output_type": "stream",
     "text": [
      "---------------------------------------------------------------------------------------------\n",
      "Running wordnet\n",
      "ColorSummary(Dict(1 => Dict(0 => 63098, 4 => 6632, -1 => 76853, 2 => 2560, 3 => 109, 1 => 4454)), Dict(0 => Dict(0 => Dict(1 => Dict(1 => 0.0)), 4 => Dict(1 => Dict(1 => 0.0)), -1 => Dict(1 => Dict(1 => 1.0)), 2 => Dict(1 => Dict(1 => 0.0)), 3 => Dict(1 => Dict(1 => 0.0)), 1 => Dict(1 => Dict(1 => 0.0))), -1 => Dict(0 => Dict(1 => Dict(1 => 0.0)), 4 => Dict(1 => Dict(1 => 0.0)), -1 => Dict(1 => Dict(1 => 1.0)), 2 => Dict(1 => Dict(1 => 0.0)), 3 => Dict(1 => Dict(1 => 0.0)), 1 => Dict(1 => Dict(1 => 0.0)))), Dict(0 => Dict(0 => Dict(1 => Dict(1 => 0.0)), 4 => Dict(1 => Dict(1 => 0.0)), -1 => Dict(1 => Dict(1 => 1.0)), 2 => Dict(1 => Dict(1 => 0.0)), 3 => Dict(1 => Dict("
     ]
    },
    {
     "name": "stdout",
     "output_type": "stream",
     "text": [
      "1 => 0.0)), 1 => Dict(1 => Dict(1 => 0.0))), -1 => Dict(0 => Dict(1 => Dict(1 => 0.0)), 4 => Dict(1 => Dict(1 => 0.0)), -1 => Dict(1 => Dict(1 => 1.0)), 2 => Dict(1 => Dict(1 => 0.0)), 3 => Dict(1 => Dict(1 => 0.0)), 1 => Dict(1 => Dict(1 => 0.0)))), Dict(0 => Dict(0 => Dict(1 => Dict(1 => 2.7201280366413805)), 4 => Dict(1 => Dict(1 => 0.17997996174514982)), -1 => Dict(1 => Dict(1 => 3.133228371046023)), 2 => Dict(1 => Dict(1 => 0.056185184703264675)), 3 => Dict(1 => Dict(1 => 0.0034741649642824612)), 1 => Dict(1 => Dict(1 => 0.17346102299194566))), -1 => Dict(0 => Dict(1 => Dict(1 => 2.7201280366413805)), 4 => Dict(1 => Dict(1 => 0.17997996174514982)), -1 => Dict(1 => Dict(1 => 3.133228371046023)), 2 => Dict(1 => Dict(1 => 0.056185184703264675)), 3 => Dict(1 => Dict(1 => 0.0034741649642824612)), 1 => Dict(1 => Dict(1 => 0.17346102299194566)))), Dict(0 => Dict(0 => Dict(1 => Dict(1 => 2.7201280366413805)), 4 => Dict(1 => Dict(1 => 0.17997996174514982)), -1 => Dict(1 => Dict(1 => 3.133228371046023)), 2 => Dict(1 => Dict(1 => 0.056185184703264675)), 3 => Dict(1 => Dict(1 => 0.0034741649642824612)), 1 => Dict(1 => Dict(1 => 0.17346102299194566))), -1 => Dict(0 => Dict(1 => Dict(1 => 2.7201280366413805)), 4 => Dict(1 => Dict(1 => 0.17997996174514982)), "
     ]
    },
    {
     "name": "stdout",
     "output_type": "stream",
     "text": [
      "-1 => Dict(1 => Dict(1 => 3.133228371046023)), 2 => Dict(1 => Dict(1 => 0.056185184703264675)), 3 => Dict(1 => Dict(1 => 0.0034741649642824612)), 1 => Dict(1 => Dict(1 => 0.17346102299194566)))), Dict(0 => Dict(0 => Dict(1 => Dict(1 => 543.0)), 4 => Dict(1 => Dict(1 => 84.0)), -1 => Dict(1 => Dict(1 => 543.0)), 2 => Dict(1 => Dict(1 => 11.0)), 3 => Dict(1 => Dict(1 => 4.0)), 1 => Dict(1 => Dict(1 => 357.0))), -1 => Dict(0 => Dict(1 => Dict(1 => 543.0)), 4 => Dict(1 => Dict(1 => 84.0)), -1 => Dict(1 => Dict(1 => 543.0)), 2 => Dict(1 => Dict(1 => 11.0)), 3 => Dict(1 => Dict(1 => 4.0)), 1 => Dict(1 => Dict(1 => 357.0)))), Dict(0 => Dict(0 => Dict(1 => Dict(1 => 543.0)), 4 => Dict(1 => Dict(1 => 84.0)), -1 => Dict(1 => Dict(1 => 543.0)), 2 => Dict(1 => Dict(1 => 11.0)), 3 => Dict(1 => Dict(1 => 4.0)), 1 => Dict(1 => Dict(1 => 357.0))), -1 => Dict(0 => Dict(1 => Dict(1 => 543.0)), 4 => Dict(1 => Dict(1 => 84.0)), -1 => Dict(1 => Dict(1 => 543.0)), 2 => Dict(1 => Dict(1 => 11.0)), 3 => Dict(1 => Dict(1 => 4.0)), 1 => Dict(1 => Dict(1 => 357.0)))), Dict{Int64, BloomFilter}(1 => BloomFilter(1841920, k=17)), Dict{CyclePathAndColors, Float64}(CyclePathAndColors(Bool[0, 1], [1, 1]) => 0.012987012987012988, CyclePathAndColors(Bool[1], [1, 1]) => 1.0, CyclePathAndColors(Bool[1, 0], [1, 1]) => 0.0058823529411764705, CyclePathAndColors(Bool[0, 0], [-1, -1]) => NaN, CyclePathAndColors(Bool[0], [-1, -1]) => 1.0, CyclePathAndColors(Bool[1, 1], [-1, -1]) => 1.0, CyclePathAndColors(Bool[0], [1, 1]) => 1.0, CyclePathAndColors(Bool[1, 1], [1, 1]) => 0.01694915254237288, CyclePathAndColors(Bool["
     ]
    },
    {
     "name": "stdout",
     "output_type": "stream",
     "text": [
      "0, 1], [-1, -1]) => 1.0, CyclePathAndColors(Bool[1], [-1, -1]) => 1.0, CyclePathAndColors(Bool[1, 0], [-1, -1]) => 1.0), 240798, 76853)"
     ]
    },
    {
     "name": "stdout",
     "output_type": "stream",
     "text": [
      "\n",
      "started graphing\n"
     ]
    },
    {
     "data": {
      "image/png": "[encoded data removed]",
      "image/svg+xml": [
       "<?xml version=\"1.0\" encoding=\"utf-8\"?>\n",
       "<svg xmlns=\"http://www.w3.org/2000/svg\" xmlns:xlink=\"http://www.w3.org/1999/xlink\" width=\"600\" height=\"400\" viewBox=\"0 0 2400 1600\">\n",
       "<defs>\n",
       "  <clipPath id=\"clip620\">\n",
       "    <rect x=\"0\" y=\"0\" width=\"2400\" height=\"1600\"/>\n",
       "  </clipPath>\n",
       "</defs>\n",
       "<path clip-path=\"url(#clip620)\" d=\"M0 1600 L2400 1600 L2400 0 L0 0  Z\" fill=\"#ffffff\" fill-rule=\"evenodd\" fill-opacity=\"1\"/>\n",
       "<defs>\n",
       "  <clipPath id=\"clip621\">\n",
       "    <rect x=\"480\" y=\"0\" width=\"1681\" height=\"1600\"/>\n",
       "  </clipPath>\n",
       "</defs>\n",
       "<path clip-path=\"url(#clip620)\" d=\"M188.292 1486.45 L2352.76 1486.45 L2352.76 47.2441 L188.292 47.2441  Z\" fill=\"#ffffff\" fill-rule=\"evenodd\" fill-opacity=\"1\"/>\n",
       "<defs>\n",
       "  <clipPath id=\"clip622\">\n",
       "    <rect x=\"188\" y=\"47\" width=\"2165\" height=\"1440\"/>\n",
       "  </clipPath>\n",
       "</defs>\n",
       "<polyline clip-path=\"url(#clip622)\" style=\"stroke:#000000; stroke-linecap:round; stroke-linejoin:round; stroke-width:2; stroke-opacity:0.1; fill:none\" points=\"1270.52,1486.45 1270.52,47.2441 \"/>\n",
       "<polyline clip-path=\"url(#clip620)\" style=\"stroke:#000000; stroke-linecap:round; stroke-linejoin:round; stroke-width:4; stroke-opacity:1; fill:none\" points=\"188.292,1486.45 2352.76,1486.45 \"/>\n",
       "<polyline clip-path=\"url(#clip620)\" style=\"stroke:#000000; stroke-linecap:round; stroke-linejoin:round; stroke-width:4; stroke-opacity:1; fill:none\" points=\"1270.52,1486.45 1270.52,1467.55 \"/>\n",
       "<path clip-path=\"url(#clip620)\" d=\"M1193.56 1526.86 L1193.56 1512.83 L1197.82 1512.83 L1197.82 1548.85 L1193.56 1548.85 L1193.56 1544.96 Q1192.21 1547.27 1190.15 1548.41 Q1188.12 1549.52 1185.25 1549.52 Q1180.55 1549.52 1177.58 1545.77 Q1174.64 1542.02 1174.64 1535.91 Q1174.64 1529.8 1177.58 1526.05 Q1180.55 1522.3 1185.25 1522.3 Q1188.12 1522.3 1190.15 1523.43 Q1192.21 1524.54 1193.56 1526.86 M1179.04 1535.91 Q1179.04 1540.61 1180.96 1543.29 Q1182.91 1545.95 1186.29 1545.95 Q1189.67 1545.95 1191.61 1543.29 Q1193.56 1540.61 1193.56 1535.91 Q1193.56 1531.21 1191.61 1528.55 Q1189.67 1525.86 1186.29 1525.86 Q1182.91 1525.86 1180.96 1528.55 Q1179.04 1531.21 1179.04 1535.91 Z\" fill=\"#000000\" fill-rule=\"nonzero\" fill-opacity=\"1\" /><path clip-path=\"url(#clip620)\" d=\"M1228.77 1534.82 L1228.77 1536.9 L1209.18 1536.9 Q1209.46 1541.3 1211.82 1543.62 Q1214.2 1545.91 1218.44 1545.91 Q1220.89 1545.91 1223.19 1545.31 Q1225.5 1544.7 1227.77 1543.5 L1227.77 1547.53 Q1225.48 1548.5 1223.07 1549.01 Q1220.66 1549.52 1218.19 1549.52 Q1211.98 1549.52 1208.35 1545.91 Q1204.74 1542.3 1204.74 1536.14 Q1204.74 1529.77 1208.16 1526.05 Q1211.61 1522.3 1217.45 1522.3 Q1222.68 1522.3 1225.71 1525.68 Q1228.77 1529.03 1228.77 1534.82 M1224.51 1533.57 Q1224.46 1530.07 1222.54 1527.99 Q1220.64 1525.91 1217.49 1525.91 Q1213.93 1525.91 1211.77 1527.92 Q1209.64 1529.94 1209.32 1533.59 L1224.51 1533.57 Z\" fill=\"#000000\" fill-rule=\"nonzero\" fill-opacity=\"1\" /><path clip-path=\"url(#clip620)\" d=\"M1257.31 1533.2 L1257.31 1548.85 L1253.05 1548.85 L1253.05 1533.34 Q1253.05 1529.66 1251.61 1527.83 Q1250.18 1526 1247.31 1526 Q1243.86 1526 1241.87 1528.2 Q1239.88 1530.4 1239.88 1534.2 L1239.88 1548.85 L1235.59 1548.85 L1235.59 1522.92 L1239.88 1522.92 L1239.88 1526.95 Q1241.4 1524.61 1243.46 1523.45 Q1245.55 1522.3 1248.26 1522.3 Q1252.72 1522.3 1255.01 1525.07 Q1257.31 1527.83 1257.31 1533.2 Z\" fill=\"#000000\" fill-rule=\"nonzero\" fill-opacity=\"1\" /><path clip-path=\"url(#clip620)\" d=\"M1282.33 1523.69 L1282.33 1527.71 Q1280.52 1526.79 1278.58 1526.32 Q1276.64 1525.86 1274.55 1525.86 Q1271.38 1525.86 1269.78 1526.83 Q1268.21 1527.81 1268.21 1529.75 Q1268.21 1531.23 1269.34 1532.09 Q1270.48 1532.92 1273.9 1533.69 L1275.36 1534.01 Q1279.9 1534.98 1281.8 1536.76 Q1283.72 1538.52 1283.72 1541.7 Q1283.72 1545.31 1280.85 1547.41 Q1278 1549.52 1273 1549.52 Q1270.92 1549.52 1268.65 1549.1 Q1266.4 1548.71 1263.9 1547.9 L1263.9 1543.5 Q1266.26 1544.73 1268.56 1545.35 Q1270.85 1545.95 1273.09 1545.95 Q1276.1 1545.95 1277.72 1544.94 Q1279.34 1543.89 1279.34 1542.02 Q1279.34 1540.28 1278.16 1539.36 Q1277.01 1538.43 1273.05 1537.57 L1271.57 1537.23 Q1267.61 1536.39 1265.85 1534.68 Q1264.09 1532.95 1264.09 1529.94 Q1264.09 1526.28 1266.68 1524.29 Q1269.27 1522.3 1274.04 1522.3 Q1276.4 1522.3 1278.49 1522.64 Q1280.57 1522.99 1282.33 1523.69 Z\" fill=\"#000000\" fill-rule=\"nonzero\" fill-opacity=\"1\" /><path clip-path=\"url(#clip620)\" d=\"M1312.68 1534.82 L1312.68 1536.9 L1293.09 1536.9 Q1293.37 1541.3 1295.73 1543.62 Q1298.12 1545.91 1302.35 1545.91 Q1304.81 1545.91 1307.1 1545.31 Q1309.41 1544.7 1311.68 1543.5 L1311.68 1547.53 Q1309.39 1548.5 1306.98 1549.01 Q1304.57 1549.52 1302.1 1549.52 Q1295.89 1549.52 1292.26 1545.91 Q1288.65 1542.3 1288.65 1536.14 Q1288.65 1529.77 1292.07 1526.05 Q1295.52 1522.3 1301.36 1522.3 Q1306.59 1522.3 1309.62 1525.68 Q1312.68 1529.03 1312.68 1534.82 M1308.42 1533.57 Q1308.37 1530.07 1306.45 1527.99 Q1304.55 1525.91 1301.4 1525.91 Q1297.84 1525.91 1295.69 1527.92 Q1293.56 1529.94 1293.23 1533.59 L1308.42 1533.57 Z\" fill=\"#000000\" fill-rule=\"nonzero\" fill-opacity=\"1\" /><path clip-path=\"url(#clip620)\" d=\"M1339.37 1556.72 L1339.37 1560.03 L1314.74 1560.03 L1314.74 1556.72 L1339.37 1556.72 Z\" fill=\"#000000\" fill-rule=\"nonzero\" fill-opacity=\"1\" /><path clip-path=\"url(#clip620)\" d=\"M1356.82 1518.36 L1345.01 1536.81 L1356.82 1536.81 L1356.82 1518.36 M1355.59 1514.29 L1361.47 1514.29 L1361.47 1536.81 L1366.4 1536.81 L1366.4 1540.7 L1361.47 1540.7 L1361.47 1548.85 L1356.82 1548.85 L1356.82 1540.7 L1341.22 1540.7 L1341.22 1536.19 L1355.59 1514.29 Z\" fill=\"#000000\" fill-rule=\"nonzero\" fill-opacity=\"1\" /><polyline clip-path=\"url(#clip622)\" style=\"stroke:#000000; stroke-linecap:round; stroke-linejoin:round; stroke-width:2; stroke-opacity:0.1; fill:none\" points=\"188.292,1326.54 2352.76,1326.54 \"/>\n",
       "<polyline clip-path=\"url(#clip622)\" style=\"stroke:#000000; stroke-linecap:round; stroke-linejoin:round; stroke-width:2; stroke-opacity:0.1; fill:none\" points=\"188.292,926.758 2352.76,926.758 \"/>\n",
       "<polyline clip-path=\"url(#clip622)\" style=\"stroke:#000000; stroke-linecap:round; stroke-linejoin:round; stroke-width:2; stroke-opacity:0.1; fill:none\" points=\"188.292,526.979 2352.76,526.979 \"/>\n",
       "<polyline clip-path=\"url(#clip622)\" style=\"stroke:#000000; stroke-linecap:round; stroke-linejoin:round; stroke-width:2; stroke-opacity:0.1; fill:none\" points=\"188.292,127.2 2352.76,127.2 \"/>\n",
       "<polyline clip-path=\"url(#clip620)\" style=\"stroke:#000000; stroke-linecap:round; stroke-linejoin:round; stroke-width:4; stroke-opacity:1; fill:none\" points=\"188.292,1486.45 188.292,47.2441 \"/>\n",
       "<polyline clip-path=\"url(#clip620)\" style=\"stroke:#000000; stroke-linecap:round; stroke-linejoin:round; stroke-width:4; stroke-opacity:1; fill:none\" points=\"188.292,1326.54 207.19,1326.54 \"/>\n",
       "<polyline clip-path=\"url(#clip620)\" style=\"stroke:#000000; stroke-linecap:round; stroke-linejoin:round; stroke-width:4; stroke-opacity:1; fill:none\" points=\"188.292,926.758 207.19,926.758 \"/>\n",
       "<polyline clip-path=\"url(#clip620)\" style=\"stroke:#000000; stroke-linecap:round; stroke-linejoin:round; stroke-width:4; stroke-opacity:1; fill:none\" points=\"188.292,526.979 207.19,526.979 \"/>\n",
       "<polyline clip-path=\"url(#clip620)\" style=\"stroke:#000000; stroke-linecap:round; stroke-linejoin:round; stroke-width:4; stroke-opacity:1; fill:none\" points=\"188.292,127.2 207.19,127.2 \"/>\n",
       "<path clip-path=\"url(#clip620)\" d=\"M51.6634 1346.33 L59.3023 1346.33 L59.3023 1319.96 L50.9921 1321.63 L50.9921 1317.37 L59.256 1315.7 L63.9319 1315.7 L63.9319 1346.33 L71.5707 1346.33 L71.5707 1350.26 L51.6634 1350.26 L51.6634 1346.33 Z\" fill=\"#000000\" fill-rule=\"nonzero\" fill-opacity=\"1\" /><path clip-path=\"url(#clip620)\" d=\"M91.0151 1318.78 Q87.404 1318.78 85.5753 1322.35 Q83.7697 1325.89 83.7697 1333.02 Q83.7697 1340.13 85.5753 1343.69 Q87.404 1347.23 91.0151 1347.23 Q94.6493 1347.23 96.4548 1343.69 Q98.2835 1340.13 98.2835 1333.02 Q98.2835 1325.89 96.4548 1322.35 Q94.6493 1318.78 91.0151 1318.78 M91.0151 1315.08 Q96.8252 1315.08 99.8808 1319.69 Q102.959 1324.27 102.959 1333.02 Q102.959 1341.75 99.8808 1346.35 Q96.8252 1350.94 91.0151 1350.94 Q85.2049 1350.94 82.1262 1346.35 Q79.0707 1341.75 79.0707 1333.02 Q79.0707 1324.27 82.1262 1319.69 Q85.2049 1315.08 91.0151 1315.08 Z\" fill=\"#000000\" fill-rule=\"nonzero\" fill-opacity=\"1\" /><path clip-path=\"url(#clip620)\" d=\"M102.959 1309.18 L127.071 1309.18 L127.071 1312.38 L102.959 1312.38 L102.959 1309.18 Z\" fill=\"#000000\" fill-rule=\"nonzero\" fill-opacity=\"1\" /><path clip-path=\"url(#clip620)\" d=\"M135.309 1294.77 L150.223 1294.77 L150.223 1297.97 L138.788 1297.97 L138.788 1304.85 Q139.616 1304.57 140.443 1304.44 Q141.271 1304.29 142.098 1304.29 Q146.8 1304.29 149.546 1306.87 Q152.292 1309.44 152.292 1313.84 Q152.292 1318.38 149.471 1320.9 Q146.65 1323.4 141.515 1323.4 Q139.747 1323.4 137.904 1323.1 Q136.08 1322.8 134.124 1322.2 L134.124 1318.38 Q135.817 1319.3 137.622 1319.75 Q139.428 1320.2 141.44 1320.2 Q144.694 1320.2 146.593 1318.49 Q148.493 1316.78 148.493 1313.84 Q148.493 1310.91 146.593 1309.2 Q144.694 1307.49 141.44 1307.49 Q139.917 1307.49 138.393 1307.83 Q136.889 1308.16 135.309 1308.88 L135.309 1294.77 Z\" fill=\"#000000\" fill-rule=\"nonzero\" fill-opacity=\"1\" /><path clip-path=\"url(#clip620)\" d=\"M81.5866 946.55 L89.2254 946.55 L89.2254 920.184 L80.9153 921.851 L80.9153 917.592 L89.1791 915.925 L93.855 915.925 L93.855 946.55 L101.494 946.55 L101.494 950.485 L81.5866 950.485 L81.5866 946.55 Z\" fill=\"#000000\" fill-rule=\"nonzero\" fill-opacity=\"1\" /><path clip-path=\"url(#clip620)\" d=\"M120.938 919.004 Q117.327 919.004 115.498 922.569 Q113.693 926.11 113.693 933.24 Q113.693 940.346 115.498 943.911 Q117.327 947.453 120.938 947.453 Q124.572 947.453 126.378 943.911 Q128.207 940.346 128.207 933.24 Q128.207 926.11 126.378 922.569 Q124.572 919.004 120.938 919.004 M120.938 915.3 Q126.748 915.3 129.804 919.907 Q132.883 924.49 132.883 933.24 Q132.883 941.967 129.804 946.573 Q126.748 951.156 120.938 951.156 Q115.128 951.156 112.049 946.573 Q108.994 941.967 108.994 933.24 Q108.994 924.49 112.049 919.907 Q115.128 915.3 120.938 915.3 Z\" fill=\"#000000\" fill-rule=\"nonzero\" fill-opacity=\"1\" /><path clip-path=\"url(#clip620)\" d=\"M142.587 897.496 Q139.653 897.496 138.168 900.393 Q136.701 903.27 136.701 909.063 Q136.701 914.837 138.168 917.733 Q139.653 920.611 142.587 920.611 Q145.54 920.611 147.007 917.733 Q148.493 914.837 148.493 909.063 Q148.493 903.27 147.007 900.393 Q145.54 897.496 142.587 897.496 M142.587 894.487 Q147.308 894.487 149.791 898.23 Q152.292 901.954 152.292 909.063 Q152.292 916.153 149.791 919.896 Q147.308 923.62 142.587 923.62 Q137.867 923.62 135.365 919.896 Q132.883 916.153 132.883 909.063 Q132.883 901.954 135.365 898.23 Q137.867 894.487 142.587 894.487 Z\" fill=\"#000000\" fill-rule=\"nonzero\" fill-opacity=\"1\" /><path clip-path=\"url(#clip620)\" d=\"M82.8279 546.771 L90.4667 546.771 L90.4667 520.406 L82.1566 522.072 L82.1566 517.813 L90.4204 516.146 L95.0963 516.146 L95.0963 546.771 L102.735 546.771 L102.735 550.706 L82.8279 550.706 L82.8279 546.771 Z\" fill=\"#000000\" fill-rule=\"nonzero\" fill-opacity=\"1\" /><path clip-path=\"url(#clip620)\" d=\"M122.18 519.225 Q118.568 519.225 116.74 522.79 Q114.934 526.331 114.934 533.461 Q114.934 540.567 116.74 544.132 Q118.568 547.674 122.18 547.674 Q125.814 547.674 127.619 544.132 Q129.448 540.567 129.448 533.461 Q129.448 526.331 127.619 522.79 Q125.814 519.225 122.18 519.225 M122.18 515.521 Q127.99 515.521 131.045 520.128 Q134.124 524.711 134.124 533.461 Q134.124 542.188 131.045 546.794 Q127.99 551.378 122.18 551.378 Q116.369 551.378 113.291 546.794 Q110.235 542.188 110.235 533.461 Q110.235 524.711 113.291 520.128 Q116.369 515.521 122.18 515.521 Z\" fill=\"#000000\" fill-rule=\"nonzero\" fill-opacity=\"1\" /><path clip-path=\"url(#clip620)\" d=\"M135.309 495.216 L150.223 495.216 L150.223 498.413 L138.788 498.413 L138.788 505.297 Q139.616 505.015 140.443 504.883 Q141.271 504.733 142.098 504.733 Q146.8 504.733 149.546 507.309 Q152.292 509.886 152.292 514.287 Q152.292 518.82 149.471 521.34 Q146.65 523.841 141.515 523.841 Q139.747 523.841 137.904 523.54 Q136.08 523.239 134.124 522.638 L134.124 518.82 Q135.817 519.741 137.622 520.193 Q139.428 520.644 141.44 520.644 Q144.694 520.644 146.593 518.932 Q148.493 517.221 148.493 514.287 Q148.493 511.353 146.593 509.641 Q144.694 507.93 141.44 507.93 Q139.917 507.93 138.393 508.268 Q136.889 508.607 135.309 509.322 L135.309 495.216 Z\" fill=\"#000000\" fill-rule=\"nonzero\" fill-opacity=\"1\" /><path clip-path=\"url(#clip620)\" d=\"M58.7728 146.992 L66.4116 146.992 L66.4116 120.627 L58.1015 122.293 L58.1015 118.034 L66.3653 116.367 L71.0412 116.367 L71.0412 146.992 L78.6801 146.992 L78.6801 150.927 L58.7728 150.927 L58.7728 146.992 Z\" fill=\"#000000\" fill-rule=\"nonzero\" fill-opacity=\"1\" /><path clip-path=\"url(#clip620)\" d=\"M98.1244 119.446 Q94.5133 119.446 92.6846 123.011 Q90.8791 126.553 90.8791 133.682 Q90.8791 140.789 92.6846 144.353 Q94.5133 147.895 98.1244 147.895 Q101.759 147.895 103.564 144.353 Q105.393 140.789 105.393 133.682 Q105.393 126.553 103.564 123.011 Q101.759 119.446 98.1244 119.446 M98.1244 115.742 Q103.935 115.742 106.99 120.349 Q110.069 124.932 110.069 133.682 Q110.069 142.409 106.99 147.015 Q103.935 151.599 98.1244 151.599 Q92.3142 151.599 89.2356 147.015 Q86.18 142.409 86.18 133.682 Q86.18 124.932 89.2356 120.349 Q92.3142 115.742 98.1244 115.742 Z\" fill=\"#000000\" fill-rule=\"nonzero\" fill-opacity=\"1\" /><path clip-path=\"url(#clip620)\" d=\"M110.614 120.32 L116.821 120.32 L116.821 98.8977 L110.069 100.252 L110.069 96.7912 L116.783 95.4371 L120.582 95.4371 L120.582 120.32 L126.789 120.32 L126.789 123.517 L110.614 123.517 L110.614 120.32 Z\" fill=\"#000000\" fill-rule=\"nonzero\" fill-opacity=\"1\" /><path clip-path=\"url(#clip620)\" d=\"M142.587 97.9385 Q139.653 97.9385 138.168 100.835 Q136.701 103.712 136.701 109.505 Q136.701 115.279 138.168 118.176 Q139.653 121.053 142.587 121.053 Q145.54 121.053 147.007 118.176 Q148.493 115.279 148.493 109.505 Q148.493 103.712 147.007 100.835 Q145.54 97.9385 142.587 97.9385 M142.587 94.9293 Q147.308 94.9293 149.791 98.672 Q152.292 102.396 152.292 109.505 Q152.292 116.596 149.791 120.339 Q147.308 124.062 142.587 124.062 Q137.867 124.062 135.365 120.339 Q132.883 116.596 132.883 109.505 Q132.883 102.396 135.365 98.672 Q137.867 94.9293 142.587 94.9293 Z\" fill=\"#000000\" fill-rule=\"nonzero\" fill-opacity=\"1\" /><path clip-path=\"url(#clip622)\" d=\"M405.292 995.43 L327.421 995.43 L483.163 995.43 L405.292 995.43 L405.292 971.354 L405.292 995.43  Z\" fill=\"#009af9\" fill-rule=\"evenodd\" fill-opacity=\"1\"/>\n",
       "<polyline clip-path=\"url(#clip622)\" style=\"stroke:#000000; stroke-linecap:round; stroke-linejoin:round; stroke-width:4; stroke-opacity:1; fill:none\" points=\"405.292,995.43 327.421,995.43 483.163,995.43 405.292,995.43 405.292,971.354 405.292,995.43 \"/>\n",
       "<path clip-path=\"url(#clip622)\" d=\"M561.034 971.354 L561.034 970.888 L249.551 970.888 L249.551 971.354 L561.034 971.354 L561.034 970.888 L561.034 971.354  Z\" fill=\"#009af9\" fill-rule=\"evenodd\" fill-opacity=\"1\"/>\n",
       "<polyline clip-path=\"url(#clip622)\" style=\"stroke:#000000; stroke-linecap:round; stroke-linejoin:round; stroke-width:4; stroke-opacity:1; fill:none\" points=\"561.034,971.354 561.034,970.888 249.551,970.888 249.551,971.354 561.034,971.354 561.034,970.888 561.034,971.354 \"/>\n",
       "<path clip-path=\"url(#clip622)\" d=\"M561.034 929.764 L249.551 929.764 L249.551 970.888 L561.034 970.888 L561.034 929.764 L405.292 929.764 L561.034 929.764  Z\" fill=\"#009af9\" fill-rule=\"evenodd\" fill-opacity=\"1\"/>\n",
       "<polyline clip-path=\"url(#clip622)\" style=\"stroke:#000000; stroke-linecap:round; stroke-linejoin:round; stroke-width:4; stroke-opacity:1; fill:none\" points=\"561.034,929.764 249.551,929.764 249.551,970.888 561.034,970.888 561.034,929.764 405.292,929.764 561.034,929.764 \"/>\n",
       "<path clip-path=\"url(#clip622)\" d=\"M405.292 918.825 L327.421 918.825 L483.163 918.825 L405.292 918.825 L405.292 929.764 L405.292 918.825  Z\" fill=\"#009af9\" fill-rule=\"evenodd\" fill-opacity=\"1\"/>\n",
       "<polyline clip-path=\"url(#clip622)\" style=\"stroke:#000000; stroke-linecap:round; stroke-linejoin:round; stroke-width:4; stroke-opacity:1; fill:none\" points=\"405.292,918.825 327.421,918.825 483.163,918.825 405.292,918.825 405.292,929.764 405.292,918.825 \"/>\n",
       "<circle clip-path=\"url(#clip622)\" cx=\"405.292\" cy=\"806.865\" r=\"14.4\" fill=\"#009af9\" fill-rule=\"evenodd\" fill-opacity=\"1\" stroke=\"#000000\" stroke-opacity=\"1\" stroke-width=\"3.2\"/>\n",
       "<circle clip-path=\"url(#clip622)\" cx=\"405.292\" cy=\"806.865\" r=\"14.4\" fill=\"#009af9\" fill-rule=\"evenodd\" fill-opacity=\"1\" stroke=\"#000000\" stroke-opacity=\"1\" stroke-width=\"3.2\"/>\n",
       "<circle clip-path=\"url(#clip622)\" cx=\"405.292\" cy=\"806.865\" r=\"14.4\" fill=\"#009af9\" fill-rule=\"evenodd\" fill-opacity=\"1\" stroke=\"#000000\" stroke-opacity=\"1\" stroke-width=\"3.2\"/>\n",
       "<circle clip-path=\"url(#clip622)\" cx=\"405.292\" cy=\"806.865\" r=\"14.4\" fill=\"#009af9\" fill-rule=\"evenodd\" fill-opacity=\"1\" stroke=\"#000000\" stroke-opacity=\"1\" stroke-width=\"3.2\"/>\n",
       "<polyline clip-path=\"url(#clip622)\" style=\"stroke:#009af9; stroke-linecap:round; stroke-linejoin:round; stroke-width:0; stroke-opacity:1; fill:none\" points=\"405.292,995.43 327.421,995.43 483.163,995.43 405.292,995.43 405.292,971.354 \"/>\n",
       "<polyline clip-path=\"url(#clip622)\" style=\"stroke:#009af9; stroke-linecap:round; stroke-linejoin:round; stroke-width:0; stroke-opacity:1; fill:none\" points=\"561.034,971.354 561.034,970.888 249.551,970.888 249.551,971.354 561.034,971.354 561.034,970.888 \"/>\n",
       "<polyline clip-path=\"url(#clip622)\" style=\"stroke:#009af9; stroke-linecap:round; stroke-linejoin:round; stroke-width:0; stroke-opacity:1; fill:none\" points=\"561.034,929.764 249.551,929.764 249.551,970.888 561.034,970.888 561.034,929.764 405.292,929.764 \"/>\n",
       "<polyline clip-path=\"url(#clip622)\" style=\"stroke:#009af9; stroke-linecap:round; stroke-linejoin:round; stroke-width:0; stroke-opacity:1; fill:none\" points=\"405.292,918.825 327.421,918.825 483.163,918.825 405.292,918.825 405.292,929.764 \"/>\n",
       "<path clip-path=\"url(#clip622)\" d=\"M751.385 1026.13 L673.514 1026.13 L829.256 1026.13 L751.385 1026.13 L751.385 994.214 L751.385 1026.13  Z\" fill=\"#e26f46\" fill-rule=\"evenodd\" fill-opacity=\"1\"/>\n",
       "<polyline clip-path=\"url(#clip622)\" style=\"stroke:#000000; stroke-linecap:round; stroke-linejoin:round; stroke-width:4; stroke-opacity:1; fill:none\" points=\"751.385,1026.13 673.514,1026.13 829.256,1026.13 751.385,1026.13 751.385,994.214 751.385,1026.13 \"/>\n",
       "<path clip-path=\"url(#clip622)\" d=\"M907.127 994.214 L907.127 994.051 L595.643 994.051 L595.643 994.214 L907.127 994.214 L907.127 994.051 L907.127 994.214  Z\" fill=\"#e26f46\" fill-rule=\"evenodd\" fill-opacity=\"1\"/>\n",
       "<polyline clip-path=\"url(#clip622)\" style=\"stroke:#000000; stroke-linecap:round; stroke-linejoin:round; stroke-width:4; stroke-opacity:1; fill:none\" points=\"907.127,994.214 907.127,994.051 595.643,994.051 595.643,994.214 907.127,994.214 907.127,994.051 907.127,994.214 \"/>\n",
       "<path clip-path=\"url(#clip622)\" d=\"M907.127 956.824 L595.643 956.824 L595.643 994.051 L907.127 994.051 L907.127 956.824 L751.385 956.824 L907.127 956.824  Z\" fill=\"#e26f46\" fill-rule=\"evenodd\" fill-opacity=\"1\"/>\n",
       "<polyline clip-path=\"url(#clip622)\" style=\"stroke:#000000; stroke-linecap:round; stroke-linejoin:round; stroke-width:4; stroke-opacity:1; fill:none\" points=\"907.127,956.824 595.643,956.824 595.643,994.051 907.127,994.051 907.127,956.824 751.385,956.824 907.127,956.824 \"/>\n",
       "<path clip-path=\"url(#clip622)\" d=\"M751.385 945.921 L673.514 945.921 L829.256 945.921 L751.385 945.921 L751.385 956.824 L751.385 945.921  Z\" fill=\"#e26f46\" fill-rule=\"evenodd\" fill-opacity=\"1\"/>\n",
       "<polyline clip-path=\"url(#clip622)\" style=\"stroke:#000000; stroke-linecap:round; stroke-linejoin:round; stroke-width:4; stroke-opacity:1; fill:none\" points=\"751.385,945.921 673.514,945.921 829.256,945.921 751.385,945.921 751.385,956.824 751.385,945.921 \"/>\n",
       "<circle clip-path=\"url(#clip622)\" cx=\"751.385\" cy=\"849.918\" r=\"14.4\" fill=\"#e26f46\" fill-rule=\"evenodd\" fill-opacity=\"1\" stroke=\"#000000\" stroke-opacity=\"1\" stroke-width=\"3.2\"/>\n",
       "<circle clip-path=\"url(#clip622)\" cx=\"751.385\" cy=\"849.918\" r=\"14.4\" fill=\"#e26f46\" fill-rule=\"evenodd\" fill-opacity=\"1\" stroke=\"#000000\" stroke-opacity=\"1\" stroke-width=\"3.2\"/>\n",
       "<circle clip-path=\"url(#clip622)\" cx=\"751.385\" cy=\"849.918\" r=\"14.4\" fill=\"#e26f46\" fill-rule=\"evenodd\" fill-opacity=\"1\" stroke=\"#000000\" stroke-opacity=\"1\" stroke-width=\"3.2\"/>\n",
       "<circle clip-path=\"url(#clip622)\" cx=\"751.385\" cy=\"849.918\" r=\"14.4\" fill=\"#e26f46\" fill-rule=\"evenodd\" fill-opacity=\"1\" stroke=\"#000000\" stroke-opacity=\"1\" stroke-width=\"3.2\"/>\n",
       "<polyline clip-path=\"url(#clip622)\" style=\"stroke:#e26f46; stroke-linecap:round; stroke-linejoin:round; stroke-width:0; stroke-opacity:1; fill:none\" points=\"751.385,1026.13 673.514,1026.13 829.256,1026.13 751.385,1026.13 751.385,994.214 \"/>\n",
       "<polyline clip-path=\"url(#clip622)\" style=\"stroke:#e26f46; stroke-linecap:round; stroke-linejoin:round; stroke-width:0; stroke-opacity:1; fill:none\" points=\"907.127,994.214 907.127,994.051 595.643,994.051 595.643,994.214 907.127,994.214 907.127,994.051 \"/>\n",
       "<polyline clip-path=\"url(#clip622)\" style=\"stroke:#e26f46; stroke-linecap:round; stroke-linejoin:round; stroke-width:0; stroke-opacity:1; fill:none\" points=\"907.127,956.824 595.643,956.824 595.643,994.051 907.127,994.051 907.127,956.824 751.385,956.824 \"/>\n",
       "<polyline clip-path=\"url(#clip622)\" style=\"stroke:#e26f46; stroke-linecap:round; stroke-linejoin:round; stroke-width:0; stroke-opacity:1; fill:none\" points=\"751.385,945.921 673.514,945.921 829.256,945.921 751.385,945.921 751.385,956.824 \"/>\n",
       "<path clip-path=\"url(#clip622)\" d=\"M1097.48 1092.95 L1019.61 1092.95 L1175.35 1092.95 L1097.48 1092.95 L1097.48 1047.82 L1097.48 1092.95  Z\" fill=\"#3da44d\" fill-rule=\"evenodd\" fill-opacity=\"1\"/>\n",
       "<polyline clip-path=\"url(#clip622)\" style=\"stroke:#000000; stroke-linecap:round; stroke-linejoin:round; stroke-width:4; stroke-opacity:1; fill:none\" points=\"1097.48,1092.95 1019.61,1092.95 1175.35,1092.95 1097.48,1092.95 1097.48,1047.82 1097.48,1092.95 \"/>\n",
       "<path clip-path=\"url(#clip622)\" d=\"M1253.22 1047.82 L1253.22 1047.82 L941.736 1047.82 L941.736 1047.82 L1253.22 1047.82 L1253.22 1047.82 L1253.22 1047.82  Z\" fill=\"#3da44d\" fill-rule=\"evenodd\" fill-opacity=\"1\"/>\n",
       "<polyline clip-path=\"url(#clip622)\" style=\"stroke:#000000; stroke-linecap:round; stroke-linejoin:round; stroke-width:4; stroke-opacity:1; fill:none\" points=\"1253.22,1047.82 1253.22,1047.82 941.736,1047.82 941.736,1047.82 1253.22,1047.82 1253.22,1047.82 1253.22,1047.82 \"/>\n",
       "<path clip-path=\"url(#clip622)\" d=\"M1253.22 1017.57 L941.736 1017.57 L941.736 1047.82 L1253.22 1047.82 L1253.22 1017.57 L1097.48 1017.57 L1253.22 1017.57  Z\" fill=\"#3da44d\" fill-rule=\"evenodd\" fill-opacity=\"1\"/>\n",
       "<polyline clip-path=\"url(#clip622)\" style=\"stroke:#000000; stroke-linecap:round; stroke-linejoin:round; stroke-width:4; stroke-opacity:1; fill:none\" points=\"1253.22,1017.57 941.736,1017.57 941.736,1047.82 1253.22,1047.82 1253.22,1017.57 1097.48,1017.57 1253.22,1017.57 \"/>\n",
       "<path clip-path=\"url(#clip622)\" d=\"M1097.48 1006.63 L1019.61 1006.63 L1175.35 1006.63 L1097.48 1006.63 L1097.48 1017.57 L1097.48 1006.63  Z\" fill=\"#3da44d\" fill-rule=\"evenodd\" fill-opacity=\"1\"/>\n",
       "<polyline clip-path=\"url(#clip622)\" style=\"stroke:#000000; stroke-linecap:round; stroke-linejoin:round; stroke-width:4; stroke-opacity:1; fill:none\" points=\"1097.48,1006.63 1019.61,1006.63 1175.35,1006.63 1097.48,1006.63 1097.48,1017.57 1097.48,1006.63 \"/>\n",
       "<circle clip-path=\"url(#clip622)\" cx=\"1097.48\" cy=\"906.706\" r=\"14.4\" fill=\"#3da44d\" fill-rule=\"evenodd\" fill-opacity=\"1\" stroke=\"#000000\" stroke-opacity=\"1\" stroke-width=\"3.2\"/>\n",
       "<circle clip-path=\"url(#clip622)\" cx=\"1097.48\" cy=\"906.706\" r=\"14.4\" fill=\"#3da44d\" fill-rule=\"evenodd\" fill-opacity=\"1\" stroke=\"#000000\" stroke-opacity=\"1\" stroke-width=\"3.2\"/>\n",
       "<circle clip-path=\"url(#clip622)\" cx=\"1097.48\" cy=\"906.706\" r=\"14.4\" fill=\"#3da44d\" fill-rule=\"evenodd\" fill-opacity=\"1\" stroke=\"#000000\" stroke-opacity=\"1\" stroke-width=\"3.2\"/>\n",
       "<circle clip-path=\"url(#clip622)\" cx=\"1097.48\" cy=\"906.706\" r=\"14.4\" fill=\"#3da44d\" fill-rule=\"evenodd\" fill-opacity=\"1\" stroke=\"#000000\" stroke-opacity=\"1\" stroke-width=\"3.2\"/>\n",
       "<polyline clip-path=\"url(#clip622)\" style=\"stroke:#3da44d; stroke-linecap:round; stroke-linejoin:round; stroke-width:0; stroke-opacity:1; fill:none\" points=\"1097.48,1092.95 1019.61,1092.95 1175.35,1092.95 1097.48,1092.95 1097.48,1047.82 \"/>\n",
       "<polyline clip-path=\"url(#clip622)\" style=\"stroke:#3da44d; stroke-linecap:round; stroke-linejoin:round; stroke-width:0; stroke-opacity:1; fill:none\" points=\"1253.22,1047.82 1253.22,1047.82 941.736,1047.82 941.736,1047.82 1253.22,1047.82 1253.22,1047.82 \"/>\n",
       "<polyline clip-path=\"url(#clip622)\" style=\"stroke:#3da44d; stroke-linecap:round; stroke-linejoin:round; stroke-width:0; stroke-opacity:1; fill:none\" points=\"1253.22,1017.57 941.736,1017.57 941.736,1047.82 1253.22,1047.82 1253.22,1017.57 1097.48,1017.57 \"/>\n",
       "<polyline clip-path=\"url(#clip622)\" style=\"stroke:#3da44d; stroke-linecap:round; stroke-linejoin:round; stroke-width:0; stroke-opacity:1; fill:none\" points=\"1097.48,1006.63 1019.61,1006.63 1175.35,1006.63 1097.48,1006.63 1097.48,1017.57 \"/>\n",
       "<path clip-path=\"url(#clip622)\" d=\"M1443.57 1052.48 L1365.7 1052.48 L1521.44 1052.48 L1443.57 1052.48 L1443.57 1047.91 L1443.57 1052.48  Z\" fill=\"#c271d2\" fill-rule=\"evenodd\" fill-opacity=\"1\"/>\n",
       "<polyline clip-path=\"url(#clip622)\" style=\"stroke:#000000; stroke-linecap:round; stroke-linejoin:round; stroke-width:4; stroke-opacity:1; fill:none\" points=\"1443.57,1052.48 1365.7,1052.48 1521.44,1052.48 1443.57,1052.48 1443.57,1047.91 1443.57,1052.48 \"/>\n",
       "<path clip-path=\"url(#clip622)\" d=\"M1599.31 1047.91 L1599.31 1047.91 L1287.83 1047.91 L1287.83 1047.91 L1599.31 1047.91 L1599.31 1047.91 L1599.31 1047.91  Z\" fill=\"#c271d2\" fill-rule=\"evenodd\" fill-opacity=\"1\"/>\n",
       "<polyline clip-path=\"url(#clip622)\" style=\"stroke:#000000; stroke-linecap:round; stroke-linejoin:round; stroke-width:4; stroke-opacity:1; fill:none\" points=\"1599.31,1047.91 1599.31,1047.91 1287.83,1047.91 1599.31,1047.91 \"/>\n",
       "<path clip-path=\"url(#clip622)\" d=\"M1599.31 1034.31 L1287.83 1034.31 L1287.83 1047.91 L1599.31 1047.91 L1599.31 1034.31 L1443.57 1034.31 L1599.31 1034.31  Z\" fill=\"#c271d2\" fill-rule=\"evenodd\" fill-opacity=\"1\"/>\n",
       "<polyline clip-path=\"url(#clip622)\" style=\"stroke:#000000; stroke-linecap:round; stroke-linejoin:round; stroke-width:4; stroke-opacity:1; fill:none\" points=\"1599.31,1034.31 1287.83,1034.31 1287.83,1047.91 1599.31,1047.91 1599.31,1034.31 1443.57,1034.31 1599.31,1034.31 \"/>\n",
       "<path clip-path=\"url(#clip622)\" d=\"M1443.57 1033.88 L1365.7 1033.88 L1521.44 1033.88 L1443.57 1033.88 L1443.57 1034.31 L1443.57 1033.88  Z\" fill=\"#c271d2\" fill-rule=\"evenodd\" fill-opacity=\"1\"/>\n",
       "<polyline clip-path=\"url(#clip622)\" style=\"stroke:#000000; stroke-linecap:round; stroke-linejoin:round; stroke-width:4; stroke-opacity:1; fill:none\" points=\"1443.57,1033.88 1365.7,1033.88 1521.44,1033.88 1443.57,1033.88 1443.57,1034.31 1443.57,1033.88 \"/>\n",
       "<circle clip-path=\"url(#clip622)\" cx=\"1443.57\" cy=\"1093.46\" r=\"14.4\" fill=\"#c271d2\" fill-rule=\"evenodd\" fill-opacity=\"1\" stroke=\"#000000\" stroke-opacity=\"1\" stroke-width=\"3.2\"/>\n",
       "<circle clip-path=\"url(#clip622)\" cx=\"1443.57\" cy=\"1006.65\" r=\"14.4\" fill=\"#c271d2\" fill-rule=\"evenodd\" fill-opacity=\"1\" stroke=\"#000000\" stroke-opacity=\"1\" stroke-width=\"3.2\"/>\n",
       "<polyline clip-path=\"url(#clip622)\" style=\"stroke:#c271d2; stroke-linecap:round; stroke-linejoin:round; stroke-width:0; stroke-opacity:1; fill:none\" points=\"1443.57,1052.48 1365.7,1052.48 1521.44,1052.48 1443.57,1052.48 1443.57,1047.91 \"/>\n",
       "<polyline clip-path=\"url(#clip622)\" style=\"stroke:#c271d2; stroke-linecap:round; stroke-linejoin:round; stroke-width:0; stroke-opacity:1; fill:none\" points=\"1599.31,1047.91 1599.31,1047.91 1287.83,1047.91 1599.31,1047.91 \"/>\n",
       "<polyline clip-path=\"url(#clip622)\" style=\"stroke:#c271d2; stroke-linecap:round; stroke-linejoin:round; stroke-width:0; stroke-opacity:1; fill:none\" points=\"1599.31,1034.31 1287.83,1034.31 1287.83,1047.91 1599.31,1047.91 1599.31,1034.31 1443.57,1034.31 \"/>\n",
       "<polyline clip-path=\"url(#clip622)\" style=\"stroke:#c271d2; stroke-linecap:round; stroke-linejoin:round; stroke-width:0; stroke-opacity:1; fill:none\" points=\"1443.57,1033.88 1365.7,1033.88 1521.44,1033.88 1443.57,1033.88 1443.57,1034.31 \"/>\n",
       "<path clip-path=\"url(#clip622)\" d=\"M1789.66 1057.18 L1711.79 1057.18 L1867.53 1057.18 L1789.66 1057.18 L1789.66 1054.75 L1789.66 1057.18  Z\" fill=\"#ac8d18\" fill-rule=\"evenodd\" fill-opacity=\"1\"/>\n",
       "<polyline clip-path=\"url(#clip622)\" style=\"stroke:#000000; stroke-linecap:round; stroke-linejoin:round; stroke-width:4; stroke-opacity:1; fill:none\" points=\"1789.66,1057.18 1711.79,1057.18 1867.53,1057.18 1789.66,1057.18 1789.66,1054.75 1789.66,1057.18 \"/>\n",
       "<path clip-path=\"url(#clip622)\" d=\"M1945.4 1054.75 L1945.4 1047.91 L1633.92 1047.91 L1633.92 1054.75 L1945.4 1054.75 L1945.4 1047.91 L1945.4 1054.75  Z\" fill=\"#ac8d18\" fill-rule=\"evenodd\" fill-opacity=\"1\"/>\n",
       "<polyline clip-path=\"url(#clip622)\" style=\"stroke:#000000; stroke-linecap:round; stroke-linejoin:round; stroke-width:4; stroke-opacity:1; fill:none\" points=\"1945.4,1054.75 1945.4,1047.91 1633.92,1047.91 1633.92,1054.75 1945.4,1054.75 1945.4,1047.91 1945.4,1054.75 \"/>\n",
       "<path clip-path=\"url(#clip622)\" d=\"M1945.4 1047.91 L1633.92 1047.91 L1633.92 1047.91 L1945.4 1047.91 L1945.4 1047.91 L1789.66 1047.91 L1945.4 1047.91  Z\" fill=\"#ac8d18\" fill-rule=\"evenodd\" fill-opacity=\"1\"/>\n",
       "<polyline clip-path=\"url(#clip622)\" style=\"stroke:#000000; stroke-linecap:round; stroke-linejoin:round; stroke-width:4; stroke-opacity:1; fill:none\" points=\"1945.4,1047.91 1633.92,1047.91 1945.4,1047.91 1789.66,1047.91 1945.4,1047.91 \"/>\n",
       "<path clip-path=\"url(#clip622)\" d=\"M1789.66 1047.91 L1711.79 1047.91 L1867.53 1047.91 L1789.66 1047.91 L1789.66 1047.91 L1789.66 1047.91  Z\" fill=\"#ac8d18\" fill-rule=\"evenodd\" fill-opacity=\"1\"/>\n",
       "<polyline clip-path=\"url(#clip622)\" style=\"stroke:#000000; stroke-linecap:round; stroke-linejoin:round; stroke-width:4; stroke-opacity:1; fill:none\" points=\"1789.66,1047.91 1711.79,1047.91 1867.53,1047.91 1789.66,1047.91 \"/>\n",
       "<circle clip-path=\"url(#clip622)\" cx=\"1789.66\" cy=\"1093.46\" r=\"14.4\" fill=\"#ac8d18\" fill-rule=\"evenodd\" fill-opacity=\"1\" stroke=\"#000000\" stroke-opacity=\"1\" stroke-width=\"3.2\"/>\n",
       "<circle clip-path=\"url(#clip622)\" cx=\"1789.66\" cy=\"1033.88\" r=\"14.4\" fill=\"#ac8d18\" fill-rule=\"evenodd\" fill-opacity=\"1\" stroke=\"#000000\" stroke-opacity=\"1\" stroke-width=\"3.2\"/>\n",
       "<circle clip-path=\"url(#clip622)\" cx=\"1789.66\" cy=\"1006.65\" r=\"14.4\" fill=\"#ac8d18\" fill-rule=\"evenodd\" fill-opacity=\"1\" stroke=\"#000000\" stroke-opacity=\"1\" stroke-width=\"3.2\"/>\n",
       "<polyline clip-path=\"url(#clip622)\" style=\"stroke:#ac8d18; stroke-linecap:round; stroke-linejoin:round; stroke-width:0; stroke-opacity:1; fill:none\" points=\"1789.66,1057.18 1711.79,1057.18 1867.53,1057.18 1789.66,1057.18 1789.66,1054.75 \"/>\n",
       "<polyline clip-path=\"url(#clip622)\" style=\"stroke:#ac8d18; stroke-linecap:round; stroke-linejoin:round; stroke-width:0; stroke-opacity:1; fill:none\" points=\"1945.4,1054.75 1945.4,1047.91 1633.92,1047.91 1633.92,1054.75 1945.4,1054.75 1945.4,1047.91 \"/>\n",
       "<polyline clip-path=\"url(#clip622)\" style=\"stroke:#ac8d18; stroke-linecap:round; stroke-linejoin:round; stroke-width:0; stroke-opacity:1; fill:none\" points=\"1945.4,1047.91 1633.92,1047.91 1945.4,1047.91 1789.66,1047.91 \"/>\n",
       "<polyline clip-path=\"url(#clip622)\" style=\"stroke:#ac8d18; stroke-linecap:round; stroke-linejoin:round; stroke-width:0; stroke-opacity:1; fill:none\" points=\"1789.66,1047.91 1711.79,1047.91 1867.53,1047.91 1789.66,1047.91 \"/>\n",
       "<path clip-path=\"url(#clip622)\" d=\"M2135.76 964.016 L2057.88 964.016 L2213.63 964.016 L2135.76 964.016 L2135.76 946.108 L2135.76 964.016  Z\" fill=\"#00a9ad\" fill-rule=\"evenodd\" fill-opacity=\"1\"/>\n",
       "<polyline clip-path=\"url(#clip622)\" style=\"stroke:#000000; stroke-linecap:round; stroke-linejoin:round; stroke-width:4; stroke-opacity:1; fill:none\" points=\"2135.76,964.016 2057.88,964.016 2213.63,964.016 2135.76,964.016 2135.76,946.108 2135.76,964.016 \"/>\n",
       "<path clip-path=\"url(#clip622)\" d=\"M2291.5 946.108 L2291.5 944.7 L1980.01 944.7 L1980.01 946.108 L2291.5 946.108 L2291.5 944.7 L2291.5 946.108  Z\" fill=\"#00a9ad\" fill-rule=\"evenodd\" fill-opacity=\"1\"/>\n",
       "<polyline clip-path=\"url(#clip622)\" style=\"stroke:#000000; stroke-linecap:round; stroke-linejoin:round; stroke-width:4; stroke-opacity:1; fill:none\" points=\"2291.5,946.108 2291.5,944.7 1980.01,944.7 1980.01,946.108 2291.5,946.108 2291.5,944.7 2291.5,946.108 \"/>\n",
       "<path clip-path=\"url(#clip622)\" d=\"M2291.5 926.522 L1980.01 926.522 L1980.01 944.7 L2291.5 944.7 L2291.5 926.522 L2135.76 926.522 L2291.5 926.522  Z\" fill=\"#00a9ad\" fill-rule=\"evenodd\" fill-opacity=\"1\"/>\n",
       "<polyline clip-path=\"url(#clip622)\" style=\"stroke:#000000; stroke-linecap:round; stroke-linejoin:round; stroke-width:4; stroke-opacity:1; fill:none\" points=\"2291.5,926.522 1980.01,926.522 1980.01,944.7 2291.5,944.7 2291.5,926.522 2135.76,926.522 2291.5,926.522 \"/>\n",
       "<path clip-path=\"url(#clip622)\" d=\"M2135.76 916.375 L2057.88 916.375 L2213.63 916.375 L2135.76 916.375 L2135.76 926.522 L2135.76 916.375  Z\" fill=\"#00a9ad\" fill-rule=\"evenodd\" fill-opacity=\"1\"/>\n",
       "<polyline clip-path=\"url(#clip622)\" style=\"stroke:#000000; stroke-linecap:round; stroke-linejoin:round; stroke-width:4; stroke-opacity:1; fill:none\" points=\"2135.76,916.375 2057.88,916.375 2213.63,916.375 2135.76,916.375 2135.76,926.522 2135.76,916.375 \"/>\n",
       "<circle clip-path=\"url(#clip622)\" cx=\"2135.76\" cy=\"692.923\" r=\"14.4\" fill=\"#00a9ad\" fill-rule=\"evenodd\" fill-opacity=\"1\" stroke=\"#000000\" stroke-opacity=\"1\" stroke-width=\"3.2\"/>\n",
       "<circle clip-path=\"url(#clip622)\" cx=\"2135.76\" cy=\"692.923\" r=\"14.4\" fill=\"#00a9ad\" fill-rule=\"evenodd\" fill-opacity=\"1\" stroke=\"#000000\" stroke-opacity=\"1\" stroke-width=\"3.2\"/>\n",
       "<circle clip-path=\"url(#clip622)\" cx=\"2135.76\" cy=\"692.923\" r=\"14.4\" fill=\"#00a9ad\" fill-rule=\"evenodd\" fill-opacity=\"1\" stroke=\"#000000\" stroke-opacity=\"1\" stroke-width=\"3.2\"/>\n",
       "<circle clip-path=\"url(#clip622)\" cx=\"2135.76\" cy=\"692.923\" r=\"14.4\" fill=\"#00a9ad\" fill-rule=\"evenodd\" fill-opacity=\"1\" stroke=\"#000000\" stroke-opacity=\"1\" stroke-width=\"3.2\"/>\n",
       "<polyline clip-path=\"url(#clip622)\" style=\"stroke:#00a9ad; stroke-linecap:round; stroke-linejoin:round; stroke-width:0; stroke-opacity:1; fill:none\" points=\"2135.76,964.016 2057.88,964.016 2213.63,964.016 2135.76,964.016 2135.76,946.108 \"/>\n",
       "<polyline clip-path=\"url(#clip622)\" style=\"stroke:#00a9ad; stroke-linecap:round; stroke-linejoin:round; stroke-width:0; stroke-opacity:1; fill:none\" points=\"2291.5,946.108 2291.5,944.7 1980.01,944.7 1980.01,946.108 2291.5,946.108 2291.5,944.7 \"/>\n",
       "<polyline clip-path=\"url(#clip622)\" style=\"stroke:#00a9ad; stroke-linecap:round; stroke-linejoin:round; stroke-width:0; stroke-opacity:1; fill:none\" points=\"2291.5,926.522 1980.01,926.522 1980.01,944.7 2291.5,944.7 2291.5,926.522 2135.76,926.522 \"/>\n",
       "<polyline clip-path=\"url(#clip622)\" style=\"stroke:#00a9ad; stroke-linecap:round; stroke-linejoin:round; stroke-width:0; stroke-opacity:1; fill:none\" points=\"2135.76,916.375 2057.88,916.375 2213.63,916.375 2135.76,916.375 2135.76,926.522 \"/>\n",
       "<path clip-path=\"url(#clip620)\" d=\"M1682.52 458.098 L2280.61 458.098 L2280.61 95.2176 L1682.52 95.2176  Z\" fill=\"#ffffff\" fill-rule=\"evenodd\" fill-opacity=\"1\"/>\n",
       "<polyline clip-path=\"url(#clip620)\" style=\"stroke:#000000; stroke-linecap:round; stroke-linejoin:round; stroke-width:4; stroke-opacity:1; fill:none\" points=\"1682.52,458.098 2280.61,458.098 2280.61,95.2176 1682.52,95.2176 1682.52,458.098 \"/>\n",
       "<path clip-path=\"url(#clip620)\" d=\"M1706.57 167.794 L1850.87 167.794 L1850.87 126.322 L1706.57 126.322 L1706.57 167.794  Z\" fill=\"#009af9\" fill-rule=\"evenodd\" fill-opacity=\"1\"/>\n",
       "<polyline clip-path=\"url(#clip620)\" style=\"stroke:#000000; stroke-linecap:round; stroke-linejoin:round; stroke-width:4; stroke-opacity:1; fill:none\" points=\"1706.57,167.794 1850.87,167.794 1850.87,126.322 1706.57,126.322 1706.57,167.794 \"/>\n",
       "<path clip-path=\"url(#clip620)\" d=\"M1879.59 133.62 L1879.59 160.495 L1885.24 160.495 Q1892.39 160.495 1895.7 157.254 Q1899.04 154.014 1899.04 147.023 Q1899.04 140.078 1895.7 136.861 Q1892.39 133.62 1885.24 133.62 L1879.59 133.62 M1874.92 129.778 L1884.52 129.778 Q1894.57 129.778 1899.27 133.967 Q1903.97 138.134 1903.97 147.023 Q1903.97 155.958 1899.24 160.148 Q1894.52 164.338 1884.52 164.338 L1874.92 164.338 L1874.92 129.778 Z\" fill=\"#000000\" fill-rule=\"nonzero\" fill-opacity=\"1\" /><path clip-path=\"url(#clip620)\" d=\"M1933.41 150.31 L1933.41 152.393 L1913.83 152.393 Q1914.11 156.791 1916.47 159.106 Q1918.85 161.398 1923.09 161.398 Q1925.54 161.398 1927.83 160.796 Q1930.15 160.194 1932.42 158.99 L1932.42 163.018 Q1930.12 163.99 1927.72 164.5 Q1925.31 165.009 1922.83 165.009 Q1916.63 165.009 1912.99 161.398 Q1909.38 157.787 1909.38 151.629 Q1909.38 145.264 1912.81 141.537 Q1916.26 137.787 1922.09 137.787 Q1927.32 137.787 1930.36 141.166 Q1933.41 144.523 1933.41 150.31 M1929.15 149.06 Q1929.11 145.565 1927.18 143.481 Q1925.29 141.398 1922.14 141.398 Q1918.57 141.398 1916.42 143.412 Q1914.29 145.426 1913.97 149.083 L1929.15 149.06 Z\" fill=\"#000000\" fill-rule=\"nonzero\" fill-opacity=\"1\" /><path clip-path=\"url(#clip620)\" d=\"M1957.46 151.074 Q1957.46 146.444 1955.54 143.898 Q1953.64 141.352 1950.19 141.352 Q1946.77 141.352 1944.85 143.898 Q1942.95 146.444 1942.95 151.074 Q1942.95 155.68 1944.85 158.226 Q1946.77 160.773 1950.19 160.773 Q1953.64 160.773 1955.54 158.226 Q1957.46 155.68 1957.46 151.074 M1961.72 161.12 Q1961.72 167.74 1958.78 170.958 Q1955.84 174.199 1949.78 174.199 Q1947.53 174.199 1945.54 173.851 Q1943.55 173.527 1941.67 172.833 L1941.67 168.689 Q1943.55 169.708 1945.38 170.194 Q1947.21 170.68 1949.11 170.68 Q1953.3 170.68 1955.38 168.481 Q1957.46 166.305 1957.46 161.884 L1957.46 159.777 Q1956.14 162.069 1954.08 163.203 Q1952.02 164.338 1949.15 164.338 Q1944.38 164.338 1941.47 160.703 Q1938.55 157.069 1938.55 151.074 Q1938.55 145.055 1941.47 141.421 Q1944.38 137.787 1949.15 137.787 Q1952.02 137.787 1954.08 138.921 Q1956.14 140.055 1957.46 142.347 L1957.46 138.412 L1961.72 138.412 L1961.72 161.12 Z\" fill=\"#000000\" fill-rule=\"nonzero\" fill-opacity=\"1\" /><path clip-path=\"url(#clip620)\" d=\"M1985.52 142.393 Q1984.8 141.977 1983.94 141.791 Q1983.11 141.583 1982.09 141.583 Q1978.48 141.583 1976.54 143.944 Q1974.61 146.282 1974.61 150.68 L1974.61 164.338 L1970.33 164.338 L1970.33 138.412 L1974.61 138.412 L1974.61 142.44 Q1975.96 140.078 1978.11 138.944 Q1980.26 137.787 1983.34 137.787 Q1983.78 137.787 1984.31 137.856 Q1984.85 137.903 1985.49 138.018 L1985.52 142.393 Z\" fill=\"#000000\" fill-rule=\"nonzero\" fill-opacity=\"1\" /><path clip-path=\"url(#clip620)\" d=\"M2011.12 150.31 L2011.12 152.393 L1991.54 152.393 Q1991.81 156.791 1994.17 159.106 Q1996.56 161.398 2000.8 161.398 Q2003.25 161.398 2005.54 160.796 Q2007.86 160.194 2010.12 158.99 L2010.12 163.018 Q2007.83 163.99 2005.42 164.5 Q2003.02 165.009 2000.54 165.009 Q1994.34 165.009 1990.7 161.398 Q1987.09 157.787 1987.09 151.629 Q1987.09 145.264 1990.52 141.537 Q1993.97 137.787 1999.8 137.787 Q2005.03 137.787 2008.06 141.166 Q2011.12 144.523 2011.12 150.31 M2006.86 149.06 Q2006.81 145.565 2004.89 143.481 Q2002.99 141.398 1999.85 141.398 Q1996.28 141.398 1994.13 143.412 Q1992 145.426 1991.67 149.083 L2006.86 149.06 Z\" fill=\"#000000\" fill-rule=\"nonzero\" fill-opacity=\"1\" /><path clip-path=\"url(#clip620)\" d=\"M2040.29 150.31 L2040.29 152.393 L2020.7 152.393 Q2020.98 156.791 2023.34 159.106 Q2025.73 161.398 2029.96 161.398 Q2032.42 161.398 2034.71 160.796 Q2037.02 160.194 2039.29 158.99 L2039.29 163.018 Q2037 163.99 2034.59 164.5 Q2032.18 165.009 2029.71 165.009 Q2023.5 165.009 2019.87 161.398 Q2016.26 157.787 2016.26 151.629 Q2016.26 145.264 2019.68 141.537 Q2023.13 137.787 2028.97 137.787 Q2034.2 137.787 2037.23 141.166 Q2040.29 144.523 2040.29 150.31 M2036.03 149.06 Q2035.98 145.565 2034.06 143.481 Q2032.16 141.398 2029.01 141.398 Q2025.45 141.398 2023.29 143.412 Q2021.17 145.426 2020.84 149.083 L2036.03 149.06 Z\" fill=\"#000000\" fill-rule=\"nonzero\" fill-opacity=\"1\" /><path clip-path=\"url(#clip620)\" d=\"M1706.57 219.634 L1850.87 219.634 L1850.87 178.162 L1706.57 178.162 L1706.57 219.634  Z\" fill=\"#e26f46\" fill-rule=\"evenodd\" fill-opacity=\"1\"/>\n",
       "<polyline clip-path=\"url(#clip620)\" style=\"stroke:#000000; stroke-linecap:round; stroke-linejoin:round; stroke-width:4; stroke-opacity:1; fill:none\" points=\"1706.57,219.634 1850.87,219.634 1850.87,178.162 1706.57,178.162 1706.57,219.634 \"/>\n",
       "<path clip-path=\"url(#clip620)\" d=\"M1879.59 185.46 L1879.59 212.335 L1885.24 212.335 Q1892.39 212.335 1895.7 209.094 Q1899.04 205.854 1899.04 198.863 Q1899.04 191.918 1895.7 188.701 Q1892.39 185.46 1885.24 185.46 L1879.59 185.46 M1874.92 181.618 L1884.52 181.618 Q1894.57 181.618 1899.27 185.807 Q1903.97 189.974 1903.97 198.863 Q1903.97 207.798 1899.24 211.988 Q1894.52 216.178 1884.52 216.178 L1874.92 216.178 L1874.92 181.618 Z\" fill=\"#000000\" fill-rule=\"nonzero\" fill-opacity=\"1\" /><path clip-path=\"url(#clip620)\" d=\"M1911.24 190.252 L1915.49 190.252 L1915.49 216.178 L1911.24 216.178 L1911.24 190.252 M1911.24 180.159 L1915.49 180.159 L1915.49 185.553 L1911.24 185.553 L1911.24 180.159 Z\" fill=\"#000000\" fill-rule=\"nonzero\" fill-opacity=\"1\" /><path clip-path=\"url(#clip620)\" d=\"M1939.43 194.233 Q1938.71 193.817 1937.86 193.631 Q1937.02 193.423 1936 193.423 Q1932.39 193.423 1930.45 195.784 Q1928.53 198.122 1928.53 202.52 L1928.53 216.178 L1924.24 216.178 L1924.24 190.252 L1928.53 190.252 L1928.53 194.28 Q1929.87 191.918 1932.02 190.784 Q1934.17 189.627 1937.25 189.627 Q1937.69 189.627 1938.23 189.696 Q1938.76 189.743 1939.41 189.858 L1939.43 194.233 Z\" fill=\"#000000\" fill-rule=\"nonzero\" fill-opacity=\"1\" /><path clip-path=\"url(#clip620)\" d=\"M1965.03 202.15 L1965.03 204.233 L1945.45 204.233 Q1945.73 208.631 1948.09 210.946 Q1950.47 213.238 1954.71 213.238 Q1957.16 213.238 1959.45 212.636 Q1961.77 212.034 1964.04 210.83 L1964.04 214.858 Q1961.74 215.83 1959.34 216.34 Q1956.93 216.849 1954.45 216.849 Q1948.25 216.849 1944.61 213.238 Q1941 209.627 1941 203.469 Q1941 197.104 1944.43 193.377 Q1947.88 189.627 1953.71 189.627 Q1958.94 189.627 1961.98 193.006 Q1965.03 196.363 1965.03 202.15 M1960.77 200.9 Q1960.73 197.405 1958.8 195.321 Q1956.91 193.238 1953.76 193.238 Q1950.19 193.238 1948.04 195.252 Q1945.91 197.266 1945.59 200.923 L1960.77 200.9 Z\" fill=\"#000000\" fill-rule=\"nonzero\" fill-opacity=\"1\" /><path clip-path=\"url(#clip620)\" d=\"M1990.68 191.247 L1990.68 195.229 Q1988.87 194.233 1987.05 193.747 Q1985.24 193.238 1983.39 193.238 Q1979.24 193.238 1976.95 195.877 Q1974.66 198.492 1974.66 203.238 Q1974.66 207.983 1976.95 210.622 Q1979.24 213.238 1983.39 213.238 Q1985.24 213.238 1987.05 212.752 Q1988.87 212.242 1990.68 211.247 L1990.68 215.182 Q1988.9 216.016 1986.98 216.432 Q1985.08 216.849 1982.92 216.849 Q1977.07 216.849 1973.62 213.168 Q1970.17 209.488 1970.17 203.238 Q1970.17 196.895 1973.64 193.261 Q1977.14 189.627 1983.2 189.627 Q1985.17 189.627 1987.05 190.043 Q1988.92 190.437 1990.68 191.247 Z\" fill=\"#000000\" fill-rule=\"nonzero\" fill-opacity=\"1\" /><path clip-path=\"url(#clip620)\" d=\"M2002.3 182.891 L2002.3 190.252 L2011.07 190.252 L2011.07 193.562 L2002.3 193.562 L2002.3 207.636 Q2002.3 210.807 2003.16 211.71 Q2004.04 212.613 2006.7 212.613 L2011.07 212.613 L2011.07 216.178 L2006.7 216.178 Q2001.77 216.178 1999.89 214.349 Q1998.02 212.497 1998.02 207.636 L1998.02 193.562 L1994.89 193.562 L1994.89 190.252 L1998.02 190.252 L1998.02 182.891 L2002.3 182.891 Z\" fill=\"#000000\" fill-rule=\"nonzero\" fill-opacity=\"1\" /><path clip-path=\"url(#clip620)\" d=\"M2038.85 202.15 L2038.85 204.233 L2019.27 204.233 Q2019.54 208.631 2021.91 210.946 Q2024.29 213.238 2028.53 213.238 Q2030.98 213.238 2033.27 212.636 Q2035.59 212.034 2037.85 210.83 L2037.85 214.858 Q2035.56 215.83 2033.16 216.34 Q2030.75 216.849 2028.27 216.849 Q2022.07 216.849 2018.43 213.238 Q2014.82 209.627 2014.82 203.469 Q2014.82 197.104 2018.25 193.377 Q2021.7 189.627 2027.53 189.627 Q2032.76 189.627 2035.79 193.006 Q2038.85 196.363 2038.85 202.15 M2034.59 200.9 Q2034.54 197.405 2032.62 195.321 Q2030.73 193.238 2027.58 193.238 Q2024.01 193.238 2021.86 195.252 Q2019.73 197.266 2019.41 200.923 L2034.59 200.9 Z\" fill=\"#000000\" fill-rule=\"nonzero\" fill-opacity=\"1\" /><path clip-path=\"url(#clip620)\" d=\"M2062.9 194.187 L2062.9 180.159 L2067.16 180.159 L2067.16 216.178 L2062.9 216.178 L2062.9 212.289 Q2061.56 214.603 2059.5 215.738 Q2057.46 216.849 2054.59 216.849 Q2049.89 216.849 2046.93 213.099 Q2043.99 209.349 2043.99 203.238 Q2043.99 197.127 2046.93 193.377 Q2049.89 189.627 2054.59 189.627 Q2057.46 189.627 2059.5 190.761 Q2061.56 191.872 2062.9 194.187 M2048.39 203.238 Q2048.39 207.937 2050.31 210.622 Q2052.25 213.284 2055.63 213.284 Q2059.01 213.284 2060.96 210.622 Q2062.9 207.937 2062.9 203.238 Q2062.9 198.539 2060.96 195.877 Q2059.01 193.192 2055.63 193.192 Q2052.25 193.192 2050.31 195.877 Q2048.39 198.539 2048.39 203.238 Z\" fill=\"#000000\" fill-rule=\"nonzero\" fill-opacity=\"1\" /><path clip-path=\"url(#clip620)\" d=\"M2095.86 185.46 L2095.86 212.335 L2101.51 212.335 Q2108.66 212.335 2111.97 209.094 Q2115.31 205.854 2115.31 198.863 Q2115.31 191.918 2111.97 188.701 Q2108.66 185.46 2101.51 185.46 L2095.86 185.46 M2091.19 181.618 L2100.79 181.618 Q2110.84 181.618 2115.54 185.807 Q2120.24 189.974 2120.24 198.863 Q2120.24 207.798 2115.52 211.988 Q2110.79 216.178 2100.79 216.178 L2091.19 216.178 L2091.19 181.618 Z\" fill=\"#000000\" fill-rule=\"nonzero\" fill-opacity=\"1\" /><path clip-path=\"url(#clip620)\" d=\"M2149.68 202.15 L2149.68 204.233 L2130.1 204.233 Q2130.38 208.631 2132.74 210.946 Q2135.12 213.238 2139.36 213.238 Q2141.81 213.238 2144.1 212.636 Q2146.42 212.034 2148.69 210.83 L2148.69 214.858 Q2146.4 215.83 2143.99 216.34 Q2141.58 216.849 2139.1 216.849 Q2132.9 216.849 2129.27 213.238 Q2125.66 209.627 2125.66 203.469 Q2125.66 197.104 2129.08 193.377 Q2132.53 189.627 2138.36 189.627 Q2143.6 189.627 2146.63 193.006 Q2149.68 196.363 2149.68 202.15 M2145.42 200.9 Q2145.38 197.405 2143.46 195.321 Q2141.56 193.238 2138.41 193.238 Q2134.85 193.238 2132.69 195.252 Q2130.56 197.266 2130.24 200.923 L2145.42 200.9 Z\" fill=\"#000000\" fill-rule=\"nonzero\" fill-opacity=\"1\" /><path clip-path=\"url(#clip620)\" d=\"M2173.73 202.914 Q2173.73 198.284 2171.81 195.738 Q2169.91 193.192 2166.47 193.192 Q2163.04 193.192 2161.12 195.738 Q2159.22 198.284 2159.22 202.914 Q2159.22 207.52 2161.12 210.066 Q2163.04 212.613 2166.47 212.613 Q2169.91 212.613 2171.81 210.066 Q2173.73 207.52 2173.73 202.914 M2177.99 212.96 Q2177.99 219.58 2175.05 222.798 Q2172.11 226.039 2166.05 226.039 Q2163.8 226.039 2161.81 225.691 Q2159.82 225.367 2157.95 224.673 L2157.95 220.529 Q2159.82 221.548 2161.65 222.034 Q2163.48 222.52 2165.38 222.52 Q2169.57 222.52 2171.65 220.321 Q2173.73 218.145 2173.73 213.724 L2173.73 211.617 Q2172.41 213.909 2170.35 215.043 Q2168.29 216.178 2165.42 216.178 Q2160.66 216.178 2157.74 212.543 Q2154.82 208.909 2154.82 202.914 Q2154.82 196.895 2157.74 193.261 Q2160.66 189.627 2165.42 189.627 Q2168.29 189.627 2170.35 190.761 Q2172.41 191.895 2173.73 194.187 L2173.73 190.252 L2177.99 190.252 L2177.99 212.96 Z\" fill=\"#000000\" fill-rule=\"nonzero\" fill-opacity=\"1\" /><path clip-path=\"url(#clip620)\" d=\"M2201.79 194.233 Q2201.07 193.817 2200.22 193.631 Q2199.38 193.423 2198.36 193.423 Q2194.75 193.423 2192.81 195.784 Q2190.89 198.122 2190.89 202.52 L2190.89 216.178 L2186.6 216.178 L2186.6 190.252 L2190.89 190.252 L2190.89 194.28 Q2192.23 191.918 2194.38 190.784 Q2196.53 189.627 2199.61 189.627 Q2200.05 189.627 2200.59 189.696 Q2201.12 189.743 2201.77 189.858 L2201.79 194.233 Z\" fill=\"#000000\" fill-rule=\"nonzero\" fill-opacity=\"1\" /><path clip-path=\"url(#clip620)\" d=\"M2227.39 202.15 L2227.39 204.233 L2207.81 204.233 Q2208.09 208.631 2210.45 210.946 Q2212.83 213.238 2217.07 213.238 Q2219.52 213.238 2221.81 212.636 Q2224.13 212.034 2226.4 210.83 L2226.4 214.858 Q2224.1 215.83 2221.7 216.34 Q2219.29 216.849 2216.81 216.849 Q2210.61 216.849 2206.97 213.238 Q2203.36 209.627 2203.36 203.469 Q2203.36 197.104 2206.79 193.377 Q2210.24 189.627 2216.07 189.627 Q2221.3 189.627 2224.34 193.006 Q2227.39 196.363 2227.39 202.15 M2223.13 200.9 Q2223.09 197.405 2221.16 195.321 Q2219.27 193.238 2216.12 193.238 Q2212.55 193.238 2210.4 195.252 Q2208.27 197.266 2207.95 200.923 L2223.13 200.9 Z\" fill=\"#000000\" fill-rule=\"nonzero\" fill-opacity=\"1\" /><path clip-path=\"url(#clip620)\" d=\"M2256.56 202.15 L2256.56 204.233 L2236.97 204.233 Q2237.25 208.631 2239.61 210.946 Q2242 213.238 2246.23 213.238 Q2248.69 213.238 2250.98 212.636 Q2253.29 212.034 2255.56 210.83 L2255.56 214.858 Q2253.27 215.83 2250.86 216.34 Q2248.46 216.849 2245.98 216.849 Q2239.78 216.849 2236.14 213.238 Q2232.53 209.627 2232.53 203.469 Q2232.53 197.104 2235.96 193.377 Q2239.4 189.627 2245.24 189.627 Q2250.47 189.627 2253.5 193.006 Q2256.56 196.363 2256.56 202.15 M2252.3 200.9 Q2252.25 197.405 2250.33 195.321 Q2248.43 193.238 2245.28 193.238 Q2241.72 193.238 2239.57 195.252 Q2237.44 197.266 2237.11 200.923 L2252.3 200.9 Z\" fill=\"#000000\" fill-rule=\"nonzero\" fill-opacity=\"1\" /><path clip-path=\"url(#clip620)\" d=\"M1706.57 271.474 L1850.87 271.474 L1850.87 230.002 L1706.57 230.002 L1706.57 271.474  Z\" fill=\"#3da44d\" fill-rule=\"evenodd\" fill-opacity=\"1\"/>\n",
       "<polyline clip-path=\"url(#clip620)\" style=\"stroke:#000000; stroke-linecap:round; stroke-linejoin:round; stroke-width:4; stroke-opacity:1; fill:none\" points=\"1706.57,271.474 1850.87,271.474 1850.87,230.002 1706.57,230.002 1706.57,271.474 \"/>\n",
       "<path clip-path=\"url(#clip620)\" d=\"M1874.92 233.458 L1879.59 233.458 L1879.59 247.624 L1896.58 247.624 L1896.58 233.458 L1901.26 233.458 L1901.26 268.018 L1896.58 268.018 L1896.58 251.559 L1879.59 251.559 L1879.59 268.018 L1874.92 268.018 L1874.92 233.458 Z\" fill=\"#000000\" fill-rule=\"nonzero\" fill-opacity=\"1\" /><path clip-path=\"url(#clip620)\" d=\"M1922.16 254.985 Q1917 254.985 1915.01 256.166 Q1913.02 257.346 1913.02 260.194 Q1913.02 262.462 1914.5 263.805 Q1916 265.124 1918.57 265.124 Q1922.11 265.124 1924.24 262.624 Q1926.4 260.101 1926.4 255.934 L1926.4 254.985 L1922.16 254.985 M1930.66 253.226 L1930.66 268.018 L1926.4 268.018 L1926.4 264.082 Q1924.94 266.443 1922.76 267.578 Q1920.59 268.689 1917.44 268.689 Q1913.46 268.689 1911.1 266.467 Q1908.76 264.221 1908.76 260.471 Q1908.76 256.096 1911.68 253.874 Q1914.61 251.652 1920.43 251.652 L1926.4 251.652 L1926.4 251.235 Q1926.4 248.295 1924.45 246.698 Q1922.53 245.078 1919.04 245.078 Q1916.81 245.078 1914.71 245.61 Q1912.6 246.143 1910.66 247.207 L1910.66 243.272 Q1912.99 242.37 1915.19 241.93 Q1917.39 241.467 1919.48 241.467 Q1925.1 241.467 1927.88 244.383 Q1930.66 247.3 1930.66 253.226 Z\" fill=\"#000000\" fill-rule=\"nonzero\" fill-opacity=\"1\" /><path clip-path=\"url(#clip620)\" d=\"M1955.96 242.856 L1955.96 246.883 Q1954.15 245.957 1952.21 245.495 Q1950.26 245.032 1948.18 245.032 Q1945.01 245.032 1943.41 246.004 Q1941.84 246.976 1941.84 248.92 Q1941.84 250.402 1942.97 251.258 Q1944.11 252.092 1947.53 252.856 L1948.99 253.18 Q1953.53 254.152 1955.42 255.934 Q1957.35 257.694 1957.35 260.865 Q1957.35 264.476 1954.48 266.582 Q1951.63 268.689 1946.63 268.689 Q1944.55 268.689 1942.28 268.272 Q1940.03 267.879 1937.53 267.068 L1937.53 262.67 Q1939.89 263.897 1942.18 264.522 Q1944.48 265.124 1946.72 265.124 Q1949.73 265.124 1951.35 264.106 Q1952.97 263.064 1952.97 261.189 Q1952.97 259.453 1951.79 258.527 Q1950.63 257.601 1946.67 256.744 L1945.19 256.397 Q1941.24 255.564 1939.48 253.851 Q1937.72 252.115 1937.72 249.106 Q1937.72 245.448 1940.31 243.458 Q1942.9 241.467 1947.67 241.467 Q1950.03 241.467 1952.11 241.814 Q1954.2 242.161 1955.96 242.856 Z\" fill=\"#000000\" fill-rule=\"nonzero\" fill-opacity=\"1\" /><path clip-path=\"url(#clip620)\" d=\"M1985.68 252.369 L1985.68 268.018 L1981.42 268.018 L1981.42 252.508 Q1981.42 248.828 1979.98 246.999 Q1978.55 245.17 1975.68 245.17 Q1972.23 245.17 1970.24 247.37 Q1968.25 249.569 1968.25 253.365 L1968.25 268.018 L1963.97 268.018 L1963.97 231.999 L1968.25 231.999 L1968.25 246.12 Q1969.78 243.782 1971.84 242.624 Q1973.92 241.467 1976.63 241.467 Q1981.1 241.467 1983.39 244.245 Q1985.68 246.999 1985.68 252.369 Z\" fill=\"#000000\" fill-rule=\"nonzero\" fill-opacity=\"1\" /><path clip-path=\"url(#clip620)\" d=\"M1706.57 323.314 L1850.87 323.314 L1850.87 281.842 L1706.57 281.842 L1706.57 323.314  Z\" fill=\"#c271d2\" fill-rule=\"evenodd\" fill-opacity=\"1\"/>\n",
       "<polyline clip-path=\"url(#clip620)\" style=\"stroke:#000000; stroke-linecap:round; stroke-linejoin:round; stroke-width:4; stroke-opacity:1; fill:none\" points=\"1706.57,323.314 1850.87,323.314 1850.87,281.842 1706.57,281.842 1706.57,323.314 \"/>\n",
       "<path clip-path=\"url(#clip620)\" d=\"M1874.92 285.298 L1879.59 285.298 L1879.59 315.922 L1896.42 315.922 L1896.42 319.858 L1874.92 319.858 L1874.92 285.298 Z\" fill=\"#000000\" fill-rule=\"nonzero\" fill-opacity=\"1\" /><path clip-path=\"url(#clip620)\" d=\"M1912.93 306.825 Q1907.76 306.825 1905.77 308.006 Q1903.78 309.186 1903.78 312.034 Q1903.78 314.302 1905.26 315.645 Q1906.77 316.964 1909.34 316.964 Q1912.88 316.964 1915.01 314.464 Q1917.16 311.941 1917.16 307.774 L1917.16 306.825 L1912.93 306.825 M1921.42 305.066 L1921.42 319.858 L1917.16 319.858 L1917.16 315.922 Q1915.7 318.283 1913.53 319.418 Q1911.35 320.529 1908.2 320.529 Q1904.22 320.529 1901.86 318.307 Q1899.52 316.061 1899.52 312.311 Q1899.52 307.936 1902.44 305.714 Q1905.38 303.492 1911.19 303.492 L1917.16 303.492 L1917.16 303.075 Q1917.16 300.135 1915.22 298.538 Q1913.3 296.918 1909.8 296.918 Q1907.58 296.918 1905.47 297.45 Q1903.36 297.983 1901.42 299.047 L1901.42 295.112 Q1903.76 294.21 1905.96 293.77 Q1908.16 293.307 1910.24 293.307 Q1915.86 293.307 1918.64 296.223 Q1921.42 299.14 1921.42 305.066 Z\" fill=\"#000000\" fill-rule=\"nonzero\" fill-opacity=\"1\" /><path clip-path=\"url(#clip620)\" d=\"M1948.8 306.918 Q1948.8 302.219 1946.86 299.557 Q1944.94 296.872 1941.56 296.872 Q1938.18 296.872 1936.24 299.557 Q1934.31 302.219 1934.31 306.918 Q1934.31 311.617 1936.24 314.302 Q1938.18 316.964 1941.56 316.964 Q1944.94 316.964 1946.86 314.302 Q1948.8 311.617 1948.8 306.918 M1934.31 297.867 Q1935.66 295.552 1937.69 294.441 Q1939.75 293.307 1942.6 293.307 Q1947.32 293.307 1950.26 297.057 Q1953.23 300.807 1953.23 306.918 Q1953.23 313.029 1950.26 316.779 Q1947.32 320.529 1942.6 320.529 Q1939.75 320.529 1937.69 319.418 Q1935.66 318.283 1934.31 315.969 L1934.31 319.858 L1930.03 319.858 L1930.03 283.839 L1934.31 283.839 L1934.31 297.867 Z\" fill=\"#000000\" fill-rule=\"nonzero\" fill-opacity=\"1\" /><path clip-path=\"url(#clip620)\" d=\"M1982.46 305.83 L1982.46 307.913 L1962.88 307.913 Q1963.16 312.311 1965.52 314.626 Q1967.9 316.918 1972.14 316.918 Q1974.59 316.918 1976.88 316.316 Q1979.2 315.714 1981.47 314.51 L1981.47 318.538 Q1979.17 319.51 1976.77 320.02 Q1974.36 320.529 1971.88 320.529 Q1965.68 320.529 1962.05 316.918 Q1958.43 313.307 1958.43 307.149 Q1958.43 300.784 1961.86 297.057 Q1965.31 293.307 1971.14 293.307 Q1976.37 293.307 1979.41 296.686 Q1982.46 300.043 1982.46 305.83 M1978.2 304.58 Q1978.16 301.085 1976.23 299.001 Q1974.34 296.918 1971.19 296.918 Q1967.62 296.918 1965.47 298.932 Q1963.34 300.946 1963.02 304.603 L1978.2 304.58 Z\" fill=\"#000000\" fill-rule=\"nonzero\" fill-opacity=\"1\" /><path clip-path=\"url(#clip620)\" d=\"M1989.45 283.839 L1993.71 283.839 L1993.71 319.858 L1989.45 319.858 L1989.45 283.839 Z\" fill=\"#000000\" fill-rule=\"nonzero\" fill-opacity=\"1\" /><path clip-path=\"url(#clip620)\" d=\"M2043.76 287.96 L2043.76 292.89 Q2041.4 290.691 2038.71 289.603 Q2036.05 288.515 2033.04 288.515 Q2027.11 288.515 2023.97 292.149 Q2020.82 295.76 2020.82 302.612 Q2020.82 309.441 2023.97 313.075 Q2027.11 316.686 2033.04 316.686 Q2036.05 316.686 2038.71 315.598 Q2041.4 314.51 2043.76 312.311 L2043.76 317.196 Q2041.3 318.862 2038.55 319.696 Q2035.82 320.529 2032.76 320.529 Q2024.92 320.529 2020.4 315.737 Q2015.89 310.922 2015.89 302.612 Q2015.89 294.279 2020.4 289.487 Q2024.92 284.673 2032.76 284.673 Q2035.86 284.673 2038.6 285.506 Q2041.35 286.316 2043.76 287.96 Z\" fill=\"#000000\" fill-rule=\"nonzero\" fill-opacity=\"1\" /><path clip-path=\"url(#clip620)\" d=\"M2060.84 296.918 Q2057.42 296.918 2055.42 299.603 Q2053.43 302.265 2053.43 306.918 Q2053.43 311.571 2055.4 314.256 Q2057.39 316.918 2060.84 316.918 Q2064.24 316.918 2066.23 314.233 Q2068.23 311.547 2068.23 306.918 Q2068.23 302.311 2066.23 299.626 Q2064.24 296.918 2060.84 296.918 M2060.84 293.307 Q2066.4 293.307 2069.57 296.918 Q2072.74 300.529 2072.74 306.918 Q2072.74 313.284 2069.57 316.918 Q2066.4 320.529 2060.84 320.529 Q2055.26 320.529 2052.09 316.918 Q2048.94 313.284 2048.94 306.918 Q2048.94 300.529 2052.09 296.918 Q2055.26 293.307 2060.84 293.307 Z\" fill=\"#000000\" fill-rule=\"nonzero\" fill-opacity=\"1\" /><path clip-path=\"url(#clip620)\" d=\"M2079.8 283.839 L2084.06 283.839 L2084.06 319.858 L2079.8 319.858 L2079.8 283.839 Z\" fill=\"#000000\" fill-rule=\"nonzero\" fill-opacity=\"1\" /><path clip-path=\"url(#clip620)\" d=\"M2103.02 296.918 Q2099.59 296.918 2097.6 299.603 Q2095.61 302.265 2095.61 306.918 Q2095.61 311.571 2097.58 314.256 Q2099.57 316.918 2103.02 316.918 Q2106.42 316.918 2108.41 314.233 Q2110.4 311.547 2110.4 306.918 Q2110.4 302.311 2108.41 299.626 Q2106.42 296.918 2103.02 296.918 M2103.02 293.307 Q2108.57 293.307 2111.74 296.918 Q2114.91 300.529 2114.91 306.918 Q2114.91 313.284 2111.74 316.918 Q2108.57 320.529 2103.02 320.529 Q2097.44 320.529 2094.27 316.918 Q2091.12 313.284 2091.12 306.918 Q2091.12 300.529 2094.27 296.918 Q2097.44 293.307 2103.02 293.307 Z\" fill=\"#000000\" fill-rule=\"nonzero\" fill-opacity=\"1\" /><path clip-path=\"url(#clip620)\" d=\"M2137 297.913 Q2136.28 297.497 2135.42 297.311 Q2134.59 297.103 2133.57 297.103 Q2129.96 297.103 2128.02 299.464 Q2126.1 301.802 2126.1 306.2 L2126.1 319.858 L2121.81 319.858 L2121.81 293.932 L2126.1 293.932 L2126.1 297.96 Q2127.44 295.598 2129.59 294.464 Q2131.74 293.307 2134.82 293.307 Q2135.26 293.307 2135.79 293.376 Q2136.33 293.423 2136.97 293.538 L2137 297.913 Z\" fill=\"#000000\" fill-rule=\"nonzero\" fill-opacity=\"1\" /><path clip-path=\"url(#clip620)\" d=\"M1706.57 375.154 L1850.87 375.154 L1850.87 333.682 L1706.57 333.682 L1706.57 375.154  Z\" fill=\"#ac8d18\" fill-rule=\"evenodd\" fill-opacity=\"1\"/>\n",
       "<polyline clip-path=\"url(#clip620)\" style=\"stroke:#000000; stroke-linecap:round; stroke-linejoin:round; stroke-width:4; stroke-opacity:1; fill:none\" points=\"1706.57,375.154 1850.87,375.154 1850.87,333.682 1706.57,333.682 1706.57,375.154 \"/>\n",
       "<path clip-path=\"url(#clip620)\" d=\"M1874.92 337.138 L1881.21 337.138 L1896.54 366.049 L1896.54 337.138 L1901.07 337.138 L1901.07 371.698 L1894.78 371.698 L1879.45 342.786 L1879.45 371.698 L1874.92 371.698 L1874.92 337.138 Z\" fill=\"#000000\" fill-rule=\"nonzero\" fill-opacity=\"1\" /><path clip-path=\"url(#clip620)\" d=\"M1920.24 348.758 Q1916.81 348.758 1914.82 351.443 Q1912.83 354.105 1912.83 358.758 Q1912.83 363.411 1914.8 366.096 Q1916.79 368.758 1920.24 368.758 Q1923.64 368.758 1925.63 366.073 Q1927.62 363.387 1927.62 358.758 Q1927.62 354.151 1925.63 351.466 Q1923.64 348.758 1920.24 348.758 M1920.24 345.147 Q1925.8 345.147 1928.97 348.758 Q1932.14 352.369 1932.14 358.758 Q1932.14 365.124 1928.97 368.758 Q1925.8 372.369 1920.24 372.369 Q1914.66 372.369 1911.49 368.758 Q1908.34 365.124 1908.34 358.758 Q1908.34 352.369 1911.49 348.758 Q1914.66 345.147 1920.24 345.147 Z\" fill=\"#000000\" fill-rule=\"nonzero\" fill-opacity=\"1\" /><path clip-path=\"url(#clip620)\" d=\"M1980.33 339.8 L1980.33 344.73 Q1977.97 342.531 1975.29 341.443 Q1972.62 340.355 1969.61 340.355 Q1963.69 340.355 1960.54 343.989 Q1957.39 347.6 1957.39 354.452 Q1957.39 361.281 1960.54 364.915 Q1963.69 368.526 1969.61 368.526 Q1972.62 368.526 1975.29 367.438 Q1977.97 366.35 1980.33 364.151 L1980.33 369.036 Q1977.88 370.702 1975.12 371.536 Q1972.39 372.369 1969.34 372.369 Q1961.49 372.369 1956.98 367.577 Q1952.46 362.762 1952.46 354.452 Q1952.46 346.119 1956.98 341.327 Q1961.49 336.513 1969.34 336.513 Q1972.44 336.513 1975.17 337.346 Q1977.92 338.156 1980.33 339.8 Z\" fill=\"#000000\" fill-rule=\"nonzero\" fill-opacity=\"1\" /><path clip-path=\"url(#clip620)\" d=\"M1997.42 348.758 Q1993.99 348.758 1992 351.443 Q1990.01 354.105 1990.01 358.758 Q1990.01 363.411 1991.98 366.096 Q1993.97 368.758 1997.42 368.758 Q2000.82 368.758 2002.81 366.073 Q2004.8 363.387 2004.8 358.758 Q2004.8 354.151 2002.81 351.466 Q2000.82 348.758 1997.42 348.758 M1997.42 345.147 Q2002.97 345.147 2006.14 348.758 Q2009.31 352.369 2009.31 358.758 Q2009.31 365.124 2006.14 368.758 Q2002.97 372.369 1997.42 372.369 Q1991.84 372.369 1988.67 368.758 Q1985.52 365.124 1985.52 358.758 Q1985.52 352.369 1988.67 348.758 Q1991.84 345.147 1997.42 345.147 Z\" fill=\"#000000\" fill-rule=\"nonzero\" fill-opacity=\"1\" /><path clip-path=\"url(#clip620)\" d=\"M2016.37 335.679 L2020.63 335.679 L2020.63 371.698 L2016.37 371.698 L2016.37 335.679 Z\" fill=\"#000000\" fill-rule=\"nonzero\" fill-opacity=\"1\" /><path clip-path=\"url(#clip620)\" d=\"M2039.59 348.758 Q2036.17 348.758 2034.17 351.443 Q2032.18 354.105 2032.18 358.758 Q2032.18 363.411 2034.15 366.096 Q2036.14 368.758 2039.59 368.758 Q2042.99 368.758 2044.98 366.073 Q2046.98 363.387 2046.98 358.758 Q2046.98 354.151 2044.98 351.466 Q2042.99 348.758 2039.59 348.758 M2039.59 345.147 Q2045.15 345.147 2048.32 348.758 Q2051.49 352.369 2051.49 358.758 Q2051.49 365.124 2048.32 368.758 Q2045.15 372.369 2039.59 372.369 Q2034.01 372.369 2030.84 368.758 Q2027.69 365.124 2027.69 358.758 Q2027.69 352.369 2030.84 348.758 Q2034.01 345.147 2039.59 345.147 Z\" fill=\"#000000\" fill-rule=\"nonzero\" fill-opacity=\"1\" /><path clip-path=\"url(#clip620)\" d=\"M2073.57 349.753 Q2072.85 349.337 2072 349.151 Q2071.16 348.943 2070.15 348.943 Q2066.54 348.943 2064.59 351.304 Q2062.67 353.642 2062.67 358.04 L2062.67 371.698 L2058.39 371.698 L2058.39 345.772 L2062.67 345.772 L2062.67 349.8 Q2064.01 347.438 2066.17 346.304 Q2068.32 345.147 2071.4 345.147 Q2071.84 345.147 2072.37 345.216 Q2072.9 345.263 2073.55 345.378 L2073.57 349.753 Z\" fill=\"#000000\" fill-rule=\"nonzero\" fill-opacity=\"1\" /><path clip-path=\"url(#clip620)\" d=\"M1706.57 426.994 L1850.87 426.994 L1850.87 385.522 L1706.57 385.522 L1706.57 426.994  Z\" fill=\"#00a9ad\" fill-rule=\"evenodd\" fill-opacity=\"1\"/>\n",
       "<polyline clip-path=\"url(#clip620)\" style=\"stroke:#000000; stroke-linecap:round; stroke-linejoin:round; stroke-width:4; stroke-opacity:1; fill:none\" points=\"1706.57,426.994 1850.87,426.994 1850.87,385.522 1706.57,385.522 1706.57,426.994 \"/>\n",
       "<path clip-path=\"url(#clip620)\" d=\"M1890.93 392.149 Q1885.84 392.149 1882.83 395.945 Q1879.85 399.741 1879.85 406.292 Q1879.85 412.82 1882.83 416.616 Q1885.84 420.413 1890.93 420.413 Q1896.03 420.413 1898.99 416.616 Q1901.98 412.82 1901.98 406.292 Q1901.98 399.741 1898.99 395.945 Q1896.03 392.149 1890.93 392.149 M1897.49 422.913 L1903.64 429.649 L1897.99 429.649 L1892.88 424.116 Q1892.12 424.163 1891.7 424.186 Q1891.3 424.209 1890.93 424.209 Q1883.64 424.209 1879.27 419.348 Q1874.92 414.464 1874.92 406.292 Q1874.92 398.098 1879.27 393.237 Q1883.64 388.353 1890.93 388.353 Q1898.2 388.353 1902.55 393.237 Q1906.91 398.098 1906.91 406.292 Q1906.91 412.311 1904.48 416.593 Q1902.07 420.876 1897.49 422.913 Z\" fill=\"#000000\" fill-rule=\"nonzero\" fill-opacity=\"1\" /><path clip-path=\"url(#clip620)\" d=\"M1913.6 413.306 L1913.6 397.612 L1917.86 397.612 L1917.86 413.144 Q1917.86 416.825 1919.29 418.676 Q1920.73 420.505 1923.6 420.505 Q1927.05 420.505 1929.04 418.306 Q1931.05 416.107 1931.05 412.311 L1931.05 397.612 L1935.31 397.612 L1935.31 423.538 L1931.05 423.538 L1931.05 419.556 Q1929.5 421.917 1927.44 423.075 Q1925.4 424.209 1922.69 424.209 Q1918.23 424.209 1915.91 421.431 Q1913.6 418.653 1913.6 413.306 M1924.31 396.987 L1924.31 396.987 Z\" fill=\"#000000\" fill-rule=\"nonzero\" fill-opacity=\"1\" /><path clip-path=\"url(#clip620)\" d=\"M1955.86 410.505 Q1950.7 410.505 1948.71 411.686 Q1946.72 412.866 1946.72 415.714 Q1946.72 417.982 1948.2 419.325 Q1949.71 420.644 1952.28 420.644 Q1955.82 420.644 1957.95 418.144 Q1960.1 415.621 1960.1 411.454 L1960.1 410.505 L1955.86 410.505 M1964.36 408.746 L1964.36 423.538 L1960.1 423.538 L1960.1 419.602 Q1958.64 421.963 1956.47 423.098 Q1954.29 424.209 1951.14 424.209 Q1947.16 424.209 1944.8 421.987 Q1942.46 419.741 1942.46 415.991 Q1942.46 411.616 1945.38 409.394 Q1948.32 407.172 1954.13 407.172 L1960.1 407.172 L1960.1 406.755 Q1960.1 403.815 1958.16 402.218 Q1956.24 400.598 1952.74 400.598 Q1950.52 400.598 1948.41 401.13 Q1946.3 401.663 1944.36 402.727 L1944.36 398.792 Q1946.7 397.89 1948.9 397.45 Q1951.1 396.987 1953.18 396.987 Q1958.8 396.987 1961.58 399.903 Q1964.36 402.82 1964.36 408.746 Z\" fill=\"#000000\" fill-rule=\"nonzero\" fill-opacity=\"1\" /><path clip-path=\"url(#clip620)\" d=\"M1989.66 398.376 L1989.66 402.403 Q1987.86 401.477 1985.91 401.015 Q1983.97 400.552 1981.88 400.552 Q1978.71 400.552 1977.11 401.524 Q1975.54 402.496 1975.54 404.44 Q1975.54 405.922 1976.67 406.778 Q1977.81 407.612 1981.23 408.376 L1982.69 408.7 Q1987.23 409.672 1989.13 411.454 Q1991.05 413.214 1991.05 416.385 Q1991.05 419.996 1988.18 422.102 Q1985.33 424.209 1980.33 424.209 Q1978.25 424.209 1975.98 423.792 Q1973.73 423.399 1971.23 422.588 L1971.23 418.19 Q1973.6 419.417 1975.89 420.042 Q1978.18 420.644 1980.42 420.644 Q1983.43 420.644 1985.05 419.626 Q1986.67 418.584 1986.67 416.709 Q1986.67 414.973 1985.49 414.047 Q1984.34 413.121 1980.38 412.264 L1978.9 411.917 Q1974.94 411.084 1973.18 409.371 Q1971.42 407.635 1971.42 404.626 Q1971.42 400.968 1974.01 398.978 Q1976.61 396.987 1981.37 396.987 Q1983.73 396.987 1985.82 397.334 Q1987.9 397.681 1989.66 398.376 Z\" fill=\"#000000\" fill-rule=\"nonzero\" fill-opacity=\"1\" /><path clip-path=\"url(#clip620)\" d=\"M1997.83 397.612 L2002.09 397.612 L2002.09 423.538 L1997.83 423.538 L1997.83 397.612 M1997.83 387.519 L2002.09 387.519 L2002.09 392.913 L1997.83 392.913 L1997.83 387.519 Z\" fill=\"#000000\" fill-rule=\"nonzero\" fill-opacity=\"1\" /><path clip-path=\"url(#clip620)\" d=\"M2008.85 408.653 L2021.33 408.653 L2021.33 412.45 L2008.85 412.45 L2008.85 408.653 Z\" fill=\"#000000\" fill-rule=\"nonzero\" fill-opacity=\"1\" /><path clip-path=\"url(#clip620)\" d=\"M2049.01 390.112 L2049.01 394.672 Q2046.35 393.399 2043.99 392.774 Q2041.63 392.149 2039.43 392.149 Q2035.61 392.149 2033.53 393.63 Q2031.47 395.112 2031.47 397.843 Q2031.47 400.135 2032.83 401.315 Q2034.22 402.473 2038.06 403.19 L2040.89 403.769 Q2046.12 404.765 2048.6 407.288 Q2051.1 409.788 2051.1 414.001 Q2051.1 419.024 2047.72 421.616 Q2044.36 424.209 2037.85 424.209 Q2035.4 424.209 2032.62 423.653 Q2029.87 423.098 2026.91 422.01 L2026.91 417.195 Q2029.75 418.792 2032.48 419.602 Q2035.22 420.413 2037.85 420.413 Q2041.86 420.413 2044.04 418.839 Q2046.21 417.264 2046.21 414.348 Q2046.21 411.802 2044.64 410.366 Q2043.09 408.931 2039.52 408.214 L2036.67 407.658 Q2031.44 406.616 2029.11 404.394 Q2026.77 402.172 2026.77 398.214 Q2026.77 393.63 2029.98 390.991 Q2033.23 388.353 2038.9 388.353 Q2041.33 388.353 2043.85 388.792 Q2046.37 389.232 2049.01 390.112 Z\" fill=\"#000000\" fill-rule=\"nonzero\" fill-opacity=\"1\" /><path clip-path=\"url(#clip620)\" d=\"M2062.42 390.251 L2062.42 397.612 L2071.19 397.612 L2071.19 400.922 L2062.42 400.922 L2062.42 414.996 Q2062.42 418.167 2063.27 419.07 Q2064.15 419.973 2066.81 419.973 L2071.19 419.973 L2071.19 423.538 L2066.81 423.538 Q2061.88 423.538 2060.01 421.709 Q2058.13 419.857 2058.13 414.996 L2058.13 400.922 L2055.01 400.922 L2055.01 397.612 L2058.13 397.612 L2058.13 390.251 L2062.42 390.251 Z\" fill=\"#000000\" fill-rule=\"nonzero\" fill-opacity=\"1\" /><path clip-path=\"url(#clip620)\" d=\"M2088.57 410.505 Q2083.41 410.505 2081.42 411.686 Q2079.43 412.866 2079.43 415.714 Q2079.43 417.982 2080.91 419.325 Q2082.41 420.644 2084.98 420.644 Q2088.53 420.644 2090.66 418.144 Q2092.81 415.621 2092.81 411.454 L2092.81 410.505 L2088.57 410.505 M2097.07 408.746 L2097.07 423.538 L2092.81 423.538 L2092.81 419.602 Q2091.35 421.963 2089.17 423.098 Q2087 424.209 2083.85 424.209 Q2079.87 424.209 2077.51 421.987 Q2075.17 419.741 2075.17 415.991 Q2075.17 411.616 2078.09 409.394 Q2081.03 407.172 2086.84 407.172 L2092.81 407.172 L2092.81 406.755 Q2092.81 403.815 2090.86 402.218 Q2088.94 400.598 2085.45 400.598 Q2083.23 400.598 2081.12 401.13 Q2079.01 401.663 2077.07 402.727 L2077.07 398.792 Q2079.41 397.89 2081.6 397.45 Q2083.8 396.987 2085.89 396.987 Q2091.51 396.987 2094.29 399.903 Q2097.07 402.82 2097.07 408.746 Z\" fill=\"#000000\" fill-rule=\"nonzero\" fill-opacity=\"1\" /><path clip-path=\"url(#clip620)\" d=\"M2124.45 410.598 Q2124.45 405.899 2122.51 403.237 Q2120.59 400.552 2117.21 400.552 Q2113.83 400.552 2111.88 403.237 Q2109.96 405.899 2109.96 410.598 Q2109.96 415.297 2111.88 417.982 Q2113.83 420.644 2117.21 420.644 Q2120.59 420.644 2122.51 417.982 Q2124.45 415.297 2124.45 410.598 M2109.96 401.547 Q2111.3 399.232 2113.34 398.121 Q2115.4 396.987 2118.25 396.987 Q2122.97 396.987 2125.91 400.737 Q2128.87 404.487 2128.87 410.598 Q2128.87 416.709 2125.91 420.459 Q2122.97 424.209 2118.25 424.209 Q2115.4 424.209 2113.34 423.098 Q2111.3 421.963 2109.96 419.649 L2109.96 423.538 L2105.68 423.538 L2105.68 387.519 L2109.96 387.519 L2109.96 401.547 Z\" fill=\"#000000\" fill-rule=\"nonzero\" fill-opacity=\"1\" /><path clip-path=\"url(#clip620)\" d=\"M2135.93 387.519 L2140.19 387.519 L2140.19 423.538 L2135.93 423.538 L2135.93 387.519 Z\" fill=\"#000000\" fill-rule=\"nonzero\" fill-opacity=\"1\" /><path clip-path=\"url(#clip620)\" d=\"M2171.28 409.51 L2171.28 411.593 L2151.7 411.593 Q2151.97 415.991 2154.34 418.306 Q2156.72 420.598 2160.96 420.598 Q2163.41 420.598 2165.7 419.996 Q2168.02 419.394 2170.28 418.19 L2170.28 422.218 Q2167.99 423.19 2165.59 423.7 Q2163.18 424.209 2160.7 424.209 Q2154.5 424.209 2150.86 420.598 Q2147.25 416.987 2147.25 410.829 Q2147.25 404.464 2150.68 400.737 Q2154.13 396.987 2159.96 396.987 Q2165.19 396.987 2168.22 400.366 Q2171.28 403.723 2171.28 409.51 M2167.02 408.26 Q2166.97 404.765 2165.05 402.681 Q2163.16 400.598 2160.01 400.598 Q2156.44 400.598 2154.29 402.612 Q2152.16 404.626 2151.84 408.283 L2167.02 408.26 Z\" fill=\"#000000\" fill-rule=\"nonzero\" fill-opacity=\"1\" /></svg>\n"
      ],
      "text/html": [
       "<?xml version=\"1.0\" encoding=\"utf-8\"?>\n",
       "<svg xmlns=\"http://www.w3.org/2000/svg\" xmlns:xlink=\"http://www.w3.org/1999/xlink\" width=\"600\" height=\"400\" viewBox=\"0 0 2400 1600\">\n",
       "<defs>\n",
       "  <clipPath id=\"clip670\">\n",
       "    <rect x=\"0\" y=\"0\" width=\"2400\" height=\"1600\"/>\n",
       "  </clipPath>\n",
       "</defs>\n",
       "<path clip-path=\"url(#clip670)\" d=\"M0 1600 L2400 1600 L2400 0 L0 0  Z\" fill=\"#ffffff\" fill-rule=\"evenodd\" fill-opacity=\"1\"/>\n",
       "<defs>\n",
       "  <clipPath id=\"clip671\">\n",
       "    <rect x=\"480\" y=\"0\" width=\"1681\" height=\"1600\"/>\n",
       "  </clipPath>\n",
       "</defs>\n",
       "<path clip-path=\"url(#clip670)\" d=\"M188.292 1486.45 L2352.76 1486.45 L2352.76 47.2441 L188.292 47.2441  Z\" fill=\"#ffffff\" fill-rule=\"evenodd\" fill-opacity=\"1\"/>\n",
       "<defs>\n",
       "  <clipPath id=\"clip672\">\n",
       "    <rect x=\"188\" y=\"47\" width=\"2165\" height=\"1440\"/>\n",
       "  </clipPath>\n",
       "</defs>\n",
       "<polyline clip-path=\"url(#clip672)\" style=\"stroke:#000000; stroke-linecap:round; stroke-linejoin:round; stroke-width:2; stroke-opacity:0.1; fill:none\" points=\"1270.52,1486.45 1270.52,47.2441 \"/>\n",
       "<polyline clip-path=\"url(#clip670)\" style=\"stroke:#000000; stroke-linecap:round; stroke-linejoin:round; stroke-width:4; stroke-opacity:1; fill:none\" points=\"188.292,1486.45 2352.76,1486.45 \"/>\n",
       "<polyline clip-path=\"url(#clip670)\" style=\"stroke:#000000; stroke-linecap:round; stroke-linejoin:round; stroke-width:4; stroke-opacity:1; fill:none\" points=\"1270.52,1486.45 1270.52,1467.55 \"/>\n",
       "<path clip-path=\"url(#clip670)\" d=\"M1193.56 1526.86 L1193.56 1512.83 L1197.82 1512.83 L1197.82 1548.85 L1193.56 1548.85 L1193.56 1544.96 Q1192.21 1547.27 1190.15 1548.41 Q1188.12 1549.52 1185.25 1549.52 Q1180.55 1549.52 1177.58 1545.77 Q1174.64 1542.02 1174.64 1535.91 Q1174.64 1529.8 1177.58 1526.05 Q1180.55 1522.3 1185.25 1522.3 Q1188.12 1522.3 1190.15 1523.43 Q1192.21 1524.54 1193.56 1526.86 M1179.04 1535.91 Q1179.04 1540.61 1180.96 1543.29 Q1182.91 1545.95 1186.29 1545.95 Q1189.67 1545.95 1191.61 1543.29 Q1193.56 1540.61 1193.56 1535.91 Q1193.56 1531.21 1191.61 1528.55 Q1189.67 1525.86 1186.29 1525.86 Q1182.91 1525.86 1180.96 1528.55 Q1179.04 1531.21 1179.04 1535.91 Z\" fill=\"#000000\" fill-rule=\"nonzero\" fill-opacity=\"1\" /><path clip-path=\"url(#clip670)\" d=\"M1228.77 1534.82 L1228.77 1536.9 L1209.18 1536.9 Q1209.46 1541.3 1211.82 1543.62 Q1214.2 1545.91 1218.44 1545.91 Q1220.89 1545.91 1223.19 1545.31 Q1225.5 1544.7 1227.77 1543.5 L1227.77 1547.53 Q1225.48 1548.5 1223.07 1549.01 Q1220.66 1549.52 1218.19 1549.52 Q1211.98 1549.52 1208.35 1545.91 Q1204.74 1542.3 1204.74 1536.14 Q1204.74 1529.77 1208.16 1526.05 Q1211.61 1522.3 1217.45 1522.3 Q1222.68 1522.3 1225.71 1525.68 Q1228.77 1529.03 1228.77 1534.82 M1224.51 1533.57 Q1224.46 1530.07 1222.54 1527.99 Q1220.64 1525.91 1217.49 1525.91 Q1213.93 1525.91 1211.77 1527.92 Q1209.64 1529.94 1209.32 1533.59 L1224.51 1533.57 Z\" fill=\"#000000\" fill-rule=\"nonzero\" fill-opacity=\"1\" /><path clip-path=\"url(#clip670)\" d=\"M1257.31 1533.2 L1257.31 1548.85 L1253.05 1548.85 L1253.05 1533.34 Q1253.05 1529.66 1251.61 1527.83 Q1250.18 1526 1247.31 1526 Q1243.86 1526 1241.87 1528.2 Q1239.88 1530.4 1239.88 1534.2 L1239.88 1548.85 L1235.59 1548.85 L1235.59 1522.92 L1239.88 1522.92 L1239.88 1526.95 Q1241.4 1524.61 1243.46 1523.45 Q1245.55 1522.3 1248.26 1522.3 Q1252.72 1522.3 1255.01 1525.07 Q1257.31 1527.83 1257.31 1533.2 Z\" fill=\"#000000\" fill-rule=\"nonzero\" fill-opacity=\"1\" /><path clip-path=\"url(#clip670)\" d=\"M1282.33 1523.69 L1282.33 1527.71 Q1280.52 1526.79 1278.58 1526.32 Q1276.64 1525.86 1274.55 1525.86 Q1271.38 1525.86 1269.78 1526.83 Q1268.21 1527.81 1268.21 1529.75 Q1268.21 1531.23 1269.34 1532.09 Q1270.48 1532.92 1273.9 1533.69 L1275.36 1534.01 Q1279.9 1534.98 1281.8 1536.76 Q1283.72 1538.52 1283.72 1541.7 Q1283.72 1545.31 1280.85 1547.41 Q1278 1549.52 1273 1549.52 Q1270.92 1549.52 1268.65 1549.1 Q1266.4 1548.71 1263.9 1547.9 L1263.9 1543.5 Q1266.26 1544.73 1268.56 1545.35 Q1270.85 1545.95 1273.09 1545.95 Q1276.1 1545.95 1277.72 1544.94 Q1279.34 1543.89 1279.34 1542.02 Q1279.34 1540.28 1278.16 1539.36 Q1277.01 1538.43 1273.05 1537.57 L1271.57 1537.23 Q1267.61 1536.39 1265.85 1534.68 Q1264.09 1532.95 1264.09 1529.94 Q1264.09 1526.28 1266.68 1524.29 Q1269.27 1522.3 1274.04 1522.3 Q1276.4 1522.3 1278.49 1522.64 Q1280.57 1522.99 1282.33 1523.69 Z\" fill=\"#000000\" fill-rule=\"nonzero\" fill-opacity=\"1\" /><path clip-path=\"url(#clip670)\" d=\"M1312.68 1534.82 L1312.68 1536.9 L1293.09 1536.9 Q1293.37 1541.3 1295.73 1543.62 Q1298.12 1545.91 1302.35 1545.91 Q1304.81 1545.91 1307.1 1545.31 Q1309.41 1544.7 1311.68 1543.5 L1311.68 1547.53 Q1309.39 1548.5 1306.98 1549.01 Q1304.57 1549.52 1302.1 1549.52 Q1295.89 1549.52 1292.26 1545.91 Q1288.65 1542.3 1288.65 1536.14 Q1288.65 1529.77 1292.07 1526.05 Q1295.52 1522.3 1301.36 1522.3 Q1306.59 1522.3 1309.62 1525.68 Q1312.68 1529.03 1312.68 1534.82 M1308.42 1533.57 Q1308.37 1530.07 1306.45 1527.99 Q1304.55 1525.91 1301.4 1525.91 Q1297.84 1525.91 1295.69 1527.92 Q1293.56 1529.94 1293.23 1533.59 L1308.42 1533.57 Z\" fill=\"#000000\" fill-rule=\"nonzero\" fill-opacity=\"1\" /><path clip-path=\"url(#clip670)\" d=\"M1339.37 1556.72 L1339.37 1560.03 L1314.74 1560.03 L1314.74 1556.72 L1339.37 1556.72 Z\" fill=\"#000000\" fill-rule=\"nonzero\" fill-opacity=\"1\" /><path clip-path=\"url(#clip670)\" d=\"M1356.82 1518.36 L1345.01 1536.81 L1356.82 1536.81 L1356.82 1518.36 M1355.59 1514.29 L1361.47 1514.29 L1361.47 1536.81 L1366.4 1536.81 L1366.4 1540.7 L1361.47 1540.7 L1361.47 1548.85 L1356.82 1548.85 L1356.82 1540.7 L1341.22 1540.7 L1341.22 1536.19 L1355.59 1514.29 Z\" fill=\"#000000\" fill-rule=\"nonzero\" fill-opacity=\"1\" /><polyline clip-path=\"url(#clip672)\" style=\"stroke:#000000; stroke-linecap:round; stroke-linejoin:round; stroke-width:2; stroke-opacity:0.1; fill:none\" points=\"188.292,1326.54 2352.76,1326.54 \"/>\n",
       "<polyline clip-path=\"url(#clip672)\" style=\"stroke:#000000; stroke-linecap:round; stroke-linejoin:round; stroke-width:2; stroke-opacity:0.1; fill:none\" points=\"188.292,926.758 2352.76,926.758 \"/>\n",
       "<polyline clip-path=\"url(#clip672)\" style=\"stroke:#000000; stroke-linecap:round; stroke-linejoin:round; stroke-width:2; stroke-opacity:0.1; fill:none\" points=\"188.292,526.979 2352.76,526.979 \"/>\n",
       "<polyline clip-path=\"url(#clip672)\" style=\"stroke:#000000; stroke-linecap:round; stroke-linejoin:round; stroke-width:2; stroke-opacity:0.1; fill:none\" points=\"188.292,127.2 2352.76,127.2 \"/>\n",
       "<polyline clip-path=\"url(#clip670)\" style=\"stroke:#000000; stroke-linecap:round; stroke-linejoin:round; stroke-width:4; stroke-opacity:1; fill:none\" points=\"188.292,1486.45 188.292,47.2441 \"/>\n",
       "<polyline clip-path=\"url(#clip670)\" style=\"stroke:#000000; stroke-linecap:round; stroke-linejoin:round; stroke-width:4; stroke-opacity:1; fill:none\" points=\"188.292,1326.54 207.19,1326.54 \"/>\n",
       "<polyline clip-path=\"url(#clip670)\" style=\"stroke:#000000; stroke-linecap:round; stroke-linejoin:round; stroke-width:4; stroke-opacity:1; fill:none\" points=\"188.292,926.758 207.19,926.758 \"/>\n",
       "<polyline clip-path=\"url(#clip670)\" style=\"stroke:#000000; stroke-linecap:round; stroke-linejoin:round; stroke-width:4; stroke-opacity:1; fill:none\" points=\"188.292,526.979 207.19,526.979 \"/>\n",
       "<polyline clip-path=\"url(#clip670)\" style=\"stroke:#000000; stroke-linecap:round; stroke-linejoin:round; stroke-width:4; stroke-opacity:1; fill:none\" points=\"188.292,127.2 207.19,127.2 \"/>\n",
       "<path clip-path=\"url(#clip670)\" d=\"M51.6634 1346.33 L59.3023 1346.33 L59.3023 1319.96 L50.9921 1321.63 L50.9921 1317.37 L59.256 1315.7 L63.9319 1315.7 L63.9319 1346.33 L71.5707 1346.33 L71.5707 1350.26 L51.6634 1350.26 L51.6634 1346.33 Z\" fill=\"#000000\" fill-rule=\"nonzero\" fill-opacity=\"1\" /><path clip-path=\"url(#clip670)\" d=\"M91.0151 1318.78 Q87.404 1318.78 85.5753 1322.35 Q83.7697 1325.89 83.7697 1333.02 Q83.7697 1340.13 85.5753 1343.69 Q87.404 1347.23 91.0151 1347.23 Q94.6493 1347.23 96.4548 1343.69 Q98.2835 1340.13 98.2835 1333.02 Q98.2835 1325.89 96.4548 1322.35 Q94.6493 1318.78 91.0151 1318.78 M91.0151 1315.08 Q96.8252 1315.08 99.8808 1319.69 Q102.959 1324.27 102.959 1333.02 Q102.959 1341.75 99.8808 1346.35 Q96.8252 1350.94 91.0151 1350.94 Q85.2049 1350.94 82.1262 1346.35 Q79.0707 1341.75 79.0707 1333.02 Q79.0707 1324.27 82.1262 1319.69 Q85.2049 1315.08 91.0151 1315.08 Z\" fill=\"#000000\" fill-rule=\"nonzero\" fill-opacity=\"1\" /><path clip-path=\"url(#clip670)\" d=\"M102.959 1309.18 L127.071 1309.18 L127.071 1312.38 L102.959 1312.38 L102.959 1309.18 Z\" fill=\"#000000\" fill-rule=\"nonzero\" fill-opacity=\"1\" /><path clip-path=\"url(#clip670)\" d=\"M135.309 1294.77 L150.223 1294.77 L150.223 1297.97 L138.788 1297.97 L138.788 1304.85 Q139.616 1304.57 140.443 1304.44 Q141.271 1304.29 142.098 1304.29 Q146.8 1304.29 149.546 1306.87 Q152.292 1309.44 152.292 1313.84 Q152.292 1318.38 149.471 1320.9 Q146.65 1323.4 141.515 1323.4 Q139.747 1323.4 137.904 1323.1 Q136.08 1322.8 134.124 1322.2 L134.124 1318.38 Q135.817 1319.3 137.622 1319.75 Q139.428 1320.2 141.44 1320.2 Q144.694 1320.2 146.593 1318.49 Q148.493 1316.78 148.493 1313.84 Q148.493 1310.91 146.593 1309.2 Q144.694 1307.49 141.44 1307.49 Q139.917 1307.49 138.393 1307.83 Q136.889 1308.16 135.309 1308.88 L135.309 1294.77 Z\" fill=\"#000000\" fill-rule=\"nonzero\" fill-opacity=\"1\" /><path clip-path=\"url(#clip670)\" d=\"M81.5866 946.55 L89.2254 946.55 L89.2254 920.184 L80.9153 921.851 L80.9153 917.592 L89.1791 915.925 L93.855 915.925 L93.855 946.55 L101.494 946.55 L101.494 950.485 L81.5866 950.485 L81.5866 946.55 Z\" fill=\"#000000\" fill-rule=\"nonzero\" fill-opacity=\"1\" /><path clip-path=\"url(#clip670)\" d=\"M120.938 919.004 Q117.327 919.004 115.498 922.569 Q113.693 926.11 113.693 933.24 Q113.693 940.346 115.498 943.911 Q117.327 947.453 120.938 947.453 Q124.572 947.453 126.378 943.911 Q128.207 940.346 128.207 933.24 Q128.207 926.11 126.378 922.569 Q124.572 919.004 120.938 919.004 M120.938 915.3 Q126.748 915.3 129.804 919.907 Q132.883 924.49 132.883 933.24 Q132.883 941.967 129.804 946.573 Q126.748 951.156 120.938 951.156 Q115.128 951.156 112.049 946.573 Q108.994 941.967 108.994 933.24 Q108.994 924.49 112.049 919.907 Q115.128 915.3 120.938 915.3 Z\" fill=\"#000000\" fill-rule=\"nonzero\" fill-opacity=\"1\" /><path clip-path=\"url(#clip670)\" d=\"M142.587 897.496 Q139.653 897.496 138.168 900.393 Q136.701 903.27 136.701 909.063 Q136.701 914.837 138.168 917.733 Q139.653 920.611 142.587 920.611 Q145.54 920.611 147.007 917.733 Q148.493 914.837 148.493 909.063 Q148.493 903.27 147.007 900.393 Q145.54 897.496 142.587 897.496 M142.587 894.487 Q147.308 894.487 149.791 898.23 Q152.292 901.954 152.292 909.063 Q152.292 916.153 149.791 919.896 Q147.308 923.62 142.587 923.62 Q137.867 923.62 135.365 919.896 Q132.883 916.153 132.883 909.063 Q132.883 901.954 135.365 898.23 Q137.867 894.487 142.587 894.487 Z\" fill=\"#000000\" fill-rule=\"nonzero\" fill-opacity=\"1\" /><path clip-path=\"url(#clip670)\" d=\"M82.8279 546.771 L90.4667 546.771 L90.4667 520.406 L82.1566 522.072 L82.1566 517.813 L90.4204 516.146 L95.0963 516.146 L95.0963 546.771 L102.735 546.771 L102.735 550.706 L82.8279 550.706 L82.8279 546.771 Z\" fill=\"#000000\" fill-rule=\"nonzero\" fill-opacity=\"1\" /><path clip-path=\"url(#clip670)\" d=\"M122.18 519.225 Q118.568 519.225 116.74 522.79 Q114.934 526.331 114.934 533.461 Q114.934 540.567 116.74 544.132 Q118.568 547.674 122.18 547.674 Q125.814 547.674 127.619 544.132 Q129.448 540.567 129.448 533.461 Q129.448 526.331 127.619 522.79 Q125.814 519.225 122.18 519.225 M122.18 515.521 Q127.99 515.521 131.045 520.128 Q134.124 524.711 134.124 533.461 Q134.124 542.188 131.045 546.794 Q127.99 551.378 122.18 551.378 Q116.369 551.378 113.291 546.794 Q110.235 542.188 110.235 533.461 Q110.235 524.711 113.291 520.128 Q116.369 515.521 122.18 515.521 Z\" fill=\"#000000\" fill-rule=\"nonzero\" fill-opacity=\"1\" /><path clip-path=\"url(#clip670)\" d=\"M135.309 495.216 L150.223 495.216 L150.223 498.413 L138.788 498.413 L138.788 505.297 Q139.616 505.015 140.443 504.883 Q141.271 504.733 142.098 504.733 Q146.8 504.733 149.546 507.309 Q152.292 509.886 152.292 514.287 Q152.292 518.82 149.471 521.34 Q146.65 523.841 141.515 523.841 Q139.747 523.841 137.904 523.54 Q136.08 523.239 134.124 522.638 L134.124 518.82 Q135.817 519.741 137.622 520.193 Q139.428 520.644 141.44 520.644 Q144.694 520.644 146.593 518.932 Q148.493 517.221 148.493 514.287 Q148.493 511.353 146.593 509.641 Q144.694 507.93 141.44 507.93 Q139.917 507.93 138.393 508.268 Q136.889 508.607 135.309 509.322 L135.309 495.216 Z\" fill=\"#000000\" fill-rule=\"nonzero\" fill-opacity=\"1\" /><path clip-path=\"url(#clip670)\" d=\"M58.7728 146.992 L66.4116 146.992 L66.4116 120.627 L58.1015 122.293 L58.1015 118.034 L66.3653 116.367 L71.0412 116.367 L71.0412 146.992 L78.6801 146.992 L78.6801 150.927 L58.7728 150.927 L58.7728 146.992 Z\" fill=\"#000000\" fill-rule=\"nonzero\" fill-opacity=\"1\" /><path clip-path=\"url(#clip670)\" d=\"M98.1244 119.446 Q94.5133 119.446 92.6846 123.011 Q90.8791 126.553 90.8791 133.682 Q90.8791 140.789 92.6846 144.353 Q94.5133 147.895 98.1244 147.895 Q101.759 147.895 103.564 144.353 Q105.393 140.789 105.393 133.682 Q105.393 126.553 103.564 123.011 Q101.759 119.446 98.1244 119.446 M98.1244 115.742 Q103.935 115.742 106.99 120.349 Q110.069 124.932 110.069 133.682 Q110.069 142.409 106.99 147.015 Q103.935 151.599 98.1244 151.599 Q92.3142 151.599 89.2356 147.015 Q86.18 142.409 86.18 133.682 Q86.18 124.932 89.2356 120.349 Q92.3142 115.742 98.1244 115.742 Z\" fill=\"#000000\" fill-rule=\"nonzero\" fill-opacity=\"1\" /><path clip-path=\"url(#clip670)\" d=\"M110.614 120.32 L116.821 120.32 L116.821 98.8977 L110.069 100.252 L110.069 96.7912 L116.783 95.4371 L120.582 95.4371 L120.582 120.32 L126.789 120.32 L126.789 123.517 L110.614 123.517 L110.614 120.32 Z\" fill=\"#000000\" fill-rule=\"nonzero\" fill-opacity=\"1\" /><path clip-path=\"url(#clip670)\" d=\"M142.587 97.9385 Q139.653 97.9385 138.168 100.835 Q136.701 103.712 136.701 109.505 Q136.701 115.279 138.168 118.176 Q139.653 121.053 142.587 121.053 Q145.54 121.053 147.007 118.176 Q148.493 115.279 148.493 109.505 Q148.493 103.712 147.007 100.835 Q145.54 97.9385 142.587 97.9385 M142.587 94.9293 Q147.308 94.9293 149.791 98.672 Q152.292 102.396 152.292 109.505 Q152.292 116.596 149.791 120.339 Q147.308 124.062 142.587 124.062 Q137.867 124.062 135.365 120.339 Q132.883 116.596 132.883 109.505 Q132.883 102.396 135.365 98.672 Q137.867 94.9293 142.587 94.9293 Z\" fill=\"#000000\" fill-rule=\"nonzero\" fill-opacity=\"1\" /><path clip-path=\"url(#clip672)\" d=\"M405.292 995.43 L327.421 995.43 L483.163 995.43 L405.292 995.43 L405.292 971.354 L405.292 995.43  Z\" fill=\"#009af9\" fill-rule=\"evenodd\" fill-opacity=\"1\"/>\n",
       "<polyline clip-path=\"url(#clip672)\" style=\"stroke:#000000; stroke-linecap:round; stroke-linejoin:round; stroke-width:4; stroke-opacity:1; fill:none\" points=\"405.292,995.43 327.421,995.43 483.163,995.43 405.292,995.43 405.292,971.354 405.292,995.43 \"/>\n",
       "<path clip-path=\"url(#clip672)\" d=\"M561.034 971.354 L561.034 970.888 L249.551 970.888 L249.551 971.354 L561.034 971.354 L561.034 970.888 L561.034 971.354  Z\" fill=\"#009af9\" fill-rule=\"evenodd\" fill-opacity=\"1\"/>\n",
       "<polyline clip-path=\"url(#clip672)\" style=\"stroke:#000000; stroke-linecap:round; stroke-linejoin:round; stroke-width:4; stroke-opacity:1; fill:none\" points=\"561.034,971.354 561.034,970.888 249.551,970.888 249.551,971.354 561.034,971.354 561.034,970.888 561.034,971.354 \"/>\n",
       "<path clip-path=\"url(#clip672)\" d=\"M561.034 929.764 L249.551 929.764 L249.551 970.888 L561.034 970.888 L561.034 929.764 L405.292 929.764 L561.034 929.764  Z\" fill=\"#009af9\" fill-rule=\"evenodd\" fill-opacity=\"1\"/>\n",
       "<polyline clip-path=\"url(#clip672)\" style=\"stroke:#000000; stroke-linecap:round; stroke-linejoin:round; stroke-width:4; stroke-opacity:1; fill:none\" points=\"561.034,929.764 249.551,929.764 249.551,970.888 561.034,970.888 561.034,929.764 405.292,929.764 561.034,929.764 \"/>\n",
       "<path clip-path=\"url(#clip672)\" d=\"M405.292 918.825 L327.421 918.825 L483.163 918.825 L405.292 918.825 L405.292 929.764 L405.292 918.825  Z\" fill=\"#009af9\" fill-rule=\"evenodd\" fill-opacity=\"1\"/>\n",
       "<polyline clip-path=\"url(#clip672)\" style=\"stroke:#000000; stroke-linecap:round; stroke-linejoin:round; stroke-width:4; stroke-opacity:1; fill:none\" points=\"405.292,918.825 327.421,918.825 483.163,918.825 405.292,918.825 405.292,929.764 405.292,918.825 \"/>\n",
       "<circle clip-path=\"url(#clip672)\" cx=\"405.292\" cy=\"806.865\" r=\"14.4\" fill=\"#009af9\" fill-rule=\"evenodd\" fill-opacity=\"1\" stroke=\"#000000\" stroke-opacity=\"1\" stroke-width=\"3.2\"/>\n",
       "<circle clip-path=\"url(#clip672)\" cx=\"405.292\" cy=\"806.865\" r=\"14.4\" fill=\"#009af9\" fill-rule=\"evenodd\" fill-opacity=\"1\" stroke=\"#000000\" stroke-opacity=\"1\" stroke-width=\"3.2\"/>\n",
       "<circle clip-path=\"url(#clip672)\" cx=\"405.292\" cy=\"806.865\" r=\"14.4\" fill=\"#009af9\" fill-rule=\"evenodd\" fill-opacity=\"1\" stroke=\"#000000\" stroke-opacity=\"1\" stroke-width=\"3.2\"/>\n",
       "<circle clip-path=\"url(#clip672)\" cx=\"405.292\" cy=\"806.865\" r=\"14.4\" fill=\"#009af9\" fill-rule=\"evenodd\" fill-opacity=\"1\" stroke=\"#000000\" stroke-opacity=\"1\" stroke-width=\"3.2\"/>\n",
       "<polyline clip-path=\"url(#clip672)\" style=\"stroke:#009af9; stroke-linecap:round; stroke-linejoin:round; stroke-width:0; stroke-opacity:1; fill:none\" points=\"405.292,995.43 327.421,995.43 483.163,995.43 405.292,995.43 405.292,971.354 \"/>\n",
       "<polyline clip-path=\"url(#clip672)\" style=\"stroke:#009af9; stroke-linecap:round; stroke-linejoin:round; stroke-width:0; stroke-opacity:1; fill:none\" points=\"561.034,971.354 561.034,970.888 249.551,970.888 249.551,971.354 561.034,971.354 561.034,970.888 \"/>\n",
       "<polyline clip-path=\"url(#clip672)\" style=\"stroke:#009af9; stroke-linecap:round; stroke-linejoin:round; stroke-width:0; stroke-opacity:1; fill:none\" points=\"561.034,929.764 249.551,929.764 249.551,970.888 561.034,970.888 561.034,929.764 405.292,929.764 \"/>\n",
       "<polyline clip-path=\"url(#clip672)\" style=\"stroke:#009af9; stroke-linecap:round; stroke-linejoin:round; stroke-width:0; stroke-opacity:1; fill:none\" points=\"405.292,918.825 327.421,918.825 483.163,918.825 405.292,918.825 405.292,929.764 \"/>\n",
       "<path clip-path=\"url(#clip672)\" d=\"M751.385 1026.13 L673.514 1026.13 L829.256 1026.13 L751.385 1026.13 L751.385 994.214 L751.385 1026.13  Z\" fill=\"#e26f46\" fill-rule=\"evenodd\" fill-opacity=\"1\"/>\n",
       "<polyline clip-path=\"url(#clip672)\" style=\"stroke:#000000; stroke-linecap:round; stroke-linejoin:round; stroke-width:4; stroke-opacity:1; fill:none\" points=\"751.385,1026.13 673.514,1026.13 829.256,1026.13 751.385,1026.13 751.385,994.214 751.385,1026.13 \"/>\n",
       "<path clip-path=\"url(#clip672)\" d=\"M907.127 994.214 L907.127 994.051 L595.643 994.051 L595.643 994.214 L907.127 994.214 L907.127 994.051 L907.127 994.214  Z\" fill=\"#e26f46\" fill-rule=\"evenodd\" fill-opacity=\"1\"/>\n",
       "<polyline clip-path=\"url(#clip672)\" style=\"stroke:#000000; stroke-linecap:round; stroke-linejoin:round; stroke-width:4; stroke-opacity:1; fill:none\" points=\"907.127,994.214 907.127,994.051 595.643,994.051 595.643,994.214 907.127,994.214 907.127,994.051 907.127,994.214 \"/>\n",
       "<path clip-path=\"url(#clip672)\" d=\"M907.127 956.824 L595.643 956.824 L595.643 994.051 L907.127 994.051 L907.127 956.824 L751.385 956.824 L907.127 956.824  Z\" fill=\"#e26f46\" fill-rule=\"evenodd\" fill-opacity=\"1\"/>\n",
       "<polyline clip-path=\"url(#clip672)\" style=\"stroke:#000000; stroke-linecap:round; stroke-linejoin:round; stroke-width:4; stroke-opacity:1; fill:none\" points=\"907.127,956.824 595.643,956.824 595.643,994.051 907.127,994.051 907.127,956.824 751.385,956.824 907.127,956.824 \"/>\n",
       "<path clip-path=\"url(#clip672)\" d=\"M751.385 945.921 L673.514 945.921 L829.256 945.921 L751.385 945.921 L751.385 956.824 L751.385 945.921  Z\" fill=\"#e26f46\" fill-rule=\"evenodd\" fill-opacity=\"1\"/>\n",
       "<polyline clip-path=\"url(#clip672)\" style=\"stroke:#000000; stroke-linecap:round; stroke-linejoin:round; stroke-width:4; stroke-opacity:1; fill:none\" points=\"751.385,945.921 673.514,945.921 829.256,945.921 751.385,945.921 751.385,956.824 751.385,945.921 \"/>\n",
       "<circle clip-path=\"url(#clip672)\" cx=\"751.385\" cy=\"849.918\" r=\"14.4\" fill=\"#e26f46\" fill-rule=\"evenodd\" fill-opacity=\"1\" stroke=\"#000000\" stroke-opacity=\"1\" stroke-width=\"3.2\"/>\n",
       "<circle clip-path=\"url(#clip672)\" cx=\"751.385\" cy=\"849.918\" r=\"14.4\" fill=\"#e26f46\" fill-rule=\"evenodd\" fill-opacity=\"1\" stroke=\"#000000\" stroke-opacity=\"1\" stroke-width=\"3.2\"/>\n",
       "<circle clip-path=\"url(#clip672)\" cx=\"751.385\" cy=\"849.918\" r=\"14.4\" fill=\"#e26f46\" fill-rule=\"evenodd\" fill-opacity=\"1\" stroke=\"#000000\" stroke-opacity=\"1\" stroke-width=\"3.2\"/>\n",
       "<circle clip-path=\"url(#clip672)\" cx=\"751.385\" cy=\"849.918\" r=\"14.4\" fill=\"#e26f46\" fill-rule=\"evenodd\" fill-opacity=\"1\" stroke=\"#000000\" stroke-opacity=\"1\" stroke-width=\"3.2\"/>\n",
       "<polyline clip-path=\"url(#clip672)\" style=\"stroke:#e26f46; stroke-linecap:round; stroke-linejoin:round; stroke-width:0; stroke-opacity:1; fill:none\" points=\"751.385,1026.13 673.514,1026.13 829.256,1026.13 751.385,1026.13 751.385,994.214 \"/>\n",
       "<polyline clip-path=\"url(#clip672)\" style=\"stroke:#e26f46; stroke-linecap:round; stroke-linejoin:round; stroke-width:0; stroke-opacity:1; fill:none\" points=\"907.127,994.214 907.127,994.051 595.643,994.051 595.643,994.214 907.127,994.214 907.127,994.051 \"/>\n",
       "<polyline clip-path=\"url(#clip672)\" style=\"stroke:#e26f46; stroke-linecap:round; stroke-linejoin:round; stroke-width:0; stroke-opacity:1; fill:none\" points=\"907.127,956.824 595.643,956.824 595.643,994.051 907.127,994.051 907.127,956.824 751.385,956.824 \"/>\n",
       "<polyline clip-path=\"url(#clip672)\" style=\"stroke:#e26f46; stroke-linecap:round; stroke-linejoin:round; stroke-width:0; stroke-opacity:1; fill:none\" points=\"751.385,945.921 673.514,945.921 829.256,945.921 751.385,945.921 751.385,956.824 \"/>\n",
       "<path clip-path=\"url(#clip672)\" d=\"M1097.48 1092.95 L1019.61 1092.95 L1175.35 1092.95 L1097.48 1092.95 L1097.48 1047.82 L1097.48 1092.95  Z\" fill=\"#3da44d\" fill-rule=\"evenodd\" fill-opacity=\"1\"/>\n",
       "<polyline clip-path=\"url(#clip672)\" style=\"stroke:#000000; stroke-linecap:round; stroke-linejoin:round; stroke-width:4; stroke-opacity:1; fill:none\" points=\"1097.48,1092.95 1019.61,1092.95 1175.35,1092.95 1097.48,1092.95 1097.48,1047.82 1097.48,1092.95 \"/>\n",
       "<path clip-path=\"url(#clip672)\" d=\"M1253.22 1047.82 L1253.22 1047.82 L941.736 1047.82 L941.736 1047.82 L1253.22 1047.82 L1253.22 1047.82 L1253.22 1047.82  Z\" fill=\"#3da44d\" fill-rule=\"evenodd\" fill-opacity=\"1\"/>\n",
       "<polyline clip-path=\"url(#clip672)\" style=\"stroke:#000000; stroke-linecap:round; stroke-linejoin:round; stroke-width:4; stroke-opacity:1; fill:none\" points=\"1253.22,1047.82 1253.22,1047.82 941.736,1047.82 941.736,1047.82 1253.22,1047.82 1253.22,1047.82 1253.22,1047.82 \"/>\n",
       "<path clip-path=\"url(#clip672)\" d=\"M1253.22 1017.57 L941.736 1017.57 L941.736 1047.82 L1253.22 1047.82 L1253.22 1017.57 L1097.48 1017.57 L1253.22 1017.57  Z\" fill=\"#3da44d\" fill-rule=\"evenodd\" fill-opacity=\"1\"/>\n",
       "<polyline clip-path=\"url(#clip672)\" style=\"stroke:#000000; stroke-linecap:round; stroke-linejoin:round; stroke-width:4; stroke-opacity:1; fill:none\" points=\"1253.22,1017.57 941.736,1017.57 941.736,1047.82 1253.22,1047.82 1253.22,1017.57 1097.48,1017.57 1253.22,1017.57 \"/>\n",
       "<path clip-path=\"url(#clip672)\" d=\"M1097.48 1006.63 L1019.61 1006.63 L1175.35 1006.63 L1097.48 1006.63 L1097.48 1017.57 L1097.48 1006.63  Z\" fill=\"#3da44d\" fill-rule=\"evenodd\" fill-opacity=\"1\"/>\n",
       "<polyline clip-path=\"url(#clip672)\" style=\"stroke:#000000; stroke-linecap:round; stroke-linejoin:round; stroke-width:4; stroke-opacity:1; fill:none\" points=\"1097.48,1006.63 1019.61,1006.63 1175.35,1006.63 1097.48,1006.63 1097.48,1017.57 1097.48,1006.63 \"/>\n",
       "<circle clip-path=\"url(#clip672)\" cx=\"1097.48\" cy=\"906.706\" r=\"14.4\" fill=\"#3da44d\" fill-rule=\"evenodd\" fill-opacity=\"1\" stroke=\"#000000\" stroke-opacity=\"1\" stroke-width=\"3.2\"/>\n",
       "<circle clip-path=\"url(#clip672)\" cx=\"1097.48\" cy=\"906.706\" r=\"14.4\" fill=\"#3da44d\" fill-rule=\"evenodd\" fill-opacity=\"1\" stroke=\"#000000\" stroke-opacity=\"1\" stroke-width=\"3.2\"/>\n",
       "<circle clip-path=\"url(#clip672)\" cx=\"1097.48\" cy=\"906.706\" r=\"14.4\" fill=\"#3da44d\" fill-rule=\"evenodd\" fill-opacity=\"1\" stroke=\"#000000\" stroke-opacity=\"1\" stroke-width=\"3.2\"/>\n",
       "<circle clip-path=\"url(#clip672)\" cx=\"1097.48\" cy=\"906.706\" r=\"14.4\" fill=\"#3da44d\" fill-rule=\"evenodd\" fill-opacity=\"1\" stroke=\"#000000\" stroke-opacity=\"1\" stroke-width=\"3.2\"/>\n",
       "<polyline clip-path=\"url(#clip672)\" style=\"stroke:#3da44d; stroke-linecap:round; stroke-linejoin:round; stroke-width:0; stroke-opacity:1; fill:none\" points=\"1097.48,1092.95 1019.61,1092.95 1175.35,1092.95 1097.48,1092.95 1097.48,1047.82 \"/>\n",
       "<polyline clip-path=\"url(#clip672)\" style=\"stroke:#3da44d; stroke-linecap:round; stroke-linejoin:round; stroke-width:0; stroke-opacity:1; fill:none\" points=\"1253.22,1047.82 1253.22,1047.82 941.736,1047.82 941.736,1047.82 1253.22,1047.82 1253.22,1047.82 \"/>\n",
       "<polyline clip-path=\"url(#clip672)\" style=\"stroke:#3da44d; stroke-linecap:round; stroke-linejoin:round; stroke-width:0; stroke-opacity:1; fill:none\" points=\"1253.22,1017.57 941.736,1017.57 941.736,1047.82 1253.22,1047.82 1253.22,1017.57 1097.48,1017.57 \"/>\n",
       "<polyline clip-path=\"url(#clip672)\" style=\"stroke:#3da44d; stroke-linecap:round; stroke-linejoin:round; stroke-width:0; stroke-opacity:1; fill:none\" points=\"1097.48,1006.63 1019.61,1006.63 1175.35,1006.63 1097.48,1006.63 1097.48,1017.57 \"/>\n",
       "<path clip-path=\"url(#clip672)\" d=\"M1443.57 1052.48 L1365.7 1052.48 L1521.44 1052.48 L1443.57 1052.48 L1443.57 1047.91 L1443.57 1052.48  Z\" fill=\"#c271d2\" fill-rule=\"evenodd\" fill-opacity=\"1\"/>\n",
       "<polyline clip-path=\"url(#clip672)\" style=\"stroke:#000000; stroke-linecap:round; stroke-linejoin:round; stroke-width:4; stroke-opacity:1; fill:none\" points=\"1443.57,1052.48 1365.7,1052.48 1521.44,1052.48 1443.57,1052.48 1443.57,1047.91 1443.57,1052.48 \"/>\n",
       "<path clip-path=\"url(#clip672)\" d=\"M1599.31 1047.91 L1599.31 1047.91 L1287.83 1047.91 L1287.83 1047.91 L1599.31 1047.91 L1599.31 1047.91 L1599.31 1047.91  Z\" fill=\"#c271d2\" fill-rule=\"evenodd\" fill-opacity=\"1\"/>\n",
       "<polyline clip-path=\"url(#clip672)\" style=\"stroke:#000000; stroke-linecap:round; stroke-linejoin:round; stroke-width:4; stroke-opacity:1; fill:none\" points=\"1599.31,1047.91 1599.31,1047.91 1287.83,1047.91 1599.31,1047.91 \"/>\n",
       "<path clip-path=\"url(#clip672)\" d=\"M1599.31 1034.31 L1287.83 1034.31 L1287.83 1047.91 L1599.31 1047.91 L1599.31 1034.31 L1443.57 1034.31 L1599.31 1034.31  Z\" fill=\"#c271d2\" fill-rule=\"evenodd\" fill-opacity=\"1\"/>\n",
       "<polyline clip-path=\"url(#clip672)\" style=\"stroke:#000000; stroke-linecap:round; stroke-linejoin:round; stroke-width:4; stroke-opacity:1; fill:none\" points=\"1599.31,1034.31 1287.83,1034.31 1287.83,1047.91 1599.31,1047.91 1599.31,1034.31 1443.57,1034.31 1599.31,1034.31 \"/>\n",
       "<path clip-path=\"url(#clip672)\" d=\"M1443.57 1033.88 L1365.7 1033.88 L1521.44 1033.88 L1443.57 1033.88 L1443.57 1034.31 L1443.57 1033.88  Z\" fill=\"#c271d2\" fill-rule=\"evenodd\" fill-opacity=\"1\"/>\n",
       "<polyline clip-path=\"url(#clip672)\" style=\"stroke:#000000; stroke-linecap:round; stroke-linejoin:round; stroke-width:4; stroke-opacity:1; fill:none\" points=\"1443.57,1033.88 1365.7,1033.88 1521.44,1033.88 1443.57,1033.88 1443.57,1034.31 1443.57,1033.88 \"/>\n",
       "<circle clip-path=\"url(#clip672)\" cx=\"1443.57\" cy=\"1093.46\" r=\"14.4\" fill=\"#c271d2\" fill-rule=\"evenodd\" fill-opacity=\"1\" stroke=\"#000000\" stroke-opacity=\"1\" stroke-width=\"3.2\"/>\n",
       "<circle clip-path=\"url(#clip672)\" cx=\"1443.57\" cy=\"1006.65\" r=\"14.4\" fill=\"#c271d2\" fill-rule=\"evenodd\" fill-opacity=\"1\" stroke=\"#000000\" stroke-opacity=\"1\" stroke-width=\"3.2\"/>\n",
       "<polyline clip-path=\"url(#clip672)\" style=\"stroke:#c271d2; stroke-linecap:round; stroke-linejoin:round; stroke-width:0; stroke-opacity:1; fill:none\" points=\"1443.57,1052.48 1365.7,1052.48 1521.44,1052.48 1443.57,1052.48 1443.57,1047.91 \"/>\n",
       "<polyline clip-path=\"url(#clip672)\" style=\"stroke:#c271d2; stroke-linecap:round; stroke-linejoin:round; stroke-width:0; stroke-opacity:1; fill:none\" points=\"1599.31,1047.91 1599.31,1047.91 1287.83,1047.91 1599.31,1047.91 \"/>\n",
       "<polyline clip-path=\"url(#clip672)\" style=\"stroke:#c271d2; stroke-linecap:round; stroke-linejoin:round; stroke-width:0; stroke-opacity:1; fill:none\" points=\"1599.31,1034.31 1287.83,1034.31 1287.83,1047.91 1599.31,1047.91 1599.31,1034.31 1443.57,1034.31 \"/>\n",
       "<polyline clip-path=\"url(#clip672)\" style=\"stroke:#c271d2; stroke-linecap:round; stroke-linejoin:round; stroke-width:0; stroke-opacity:1; fill:none\" points=\"1443.57,1033.88 1365.7,1033.88 1521.44,1033.88 1443.57,1033.88 1443.57,1034.31 \"/>\n",
       "<path clip-path=\"url(#clip672)\" d=\"M1789.66 1057.18 L1711.79 1057.18 L1867.53 1057.18 L1789.66 1057.18 L1789.66 1054.75 L1789.66 1057.18  Z\" fill=\"#ac8d18\" fill-rule=\"evenodd\" fill-opacity=\"1\"/>\n",
       "<polyline clip-path=\"url(#clip672)\" style=\"stroke:#000000; stroke-linecap:round; stroke-linejoin:round; stroke-width:4; stroke-opacity:1; fill:none\" points=\"1789.66,1057.18 1711.79,1057.18 1867.53,1057.18 1789.66,1057.18 1789.66,1054.75 1789.66,1057.18 \"/>\n",
       "<path clip-path=\"url(#clip672)\" d=\"M1945.4 1054.75 L1945.4 1047.91 L1633.92 1047.91 L1633.92 1054.75 L1945.4 1054.75 L1945.4 1047.91 L1945.4 1054.75  Z\" fill=\"#ac8d18\" fill-rule=\"evenodd\" fill-opacity=\"1\"/>\n",
       "<polyline clip-path=\"url(#clip672)\" style=\"stroke:#000000; stroke-linecap:round; stroke-linejoin:round; stroke-width:4; stroke-opacity:1; fill:none\" points=\"1945.4,1054.75 1945.4,1047.91 1633.92,1047.91 1633.92,1054.75 1945.4,1054.75 1945.4,1047.91 1945.4,1054.75 \"/>\n",
       "<path clip-path=\"url(#clip672)\" d=\"M1945.4 1047.91 L1633.92 1047.91 L1633.92 1047.91 L1945.4 1047.91 L1945.4 1047.91 L1789.66 1047.91 L1945.4 1047.91  Z\" fill=\"#ac8d18\" fill-rule=\"evenodd\" fill-opacity=\"1\"/>\n",
       "<polyline clip-path=\"url(#clip672)\" style=\"stroke:#000000; stroke-linecap:round; stroke-linejoin:round; stroke-width:4; stroke-opacity:1; fill:none\" points=\"1945.4,1047.91 1633.92,1047.91 1945.4,1047.91 1789.66,1047.91 1945.4,1047.91 \"/>\n",
       "<path clip-path=\"url(#clip672)\" d=\"M1789.66 1047.91 L1711.79 1047.91 L1867.53 1047.91 L1789.66 1047.91 L1789.66 1047.91 L1789.66 1047.91  Z\" fill=\"#ac8d18\" fill-rule=\"evenodd\" fill-opacity=\"1\"/>\n",
       "<polyline clip-path=\"url(#clip672)\" style=\"stroke:#000000; stroke-linecap:round; stroke-linejoin:round; stroke-width:4; stroke-opacity:1; fill:none\" points=\"1789.66,1047.91 1711.79,1047.91 1867.53,1047.91 1789.66,1047.91 \"/>\n",
       "<circle clip-path=\"url(#clip672)\" cx=\"1789.66\" cy=\"1093.46\" r=\"14.4\" fill=\"#ac8d18\" fill-rule=\"evenodd\" fill-opacity=\"1\" stroke=\"#000000\" stroke-opacity=\"1\" stroke-width=\"3.2\"/>\n",
       "<circle clip-path=\"url(#clip672)\" cx=\"1789.66\" cy=\"1033.88\" r=\"14.4\" fill=\"#ac8d18\" fill-rule=\"evenodd\" fill-opacity=\"1\" stroke=\"#000000\" stroke-opacity=\"1\" stroke-width=\"3.2\"/>\n",
       "<circle clip-path=\"url(#clip672)\" cx=\"1789.66\" cy=\"1006.65\" r=\"14.4\" fill=\"#ac8d18\" fill-rule=\"evenodd\" fill-opacity=\"1\" stroke=\"#000000\" stroke-opacity=\"1\" stroke-width=\"3.2\"/>\n",
       "<polyline clip-path=\"url(#clip672)\" style=\"stroke:#ac8d18; stroke-linecap:round; stroke-linejoin:round; stroke-width:0; stroke-opacity:1; fill:none\" points=\"1789.66,1057.18 1711.79,1057.18 1867.53,1057.18 1789.66,1057.18 1789.66,1054.75 \"/>\n",
       "<polyline clip-path=\"url(#clip672)\" style=\"stroke:#ac8d18; stroke-linecap:round; stroke-linejoin:round; stroke-width:0; stroke-opacity:1; fill:none\" points=\"1945.4,1054.75 1945.4,1047.91 1633.92,1047.91 1633.92,1054.75 1945.4,1054.75 1945.4,1047.91 \"/>\n",
       "<polyline clip-path=\"url(#clip672)\" style=\"stroke:#ac8d18; stroke-linecap:round; stroke-linejoin:round; stroke-width:0; stroke-opacity:1; fill:none\" points=\"1945.4,1047.91 1633.92,1047.91 1945.4,1047.91 1789.66,1047.91 \"/>\n",
       "<polyline clip-path=\"url(#clip672)\" style=\"stroke:#ac8d18; stroke-linecap:round; stroke-linejoin:round; stroke-width:0; stroke-opacity:1; fill:none\" points=\"1789.66,1047.91 1711.79,1047.91 1867.53,1047.91 1789.66,1047.91 \"/>\n",
       "<path clip-path=\"url(#clip672)\" d=\"M2135.76 964.016 L2057.88 964.016 L2213.63 964.016 L2135.76 964.016 L2135.76 946.108 L2135.76 964.016  Z\" fill=\"#00a9ad\" fill-rule=\"evenodd\" fill-opacity=\"1\"/>\n",
       "<polyline clip-path=\"url(#clip672)\" style=\"stroke:#000000; stroke-linecap:round; stroke-linejoin:round; stroke-width:4; stroke-opacity:1; fill:none\" points=\"2135.76,964.016 2057.88,964.016 2213.63,964.016 2135.76,964.016 2135.76,946.108 2135.76,964.016 \"/>\n",
       "<path clip-path=\"url(#clip672)\" d=\"M2291.5 946.108 L2291.5 944.7 L1980.01 944.7 L1980.01 946.108 L2291.5 946.108 L2291.5 944.7 L2291.5 946.108  Z\" fill=\"#00a9ad\" fill-rule=\"evenodd\" fill-opacity=\"1\"/>\n",
       "<polyline clip-path=\"url(#clip672)\" style=\"stroke:#000000; stroke-linecap:round; stroke-linejoin:round; stroke-width:4; stroke-opacity:1; fill:none\" points=\"2291.5,946.108 2291.5,944.7 1980.01,944.7 1980.01,946.108 2291.5,946.108 2291.5,944.7 2291.5,946.108 \"/>\n",
       "<path clip-path=\"url(#clip672)\" d=\"M2291.5 926.522 L1980.01 926.522 L1980.01 944.7 L2291.5 944.7 L2291.5 926.522 L2135.76 926.522 L2291.5 926.522  Z\" fill=\"#00a9ad\" fill-rule=\"evenodd\" fill-opacity=\"1\"/>\n",
       "<polyline clip-path=\"url(#clip672)\" style=\"stroke:#000000; stroke-linecap:round; stroke-linejoin:round; stroke-width:4; stroke-opacity:1; fill:none\" points=\"2291.5,926.522 1980.01,926.522 1980.01,944.7 2291.5,944.7 2291.5,926.522 2135.76,926.522 2291.5,926.522 \"/>\n",
       "<path clip-path=\"url(#clip672)\" d=\"M2135.76 916.375 L2057.88 916.375 L2213.63 916.375 L2135.76 916.375 L2135.76 926.522 L2135.76 916.375  Z\" fill=\"#00a9ad\" fill-rule=\"evenodd\" fill-opacity=\"1\"/>\n",
       "<polyline clip-path=\"url(#clip672)\" style=\"stroke:#000000; stroke-linecap:round; stroke-linejoin:round; stroke-width:4; stroke-opacity:1; fill:none\" points=\"2135.76,916.375 2057.88,916.375 2213.63,916.375 2135.76,916.375 2135.76,926.522 2135.76,916.375 \"/>\n",
       "<circle clip-path=\"url(#clip672)\" cx=\"2135.76\" cy=\"692.923\" r=\"14.4\" fill=\"#00a9ad\" fill-rule=\"evenodd\" fill-opacity=\"1\" stroke=\"#000000\" stroke-opacity=\"1\" stroke-width=\"3.2\"/>\n",
       "<circle clip-path=\"url(#clip672)\" cx=\"2135.76\" cy=\"692.923\" r=\"14.4\" fill=\"#00a9ad\" fill-rule=\"evenodd\" fill-opacity=\"1\" stroke=\"#000000\" stroke-opacity=\"1\" stroke-width=\"3.2\"/>\n",
       "<circle clip-path=\"url(#clip672)\" cx=\"2135.76\" cy=\"692.923\" r=\"14.4\" fill=\"#00a9ad\" fill-rule=\"evenodd\" fill-opacity=\"1\" stroke=\"#000000\" stroke-opacity=\"1\" stroke-width=\"3.2\"/>\n",
       "<circle clip-path=\"url(#clip672)\" cx=\"2135.76\" cy=\"692.923\" r=\"14.4\" fill=\"#00a9ad\" fill-rule=\"evenodd\" fill-opacity=\"1\" stroke=\"#000000\" stroke-opacity=\"1\" stroke-width=\"3.2\"/>\n",
       "<polyline clip-path=\"url(#clip672)\" style=\"stroke:#00a9ad; stroke-linecap:round; stroke-linejoin:round; stroke-width:0; stroke-opacity:1; fill:none\" points=\"2135.76,964.016 2057.88,964.016 2213.63,964.016 2135.76,964.016 2135.76,946.108 \"/>\n",
       "<polyline clip-path=\"url(#clip672)\" style=\"stroke:#00a9ad; stroke-linecap:round; stroke-linejoin:round; stroke-width:0; stroke-opacity:1; fill:none\" points=\"2291.5,946.108 2291.5,944.7 1980.01,944.7 1980.01,946.108 2291.5,946.108 2291.5,944.7 \"/>\n",
       "<polyline clip-path=\"url(#clip672)\" style=\"stroke:#00a9ad; stroke-linecap:round; stroke-linejoin:round; stroke-width:0; stroke-opacity:1; fill:none\" points=\"2291.5,926.522 1980.01,926.522 1980.01,944.7 2291.5,944.7 2291.5,926.522 2135.76,926.522 \"/>\n",
       "<polyline clip-path=\"url(#clip672)\" style=\"stroke:#00a9ad; stroke-linecap:round; stroke-linejoin:round; stroke-width:0; stroke-opacity:1; fill:none\" points=\"2135.76,916.375 2057.88,916.375 2213.63,916.375 2135.76,916.375 2135.76,926.522 \"/>\n",
       "<path clip-path=\"url(#clip670)\" d=\"M1682.52 458.098 L2280.61 458.098 L2280.61 95.2176 L1682.52 95.2176  Z\" fill=\"#ffffff\" fill-rule=\"evenodd\" fill-opacity=\"1\"/>\n",
       "<polyline clip-path=\"url(#clip670)\" style=\"stroke:#000000; stroke-linecap:round; stroke-linejoin:round; stroke-width:4; stroke-opacity:1; fill:none\" points=\"1682.52,458.098 2280.61,458.098 2280.61,95.2176 1682.52,95.2176 1682.52,458.098 \"/>\n",
       "<path clip-path=\"url(#clip670)\" d=\"M1706.57 167.794 L1850.87 167.794 L1850.87 126.322 L1706.57 126.322 L1706.57 167.794  Z\" fill=\"#009af9\" fill-rule=\"evenodd\" fill-opacity=\"1\"/>\n",
       "<polyline clip-path=\"url(#clip670)\" style=\"stroke:#000000; stroke-linecap:round; stroke-linejoin:round; stroke-width:4; stroke-opacity:1; fill:none\" points=\"1706.57,167.794 1850.87,167.794 1850.87,126.322 1706.57,126.322 1706.57,167.794 \"/>\n",
       "<path clip-path=\"url(#clip670)\" d=\"M1879.59 133.62 L1879.59 160.495 L1885.24 160.495 Q1892.39 160.495 1895.7 157.254 Q1899.04 154.014 1899.04 147.023 Q1899.04 140.078 1895.7 136.861 Q1892.39 133.62 1885.24 133.62 L1879.59 133.62 M1874.92 129.778 L1884.52 129.778 Q1894.57 129.778 1899.27 133.967 Q1903.97 138.134 1903.97 147.023 Q1903.97 155.958 1899.24 160.148 Q1894.52 164.338 1884.52 164.338 L1874.92 164.338 L1874.92 129.778 Z\" fill=\"#000000\" fill-rule=\"nonzero\" fill-opacity=\"1\" /><path clip-path=\"url(#clip670)\" d=\"M1933.41 150.31 L1933.41 152.393 L1913.83 152.393 Q1914.11 156.791 1916.47 159.106 Q1918.85 161.398 1923.09 161.398 Q1925.54 161.398 1927.83 160.796 Q1930.15 160.194 1932.42 158.99 L1932.42 163.018 Q1930.12 163.99 1927.72 164.5 Q1925.31 165.009 1922.83 165.009 Q1916.63 165.009 1912.99 161.398 Q1909.38 157.787 1909.38 151.629 Q1909.38 145.264 1912.81 141.537 Q1916.26 137.787 1922.09 137.787 Q1927.32 137.787 1930.36 141.166 Q1933.41 144.523 1933.41 150.31 M1929.15 149.06 Q1929.11 145.565 1927.18 143.481 Q1925.29 141.398 1922.14 141.398 Q1918.57 141.398 1916.42 143.412 Q1914.29 145.426 1913.97 149.083 L1929.15 149.06 Z\" fill=\"#000000\" fill-rule=\"nonzero\" fill-opacity=\"1\" /><path clip-path=\"url(#clip670)\" d=\"M1957.46 151.074 Q1957.46 146.444 1955.54 143.898 Q1953.64 141.352 1950.19 141.352 Q1946.77 141.352 1944.85 143.898 Q1942.95 146.444 1942.95 151.074 Q1942.95 155.68 1944.85 158.226 Q1946.77 160.773 1950.19 160.773 Q1953.64 160.773 1955.54 158.226 Q1957.46 155.68 1957.46 151.074 M1961.72 161.12 Q1961.72 167.74 1958.78 170.958 Q1955.84 174.199 1949.78 174.199 Q1947.53 174.199 1945.54 173.851 Q1943.55 173.527 1941.67 172.833 L1941.67 168.689 Q1943.55 169.708 1945.38 170.194 Q1947.21 170.68 1949.11 170.68 Q1953.3 170.68 1955.38 168.481 Q1957.46 166.305 1957.46 161.884 L1957.46 159.777 Q1956.14 162.069 1954.08 163.203 Q1952.02 164.338 1949.15 164.338 Q1944.38 164.338 1941.47 160.703 Q1938.55 157.069 1938.55 151.074 Q1938.55 145.055 1941.47 141.421 Q1944.38 137.787 1949.15 137.787 Q1952.02 137.787 1954.08 138.921 Q1956.14 140.055 1957.46 142.347 L1957.46 138.412 L1961.72 138.412 L1961.72 161.12 Z\" fill=\"#000000\" fill-rule=\"nonzero\" fill-opacity=\"1\" /><path clip-path=\"url(#clip670)\" d=\"M1985.52 142.393 Q1984.8 141.977 1983.94 141.791 Q1983.11 141.583 1982.09 141.583 Q1978.48 141.583 1976.54 143.944 Q1974.61 146.282 1974.61 150.68 L1974.61 164.338 L1970.33 164.338 L1970.33 138.412 L1974.61 138.412 L1974.61 142.44 Q1975.96 140.078 1978.11 138.944 Q1980.26 137.787 1983.34 137.787 Q1983.78 137.787 1984.31 137.856 Q1984.85 137.903 1985.49 138.018 L1985.52 142.393 Z\" fill=\"#000000\" fill-rule=\"nonzero\" fill-opacity=\"1\" /><path clip-path=\"url(#clip670)\" d=\"M2011.12 150.31 L2011.12 152.393 L1991.54 152.393 Q1991.81 156.791 1994.17 159.106 Q1996.56 161.398 2000.8 161.398 Q2003.25 161.398 2005.54 160.796 Q2007.86 160.194 2010.12 158.99 L2010.12 163.018 Q2007.83 163.99 2005.42 164.5 Q2003.02 165.009 2000.54 165.009 Q1994.34 165.009 1990.7 161.398 Q1987.09 157.787 1987.09 151.629 Q1987.09 145.264 1990.52 141.537 Q1993.97 137.787 1999.8 137.787 Q2005.03 137.787 2008.06 141.166 Q2011.12 144.523 2011.12 150.31 M2006.86 149.06 Q2006.81 145.565 2004.89 143.481 Q2002.99 141.398 1999.85 141.398 Q1996.28 141.398 1994.13 143.412 Q1992 145.426 1991.67 149.083 L2006.86 149.06 Z\" fill=\"#000000\" fill-rule=\"nonzero\" fill-opacity=\"1\" /><path clip-path=\"url(#clip670)\" d=\"M2040.29 150.31 L2040.29 152.393 L2020.7 152.393 Q2020.98 156.791 2023.34 159.106 Q2025.73 161.398 2029.96 161.398 Q2032.42 161.398 2034.71 160.796 Q2037.02 160.194 2039.29 158.99 L2039.29 163.018 Q2037 163.99 2034.59 164.5 Q2032.18 165.009 2029.71 165.009 Q2023.5 165.009 2019.87 161.398 Q2016.26 157.787 2016.26 151.629 Q2016.26 145.264 2019.68 141.537 Q2023.13 137.787 2028.97 137.787 Q2034.2 137.787 2037.23 141.166 Q2040.29 144.523 2040.29 150.31 M2036.03 149.06 Q2035.98 145.565 2034.06 143.481 Q2032.16 141.398 2029.01 141.398 Q2025.45 141.398 2023.29 143.412 Q2021.17 145.426 2020.84 149.083 L2036.03 149.06 Z\" fill=\"#000000\" fill-rule=\"nonzero\" fill-opacity=\"1\" /><path clip-path=\"url(#clip670)\" d=\"M1706.57 219.634 L1850.87 219.634 L1850.87 178.162 L1706.57 178.162 L1706.57 219.634  Z\" fill=\"#e26f46\" fill-rule=\"evenodd\" fill-opacity=\"1\"/>\n",
       "<polyline clip-path=\"url(#clip670)\" style=\"stroke:#000000; stroke-linecap:round; stroke-linejoin:round; stroke-width:4; stroke-opacity:1; fill:none\" points=\"1706.57,219.634 1850.87,219.634 1850.87,178.162 1706.57,178.162 1706.57,219.634 \"/>\n",
       "<path clip-path=\"url(#clip670)\" d=\"M1879.59 185.46 L1879.59 212.335 L1885.24 212.335 Q1892.39 212.335 1895.7 209.094 Q1899.04 205.854 1899.04 198.863 Q1899.04 191.918 1895.7 188.701 Q1892.39 185.46 1885.24 185.46 L1879.59 185.46 M1874.92 181.618 L1884.52 181.618 Q1894.57 181.618 1899.27 185.807 Q1903.97 189.974 1903.97 198.863 Q1903.97 207.798 1899.24 211.988 Q1894.52 216.178 1884.52 216.178 L1874.92 216.178 L1874.92 181.618 Z\" fill=\"#000000\" fill-rule=\"nonzero\" fill-opacity=\"1\" /><path clip-path=\"url(#clip670)\" d=\"M1911.24 190.252 L1915.49 190.252 L1915.49 216.178 L1911.24 216.178 L1911.24 190.252 M1911.24 180.159 L1915.49 180.159 L1915.49 185.553 L1911.24 185.553 L1911.24 180.159 Z\" fill=\"#000000\" fill-rule=\"nonzero\" fill-opacity=\"1\" /><path clip-path=\"url(#clip670)\" d=\"M1939.43 194.233 Q1938.71 193.817 1937.86 193.631 Q1937.02 193.423 1936 193.423 Q1932.39 193.423 1930.45 195.784 Q1928.53 198.122 1928.53 202.52 L1928.53 216.178 L1924.24 216.178 L1924.24 190.252 L1928.53 190.252 L1928.53 194.28 Q1929.87 191.918 1932.02 190.784 Q1934.17 189.627 1937.25 189.627 Q1937.69 189.627 1938.23 189.696 Q1938.76 189.743 1939.41 189.858 L1939.43 194.233 Z\" fill=\"#000000\" fill-rule=\"nonzero\" fill-opacity=\"1\" /><path clip-path=\"url(#clip670)\" d=\"M1965.03 202.15 L1965.03 204.233 L1945.45 204.233 Q1945.73 208.631 1948.09 210.946 Q1950.47 213.238 1954.71 213.238 Q1957.16 213.238 1959.45 212.636 Q1961.77 212.034 1964.04 210.83 L1964.04 214.858 Q1961.74 215.83 1959.34 216.34 Q1956.93 216.849 1954.45 216.849 Q1948.25 216.849 1944.61 213.238 Q1941 209.627 1941 203.469 Q1941 197.104 1944.43 193.377 Q1947.88 189.627 1953.71 189.627 Q1958.94 189.627 1961.98 193.006 Q1965.03 196.363 1965.03 202.15 M1960.77 200.9 Q1960.73 197.405 1958.8 195.321 Q1956.91 193.238 1953.76 193.238 Q1950.19 193.238 1948.04 195.252 Q1945.91 197.266 1945.59 200.923 L1960.77 200.9 Z\" fill=\"#000000\" fill-rule=\"nonzero\" fill-opacity=\"1\" /><path clip-path=\"url(#clip670)\" d=\"M1990.68 191.247 L1990.68 195.229 Q1988.87 194.233 1987.05 193.747 Q1985.24 193.238 1983.39 193.238 Q1979.24 193.238 1976.95 195.877 Q1974.66 198.492 1974.66 203.238 Q1974.66 207.983 1976.95 210.622 Q1979.24 213.238 1983.39 213.238 Q1985.24 213.238 1987.05 212.752 Q1988.87 212.242 1990.68 211.247 L1990.68 215.182 Q1988.9 216.016 1986.98 216.432 Q1985.08 216.849 1982.92 216.849 Q1977.07 216.849 1973.62 213.168 Q1970.17 209.488 1970.17 203.238 Q1970.17 196.895 1973.64 193.261 Q1977.14 189.627 1983.2 189.627 Q1985.17 189.627 1987.05 190.043 Q1988.92 190.437 1990.68 191.247 Z\" fill=\"#000000\" fill-rule=\"nonzero\" fill-opacity=\"1\" /><path clip-path=\"url(#clip670)\" d=\"M2002.3 182.891 L2002.3 190.252 L2011.07 190.252 L2011.07 193.562 L2002.3 193.562 L2002.3 207.636 Q2002.3 210.807 2003.16 211.71 Q2004.04 212.613 2006.7 212.613 L2011.07 212.613 L2011.07 216.178 L2006.7 216.178 Q2001.77 216.178 1999.89 214.349 Q1998.02 212.497 1998.02 207.636 L1998.02 193.562 L1994.89 193.562 L1994.89 190.252 L1998.02 190.252 L1998.02 182.891 L2002.3 182.891 Z\" fill=\"#000000\" fill-rule=\"nonzero\" fill-opacity=\"1\" /><path clip-path=\"url(#clip670)\" d=\"M2038.85 202.15 L2038.85 204.233 L2019.27 204.233 Q2019.54 208.631 2021.91 210.946 Q2024.29 213.238 2028.53 213.238 Q2030.98 213.238 2033.27 212.636 Q2035.59 212.034 2037.85 210.83 L2037.85 214.858 Q2035.56 215.83 2033.16 216.34 Q2030.75 216.849 2028.27 216.849 Q2022.07 216.849 2018.43 213.238 Q2014.82 209.627 2014.82 203.469 Q2014.82 197.104 2018.25 193.377 Q2021.7 189.627 2027.53 189.627 Q2032.76 189.627 2035.79 193.006 Q2038.85 196.363 2038.85 202.15 M2034.59 200.9 Q2034.54 197.405 2032.62 195.321 Q2030.73 193.238 2027.58 193.238 Q2024.01 193.238 2021.86 195.252 Q2019.73 197.266 2019.41 200.923 L2034.59 200.9 Z\" fill=\"#000000\" fill-rule=\"nonzero\" fill-opacity=\"1\" /><path clip-path=\"url(#clip670)\" d=\"M2062.9 194.187 L2062.9 180.159 L2067.16 180.159 L2067.16 216.178 L2062.9 216.178 L2062.9 212.289 Q2061.56 214.603 2059.5 215.738 Q2057.46 216.849 2054.59 216.849 Q2049.89 216.849 2046.93 213.099 Q2043.99 209.349 2043.99 203.238 Q2043.99 197.127 2046.93 193.377 Q2049.89 189.627 2054.59 189.627 Q2057.46 189.627 2059.5 190.761 Q2061.56 191.872 2062.9 194.187 M2048.39 203.238 Q2048.39 207.937 2050.31 210.622 Q2052.25 213.284 2055.63 213.284 Q2059.01 213.284 2060.96 210.622 Q2062.9 207.937 2062.9 203.238 Q2062.9 198.539 2060.96 195.877 Q2059.01 193.192 2055.63 193.192 Q2052.25 193.192 2050.31 195.877 Q2048.39 198.539 2048.39 203.238 Z\" fill=\"#000000\" fill-rule=\"nonzero\" fill-opacity=\"1\" /><path clip-path=\"url(#clip670)\" d=\"M2095.86 185.46 L2095.86 212.335 L2101.51 212.335 Q2108.66 212.335 2111.97 209.094 Q2115.31 205.854 2115.31 198.863 Q2115.31 191.918 2111.97 188.701 Q2108.66 185.46 2101.51 185.46 L2095.86 185.46 M2091.19 181.618 L2100.79 181.618 Q2110.84 181.618 2115.54 185.807 Q2120.24 189.974 2120.24 198.863 Q2120.24 207.798 2115.52 211.988 Q2110.79 216.178 2100.79 216.178 L2091.19 216.178 L2091.19 181.618 Z\" fill=\"#000000\" fill-rule=\"nonzero\" fill-opacity=\"1\" /><path clip-path=\"url(#clip670)\" d=\"M2149.68 202.15 L2149.68 204.233 L2130.1 204.233 Q2130.38 208.631 2132.74 210.946 Q2135.12 213.238 2139.36 213.238 Q2141.81 213.238 2144.1 212.636 Q2146.42 212.034 2148.69 210.83 L2148.69 214.858 Q2146.4 215.83 2143.99 216.34 Q2141.58 216.849 2139.1 216.849 Q2132.9 216.849 2129.27 213.238 Q2125.66 209.627 2125.66 203.469 Q2125.66 197.104 2129.08 193.377 Q2132.53 189.627 2138.36 189.627 Q2143.6 189.627 2146.63 193.006 Q2149.68 196.363 2149.68 202.15 M2145.42 200.9 Q2145.38 197.405 2143.46 195.321 Q2141.56 193.238 2138.41 193.238 Q2134.85 193.238 2132.69 195.252 Q2130.56 197.266 2130.24 200.923 L2145.42 200.9 Z\" fill=\"#000000\" fill-rule=\"nonzero\" fill-opacity=\"1\" /><path clip-path=\"url(#clip670)\" d=\"M2173.73 202.914 Q2173.73 198.284 2171.81 195.738 Q2169.91 193.192 2166.47 193.192 Q2163.04 193.192 2161.12 195.738 Q2159.22 198.284 2159.22 202.914 Q2159.22 207.52 2161.12 210.066 Q2163.04 212.613 2166.47 212.613 Q2169.91 212.613 2171.81 210.066 Q2173.73 207.52 2173.73 202.914 M2177.99 212.96 Q2177.99 219.58 2175.05 222.798 Q2172.11 226.039 2166.05 226.039 Q2163.8 226.039 2161.81 225.691 Q2159.82 225.367 2157.95 224.673 L2157.95 220.529 Q2159.82 221.548 2161.65 222.034 Q2163.48 222.52 2165.38 222.52 Q2169.57 222.52 2171.65 220.321 Q2173.73 218.145 2173.73 213.724 L2173.73 211.617 Q2172.41 213.909 2170.35 215.043 Q2168.29 216.178 2165.42 216.178 Q2160.66 216.178 2157.74 212.543 Q2154.82 208.909 2154.82 202.914 Q2154.82 196.895 2157.74 193.261 Q2160.66 189.627 2165.42 189.627 Q2168.29 189.627 2170.35 190.761 Q2172.41 191.895 2173.73 194.187 L2173.73 190.252 L2177.99 190.252 L2177.99 212.96 Z\" fill=\"#000000\" fill-rule=\"nonzero\" fill-opacity=\"1\" /><path clip-path=\"url(#clip670)\" d=\"M2201.79 194.233 Q2201.07 193.817 2200.22 193.631 Q2199.38 193.423 2198.36 193.423 Q2194.75 193.423 2192.81 195.784 Q2190.89 198.122 2190.89 202.52 L2190.89 216.178 L2186.6 216.178 L2186.6 190.252 L2190.89 190.252 L2190.89 194.28 Q2192.23 191.918 2194.38 190.784 Q2196.53 189.627 2199.61 189.627 Q2200.05 189.627 2200.59 189.696 Q2201.12 189.743 2201.77 189.858 L2201.79 194.233 Z\" fill=\"#000000\" fill-rule=\"nonzero\" fill-opacity=\"1\" /><path clip-path=\"url(#clip670)\" d=\"M2227.39 202.15 L2227.39 204.233 L2207.81 204.233 Q2208.09 208.631 2210.45 210.946 Q2212.83 213.238 2217.07 213.238 Q2219.52 213.238 2221.81 212.636 Q2224.13 212.034 2226.4 210.83 L2226.4 214.858 Q2224.1 215.83 2221.7 216.34 Q2219.29 216.849 2216.81 216.849 Q2210.61 216.849 2206.97 213.238 Q2203.36 209.627 2203.36 203.469 Q2203.36 197.104 2206.79 193.377 Q2210.24 189.627 2216.07 189.627 Q2221.3 189.627 2224.34 193.006 Q2227.39 196.363 2227.39 202.15 M2223.13 200.9 Q2223.09 197.405 2221.16 195.321 Q2219.27 193.238 2216.12 193.238 Q2212.55 193.238 2210.4 195.252 Q2208.27 197.266 2207.95 200.923 L2223.13 200.9 Z\" fill=\"#000000\" fill-rule=\"nonzero\" fill-opacity=\"1\" /><path clip-path=\"url(#clip670)\" d=\"M2256.56 202.15 L2256.56 204.233 L2236.97 204.233 Q2237.25 208.631 2239.61 210.946 Q2242 213.238 2246.23 213.238 Q2248.69 213.238 2250.98 212.636 Q2253.29 212.034 2255.56 210.83 L2255.56 214.858 Q2253.27 215.83 2250.86 216.34 Q2248.46 216.849 2245.98 216.849 Q2239.78 216.849 2236.14 213.238 Q2232.53 209.627 2232.53 203.469 Q2232.53 197.104 2235.96 193.377 Q2239.4 189.627 2245.24 189.627 Q2250.47 189.627 2253.5 193.006 Q2256.56 196.363 2256.56 202.15 M2252.3 200.9 Q2252.25 197.405 2250.33 195.321 Q2248.43 193.238 2245.28 193.238 Q2241.72 193.238 2239.57 195.252 Q2237.44 197.266 2237.11 200.923 L2252.3 200.9 Z\" fill=\"#000000\" fill-rule=\"nonzero\" fill-opacity=\"1\" /><path clip-path=\"url(#clip670)\" d=\"M1706.57 271.474 L1850.87 271.474 L1850.87 230.002 L1706.57 230.002 L1706.57 271.474  Z\" fill=\"#3da44d\" fill-rule=\"evenodd\" fill-opacity=\"1\"/>\n",
       "<polyline clip-path=\"url(#clip670)\" style=\"stroke:#000000; stroke-linecap:round; stroke-linejoin:round; stroke-width:4; stroke-opacity:1; fill:none\" points=\"1706.57,271.474 1850.87,271.474 1850.87,230.002 1706.57,230.002 1706.57,271.474 \"/>\n",
       "<path clip-path=\"url(#clip670)\" d=\"M1874.92 233.458 L1879.59 233.458 L1879.59 247.624 L1896.58 247.624 L1896.58 233.458 L1901.26 233.458 L1901.26 268.018 L1896.58 268.018 L1896.58 251.559 L1879.59 251.559 L1879.59 268.018 L1874.92 268.018 L1874.92 233.458 Z\" fill=\"#000000\" fill-rule=\"nonzero\" fill-opacity=\"1\" /><path clip-path=\"url(#clip670)\" d=\"M1922.16 254.985 Q1917 254.985 1915.01 256.166 Q1913.02 257.346 1913.02 260.194 Q1913.02 262.462 1914.5 263.805 Q1916 265.124 1918.57 265.124 Q1922.11 265.124 1924.24 262.624 Q1926.4 260.101 1926.4 255.934 L1926.4 254.985 L1922.16 254.985 M1930.66 253.226 L1930.66 268.018 L1926.4 268.018 L1926.4 264.082 Q1924.94 266.443 1922.76 267.578 Q1920.59 268.689 1917.44 268.689 Q1913.46 268.689 1911.1 266.467 Q1908.76 264.221 1908.76 260.471 Q1908.76 256.096 1911.68 253.874 Q1914.61 251.652 1920.43 251.652 L1926.4 251.652 L1926.4 251.235 Q1926.4 248.295 1924.45 246.698 Q1922.53 245.078 1919.04 245.078 Q1916.81 245.078 1914.71 245.61 Q1912.6 246.143 1910.66 247.207 L1910.66 243.272 Q1912.99 242.37 1915.19 241.93 Q1917.39 241.467 1919.48 241.467 Q1925.1 241.467 1927.88 244.383 Q1930.66 247.3 1930.66 253.226 Z\" fill=\"#000000\" fill-rule=\"nonzero\" fill-opacity=\"1\" /><path clip-path=\"url(#clip670)\" d=\"M1955.96 242.856 L1955.96 246.883 Q1954.15 245.957 1952.21 245.495 Q1950.26 245.032 1948.18 245.032 Q1945.01 245.032 1943.41 246.004 Q1941.84 246.976 1941.84 248.92 Q1941.84 250.402 1942.97 251.258 Q1944.11 252.092 1947.53 252.856 L1948.99 253.18 Q1953.53 254.152 1955.42 255.934 Q1957.35 257.694 1957.35 260.865 Q1957.35 264.476 1954.48 266.582 Q1951.63 268.689 1946.63 268.689 Q1944.55 268.689 1942.28 268.272 Q1940.03 267.879 1937.53 267.068 L1937.53 262.67 Q1939.89 263.897 1942.18 264.522 Q1944.48 265.124 1946.72 265.124 Q1949.73 265.124 1951.35 264.106 Q1952.97 263.064 1952.97 261.189 Q1952.97 259.453 1951.79 258.527 Q1950.63 257.601 1946.67 256.744 L1945.19 256.397 Q1941.24 255.564 1939.48 253.851 Q1937.72 252.115 1937.72 249.106 Q1937.72 245.448 1940.31 243.458 Q1942.9 241.467 1947.67 241.467 Q1950.03 241.467 1952.11 241.814 Q1954.2 242.161 1955.96 242.856 Z\" fill=\"#000000\" fill-rule=\"nonzero\" fill-opacity=\"1\" /><path clip-path=\"url(#clip670)\" d=\"M1985.68 252.369 L1985.68 268.018 L1981.42 268.018 L1981.42 252.508 Q1981.42 248.828 1979.98 246.999 Q1978.55 245.17 1975.68 245.17 Q1972.23 245.17 1970.24 247.37 Q1968.25 249.569 1968.25 253.365 L1968.25 268.018 L1963.97 268.018 L1963.97 231.999 L1968.25 231.999 L1968.25 246.12 Q1969.78 243.782 1971.84 242.624 Q1973.92 241.467 1976.63 241.467 Q1981.1 241.467 1983.39 244.245 Q1985.68 246.999 1985.68 252.369 Z\" fill=\"#000000\" fill-rule=\"nonzero\" fill-opacity=\"1\" /><path clip-path=\"url(#clip670)\" d=\"M1706.57 323.314 L1850.87 323.314 L1850.87 281.842 L1706.57 281.842 L1706.57 323.314  Z\" fill=\"#c271d2\" fill-rule=\"evenodd\" fill-opacity=\"1\"/>\n",
       "<polyline clip-path=\"url(#clip670)\" style=\"stroke:#000000; stroke-linecap:round; stroke-linejoin:round; stroke-width:4; stroke-opacity:1; fill:none\" points=\"1706.57,323.314 1850.87,323.314 1850.87,281.842 1706.57,281.842 1706.57,323.314 \"/>\n",
       "<path clip-path=\"url(#clip670)\" d=\"M1874.92 285.298 L1879.59 285.298 L1879.59 315.922 L1896.42 315.922 L1896.42 319.858 L1874.92 319.858 L1874.92 285.298 Z\" fill=\"#000000\" fill-rule=\"nonzero\" fill-opacity=\"1\" /><path clip-path=\"url(#clip670)\" d=\"M1912.93 306.825 Q1907.76 306.825 1905.77 308.006 Q1903.78 309.186 1903.78 312.034 Q1903.78 314.302 1905.26 315.645 Q1906.77 316.964 1909.34 316.964 Q1912.88 316.964 1915.01 314.464 Q1917.16 311.941 1917.16 307.774 L1917.16 306.825 L1912.93 306.825 M1921.42 305.066 L1921.42 319.858 L1917.16 319.858 L1917.16 315.922 Q1915.7 318.283 1913.53 319.418 Q1911.35 320.529 1908.2 320.529 Q1904.22 320.529 1901.86 318.307 Q1899.52 316.061 1899.52 312.311 Q1899.52 307.936 1902.44 305.714 Q1905.38 303.492 1911.19 303.492 L1917.16 303.492 L1917.16 303.075 Q1917.16 300.135 1915.22 298.538 Q1913.3 296.918 1909.8 296.918 Q1907.58 296.918 1905.47 297.45 Q1903.36 297.983 1901.42 299.047 L1901.42 295.112 Q1903.76 294.21 1905.96 293.77 Q1908.16 293.307 1910.24 293.307 Q1915.86 293.307 1918.64 296.223 Q1921.42 299.14 1921.42 305.066 Z\" fill=\"#000000\" fill-rule=\"nonzero\" fill-opacity=\"1\" /><path clip-path=\"url(#clip670)\" d=\"M1948.8 306.918 Q1948.8 302.219 1946.86 299.557 Q1944.94 296.872 1941.56 296.872 Q1938.18 296.872 1936.24 299.557 Q1934.31 302.219 1934.31 306.918 Q1934.31 311.617 1936.24 314.302 Q1938.18 316.964 1941.56 316.964 Q1944.94 316.964 1946.86 314.302 Q1948.8 311.617 1948.8 306.918 M1934.31 297.867 Q1935.66 295.552 1937.69 294.441 Q1939.75 293.307 1942.6 293.307 Q1947.32 293.307 1950.26 297.057 Q1953.23 300.807 1953.23 306.918 Q1953.23 313.029 1950.26 316.779 Q1947.32 320.529 1942.6 320.529 Q1939.75 320.529 1937.69 319.418 Q1935.66 318.283 1934.31 315.969 L1934.31 319.858 L1930.03 319.858 L1930.03 283.839 L1934.31 283.839 L1934.31 297.867 Z\" fill=\"#000000\" fill-rule=\"nonzero\" fill-opacity=\"1\" /><path clip-path=\"url(#clip670)\" d=\"M1982.46 305.83 L1982.46 307.913 L1962.88 307.913 Q1963.16 312.311 1965.52 314.626 Q1967.9 316.918 1972.14 316.918 Q1974.59 316.918 1976.88 316.316 Q1979.2 315.714 1981.47 314.51 L1981.47 318.538 Q1979.17 319.51 1976.77 320.02 Q1974.36 320.529 1971.88 320.529 Q1965.68 320.529 1962.05 316.918 Q1958.43 313.307 1958.43 307.149 Q1958.43 300.784 1961.86 297.057 Q1965.31 293.307 1971.14 293.307 Q1976.37 293.307 1979.41 296.686 Q1982.46 300.043 1982.46 305.83 M1978.2 304.58 Q1978.16 301.085 1976.23 299.001 Q1974.34 296.918 1971.19 296.918 Q1967.62 296.918 1965.47 298.932 Q1963.34 300.946 1963.02 304.603 L1978.2 304.58 Z\" fill=\"#000000\" fill-rule=\"nonzero\" fill-opacity=\"1\" /><path clip-path=\"url(#clip670)\" d=\"M1989.45 283.839 L1993.71 283.839 L1993.71 319.858 L1989.45 319.858 L1989.45 283.839 Z\" fill=\"#000000\" fill-rule=\"nonzero\" fill-opacity=\"1\" /><path clip-path=\"url(#clip670)\" d=\"M2043.76 287.96 L2043.76 292.89 Q2041.4 290.691 2038.71 289.603 Q2036.05 288.515 2033.04 288.515 Q2027.11 288.515 2023.97 292.149 Q2020.82 295.76 2020.82 302.612 Q2020.82 309.441 2023.97 313.075 Q2027.11 316.686 2033.04 316.686 Q2036.05 316.686 2038.71 315.598 Q2041.4 314.51 2043.76 312.311 L2043.76 317.196 Q2041.3 318.862 2038.55 319.696 Q2035.82 320.529 2032.76 320.529 Q2024.92 320.529 2020.4 315.737 Q2015.89 310.922 2015.89 302.612 Q2015.89 294.279 2020.4 289.487 Q2024.92 284.673 2032.76 284.673 Q2035.86 284.673 2038.6 285.506 Q2041.35 286.316 2043.76 287.96 Z\" fill=\"#000000\" fill-rule=\"nonzero\" fill-opacity=\"1\" /><path clip-path=\"url(#clip670)\" d=\"M2060.84 296.918 Q2057.42 296.918 2055.42 299.603 Q2053.43 302.265 2053.43 306.918 Q2053.43 311.571 2055.4 314.256 Q2057.39 316.918 2060.84 316.918 Q2064.24 316.918 2066.23 314.233 Q2068.23 311.547 2068.23 306.918 Q2068.23 302.311 2066.23 299.626 Q2064.24 296.918 2060.84 296.918 M2060.84 293.307 Q2066.4 293.307 2069.57 296.918 Q2072.74 300.529 2072.74 306.918 Q2072.74 313.284 2069.57 316.918 Q2066.4 320.529 2060.84 320.529 Q2055.26 320.529 2052.09 316.918 Q2048.94 313.284 2048.94 306.918 Q2048.94 300.529 2052.09 296.918 Q2055.26 293.307 2060.84 293.307 Z\" fill=\"#000000\" fill-rule=\"nonzero\" fill-opacity=\"1\" /><path clip-path=\"url(#clip670)\" d=\"M2079.8 283.839 L2084.06 283.839 L2084.06 319.858 L2079.8 319.858 L2079.8 283.839 Z\" fill=\"#000000\" fill-rule=\"nonzero\" fill-opacity=\"1\" /><path clip-path=\"url(#clip670)\" d=\"M2103.02 296.918 Q2099.59 296.918 2097.6 299.603 Q2095.61 302.265 2095.61 306.918 Q2095.61 311.571 2097.58 314.256 Q2099.57 316.918 2103.02 316.918 Q2106.42 316.918 2108.41 314.233 Q2110.4 311.547 2110.4 306.918 Q2110.4 302.311 2108.41 299.626 Q2106.42 296.918 2103.02 296.918 M2103.02 293.307 Q2108.57 293.307 2111.74 296.918 Q2114.91 300.529 2114.91 306.918 Q2114.91 313.284 2111.74 316.918 Q2108.57 320.529 2103.02 320.529 Q2097.44 320.529 2094.27 316.918 Q2091.12 313.284 2091.12 306.918 Q2091.12 300.529 2094.27 296.918 Q2097.44 293.307 2103.02 293.307 Z\" fill=\"#000000\" fill-rule=\"nonzero\" fill-opacity=\"1\" /><path clip-path=\"url(#clip670)\" d=\"M2137 297.913 Q2136.28 297.497 2135.42 297.311 Q2134.59 297.103 2133.57 297.103 Q2129.96 297.103 2128.02 299.464 Q2126.1 301.802 2126.1 306.2 L2126.1 319.858 L2121.81 319.858 L2121.81 293.932 L2126.1 293.932 L2126.1 297.96 Q2127.44 295.598 2129.59 294.464 Q2131.74 293.307 2134.82 293.307 Q2135.26 293.307 2135.79 293.376 Q2136.33 293.423 2136.97 293.538 L2137 297.913 Z\" fill=\"#000000\" fill-rule=\"nonzero\" fill-opacity=\"1\" /><path clip-path=\"url(#clip670)\" d=\"M1706.57 375.154 L1850.87 375.154 L1850.87 333.682 L1706.57 333.682 L1706.57 375.154  Z\" fill=\"#ac8d18\" fill-rule=\"evenodd\" fill-opacity=\"1\"/>\n",
       "<polyline clip-path=\"url(#clip670)\" style=\"stroke:#000000; stroke-linecap:round; stroke-linejoin:round; stroke-width:4; stroke-opacity:1; fill:none\" points=\"1706.57,375.154 1850.87,375.154 1850.87,333.682 1706.57,333.682 1706.57,375.154 \"/>\n",
       "<path clip-path=\"url(#clip670)\" d=\"M1874.92 337.138 L1881.21 337.138 L1896.54 366.049 L1896.54 337.138 L1901.07 337.138 L1901.07 371.698 L1894.78 371.698 L1879.45 342.786 L1879.45 371.698 L1874.92 371.698 L1874.92 337.138 Z\" fill=\"#000000\" fill-rule=\"nonzero\" fill-opacity=\"1\" /><path clip-path=\"url(#clip670)\" d=\"M1920.24 348.758 Q1916.81 348.758 1914.82 351.443 Q1912.83 354.105 1912.83 358.758 Q1912.83 363.411 1914.8 366.096 Q1916.79 368.758 1920.24 368.758 Q1923.64 368.758 1925.63 366.073 Q1927.62 363.387 1927.62 358.758 Q1927.62 354.151 1925.63 351.466 Q1923.64 348.758 1920.24 348.758 M1920.24 345.147 Q1925.8 345.147 1928.97 348.758 Q1932.14 352.369 1932.14 358.758 Q1932.14 365.124 1928.97 368.758 Q1925.8 372.369 1920.24 372.369 Q1914.66 372.369 1911.49 368.758 Q1908.34 365.124 1908.34 358.758 Q1908.34 352.369 1911.49 348.758 Q1914.66 345.147 1920.24 345.147 Z\" fill=\"#000000\" fill-rule=\"nonzero\" fill-opacity=\"1\" /><path clip-path=\"url(#clip670)\" d=\"M1980.33 339.8 L1980.33 344.73 Q1977.97 342.531 1975.29 341.443 Q1972.62 340.355 1969.61 340.355 Q1963.69 340.355 1960.54 343.989 Q1957.39 347.6 1957.39 354.452 Q1957.39 361.281 1960.54 364.915 Q1963.69 368.526 1969.61 368.526 Q1972.62 368.526 1975.29 367.438 Q1977.97 366.35 1980.33 364.151 L1980.33 369.036 Q1977.88 370.702 1975.12 371.536 Q1972.39 372.369 1969.34 372.369 Q1961.49 372.369 1956.98 367.577 Q1952.46 362.762 1952.46 354.452 Q1952.46 346.119 1956.98 341.327 Q1961.49 336.513 1969.34 336.513 Q1972.44 336.513 1975.17 337.346 Q1977.92 338.156 1980.33 339.8 Z\" fill=\"#000000\" fill-rule=\"nonzero\" fill-opacity=\"1\" /><path clip-path=\"url(#clip670)\" d=\"M1997.42 348.758 Q1993.99 348.758 1992 351.443 Q1990.01 354.105 1990.01 358.758 Q1990.01 363.411 1991.98 366.096 Q1993.97 368.758 1997.42 368.758 Q2000.82 368.758 2002.81 366.073 Q2004.8 363.387 2004.8 358.758 Q2004.8 354.151 2002.81 351.466 Q2000.82 348.758 1997.42 348.758 M1997.42 345.147 Q2002.97 345.147 2006.14 348.758 Q2009.31 352.369 2009.31 358.758 Q2009.31 365.124 2006.14 368.758 Q2002.97 372.369 1997.42 372.369 Q1991.84 372.369 1988.67 368.758 Q1985.52 365.124 1985.52 358.758 Q1985.52 352.369 1988.67 348.758 Q1991.84 345.147 1997.42 345.147 Z\" fill=\"#000000\" fill-rule=\"nonzero\" fill-opacity=\"1\" /><path clip-path=\"url(#clip670)\" d=\"M2016.37 335.679 L2020.63 335.679 L2020.63 371.698 L2016.37 371.698 L2016.37 335.679 Z\" fill=\"#000000\" fill-rule=\"nonzero\" fill-opacity=\"1\" /><path clip-path=\"url(#clip670)\" d=\"M2039.59 348.758 Q2036.17 348.758 2034.17 351.443 Q2032.18 354.105 2032.18 358.758 Q2032.18 363.411 2034.15 366.096 Q2036.14 368.758 2039.59 368.758 Q2042.99 368.758 2044.98 366.073 Q2046.98 363.387 2046.98 358.758 Q2046.98 354.151 2044.98 351.466 Q2042.99 348.758 2039.59 348.758 M2039.59 345.147 Q2045.15 345.147 2048.32 348.758 Q2051.49 352.369 2051.49 358.758 Q2051.49 365.124 2048.32 368.758 Q2045.15 372.369 2039.59 372.369 Q2034.01 372.369 2030.84 368.758 Q2027.69 365.124 2027.69 358.758 Q2027.69 352.369 2030.84 348.758 Q2034.01 345.147 2039.59 345.147 Z\" fill=\"#000000\" fill-rule=\"nonzero\" fill-opacity=\"1\" /><path clip-path=\"url(#clip670)\" d=\"M2073.57 349.753 Q2072.85 349.337 2072 349.151 Q2071.16 348.943 2070.15 348.943 Q2066.54 348.943 2064.59 351.304 Q2062.67 353.642 2062.67 358.04 L2062.67 371.698 L2058.39 371.698 L2058.39 345.772 L2062.67 345.772 L2062.67 349.8 Q2064.01 347.438 2066.17 346.304 Q2068.32 345.147 2071.4 345.147 Q2071.84 345.147 2072.37 345.216 Q2072.9 345.263 2073.55 345.378 L2073.57 349.753 Z\" fill=\"#000000\" fill-rule=\"nonzero\" fill-opacity=\"1\" /><path clip-path=\"url(#clip670)\" d=\"M1706.57 426.994 L1850.87 426.994 L1850.87 385.522 L1706.57 385.522 L1706.57 426.994  Z\" fill=\"#00a9ad\" fill-rule=\"evenodd\" fill-opacity=\"1\"/>\n",
       "<polyline clip-path=\"url(#clip670)\" style=\"stroke:#000000; stroke-linecap:round; stroke-linejoin:round; stroke-width:4; stroke-opacity:1; fill:none\" points=\"1706.57,426.994 1850.87,426.994 1850.87,385.522 1706.57,385.522 1706.57,426.994 \"/>\n",
       "<path clip-path=\"url(#clip670)\" d=\"M1890.93 392.149 Q1885.84 392.149 1882.83 395.945 Q1879.85 399.741 1879.85 406.292 Q1879.85 412.82 1882.83 416.616 Q1885.84 420.413 1890.93 420.413 Q1896.03 420.413 1898.99 416.616 Q1901.98 412.82 1901.98 406.292 Q1901.98 399.741 1898.99 395.945 Q1896.03 392.149 1890.93 392.149 M1897.49 422.913 L1903.64 429.649 L1897.99 429.649 L1892.88 424.116 Q1892.12 424.163 1891.7 424.186 Q1891.3 424.209 1890.93 424.209 Q1883.64 424.209 1879.27 419.348 Q1874.92 414.464 1874.92 406.292 Q1874.92 398.098 1879.27 393.237 Q1883.64 388.353 1890.93 388.353 Q1898.2 388.353 1902.55 393.237 Q1906.91 398.098 1906.91 406.292 Q1906.91 412.311 1904.48 416.593 Q1902.07 420.876 1897.49 422.913 Z\" fill=\"#000000\" fill-rule=\"nonzero\" fill-opacity=\"1\" /><path clip-path=\"url(#clip670)\" d=\"M1913.6 413.306 L1913.6 397.612 L1917.86 397.612 L1917.86 413.144 Q1917.86 416.825 1919.29 418.676 Q1920.73 420.505 1923.6 420.505 Q1927.05 420.505 1929.04 418.306 Q1931.05 416.107 1931.05 412.311 L1931.05 397.612 L1935.31 397.612 L1935.31 423.538 L1931.05 423.538 L1931.05 419.556 Q1929.5 421.917 1927.44 423.075 Q1925.4 424.209 1922.69 424.209 Q1918.23 424.209 1915.91 421.431 Q1913.6 418.653 1913.6 413.306 M1924.31 396.987 L1924.31 396.987 Z\" fill=\"#000000\" fill-rule=\"nonzero\" fill-opacity=\"1\" /><path clip-path=\"url(#clip670)\" d=\"M1955.86 410.505 Q1950.7 410.505 1948.71 411.686 Q1946.72 412.866 1946.72 415.714 Q1946.72 417.982 1948.2 419.325 Q1949.71 420.644 1952.28 420.644 Q1955.82 420.644 1957.95 418.144 Q1960.1 415.621 1960.1 411.454 L1960.1 410.505 L1955.86 410.505 M1964.36 408.746 L1964.36 423.538 L1960.1 423.538 L1960.1 419.602 Q1958.64 421.963 1956.47 423.098 Q1954.29 424.209 1951.14 424.209 Q1947.16 424.209 1944.8 421.987 Q1942.46 419.741 1942.46 415.991 Q1942.46 411.616 1945.38 409.394 Q1948.32 407.172 1954.13 407.172 L1960.1 407.172 L1960.1 406.755 Q1960.1 403.815 1958.16 402.218 Q1956.24 400.598 1952.74 400.598 Q1950.52 400.598 1948.41 401.13 Q1946.3 401.663 1944.36 402.727 L1944.36 398.792 Q1946.7 397.89 1948.9 397.45 Q1951.1 396.987 1953.18 396.987 Q1958.8 396.987 1961.58 399.903 Q1964.36 402.82 1964.36 408.746 Z\" fill=\"#000000\" fill-rule=\"nonzero\" fill-opacity=\"1\" /><path clip-path=\"url(#clip670)\" d=\"M1989.66 398.376 L1989.66 402.403 Q1987.86 401.477 1985.91 401.015 Q1983.97 400.552 1981.88 400.552 Q1978.71 400.552 1977.11 401.524 Q1975.54 402.496 1975.54 404.44 Q1975.54 405.922 1976.67 406.778 Q1977.81 407.612 1981.23 408.376 L1982.69 408.7 Q1987.23 409.672 1989.13 411.454 Q1991.05 413.214 1991.05 416.385 Q1991.05 419.996 1988.18 422.102 Q1985.33 424.209 1980.33 424.209 Q1978.25 424.209 1975.98 423.792 Q1973.73 423.399 1971.23 422.588 L1971.23 418.19 Q1973.6 419.417 1975.89 420.042 Q1978.18 420.644 1980.42 420.644 Q1983.43 420.644 1985.05 419.626 Q1986.67 418.584 1986.67 416.709 Q1986.67 414.973 1985.49 414.047 Q1984.34 413.121 1980.38 412.264 L1978.9 411.917 Q1974.94 411.084 1973.18 409.371 Q1971.42 407.635 1971.42 404.626 Q1971.42 400.968 1974.01 398.978 Q1976.61 396.987 1981.37 396.987 Q1983.73 396.987 1985.82 397.334 Q1987.9 397.681 1989.66 398.376 Z\" fill=\"#000000\" fill-rule=\"nonzero\" fill-opacity=\"1\" /><path clip-path=\"url(#clip670)\" d=\"M1997.83 397.612 L2002.09 397.612 L2002.09 423.538 L1997.83 423.538 L1997.83 397.612 M1997.83 387.519 L2002.09 387.519 L2002.09 392.913 L1997.83 392.913 L1997.83 387.519 Z\" fill=\"#000000\" fill-rule=\"nonzero\" fill-opacity=\"1\" /><path clip-path=\"url(#clip670)\" d=\"M2008.85 408.653 L2021.33 408.653 L2021.33 412.45 L2008.85 412.45 L2008.85 408.653 Z\" fill=\"#000000\" fill-rule=\"nonzero\" fill-opacity=\"1\" /><path clip-path=\"url(#clip670)\" d=\"M2049.01 390.112 L2049.01 394.672 Q2046.35 393.399 2043.99 392.774 Q2041.63 392.149 2039.43 392.149 Q2035.61 392.149 2033.53 393.63 Q2031.47 395.112 2031.47 397.843 Q2031.47 400.135 2032.83 401.315 Q2034.22 402.473 2038.06 403.19 L2040.89 403.769 Q2046.12 404.765 2048.6 407.288 Q2051.1 409.788 2051.1 414.001 Q2051.1 419.024 2047.72 421.616 Q2044.36 424.209 2037.85 424.209 Q2035.4 424.209 2032.62 423.653 Q2029.87 423.098 2026.91 422.01 L2026.91 417.195 Q2029.75 418.792 2032.48 419.602 Q2035.22 420.413 2037.85 420.413 Q2041.86 420.413 2044.04 418.839 Q2046.21 417.264 2046.21 414.348 Q2046.21 411.802 2044.64 410.366 Q2043.09 408.931 2039.52 408.214 L2036.67 407.658 Q2031.44 406.616 2029.11 404.394 Q2026.77 402.172 2026.77 398.214 Q2026.77 393.63 2029.98 390.991 Q2033.23 388.353 2038.9 388.353 Q2041.33 388.353 2043.85 388.792 Q2046.37 389.232 2049.01 390.112 Z\" fill=\"#000000\" fill-rule=\"nonzero\" fill-opacity=\"1\" /><path clip-path=\"url(#clip670)\" d=\"M2062.42 390.251 L2062.42 397.612 L2071.19 397.612 L2071.19 400.922 L2062.42 400.922 L2062.42 414.996 Q2062.42 418.167 2063.27 419.07 Q2064.15 419.973 2066.81 419.973 L2071.19 419.973 L2071.19 423.538 L2066.81 423.538 Q2061.88 423.538 2060.01 421.709 Q2058.13 419.857 2058.13 414.996 L2058.13 400.922 L2055.01 400.922 L2055.01 397.612 L2058.13 397.612 L2058.13 390.251 L2062.42 390.251 Z\" fill=\"#000000\" fill-rule=\"nonzero\" fill-opacity=\"1\" /><path clip-path=\"url(#clip670)\" d=\"M2088.57 410.505 Q2083.41 410.505 2081.42 411.686 Q2079.43 412.866 2079.43 415.714 Q2079.43 417.982 2080.91 419.325 Q2082.41 420.644 2084.98 420.644 Q2088.53 420.644 2090.66 418.144 Q2092.81 415.621 2092.81 411.454 L2092.81 410.505 L2088.57 410.505 M2097.07 408.746 L2097.07 423.538 L2092.81 423.538 L2092.81 419.602 Q2091.35 421.963 2089.17 423.098 Q2087 424.209 2083.85 424.209 Q2079.87 424.209 2077.51 421.987 Q2075.17 419.741 2075.17 415.991 Q2075.17 411.616 2078.09 409.394 Q2081.03 407.172 2086.84 407.172 L2092.81 407.172 L2092.81 406.755 Q2092.81 403.815 2090.86 402.218 Q2088.94 400.598 2085.45 400.598 Q2083.23 400.598 2081.12 401.13 Q2079.01 401.663 2077.07 402.727 L2077.07 398.792 Q2079.41 397.89 2081.6 397.45 Q2083.8 396.987 2085.89 396.987 Q2091.51 396.987 2094.29 399.903 Q2097.07 402.82 2097.07 408.746 Z\" fill=\"#000000\" fill-rule=\"nonzero\" fill-opacity=\"1\" /><path clip-path=\"url(#clip670)\" d=\"M2124.45 410.598 Q2124.45 405.899 2122.51 403.237 Q2120.59 400.552 2117.21 400.552 Q2113.83 400.552 2111.88 403.237 Q2109.96 405.899 2109.96 410.598 Q2109.96 415.297 2111.88 417.982 Q2113.83 420.644 2117.21 420.644 Q2120.59 420.644 2122.51 417.982 Q2124.45 415.297 2124.45 410.598 M2109.96 401.547 Q2111.3 399.232 2113.34 398.121 Q2115.4 396.987 2118.25 396.987 Q2122.97 396.987 2125.91 400.737 Q2128.87 404.487 2128.87 410.598 Q2128.87 416.709 2125.91 420.459 Q2122.97 424.209 2118.25 424.209 Q2115.4 424.209 2113.34 423.098 Q2111.3 421.963 2109.96 419.649 L2109.96 423.538 L2105.68 423.538 L2105.68 387.519 L2109.96 387.519 L2109.96 401.547 Z\" fill=\"#000000\" fill-rule=\"nonzero\" fill-opacity=\"1\" /><path clip-path=\"url(#clip670)\" d=\"M2135.93 387.519 L2140.19 387.519 L2140.19 423.538 L2135.93 423.538 L2135.93 387.519 Z\" fill=\"#000000\" fill-rule=\"nonzero\" fill-opacity=\"1\" /><path clip-path=\"url(#clip670)\" d=\"M2171.28 409.51 L2171.28 411.593 L2151.7 411.593 Q2151.97 415.991 2154.34 418.306 Q2156.72 420.598 2160.96 420.598 Q2163.41 420.598 2165.7 419.996 Q2168.02 419.394 2170.28 418.19 L2170.28 422.218 Q2167.99 423.19 2165.59 423.7 Q2163.18 424.209 2160.7 424.209 Q2154.5 424.209 2150.86 420.598 Q2147.25 416.987 2147.25 410.829 Q2147.25 404.464 2150.68 400.737 Q2154.13 396.987 2159.96 396.987 Q2165.19 396.987 2168.22 400.366 Q2171.28 403.723 2171.28 409.51 M2167.02 408.26 Q2166.97 404.765 2165.05 402.681 Q2163.16 400.598 2160.01 400.598 Q2156.44 400.598 2154.29 402.612 Q2152.16 404.626 2151.84 408.283 L2167.02 408.26 Z\" fill=\"#000000\" fill-rule=\"nonzero\" fill-opacity=\"1\" /></svg>\n"
      ]
     },
     "metadata": {},
     "output_type": "display_data"
    }
   ],
   "source": [
    "using Graphs: DiGraph\n",
    "using StatsPlots\n",
    "include(\"Source/datasets.jl\")\n",
    "include(\"Source/QuasiStableCardinalityEstimator.jl\")\n",
    "\n",
    "build_time = Dict()\n",
    "summary_size = Dict()\n",
    "color_summaries = Dict()\n",
    "hash_color_summaries = Dict()\n",
    "no_color_summaries = Dict()\n",
    "degree_color_summaries = Dict()\n",
    "directed_degree_color_summaries = Dict()\n",
    "color_label_summaries = Dict()\n",
    "num_colors = 16\n",
    "for dataset in dataset_names\n",
    "    directed_degree_color_summaries[dataset] = generate_color_summary(datasets[dataset], num_colors, verbose=true, max_size = max_cycle_size[dataset], max_partial_paths=num_sample_nodes[dataset], partitioner=\"DirectedDegree\")\n",
    "    degree_color_summaries[dataset] = generate_color_summary(datasets[dataset], num_colors, verbose=true, max_size = max_cycle_size[dataset], max_partial_paths=num_sample_nodes[dataset], partitioner=\"Degree\")\n",
    "    results = @timed generate_color_summary(datasets[dataset], num_colors, verbose=true, max_size = max_cycle_size[dataset], max_partial_paths=num_sample_nodes[dataset])\n",
    "    build_time[dataset] = results[2]\n",
    "    summary_size[dataset] = get_color_summary_size(results[1])\n",
    "    color_summaries[dataset] = results[1]\n",
    "    hash_color_summaries[dataset] = generate_color_summary(datasets[dataset], num_colors, verbose=true, max_size = max_cycle_size[dataset], max_partial_paths=num_sample_nodes[dataset], partitioner=\"Hash\")\n",
    "    no_color_summaries[dataset] = generate_color_summary(datasets[dataset], 1, verbose=true, max_size = max_cycle_size[dataset], max_partial_paths=num_sample_nodes[dataset])\n",
    "    # println(no_color_summaries[dataset])\n",
    "    color_label_summaries[dataset] = generate_color_summary(datasets[dataset], 1, verbose=true, max_size = max_cycle_size[dataset], max_partial_paths=num_sample_nodes[dataset], partitioner=\"Simple Label\")\n",
    "    # println(no_color_summaries[dataset])\n",
    "end\n",
    "\n",
    "query_directories = Dict()\n",
    "query_directories[\"human\"] = [\"/queryset/human/Chain_3/\",\n",
    "                                \"/queryset/human/Graph_3/\",\n",
    "                                \"/queryset/human/Star_3/\",\n",
    "                                \"/queryset/human/Tree_3/\"]\n",
    "query_directories[\"aids\"] = [\"/queryset/aids/Chain_3/\",\n",
    "                                \"/queryset/aids/Chain_6/\",\n",
    "                                \"/queryset/aids/Chain_9/\",\n",
    "                                \"/queryset/aids/Chain_12/\",\n",
    "                                \"/queryset/aids/Cycle_3/\",\n",
    "                                \"/queryset/aids/Cycle_6/\",\n",
    "                                \"/queryset/aids/Flower_6/\",\n",
    "                                \"/queryset/aids/Flower_9/\",\n",
    "                                \"/queryset/aids/Flower_12/\",\n",
    "                                \"/queryset/aids/Graph_3/\",\n",
    "                                \"/queryset/aids/Graph_6/\",\n",
    "                                \"/queryset/aids/Graph_9/\",\n",
    "                                \"/queryset/aids/Graph_12/\",\n",
    "                                \"/queryset/aids/Petal_6/\",\n",
    "                                \"/queryset/aids/Petal_9/\",\n",
    "                                \"/queryset/aids/Petal_12/\",\n",
    "                                \"/queryset/aids/Star_3/\",\n",
    "                                \"/queryset/aids/Star_6/\",\n",
    "                                \"/queryset/aids/Star_9/\",\n",
    "                                \"/queryset/aids/Tree_3/\",\n",
    "                                \"/queryset/aids/Tree_6/\",\n",
    "                                \"/queryset/aids/Tree_9/\",\n",
    "                                \"/queryset/aids/Tree_12/\"]\n",
    "\n",
    "query_directories[\"yeast\"] = [\"/queryset/yeast\"]\n",
    "query_directories[\"hprd\"] = [\"/queryset/hprd\"]\n",
    "query_directories[\"wordnet\"] = [\"/queryset/wordnet\"]\n",
    "dataset_names = [\"wordnet\"]\n",
    "                                \n",
    "\n",
    "query_paths = Dict()\n",
    "for dataset in dataset_names\n",
    "    query_paths[dataset] = [readdir(pwd() * dir, join=true) for dir in query_directories[dataset]]\n",
    "    query_paths[dataset] = [(query_paths[dataset]...)...]\n",
    "end\n",
    "exact_sizes = Dict(dataset => [] for dataset in dataset_names)\n",
    "bounds = Dict(dataset => [] for dataset in dataset_names)\n",
    "bounds_with_stats = Dict(dataset => [] for dataset in dataset_names)\n",
    "bounds_with_hash = Dict(dataset => [] for dataset in dataset_names)\n",
    "bounds_with_no_color = Dict(dataset => [] for dataset in dataset_names)\n",
    "bounds_with_degree = Dict(dataset => [] for dataset in dataset_names)\n",
    "bounds_with_directed_degree = Dict(dataset => [] for dataset in dataset_names)\n",
    "bounds_with_label_color = Dict(dataset => [] for dataset in dataset_names)\n",
    "query_types = Dict(dataset => [] for dataset in dataset_names)\n",
    "count = 0\n",
    "for dataset in dataset_names\n",
    "    println(\"---------------------------------------------------------------------------------------------\")\n",
    "    println(\"Running \", dataset)\n",
    "    println(no_color_summaries[dataset])\n",
    "\n",
    "    for query_path in query_paths[dataset]\n",
    "        occursin(\"dense_32\", query_path) && continue\n",
    "        occursin(\"dense_24\", query_path) && continue\n",
    "        occursin(\"dense_20\", query_path) && continue\n",
    "        occursin(\"dense_16\", query_path) && continue\n",
    "        occursin(\"dense_12\", query_path) && continue\n",
    "        occursin(\"dense_8\", query_path) && continue\n",
    "        occursin(\"sparse_32\", query_path) && continue\n",
    "        occursin(\"sparse_24\", query_path) && continue\n",
    "        count += 1\n",
    "        count % 10 != 0 && continue\n",
    "        # println(\"Query: \", query_path)\n",
    "        if gcare_dataset[dataset]\n",
    "            query_type = match(r\".*/queryset/.*\\\\(.*)_.*\\.*\", query_path).captures[1]\n",
    "            exact_size = load_true_cardinality(replace(query_path, \"queryset\"=>\"TrueCardinalities\"))\n",
    "            id_and_query = load_query(query_path)\n",
    "            id = id_and_query[1]\n",
    "            query = id_and_query[2]\n",
    "        else\n",
    "            thing = match(r\".*/queryset/.*\\\\query_(.*)_.*\", query_path)\n",
    "            if (thing === nothing)\n",
    "                println(\"missed\")\n",
    "                continue\n",
    "            end\n",
    "            query_type = match(r\".*/queryset/.*\\\\query_(.*)_.*\", query_path).captures[1]\n",
    "            if isfile(replace(query_path, \"queryset\"=>\"TrueCardinalities\"))\n",
    "                exact_size = load_true_cardinality(replace(query_path, \"queryset\"=>\"TrueCardinalities\"))\n",
    "            else\n",
    "                continue\n",
    "            end\n",
    "            id_and_query = load_query(query_path, subgraph_matching_data=true)\n",
    "            id = id_and_query[1]\n",
    "            query = id_and_query[2]\n",
    "        end\n",
    "        bound_results = @timed get_cardinality_bounds(query, color_summaries[dataset], usingStoredStats=false)\n",
    "        bound_results_with_stats = get_cardinality_bounds(query, color_summaries[dataset], usingStoredStats=true)\n",
    "        bound_results_with_hash = get_cardinality_bounds(query, hash_color_summaries[dataset], usingStoredStats=true)\n",
    "        bound_results_with_no_color = get_cardinality_bounds(query, no_color_summaries[dataset], usingStoredStats=true)\n",
    "        bound_results_with_label_color = get_cardinality_bounds(query, color_label_summaries[dataset], usingStoredStats=true)\n",
    "\n",
    "        # println(bound_results_with_no_color)\n",
    "        bound_results_with_degree = get_cardinality_bounds(query, degree_color_summaries[dataset], usingStoredStats=true)\n",
    "        bound_results_with_directed_degree = get_cardinality_bounds(query, directed_degree_color_summaries[dataset], usingStoredStats=true)\n",
    "        bound_results[1][2] = max(1, bound_results[1][2])\n",
    "        bound_results_with_stats[2] = max(1, bound_results_with_stats[2])\n",
    "        bound_results_with_hash[2] = max(1, bound_results_with_hash[2])\n",
    "        bound_results_with_no_color[2] = max(1, bound_results_with_no_color[2])\n",
    "        bound_results_with_label_color[2] = max(1, bound_results_with_label_color[2])\n",
    "        bound_results_with_degree[2] = max(1, bound_results_with_degree[2])\n",
    "        bound_results_with_directed_degree[2] = max(1, bound_results_with_directed_degree[2])\n",
    "        push!(exact_sizes[dataset], exact_size)\n",
    "        push!(bounds[dataset], bound_results[1])\n",
    "        push!(bounds_with_stats[dataset], bound_results_with_stats)\n",
    "        push!(bounds_with_hash[dataset], bound_results_with_hash)\n",
    "        push!(bounds_with_no_color[dataset], bound_results_with_no_color)\n",
    "        push!(bounds_with_label_color[dataset], bound_results_with_label_color)\n",
    "        push!(bounds_with_degree[dataset], bound_results_with_degree)\n",
    "        push!(bounds_with_directed_degree[dataset], bound_results_with_directed_degree)\n",
    "        push!(query_types[dataset], query_type)\n",
    "    end\n",
    "end\n",
    "relative_errors = Dict(dataset => bounds[dataset] ./ exact_sizes[dataset] for dataset in dataset_names)\n",
    "relative_errors_with_stats = Dict(dataset => bounds_with_stats[dataset] ./ exact_sizes[dataset] for dataset in dataset_names)\n",
    "relative_errors_with_hash = Dict(dataset => bounds_with_hash[dataset] ./ exact_sizes[dataset] for dataset in dataset_names)\n",
    "relative_errors_with_no_color = Dict(dataset => bounds_with_no_color[dataset] ./ exact_sizes[dataset] for dataset in dataset_names)\n",
    "relative_errors_with_label_color = Dict(dataset => bounds_with_label_color[dataset] ./ exact_sizes[dataset] for dataset in dataset_names)\n",
    "relative_errors_with_degree = Dict(dataset => bounds_with_degree[dataset] ./ exact_sizes[dataset] for dataset in dataset_names)\n",
    "relative_errors_with_directed_degree = Dict(dataset => bounds_with_directed_degree[dataset] ./ exact_sizes[dataset] for dataset in dataset_names)\n",
    "\n",
    "\n",
    "\n",
    "\n",
    "grouped_errors = vec([[x[2] for x in relative_errors_with_stats[\"wordnet\"]]... [x[2] for x in relative_errors_with_hash[\"wordnet\"]]...  [x[2] for x in relative_errors_with_no_color[\"wordnet\"]]...  [x[2] for x in relative_errors_with_degree[\"wordnet\"]]... [x[2] for x in relative_errors_with_directed_degree[\"wordnet\"]]... [x[2] for x in relative_errors_with_label_color[\"wordnet\"]]...])\n",
    "grouped_query_types = vec([query_types[\"wordnet\"]... query_types[\"wordnet\"]... query_types[\"wordnet\"]... query_types[\"wordnet\"]... query_types[\"wordnet\"]... query_types[\"wordnet\"]...])\n",
    "grouped_datasets = vec([[\"Quasi-Stable\" for _ in 1:length(query_types[\"wordnet\"])]... [\"Hash\" for _ in 1:length(query_types[\"wordnet\"])]... [\"No Color\" for _ in 1:length(query_types[\"wordnet\"])]... [\"Degree\" for _ in 1:length(query_types[\"wordnet\"])]... [\"Directed Degree\" for _ in 1:length(query_types[\"wordnet\"])]... [\"Label Color\" for _ in 1:length(query_types[\"wordnet\"])]...])\n",
    "println(\"started graphing\")\n",
    "groupedboxplot(grouped_query_types, grouped_errors, group = grouped_datasets, yscale =:log10,  ylims=[10^-7, 10^11], yticks=[10^-5, 1, 10^5, 10^10])"
   ]
  },
  {
   "cell_type": "code",
   "execution_count": 49,
   "metadata": {},
   "outputs": [
    {
     "data": {
      "text/plain": [
       "Dict{String, Vector{Vector{Float64}}} with 1 entry:\n",
       "  \"wordnet\" => [[0.0, 0.144002, 8718.27], [0.0, 0.0571729, 9.02499e5], [0.0, 0.…"
      ]
     },
     "metadata": {},
     "output_type": "display_data"
    }
   ],
   "source": [
    "\n",
    "relative_errors = Dict(dataset => bounds[dataset] ./ exact_sizes[dataset] for dataset in dataset_names)\n",
    "relative_errors_with_stats = Dict(dataset => bounds_with_stats[dataset] ./ exact_sizes[dataset] for dataset in dataset_names)\n",
    "relative_errors_with_hash = Dict(dataset => bounds_with_hash[dataset] ./ exact_sizes[dataset] for dataset in dataset_names)\n",
    "relative_errors_with_no_color = Dict(dataset => bounds_with_no_color[dataset] ./ exact_sizes[dataset] for dataset in dataset_names)\n",
    "relative_errors_with_degree = Dict(dataset => bounds_with_degree[dataset] ./ exact_sizes[dataset] for dataset in dataset_names)\n",
    "relative_errors_with_directed_degree = Dict(dataset => bounds_with_directed_degree[dataset] ./ exact_sizes[dataset] for dataset in dataset_names)\n",
    "\n"
   ]
  },
  {
   "cell_type": "code",
   "execution_count": 42,
   "metadata": {},
   "outputs": [],
   "source": [
    "using WAV\n",
    "y, fs = wavread(raw\"C:\\Windows\\Media\\Alarm01.wav\")\n",
    "wavplay(y, fs)"
   ]
  },
  {
   "cell_type": "code",
   "execution_count": 7,
   "metadata": {},
   "outputs": [
    {
     "data": {
      "text/plain": [
       "1"
      ]
     },
     "metadata": {},
     "output_type": "display_data"
    }
   ],
   "source": [
    "sum([x[2] != 1 for x in values(bounds)])"
   ]
  },
  {
   "cell_type": "code",
   "execution_count": 8,
   "metadata": {},
   "outputs": [
    {
     "data": {
      "text/plain": [
       "1"
      ]
     },
     "metadata": {},
     "output_type": "display_data"
    }
   ],
   "source": [
    "sum([x[2] != 1 for x in values(bounds)])"
   ]
  },
  {
   "cell_type": "code",
   "execution_count": 9,
   "metadata": {},
   "outputs": [
    {
     "ename": "KeyError",
     "evalue": "KeyError: key \"yeast\" not found",
     "output_type": "error",
     "traceback": [
      "KeyError: key \"yeast\" not found\n",
      "\n",
      "Stacktrace:\n",
      " [1] getindex(h::Dict{String, Vector{Any}}, key::String)\n",
      "   @ Base .\\dict.jl:498\n",
      " [2] top-level scope\n",
      "   @ c:\\Users\\diand\\OneDrive\\Desktop\\Cardinality-with-Colors\\g-care-kyle.ipynb:1"
     ]
    }
   ],
   "source": [
    "exact_sizes[\"yeast\"][exact_sizes[\"yeast\"] .> 0]"
   ]
  },
  {
   "cell_type": "code",
   "execution_count": 8,
   "metadata": {},
   "outputs": [
    {
     "ename": "KeyError",
     "evalue": "KeyError: key \"human\" not found",
     "output_type": "error",
     "traceback": [
      "KeyError: key \"human\" not found\n",
      "\n",
      "Stacktrace:\n",
      " [1] getindex(h::Dict{String, Vector{Any}}, key::String)\n",
      "   @ Base .\\dict.jl:498\n",
      " [2] top-level scope\n",
      "   @ c:\\Users\\diand\\OneDrive\\Desktop\\Cardinality-with-Colors\\g-care-kyle.ipynb:1"
     ]
    }
   ],
   "source": [
    "grouped_errors = vec([[x[2] for x in relative_errors_with_stats[\"human\"]]... [x[2] for x in relative_errors_with_hash[\"human\"]]...  [x[2] for x in relative_errors_with_no_color[\"human\"]]...  [x[2] for x in relative_errors_with_degree[\"human\"]]... [x[2] for x in relative_errors_with_directed_degree[\"human\"]]... ])\n",
    "grouped_query_types = vec([query_types[\"human\"]... query_types[\"human\"]... query_types[\"human\"]... query_types[\"human\"]... query_types[\"human\"]...])\n",
    "grouped_datasets = vec([[\"Quasi-Stable\" for _ in 1:length(query_types[\"human\"])]... [\"Hash\" for _ in 1:length(query_types[\"human\"])]... [\"No Partition\" for _ in 1:length(query_types[\"human\"])]... [\"Degree\" for _ in 1:length(query_types[\"human\"])]... [\"Directed Degree\" for _ in 1:length(query_types[\"human\"])]...])\n",
    "groupedboxplot(grouped_query_types, grouped_errors, group = grouped_datasets, yscale =:log10, ylims=[10^-4, 10^7], yticks=[10^-4, 10^-2, 1, 10^2, 10^4, 10^6])"
   ]
  },
  {
   "cell_type": "code",
   "execution_count": 11,
   "metadata": {},
   "outputs": [
    {
     "ename": "KeyError",
     "evalue": "KeyError: key \"aids\" not found",
     "output_type": "error",
     "traceback": [
      "KeyError: key \"aids\" not found\n",
      "\n",
      "Stacktrace:\n",
      " [1] getindex(h::Dict{String, Vector{Any}}, key::String)\n",
      "   @ Base .\\dict.jl:498\n",
      " [2] top-level scope\n",
      "   @ c:\\Users\\diand\\OneDrive\\Desktop\\Cardinality-with-Colors\\g-care-kyle.ipynb:1"
     ]
    }
   ],
   "source": [
    "grouped_errors = vec([[x[2] for x in relative_errors_with_stats[\"aids\"]]... [x[2] for x in relative_errors_with_hash[\"aids\"]]...  [x[2] for x in relative_errors_with_no_color[\"aids\"]]...  [x[2] for x in relative_errors_with_degree[\"aids\"]]... [x[2] for x in relative_errors_with_directed_degree[\"aids\"]]... ])\n",
    "grouped_query_types = vec([query_types[\"aids\"]... query_types[\"aids\"]... query_types[\"aids\"]... query_types[\"aids\"]... query_types[\"aids\"]...])\n",
    "grouped_datasets = vec([[\"Quasi-Stable\" for _ in 1:length(query_types[\"aids\"])]... [\"Hash\" for _ in 1:length(query_types[\"aids\"])]... [\"No Partition\" for _ in 1:length(query_types[\"aids\"])]... [\"Degree\" for _ in 1:length(query_types[\"aids\"])]... [\"Directed Degree\" for _ in 1:length(query_types[\"aids\"])]...])\n",
    "groupedboxplot(grouped_query_types, grouped_errors, group = grouped_datasets, yscale =:log10,  ylims=[10^-6, 10^11], yticks=[10^-5, 1, 10^5, 10^10])"
   ]
  },
  {
   "cell_type": "code",
   "execution_count": 12,
   "metadata": {},
   "outputs": [
    {
     "ename": "KeyError",
     "evalue": "KeyError: key \"yeast\" not found",
     "output_type": "error",
     "traceback": [
      "KeyError: key \"yeast\" not found\n",
      "\n",
      "Stacktrace:\n",
      " [1] getindex(h::Dict{String, Vector{Any}}, key::String)\n",
      "   @ Base .\\dict.jl:498\n",
      " [2] top-level scope\n",
      "   @ c:\\Users\\diand\\OneDrive\\Desktop\\Cardinality-with-Colors\\g-care-kyle.ipynb:1"
     ]
    }
   ],
   "source": [
    "grouped_errors = vec([[x[2] for x in relative_errors_with_stats[\"yeast\"]]... [x[2] for x in relative_errors_with_hash[\"yeast\"]]...  [x[2] for x in relative_errors_with_no_color[\"yeast\"]]...  [x[2] for x in relative_errors_with_degree[\"yeast\"]]... [x[2] for x in relative_errors_with_directed_degree[\"yeast\"]]... ])\n",
    "grouped_query_types = vec([query_types[\"yeast\"]... query_types[\"yeast\"]... query_types[\"yeast\"]... query_types[\"yeast\"]... query_types[\"yeast\"]...])\n",
    "grouped_datasets = vec([[\"Quasi-Stable\" for _ in 1:length(query_types[\"yeast\"])]... [\"Hash\" for _ in 1:length(query_types[\"yeast\"])]... [\"No Partition\" for _ in 1:length(query_types[\"yeast\"])]... [\"Degree\" for _ in 1:length(query_types[\"yeast\"])]... [\"Directed Degree\" for _ in 1:length(query_types[\"yeast\"])]...])\n",
    "groupedboxplot(grouped_query_types, grouped_errors, group = grouped_datasets, yscale =:log10,  ylims=[10^-6, 10^11], yticks=[10^-5, 1, 10^5, 10^10])"
   ]
  },
  {
   "cell_type": "code",
   "execution_count": 13,
   "metadata": {},
   "outputs": [
    {
     "ename": "KeyError",
     "evalue": "KeyError: key \"hprd\" not found",
     "output_type": "error",
     "traceback": [
      "KeyError: key \"hprd\" not found\n",
      "\n",
      "Stacktrace:\n",
      " [1] getindex(h::Dict{String, Vector{Any}}, key::String)\n",
      "   @ Base .\\dict.jl:498\n",
      " [2] top-level scope\n",
      "   @ c:\\Users\\diand\\OneDrive\\Desktop\\Cardinality-with-Colors\\g-care-kyle.ipynb:1"
     ]
    }
   ],
   "source": [
    "grouped_errors = vec([[x[2] for x in relative_errors_with_stats[\"hprd\"]]... [x[2] for x in relative_errors_with_hash[\"hprd\"]]...  [x[2] for x in relative_errors_with_no_color[\"hprd\"]]...  [x[2] for x in relative_errors_with_degree[\"hprd\"]]... [x[2] for x in relative_errors_with_directed_degree[\"hprd\"]]... ])\n",
    "grouped_query_types = vec([query_types[\"hprd\"]... query_types[\"hprd\"]... query_types[\"hprd\"]... query_types[\"hprd\"]... query_types[\"hprd\"]...])\n",
    "grouped_datasets = vec([[\"Quasi-Stable\" for _ in 1:length(query_types[\"hprd\"])]... [\"Hash\" for _ in 1:length(query_types[\"hprd\"])]... [\"No Partition\" for _ in 1:length(query_types[\"hprd\"])]... [\"Degree\" for _ in 1:length(query_types[\"hprd\"])]... [\"Directed Degree\" for _ in 1:length(query_types[\"hprd\"])]...])\n",
    "groupedboxplot(grouped_query_types, grouped_errors, group = grouped_datasets, yscale =:log10,  ylims=[10^-6, 10^11], yticks=[10^-5, 1, 10^5, 10^10])"
   ]
  },
  {
   "cell_type": "code",
   "execution_count": 50,
   "metadata": {},
   "outputs": [
    {
     "ename": "ArgumentError",
     "evalue": "ArgumentError: quantiles are undefined in presence of NaNs or missing values",
     "output_type": "error",
     "traceback": [
      "ArgumentError: quantiles are undefined in presence of NaNs or missing values\n",
      "\n",
      "Stacktrace:\n",
      "  [1] _quantilesort!(v::Vector{Float64}, sorted::Bool, minp::Float64, maxp::Float64)\n",
      "    @ Statistics C:\\Users\\diand\\AppData\\Local\\Programs\\Julia-1.8.5\\share\\julia\\stdlib\\v1.8\\Statistics\\src\\Statistics.jl:980\n",
      "  [2] #quantile!#49\n",
      "    @ C:\\Users\\diand\\AppData\\Local\\Programs\\Julia-1.8.5\\share\\julia\\stdlib\\v1.8\\Statistics\\src\\Statistics.jl:957 [inlined]\n",
      "  [3] quantile(v::Vector{Float64}, p::StepRangeLen{Float64, Base.TwicePrecision{Float64}, Base.TwicePrecision{Float64}, Int64}; sorted::Bool, alpha::Float64, beta::Float64)\n",
      "    @ Statistics C:\\Users\\diand\\AppData\\Local\\Programs\\Julia-1.8.5\\share\\julia\\stdlib\\v1.8\\Statistics\\src\\Statistics.jl:1073\n",
      "  [4] quantile(v::Vector{Float64}, p::StepRangeLen{Float64, Base.TwicePrecision{Float64}, Base.TwicePrecision{Float64}, Int64})\n",
      "    @ Statistics C:\\Users\\diand\\AppData\\Local\\Programs\\Julia-1.8.5\\share\\julia\\stdlib\\v1.8\\Statistics\\src\\Statistics.jl:1073\n",
      "  [5] macro expansion\n",
      "    @ C:\\Users\\diand\\.julia\\packages\\StatsPlots\\vq5FV\\src\\boxplot.jl:40 [inlined]\n",
      "  [6] apply_recipe(plotattributes::AbstractDict{Symbol, Any}, #unused#::Type{Val{:boxplot}}, x::Any, y::Any, z::Any)\n",
      "    @ StatsPlots C:\\Users\\diand\\.julia\\packages\\RecipesBase\\BRe07\\src\\RecipesBase.jl:300\n",
      "  [7] _process_seriesrecipe(plt::Any, plotattributes::Any)\n",
      "    @ RecipesPipeline C:\\Users\\diand\\.julia\\packages\\RecipesPipeline\\BGM3l\\src\\series_recipe.jl:50\n",
      "  [8] _process_seriesrecipes!(plt::Any, kw_list::Any)\n",
      "    @ RecipesPipeline C:\\Users\\diand\\.julia\\packages\\RecipesPipeline\\BGM3l\\src\\series_recipe.jl:27\n",
      "  [9] recipe_pipeline!(plt::Any, plotattributes::Any, args::Any)\n",
      "    @ RecipesPipeline C:\\Users\\diand\\.julia\\packages\\RecipesPipeline\\BGM3l\\src\\RecipesPipeline.jl:99\n",
      " [10] _plot!(plt::Plots.Plot, plotattributes::Any, args::Any)\n",
      "    @ Plots C:\\Users\\diand\\.julia\\packages\\Plots\\tDI0A\\src\\plot.jl:223\n",
      " [11] #plot#186\n",
      "    @ C:\\Users\\diand\\.julia\\packages\\Plots\\tDI0A\\src\\plot.jl:102 [inlined]\n",
      " [12] groupedboxplot(::Vector{SubString{String}}, ::Vararg{Any}; kw::Base.Pairs{Symbol, Any, NTuple{4, Symbol}, NamedTuple{(:group, :yscale, :ylims, :yticks), Tuple{Vector{String}, Symbol, Vector{Float64}, Vector{Float64}}}})\n",
      "    @ StatsPlots C:\\Users\\diand\\.julia\\packages\\RecipesBase\\BRe07\\src\\RecipesBase.jl:380\n",
      " [13] top-level scope\n",
      "    @ c:\\Users\\diand\\OneDrive\\Desktop\\Cardinality-with-Colors\\g-care-kyle.ipynb:4"
     ]
    }
   ],
   "source": [
    "grouped_errors = vec([[x[2] for x in relative_errors_with_stats[\"wordnet\"]]... [x[2] for x in relative_errors_with_hash[\"wordnet\"]]...  [x[2] for x in relative_errors_with_no_color[\"wordnet\"]]...  [x[2] for x in relative_errors_with_degree[\"wordnet\"]]... [x[2] for x in relative_errors_with_directed_degree[\"wordnet\"]]... ])\n",
    "grouped_query_types = vec([query_types[\"wordnet\"]... query_types[\"wordnet\"]... query_types[\"wordnet\"]... query_types[\"wordnet\"]... query_types[\"wordnet\"]...])\n",
    "grouped_datasets = vec([[\"Quasi-Stable\" for _ in 1:length(query_types[\"wordnet\"])]... [\"Hash\" for _ in 1:length(query_types[\"wordnet\"])]... [\"Color Label\" for _ in 1:length(query_types[\"wordnet\"])]... [\"Degree\" for _ in 1:length(query_types[\"wordnet\"])]... [\"Directed Degree\" for _ in 1:length(query_types[\"wordnet\"])]...])\n",
    "groupedboxplot(grouped_query_types, grouped_errors, group = grouped_datasets, yscale =:log10,  ylims=[10^-7, 10^11], yticks=[10^-5, 1, 10^5, 10^10])"
   ]
  },
  {
   "cell_type": "code",
   "execution_count": 68,
   "metadata": {},
   "outputs": [],
   "source": [
    "query_directories = Dict()\n",
    "query_directories[\"yeast\"] = [\"/queryset/yeast\"]\n",
    "query_directories[\"hprd\"] = [\"/queryset/hprd\"]\n",
    "query_directories[\"wordnet\"] = [\"/queryset/wordnet\"]\n",
    "dataset_names = [\"yeast\"]\n",
    "\n",
    "query_paths = Dict()\n",
    "for dataset in dataset_names\n",
    "    query_paths[dataset] = [readdir(pwd() * dir, join=true) for dir in query_directories[dataset]]\n",
    "    query_paths[dataset] = [(query_paths[dataset]...)...]\n",
    "end\n",
    "count = 0\n",
    "timeout = 120\n",
    "query = 0\n",
    "for dataset in dataset_names\n",
    "    println(\"---------------------------------------------------------------------------------------------\")\n",
    "    println(\"Running \", dataset)\n",
    "    for query_path in query_paths[dataset]\n",
    "        count += 1\n",
    "        true_card_path = replace(query_path, \"queryset\"=>\"TrueCardinalities\")\n",
    "        id_and_query = load_query(query_path, subgraph_matching_data=true)\n",
    "        if isfile(true_card_path)  || !occursin(\"sparse_8_\", query_path) \n",
    "            continue\n",
    "        end\n",
    "        println(\"Query: \", query_path)\n",
    "        id = id_and_query[1]\n",
    "        query = id_and_query[2]\n",
    "        exact_size = get_exact_size(query, datasets[dataset], timeout=timeout)\n",
    "        if exact_size < 0\n",
    "            println(\"Timed Out!\")\n",
    "            continue\n",
    "        elseif exact_size == 0\n",
    "            println(\"Zero Matches!\")\n",
    "            continue\n",
    "        end\n",
    "        true_card_file = open(true_card_path, \"w\")\n",
    "        show(true_card_file , exact_size)\n",
    "        close(true_card_file)\n",
    "    end\n",
    "end"
   ]
  },
  {
   "cell_type": "code",
   "execution_count": null,
   "metadata": {},
   "outputs": [],
   "source": [
    "using Statistics\n",
    "println(maximum([log10(x[2]) for x in human_relative_errors]))\n",
    "println(mean([abs(log10(x[2])) for x in human_relative_errors]))\n",
    "println(minimum([log10(x[2]) for x in human_relative_errors]))"
   ]
  },
  {
   "cell_type": "code",
   "execution_count": null,
   "metadata": {},
   "outputs": [],
   "source": [
    "using Statistics\n",
    "println(maximum([log10(x[2]) for x in human_relative_errors_with_stats]))\n",
    "println(mean([abs(log10(x[2])) for x in human_relative_errors_with_stats]))\n",
    "println(minimum([log10(x[2]) for x in human_relative_errors_with_stats]))"
   ]
  },
  {
   "cell_type": "code",
   "execution_count": null,
   "metadata": {},
   "outputs": [],
   "source": [
    "StatsPlots.boxplot(human_query_type, [x[2] for x in human_relative_errors_with_stats],  yscale=:log10, fillalpha=0.5, linewidth=2, label=\"With Coloring\", ylims=[10^-4, 10^7], yticks=[10^-4,10^-2, 1, 10^2, 10^4, 10^6])\n",
    "StatsPlots.boxplot!(human_query_type, [x[2] for x in human_relative_errors_with_hash],  yscale=:log10, fillalpha=0.5, linewidth=2, label=\"With Hash\")\n",
    "StatsPlots.boxplot!(human_query_type, [x[2] for x in human_relative_errors_with_no_color],  yscale=:log10, fillalpha=0.5, linewidth=2, label=\"1 Color\")"
   ]
  },
  {
   "cell_type": "code",
   "execution_count": null,
   "metadata": {},
   "outputs": [],
   "source": [
    "include(\"Source/QuasiStableCardinalityEstimator.jl\")\n",
    "\n",
    "aids_query_directories = [\"/queryset/aids/Chain_3/\",\n",
    "\"/queryset/aids/Chain_6/\",\n",
    "\"/queryset/aids/Chain_9/\",\n",
    "\"/queryset/aids/Chain_12/\",\n",
    "\"/queryset/aids/Cycle_3/\",\n",
    "\"/queryset/aids/Cycle_6/\",\n",
    "\"/queryset/aids/Flower_6/\",\n",
    "\"/queryset/aids/Flower_9/\",\n",
    "\"/queryset/aids/Flower_12/\",\n",
    "\"/queryset/aids/Graph_3/\",\n",
    "\"/queryset/aids/Graph_6/\",\n",
    "\"/queryset/aids/Graph_9/\",\n",
    "\"/queryset/aids/Graph_12/\",\n",
    "\"/queryset/aids/Petal_6/\",\n",
    "\"/queryset/aids/Petal_9/\",\n",
    "\"/queryset/aids/Petal_12/\",\n",
    "\"/queryset/aids/Star_3/\",\n",
    "\"/queryset/aids/Star_6/\",\n",
    "\"/queryset/aids/Star_9/\",\n",
    "\"/queryset/aids/Tree_3/\",\n",
    "\"/queryset/aids/Tree_6/\",\n",
    "\"/queryset/aids/Tree_9/\",\n",
    "\"/queryset/aids/Tree_12/\"]\n",
    "aids_query_paths = [readdir(pwd() * dir, join=true) for dir in aids_query_directories]\n",
    "aids_query_paths = [(aids_query_paths...)...]\n",
    "aids_exact_sizes = []\n",
    "aids_bounds = []\n",
    "aids_bounds_with_stats = []\n",
    "aids_relative_errors = []\n",
    "aids_relative_errors_with_stats = []\n",
    "aids_query_types = []\n",
    "println(\"Summary Size: \", summary_size[\"aids\"])\n",
    "println(\"Summary Build Time: \", build_time[\"aids\"])\n",
    "for query_path in aids_query_paths\n",
    "    println(\"Query: \", query_path)\n",
    "    id_and_query = load_query(query_path)\n",
    "    id = id_and_query[1]\n",
    "    query = id_and_query[2]\n",
    "    query_type = match(r\".*/queryset/aids/(.*)_.*/.*\", query_path).captures[1]\n",
    "    if query_type != \"Cycle\"\n",
    "        continue\n",
    "    end\n",
    "    bound_results = @timed get_cardinality_bounds(query, color_summaries[\"aids\"], usingStoredStats=false)\n",
    "    bound_results_with_stats = @timed get_cardinality_bounds(query, color_summaries[\"aids\"], usingStoredStats=true)\n",
    "    gcare_size = load_true_cardinality(replace(query_path, \"queryset\"=>\"TrueCardinalities\"))\n",
    "#    println(\"Bound Time: \", bound_results[2])\n",
    "#    println(\"Exact Size: \", gcare_size)\n",
    "#    println(\"Bound [Lower, Avg, Upper]: \", bound_results[1])\n",
    "#    println(\"Relative Error [Lower, Avg, Upper]: \", bound_results[1]./gcare_size)\n",
    "    bound_results[1][2] = max(1, bound_results[1][2])\n",
    "    bound_results_with_stats[1][2] = max(1, bound_results_with_stats[1][2])\n",
    "    push!(aids_exact_sizes, gcare_size)\n",
    "    push!(aids_bounds, bound_results[1])\n",
    "    push!(aids_bounds_with_stats, bound_results_with_stats[1])\n",
    "    push!(aids_relative_errors, bound_results[1] ./ gcare_size)\n",
    "    push!(aids_relative_errors_with_stats, bound_results_with_stats[1] ./ gcare_size)\n",
    "    push!(aids_query_types, query_type)\n",
    "end"
   ]
  },
  {
   "cell_type": "code",
   "execution_count": null,
   "metadata": {},
   "outputs": [],
   "source": [
    "using Statistics\n",
    "println(maximum([log10(x[2]) for x in aids_relative_errors]))\n",
    "println(mean([log10(x[2]) for x in aids_relative_errors]))\n",
    "println(mean([abs(log10(x[2])) for x in aids_relative_errors]))\n",
    "println(minimum([log10(x[2]) for x in aids_relative_errors]))"
   ]
  },
  {
   "cell_type": "code",
   "execution_count": null,
   "metadata": {},
   "outputs": [],
   "source": [
    "using Statistics\n",
    "println(maximum([log10(x[2]) for x in aids_relative_errors_with_stats]))\n",
    "println(mean([log10(x[2]) for x in aids_relative_errors_with_stats]))\n",
    "println(mean([abs(log10(x[2])) for x in aids_relative_errors_with_stats]))\n",
    "println(minimum([log10(x[2]) for x in aids_relative_errors_with_stats]))"
   ]
  },
  {
   "cell_type": "code",
   "execution_count": null,
   "metadata": {},
   "outputs": [],
   "source": [
    "StatsPlots.boxplot(aids_query_types, [x[2] for x in aids_relative_errors_with_stats],  yscale=:log10, fillalpha=0.5, linewidth=2, label=\"With Cycle Stats\", ylims=[10^-6, 10^11], yticks=[10^-5, 1, 10^5, 10^10])\n",
    "StatsPlots.boxplot!(aids_query_types, [x[2] for x in aids_relative_errors],  yscale=:log10, fillalpha=0.5, linewidth=2, label=\"Without Cycle Stats\")"
   ]
  },
  {
   "cell_type": "code",
   "execution_count": null,
   "metadata": {},
   "outputs": [],
   "source": [
    "print(data[!,\"QueryType\"])"
   ]
  },
  {
   "cell_type": "code",
   "execution_count": null,
   "metadata": {},
   "outputs": [],
   "source": [
    "lubm80_query_paths = [\"lubm80/lubm80_Q2.txt\",\n",
    "# \"lubm80/lubm80_Q4.txt\",\n",
    "# \"lubm80/lubm80_Q7.txt\",\n",
    "# \"lubm80/lubm80_Q8.txt\",\n",
    "# \"lubm80/lubm80_Q9.txt\",\n",
    "# \"lubm80/lubm80_Q12.txt\"\n",
    "                    ]\n",
    "exactSizes = []\n",
    "bounds = []\n",
    "relativeErrors = []\n",
    "println(\"Summary Size: \", summary_size[1])\n",
    "println(\"Summary Build Time: \", build_time[1])\n",
    "for query_path in lubm80_query_paths\n",
    "    println(\"Query: \", query_path)\n",
    "    id_and_query = load_query(\"queryset/\" * query_path)\n",
    "    id = id_and_query[1]\n",
    "    query = id_and_query[2]\n",
    "    bound_results = @timed get_cardinality_bounds(query, color_summaries[1])\n",
    "    exact_size_results = @timed get_exact_size(query, datasets[1])\n",
    "    gcare_size = load_true_cardinality(\"TrueCardinalities/\" * query_path)\n",
    "    println(\"Bound Time: \", bound_results[2])\n",
    "    println(\"Exact Size Time: \", exact_size_results[2])\n",
    "    println(\"Exact Size: \", exact_size_results[1])\n",
    "    println(\"GCare Exact Size: \", gcare_size)\n",
    "    if gcare_size != exact_size_results[1]\n",
    "        println(\"Bad Exact Size Estimate!!\")\n",
    "        break\n",
    "    end\n",
    "    println(\"Bound [Lower, Avg, Upper]: \", bound_results[1])\n",
    "    println(\"Relative Error [Lower, Avg, Upper]: \", (bound_results[1])./exact_size_results[1])\n",
    "    push!(exactSizes, gcare_size)\n",
    "    push!(bounds, bound_results[1])\n",
    "    push!(relativeErrors, bound_results[1] ./ gcare_size)\n",
    "end"
   ]
  },
  {
   "cell_type": "code",
   "execution_count": null,
   "metadata": {},
   "outputs": [],
   "source": [
    "exactSizes"
   ]
  },
  {
   "cell_type": "code",
   "execution_count": null,
   "metadata": {},
   "outputs": [],
   "source": []
  }
 ],
 "metadata": {
  "kernelspec": {
   "display_name": "Julia 1.8.5",
   "language": "julia",
   "name": "julia-1.8"
  },
  "language_info": {
   "file_extension": ".jl",
   "mimetype": "application/julia",
   "name": "julia",
   "version": "1.8.5"
  },
  "orig_nbformat": 4
 },
 "nbformat": 4,
 "nbformat_minor": 2
}
