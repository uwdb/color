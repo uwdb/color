{
 "cells": [
  {
   "cell_type": "code",
   "execution_count": null,
   "metadata": {},
   "outputs": [],
   "source": [
    "# non-gcare datasets:\n",
    "# dblp, eu2005, hprd, human, patents, wordnet, yeast, youtube\n",
    "# from https://github.com/RapidsAtHKUST/SubgraphMatching"
   ]
  },
  {
   "cell_type": "code",
   "execution_count": 6,
   "metadata": {},
   "outputs": [
    {
     "data": {
      "text/plain": [
       "get_cardinality_bounds (generic function with 1 method)"
      ]
     },
     "metadata": {},
     "output_type": "display_data"
    }
   ],
   "source": [
    "using Graphs: DiGraph\n",
    "using StatsPlots\n",
    "include(\"Source/datasets.jl\")\n",
    "include(\"Source/QuasiStableCardinalityEstimator.jl\")"
   ]
  },
  {
   "cell_type": "code",
   "execution_count": 7,
   "metadata": {},
   "outputs": [],
   "source": [
    "dblp_data_file_path = \"dataset/dblp/dblp.graph\"\n",
    "eu2005_data_file_path = \"dataset/eu2005/eu2005.graph\"\n",
    "hprd_data_file_path = \"dataset/hprd/hprd.graph\"\n",
    "patents_data_file_path = \"dataset/patents/patents.graph\"\n",
    "wordnet_data_file_path = \"dataset/wordnet/wordnet.graph\"\n",
    "yeast_data_file_path = \"dataset/yeast/yeast.graph\"\n",
    "youtube_data_file_path = \"dataset/youtube/youtube.graph\"\n",
    "\n",
    "# dblp_data = load_dataset(dblp_data_file_path)\n",
    "# eu2005_data = load_dataset(eu2005_data_file_path)\n",
    "# hprd_data = load_dataset(hprd_data_file_path)\n",
    "# patents_data = load_dataset(patents_data_file_path)\n",
    "# wordnet_data = load_dataset(wordnet_data_file_path)\n",
    "yeast_data = load_dataset(yeast_data_file_path, subgraph_matching_data=true)\n",
    "# youtube_data = load_dataset(youtube_data_file_path)\n",
    "\n",
    "nothing"
   ]
  },
  {
   "cell_type": "code",
   "execution_count": 8,
   "metadata": {},
   "outputs": [
    {
     "data": {
      "text/plain": [
       "Dict{String, Int64} with 7 entries:\n",
       "  \"wordnet\" => 4\n",
       "  \"yeast\"   => 4\n",
       "  \"hprd\"    => 4\n",
       "  \"eu2005\"  => 4\n",
       "  \"patents\" => 4\n",
       "  \"youtube\" => 4\n",
       "  \"dblp\"    => 4"
      ]
     },
     "metadata": {},
     "output_type": "display_data"
    }
   ],
   "source": [
    "\n",
    "# datasets = Dict(\"dblp\"=>dblp_data, \"eu2005\"=>eu2005_data, \"hprd\"=>hprd_data,\n",
    "#                 \"patents\"=>patents_data, \"wordnet\"=>wordnet_data,\n",
    "#                 \"yeast\"=>yeast_data, \"youtube\"=>youtube_data)\n",
    "# dataset_names = [\"dblp\", \"eu2005\", \"hprd\", \"patents\", \"wordnet\", \"yeast\", \"youtube\"]\n",
    "datasets = Dict(\"yeast\"=>yeast_data)\n",
    "dataset_names = [\"yeast\"]\n",
    "num_sample_nodes = Dict(\"dblp\"=>100, \"eu2005\"=>100, \"hprd\"=>100,\n",
    "                        \"patents\"=>100, \"wordnet\"=>100, \n",
    "                        \"yeast\"=>100, \"youtube\"=>100)\n",
    "max_cycle_size = Dict(\"dblp\"=>4, \"eu2005\"=>4, \"hprd\"=>4,\n",
    "                      \"patents\"=>4, \"wordnet\"=>4, \n",
    "                      \"yeast\"=>4, \"youtube\"=>4)"
   ]
  },
  {
   "cell_type": "code",
   "execution_count": 9,
   "metadata": {},
   "outputs": [
    {
     "name": "stdout",
     "output_type": "stream",
     "text": [
      "Started coloring\n",
      "Finished coloring\n",
      "Generating Cycles of Size: "
     ]
    },
    {
     "name": "stdout",
     "output_type": "stream",
     "text": [
      "2\n"
     ]
    },
    {
     "name": "stdout",
     "output_type": "stream",
     "text": [
      "Generating Cycles of Size: 3\n"
     ]
    },
    {
     "name": "stdout",
     "output_type": "stream",
     "text": [
      "Generating Cycles of Size: 4\n"
     ]
    },
    {
     "name": "stdout",
     "output_type": "stream",
     "text": [
      "Started bloom filters\n",
      "Finished bloom filters\n",
      "Started cardinality counts\n",
      "Finished cardinality counts\n",
      "Started tracking statistics"
     ]
    },
    {
     "name": "stdout",
     "output_type": "stream",
     "text": [
      "\n",
      "Finished tracking statistics\n"
     ]
    }
   ],
   "source": [
    "build_time = Dict()\n",
    "summary_size = Dict()\n",
    "color_summaries = Dict()\n",
    "for dataset in dataset_names\n",
    "    results = @timed generate_color_summary(datasets[dataset], 8, verbose=true, max_size = max_cycle_size[dataset], num_sample_nodes=num_sample_nodes[dataset])\n",
    "    build_time[dataset] = results[2]\n",
    "    summary_size[dataset] = get_color_summary_size(results[1])\n",
    "    color_summaries[dataset] = results[1]\n",
    "end"
   ]
  },
  {
   "cell_type": "code",
   "execution_count": 10,
   "metadata": {},
   "outputs": [
    {
     "name": "stdout",
     "output_type": "stream",
     "text": [
      "Summary Size: nothing\n",
      "Summary Build Time: 7.9703741\n"
     ]
    },
    {
     "ename": "ArgumentError",
     "evalue": "ArgumentError: broadcasting over dictionaries and `NamedTuple`s is reserved",
     "output_type": "error",
     "traceback": [
      "ArgumentError: broadcasting over dictionaries and `NamedTuple`s is reserved\n",
      "\n",
      "Stacktrace:\n",
      " [1] broadcastable(#unused#::NamedTuple{(:value, :time, :bytes, :gctime, :gcstats), Tuple{Int64, Float64, Int64, Float64, Base.GC_Diff}})\n",
      "   @ Base.Broadcast .\\broadcast.jl:705\n",
      " [2] broadcasted(::Function, ::Vector{Float64}, ::NamedTuple{(:value, :time, :bytes, :gctime, :gcstats), Tuple{Int64, Float64, Int64, Float64, Base.GC_Diff}})\n",
      "   @ Base.Broadcast .\\broadcast.jl:1302\n",
      " [3] top-level scope\n",
      "   @ c:\\Users\\diand\\OneDrive\\Desktop\\Cardinality-with-Colors\\subgraph-matching.ipynb:30"
     ]
    }
   ],
   "source": [
    "include(\"Source/QuasiStableCardinalityEstimator.jl\")\n",
    "\n",
    "yeast_query_directories = [\"/queryset/yeast\"]\n",
    "yeast_query_paths = [readdir(pwd() * dir, join=true) for dir in yeast_query_directories]\n",
    "yeast_query_paths = [(yeast_query_paths...)...]\n",
    "yeast_exact_sizes = []\n",
    "yeast_bounds = []\n",
    "yeast_bounds_with_stats = []\n",
    "yeast_relative_errors = []\n",
    "yeast_relative_errors_with_stats = []\n",
    "println(\"Summary Size: \", summary_size[\"yeast\"])\n",
    "println(\"Summary Build Time: \", build_time[\"yeast\"])\n",
    "for query_path in yeast_query_paths\n",
    "    #println(\"Query: \", query_path)\n",
    "    id_and_query = load_query(query_path, subgraph_matching_data=true)\n",
    "    id = id_and_query[1]\n",
    "    query = id_and_query[2]\n",
    "    bound_results = @timed get_cardinality_bounds(query, color_summaries[\"yeast\"], usingStoredStats=false)\n",
    "    bound_results_with_stats = @timed get_cardinality_bounds(query, color_summaries[\"yeast\"], usingStoredStats=true)\n",
    "    exact_size_results = @timed get_exact_size(query, datasets[\"yeast\"])\n",
    "#    println(\"Bound Time: \", bound_results[2])\n",
    "#    println(\"Exact Size: \", gcare_size)\n",
    "#    println(\"Bound [Lower, Avg, Upper]: \", bound_results[1])\n",
    "#    println(\"Relative Error [Lower, Avg, Upper]: \", bound_results[1]./gcare_size)\n",
    "    bound_results[1][2] = max(1, bound_results[1][2])\n",
    "    bound_results_with_stats[1][2] = max(1, bound_results_with_stats[1][2])\n",
    "    push!(yeast_exact_sizes, exact_size_results[1])\n",
    "    push!(yeast_bounds, bound_results[1])\n",
    "    push!(yeast_bounds_with_stats, bound_results_with_stats[1])\n",
    "    push!(yeast_relative_errors, bound_results[1] ./ exact_size_results)\n",
    "    push!(yeast_relative_errors_with_stats, bound_results_with_stats[1] ./ gcare_size)\n",
    "end\n",
    "\n",
    "# need to update packages..."
   ]
  },
  {
   "cell_type": "code",
   "execution_count": null,
   "metadata": {},
   "outputs": [],
   "source": [
    "using Statistics\n",
    "println(maximum([log10(x[2]) for x in yeast_relative_errors]))\n",
    "println(mean([abs(log10(x[2])) for x in yeast_relative_errors]))\n",
    "println(minimum([log10(x[2]) for x in yeast_relative_errors]))"
   ]
  },
  {
   "cell_type": "code",
   "execution_count": null,
   "metadata": {},
   "outputs": [],
   "source": [
    "using Statistics\n",
    "println(maximum([log10(x[2]) for x in yeast_relative_errors_with_stats]))\n",
    "println(mean([abs(log10(x[2])) for x in yeast_relative_errors_with_stats]))\n",
    "println(minimum([log10(x[2]) for x in yeast_relative_errors_with_stats]))"
   ]
  },
  {
   "cell_type": "code",
   "execution_count": null,
   "metadata": {},
   "outputs": [],
   "source": [
    "StatsPlots.boxplot(yeast_query_type, [x[2] for x in yeast_relative_errors_with_stats],  yscale=:log10, fillalpha=0.5, linewidth=2, label=\"With Cycle Stats\", ylims=[10^-4, 10^7], yticks=[10^-4,10^-2, 1, 10^2, 10^4, 10^6])\n",
    "StatsPlots.boxplot!(yeast_query_type, [x[2] for x in yeast_relative_errors],  yscale=:log10, fillalpha=0.5, linewidth=2, label=\"Without Cycle Stats\")"
   ]
  }
 ],
 "metadata": {
  "kernelspec": {
   "display_name": "Julia 1.8.5",
   "language": "julia",
   "name": "julia-1.8"
  },
  "language_info": {
   "file_extension": ".jl",
   "mimetype": "application/julia",
   "name": "julia",
   "version": "1.8.5"
  },
  "orig_nbformat": 4
 },
 "nbformat": 4,
 "nbformat_minor": 2
}
