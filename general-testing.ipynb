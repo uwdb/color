{
 "cells": [
  {
   "cell_type": "code",
   "execution_count": 177,
   "metadata": {},
   "outputs": [],
   "source": [
    "include(\"Source/QuasiStableCardinalityEstimator.jl\")\n",
    "using Distributions\n",
    "using DataStructures: counter, Dict, Set, Vector, inc!\n",
    "using Plots"
   ]
  },
  {
   "attachments": {},
   "cell_type": "markdown",
   "metadata": {},
   "source": [
    "First, we generate a zipfian graph of moderate size."
   ]
  },
  {
   "cell_type": "code",
   "execution_count": 178,
   "metadata": {},
   "outputs": [],
   "source": [
    "n = 2000000\n",
    "numEdgeLabels = 10\n",
    "numVertexLabels = 3\n",
    "numVertices = 1000\n",
    "zipf = [1.0/(i^.5) for i in 1:numVertices]\n",
    "zipf = zipf ./ sum(zipf)\n",
    "d = DiscreteNonParametric(1:numVertices, zipf)\n",
    "x1 = rand(d, n) .% numVertices .+ 1\n",
    "x2 = rand(d, n) .% numVertices .+ 1\n",
    "g = PropertyGraph(numVertices)\n",
    "for x in hcat(x1, x2)\n",
    "    add_labeled_node!(g, x, [Int(round(only(rand(1))*numVertexLabels))])\n",
    "end\n",
    "for i in range(1, length(x1))\n",
    "    add_labeled_edge!(g, (x1[i], x2[i]), Int(round(only(rand(1))*numEdgeLabels)))\n",
    "end"
   ]
  },
  {
   "attachments": {},
   "cell_type": "markdown",
   "metadata": {},
   "source": [
    "Then, we generate our lifted graph summary which includes cardinality and min/avg/max degree information about every edge between colors."
   ]
  },
  {
   "cell_type": "code",
   "execution_count": 187,
   "metadata": {},
   "outputs": [],
   "source": [
    "summary = generate_color_summary(g, 64)\n",
    "nothing"
   ]
  },
  {
   "cell_type": "code",
   "execution_count": 188,
   "metadata": {},
   "outputs": [
    {
     "data": {
      "text/plain": [
       "309480"
      ]
     },
     "execution_count": 188,
     "metadata": {},
     "output_type": "execute_result"
    }
   ],
   "source": [
    "getColorSummarySize(summary)"
   ]
  },
  {
   "attachments": {},
   "cell_type": "markdown",
   "metadata": {},
   "source": [
    "Lastly, we create a simple acyclic query graph composed of a star with a small leg and see how our bounds compare with the exact result."
   ]
  },
  {
   "cell_type": "code",
   "execution_count": 189,
   "metadata": {},
   "outputs": [
    {
     "data": {
      "text/plain": [
       "1-element Vector{Int64}:\n",
       " 0"
      ]
     },
     "execution_count": 189,
     "metadata": {},
     "output_type": "execute_result"
    }
   ],
   "source": [
    "query = PropertyGraph(3)\n",
    "add_labeled_node!(query, 1, [0])\n",
    "add_labeled_node!(query, 2, [1])\n",
    "add_labeled_node!(query, 3, [1])\n",
    "add_labeled_edge!(query, (1,2), 1)\n",
    "add_labeled_edge!(query, (2,3), 0)\n",
    "add_labeled_edge!(query, (3,1), 0)"
   ]
  },
  {
   "cell_type": "code",
   "execution_count": 190,
   "metadata": {},
   "outputs": [
    {
     "data": {
      "text/plain": [
       "3-element Vector{Float64}:\n",
       "    0.0\n",
       " 1014.3172962206821\n",
       "    3.345645e6"
      ]
     },
     "execution_count": 190,
     "metadata": {},
     "output_type": "execute_result"
    }
   ],
   "source": [
    "bounds_without_partial_agg = get_cardinality_bounds(query, summary; use_partial_sums = false, try_all_starting_nodes=false, verbose=false)"
   ]
  },
  {
   "cell_type": "code",
   "execution_count": 191,
   "metadata": {},
   "outputs": [
    {
     "data": {
      "text/plain": [
       "3-element Vector{Float64}:\n",
       "    0.0\n",
       " 1014.3172962206821\n",
       "    3.345645e6"
      ]
     },
     "execution_count": 191,
     "metadata": {},
     "output_type": "execute_result"
    }
   ],
   "source": [
    "bounds_with_partial_agg = get_cardinality_bounds(query, summary; use_partial_sums = true, try_all_starting_nodes=false, verbose=false)"
   ]
  },
  {
   "cell_type": "code",
   "execution_count": 192,
   "metadata": {},
   "outputs": [
    {
     "data": {
      "text/plain": [
       "3-element Vector{Float64}:\n",
       " NaN\n",
       "   1.0\n",
       "   1.0"
      ]
     },
     "execution_count": 192,
     "metadata": {},
     "output_type": "execute_result"
    }
   ],
   "source": [
    "bounds_without_partial_agg ./ bounds_with_partial_agg # Check that the partial summation doesn't affect the output (beyond floating point issues)"
   ]
  },
  {
   "cell_type": "code",
   "execution_count": 193,
   "metadata": {},
   "outputs": [
    {
     "data": {
      "text/plain": [
       "67314"
      ]
     },
     "execution_count": 193,
     "metadata": {},
     "output_type": "execute_result"
    }
   ],
   "source": [
    "exact_size = only(get_exact_size(query, g; verbose=false))"
   ]
  },
  {
   "cell_type": "code",
   "execution_count": 194,
   "metadata": {},
   "outputs": [
    {
     "name": "stdout",
     "output_type": "stream",
     "text": [
      "Relative Error (Lower): 0.0\n",
      "Relative Error (Avg): 0.015068444843876193\n",
      "Relative Error (Upper): 49.70206792049202\n"
     ]
    }
   ],
   "source": [
    "println(\"Relative Error (Lower): \", only(bounds_with_partial_agg[1])/exact_size)\n",
    "println(\"Relative Error (Avg): \", only(bounds_with_partial_agg[2])/exact_size)\n",
    "println(\"Relative Error (Upper): \", only(bounds_with_partial_agg[3])/exact_size)"
   ]
  },
  {
   "attachments": {},
   "cell_type": "markdown",
   "metadata": {},
   "source": [
    "Next, we plot the error for our bounds on a variety of graph sizes."
   ]
  },
  {
   "cell_type": "code",
   "execution_count": null,
   "metadata": {},
   "outputs": [],
   "source": [
    "query_graph = DiGraph(6)\n",
    "add_edge!(query_graph, (1,2))\n",
    "add_edge!(query_graph, (2,3))\n",
    "add_edge!(query_graph, (2,6))\n",
    "add_edge!(query_graph, (3,4))\n",
    "add_edge!(query_graph, (3,5))\n",
    "\n",
    "bounds = []\n",
    "exact_sizes = []\n",
    "graph_sizes = []\n",
    "for i in range(1, 12)\n",
    "    numVertices = 5*2^i\n",
    "    push!(graph_sizes, numVertices)\n",
    "    n = numVertices*5\n",
    "    zipf = [1.0/(i^.5) for i in 1:numVertices]\n",
    "    zipf = zipf ./ sum(zipf)\n",
    "    d = DiscreteNonParametric(1:numVertices, zipf)\n",
    "    x1 = rand(d, n) .% numVertices\n",
    "    x2 = rand(d, n) .% numVertices\n",
    "    g = DiGraph(numVertices)\n",
    "    for i in range(1, length(x1))\n",
    "        add_edge!(g, x1[i], x2[i])\n",
    "    end\n",
    "    summary = generate_color_summary(g, 64)\n",
    "    bounds_with_partial_agg = get_cardinality_bounds(query_graph, summary; use_partial_sums = true, try_all_starting_nodes=true, verbose=false)\n",
    "    push!(bounds, bounds_with_partial_agg)\n",
    "    exact_size = only(get_exact_size(query_graph, g; verbose=false))\n",
    "    push!(exact_sizes, exact_size)\n",
    "end"
   ]
  },
  {
   "cell_type": "code",
   "execution_count": null,
   "metadata": {},
   "outputs": [],
   "source": [
    "lower_bounds = max.(.1, [x[1] for x in bounds]./exact_sizes)\n",
    "avg_bounds = [x[2] for x in bounds]./exact_sizes\n",
    "upper_bounds = [x[3] for x in bounds]./exact_sizes\n",
    "plot(graph_sizes, [lower_bounds avg_bounds upper_bounds], title=\"4 Chain Query\", \n",
    "                label = [\"Lower\" \"Avg\" \"Upper\"], xlabel=\"Graph Size\", ylabel = \"Relative Error\", \n",
    "                xscale=:log10, yscale=:log10, minorgrid=true)"
   ]
  },
  {
   "cell_type": "code",
   "execution_count": null,
   "metadata": {},
   "outputs": [],
   "source": []
  }
 ],
 "metadata": {
  "kernelspec": {
   "display_name": "Julia 1.8.3",
   "language": "julia",
   "name": "julia-1.8"
  },
  "language_info": {
   "file_extension": ".jl",
   "mimetype": "application/julia",
   "name": "julia",
   "version": "1.8.3"
  },
  "orig_nbformat": 4,
  "vscode": {
   "interpreter": {
    "hash": "916dbcbb3f70747c44a77c7bcd40155683ae19c65e1c03b4aa3499c5328201f1"
   }
  }
 },
 "nbformat": 4,
 "nbformat_minor": 2
}
