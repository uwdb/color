{
 "cells": [
  {
   "cell_type": "markdown",
   "metadata": {},
   "source": [
    "## Joins with Quasi-stable Coloring"
   ]
  },
  {
   "cell_type": "code",
   "execution_count": 7,
   "metadata": {},
   "outputs": [],
   "source": [
    "using Distributions\n",
    "using DataStructures: counter, Dict, Set, Vector, inc!"
   ]
  },
  {
   "cell_type": "code",
   "execution_count": 8,
   "metadata": {},
   "outputs": [],
   "source": [
    "n = 200000\n",
    "numVertices = 100000\n",
    "zipf = [1.0/(i^.5) for i in 1:numVertices]\n",
    "zipf = zipf ./ sum(zipf)\n",
    "nothing #hide"
   ]
  },
  {
   "cell_type": "markdown",
   "metadata": {},
   "source": [
    "Let's generate two arrays of size $n$ representing the edges in a graph G where the edges are generated according to a zipf distribution. Then makes two graph formats for convenience."
   ]
  },
  {
   "cell_type": "code",
   "execution_count": 97,
   "metadata": {},
   "outputs": [],
   "source": [
    "d = DiscreteNonParametric(1:numVertices, zipf)\n",
    "x1 = rand(d, n) .% numVertices\n",
    "x2 = rand(d, n) .% numVertices\n",
    "EDict = Dict()\n",
    "for x in Set(x1)\n",
    "    EDict[x] = Set()\n",
    "end\n",
    "for i in 1:length(x1)\n",
    "    push!(EDict[x1[i]], x2[i])\n",
    "end\n",
    "\n",
    "numEdges = sum(length(EDict[x]) for x in keys(EDict))\n",
    "ETable = Array{Int64}(undef, numEdges, 2)\n",
    "edgeCounter = 1\n",
    "for x in keys(EDict)\n",
    "    for y in EDict[x]\n",
    "        ETable[edgeCounter,1] = x\n",
    "        ETable[edgeCounter,2] = y\n",
    "        edgeCounter += 1\n",
    "    end\n",
    "end"
   ]
  },
  {
   "cell_type": "markdown",
   "metadata": {},
   "source": [
    "hash them then count the hash values:"
   ]
  },
  {
   "cell_type": "code",
   "execution_count": 10,
   "metadata": {},
   "outputs": [],
   "source": [
    "numPartitions = 8\n",
    "inDegCounters = [counter(Int32) for _ in 1:numPartitions]\n",
    "outDegCounters = [counter(Int32) for _ in 1:numPartitions]\n",
    "hashETable = (ETable .% numPartitions) .+ 1\n",
    "for i in 1:size(ETable)[1]\n",
    "    inc!(inDegCounters[hashETable[i,1]], ETable[i,1])\n",
    "    inc!(outDegCounters[hashETable[i,2]], ETable[i,2])\n",
    "end\n",
    "\n",
    "hashCardinality::Dict{Int, Dict{Int, Int}} = Dict()\n",
    "hashMaxDeg::Dict{Int, Dict{Int, Int}} = Dict()\n",
    "for c1 in 1:numPartitions\n",
    "    hashMaxDeg[c1] = Dict()\n",
    "    hashCardinality[c1] = Dict()\n",
    "    for c2 in 1:numPartitions\n",
    "        hashMaxDeg[c1][c2] = 0\n",
    "        hashCardinality[c1][c2] = 0\n",
    "        for x in keys(EDict)\n",
    "            if x .% numPartitions + 1 == c1\n",
    "                numEdgesToColor = 0\n",
    "                for y in EDict[x]\n",
    "                    if y .% numPartitions + 1 == c2\n",
    "                        numEdgesToColor += 1\n",
    "                    end\n",
    "                end\n",
    "                hashMaxDeg[c1][c2] = max(numEdgesToColor, hashMaxDeg[c1][c2])\n",
    "                hashCardinality[c1][c2] += numEdgesToColor\n",
    "            end\n",
    "        end\n",
    "    end\n",
    "end"
   ]
  },
  {
   "cell_type": "markdown",
   "metadata": {},
   "source": [
    "by *Walter's method* we get an upper cardinality bound of the following for 3-hop paths in our graph: "
   ]
  },
  {
   "cell_type": "code",
   "execution_count": 11,
   "metadata": {},
   "outputs": [
    {
     "data": {
      "text/plain": [
       "4186127519"
      ]
     },
     "execution_count": 11,
     "metadata": {},
     "output_type": "execute_result"
    }
   ],
   "source": [
    "estimate_prior = 0\n",
    "for x in keys(hashMaxDeg)\n",
    "    if x in keys(hashMaxDeg)\n",
    "        for y in keys(hashMaxDeg[x])\n",
    "            if y in keys(hashMaxDeg)\n",
    "                for z in keys(hashMaxDeg[y])\n",
    "                    if z in keys(hashMaxDeg)\n",
    "                        for u in keys(hashMaxDeg[z])\n",
    "                            estimate_prior += min(hashCardinality[x][y]*hashMaxDeg[y][z]*hashMaxDeg[z][u],\n",
    "                                                hashMaxDeg[x][y]*hashCardinality[y][z]*hashMaxDeg[z][u],\n",
    "                                                hashMaxDeg[x][y]*hashMaxDeg[y][z]*hashCardinality[z][u]\n",
    "                                                )\n",
    "                        end\n",
    "                    end\n",
    "                end\n",
    "            end\n",
    "        end\n",
    "    end\n",
    "end\n",
    "estimate_prior"
   ]
  },
  {
   "cell_type": "markdown",
   "metadata": {},
   "source": [
    "## Graph Coloring\n",
    "Now let's transform this into a graph coloring problem:"
   ]
  },
  {
   "cell_type": "code",
   "execution_count": 181,
   "metadata": {},
   "outputs": [],
   "source": [
    "using Graphs\n",
    "using QuasiStableColors\n",
    "numPartitions = 256\n",
    "g = Graph(numVertices)\n",
    "for x in keys(EDict)\n",
    "    for y in EDict[x]\n",
    "        add_edge!(g, x, y)\n",
    "    end\n",
    "end\n",
    "\n",
    "minVal = 1000000\n",
    "C = q_color(g, n_colors=numPartitions)\n",
    "color_hash::Dict{Int, Int} = Dict()\n",
    "for (color, nodes) in enumerate(C)\n",
    "    for x in nodes\n",
    "        color_hash[x-1] = color\n",
    "    end\n",
    "end"
   ]
  },
  {
   "cell_type": "code",
   "execution_count": 182,
   "metadata": {},
   "outputs": [],
   "source": [
    "colorColorCounter = Dict()\n",
    "for x in keys(EDict)\n",
    "    for y in EDict[x] \n",
    "        c1 = color_hash[x]\n",
    "        c2 = color_hash[y]\n",
    "        if !(c1 in keys(colorColorCounter))\n",
    "           colorColorCounter[c1] = Dict()\n",
    "        end\n",
    "        if !(c2 in keys(colorColorCounter[c1]))\n",
    "           colorColorCounter[c1][c2] = counter(Int)\n",
    "        end\n",
    "        inc!(colorColorCounter[c1][c2], x)\n",
    "    end\n",
    "end\n",
    "\n",
    "colorEdgeCardinality::Dict{Int, Dict{Int, Int}} = Dict()\n",
    "colorEdgeMaxDeg::Dict{Int, Dict{Int, Int}} = Dict()\n",
    "for c1 in keys(colorColorCounter)\n",
    "    colorEdgeMaxDeg[c1] = Dict()\n",
    "    colorEdgeCardinality[c1] = Dict()\n",
    "    for c2 in keys(colorColorCounter[c1])\n",
    "        colorEdgeMaxDeg[c1][c2] =  0 \n",
    "        colorEdgeCardinality[c1][c2] = 0\n",
    "        for v in values(colorColorCounter[c1][c2])\n",
    "            colorEdgeMaxDeg[c1][c2] = max(v, colorEdgeMaxDeg[c1][c2])\n",
    "            colorEdgeCardinality[c1][c2] += v\n",
    "        end \n",
    "    end\n",
    "end\n",
    "\n",
    "colorEdgeCardinality::Dict{Int, Dict{Int, Int}} = Dict()\n",
    "colorEdgeMinDeg::Dict{Int, Dict{Int, Int}} = Dict()\n",
    "for c1 in keys(colorColorCounter)\n",
    "    colorEdgeMinDeg[c1] = Dict()\n",
    "    colorEdgeCardinality[c1] = Dict()\n",
    "    for c2 in keys(colorColorCounter[c1])\n",
    "        colorEdgeMinDeg[c1][c2] =  1000 \n",
    "        colorEdgeCardinality[c1][c2] = 0\n",
    "        for v in values(colorColorCounter[c1][c2])\n",
    "            colorEdgeMinDeg[c1][c2] = min(v, colorEdgeMinDeg[c1][c2])\n",
    "            colorEdgeCardinality[c1][c2] += v\n",
    "        end \n",
    "    end\n",
    "end\n",
    "\n",
    "\n",
    "colorEdgeCardinality::Dict{Int, Dict{Int, Int}} = Dict()\n",
    "colorEdgeAvgDeg::Dict{Int, Dict{Int, Float64}} = Dict()\n",
    "for c1 in keys(colorColorCounter)\n",
    "    colorEdgeAvgDeg[c1] = Dict()\n",
    "    colorEdgeCardinality[c1] = Dict()\n",
    "    for c2 in keys(colorColorCounter[c1])\n",
    "        colorEdgeAvgDeg[c1][c2] =  0 \n",
    "        colorEdgeCardinality[c1][c2] = 0\n",
    "        for v in values(colorColorCounter[c1][c2])\n",
    "            colorEdgeAvgDeg[c1][c2] += 1.0\n",
    "            colorEdgeCardinality[c1][c2] += v\n",
    "        end \n",
    "        colorEdgeAvgDeg[c1][c2] = float(colorEdgeCardinality[c1][c2])/colorEdgeAvgDeg[c1][c2]\n",
    "    end\n",
    "end"
   ]
  },
  {
   "cell_type": "code",
   "execution_count": 180,
   "metadata": {},
   "outputs": [
    {
     "data": {
      "text/plain": [
       "199983"
      ]
     },
     "execution_count": 180,
     "metadata": {},
     "output_type": "execute_result"
    }
   ],
   "source": [
    "numEdges = 0 \n",
    "for x in keys(colorEdgeCardinality)\n",
    "    for y in keys(colorEdgeCardinality[x])\n",
    "        numEdges += colorEdgeCardinality[x][y]\n",
    "    end\n",
    "end\n",
    "numEdges"
   ]
  },
  {
   "cell_type": "code",
   "execution_count": 183,
   "metadata": {},
   "outputs": [
    {
     "name": "stdout",
     "output_type": "stream",
     "text": [
      "100\n",
      "200\n"
     ]
    },
    {
     "data": {
      "text/plain": [
       "235961447"
      ]
     },
     "execution_count": 183,
     "metadata": {},
     "output_type": "execute_result"
    }
   ],
   "source": [
    "minEstimate = 0\n",
    "count = 1\n",
    "for x in keys(colorEdgeMinDeg)\n",
    "    if count % 100 == 0\n",
    "        print(count)\n",
    "        print(\"\\n\")\n",
    "    end\n",
    "    count += 1\n",
    "    for y in keys(colorEdgeMinDeg[x])\n",
    "        if y in keys(colorEdgeMinDeg)\n",
    "            for z in keys(colorEdgeMinDeg[y])\n",
    "                if z in keys(colorEdgeMinDeg)\n",
    "                    for u in keys(colorEdgeMinDeg[z])\n",
    "                        minEstimate += min(colorEdgeCardinality[x][y]*colorEdgeMinDeg[y][z]*colorEdgeMinDeg[z][u],\n",
    "                                        colorEdgeMinDeg[x][y]*colorEdgeCardinality[y][z]*colorEdgeMinDeg[z][u],\n",
    "                                        colorEdgeMinDeg[x][y]*colorEdgeMinDeg[y][z]*colorEdgeCardinality[z][u]\n",
    "                                        )\n",
    "                    end\n",
    "                end\n",
    "            end\n",
    "        end\n",
    "    end\n",
    "end\n",
    "minEstimate"
   ]
  },
  {
   "cell_type": "code",
   "execution_count": 184,
   "metadata": {},
   "outputs": [
    {
     "data": {
      "text/plain": [
       "2.963597896410549e8"
      ]
     },
     "execution_count": 184,
     "metadata": {},
     "output_type": "execute_result"
    }
   ],
   "source": [
    "avgEstimate = 0\n",
    "count = 1\n",
    "for x in keys(colorEdgeAvgDeg)\n",
    "    for y in keys(colorEdgeAvgDeg[x])\n",
    "        if y in keys(colorEdgeAvgDeg)\n",
    "            for z in keys(colorEdgeAvgDeg[y])\n",
    "                if z in keys(colorEdgeAvgDeg)\n",
    "                    for u in keys(colorEdgeAvgDeg[z])\n",
    "                        count += 1\n",
    "                        avgEstimate += min(colorEdgeCardinality[x][y]*colorEdgeAvgDeg[y][z]*colorEdgeAvgDeg[z][u],\n",
    "                                        colorEdgeAvgDeg[x][y]*colorEdgeCardinality[y][z]*colorEdgeAvgDeg[z][u],\n",
    "                                        colorEdgeAvgDeg[x][y]*colorEdgeAvgDeg[y][z]*colorEdgeCardinality[z][u]\n",
    "                                        )\n",
    "                    end\n",
    "                end\n",
    "            end\n",
    "        end\n",
    "    end\n",
    "end\n",
    "avgEstimate"
   ]
  },
  {
   "cell_type": "code",
   "execution_count": 185,
   "metadata": {},
   "outputs": [
    {
     "name": "stdout",
     "output_type": "stream",
     "text": [
      "100\n",
      "200\n"
     ]
    },
    {
     "data": {
      "text/plain": [
       "695701422"
      ]
     },
     "execution_count": 185,
     "metadata": {},
     "output_type": "execute_result"
    }
   ],
   "source": [
    "maxEstimate = 0\n",
    "count = 1\n",
    "for x in keys(colorEdgeMaxDeg)\n",
    "    if count % 100 == 0\n",
    "        print(count)\n",
    "        print(\"\\n\")\n",
    "    end\n",
    "    count += 1\n",
    "    for y in keys(colorEdgeMaxDeg[x])\n",
    "        if y in keys(colorEdgeMaxDeg)\n",
    "            for z in keys(colorEdgeMaxDeg[y])\n",
    "                if z in keys(colorEdgeMaxDeg)\n",
    "                    for u in keys(colorEdgeMaxDeg[z])\n",
    "                        maxEstimate += min(colorEdgeCardinality[x][y]*colorEdgeMaxDeg[y][z]*colorEdgeMaxDeg[z][u],\n",
    "                                        colorEdgeMaxDeg[x][y]*colorEdgeCardinality[y][z]*colorEdgeMaxDeg[z][u],\n",
    "                                        colorEdgeMaxDeg[x][y]*colorEdgeMaxDeg[y][z]*colorEdgeCardinality[z][u]\n",
    "                                        )\n",
    "                    end\n",
    "                end\n",
    "            end\n",
    "        end\n",
    "    end\n",
    "end\n",
    "maxEstimate"
   ]
  },
  {
   "cell_type": "code",
   "execution_count": 176,
   "metadata": {},
   "outputs": [
    {
     "data": {
      "text/plain": [
       "33"
      ]
     },
     "execution_count": 176,
     "metadata": {},
     "output_type": "execute_result"
    }
   ],
   "source": [
    "count"
   ]
  },
  {
   "cell_type": "markdown",
   "metadata": {},
   "source": [
    "The actual cardinality is:"
   ]
  },
  {
   "cell_type": "code",
   "execution_count": 177,
   "metadata": {},
   "outputs": [
    {
     "data": {
      "text/plain": [
       "7188786"
      ]
     },
     "execution_count": 177,
     "metadata": {},
     "output_type": "execute_result"
    }
   ],
   "source": [
    "cardinality = 0\n",
    "for x in keys(EDict)\n",
    "    for y in EDict[x]\n",
    "        if y in keys(EDict)\n",
    "            for z in EDict[y]\n",
    "                if z in keys(EDict)\n",
    "                    cardinality += length(EDict[z])\n",
    "                end\n",
    "            end\n",
    "        end\n",
    "    end\n",
    "end\n",
    "cardinality"
   ]
  },
  {
   "cell_type": "code",
   "execution_count": 187,
   "metadata": {},
   "outputs": [
    {
     "name": "stdout",
     "output_type": "stream",
     "text": [
      "Hashing relative error: 582.3135532202516,\n",
      " color min relative error: 32.8235458671325,\n",
      " color avg relative error: 41.22529028420862,\n",
      " color max relative error: 96.7759260047524"
     ]
    }
   ],
   "source": [
    "print(\"Hashing relative error: $(estimate_prior / cardinality),\\n color min relative error: $(minEstimate / cardinality),\\n color avg relative error: $(avgEstimate / cardinality),\\n color max relative error: $(maxEstimate / cardinality)\")"
   ]
  },
  {
   "cell_type": "code",
   "execution_count": null,
   "metadata": {},
   "outputs": [],
   "source": [
    "597/15"
   ]
  },
  {
   "cell_type": "code",
   "execution_count": null,
   "metadata": {},
   "outputs": [],
   "source": []
  }
 ],
 "metadata": {
  "kernelspec": {
   "display_name": "Julia 1.8.4",
   "language": "julia",
   "name": "julia-1.8"
  },
  "language_info": {
   "file_extension": ".jl",
   "mimetype": "application/julia",
   "name": "julia",
   "version": "1.8.4"
  }
 },
 "nbformat": 4,
 "nbformat_minor": 4
}
