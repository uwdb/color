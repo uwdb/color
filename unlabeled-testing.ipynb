{
 "cells": [
  {
   "cell_type": "code",
   "execution_count": 58,
   "metadata": {},
   "outputs": [],
   "source": [
    "include(\"Source/UnlabeledCardinalityEstimator.jl\")\n",
    "using Distributions\n",
    "using DataStructures: counter, Dict, Set, Vector, inc!\n",
    "using Plots"
   ]
  },
  {
   "attachments": {},
   "cell_type": "markdown",
   "metadata": {},
   "source": [
    "First, we generate a zipfian graph of moderate size."
   ]
  },
  {
   "cell_type": "code",
   "execution_count": 7,
   "metadata": {},
   "outputs": [],
   "source": [
    "n = 200000\n",
    "numVertices = 10000\n",
    "zipf = [1.0/(i^.5) for i in 1:numVertices]\n",
    "zipf = zipf ./ sum(zipf)\n",
    "d = DiscreteNonParametric(1:numVertices, zipf)\n",
    "x1 = rand(d, n) .% numVertices\n",
    "x2 = rand(d, n) .% numVertices\n",
    "g = Graph(numVertices)\n",
    "for i in range(1, length(x1))\n",
    "    add_edge!(g, x1[i], x2[i])\n",
    "end"
   ]
  },
  {
   "attachments": {},
   "cell_type": "markdown",
   "metadata": {},
   "source": [
    "Then, we generate our lifted graph summary which includes cardinality and min/avg/max degree information about every edge between colors."
   ]
  },
  {
   "cell_type": "code",
   "execution_count": 11,
   "metadata": {},
   "outputs": [],
   "source": [
    "summary = generate_color_summary(g, 32)\n",
    "nothing"
   ]
  },
  {
   "attachments": {},
   "cell_type": "markdown",
   "metadata": {},
   "source": [
    "Lastly, we create a simple acyclic query graph composed of a star with a small leg and see how our bounds compare with the exact result."
   ]
  },
  {
   "cell_type": "code",
   "execution_count": 12,
   "metadata": {},
   "outputs": [
    {
     "data": {
      "text/plain": [
       "true"
      ]
     },
     "execution_count": 12,
     "metadata": {},
     "output_type": "execute_result"
    }
   ],
   "source": [
    "query_graph = DiGraph(4)\n",
    "add_edge!(query_graph, (1,2))\n",
    "add_edge!(query_graph, (2,3))\n",
    "add_edge!(query_graph, (3,1))\n",
    "add_edge!(query_graph, (4,1))"
   ]
  },
  {
   "cell_type": "code",
   "execution_count": 13,
   "metadata": {},
   "outputs": [
    {
     "data": {
      "text/plain": [
       "3-element Vector{Float64}:\n",
       " 0.0\n",
       " 1.9284923198480654e8\n",
       " 1.9890786775e10"
      ]
     },
     "execution_count": 13,
     "metadata": {},
     "output_type": "execute_result"
    }
   ],
   "source": [
    "bounds_without_partial_agg = get_cardinality_bounds(query_graph, summary; use_partial_sums = false, try_all_starting_nodes=false, verbose=false)"
   ]
  },
  {
   "cell_type": "code",
   "execution_count": 14,
   "metadata": {},
   "outputs": [
    {
     "data": {
      "text/plain": [
       "3-element Vector{Float64}:\n",
       " 0.0\n",
       " 1.928492319848064e8\n",
       " 1.9890786775e10"
      ]
     },
     "execution_count": 14,
     "metadata": {},
     "output_type": "execute_result"
    }
   ],
   "source": [
    "bounds_with_partial_agg = get_cardinality_bounds(query_graph, summary; use_partial_sums = true, try_all_starting_nodes=false, verbose=false)"
   ]
  },
  {
   "cell_type": "code",
   "execution_count": 15,
   "metadata": {},
   "outputs": [
    {
     "data": {
      "text/plain": [
       "3-element Vector{Float64}:\n",
       " NaN\n",
       "   1.0000000000000007\n",
       "   1.0"
      ]
     },
     "execution_count": 15,
     "metadata": {},
     "output_type": "execute_result"
    }
   ],
   "source": [
    "bounds_without_partial_agg ./ bounds_with_partial_agg # Check that the partial summation doesn't affect the output (beyond floating point issues)"
   ]
  },
  {
   "cell_type": "code",
   "execution_count": 16,
   "metadata": {},
   "outputs": [
    {
     "data": {
      "text/plain": [
       "2.122302e8"
      ]
     },
     "execution_count": 16,
     "metadata": {},
     "output_type": "execute_result"
    }
   ],
   "source": [
    "exact_size = only(get_exact_size(query_graph, g; verbose=false))"
   ]
  },
  {
   "cell_type": "code",
   "execution_count": 17,
   "metadata": {},
   "outputs": [
    {
     "name": "stdout",
     "output_type": "stream",
     "text": [
      "Relative Error (Lower): 0.0\n",
      "Relative Error (Avg): 0.9086794998299318\n",
      "Relative Error (Upper): 93.72269721745539\n"
     ]
    }
   ],
   "source": [
    "println(\"Relative Error (Lower): \", only(bounds_with_partial_agg[1])/exact_size)\n",
    "println(\"Relative Error (Avg): \", only(bounds_with_partial_agg[2])/exact_size)\n",
    "println(\"Relative Error (Upper): \", only(bounds_with_partial_agg[3])/exact_size)"
   ]
  },
  {
   "cell_type": "code",
   "execution_count": 59,
   "metadata": {},
   "outputs": [],
   "source": [
    "query_graph = DiGraph(3)\n",
    "add_edge!(query_graph, (1,2))\n",
    "add_edge!(query_graph, (2,3))\n",
    "add_edge!(query_graph, (3,1))\n",
    "\n",
    "bounds = []\n",
    "exact_sizes = []\n",
    "graph_sizes = []\n",
    "for i in range(1, 12)\n",
    "    numVertices = 5*2^i\n",
    "    push!(graph_sizes, numVertices)\n",
    "    n = numVertices*5\n",
    "    zipf = [1.0/(i^.5) for i in 1:numVertices]\n",
    "    zipf = zipf ./ sum(zipf)\n",
    "    d = DiscreteNonParametric(1:numVertices, zipf)\n",
    "    x1 = rand(d, n) .% numVertices\n",
    "    x2 = rand(d, n) .% numVertices\n",
    "    g = Graph(numVertices)\n",
    "    for i in range(1, length(x1))\n",
    "        add_edge!(g, x1[i], x2[i])\n",
    "    end\n",
    "    summary = generate_color_summary(g, 64)\n",
    "    bounds_with_partial_agg = get_cardinality_bounds(query_graph, summary; use_partial_sums = true, try_all_starting_nodes=true, verbose=false)\n",
    "    push!(bounds, bounds_with_partial_agg)\n",
    "    exact_size = only(get_exact_size(query_graph, g; verbose=false))\n",
    "    push!(exact_sizes, exact_size)\n",
    "end"
   ]
  },
  {
   "cell_type": "code",
   "execution_count": 60,
   "metadata": {},
   "outputs": [
    {
     "data": {
      "text/plain": [
       "12-element Vector{Any}:\n",
       " [0.0, 171.0, 279.0]\n",
       " [0.0, 483.0, 1120.0]\n",
       " [0.0, 1109.0, 3417.0]\n",
       " [0.0, 1572.2307956104223, 9447.0]\n",
       " [0.0, 1952.4000137607345, 36369.0]\n",
       " [0.0, 2813.516113705718, 122116.0]\n",
       " [0.0, 3815.440652754484, 346752.0]\n",
       " [0.0, 4980.663248177357, 914500.0]\n",
       " [0.0, 6231.386440295614, 2.241545e6]\n",
       " [0.0, 7089.77616417361, 5.224294e6]\n",
       " [0.0, 8360.377276053316, 1.1937213e7]\n",
       " [0.0, 11470.500192889385, 2.5726497e7]"
      ]
     },
     "execution_count": 60,
     "metadata": {},
     "output_type": "execute_result"
    }
   ],
   "source": [
    "bounds"
   ]
  },
  {
   "cell_type": "code",
   "execution_count": 61,
   "metadata": {},
   "outputs": [
    {
     "data": {
      "text/plain": [
       "12-element Vector{Any}:\n",
       "   171.0\n",
       "   483.0\n",
       "  1109.0\n",
       "  1600.0\n",
       "  2228.0\n",
       "  3467.0\n",
       "  5556.0\n",
       "  7776.0\n",
       "  9983.0\n",
       " 11816.0\n",
       " 14092.0\n",
       " 21347.0"
      ]
     },
     "execution_count": 61,
     "metadata": {},
     "output_type": "execute_result"
    }
   ],
   "source": [
    "exact_sizes"
   ]
  },
  {
   "cell_type": "code",
   "execution_count": 62,
   "metadata": {},
   "outputs": [
    {
     "data": {
      "text/plain": [
       "12-element Vector{Vector{Float64}}:\n",
       " [0.0, 1.0, 1.631578947368421]\n",
       " [0.0, 1.0, 2.318840579710145]\n",
       " [0.0, 1.0, 3.0811541929666366]\n",
       " [0.0, 0.982644247256514, 5.904375]\n",
       " [0.0, 0.876301621975195, 16.323608617594253]\n",
       " [0.0, 0.8115131565346749, 35.22238246322469]\n",
       " [0.0, 0.6867243795454434, 62.41036717062635]\n",
       " [0.0, 0.6405173930269235, 117.60545267489712]\n",
       " [0.0, 0.6241997836617864, 224.5362115596514]\n",
       " [0.0, 0.6000149089517273, 442.13727149627624]\n",
       " [0.0, 0.5932711663392929, 847.0914703377803]\n",
       " [0.0, 0.537335466008778, 1205.157492856139]"
      ]
     },
     "execution_count": 62,
     "metadata": {},
     "output_type": "execute_result"
    }
   ],
   "source": [
    "bounds ./ exact_sizes"
   ]
  },
  {
   "cell_type": "code",
   "execution_count": null,
   "metadata": {},
   "outputs": [
    {
     "data": {
      "text/plain": [
       "14-element Vector{Vector{Float64}}:\n",
       " [0.0, 1.0, 2.736842105263158]\n",
       " [0.0, 1.0, 7.333333333333333]\n",
       " [0.0, 1.0, 15.53191489361702]\n",
       " [0.0, 0.9875548245614034, 9.663157894736843]\n",
       " [0.0, 0.9107107108676952, 28.057971014492754]\n",
       " [0.0, 1.0676232023224979, 86.01661129568106]\n",
       " [0.0, 0.977584544783465, 276.12635379061373]\n",
       " [0.0, 0.48224728675253825, 228.56622851365015]\n",
       " [0.0, 0.6498646765908367, 708.6459627329192]\n",
       " [0.0, 0.41313033756326, 790.8246789503071]\n",
       " [0.0, 0.7409502174557998, 3081.6657169990503]\n",
       " [0.0, 0.6118814620470446, 4409.881546134663]\n",
       " [0.0, 0.7739815683643275, 10752.05462184874]\n",
       " [0.0, 0.2866898964345087, 7660.481024234111]"
      ]
     },
     "execution_count": 54,
     "metadata": {},
     "output_type": "execute_result"
    }
   ],
   "source": [
    "bounds ./ exact_sizes"
   ]
  },
  {
   "cell_type": "code",
   "execution_count": 113,
   "metadata": {},
   "outputs": [
    {
     "ename": "AssertionError",
     "evalue": "AssertionError: total_plotarea_horizontal > 0mm",
     "output_type": "error",
     "traceback": [
      "AssertionError: total_plotarea_horizontal > 0mm",
      "",
      "Stacktrace:",
      "  [1] update_child_bboxes!(layout::Plots.GridLayout, minimum_perimeter::Vector{Measures.AbsoluteLength})",
      "    @ Plots ~/.julia/packages/Plots/modjX/src/layouts.jl:342",
      "  [2] update_child_bboxes!(layout::Plots.GridLayout)",
      "    @ Plots ~/.julia/packages/Plots/modjX/src/layouts.jl:315",
      "  [3] prepare_output(plt::Plots.Plot{Plots.GRBackend})",
      "    @ Plots ~/.julia/packages/Plots/modjX/src/plot.jl:251",
      "  [4] show(io::IOBuffer, m::MIME{Symbol(\"image/svg+xml\")}, plt::Plots.Plot{Plots.GRBackend})",
      "    @ Plots ~/.julia/packages/Plots/modjX/src/output.jl:236",
      "  [5] sprint(::Function, ::MIME{Symbol(\"image/svg+xml\")}, ::Vararg{Any}; context::Nothing, sizehint::Int64)",
      "    @ Base ./strings/io.jl:114",
      "  [6] sprint",
      "    @ ./strings/io.jl:107 [inlined]",
      "  [7] _ijulia_display_dict(plt::Plots.Plot{Plots.GRBackend})",
      "    @ Plots ~/.julia/packages/Plots/modjX/src/ijulia.jl:47",
      "  [8] display_dict(plt::Plots.Plot{Plots.GRBackend})",
      "    @ Plots ~/.julia/packages/Plots/modjX/src/init.jl:60",
      "  [9] #invokelatest#2",
      "    @ ./essentials.jl:729 [inlined]",
      " [10] invokelatest",
      "    @ ./essentials.jl:726 [inlined]",
      " [11] execute_request(socket::ZMQ.Socket, msg::IJulia.Msg)",
      "    @ IJulia ~/.julia/packages/IJulia/AQu2H/src/execute_request.jl:112",
      " [12] #invokelatest#2",
      "    @ ./essentials.jl:729 [inlined]",
      " [13] invokelatest",
      "    @ ./essentials.jl:726 [inlined]",
      " [14] eventloop(socket::ZMQ.Socket)",
      "    @ IJulia ~/.julia/packages/IJulia/AQu2H/src/eventloop.jl:8",
      " [15] (::IJulia.var\"#15#18\")()",
      "    @ IJulia ./task.jl:484"
     ]
    }
   ],
   "source": [
    "lower_bounds = max.(.001, [x[1] for x in bounds]./exact_sizes)\n",
    "avg_bounds = [x[2] for x in bounds]./exact_sizes\n",
    "upper_bounds = [x[3] for x in bounds]./exact_sizes\n",
    "plot(graph_sizes, [lower_bounds avg_bounds upper_bounds], title=\"Triangle Query\", \n",
    "label = [\"Lower\" \"Avg\" \"Upper\"])\n",
    "plot!(xscale=:log10, yscale=:log10)\n",
    "xlims!(1e+0, 1e+4)\n",
    "ylims!(1e-4, 1e+3)\n",
    "title!(\"Log-log plot\")\n",
    "xlabel!(\"Graph Size\")\n",
    "ylabel!(\"Relative Error\")"
   ]
  },
  {
   "cell_type": "code",
   "execution_count": 111,
   "metadata": {},
   "outputs": [
    {
     "data": {
      "text/plain": [
       "12-element Vector{Float64}:\n",
       " 0.001\n",
       " 0.001\n",
       " 0.001\n",
       " 0.001\n",
       " 0.001\n",
       " 0.001\n",
       " 0.001\n",
       " 0.001\n",
       " 0.001\n",
       " 0.001\n",
       " 0.001\n",
       " 0.001"
      ]
     },
     "execution_count": 111,
     "metadata": {},
     "output_type": "execute_result"
    }
   ],
   "source": [
    "lower_bounds"
   ]
  },
  {
   "cell_type": "code",
   "execution_count": 65,
   "metadata": {},
   "outputs": [
    {
     "data": {
      "text/plain": [
       "12-element Vector{Any}:\n",
       "    10\n",
       "    20\n",
       "    40\n",
       "    80\n",
       "   160\n",
       "   320\n",
       "   640\n",
       "  1280\n",
       "  2560\n",
       "  5120\n",
       " 10240\n",
       " 20480"
      ]
     },
     "execution_count": 65,
     "metadata": {},
     "output_type": "execute_result"
    }
   ],
   "source": [
    "graph_sizes"
   ]
  },
  {
   "cell_type": "code",
   "execution_count": null,
   "metadata": {},
   "outputs": [],
   "source": []
  }
 ],
 "metadata": {
  "kernelspec": {
   "display_name": "Julia 1.8.3",
   "language": "julia",
   "name": "julia-1.8"
  },
  "language_info": {
   "file_extension": ".jl",
   "mimetype": "application/julia",
   "name": "julia",
   "version": "1.8.3"
  },
  "orig_nbformat": 4,
  "vscode": {
   "interpreter": {
    "hash": "916dbcbb3f70747c44a77c7bcd40155683ae19c65e1c03b4aa3499c5328201f1"
   }
  }
 },
 "nbformat": 4,
 "nbformat_minor": 2
}
