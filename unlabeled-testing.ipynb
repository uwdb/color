{
 "cells": [
  {
   "cell_type": "code",
   "execution_count": 24,
   "metadata": {},
   "outputs": [],
   "source": [
    "include(\"Source/UnlabeledCardinalityEstimator.jl\")\n",
    "using Distributions\n",
    "using DataStructures: counter, Dict, Set, Vector, inc!"
   ]
  },
  {
   "attachments": {},
   "cell_type": "markdown",
   "metadata": {},
   "source": [
    "First, we generate a zipfian graph of moderate size."
   ]
  },
  {
   "cell_type": "code",
   "execution_count": 25,
   "metadata": {},
   "outputs": [],
   "source": [
    "n = 20000\n",
    "numVertices = 1000\n",
    "zipf = [1.0/(i^.5) for i in 1:numVertices]\n",
    "zipf = zipf ./ sum(zipf)\n",
    "d = DiscreteNonParametric(1:numVertices, zipf)\n",
    "x1 = rand(d, n) .% numVertices\n",
    "x2 = rand(d, n) .% numVertices\n",
    "g = Graph(numVertices)\n",
    "for i in range(1, length(x1))\n",
    "    add_edge!(g, x1[i], x2[i])\n",
    "end"
   ]
  },
  {
   "attachments": {},
   "cell_type": "markdown",
   "metadata": {},
   "source": [
    "Then, we generate our lifted graph summary which includes cardinality and min/avg/max degree information about every edge between colors."
   ]
  },
  {
   "cell_type": "code",
   "execution_count": 26,
   "metadata": {},
   "outputs": [],
   "source": [
    "summary = generate_color_summary(g, 16)\n",
    "nothing"
   ]
  },
  {
   "attachments": {},
   "cell_type": "markdown",
   "metadata": {},
   "source": [
    "Lastly, we create a simple acyclic query graph composed of a star with a small leg and see how our bounds compare with the exact result."
   ]
  },
  {
   "cell_type": "code",
   "execution_count": 27,
   "metadata": {},
   "outputs": [
    {
     "data": {
      "text/plain": [
       "true"
      ]
     },
     "metadata": {},
     "output_type": "display_data"
    }
   ],
   "source": [
    "queryGraph = DiGraph(5)\n",
    "add_edge!(queryGraph, (1,2))\n",
    "add_edge!(queryGraph, (2,3))\n",
    "add_edge!(queryGraph, (2,4))\n",
    "add_edge!(queryGraph, (4,5))"
   ]
  },
  {
   "cell_type": "code",
   "execution_count": 28,
   "metadata": {},
   "outputs": [
    {
     "data": {
      "text/plain": [
       "3-element Vector{Float64}:\n",
       " 4.273825624e9\n",
       " 1.6976469286123102e10\n",
       " 6.936907186e10"
      ]
     },
     "metadata": {},
     "output_type": "display_data"
    }
   ],
   "source": [
    "bounds_without_partial_agg = get_cardinality_bounds(queryGraph, summary; use_partial_sums = false)"
   ]
  },
  {
   "cell_type": "code",
   "execution_count": 29,
   "metadata": {},
   "outputs": [
    {
     "data": {
      "text/plain": [
       "3-element Vector{Float64}:\n",
       " 4.273825624e9\n",
       " 1.69764692861239e10\n",
       " 6.936907186e10"
      ]
     },
     "metadata": {},
     "output_type": "display_data"
    }
   ],
   "source": [
    "bounds_with_partial_agg = get_cardinality_bounds(queryGraph, summary; use_partial_sums = true)"
   ]
  },
  {
   "cell_type": "code",
   "execution_count": 30,
   "metadata": {},
   "outputs": [
    {
     "data": {
      "text/plain": [
       "3-element Vector{Float64}:\n",
       " 1.0\n",
       " 0.999999999999953\n",
       " 1.0"
      ]
     },
     "metadata": {},
     "output_type": "display_data"
    }
   ],
   "source": [
    "bounds_without_partial_agg ./ bounds_with_partial_agg # Check that the partial summation doesn't affect the output (beyond floating point issues)"
   ]
  },
  {
   "cell_type": "code",
   "execution_count": 34,
   "metadata": {},
   "outputs": [
    {
     "data": {
      "text/plain": [
       "1.7671470509e10"
      ]
     },
     "metadata": {},
     "output_type": "display_data"
    }
   ],
   "source": [
    "exact_size = only(get_exact_size(queryGraph, g))"
   ]
  },
  {
   "cell_type": "code",
   "execution_count": 35,
   "metadata": {},
   "outputs": [
    {
     "name": "stdout",
     "output_type": "stream",
     "text": [
      "Relative Error (Lower): 0.2418488954738294\n",
      "Relative Error (Avg): 0.9606710023072421\n",
      "Relative Error (Upper): 3.9254838370508356\n"
     ]
    }
   ],
   "source": [
    "println(\"Relative Error (Lower): \", only(bounds_with_partial_agg[1])/exact_size)\n",
    "println(\"Relative Error (Avg): \", only(bounds_with_partial_agg[2])/exact_size)\n",
    "println(\"Relative Error (Upper): \", only(bounds_with_partial_agg[3])/exact_size)"
   ]
  }
 ],
 "metadata": {
  "kernelspec": {
   "display_name": "Julia 1.8.3",
   "language": "julia",
   "name": "julia-1.8"
  },
  "language_info": {
   "file_extension": ".jl",
   "mimetype": "application/julia",
   "name": "julia",
   "version": "1.8.3"
  },
  "orig_nbformat": 4,
  "vscode": {
   "interpreter": {
    "hash": "916dbcbb3f70747c44a77c7bcd40155683ae19c65e1c03b4aa3499c5328201f1"
   }
  }
 },
 "nbformat": 4,
 "nbformat_minor": 2
}
