{
 "cells": [
  {
   "attachments": {},
   "cell_type": "markdown",
   "metadata": {},
   "source": [
    "## G-CARE Benchmark"
   ]
  },
  {
   "cell_type": "code",
   "execution_count": null,
   "metadata": {},
   "outputs": [],
   "source": [
    "using Graphs: DiGraph\n",
    "using StatsPlots\n",
    "include(\"Source/datasets.jl\")\n",
    "include(\"Source/QuasiStableCardinalityEstimator.jl\")"
   ]
  },
  {
   "cell_type": "code",
   "execution_count": null,
   "metadata": {},
   "outputs": [],
   "source": [
    "aids_data_file_path = \"dataset/aids/aids.txt\"\n",
    "human_data_file_path = \"dataset/human/human.txt\"\n",
    "lubm80_data_file_path = \"dataset/lubm80/lubm80.txt\"\n",
    "yago_data_file_path = \"dataset/yago/yago.txt\"\n",
    "yeast_data_file_path = \"dataset/yeast/yeast.graph\"\n",
    "hprd_data_file_path = \"dataset/hprd/hprd.graph\"\n",
    "wordnet_data_file_path = \"dataset/wordnet/wordnet.graph\"\n",
    "dblp_data_file_path = \"dataset/dblp/dblp.graph\"\n",
    "\n",
    "human_data = load_dataset(human_data_file_path)\n",
    "aids_data = load_dataset(aids_data_file_path)\n",
    "yeast_data = load_dataset(yeast_data_file_path, subgraph_matching_data=true)\n",
    "#hprd_data = load_dataset(hprd_data_file_path, subgraph_matching_data=true)\n",
    "#wordnet_data = load_dataset(wordnet_data_file_path, subgraph_matching_data=true)\n",
    "#dblp_data = load_dataset(dblp_data_file_path, subgraph_matching_data=true)\n",
    "#lubm80_data = load_dataset(lubm80_data_file_path)\n",
    "#yago_data = load_dataset(yago_data_file_path)\n",
    "nothing"
   ]
  },
  {
   "cell_type": "code",
   "execution_count": null,
   "metadata": {},
   "outputs": [],
   "source": [
    "#datasets = [aids_data, human_data, lubm80_data, yago_data]\n",
    "#dataset_names = [\"aids\", \"human\", \"lubm80\", \"yago\"]\n",
    "datasets = Dict(\"aids\"=>aids_data, \"human\"=>human_data, \"yeast\"=>yeast_data)\n",
    "#dataset_names = [\"aids\", \"human\", \"yeast\"]\n",
    "dataset_names = [\"yeast\"]\n",
    "max_partial_paths = Dict(\"aids\"=>10000, \"human\"=>10000, \"yeast\"=>10000, \"hprd\"=>10000, \"wordnet\"=>10000)\n",
    "gcare_dataset = Dict(\"aids\"=>true, \"human\"=>true, \"yeast\"=>false, \"hprd\"=>false, \"wordnet\"=>false)\n",
    "max_cycle_size = Dict(\"aids\"=>6, \"human\"=>6, \"yeast\"=>6, \"hprd\"=>6, \"wordnet\"=>3)"
   ]
  },
  {
   "cell_type": "code",
   "execution_count": null,
   "metadata": {},
   "outputs": [],
   "source": [
    "build_time = Dict()\n",
    "summary_size = Dict()\n",
    "color_summaries = Dict()\n",
    "hash_color_summaries = Dict()\n",
    "no_color_summaries = Dict()\n",
    "degree_color_summaries = Dict()\n",
    "directed_degree_color_summaries = Dict()\n",
    "num_colors = 128\n",
    "for dataset in dataset_names\n",
    "    directed_degree_color_summaries[dataset] = generate_color_summary(datasets[dataset], num_colors, verbose=true, max_size = max_cycle_size[dataset], max_partial_paths=max_partial_paths[dataset], partitioner=\"DirectedDegree\")\n",
    "    degree_color_summaries[dataset] = generate_color_summary(datasets[dataset], num_colors, verbose=true, max_size = max_cycle_size[dataset], max_partial_paths=max_partial_paths[dataset], partitioner=\"Degree\")\n",
    "    results = @timed generate_color_summary(datasets[dataset], num_colors, verbose=true, max_size = max_cycle_size[dataset], max_partial_paths=max_partial_paths[dataset])\n",
    "    build_time[dataset] = results[2]\n",
    "    summary_size[dataset] = get_color_summary_size(results[1])\n",
    "    color_summaries[dataset] = results[1]\n",
    "    hash_color_summaries[dataset] = generate_color_summary(datasets[dataset], num_colors, verbose=true, max_size = max_cycle_size[dataset], max_partial_paths=max_partial_paths[dataset], partitioner=\"Hash\")\n",
    "    no_color_summaries[dataset] = generate_color_summary(datasets[dataset], 1, verbose=true, max_size = max_cycle_size[dataset], max_partial_paths=max_partial_paths[dataset])\n",
    "end"
   ]
  },
  {
   "cell_type": "code",
   "execution_count": null,
   "metadata": {},
   "outputs": [],
   "source": [
    "query_directories = Dict()\n",
    "query_directories[\"human\"] = [\"/queryset/human/Chain_3/\",\n",
    "                                \"/queryset/human/Graph_3/\",\n",
    "                                \"/queryset/human/Star_3/\",\n",
    "                                \"/queryset/human/Tree_3/\"]\n",
    "query_directories[\"aids\"] = [\"/queryset/aids/Chain_3/\",\n",
    "                                \"/queryset/aids/Chain_6/\",\n",
    "                                \"/queryset/aids/Chain_9/\",\n",
    "                                \"/queryset/aids/Chain_12/\",\n",
    "                                \"/queryset/aids/Cycle_3/\",\n",
    "                                \"/queryset/aids/Cycle_6/\",\n",
    "                                \"/queryset/aids/Flower_6/\",\n",
    "                                \"/queryset/aids/Flower_9/\",\n",
    "                                \"/queryset/aids/Flower_12/\",\n",
    "                                \"/queryset/aids/Graph_3/\",\n",
    "                                \"/queryset/aids/Graph_6/\",\n",
    "                                \"/queryset/aids/Graph_9/\",\n",
    "                                \"/queryset/aids/Graph_12/\",\n",
    "                                \"/queryset/aids/Petal_6/\",\n",
    "                                \"/queryset/aids/Petal_9/\",\n",
    "                                \"/queryset/aids/Petal_12/\",\n",
    "                                \"/queryset/aids/Star_3/\",\n",
    "                                \"/queryset/aids/Star_6/\",\n",
    "                                \"/queryset/aids/Star_9/\",\n",
    "                                \"/queryset/aids/Tree_3/\",\n",
    "                                \"/queryset/aids/Tree_6/\",\n",
    "                                \"/queryset/aids/Tree_9/\",\n",
    "                                \"/queryset/aids/Tree_12/\"]\n",
    "\n",
    "query_directories[\"yeast\"] = [\"/queryset/yeast\"]\n",
    "query_directories[\"hprd\"] = [\"/queryset/hprd\"]\n",
    "query_directories[\"wordnet\"] = [\"/queryset/wordnet\"]\n",
    "dataset_names = [\"yeast\"]\n",
    "                                \n",
    "\n",
    "query_paths = Dict()\n",
    "for dataset in dataset_names\n",
    "    query_paths[dataset] = [readdir(pwd() * dir, join=true) for dir in query_directories[dataset]]\n",
    "    query_paths[dataset] = [(query_paths[dataset]...)...]\n",
    "end\n",
    "exact_sizes = Dict(dataset => [] for dataset in dataset_names)\n",
    "bounds = Dict(dataset => [] for dataset in dataset_names)\n",
    "bounds_with_stats = Dict(dataset => [] for dataset in dataset_names)\n",
    "bounds_with_hash = Dict(dataset => [] for dataset in dataset_names)\n",
    "bounds_with_no_color = Dict(dataset => [] for dataset in dataset_names)\n",
    "bounds_with_degree = Dict(dataset => [] for dataset in dataset_names)\n",
    "bounds_with_directed_degree = Dict(dataset => [] for dataset in dataset_names)\n",
    "query_types = Dict(dataset => [] for dataset in dataset_names)\n",
    "count = 0\n",
    "for dataset in dataset_names\n",
    "    println(\"---------------------------------------------------------------------------------------------\")\n",
    "    println(\"Running \", dataset)\n",
    "    for query_path in query_paths[dataset]\n",
    "        if !occursin(\"sparse_16\", query_path)\n",
    "            continue\n",
    "        end\n",
    "        println(\"Query: \", query_path)\n",
    "        if gcare_dataset[dataset]\n",
    "            query_type = match(r\".*/queryset/.*/(.*)_.*/.*\", query_path).captures[1]\n",
    "            exact_size = load_true_cardinality(replace(query_path, \"queryset\"=>\"TrueCardinalities\"))\n",
    "            id_and_query = load_query(query_path)\n",
    "            id = id_and_query[1]\n",
    "            query = id_and_query[2]\n",
    "        else\n",
    "            query_type = match(r\".*/queryset/.*/query_(.*)_.*\", query_path).captures[1]\n",
    "            if isfile(replace(query_path, \"queryset\"=>\"TrueCardinalities\"))\n",
    "                exact_size = load_true_cardinality(replace(query_path, \"queryset\"=>\"TrueCardinalities\"))\n",
    "            else\n",
    "                continue\n",
    "            end\n",
    "            id_and_query = load_query(query_path, subgraph_matching_data=true)\n",
    "            id = id_and_query[1]\n",
    "            query = id_and_query[2]\n",
    "        end\n",
    "        if exact_size == 0\n",
    "            continue\n",
    "        end\n",
    "        bound_results = @timed get_cardinality_bounds(query, color_summaries[dataset], usingStoredStats=false, max_partial_paths=200)\n",
    "        bound_results_with_stats = get_cardinality_bounds(query, color_summaries[dataset], usingStoredStats=true, max_partial_paths=200)\n",
    "        bound_results_with_hash = get_cardinality_bounds(query, hash_color_summaries[dataset], usingStoredStats=true, max_partial_paths=200)\n",
    "        bound_results_with_no_color = get_cardinality_bounds(query, no_color_summaries[dataset], usingStoredStats=true, max_partial_paths=200)\n",
    "        bound_results_with_degree = get_cardinality_bounds(query, degree_color_summaries[dataset], usingStoredStats=true, max_partial_paths=200)\n",
    "        bound_results_with_directed_degree = get_cardinality_bounds(query, directed_degree_color_summaries[dataset], usingStoredStats=true, max_partial_paths=200)\n",
    "        bound_results[1][2] = max(1, bound_results[1][2])\n",
    "        bound_results_with_stats[2] = max(1, bound_results_with_stats[2])\n",
    "        bound_results_with_hash[2] = max(1, bound_results_with_hash[2])\n",
    "        bound_results_with_no_color[2] = max(1, bound_results_with_no_color[2])\n",
    "        bound_results_with_degree[2] = max(1, bound_results_with_degree[2])\n",
    "        bound_results_with_directed_degree[2] = max(1, bound_results_with_directed_degree[2])\n",
    "        push!(exact_sizes[dataset], exact_size)\n",
    "        push!(bounds[dataset], bound_results[1])\n",
    "        push!(bounds_with_stats[dataset], bound_results_with_stats)\n",
    "        push!(bounds_with_hash[dataset], bound_results_with_hash)\n",
    "        push!(bounds_with_no_color[dataset], bound_results_with_no_color)\n",
    "        push!(bounds_with_degree[dataset], bound_results_with_degree)\n",
    "        push!(bounds_with_directed_degree[dataset], bound_results_with_directed_degree)\n",
    "        push!(query_types[dataset], query_type)\n",
    "    end\n",
    "end\n",
    "relative_errors = Dict(dataset => bounds[dataset] ./ exact_sizes[dataset] for dataset in dataset_names)\n",
    "relative_errors_with_stats = Dict(dataset => bounds_with_stats[dataset] ./ exact_sizes[dataset] for dataset in dataset_names)\n",
    "relative_errors_with_hash = Dict(dataset => bounds_with_hash[dataset] ./ exact_sizes[dataset] for dataset in dataset_names)\n",
    "relative_errors_with_no_color = Dict(dataset => bounds_with_no_color[dataset] ./ exact_sizes[dataset] for dataset in dataset_names)\n",
    "relative_errors_with_degree = Dict(dataset => bounds_with_degree[dataset] ./ exact_sizes[dataset] for dataset in dataset_names)\n",
    "relative_errors_with_directed_degree = Dict(dataset => bounds_with_directed_degree[dataset] ./ exact_sizes[dataset] for dataset in dataset_names)"
   ]
  },
  {
   "cell_type": "code",
   "execution_count": null,
   "metadata": {},
   "outputs": [],
   "source": [
    "bounds[\"yeast\"] "
   ]
  },
  {
   "cell_type": "code",
   "execution_count": null,
   "metadata": {},
   "outputs": [],
   "source": [
    "\n",
    "relative_errors = Dict(dataset => bounds[dataset] ./ exact_sizes[dataset] for dataset in dataset_names)\n",
    "relative_errors_with_stats = Dict(dataset => bounds_with_stats[dataset] ./ exact_sizes[dataset] for dataset in dataset_names)\n",
    "relative_errors_with_hash = Dict(dataset => bounds_with_hash[dataset] ./ exact_sizes[dataset] for dataset in dataset_names)\n",
    "relative_errors_with_no_color = Dict(dataset => bounds_with_no_color[dataset] ./ exact_sizes[dataset] for dataset in dataset_names)\n",
    "relative_errors_with_degree = Dict(dataset => bounds_with_degree[dataset] ./ exact_sizes[dataset] for dataset in dataset_names)\n",
    "relative_errors_with_directed_degree = Dict(dataset => bounds_with_directed_degree[dataset] ./ exact_sizes[dataset] for dataset in dataset_names)"
   ]
  },
  {
   "cell_type": "code",
   "execution_count": null,
   "metadata": {},
   "outputs": [],
   "source": [
    "sum([x[2] != 1 for x in values(bounds[\"yeast\"])])"
   ]
  },
  {
   "cell_type": "code",
   "execution_count": null,
   "metadata": {},
   "outputs": [],
   "source": [
    "sum([x[2] != 1 for x in values(bounds[\"yeast\"])])"
   ]
  },
  {
   "cell_type": "code",
   "execution_count": null,
   "metadata": {},
   "outputs": [],
   "source": [
    "exact_sizes[\"yeast\"][exact_sizes[\"yeast\"] .> 0]"
   ]
  },
  {
   "cell_type": "code",
   "execution_count": null,
   "metadata": {},
   "outputs": [],
   "source": [
    "grouped_errors = vec([[x[2] for x in relative_errors_with_stats[\"human\"]]... [x[2] for x in relative_errors_with_hash[\"human\"]]...  [x[2] for x in relative_errors_with_no_color[\"human\"]]...  [x[2] for x in relative_errors_with_degree[\"human\"]]... [x[2] for x in relative_errors_with_directed_degree[\"human\"]]... ])\n",
    "grouped_query_types = vec([query_types[\"human\"]... query_types[\"human\"]... query_types[\"human\"]... query_types[\"human\"]... query_types[\"human\"]...])\n",
    "grouped_datasets = vec([[\"Quasi-Stable\" for _ in 1:length(query_types[\"human\"])]... [\"Hash\" for _ in 1:length(query_types[\"human\"])]... [\"No Partition\" for _ in 1:length(query_types[\"human\"])]... [\"Degree\" for _ in 1:length(query_types[\"human\"])]... [\"Directed Degree\" for _ in 1:length(query_types[\"human\"])]...])\n",
    "groupedboxplot(grouped_query_types, grouped_errors, group = grouped_datasets, yscale =:log10, ylims=[10^-4, 10^7], yticks=[10^-4, 10^-2, 1, 10^2, 10^4, 10^6])"
   ]
  },
  {
   "cell_type": "code",
   "execution_count": null,
   "metadata": {},
   "outputs": [],
   "source": [
    "grouped_errors = vec([[x[2] for x in relative_errors_with_stats[\"aids\"]]... [x[2] for x in relative_errors_with_hash[\"aids\"]]...  [x[2] for x in relative_errors_with_no_color[\"aids\"]]...  [x[2] for x in relative_errors_with_degree[\"aids\"]]... [x[2] for x in relative_errors_with_directed_degree[\"aids\"]]... ])\n",
    "grouped_query_types = vec([query_types[\"aids\"]... query_types[\"aids\"]... query_types[\"aids\"]... query_types[\"aids\"]... query_types[\"aids\"]...])\n",
    "grouped_datasets = vec([[\"Quasi-Stable\" for _ in 1:length(query_types[\"aids\"])]... [\"Hash\" for _ in 1:length(query_types[\"aids\"])]... [\"No Partition\" for _ in 1:length(query_types[\"aids\"])]... [\"Degree\" for _ in 1:length(query_types[\"aids\"])]... [\"Directed Degree\" for _ in 1:length(query_types[\"aids\"])]...])\n",
    "groupedboxplot(grouped_query_types, grouped_errors, group = grouped_datasets, yscale =:log10,  ylims=[10^-6, 10^11], yticks=[10^-5, 1, 10^5, 10^10])"
   ]
  },
  {
   "cell_type": "code",
   "execution_count": null,
   "metadata": {},
   "outputs": [],
   "source": [
    "grouped_errors = vec([[x[2] for x in relative_errors_with_stats[\"yeast\"]]... [x[2] for x in relative_errors_with_hash[\"yeast\"]]...  [x[2] for x in relative_errors_with_no_color[\"yeast\"]]...  [x[2] for x in relative_errors_with_degree[\"yeast\"]]... [x[2] for x in relative_errors_with_directed_degree[\"yeast\"]]... ])\n",
    "grouped_query_types = vec([query_types[\"yeast\"]... query_types[\"yeast\"]... query_types[\"yeast\"]... query_types[\"yeast\"]... query_types[\"yeast\"]...])\n",
    "grouped_datasets = vec([[\"Quasi-Stable\" for _ in 1:length(query_types[\"yeast\"])]... [\"Hash\" for _ in 1:length(query_types[\"yeast\"])]... [\"No Partition\" for _ in 1:length(query_types[\"yeast\"])]... [\"Degree\" for _ in 1:length(query_types[\"yeast\"])]... [\"Directed Degree\" for _ in 1:length(query_types[\"yeast\"])]...])\n",
    "groupedboxplot(grouped_query_types, grouped_errors, group = grouped_datasets, yscale =:log10,  ylims=[10^-18, 10^15], yticks=[10^-15, 10^-10, 10^-5, 1, 10^5, 10^10])"
   ]
  },
  {
   "cell_type": "code",
   "execution_count": null,
   "metadata": {},
   "outputs": [],
   "source": [
    "grouped_errors = vec([[x[2] for x in relative_errors_with_stats[\"yeast\"]]... [x[2] for x in relative_errors_with_hash[\"yeast\"]]...  [x[2] for x in relative_errors_with_no_color[\"yeast\"]]...  [x[2] for x in relative_errors_with_degree[\"yeast\"]]... [x[2] for x in relative_errors_with_directed_degree[\"yeast\"]]... ])\n",
    "grouped_query_types = vec([query_types[\"yeast\"]... query_types[\"yeast\"]... query_types[\"yeast\"]... query_types[\"yeast\"]... query_types[\"yeast\"]...])\n",
    "grouped_datasets = vec([[\"Quasi-Stable\" for _ in 1:length(query_types[\"yeast\"])]... [\"Hash\" for _ in 1:length(query_types[\"yeast\"])]... [\"No Partition\" for _ in 1:length(query_types[\"yeast\"])]... [\"Degree\" for _ in 1:length(query_types[\"yeast\"])]... [\"Directed Degree\" for _ in 1:length(query_types[\"yeast\"])]...])\n",
    "groupedboxplot(grouped_query_types, grouped_errors, group = grouped_datasets, yscale =:log10,  ylims=[10^-18, 10^15], yticks=[10^-15, 10^-10, 10^-5, 1, 10^5, 10^10])"
   ]
  },
  {
   "cell_type": "code",
   "execution_count": null,
   "metadata": {},
   "outputs": [],
   "source": [
    "grouped_errors = vec([[x[2] for x in relative_errors_with_stats[\"hprd\"]]... [x[2] for x in relative_errors_with_hash[\"hprd\"]]...  [x[2] for x in relative_errors_with_no_color[\"hprd\"]]...  [x[2] for x in relative_errors_with_degree[\"hprd\"]]... [x[2] for x in relative_errors_with_directed_degree[\"hprd\"]]... ])\n",
    "grouped_query_types = vec([query_types[\"hprd\"]... query_types[\"hprd\"]... query_types[\"hprd\"]... query_types[\"hprd\"]... query_types[\"hprd\"]...])\n",
    "grouped_datasets = vec([[\"Quasi-Stable\" for _ in 1:length(query_types[\"hprd\"])]... [\"Hash\" for _ in 1:length(query_types[\"hprd\"])]... [\"No Partition\" for _ in 1:length(query_types[\"hprd\"])]... [\"Degree\" for _ in 1:length(query_types[\"hprd\"])]... [\"Directed Degree\" for _ in 1:length(query_types[\"hprd\"])]...])\n",
    "groupedboxplot(grouped_query_types, grouped_errors, group = grouped_datasets, yscale =:log10,  ylims=[10^-6, 10^11], yticks=[10^-5, 1, 10^5, 10^10])"
   ]
  },
  {
   "cell_type": "code",
   "execution_count": null,
   "metadata": {},
   "outputs": [],
   "source": [
    "grouped_errors = vec([[x[2] for x in relative_errors_with_stats[\"wordnet\"]]... [x[2] for x in relative_errors_with_hash[\"wordnet\"]]...  [x[2] for x in relative_errors_with_no_color[\"wordnet\"]]...  [x[2] for x in relative_errors_with_degree[\"wordnet\"]]... [x[2] for x in relative_errors_with_directed_degree[\"wordnet\"]]... ])\n",
    "grouped_query_types = vec([query_types[\"wordnet\"]... query_types[\"wordnet\"]... query_types[\"wordnet\"]... query_types[\"wordnet\"]... query_types[\"wordnet\"]...])\n",
    "grouped_datasets = vec([[\"Quasi-Stable\" for _ in 1:length(query_types[\"wordnet\"])]... [\"Hash\" for _ in 1:length(query_types[\"wordnet\"])]... [\"No Partition\" for _ in 1:length(query_types[\"wordnet\"])]... [\"Degree\" for _ in 1:length(query_types[\"wordnet\"])]... [\"Directed Degree\" for _ in 1:length(query_types[\"wordnet\"])]...])\n",
    "groupedboxplot(grouped_query_types, grouped_errors, group = grouped_datasets, yscale =:log10,  ylims=[10^-7, 10^11], yticks=[10^-5, 1, 10^5, 10^10])"
   ]
  },
  {
   "cell_type": "code",
   "execution_count": null,
   "metadata": {},
   "outputs": [],
   "source": [
    "# This cell calculates true cardinalities for the various subgraph matching datasets.\n",
    "query_directories = Dict()\n",
    "query_directories[\"yeast\"] = [\"/queryset/yeast\"]\n",
    "query_directories[\"hprd\"] = [\"/queryset/hprd\"]\n",
    "query_directories[\"wordnet\"] = [\"/queryset/wordnet\"]\n",
    "dataset_names = [\"yeast\"]\n",
    "\n",
    "query_paths = Dict()\n",
    "for dataset in dataset_names\n",
    "    query_paths[dataset] = [readdir(pwd() * dir, join=true) for dir in query_directories[dataset]]\n",
    "    query_paths[dataset] = [(query_paths[dataset]...)...]\n",
    "end\n",
    "count = 0\n",
    "timeout = 120\n",
    "query = 0\n",
    "for dataset in dataset_names\n",
    "    println(\"---------------------------------------------------------------------------------------------\")\n",
    "    println(\"Running \", dataset)\n",
    "    for query_path in query_paths[dataset]\n",
    "        count += 1\n",
    "        true_card_path = replace(query_path, \"queryset\"=>\"TrueCardinalities\")\n",
    "        id_and_query = load_query(query_path, subgraph_matching_data=true)\n",
    "        if isfile(true_card_path)  || !occursin(\"sparse_8_\", query_path) \n",
    "            continue\n",
    "        end\n",
    "        println(\"Query: \", query_path)\n",
    "        id = id_and_query[1]\n",
    "        query = id_and_query[2]\n",
    "        exact_size = get_exact_size(query, datasets[dataset], timeout=timeout)\n",
    "        if exact_size < 0\n",
    "            println(\"Timed Out!\")\n",
    "            continue\n",
    "        elseif exact_size == 0\n",
    "            println(\"Zero Matches!\")\n",
    "            continue\n",
    "        end\n",
    "        true_card_file = open(true_card_path, \"w\")\n",
    "        show(true_card_file , exact_size)\n",
    "        close(true_card_file)\n",
    "    end\n",
    "end"
   ]
  },
  {
   "cell_type": "code",
   "execution_count": null,
   "metadata": {},
   "outputs": [],
   "source": [
    "using Statistics\n",
    "println(maximum([log10(x[2]) for x in human_relative_errors]))\n",
    "println(mean([abs(log10(x[2])) for x in human_relative_errors]))\n",
    "println(minimum([log10(x[2]) for x in human_relative_errors]))"
   ]
  },
  {
   "cell_type": "code",
   "execution_count": null,
   "metadata": {},
   "outputs": [],
   "source": [
    "using Statistics\n",
    "println(maximum([log10(x[2]) for x in human_relative_errors_with_stats]))\n",
    "println(mean([abs(log10(x[2])) for x in human_relative_errors_with_stats]))\n",
    "println(minimum([log10(x[2]) for x in human_relative_errors_with_stats]))"
   ]
  },
  {
   "cell_type": "code",
   "execution_count": null,
   "metadata": {},
   "outputs": [],
   "source": [
    "StatsPlots.boxplot(human_query_type, [x[2] for x in human_relative_errors_with_stats],  yscale=:log10, fillalpha=0.5, linewidth=2, label=\"With Coloring\", ylims=[10^-4, 10^7], yticks=[10^-4,10^-2, 1, 10^2, 10^4, 10^6])\n",
    "StatsPlots.boxplot!(human_query_type, [x[2] for x in human_relative_errors_with_hash],  yscale=:log10, fillalpha=0.5, linewidth=2, label=\"With Hash\")\n",
    "StatsPlots.boxplot!(human_query_type, [x[2] for x in human_relative_errors_with_no_color],  yscale=:log10, fillalpha=0.5, linewidth=2, label=\"1 Color\")"
   ]
  },
  {
   "cell_type": "code",
   "execution_count": null,
   "metadata": {},
   "outputs": [],
   "source": [
    "include(\"Source/QuasiStableCardinalityEstimator.jl\")\n",
    "\n",
    "aids_query_directories = [\"/queryset/aids/Chain_3/\",\n",
    "\"/queryset/aids/Chain_6/\",\n",
    "\"/queryset/aids/Chain_9/\",\n",
    "\"/queryset/aids/Chain_12/\",\n",
    "\"/queryset/aids/Cycle_3/\",\n",
    "\"/queryset/aids/Cycle_6/\",\n",
    "\"/queryset/aids/Flower_6/\",\n",
    "\"/queryset/aids/Flower_9/\",\n",
    "\"/queryset/aids/Flower_12/\",\n",
    "\"/queryset/aids/Graph_3/\",\n",
    "\"/queryset/aids/Graph_6/\",\n",
    "\"/queryset/aids/Graph_9/\",\n",
    "\"/queryset/aids/Graph_12/\",\n",
    "\"/queryset/aids/Petal_6/\",\n",
    "\"/queryset/aids/Petal_9/\",\n",
    "\"/queryset/aids/Petal_12/\",\n",
    "\"/queryset/aids/Star_3/\",\n",
    "\"/queryset/aids/Star_6/\",\n",
    "\"/queryset/aids/Star_9/\",\n",
    "\"/queryset/aids/Tree_3/\",\n",
    "\"/queryset/aids/Tree_6/\",\n",
    "\"/queryset/aids/Tree_9/\",\n",
    "\"/queryset/aids/Tree_12/\"]\n",
    "aids_query_paths = [readdir(pwd() * dir, join=true) for dir in aids_query_directories]\n",
    "aids_query_paths = [(aids_query_paths...)...]\n",
    "aids_exact_sizes = []\n",
    "aids_bounds = []\n",
    "aids_bounds_with_stats = []\n",
    "aids_relative_errors = []\n",
    "aids_relative_errors_with_stats = []\n",
    "aids_query_types = []\n",
    "println(\"Summary Size: \", summary_size[\"aids\"])\n",
    "println(\"Summary Build Time: \", build_time[\"aids\"])\n",
    "for query_path in aids_query_paths\n",
    "    println(\"Query: \", query_path)\n",
    "    id_and_query = load_query(query_path)\n",
    "    id = id_and_query[1]\n",
    "    query = id_and_query[2]\n",
    "    query_type = match(r\".*/queryset/aids/(.*)_.*/.*\", query_path).captures[1]\n",
    "    if query_type != \"Cycle\"\n",
    "        continue\n",
    "    end\n",
    "    bound_results = @timed get_cardinality_bounds(query, color_summaries[\"aids\"], usingStoredStats=false)\n",
    "    bound_results_with_stats = @timed get_cardinality_bounds(query, color_summaries[\"aids\"], usingStoredStats=true)\n",
    "    gcare_size = load_true_cardinality(replace(query_path, \"queryset\"=>\"TrueCardinalities\"))\n",
    "#    println(\"Bound Time: \", bound_results[2])\n",
    "#    println(\"Exact Size: \", gcare_size)\n",
    "#    println(\"Bound [Lower, Avg, Upper]: \", bound_results[1])\n",
    "#    println(\"Relative Error [Lower, Avg, Upper]: \", bound_results[1]./gcare_size)\n",
    "    bound_results[1][2] = max(1, bound_results[1][2])\n",
    "    bound_results_with_stats[1][2] = max(1, bound_results_with_stats[1][2])\n",
    "    push!(aids_exact_sizes, gcare_size)\n",
    "    push!(aids_bounds, bound_results[1])\n",
    "    push!(aids_bounds_with_stats, bound_results_with_stats[1])\n",
    "    push!(aids_relative_errors, bound_results[1] ./ gcare_size)\n",
    "    push!(aids_relative_errors_with_stats, bound_results_with_stats[1] ./ gcare_size)\n",
    "    push!(aids_query_types, query_type)\n",
    "end"
   ]
  },
  {
   "cell_type": "code",
   "execution_count": null,
   "metadata": {},
   "outputs": [],
   "source": [
    "using Statistics\n",
    "println(maximum([log10(x[2]) for x in aids_relative_errors]))\n",
    "println(mean([log10(x[2]) for x in aids_relative_errors]))\n",
    "println(mean([abs(log10(x[2])) for x in aids_relative_errors]))\n",
    "println(minimum([log10(x[2]) for x in aids_relative_errors]))"
   ]
  },
  {
   "cell_type": "code",
   "execution_count": null,
   "metadata": {},
   "outputs": [],
   "source": [
    "using Statistics\n",
    "println(maximum([log10(x[2]) for x in aids_relative_errors_with_stats]))\n",
    "println(mean([log10(x[2]) for x in aids_relative_errors_with_stats]))\n",
    "println(mean([abs(log10(x[2])) for x in aids_relative_errors_with_stats]))\n",
    "println(minimum([log10(x[2]) for x in aids_relative_errors_with_stats]))"
   ]
  },
  {
   "cell_type": "code",
   "execution_count": null,
   "metadata": {},
   "outputs": [],
   "source": [
    "StatsPlots.boxplot(aids_query_types, [x[2] for x in aids_relative_errors_with_stats],  yscale=:log10, fillalpha=0.5, linewidth=2, label=\"With Cycle Stats\", ylims=[10^-6, 10^11], yticks=[10^-5, 1, 10^5, 10^10])\n",
    "StatsPlots.boxplot!(aids_query_types, [x[2] for x in aids_relative_errors],  yscale=:log10, fillalpha=0.5, linewidth=2, label=\"Without Cycle Stats\")"
   ]
  },
  {
   "cell_type": "code",
   "execution_count": null,
   "metadata": {},
   "outputs": [],
   "source": [
    "print(data[!,\"QueryType\"])"
   ]
  },
  {
   "cell_type": "code",
   "execution_count": null,
   "metadata": {},
   "outputs": [],
   "source": [
    "lubm80_query_paths = [\"lubm80/lubm80_Q2.txt\",\n",
    "# \"lubm80/lubm80_Q4.txt\",\n",
    "# \"lubm80/lubm80_Q7.txt\",\n",
    "# \"lubm80/lubm80_Q8.txt\",\n",
    "# \"lubm80/lubm80_Q9.txt\",\n",
    "# \"lubm80/lubm80_Q12.txt\"\n",
    "                    ]\n",
    "exactSizes = []\n",
    "bounds = []\n",
    "relativeErrors = []\n",
    "println(\"Summary Size: \", summary_size[1])\n",
    "println(\"Summary Build Time: \", build_time[1])\n",
    "for query_path in lubm80_query_paths\n",
    "    println(\"Query: \", query_path)\n",
    "    id_and_query = load_query(\"queryset/\" * query_path)\n",
    "    id = id_and_query[1]\n",
    "    query = id_and_query[2]\n",
    "    bound_results = @timed get_cardinality_bounds(query, color_summaries[1])\n",
    "    exact_size_results = @timed get_exact_size(query, datasets[1])\n",
    "    gcare_size = load_true_cardinality(\"TrueCardinalities/\" * query_path)\n",
    "    println(\"Bound Time: \", bound_results[2])\n",
    "    println(\"Exact Size Time: \", exact_size_results[2])\n",
    "    println(\"Exact Size: \", exact_size_results[1])\n",
    "    println(\"GCare Exact Size: \", gcare_size)\n",
    "    if gcare_size != exact_size_results[1]\n",
    "        println(\"Bad Exact Size Estimate!!\")\n",
    "        break\n",
    "    end\n",
    "    println(\"Bound [Lower, Avg, Upper]: \", bound_results[1])\n",
    "    println(\"Relative Error [Lower, Avg, Upper]: \", (bound_results[1])./exact_size_results[1])\n",
    "    push!(exactSizes, gcare_size)\n",
    "    push!(bounds, bound_results[1])\n",
    "    push!(relativeErrors, bound_results[1] ./ gcare_size)\n",
    "end"
   ]
  },
  {
   "cell_type": "code",
   "execution_count": null,
   "metadata": {},
   "outputs": [],
   "source": [
    "exactSizes"
   ]
  },
  {
   "cell_type": "code",
   "execution_count": null,
   "metadata": {},
   "outputs": [],
   "source": []
  }
 ],
 "metadata": {
  "kernelspec": {
   "display_name": "Julia 1.9.2",
   "language": "julia",
   "name": "julia-1.9"
  },
  "language_info": {
   "file_extension": ".jl",
   "mimetype": "application/julia",
   "name": "julia",
   "version": "1.9.2"
  },
  "orig_nbformat": 4
 },
 "nbformat": 4,
 "nbformat_minor": 2
}
