{
 "cells": [
  {
   "attachments": {},
   "cell_type": "markdown",
   "metadata": {},
   "source": [
    "## G-CARE Benchmark"
   ]
  },
  {
   "cell_type": "code",
   "execution_count": 1,
   "metadata": {},
   "outputs": [
    {
     "data": {
      "text/plain": [
       "get_exact_size (generic function with 1 method)"
      ]
     },
     "metadata": {},
     "output_type": "display_data"
    }
   ],
   "source": [
    "using Graphs: DiGraph\n",
    "using StatsPlots\n",
    "include(\"Source/datasets.jl\")\n",
    "include(\"Source/QuasiStableCardinalityEstimator.jl\")"
   ]
  },
  {
   "cell_type": "code",
   "execution_count": 2,
   "metadata": {},
   "outputs": [],
   "source": [
    "\n",
    "\n",
    "\n",
    "aids_data_file_path = \"dataset/aids/aids.txt\"\n",
    "human_data_file_path = \"dataset/human/human.txt\"\n",
    "lubm80_data_file_path = \"dataset/lubm80/lubm80.txt\"\n",
    "yago_data_file_path = \"dataset/yago/yago.txt\"\n",
    "\n",
    "#aids_data = load_dataset(aids_data_file_path)\n",
    "#human_data = load_dataset(human_data_file_path)\n",
    "lubm80_data = load_dataset(lubm80_data_file_path)\n",
    "#yago_data = load_dataset(yago_data_file_path)\n",
    "nothing"
   ]
  },
  {
   "cell_type": "code",
   "execution_count": 38,
   "metadata": {},
   "outputs": [
    {
     "data": {
      "text/plain": [
       "1-element Vector{String}:\n",
       " \"lubm80\""
      ]
     },
     "metadata": {},
     "output_type": "display_data"
    }
   ],
   "source": [
    "#datasets = [aids_data, human_data, lubm80_data, yago_data]\n",
    "#dataset_names = [\"aids\", \"human\", \"lubm80\", \"yago\"]\n",
    "datasets = [lubm80_data]\n",
    "dataset_names = [\"lubm80\"]"
   ]
  },
  {
   "cell_type": "code",
   "execution_count": 39,
   "metadata": {},
   "outputs": [
    {
     "name": "stdout",
     "output_type": "stream",
     "text": [
      "Started coloring\n",
      "Finished coloring\n"
     ]
    },
    {
     "name": "stdout",
     "output_type": "stream",
     "text": [
      "Started bloom filters\n",
      "Finished bloom filters\n",
      "Started cardinality counts\n"
     ]
    },
    {
     "name": "stdout",
     "output_type": "stream",
     "text": [
      "Finished cardinality counts\n"
     ]
    },
    {
     "name": "stdout",
     "output_type": "stream",
     "text": [
      "Started tracking statistics\n",
      "Finished tracking statistics"
     ]
    },
    {
     "name": "stdout",
     "output_type": "stream",
     "text": [
      "\n"
     ]
    }
   ],
   "source": [
    "build_time = []\n",
    "summary_size = []\n",
    "color_summaries =[]\n",
    "for dataset in datasets\n",
    "    results = @timed generate_color_summary(dataset, 8, verbose=true)\n",
    "    push!(build_time, results[2])\n",
    "    push!(summary_size,  get_color_summary_size(results[1]))\n",
    "    push!(color_summaries, results[1])\n",
    "end"
   ]
  },
  {
   "cell_type": "code",
   "execution_count": 40,
   "metadata": {},
   "outputs": [
    {
     "name": "stdout",
     "output_type": "stream",
     "text": [
      "Summary Size: 7209\n",
      "Summary Build Time: 599.4344749\n"
     ]
    },
    {
     "name": "stdout",
     "output_type": "stream",
     "text": [
      "Query: lubm80/lubm80_Q2.txt\n"
     ]
    },
    {
     "name": "stdout",
     "output_type": "stream",
     "text": [
      "Bound Time: 0.2822331\n",
      "Exact Size Time: 28.6690044\n",
      "Exact Size: 212\n",
      "GCare Exact Size: 212\n",
      "Bound [Lower, Avg, Upper]: [0.0, 0.0, 432014.0]\n",
      "Relative Error [Lower, Avg, Upper]: [0.0, 0.0, 2037.801886792453]\n"
     ]
    }
   ],
   "source": [
    "lubm80_query_paths = [\"lubm80/lubm80_Q2.txt\",\n",
    "# \"lubm80/lubm80_Q4.txt\",\n",
    "# \"lubm80/lubm80_Q7.txt\",\n",
    "# \"lubm80/lubm80_Q8.txt\",\n",
    "# \"lubm80/lubm80_Q9.txt\",\n",
    "# \"lubm80/lubm80_Q12.txt\"\n",
    "                    ]\n",
    "exactSizes = []\n",
    "bounds = []\n",
    "relativeErrors = []\n",
    "println(\"Summary Size: \", summary_size[1])\n",
    "println(\"Summary Build Time: \", build_time[1])\n",
    "for query_path in lubm80_query_paths\n",
    "    println(\"Query: \", query_path)\n",
    "    id_and_query = load_query(\"queryset/\" * query_path)\n",
    "    id = id_and_query[1]\n",
    "    query = id_and_query[2]\n",
    "    bound_results = @timed get_cardinality_bounds(query, color_summaries[1])\n",
    "    exact_size_results = @timed get_exact_size(query, datasets[1])\n",
    "    gcare_size = load_true_cardinality(\"TrueCardinalities/\" * query_path)\n",
    "    println(\"Bound Time: \", bound_results[2])\n",
    "    println(\"Exact Size Time: \", exact_size_results[2])\n",
    "    println(\"Exact Size: \", exact_size_results[1])\n",
    "    println(\"GCare Exact Size: \", gcare_size)\n",
    "    if gcare_size != exact_size_results[1]\n",
    "        println(\"Bad Exact Size Estimate!!\")\n",
    "        break\n",
    "    end\n",
    "    println(\"Bound [Lower, Avg, Upper]: \", bound_results[1])\n",
    "    println(\"Relative Error [Lower, Avg, Upper]: \", (bound_results[1])./exact_size_results[1])\n",
    "    push!(exactSizes, gcare_size)\n",
    "    push!(bounds, bound_results[1])\n",
    "    push!(relativeErrors, bound_results[1] ./ gcare_size)\n",
    "end"
   ]
  },
  {
   "cell_type": "code",
   "execution_count": 33,
   "metadata": {},
   "outputs": [
    {
     "name": "stdout",
     "output_type": "stream",
     "text": [
      "Summary Size: 19656\n",
      "Summary Build Time: 4.0464776"
     ]
    },
    {
     "name": "stdout",
     "output_type": "stream",
     "text": [
      "\n",
      "Query: human/Chain_3/uf_Q_1_1.txt\n"
     ]
    },
    {
     "name": "stdout",
     "output_type": "stream",
     "text": [
      "Bound Time: 0.3548918\n",
      "Exact Size Time: 0.0749477\n",
      "Exact Size: 72\n",
      "GCare Exact Size: 72\n",
      "Bound [Lower, Avg, Upper]: [0.0, 97.97235023041475, 146902.0]\n",
      "Relative Error [Lower, Avg, Upper]: [0.0, 1.3607270865335381, 2040.3055555555557]\n",
      "Query: human/Chain_3/uf_Q_1_2.txt\n"
     ]
    },
    {
     "name": "stdout",
     "output_type": "stream",
     "text": [
      "Bound Time: 0.0002294\n",
      "Exact Size Time: 0.283552\n",
      "Exact Size: 22\n",
      "GCare Exact Size: 22\n",
      "Bound [Lower, Avg, Upper]: [0.0, 2535.1391868332657, 134370.0]\n",
      "Relative Error [Lower, Avg, Upper]: [0.0, 115.23359940151208, 6107.727272727273]\n",
      "Query: human/Chain_3/uf_Q_1_3.txt\n",
      "Bound Time: 0.0001836\n",
      "Exact Size Time: 0.0014509\n",
      "Exact Size: 10\n",
      "GCare Exact Size: 10\n",
      "Bound [Lower, Avg, Upper]: [0.0, 39.1889400921659, 146902.0]\n",
      "Relative Error [Lower, Avg, Upper]: [0.0, 3.91889400921659, 14690.2]\n",
      "Query: human/Star_3/uf_Q_0_1.txt\n",
      "Bound Time: 0.0001628\n",
      "Exact Size Time: 0.0013778\n",
      "Exact Size: 1\n",
      "GCare Exact Size: 1\n",
      "Bound [Lower, Avg, Upper]: "
     ]
    },
    {
     "name": "stdout",
     "output_type": "stream",
     "text": [
      "[0.0, 9.797235023041473, 462210.0]\n",
      "Relative Error [Lower, Avg, Upper]: [0.0, 9.797235023041473, 462210.0]\n",
      "Query: human/Star_3/uf_Q_0_2.txt\n",
      "Bound Time: 7.96e-5\n",
      "Exact Size Time: 0.0008917\n",
      "Exact Size: 1\n",
      "GCare Exact Size: 1\n",
      "Bound [Lower, Avg, Upper]: [0.0, 9.797235023041473, 462210.0]\n",
      "Relative Error [Lower, Avg, Upper]: [0.0, 9.797235023041473, 462210.0]\n",
      "Query: human/Star_3/uf_Q_1_1.txt\n",
      "Bound Time: 4.23e-5\n",
      "Exact Size Time: 0.0009529\n",
      "Exact Size: 23\n",
      "GCare Exact Size: 23\n",
      "Bound [Lower, Avg, Upper]: [0.0, 107.76958525345623, 1.84884e6]\n",
      "Relative Error [Lower, Avg, Upper]: [0.0, 4.685634141454619, 80384.34782608696]\n",
      "Query: human/Star_3/uf_Q_1_2.txt\n",
      "Bound Time: 0.0001485\n",
      "Exact Size Time: 0.0025993\n",
      "Exact Size: 25\n",
      "GCare Exact Size: 25\n",
      "Bound [Lower, Avg, Upper]: [0.0, 48.986175115207374, 462210.0]\n",
      "Relative Error [Lower, Avg, Upper]: [0.0, 1.959447004608295, 18488.4]\n",
      "Query: human/Star_3/uf_Q_1_3.txt\n",
      "Bound Time: "
     ]
    },
    {
     "name": "stdout",
     "output_type": "stream",
     "text": [
      "0.0002969\n",
      "Exact Size Time: 0.002012\n",
      "Exact Size: 25\n",
      "GCare Exact Size: 25\n",
      "Bound [Lower, Avg, Upper]: [0.0, 48.986175115207374, 462210.0]\n",
      "Relative Error [Lower, Avg, Upper]: [0.0, 1.959447004608295, 18488.4]\n",
      "Query: human/Star_3/uf_Q_1_4.txt\n",
      "Bound Time: 0.0002486\n",
      "Exact Size Time: 0.001067\n",
      "Exact Size: 64\n",
      "GCare Exact Size: 64\n",
      "Bound [Lower, Avg, Upper]: [0.0, 78.37788018433179, 494728.0]\n",
      "Relative Error [Lower, Avg, Upper]: [0.0, 1.2246543778801842, 7730.125]\n",
      "Query: human/Star_3/uf_Q_1_5.txt\n",
      "Bound Time: 8.25e-5\n",
      "Exact Size Time: 0.0009192\n",
      "Exact Size: 25\n",
      "GCare Exact Size: 25\n",
      "Bound [Lower, Avg, Upper]: [0.0, 48.986175115207374, 462210.0]\n",
      "Relative Error [Lower, Avg, Upper]: [0.0, 1.959447004608295, 18488.4]\n",
      "Query: human/Star_3/uf_Q_1_6.txt\n",
      "Bound Time: 0.0001463\n",
      "Exact Size Time: 0.0012303\n",
      "Exact Size: 64\n",
      "GCare Exact Size: 64\n",
      "Bound [Lower, Avg, Upper]: [0.0, 78.37788018433179, 494728.0]\n",
      "Relative Error [Lower, Avg, Upper]: [0.0, 1.2246543778801842, 7730.125]\n",
      "Query: human/Star_3/uf_Q_2_1.txt\n",
      "Bound Time: 0.0001565\n",
      "Exact Size Time: 0.0019454\n",
      "Exact Size: 315\n",
      "GCare Exact Size: 315\n",
      "Bound [Lower, Avg, Upper]: [0.0, 519.2534562211981, 3.39522e6]\n",
      "Relative Error [Lower, Avg, Upper]: [0.0, 1.648423670543486, 10778.47619047619]\n",
      "Query: human/Star_3/uf_Q_2_2.txt\n",
      "Bound Time: 0.0001344\n",
      "Exact Size Time: 0.0016946\n",
      "Exact Size: 372\n",
      "GCare Exact Size: 372\n",
      "Bound [Lower, Avg, Upper]: [0.0, 391.889400921659, 1.38663e6]\n",
      "Relative Error [Lower, Avg, Upper]: "
     ]
    },
    {
     "name": "stdout",
     "output_type": "stream",
     "text": [
      "[0.0, 1.053466131509836, 3727.5]\n",
      "Query: human/Star_3/uf_Q_2_3.txt\n",
      "Bound Time: 0.0001127\n",
      "Exact Size Time: 0.0017702\n",
      "Exact Size: 106\n",
      "GCare Exact Size: 106\n",
      "Bound [Lower, Avg, Upper]: [0.0, 391.889400921659, 2.77326e6]\n",
      "Relative Error [Lower, Avg, Upper]: [0.0, 3.697069820015651, 26162.830188679247]\n",
      "Query: human/Graph_3/uf_Q_3_1.txt\n"
     ]
    },
    {
     "name": "stdout",
     "output_type": "stream",
     "text": [
      "Bound Time: 0.0005264\n",
      "Exact Size Time: 0.0503104\n",
      "Exact Size: 9610\n",
      "GCare Exact Size: 9610\n",
      "Bound [Lower, Avg, Upper]: [0.0, 418.97270677492287, 336392.0]\n",
      "Relative Error [Lower, Avg, Upper]: [0.0, 0.04359757614723443, 35.00437044745057]\n",
      "Query: human/Graph_3/uf_Q_3_2.txt\n",
      "Bound Time: 0.0004162\n",
      "Exact Size Time: 0.0491947\n",
      "Exact Size: 6875\n",
      "GCare Exact Size: 6875\n",
      "Bound [Lower, Avg, Upper]: [0.0, 213.6238934890469, 210768.0]\n",
      "Relative Error [Lower, Avg, Upper]: [0.0, 0.03107256632567955, 30.657163636363638]\n",
      "Query: human/Graph_3/uf_Q_3_3.txt"
     ]
    },
    {
     "name": "stdout",
     "output_type": "stream",
     "text": [
      "\n",
      "Bound Time: 0.0001851\n",
      "Exact Size Time: 0.0254002\n",
      "Exact Size: 2830\n",
      "GCare Exact Size: 2830\n",
      "Bound [Lower, Avg, Upper]: [0.0, 93.63201167329201, 145205.0]\n",
      "Relative Error [Lower, Avg, Upper]: [0.0, 0.03308551649232933, 51.30918727915194]\n",
      "Query: human/Graph_3/uf_Q_3_4.txt\n",
      "Bound Time: 0.0006044\n",
      "Exact Size Time: 0.0498859\n",
      "Exact Size: 8588\n",
      "GCare Exact Size: 8588\n",
      "Bound [Lower, Avg, Upper]: [0.0, 375.82510302988555, 210811.0]\n",
      "Relative Error [Lower, Avg, Upper]: [0.0, 0.04376165615159357, 24.547158826269214]\n",
      "Query: human/Graph_3/uf_Q_3_5.txt"
     ]
    },
    {
     "name": "stdout",
     "output_type": "stream",
     "text": [
      "\n",
      "Bound Time: 0.0005475\n",
      "Exact Size Time: 0.0422713\n",
      "Exact Size: 9103\n",
      "GCare Exact Size: 9103\n",
      "Bound [Lower, Avg, Upper]: [0.0, 382.2280817486802, 210870.0]\n",
      "Relative Error [Lower, Avg, Upper]: [0.0, 0.041989243298767465, 23.164890695375153]\n",
      "Query: human/Graph_3/uf_Q_3_6.txt\n",
      "Bound Time: "
     ]
    },
    {
     "name": "stdout",
     "output_type": "stream",
     "text": [
      "0.0002215\n",
      "Exact Size Time: 0.0199866\n",
      "Exact Size: 2796\n",
      "GCare Exact Size: 2796\n",
      "Bound [Lower, Avg, Upper]: [0.0, 122.72224547930087, 48905.0]\n",
      "Relative Error [Lower, Avg, Upper]: [0.0, 0.04389207635168128, 17.491058655221746]\n"
     ]
    }
   ],
   "source": [
    "human_query_paths = [\"human/Chain_3/uf_Q_1_1.txt\",\n",
    "\"human/Chain_3/uf_Q_1_2.txt\",\n",
    "\"human/Chain_3/uf_Q_1_3.txt\",\n",
    "\"human/Star_3/uf_Q_0_1.txt\",\n",
    "\"human/Star_3/uf_Q_0_2.txt\",\n",
    "\"human/Star_3/uf_Q_1_1.txt\",\n",
    "\"human/Star_3/uf_Q_1_2.txt\",\n",
    "\"human/Star_3/uf_Q_1_3.txt\",\n",
    "\"human/Star_3/uf_Q_1_4.txt\", \n",
    "\"human/Star_3/uf_Q_1_5.txt\",\n",
    "\"human/Star_3/uf_Q_1_6.txt\",\n",
    "\"human/Star_3/uf_Q_2_1.txt\",\n",
    "\"human/Star_3/uf_Q_2_2.txt\",\n",
    "\"human/Star_3/uf_Q_2_3.txt\",\n",
    "\"human/Graph_3/uf_Q_3_1.txt\",\n",
    "\"human/Graph_3/uf_Q_3_2.txt\",\n",
    "\"human/Graph_3/uf_Q_3_3.txt\",\n",
    "\"human/Graph_3/uf_Q_3_4.txt\",\n",
    "\"human/Graph_3/uf_Q_3_5.txt\",\n",
    "\"human/Graph_3/uf_Q_3_6.txt\",\n",
    "                    ]\n",
    "exactSizes = []\n",
    "bounds = []\n",
    "relativeErrors = []\n",
    "println(\"Summary Size: \", summary_size[2])\n",
    "println(\"Summary Build Time: \", build_time[2])\n",
    "for query_path in human_query_paths\n",
    "    println(\"Query: \", query_path)\n",
    "    id_and_query = load_query(\"queryset/\" * query_path)\n",
    "    id = id_and_query[1]\n",
    "    query = id_and_query[2]\n",
    "    bound_results = @timed get_cardinality_bounds(query, color_summaries[2])\n",
    "    exact_size_results = @timed get_exact_size(query, datasets[2])\n",
    "    gcare_size = load_true_cardinality(\"TrueCardinalities/\" * query_path)\n",
    "    println(\"Bound Time: \", bound_results[2])\n",
    "    println(\"Exact Size Time: \", exact_size_results[2])\n",
    "    println(\"Exact Size: \", exact_size_results[1])\n",
    "    println(\"GCare Exact Size: \", gcare_size)\n",
    "    if gcare_size != exact_size_results[1]\n",
    "        println(\"Bad Exact Size Estimate!!\")\n",
    "        break\n",
    "    end\n",
    "    println(\"Bound [Lower, Avg, Upper]: \", bound_results[1])\n",
    "    println(\"Relative Error [Lower, Avg, Upper]: \", bound_results[1]./exact_size_results[1])\n",
    "    push!(exactSizes, gcare_size)\n",
    "    push!(bounds, bound_results[1])\n",
    "    push!(relativeErrors, bound_results[1] ./ gcare_size)\n",
    "end"
   ]
  },
  {
   "cell_type": "code",
   "execution_count": null,
   "metadata": {},
   "outputs": [],
   "source": [
    "yago_query_paths = [\"yago/Chain_3/f_Q_1_1.txt\",\n",
    "\"yago/Chain_3/f_Q_1_2.txt\",\n",
    "\"yago/Chain_3/f_Q_1_3.txt\",\n",
    "\"yago/Star_3/f_Q_0_1.txt\",\n",
    "\"yago/Star_3/f_Q_0_2.txt\",\n",
    "\"yago/Star_3/f_Q_1_1.txt\",\n",
    "\"yago/Star_3/f_Q_1_2.txt\",\n",
    "\"yago/Star_3/f_Q_1_3.txt\",\n",
    "\"yago/Star_3/f_Q_1_4.txt\", \n",
    "\"yago/Star_3/f_Q_1_5.txt\",\n",
    "\"yago/Star_3/f_Q_1_6.txt\",\n",
    "\"yago/Star_3/f_Q_2_1.txt\",\n",
    "\"yago/Star_3/f_Q_2_2.txt\",\n",
    "\"yago/Star_3/f_Q_2_3.txt\",\n",
    "\"yago/Graph_3/f_Q_3_1.txt\",\n",
    "\"yago/Graph_3/f_Q_3_2.txt\",\n",
    "\"yago/Graph_3/f_Q_3_3.txt\",\n",
    "\"yago/Graph_3/f_Q_3_7.txt\",\n",
    "\"yago/Graph_3/f_Q_3_8.txt\",\n",
    "\"yago/Graph_3/f_Q_3_10.txt\",\n",
    "                    ]\n",
    "exactSizes = []\n",
    "bounds = []\n",
    "relativeErrors = []\n",
    "println(\"Summary Size: \", summary_size[2])\n",
    "println(\"Summary Build Time: \", build_time[2])\n",
    "for query_path in yago_query_paths\n",
    "    println(\"Query: \", query_path)\n",
    "    id_and_query = load_query(\"queryset/\" * query_path)\n",
    "    id = id_and_query[1]\n",
    "    query = id_and_query[2]\n",
    "    bound_results = @timed get_cardinality_bounds(query, color_summaries[2])\n",
    "    exact_size_results = @timed get_exact_size(query, datasets[2])\n",
    "    gcare_size = load_true_cardinality(\"TrueCardinalities/\" * query_path)\n",
    "    println(\"Bound Time: \", bound_results[2])\n",
    "    println(\"Exact Size Time: \", exact_size_results[2])\n",
    "    println(\"Exact Size: \", exact_size_results[1])\n",
    "    println(\"GCare Exact Size: \", gcare_size)\n",
    "    if gcare_size != exact_size_results[1]\n",
    "        println(\"Bad Exact Size Estimate!!\")\n",
    "        break\n",
    "    end\n",
    "    println(\"Bound [Lower, Avg, Upper]: \", bound_results[1])\n",
    "    println(\"Relative Error [Lower, Avg, Upper]: \", bound_results[1]./exact_size_results[1])\n",
    "    push!(exactSizes, gcare_size)\n",
    "    push!(bounds, bound_results[1])\n",
    "    push!(relativeErrors, bound_results[1] ./ gcare_size)\n",
    "end"
   ]
  },
  {
   "cell_type": "code",
   "execution_count": 34,
   "metadata": {},
   "outputs": [
    {
     "name": "stdout",
     "output_type": "stream",
     "text": [
      "Query: aids/Chain_3/uf_Q_5_1.txt\n"
     ]
    },
    {
     "name": "stdout",
     "output_type": "stream",
     "text": [
      "Bound Time: 0.000284\n",
      "Exact Size Time: 1.5226151\n",
      "Exact Size: 120348\n",
      "GCare Exact Size: 120348\n",
      "Bound [Lower, Avg, Upper]: [0.0, 303950.88071850373, 5.0131578e8]\n",
      "Relative Error [Lower, Avg, Upper]: [0.0, 2.5255997666642047, 4165.551400937282]\n",
      "Query: aids/Chain_3/uf_Q_5_2.txt"
     ]
    },
    {
     "name": "stdout",
     "output_type": "stream",
     "text": [
      "\n",
      "Bound Time: 0.0003267\n",
      "Exact Size Time: 1.010352\n",
      "Exact Size: 120348\n",
      "GCare Exact Size: 120348\n",
      "Bound [Lower, Avg, Upper]: [0.0, 303950.8807185036, 3.50206776e8]\n",
      "Relative Error [Lower, Avg, Upper]: [0.0, 2.525599766664204, 2909.9509422674246]\n",
      "Query: aids/Chain_3/uf_Q_5_3.txt\n"
     ]
    },
    {
     "name": "stdout",
     "output_type": "stream",
     "text": [
      "Bound Time: 0.0002477\n",
      "Exact Size Time: 1.3256063\n",
      "Exact Size: 120348\n",
      "GCare Exact Size: 120348\n",
      "Bound [Lower, Avg, Upper]: [0.0, 303950.88071850373, 5.0131578e8]\n",
      "Relative Error [Lower, Avg, Upper]: [0.0, 2.5255997666642047, 4165.551400937282]\n",
      "Query: aids/Tree_3/uf_Q_2_5.txt\n",
      "Bound Time: 0.0001155\n",
      "Exact Size Time: 0.0518927\n",
      "Exact Size: 221\n",
      "GCare Exact Size: 221\n",
      "Bound [Lower, Avg, Upper]: [0.0, 140.80476832308895, 9.481703e6]\n",
      "Relative Error [Lower, Avg, Upper]: [0.0, 0.6371256485207645, 42903.6334841629]\n",
      "Query: aids/Tree_3/uf_Q_4_4.txt"
     ]
    },
    {
     "name": "stdout",
     "output_type": "stream",
     "text": [
      "\n",
      "Bound Time: 0.0002333\n",
      "Exact Size Time: 1.0898547\n",
      "Exact Size: 17682\n",
      "GCare Exact Size: 17682\n",
      "Bound [Lower, Avg, Upper]: [0.0, 290809.7675235742, 2.7710082e8]\n",
      "Relative Error [Lower, Avg, Upper]: [0.0, 16.446655781222383, 15671.350525958602]\n",
      "Query: aids/Tree_6/uf_Q_4_4.txt"
     ]
    },
    {
     "name": "stdout",
     "output_type": "stream",
     "text": [
      "\n",
      "Bound Time: 0.0003189\n",
      "Exact Size Time: 0.960998\n",
      "Exact Size: 66885\n",
      "GCare Exact Size: 66885\n",
      "Bound [Lower, Avg, Upper]: [0.0, 1064.5842271606264, 7.6172137248e10]\n",
      "Relative Error [Lower, Avg, Upper]: [0.0, 0.015916636423123666, 1.1388523173805785e6]\n",
      "Query: aids/Tree_6/uf_Q_5_6.txt"
     ]
    },
    {
     "name": "stdout",
     "output_type": "stream",
     "text": [
      "\n",
      "Bound Time: 0.0079842\n",
      "Exact Size Time: 1.0467105\n",
      "Exact Size: 267636\n",
      "GCare Exact Size: 267636\n",
      "Bound [Lower, Avg, Upper]: [0.0, 8872.301243576849, 1.96168206645e11]\n",
      "Relative Error [Lower, Avg, Upper]: [0.0, 0.03315062713378188, 732966.4419024347]\n",
      "Query: aids/Star_6/uf_Q_2_3.txt\n",
      "Bound Time: 0.0003321\n",
      "Exact Size Time: 0.0367899\n",
      "Exact Size: 625\n",
      "GCare Exact Size: 625\n",
      "Bound [Lower, Avg, Upper]: [0.0, 695.192447299271, 3.2706922334e10]\n",
      "Relative Error [Lower, Avg, Upper]: [0.0, 1.1123079156788336, 5.23310757344e7]\n",
      "Query: aids/Star_6/uf_Q_1_1.txt"
     ]
    },
    {
     "name": "stdout",
     "output_type": "stream",
     "text": [
      "\n",
      "Bound Time: 0.0004799\n",
      "Exact Size Time: 0.0409217\n",
      "Exact Size: 81\n",
      "GCare Exact Size: 81\n",
      "Bound [Lower, Avg, Upper]: [0.0, 1559.6062549743472, 4.3035718973e10]\n",
      "Relative Error [Lower, Avg, Upper]: [0.0, 19.25439820955984, 5.3130517250617284e8]\n",
      "Query: aids/Cycle_3/uf_Q_2_14.txt\n"
     ]
    },
    {
     "name": "stdout",
     "output_type": "stream",
     "text": [
      "Bound Time: 0.0020523\n",
      "Exact Size Time: 1.0198282\n",
      "Exact Size: 290\n",
      "GCare Exact Size: 290\n",
      "Bound [Lower, Avg, Upper]: [0.0, 0.3744654752168873, 1.4455974e7]\n",
      "Relative Error [Lower, Avg, Upper]: [0.0, 0.0012912602593685768, 49848.18620689655]\n",
      "Query: aids/Cycle_3/uf_Q_3_14.txt\n"
     ]
    },
    {
     "name": "stdout",
     "output_type": "stream",
     "text": [
      "Bound Time: 0.0028123\n",
      "Exact Size Time: 3.1110738\n",
      "Exact Size: 3240\n",
      "GCare Exact Size: 3240\n",
      "Bound [Lower, Avg, Upper]: [0.0, 4.046794985206887, 6.3332473e7]\n",
      "Relative Error [Lower, Avg, Upper]: [0.0, 0.0012490107979033602, 19547.059567901233]\n",
      "Query: aids/Flower_6/uf_Q_3_6.txt\n"
     ]
    },
    {
     "name": "stdout",
     "output_type": "stream",
     "text": [
      "Bound Time: 0.0015446\n",
      "Exact Size Time: 0.7449252\n",
      "Exact Size: 2898\n",
      "GCare Exact Size: 2898\n",
      "Bound [Lower, Avg, Upper]: [0.0, 1.54812178403782, 9.1304140465e10]\n",
      "Relative Error [Lower, Avg, Upper]: [0.0, 0.0005342035141607384, 3.1505914584195998e7]\n",
      "Query: aids/Flower_6/uf_Q_5_3.txt"
     ]
    },
    {
     "name": "stdout",
     "output_type": "stream",
     "text": [
      "\n",
      "Bound Time: 0.0035745\n",
      "Exact Size Time: 1.9927915\n",
      "Exact Size: 231756\n",
      "GCare Exact Size: 231756\n",
      "Bound [Lower, Avg, Upper]: [0.0, 0.4323537094549825, 4.5954151182e10]\n",
      "Relative Error [Lower, Avg, Upper]: [0.0, 1.8655556251185838e-6, 198286.7808470978]\n",
      "Query: aids/Flower_9/uf_Q_3_3.txt"
     ]
    },
    {
     "name": "stdout",
     "output_type": "stream",
     "text": [
      "\n",
      "Bound Time: 0.0104581\n",
      "Exact Size Time: 6.205682\n",
      "Exact Size: 4836\n",
      "GCare Exact Size: 4836\n",
      "Bound [Lower, Avg, Upper]: [0.0, 23.07003933751194, 1.959305959423456e15]\n",
      "Relative Error [Lower, Avg, Upper]: [0.0, 0.004770479598327531, 4.051501156789611e11]\n"
     ]
    }
   ],
   "source": [
    "aids_query_paths = [\"aids/Chain_3/uf_Q_5_1.txt\",\n",
    "\"aids/Chain_3/uf_Q_5_2.txt\",\n",
    "\"aids/Chain_3/uf_Q_5_3.txt\",\n",
    "\"aids/Tree_3/uf_Q_2_5.txt\",\n",
    "\"aids/Tree_3/uf_Q_4_4.txt\",\n",
    "\"aids/Tree_6/uf_Q_4_4.txt\",\n",
    "\"aids/Tree_6/uf_Q_5_6.txt\",\n",
    "\"aids/Star_6/uf_Q_2_3.txt\",\n",
    "\"aids/Star_6/uf_Q_1_1.txt\",\n",
    "\"aids/Cycle_3/uf_Q_2_14.txt\",\n",
    "\"aids/Cycle_3/uf_Q_3_14.txt\",\n",
    "\"aids/Flower_6/uf_Q_3_6.txt\",\n",
    "\"aids/Flower_6/uf_Q_5_3.txt\",\n",
    "\"aids/Flower_9/uf_Q_3_3.txt\"\n",
    "]\n",
    "exactSizes = []\n",
    "bounds = []\n",
    "relativeErrors = []\n",
    "exactTimes = []\n",
    "boundTimes = []\n",
    "for query_path in aids_query_paths\n",
    "    println(\"Query: \", query_path)\n",
    "    id_and_query = load_query(\"queryset/\" * query_path)\n",
    "    id = id_and_query[1]\n",
    "    query = id_and_query[2]\n",
    "    bound_results = @timed get_cardinality_bounds(query, color_summaries[1])\n",
    "    exact_size_results = @timed get_exact_size(query, datasets[1])\n",
    "    gcare_size = load_true_cardinality(\"TrueCardinalities/\" * query_path)\n",
    "    println(\"Bound Time: \", bound_results[2])\n",
    "    println(\"Exact Size Time: \", exact_size_results[2])\n",
    "    println(\"Exact Size: \", exact_size_results[1])\n",
    "    println(\"GCare Exact Size: \", gcare_size)\n",
    "    if gcare_size != exact_size_results[1]\n",
    "        println(\"Bad Exact Size Estimate!!\")\n",
    "        break\n",
    "    end\n",
    "    println(\"Bound [Lower, Avg, Upper]: \", bound_results[1])\n",
    "    println(\"Relative Error [Lower, Avg, Upper]: \", bound_results[1]./gcare_size)\n",
    "    push!(exactSizes, gcare_size)\n",
    "    push!(bounds, bound_results[1])\n",
    "    push!(relativeErrors, bound_results[1] ./ gcare_size)\n",
    "    push!(exactTimes, exact_size_results[2])\n",
    "    push!(boundTimes, bound_results[2])\n",
    "end"
   ]
  },
  {
   "cell_type": "code",
   "execution_count": 35,
   "metadata": {},
   "outputs": [
    {
     "data": {
      "text/plain": [
       "14-element Vector{Any}:\n",
       " [0.0, 2.5255997666642047, 4165.551400937282]\n",
       " [0.0, 2.525599766664204, 2909.9509422674246]\n",
       " [0.0, 2.5255997666642047, 4165.551400937282]\n",
       " [0.0, 0.6371256485207645, 42903.6334841629]\n",
       " [0.0, 16.446655781222383, 15671.350525958602]\n",
       " [0.0, 0.015916636423123666, 1.1388523173805785e6]\n",
       " [0.0, 0.03315062713378188, 732966.4419024347]\n",
       " [0.0, 1.1123079156788336, 5.23310757344e7]\n",
       " [0.0, 19.25439820955984, 5.3130517250617284e8]\n",
       " [0.0, 0.0012912602593685768, 49848.18620689655]\n",
       " [0.0, 0.0012490107979033602, 19547.059567901233]\n",
       " [0.0, 0.0005342035141607384, 3.1505914584195998e7]\n",
       " [0.0, 1.8655556251185838e-6, 198286.7808470978]\n",
       " [0.0, 0.004770479598327531, 4.051501156789611e11]"
      ]
     },
     "metadata": {},
     "output_type": "display_data"
    }
   ],
   "source": [
    "relativeErrors"
   ]
  },
  {
   "cell_type": "code",
   "execution_count": null,
   "metadata": {},
   "outputs": [],
   "source": [
    "exactSizes"
   ]
  },
  {
   "cell_type": "code",
   "execution_count": null,
   "metadata": {},
   "outputs": [],
   "source": []
  }
 ],
 "metadata": {
  "kernelspec": {
   "display_name": "Julia 1.8.5",
   "language": "julia",
   "name": "julia-1.8"
  },
  "language_info": {
   "file_extension": ".jl",
   "mimetype": "application/julia",
   "name": "julia",
   "version": "1.8.5"
  },
  "orig_nbformat": 4
 },
 "nbformat": 4,
 "nbformat_minor": 2
}
