{
 "cells": [
  {
   "attachments": {},
   "cell_type": "markdown",
   "metadata": {},
   "source": [
    "## G-CARE Benchmark"
   ]
  },
  {
   "cell_type": "code",
   "execution_count": 24,
   "metadata": {},
   "outputs": [],
   "source": [
    "using Graphs: DiGraph\n",
    "include(\"Source/datasets.jl\")\n",
    "include(\"Source/QuasiStableCardinalityEstimator.jl\")\n",
    "\n",
    "\n",
    "aids_data_file_path = \"dataset/aids/aids.txt\"\n",
    "human_data_file_path = \"dataset/human/human.txt\"\n",
    "lubm80_data_file_path = \"dataset/lubm80/lubm80.txt\"\n",
    "yago_data_file_path = \"dataset/yago/yago.txt\"\n",
    "\n",
    "aids_data = load_dataset(aids_data_file_path)\n",
    "human_data = load_dataset(human_data_file_path)\n",
    "#lubm80_data = load_dataset(lubm80_data_file_path)\n",
    "#yago_data = load_dataset(yago_data_file_path)\n",
    "nothing"
   ]
  },
  {
   "cell_type": "code",
   "execution_count": 16,
   "metadata": {},
   "outputs": [
    {
     "data": {
      "text/plain": [
       "2-element Vector{String}:\n",
       " \"aids\"\n",
       " \"human\""
      ]
     },
     "execution_count": 16,
     "metadata": {},
     "output_type": "execute_result"
    }
   ],
   "source": [
    "#datasets = [aids_data, human_data, lubm80_data, yago_data]\n",
    "#dataset_names = [\"aids\", \"human\", \"lubm80\", \"yago\"]\n",
    "datasets = [aids_data, human_data]\n",
    "dataset_names = [\"aids\", \"human\"]"
   ]
  },
  {
   "cell_type": "code",
   "execution_count": 17,
   "metadata": {},
   "outputs": [],
   "source": [
    "build_time = []\n",
    "summary_size = []\n",
    "color_summaries =[]\n",
    "for dataset in datasets\n",
    "    results = @timed generate_color_summary(dataset, 32)\n",
    "    push!(build_time, results[2])\n",
    "    push!(summary_size,  get_color_summary_size(results[1]))\n",
    "    push!(color_summaries, results[1])\n",
    "end"
   ]
  },
  {
   "cell_type": "code",
   "execution_count": 20,
   "metadata": {},
   "outputs": [
    {
     "data": {
      "text/plain": [
       "1-element Vector{Int64}:\n",
       " 12"
      ]
     },
     "execution_count": 20,
     "metadata": {},
     "output_type": "execute_result"
    }
   ],
   "source": [
    "triangle_query = PropertyGraph(3)\n",
    "add_labeled_edge!(triangle_query, (1,2), 0)\n",
    "add_labeled_edge!(triangle_query, (2,3), 0)\n",
    "add_labeled_edge!(triangle_query, (3,1), 0)\n",
    "add_labeled_node!(triangle_query, 1, [25])\n",
    "add_labeled_node!(triangle_query, 2, [10])\n",
    "add_labeled_node!(triangle_query, 3, [5])\n",
    "\n",
    "\n",
    "chain_query = PropertyGraph(4)\n",
    "add_labeled_edge!(chain_query, (1,2), 0)\n",
    "add_labeled_edge!(chain_query, (2,3), 0)\n",
    "add_labeled_edge!(chain_query, (3,4), 0)\n",
    "add_labeled_node!(chain_query, 1, [25])\n",
    "add_labeled_node!(chain_query, 2, [10])\n",
    "add_labeled_node!(chain_query, 3, [5])\n",
    "add_labeled_node!(chain_query, 4, [1])\n",
    "\n",
    "\n",
    "tree_query = PropertyGraph(5)\n",
    "add_labeled_edge!(tree_query, (1,2), 0)\n",
    "add_labeled_edge!(tree_query, (2,3), 0)\n",
    "add_labeled_edge!(tree_query, (3,4), 0)\n",
    "add_labeled_edge!(tree_query, (2,5), 0)\n",
    "add_labeled_node!(tree_query, 1, [25])\n",
    "add_labeled_node!(tree_query, 2, [10])\n",
    "add_labeled_node!(tree_query, 3, [5])\n",
    "add_labeled_node!(tree_query, 4, [1])\n",
    "add_labeled_node!(tree_query, 5, [12])"
   ]
  },
  {
   "cell_type": "code",
   "execution_count": 26,
   "metadata": {},
   "outputs": [
    {
     "name": "stdout",
     "output_type": "stream",
     "text": [
      "Dataset:aids\n",
      "Summary Build Time:6.532514953\n",
      "Triangle Bound Time: 0.000731547\n",
      "Triangle Exact Size Time: 0.052625861\n",
      "Triangle Exact Size: 0\n",
      "Triangle Bound [Lower, Avg, Upper]: [0.0, 1.378563852030799e-7, 143.0]\n",
      "Triangle Relative Error [Lower, Avg, Upper]: [NaN, Inf, Inf]\n",
      "Chain Bound Time: 0.000275533\n",
      "Chain Exact Size Time: 0.04814318\n",
      "Chain Exact Size: 0\n",
      "Chain Bound [Lower, Avg, Upper]: [0.0, 0.00045866570543918447, 415.0]\n",
      "Chain Relative Error [Lower, Avg, Upper]: [NaN, Inf, Inf]\n",
      "Tree Bound Time: 0.000219413\n",
      "Tree Exact Size Time: 0.05720644\n",
      "Tree Exact Size: 0\n",
      "Tree Bound [Lower, Avg, Upper]: [0.0, 6.997024324942911e-9, 48.0]\n",
      "Tree Relative Error [Lower, Avg, Upper]: [NaN, Inf, Inf]\n",
      "Dataset:human\n",
      "Summary Build Time:0.388583343\n",
      "Triangle Bound Time: 0.006212087\n",
      "Triangle Exact Size Time: 0.000828315\n",
      "Triangle Exact Size: 15\n",
      "Triangle Bound [Lower, Avg, Upper]: [0.0, 3.1819957352729467, 32724.0]\n",
      "Triangle Relative Error [Lower, Avg, Upper]: [0.0, 0.21213304901819643, 2181.6]\n",
      "Chain Bound Time: 0.000685139\n",
      "Chain Exact Size Time: 0.00161039\n",
      "Chain Exact Size: 153\n",
      "Chain Bound [Lower, Avg, Upper]: [79.0, 2765.778023330226, 5.2647e6]\n",
      "Chain Relative Error [Lower, Avg, Upper]: [0.5163398692810458, 18.076980544642, 34409.80392156863]\n",
      "Tree Bound Time: 0.000773866\n",
      "Tree Exact Size Time: 0.001274397\n",
      "Tree Exact Size: 765\n",
      "Tree Bound [Lower, Avg, Upper]: [79.0, 31618.4988494971, 5.18278944e8]\n",
      "Tree Relative Error [Lower, Avg, Upper]: [0.10326797385620914, 41.33137104509425, 677488.8156862746]\n"
     ]
    }
   ],
   "source": [
    "for i in range(1, length(datasets))\n",
    "    println(\"Dataset:\", dataset_names[i])\n",
    "    println(\"Summary Build Time:\", build_time[i])\n",
    "    triangle_bound_results = @timed get_cardinality_bounds(triangle_query, color_summaries[i])\n",
    "    triangle_exact_size_results = @timed get_exact_size(triangle_query, datasets[i])\n",
    "    println(\"Triangle Bound Time: \", triangle_bound_results[2])\n",
    "    println(\"Triangle Exact Size Time: \", triangle_exact_size_results[2])\n",
    "    println(\"Triangle Exact Size: \", triangle_exact_size_results[1])\n",
    "    println(\"Triangle Bound [Lower, Avg, Upper]: \", triangle_bound_results[1])\n",
    "    println(\"Triangle Relative Error [Lower, Avg, Upper]: \", triangle_bound_results[1]./triangle_exact_size_results[1])\n",
    "\n",
    "    chain_bound_results = @timed get_cardinality_bounds(chain_query, color_summaries[i])\n",
    "    chain_exact_size_results = @timed get_exact_size(chain_query, datasets[i])\n",
    "    println(\"Chain Bound Time: \", chain_bound_results[2])\n",
    "    println(\"Chain Exact Size Time: \", chain_exact_size_results[2])\n",
    "    println(\"Chain Exact Size: \", chain_exact_size_results[1])\n",
    "    println(\"Chain Bound [Lower, Avg, Upper]: \", chain_bound_results[1])\n",
    "    println(\"Chain Relative Error [Lower, Avg, Upper]: \", chain_bound_results[1]./chain_exact_size_results[1])\n",
    "    \n",
    "    tree_bound_results = @timed get_cardinality_bounds(tree_query, color_summaries[i])\n",
    "    tree_exact_size_results = @timed get_exact_size(tree_query, datasets[i])\n",
    "    println(\"Tree Bound Time: \", tree_bound_results[2])\n",
    "    println(\"Tree Exact Size Time: \", tree_exact_size_results[2])\n",
    "    println(\"Tree Exact Size: \", tree_exact_size_results[1])\n",
    "    println(\"Tree Bound [Lower, Avg, Upper]: \", tree_bound_results[1])\n",
    "    println(\"Tree Relative Error [Lower, Avg, Upper]: \", tree_bound_results[1]./tree_exact_size_results[1])\n",
    "end"
   ]
  },
  {
   "cell_type": "code",
   "execution_count": 23,
   "metadata": {},
   "outputs": [
    {
     "data": {
      "text/plain": [
       "Dict{Int64, Dict{Int64, Array{Int64}}} with 3 entries:\n",
       "  2 => Dict(5=>[0], 3=>[0])\n",
       "  3 => Dict(4=>[0])\n",
       "  1 => Dict(2=>[0])"
      ]
     },
     "execution_count": 23,
     "metadata": {},
     "output_type": "execute_result"
    }
   ],
   "source": [
    "tree_query.edge_labels"
   ]
  },
  {
   "cell_type": "code",
   "execution_count": null,
   "metadata": {},
   "outputs": [],
   "source": []
  }
 ],
 "metadata": {
  "kernelspec": {
   "display_name": "Julia 1.8.3",
   "language": "julia",
   "name": "julia-1.8"
  },
  "language_info": {
   "file_extension": ".jl",
   "mimetype": "application/julia",
   "name": "julia",
   "version": "1.8.3"
  },
  "orig_nbformat": 4
 },
 "nbformat": 4,
 "nbformat_minor": 2
}
