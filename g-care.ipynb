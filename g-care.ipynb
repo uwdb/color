{
 "cells": [
  {
   "attachments": {},
   "cell_type": "markdown",
   "metadata": {},
   "source": [
    "## G-CARE Benchmark"
   ]
  },
  {
   "cell_type": "code",
   "execution_count": 1,
   "metadata": {},
   "outputs": [
    {
     "data": {
      "text/plain": [
       "get_exact_size (generic function with 1 method)"
      ]
     },
     "metadata": {},
     "output_type": "display_data"
    }
   ],
   "source": [
    "using Graphs: DiGraph\n",
    "using StatsPlots\n",
    "include(\"Source/datasets.jl\")\n",
    "include(\"Source/QuasiStableCardinalityEstimator.jl\")"
   ]
  },
  {
   "cell_type": "code",
   "execution_count": 2,
   "metadata": {},
   "outputs": [],
   "source": [
    "aids_data_file_path = \"dataset/aids/aids.txt\"\n",
    "human_data_file_path = \"dataset/human/human.txt\"\n",
    "lubm80_data_file_path = \"dataset/lubm80/lubm80.txt\"\n",
    "yago_data_file_path = \"dataset/yago/yago.txt\"\n",
    "\n",
    "aids_data = load_dataset(aids_data_file_path)\n",
    "#human_data = load_dataset(human_data_file_path)\n",
    "#lubm80_data = load_dataset(lubm80_data_file_path)\n",
    "#yago_data = load_dataset(yago_data_file_path)\n",
    "nothing"
   ]
  },
  {
   "cell_type": "code",
   "execution_count": 3,
   "metadata": {},
   "outputs": [
    {
     "data": {
      "text/plain": [
       "1-element Vector{String}:\n",
       " \"aids\""
      ]
     },
     "metadata": {},
     "output_type": "display_data"
    }
   ],
   "source": [
    "#datasets = [aids_data, human_data, lubm80_data, yago_data]\n",
    "#dataset_names = [\"aids\", \"human\", \"lubm80\", \"yago\"]\n",
    "datasets = [aids_data]\n",
    "dataset_names = [\"aids\"]"
   ]
  },
  {
   "cell_type": "code",
   "execution_count": 4,
   "metadata": {},
   "outputs": [
    {
     "name": "stdout",
     "output_type": "stream",
     "text": [
      "making cycles\n",
      "making paths\n"
     ]
    },
    {
     "name": "stdout",
     "output_type": "stream",
     "text": [
      "making cycles\n",
      "making paths"
     ]
    },
    {
     "name": "stdout",
     "output_type": "stream",
     "text": [
      "\n",
      "making cycles\n"
     ]
    },
    {
     "name": "stdout",
     "output_type": "stream",
     "text": [
      "making paths\n",
      "Started coloring\n"
     ]
    },
    {
     "name": "stdout",
     "output_type": "stream",
     "text": [
      "Finished coloring\n",
      "Started bloom filters\n",
      "Finished bloom filters\n",
      "Started cardinality counts"
     ]
    },
    {
     "name": "stdout",
     "output_type": "stream",
     "text": [
      "\n",
      "Finished cardinality counts\n",
      "Started tracking statistics"
     ]
    },
    {
     "name": "stdout",
     "output_type": "stream",
     "text": [
      "\n"
     ]
    },
    {
     "name": "stdout",
     "output_type": "stream",
     "text": [
      "Finished tracking statistics\n"
     ]
    }
   ],
   "source": [
    "build_time = []\n",
    "summary_size = []\n",
    "color_summaries = []\n",
    "for dataset in datasets\n",
    "    results = @timed generate_color_summary(dataset, 64, verbose=true)\n",
    "    push!(build_time, results[2])\n",
    "    push!(summary_size,  get_color_summary_size(results[1]))\n",
    "    push!(color_summaries, results[1])\n",
    "end"
   ]
  },
  {
   "cell_type": "code",
   "execution_count": 5,
   "metadata": {},
   "outputs": [
    {
     "name": "stdout",
     "output_type": "stream",
     "text": [
      "Summary Size: 50886\n"
     ]
    },
    {
     "name": "stdout",
     "output_type": "stream",
     "text": [
      "Summary Build Time: 344.7648349\n"
     ]
    },
    {
     "name": "stdout",
     "output_type": "stream",
     "text": [
      "Query: lubm80/lubm80_Q2.txt\n"
     ]
    },
    {
     "name": "stdout",
     "output_type": "stream",
     "text": [
      "Bound Time: 0.2970543\n",
      "Exact Size Time: 0.0435462\n",
      "Exact Size: 0\n",
      "GCare Exact Size: 212\n",
      "Bad Exact Size Estimate!!\n"
     ]
    }
   ],
   "source": [
    "lubm80_query_paths = [\"lubm80/lubm80_Q2.txt\",\n",
    "\"lubm80/lubm80_Q4.txt\",\n",
    "\"lubm80/lubm80_Q7.txt\",\n",
    "\"lubm80/lubm80_Q8.txt\",\n",
    "\"lubm80/lubm80_Q9.txt\",\n",
    "\"lubm80/lubm80_Q12.txt\"\n",
    "                    ]\n",
    "exactSizes = []\n",
    "bounds = []\n",
    "relativeErrors = []\n",
    "println(\"Summary Size: \", summary_size[1])\n",
    "println(\"Summary Build Time: \", build_time[1])\n",
    "for query_path in lubm80_query_paths\n",
    "    println(\"Query: \", query_path)\n",
    "    id_and_query = load_query(\"queryset/\" * query_path)\n",
    "    id = id_and_query[1]\n",
    "    query = id_and_query[2]\n",
    "    bound_results = @timed get_cardinality_bounds(query, color_summaries[1])\n",
    "    exact_size_results = @timed get_exact_size(query, datasets[1])\n",
    "    gcare_size = load_true_cardinality(\"TrueCardinalities/\" * query_path)\n",
    "    println(\"Bound Time: \", bound_results[2])\n",
    "    println(\"Exact Size Time: \", exact_size_results[2])\n",
    "    println(\"Exact Size: \", exact_size_results[1])\n",
    "    println(\"GCare Exact Size: \", gcare_size)\n",
    "    if gcare_size != exact_size_results[1]\n",
    "        println(\"Bad Exact Size Estimate!!\")\n",
    "        break\n",
    "    end\n",
    "    println(\"Bound [Lower, Avg, Upper]: \", bound_results[1])\n",
    "    println(\"Relative Error [Lower, Avg, Upper]: \", (bound_results[1])./exact_size_results[1])\n",
    "    push!(exactSizes, gcare_size)\n",
    "    push!(bounds, bound_results[1])\n",
    "    push!(relativeErrors, bound_results[1] ./ gcare_size)\n",
    "end"
   ]
  },
  {
   "cell_type": "code",
   "execution_count": null,
   "metadata": {},
   "outputs": [],
   "source": [
    "human_query_directories = [\"/queryset/human/Chain_3/\",\n",
    "\"/queryset/human/Graph_3/\",\n",
    "\"/queryset/human/Star_3/\",\n",
    "\"/queryset/human/Tree_3/\",\n",
    "                    ]\n",
    "human_query_paths = [readdir(pwd() * dir, join=true) for dir in human_query_directories]\n",
    "human_query_paths = [(human_query_paths...)...]\n",
    "human_exact_sizes = []\n",
    "human_bounds = []\n",
    "human_relative_errors = []\n",
    "println(\"Summary Size: \", summary_size[1])\n",
    "println(\"Summary Build Time: \", build_time[1])\n",
    "for query_path in human_query_paths\n",
    "    println(\"Query: \", query_path)\n",
    "    id_and_query = load_query(query_path)\n",
    "    id = id_and_query[1]\n",
    "    query = id_and_query[2]\n",
    "    bound_results = @timed get_cardinality_bounds(query, color_summaries[1])\n",
    "    exact_size_results = @timed get_exact_size(query, datasets[1])\n",
    "    gcare_size = load_true_cardinality(replace(query_path, \"queryset\"=>\"TrueCardinalities\"))\n",
    "    println(\"Bound Time: \", bound_results[2])\n",
    "    println(\"Exact Size Time: \", exact_size_results[2])\n",
    "    println(\"Exact Size: \", exact_size_results[1])\n",
    "    println(\"GCare Exact Size: \", gcare_size)\n",
    "    if gcare_size != exact_size_results[1]\n",
    "        println(\"Bad Exact Size Estimate!!\")\n",
    "        break\n",
    "    end\n",
    "    println(\"Bound [Lower, Avg, Upper]: \", bound_results[1])\n",
    "    println(\"Relative Error [Lower, Avg, Upper]: \", bound_results[1]./exact_size_results[1])\n",
    "    bound_results[1][2] = max(1, bound_results[1][2])\n",
    "    push!(human_exact_sizes, gcare_size)\n",
    "    push!(human_bounds, bound_results[1])\n",
    "    push!(human_relative_errors, bound_results[1] ./ gcare_size)\n",
    "end"
   ]
  },
  {
   "cell_type": "code",
   "execution_count": null,
   "metadata": {},
   "outputs": [],
   "source": [
    "using Statistics\n",
    "println(maximum([log10(x[2]) for x in human_relative_errors]))\n",
    "println(mean([log10(x[2]) for x in human_relative_errors]))\n",
    "println(minimum([log10(x[2]) for x in human_relative_errors]))"
   ]
  },
  {
   "cell_type": "code",
   "execution_count": 22,
   "metadata": {},
   "outputs": [],
   "source": [
    "using Statistics\n",
    "aids_query_directories = [\"/queryset/aids/Chain_3/\",\n",
    "\"/queryset/aids/Chain_6/\",\n",
    "\"/queryset/aids/Chain_9/\",\n",
    "\"/queryset/aids/Chain_12/\",\n",
    "\"/queryset/aids/Cycle_3/\",\n",
    "\"/queryset/aids/Cycle_6/\",\n",
    "\"/queryset/aids/Flower_6/\",\n",
    "\"/queryset/aids/Flower_9/\",\n",
    "\"/queryset/aids/Flower_12/\",\n",
    "\"/queryset/aids/Graph_3/\",\n",
    "\"/queryset/aids/Graph_6/\",\n",
    "\"/queryset/aids/Graph_9/\",\n",
    "\"/queryset/aids/Graph_12/\",\n",
    "\"/queryset/aids/Petal_6/\",\n",
    "\"/queryset/aids/Petal_9/\",\n",
    "\"/queryset/aids/Petal_12/\",\n",
    "\"/queryset/aids/Star_3/\",\n",
    "\"/queryset/aids/Star_6/\",\n",
    "\"/queryset/aids/Star_9/\",\n",
    "\"/queryset/aids/Tree_3/\",\n",
    "\"/queryset/aids/Tree_6/\",\n",
    "\"/queryset/aids/Tree_9/\",\n",
    "\"/queryset/aids/Tree_12/\"]\n",
    "aids_query_paths = [readdir(pwd() * dir, join=true) for dir in aids_query_directories]\n",
    "aids_query_paths = [(aids_query_paths...)...]\n",
    "aids_exact_sizes = []\n",
    "aids_bounds = []\n",
    "aids_relative_errors = []\n",
    "println(\"Summary Size: \", summary_size[1])\n",
    "println(\"Summary Build Time: \", build_time[1])\n",
    "for query_path in aids_query_paths\n",
    "    println(\"Query: \", query_path)\n",
    "    id_and_query = load_query(query_path)\n",
    "    id = id_and_query[1]\n",
    "    query = id_and_query[2]\n",
    "    bound_results = @timed get_cardinality_bounds(query, color_summaries[1])\n",
    "    gcare_size = load_true_cardinality(replace(query_path, \"queryset\"=>\"TrueCardinalities\"))\n",
    "    # println(\"Bound Time: \", bound_results[2])\n",
    "    # println(\"Exact Size: \", gcare_size)\n",
    "    # println(\"Bound [Lower, Avg, Upper]: \", bound_results[1])\n",
    "    # println(\"Relative Error [Lower, Avg, Upper]: \", bound_results[1]./gcare_size)\n",
    "    bound_results[1][2] = max(1, bound_results[1][2])\n",
    "    push!(aids_exact_sizes, gcare_size)\n",
    "    push!(aids_bounds, bound_results[1])\n",
    "    push!(aids_relative_errors, bound_results[1] ./ gcare_size)\n",
    "end\n",
    "println(maximum([log10(x[2]) for x in aids_relative_errors]))\n",
    "println(mean([log10(x[2]) for x in aids_relative_errors]))\n",
    "println(minimum([log10(x[2]) for x in aids_relative_errors]))"
   ]
  },
  {
   "cell_type": "code",
   "execution_count": 11,
   "metadata": {},
   "outputs": [
    {
     "name": "stdout",
     "output_type": "stream",
     "text": [
      "2.6686015167651913\n",
      "-1.3494790192246389"
     ]
    },
    {
     "name": "stdout",
     "output_type": "stream",
     "text": [
      "\n",
      "-5.504089068119823\n"
     ]
    }
   ],
   "source": [
    "using Statistics\n",
    "println(maximum([log10(x[2]) for x in aids_relative_errors]))\n",
    "println(mean([log10(x[2]) for x in aids_relative_errors]))\n",
    "println(minimum([log10(x[2]) for x in aids_relative_errors]))"
   ]
  },
  {
   "cell_type": "code",
   "execution_count": 6,
   "metadata": {},
   "outputs": [
    {
     "name": "stdout",
     "output_type": "stream",
     "text": [
      "Summary Size: 50886\n",
      "Summary Build Time: 344.7648349\n",
      "Query: c:\\Users\\diand\\OneDrive\\Desktop\\Cardinality-with-Colors/queryset/aids/Chain_3/uf_Q_0_2.txt\n"
     ]
    },
    {
     "name": "stdout",
     "output_type": "stream",
     "text": [
      "[0.0, 3.0253029331868264, 88272.0]\n",
      "Query: c:\\Users\\diand\\OneDrive\\Desktop\\Cardinality-with-Colors/queryset/aids/Chain_3/uf_Q_1_1.txt\n",
      "[0.0, 6.626766347820973, 178119.0]\n",
      "Query: c:\\Users\\diand\\OneDrive\\Desktop\\Cardinality-with-Colors/queryset/aids/Chain_3/uf_Q_1_2.txt"
     ]
    },
    {
     "name": "stdout",
     "output_type": "stream",
     "text": [
      "\n",
      "[0.0, 10.71722139616455, 273927.0]\n",
      "Query: c:\\Users\\diand\\OneDrive\\Desktop\\Cardinality-with-Colors/queryset/aids/Chain_3/uf_Q_1_3.txt\n",
      "[0.0, 23.24952349097013, 1.371895e6]\n",
      "Query: c:\\Users\\diand\\OneDrive\\Desktop\\Cardinality-with-Colors/queryset/aids/Chain_3/uf_Q_1_4.txt\n",
      "[0.0, 76.72032235995773, 2.111905e6"
     ]
    },
    {
     "name": "stdout",
     "output_type": "stream",
     "text": [
      "]\n",
      "Query: c:\\Users\\diand\\OneDrive\\Desktop\\Cardinality-with-Colors/queryset/aids/Chain_3/uf_Q_1_5.txt\n",
      "[0.0, 6.626766347820973, 178119.0]\n",
      "Query: c:\\Users\\diand\\OneDrive\\Desktop\\Cardinality-with-Colors/queryset/aids/Chain_3/uf_Q_2_1.txt\n",
      "[0.0, 23.470014788551005, 16087.0]\n",
      "Query: c:\\Users\\diand\\OneDrive\\Desktop\\Cardinality-with-Colors/queryset/aids/Chain_3/uf_Q_2_10.txt\n",
      "[0.0, 23.470014788551005, 16087.0]\n",
      "Query: c:\\Users\\diand\\OneDrive\\Desktop\\Cardinality-with-Colors/queryset/aids/Chain_3/uf_Q_2_11.txt\n",
      "[0.0, 2107.055141656889, 5.2718799e7]\n",
      "Query: c:\\Users\\diand\\OneDrive\\Desktop\\Cardinality-with-Colors/queryset/aids/Chain_3/uf_Q_2_12.txt\n",
      "[0.0, 2107.055141656889, 5.2718799e7]\n",
      "Query: c:\\Users\\diand\\OneDrive\\Desktop\\Cardinality-with-Colors/queryset/aids/Chain_3/uf_Q_2_13.txt\n",
      "[0.0, 81.62644800658744, 30240.0]\n",
      "Query: c:\\Users\\diand\\OneDrive\\Desktop\\Cardinality-with-Colors/queryset/aids/Chain_3/uf_Q_2_14.txt\n",
      "[0.0, 81.62644800658744, 30240.0]\n",
      "Query: c:\\Users\\diand\\OneDrive\\Desktop\\Cardinality-with-Colors/queryset/aids/Chain_3/uf_Q_2_15.txt\n",
      "[0.0, 162.6707251956738, 36832.0]\n",
      "Query: c:\\Users\\diand\\OneDrive\\Desktop\\Cardinality-with-Colors/queryset/aids/Chain_3/uf_Q_2_2.txt\n"
     ]
    },
    {
     "name": "stdout",
     "output_type": "stream",
     "text": [
      "[0.0, 2107.055141656889, 5.2718799e7]\n",
      "Query: c:\\Users\\diand\\OneDrive\\Desktop\\Cardinality-with-Colors/queryset/aids/Chain_3/uf_Q_2_3.txt\n",
      "[0.0, 2107.055141656889, 5.2718799e7]\n",
      "Query: c:\\Users\\diand\\OneDrive\\Desktop\\Cardinality-with-Colors/queryset/aids/Chain_3/uf_Q_2_4.txt\n",
      "[0.0, 2107.055141656889, 5.2718799e7]\n",
      "Query: c:\\Users\\diand\\OneDrive\\Desktop\\Cardinality-with-Colors/queryset/aids/Chain_3/uf_Q_2_5.txt\n",
      "[0.0, 2107.055141656889, 5.2718799e7]\n",
      "Query: c:\\Users\\diand\\OneDrive\\Desktop\\Cardinality-with-Colors/queryset/aids/Chain_3/uf_Q_2_6.txt\n",
      "[0.0, 694.5089551488912, 521847.0]\n",
      "Query: c:\\Users\\diand\\OneDrive\\Desktop\\Cardinality-with-Colors/queryset/aids/Chain_3/uf_Q_2_7.txt\n",
      "[0.0, 2107.055141656889, 5.2718799e7]\n",
      "Query: c:\\Users\\diand\\OneDrive\\Desktop\\Cardinality-with-Colors/queryset/aids/Chain_3/uf_Q_2_8.txt\n",
      "[0.0, 33097.37548325221, 1.245302721e9]\n",
      "Query: c:\\Users\\diand\\OneDrive\\Desktop\\Cardinality-with-Colors/queryset/aids/Chain_3/uf_Q_2_9.txt\n",
      "[0.0, 384.3902408356008, 2.5892053e7]\n",
      "Query: c:\\Users\\diand\\OneDrive\\Desktop\\Cardinality-with-Colors/queryset/aids/Chain_3/uf_Q_3_1.txt\n",
      "[0.0, 37875.05884397448, 1.187552068e9]\n",
      "Query: c:\\Users\\diand\\OneDrive\\Desktop\\Cardinality-with-Colors/queryset/aids/Chain_3/uf_Q_3_10.txt\n",
      "[0.0, 37875.05884397448, 1.187552068e9]\n",
      "Query: c:\\Users\\diand\\OneDrive\\Desktop\\Cardinality-with-Colors/queryset/aids/Chain_3/uf_Q_3_11.txt\n",
      "[0.0, 2779.663979972064, 2.088887e6]\n",
      "Query: c:\\Users\\diand\\OneDrive\\Desktop\\Cardinality-with-Colors/queryset/aids/Chain_3/uf_Q_3_12.txt\n",
      "[0.0, 374.7314879970403, 128365.0]\n",
      "Query: c:\\Users\\diand\\OneDrive\\Desktop\\Cardinality-with-Colors/queryset/aids/Chain_3/uf_Q_3_2.txt\n"
     ]
    },
    {
     "name": "stdout",
     "output_type": "stream",
     "text": [
      "[0.0, 37875.05884397448, 1.187552068e9]\n",
      "Query: c:\\Users\\diand\\OneDrive\\Desktop\\Cardinality-with-Colors/queryset/aids/Chain_3/uf_Q_3_3.txt\n",
      "[0.0, 37875.05884397448, 1.187552068e9]\n",
      "Query: c:\\Users\\diand\\OneDrive\\Desktop\\Cardinality-with-Colors/queryset/aids/Chain_3/uf_Q_3_4.txt\n"
     ]
    },
    {
     "name": "stdout",
     "output_type": "stream",
     "text": [
      "[0.0, 2807.599588427312, 6.8520251e7]\n",
      "Query: c:\\Users\\diand\\OneDrive\\Desktop\\Cardinality-with-Colors/queryset/aids/Chain_3/uf_Q_3_5.txt\n",
      "[0.0, 799.116935464366, 7.136265e6]\n",
      "Query: c:\\Users\\diand\\OneDrive\\Desktop\\Cardinality-with-Colors/queryset/aids/Chain_3/uf_Q_3_6.txt\n",
      "[0.0, 17345.91721311144, 8.8131344e8]\n",
      "Query: c:\\Users\\diand\\OneDrive\\Desktop\\Cardinality-with-Colors/queryset/aids/Chain_3/uf_Q_3_7.txt\n",
      "[0.0, 4460.344590277803, 6.054098e6]\n",
      "Query: c:\\Users\\diand\\OneDrive\\Desktop\\Cardinality-with-Colors/queryset/aids/Chain_3/uf_Q_3_8.txt\n",
      "[0.0, 799.116935464366, 7.136265e6]\n",
      "Query: c:\\Users\\diand\\OneDrive\\Desktop\\Cardinality-with-Colors/queryset/aids/Chain_3/uf_Q_3_9.txt\n",
      "[0.0, 4460.344590277803, 6.054098e6]\n",
      "Query: c:\\Users\\diand\\OneDrive\\Desktop\\Cardinality-with-Colors/queryset/aids/Chain_3/uf_Q_4_1.txt\n",
      "[0.0, 260655.2786174025, 2.350713444e9]\n"
     ]
    },
    {
     "name": "stdout",
     "output_type": "stream",
     "text": [
      "Query: c:\\Users\\diand\\OneDrive\\Desktop\\Cardinality-with-Colors/queryset/aids/Chain_3/uf_Q_4_10.txt\n",
      "[0.0, 67277.78884650244, 1.94609471e9]\n",
      "Query: c:\\Users\\diand\\OneDrive\\Desktop\\Cardinality-with-Colors/queryset/aids/Chain_3/uf_Q_4_11.txt\n",
      "[0.0, 80493.3987698463, 3.07759392e9]\n",
      "Query: c:\\Users\\diand\\OneDrive\\Desktop\\Cardinality-with-Colors/queryset/aids/Chain_3/uf_Q_4_12.txt\n",
      "[0.0, 67277.78884650244, 1.94609471e9]\n",
      "Query: c:\\Users\\diand\\OneDrive\\Desktop\\Cardinality-with-Colors/queryset/aids/Chain_3/uf_Q_4_13.txt\n",
      "[0.0, 18768.988599148743, 9.80781096e8]\n",
      "Query: c:\\Users\\diand\\OneDrive\\Desktop\\Cardinality-with-Colors/queryset/aids/Chain_3/uf_Q_4_14.txt\n",
      "[0.0, 80493.3987698463, 3.07759392e9]\n",
      "Query: c:\\Users\\diand\\OneDrive\\Desktop\\Cardinality-with-Colors/queryset/aids/Chain_3/uf_Q_4_15.txt\n",
      "[0.0, 67277.78884650244, 1.94609471e9]\n",
      "Query: c:\\Users\\diand\\OneDrive\\Desktop\\Cardinality-with-Colors/queryset/aids/Chain_3/uf_Q_4_16.txt\n",
      "[0.0, 80493.3987698463, 3.07759392e9]\n",
      "Query: c:\\Users\\diand\\OneDrive\\Desktop\\Cardinality-with-Colors/queryset/aids/Chain_3/uf_Q_4_17.txt\n",
      "[0.0, 18768.988599148743, 9.80781096e8]\n",
      "Query: c:\\Users\\diand\\OneDrive\\Desktop\\Cardinality-with-Colors/queryset/aids/Chain_3/uf_Q_4_18.txt\n",
      "[0.0, 67277.78884650244, 1.94609471e9]\n",
      "Query: c:\\Users\\diand\\OneDrive\\Desktop\\Cardinality-with-Colors/queryset/aids/Chain_3/uf_Q_4_19.txt\n",
      "[0.0, 21555.284330773076, 1.6831847e7]\n",
      "Query: c:\\Users\\diand\\OneDrive\\Desktop\\Cardinality-with-Colors/queryset/aids/Chain_3/uf_Q_4_2.txt\n",
      "[0.0, 260655.2786174025, 2.350713444e9]\n",
      "Query: c:\\Users\\diand\\OneDrive\\Desktop\\Cardinality-with-Colors/queryset/aids/Chain_3/uf_Q_4_20.txt"
     ]
    },
    {
     "name": "stdout",
     "output_type": "stream",
     "text": [
      "\n",
      "[0.0, 80493.3987698463, 3.07759392e9]\n",
      "Query: c:\\Users\\diand\\OneDrive\\Desktop\\Cardinality-with-Colors/queryset/aids/Chain_3/uf_Q_4_3.txt\n",
      "[0.0, 260655.2786174025, 2.350713444e9]\n",
      "Query: c:\\Users\\diand\\OneDrive\\Desktop\\Cardinality-with-Colors/queryset/aids/Chain_3/uf_Q_4_4.txt\n",
      "[0.0, 260655.2786174025, 2.350713444e9]\n",
      "Query: c:\\Users\\diand\\OneDrive\\Desktop\\Cardinality-with-Colors/queryset/aids/Chain_3/uf_Q_4_5.txt\n",
      "[0.0, 67277.78884650244, 1.94609471e9]\n",
      "Query: c:\\Users\\diand\\OneDrive\\Desktop\\Cardinality-with-Colors/queryset/aids/Chain_3/uf_Q_4_6.txt\n",
      "[0.0, 67277.78884650244, 1.94609471e9]\n",
      "Query: c:\\Users\\diand\\OneDrive\\Desktop\\Cardinality-with-Colors/queryset/aids/Chain_3/uf_Q_4_7.txt\n"
     ]
    },
    {
     "name": "stdout",
     "output_type": "stream",
     "text": [
      "[0.0, 80493.3987698463, 3.07759392e9]\n",
      "Query: c:\\Users\\diand\\OneDrive\\Desktop\\Cardinality-with-Colors/queryset/aids/Chain_3/uf_Q_4_8.txt\n",
      "[0.0, 67277.78884650244, 1.94609471e9]\n",
      "Query: c:\\Users\\diand\\OneDrive\\Desktop\\Cardinality-with-Colors/queryset/aids/Chain_3/uf_Q_4_9.txt\n",
      "[0.0, 80493.3987698463, 3.07759392e9]\n",
      "Query: c:\\Users\\diand\\OneDrive\\Desktop\\Cardinality-with-Colors/queryset/aids/Chain_3/uf_Q_5_1.txt\n",
      "[0.0, 287241.90416160866, 3.960582098e9]\n",
      "Query: c:\\Users\\diand\\OneDrive\\Desktop\\Cardinality-with-Colors/queryset/aids/Chain_3/uf_Q_5_2.txt\n",
      "[0.0, 287241.90416160866, 2.675107704e9]\n",
      "Query: c:\\Users\\diand\\OneDrive\\Desktop\\Cardinality-with-Colors/queryset/aids/Chain_3/uf_Q_5_3.txt\n",
      "[0.0, 287241.90416160866, 3.960582098e9]\n",
      "Query: c:\\Users\\diand\\OneDrive\\Desktop\\Cardinality-with-Colors/queryset/aids/Chain_6/uf_Q_0_1.txt\n"
     ]
    },
    {
     "name": "stdout",
     "output_type": "stream",
     "text": [
      "[0.0, 3.7918395485227165, 8.568511703e9]\n",
      "Query: c:\\Users\\diand\\OneDrive\\Desktop\\Cardinality-with-Colors/queryset/aids/Chain_6/uf_Q_0_2.txt\n"
     ]
    },
    {
     "name": "stdout",
     "output_type": "stream",
     "text": [
      "[0.0, 0.004639277963852883, 5.85084e6]\n",
      "Query: c:\\Users\\diand\\OneDrive\\Desktop\\Cardinality-with-Colors/queryset/aids/Chain_6/uf_Q_0_3.txt\n",
      "[0.0, 0.12238837430194918, 1.439865987e9]\n",
      "Query: c:\\Users\\diand\\OneDrive\\Desktop\\Cardinality-with-Colors/queryset/aids/Chain_6/uf_Q_0_4.txt\n",
      "[0.0, 0.7195020824445176, 3.186395539e9]\n",
      "Query: c:\\Users\\diand\\OneDrive\\Desktop\\Cardinality-with-Colors/queryset/aids/Chain_6/uf_Q_0_5.txt\n",
      "[0.0, 4.093618794204743, 8.1517358196e10]\n",
      "Query: c:\\Users\\diand\\OneDrive\\Desktop\\Cardinality-with-Colors/queryset/aids/Chain_6/uf_Q_1_1.txt\n",
      "[0.0, 2.455048423177458, 2.549355269e9]\n",
      "Query: c:\\Users\\diand\\OneDrive\\Desktop\\Cardinality-with-Colors/queryset/aids/Chain_6/uf_Q_1_2.txt\n",
      "[0.0, 324.70397553197864, 6.2357390478e11]\n",
      "Query: c:\\Users\\diand\\OneDrive\\Desktop\\Cardinality-with-Colors/queryset/aids/Chain_6/uf_Q_1_3.txt\n"
     ]
    },
    {
     "name": "stdout",
     "output_type": "stream",
     "text": [
      "[0.0, 0.4634695123267481, 7.529376e6]\n",
      "Query: c:\\Users\\diand\\OneDrive\\Desktop\\Cardinality-with-Colors/queryset/aids/Chain_6/uf_Q_1_4.txt\n",
      "[0.0, 0.00019952915968695045, 903.0]\n",
      "Query: c:\\Users\\diand\\OneDrive\\Desktop\\Cardinality-with-Colors/queryset/aids/Chain_6/uf_Q_2_1.txt\n",
      "[0.0, 2978.190900991963, 1.189013532119e12]\n",
      "Query: c:\\Users\\diand\\OneDrive\\Desktop\\Cardinality-with-Colors/queryset/aids/Chain_6/uf_Q_2_10.txt\n",
      "[0.0, 7.338182651624159, 8.350574e6]\n",
      "Query: c:\\Users\\diand\\OneDrive\\Desktop\\Cardinality-with-Colors/queryset/aids/Chain_6/uf_Q_2_11.txt\n"
     ]
    },
    {
     "name": "stdout",
     "output_type": "stream",
     "text": [
      "[0.0, 5.064138589089153, 4.7437021e7]\n",
      "Query: c:\\Users\\diand\\OneDrive\\Desktop\\Cardinality-with-Colors/queryset/aids/Chain_6/uf_Q_2_2.txt\n",
      "[0.0, 494.790118012086, 4.85062311898e11]\n",
      "Query: c:\\Users\\diand\\OneDrive\\Desktop\\Cardinality-with-Colors/queryset/aids/Chain_6/uf_Q_2_3.txt\n",
      "[0.0, 11.34852969794407, 1.1094748746e10]\n",
      "Query: c:\\Users\\diand\\OneDrive\\Desktop\\Cardinality-with-Colors/queryset/aids/Chain_6/uf_Q_2_4.txt\n",
      "[0.0, 75063.25496793109, 2.7844713756203e13]\n",
      "Query: c:\\Users\\diand\\OneDrive\\Desktop\\Cardinality-with-Colors/queryset/aids/Chain_6/uf_Q_2_5.txt\n"
     ]
    },
    {
     "name": "stdout",
     "output_type": "stream",
     "text": [
      "[0.0, 27.504886054377863, 4.4738730753e10]\n",
      "Query: c:\\Users\\diand\\OneDrive\\Desktop\\Cardinality-with-Colors/queryset/aids/Chain_6/uf_Q_2_6.txt\n",
      "[0.0, 34.607369661668706, 4.3224503868e10]\n",
      "Query: c:\\Users\\diand\\OneDrive\\Desktop\\Cardinality-with-Colors/queryset/aids/Chain_6/uf_Q_2_7.txt\n",
      "[0.0, 11.7914347655743, 1.4288577508e10]\n",
      "Query: c:\\Users\\diand\\OneDrive\\Desktop\\Cardinality-with-Colors/queryset/aids/Chain_6/uf_Q_2_8.txt\n",
      "[0.0, 25.49341553420975, 2.2159768123e10"
     ]
    },
    {
     "name": "stdout",
     "output_type": "stream",
     "text": [
      "]\n",
      "Query: c:\\Users\\diand\\OneDrive\\Desktop\\Cardinality-with-Colors/queryset/aids/Chain_6/uf_Q_2_9.txt\n",
      "[0.0, 9.732056656387238, 5.892599562e9]\n",
      "Query: c:\\Users\\diand\\OneDrive\\Desktop\\Cardinality-with-Colors/queryset/aids/Chain_6/uf_Q_3_1.txt\n",
      "[0.0, 1146.035620704661, 5.03222827887e11]\n",
      "Query: c:\\Users\\diand\\OneDrive\\Desktop\\Cardinality-with-Colors/queryset/aids/Chain_6/uf_Q_3_10.txt\n",
      "[0.0, 369.6994959695841, 1.12842379056e11]\n",
      "Query: c:\\Users\\diand\\OneDrive\\Desktop\\Cardinality-with-Colors/queryset/aids/Chain_6/uf_Q_3_2.txt\n",
      "[0.0, 414.0805462042712, 7.7360587395e10]\n",
      "Query: c:\\Users\\diand\\OneDrive\\Desktop\\Cardinality-with-Colors/queryset/aids/Chain_6/uf_Q_3_3.txt\n",
      "[0.0, 49770.34927943679, 1.735835590573e12]\n",
      "Query: c:\\Users\\diand\\OneDrive\\Desktop\\Cardinality-with-Colors/queryset/aids/Chain_6/uf_Q_3_4.txt\n",
      "[0.0, 100.55735130948077, 3.8321843172e10]\n"
     ]
    },
    {
     "name": "stdout",
     "output_type": "stream",
     "text": [
      "Query: c:\\Users\\diand\\OneDrive\\Desktop\\Cardinality-with-Colors/queryset/aids/Chain_6/uf_Q_3_5.txt\n",
      "[0.0, 261.8414239983265, 2.68008260415e11]\n",
      "Query: c:\\Users\\diand\\OneDrive\\Desktop\\Cardinality-with-Colors/queryset/aids/Chain_6/uf_Q_3_6.txt\n",
      "[0.0, 83191.68221981729, 2.7847897168502e13]\n",
      "Query: c:\\Users\\diand\\OneDrive\\Desktop\\Cardinality-with-Colors/queryset/aids/Chain_6/uf_Q_3_7.txt\n",
      "[0.0, 232.58240193466338, 9.7014954491e10]\n",
      "Query: c:\\Users\\diand\\OneDrive\\Desktop\\Cardinality-with-Colors/queryset/aids/Chain_6/uf_Q_3_8.txt\n",
      "[0.0, 359.89173575849134, 7.62900437e8]\n",
      "Query: c:\\Users\\diand\\OneDrive\\Desktop\\Cardinality-with-Colors/queryset/aids/Chain_6/uf_Q_3_9.txt\n",
      "[0.0, 316.6277431782298, 8.7174274506e10]\n",
      "Query: c:\\Users\\diand\\OneDrive\\Desktop\\Cardinality-with-Colors/queryset/aids/Chain_6/uf_Q_4_1.txt\n",
      "[0.0, 719.6326318115783, 1.45550170435e11]\n",
      "Query: c:\\Users\\diand\\OneDrive\\Desktop\\Cardinality-with-Colors/queryset/aids/Chain_6/uf_Q_4_10.txt\n",
      "["
     ]
    },
    {
     "name": "stdout",
     "output_type": "stream",
     "text": [
      "0.0, 4335.1450949758955, 2.158329597238e12]\n",
      "Query: c:\\Users\\diand\\OneDrive\\Desktop\\Cardinality-with-Colors/queryset/aids/Chain_6/uf_Q_4_11.txt\n",
      "[0.0, 34815.56536624611, 2.8576777214413e13]\n",
      "Query: c:\\Users\\diand\\OneDrive\\Desktop\\Cardinality-with-Colors/queryset/aids/Chain_6/uf_Q_4_12.txt\n",
      "[0.0, 35309.48999438049, 1.9788419958452e13]\n",
      "Query: c:\\Users\\diand\\OneDrive\\Desktop\\Cardinality-with-Colors/queryset/aids/Chain_6/uf_Q_4_13.txt\n"
     ]
    },
    {
     "name": "stdout",
     "output_type": "stream",
     "text": [
      "[0.0, 555880.3616216927, 8.6967600377115e13]\n",
      "Query: c:\\Users\\diand\\OneDrive\\Desktop\\Cardinality-with-Colors/queryset/aids/Chain_6/uf_Q_4_14.txt\n",
      "[0.0, 555880.3616216927, 8.6967600377115e13]\n",
      "Query: c:\\Users\\diand\\OneDrive\\Desktop\\Cardinality-with-Colors/queryset/aids/Chain_6/uf_Q_4_15.txt\n",
      "[0.0, 555880.3616216918, 7.8378841545807e13]\n",
      "Query: c:\\Users\\diand\\OneDrive\\Desktop\\Cardinality-with-Colors/queryset/aids/Chain_6/uf_Q_4_16.txt\n",
      "[0.0, 16108.707121707088, 1.233384561092e12]\n",
      "Query: c:\\Users\\diand\\OneDrive\\Desktop\\Cardinality-with-Colors/queryset/aids/Chain_6/uf_Q_4_17.txt\n",
      "[0.0, 555880.3616216918, 7.8378841545807e13]\n",
      "Query: c:\\Users\\diand\\OneDrive\\Desktop\\Cardinality-with-Colors/queryset/aids/Chain_6/uf_Q_4_2.txt\n",
      "[0.0, 2494.701065179683, 1.12474075022e11]\n",
      "Query: c:\\Users\\diand\\OneDrive\\Desktop\\Cardinality-with-Colors/queryset/aids/Chain_6/uf_Q_4_3.txt\n",
      "[0.0, 94961.95562925143, 3.5965667364695e13]\n"
     ]
    },
    {
     "name": "stdout",
     "output_type": "stream",
     "text": [
      "Query: c:\\Users\\diand\\OneDrive\\Desktop\\Cardinality-with-Colors/queryset/aids/Chain_6/uf_Q_4_4.txt\n",
      "[0.0, 4299.2386294494145, 2.182050383101e12]\n",
      "Query: c:\\Users\\diand\\OneDrive\\Desktop\\Cardinality-with-Colors/queryset/aids/Chain_6/uf_Q_4_5.txt\n",
      "[0.0, 11652.48589947419, 8.473231942942e12]\n",
      "Query: c:\\Users\\diand\\OneDrive\\Desktop\\Cardinality-with-Colors/queryset/aids/Chain_6/uf_Q_4_6.txt\n",
      "[0.0, 571527.3598905847, 8.4930238164696e13]\n",
      "Query: c:\\Users\\diand\\OneDrive\\Desktop\\Cardinality-with-Colors/queryset/aids/Chain_6/uf_Q_4_7.txt\n",
      "[0.0, 571527.3598905847, 8.4930238164696e13]\n",
      "Query: c:\\Users\\diand\\OneDrive\\Desktop\\Cardinality-with-Colors/queryset/aids/Chain_6/uf_Q_4_8.txt\n",
      "[0.0, 4335.1450949758955, 2.158329597238e12]\n",
      "Query: c:\\Users\\diand\\OneDrive\\Desktop\\Cardinality-with-Colors/queryset/aids/Chain_6/uf_Q_4_9.txt\n",
      "[0.0, 35309.48999438049, 1.9788419958452e13]\n",
      "Query: c:\\Users\\diand\\OneDrive\\Desktop\\Cardinality-with-Colors/queryset/aids/Chain_6/uf_Q_5_1.txt\n"
     ]
    },
    {
     "name": "stdout",
     "output_type": "stream",
     "text": [
      "[0.0, 646076.2878858744, 7.5706510981744e13]\n",
      "Query: c:\\Users\\diand\\OneDrive\\Desktop\\Cardinality-with-Colors/queryset/aids/Chain_6/uf_Q_5_10.txt\n",
      "[0.0, 193613.02045387903, 9.2571235641891e13]\n",
      "Query: c:\\Users\\diand\\OneDrive\\Desktop\\Cardinality-with-Colors/queryset/aids/Chain_6/uf_Q_5_11.txt\n",
      "[0.0, 177805.76203010778, 6.4743608057474e13]\n",
      "Query: c:\\Users\\diand\\OneDrive\\Desktop\\Cardinality-with-Colors/queryset/aids/Chain_6/uf_Q_5_12.txt\n",
      "[0.0, 5276.293939833911, 6.94803620399e11]\n",
      "Query: c:\\Users\\diand\\OneDrive\\Desktop\\Cardinality-with-Colors/queryset/aids/Chain_6/uf_Q_5_13.txt\n",
      "[0.0, 177805.76203010796, 5.4122342616917e13]\n",
      "Query: c:\\Users\\diand\\OneDrive\\Desktop\\Cardinality-with-Colors/queryset/aids/Chain_6/uf_Q_5_14.txt\n",
      "["
     ]
    },
    {
     "name": "stdout",
     "output_type": "stream",
     "text": [
      "0.0, 184238.13100925545, 6.5134558060907e13]\n",
      "Query: c:\\Users\\diand\\OneDrive\\Desktop\\Cardinality-with-Colors/queryset/aids/Chain_6/uf_Q_5_15.txt\n",
      "[0.0, 184238.1310092549, 5.9369835994812e13]\n",
      "Query: c:\\Users\\diand\\OneDrive\\Desktop\\Cardinality-with-Colors/queryset/aids/Chain_6/uf_Q_5_16.txt\n",
      "[0.0, 193613.02045387903, 9.2571235641891e13]\n",
      "Query: c:\\Users\\diand\\OneDrive\\Desktop\\Cardinality-with-Colors/queryset/aids/Chain_6/uf_Q_5_17.txt\n",
      "[0.0, 79445.75264780209, 4.82126908366e11]\n",
      "Query: c:\\Users\\diand\\OneDrive\\Desktop\\Cardinality-with-Colors/queryset/aids/Chain_6/uf_Q_5_18.txt\n",
      "[0.0, 53437.04384588621, 6.90032119202e11]\n",
      "Query: c:\\Users\\diand\\OneDrive\\Desktop\\Cardinality-with-Colors/queryset/aids/Chain_6/uf_Q_5_19.txt\n"
     ]
    },
    {
     "name": "stdout",
     "output_type": "stream",
     "text": [
      "[0.0, 193613.02045387917, 5.782659142494e13]\n",
      "Query: c:\\Users\\diand\\OneDrive\\Desktop\\Cardinality-with-Colors/queryset/aids/Chain_6/uf_Q_5_2.txt\n",
      "[0.0, 177805.76203010796, 5.4122342616917e13]\n",
      "Query: c:\\Users\\diand\\OneDrive\\Desktop\\Cardinality-with-Colors/queryset/aids/Chain_6/uf_Q_5_20.txt\n",
      "[0.0, 193613.02045387903, 9.2571235641891e13]\n",
      "Query: c:\\Users\\diand\\OneDrive\\Desktop\\Cardinality-with-Colors/queryset/aids/Chain_6/uf_Q_5_3.txt"
     ]
    },
    {
     "name": "stdout",
     "output_type": "stream",
     "text": [
      "\n",
      "[0.0, 177805.76203010796, 5.4122342616917e13]\n",
      "Query: c:\\Users\\diand\\OneDrive\\Desktop\\Cardinality-with-Colors/queryset/aids/Chain_6/uf_Q_5_4.txt\n",
      "[0.0, 184238.13100925545, 6.5134558060907e13]\n",
      "Query: c:\\Users\\diand\\OneDrive\\Desktop\\Cardinality-with-Colors/queryset/aids/Chain_6/uf_Q_5_5.txt"
     ]
    },
    {
     "name": "stdout",
     "output_type": "stream",
     "text": [
      "\n",
      "[0.0, 177805.76203010778, 6.4743608057474e13]\n",
      "Query: c:\\Users\\diand\\OneDrive\\Desktop\\Cardinality-with-Colors/queryset/aids/Chain_6/uf_Q_5_6.txt\n",
      "[0.0, 184238.1310092549, 5.9369835994812e13]\n",
      "Query: c:\\Users\\diand\\OneDrive\\Desktop\\Cardinality-with-Colors/queryset/aids/Chain_6/uf_Q_5_7.txt\n",
      "[0.0, 184238.13100925545, 6.5134558060907e13]\n",
      "Query: c:\\Users\\diand\\OneDrive\\Desktop\\Cardinality-with-Colors/queryset/aids/Chain_6/uf_Q_5_8.txt\n",
      "["
     ]
    },
    {
     "name": "stdout",
     "output_type": "stream",
     "text": [
      "0.0, 177805.76203010796, 5.4122342616917e13]\n",
      "Query: c:\\Users\\diand\\OneDrive\\Desktop\\Cardinality-with-Colors/queryset/aids/Chain_6/uf_Q_5_9.txt\n",
      "[0.0, 177805.76203010796, 5.4122342616917e13]\n",
      "Query: c:\\Users\\diand\\OneDrive\\Desktop\\Cardinality-with-Colors/queryset/aids/Chain_9/uf_Q_2_1.txt\n",
      "[0.0, 37098.60660070335, 3.957608316531212e17]\n"
     ]
    },
    {
     "name": "stdout",
     "output_type": "stream",
     "text": [
      "Query: c:\\Users\\diand\\OneDrive\\Desktop\\Cardinality-with-Colors/queryset/aids/Chain_9/uf_Q_2_2.txt\n",
      "[0.0, 22.919832490650503, 1.26818605681178e14]\n",
      "Query: c:\\Users\\diand\\OneDrive\\Desktop\\Cardinality-with-Colors/queryset/aids/Chain_9/uf_Q_3_1.txt\n",
      "[0.0, 30.398243609195937, 4.175861422887e14]\n",
      "Query: c:\\Users\\diand\\OneDrive\\Desktop\\Cardinality-with-Colors/queryset/aids/Chain_9/uf_Q_3_2.txt\n",
      "[0.0, 97.7175699747782, 1.057350392185495e15]\n",
      "Query: c:\\Users\\diand\\OneDrive\\Desktop\\Cardinality-with-Colors/queryset/aids/Chain_9/uf_Q_3_3.txt\n",
      "[0.0, 1228.3730748416765, 3.261758591645473e15]\n",
      "Query: c:\\Users\\diand\\OneDrive\\Desktop\\Cardinality-with-Colors/queryset/aids/Chain_9/uf_Q_3_4.txt"
     ]
    },
    {
     "name": "stdout",
     "output_type": "stream",
     "text": [
      "\n",
      "[0.0, 26.191308763860732, 4.15441365615525e14]\n",
      "Query: c:\\Users\\diand\\OneDrive\\Desktop\\Cardinality-with-Colors/queryset/aids/Chain_9/uf_Q_3_5.txt\n",
      "[0.0, 4035.2303903536244, 9.75380897852899e14]\n",
      "Query: c:\\Users\\diand\\OneDrive\\Desktop\\Cardinality-with-Colors/queryset/aids/Chain_9/uf_Q_3_6.txt\n",
      "[0.0, 77.85577188434146, 3.637618772487856e15]\n",
      "Query: c:\\Users\\diand\\OneDrive\\Desktop\\Cardinality-with-Colors/queryset/aids/Chain_9/uf_Q_3_7.txt\n",
      "["
     ]
    },
    {
     "name": "stdout",
     "output_type": "stream",
     "text": [
      "0.0, 801.0149678486447, 7.60891787085189e14]\n",
      "Query: c:\\Users\\diand\\OneDrive\\Desktop\\Cardinality-with-Colors/queryset/aids/Chain_9/uf_Q_3_8.txt\n",
      "[0.0, 56.72673414346104, 4.8126068081784e13]\n",
      "Query: c:\\Users\\diand\\OneDrive\\Desktop\\Cardinality-with-Colors/queryset/aids/Chain_9/uf_Q_3_9.txt\n",
      "[0.0, 7.650584454193668, 1.40648742311445e14]\n",
      "Query: c:\\Users\\diand\\OneDrive\\Desktop\\Cardinality-with-Colors/queryset/aids/Chain_9/uf_Q_4_1.txt\n",
      "[0.0, 3409.8250230197486, 8.29745406196424e14]\n",
      "Query: c:\\Users\\diand\\OneDrive\\Desktop\\Cardinality-with-Colors/queryset/aids/Chain_9/uf_Q_4_10.txt\n",
      "[0.0, 1725.8526497079265, 1.135036480141481e15]\n",
      "Query: c:\\Users\\diand\\OneDrive\\Desktop\\Cardinality-with-Colors/queryset/aids/Chain_9/uf_Q_4_11.txt\n",
      "[0.0, 178.10289736501508, 7.98821485993082e14]\n",
      "Query: c:\\Users\\diand\\OneDrive\\Desktop\\Cardinality-with-Colors/queryset/aids/Chain_9/uf_Q_4_12.txt\n"
     ]
    },
    {
     "name": "stdout",
     "output_type": "stream",
     "text": [
      "[0.0, 409.482227207099, 2.928015587196246e15]\n",
      "Query: c:\\Users\\diand\\OneDrive\\Desktop\\Cardinality-with-Colors/queryset/aids/Chain_9/uf_Q_4_13.txt\n",
      "[0.0, 547.5325624509956, 1.851701709860127e15]\n",
      "Query: c:\\Users\\diand\\OneDrive\\Desktop\\Cardinality-with-Colors/queryset/aids/Chain_9/uf_Q_4_14.txt\n",
      "[0.0, 2011.7552476585668, 4.791048941358259e15]\n",
      "Query: c:\\Users\\diand\\OneDrive\\Desktop\\Cardinality-with-Colors/queryset/aids/Chain_9/uf_Q_4_2.txt\n",
      "[0.0, 1356.3677773385614, 1.4119725743491674e16]\n",
      "Query: c:\\Users\\diand\\OneDrive\\Desktop\\Cardinality-with-Colors/queryset/aids/Chain_9/uf_Q_4_3.txt\n",
      "[0.0, 1262.5717843406223, 1.714906552830957e16]\n",
      "Query: c:\\Users\\diand\\OneDrive\\Desktop\\Cardinality-with-Colors/queryset/aids/Chain_9/uf_Q_4_4.txt\n"
     ]
    },
    {
     "name": "stdout",
     "output_type": "stream",
     "text": [
      "[0.0, 230506.39574478308, 6.379769097663256e17]\n",
      "Query: c:\\Users\\diand\\OneDrive\\Desktop\\Cardinality-with-Colors/queryset/aids/Chain_9/uf_Q_4_5.txt\n",
      "[0.0, 208.24746535828135, 1.472972908119952e15]\n",
      "Query: c:\\Users\\diand\\OneDrive\\Desktop\\Cardinality-with-Colors/queryset/aids/Chain_9/uf_Q_4_6.txt\n",
      "[0.0, 407.94448837601567, 4.8816442204859e15]\n",
      "Query: c:\\Users\\diand\\OneDrive\\Desktop\\Cardinality-with-Colors/queryset/aids/Chain_9/uf_Q_4_7.txt\n",
      "[0.0, 1725.8526497079265, 1.135036480141481e15]\n",
      "Query: c:\\Users\\diand\\OneDrive\\Desktop\\Cardinality-with-Colors/queryset/aids/Chain_9/uf_Q_4_8.txt\n"
     ]
    },
    {
     "name": "stdout",
     "output_type": "stream",
     "text": [
      "[0.0, 242884.4706016135, 7.625090658358367e17]\n",
      "Query: c:\\Users\\diand\\OneDrive\\Desktop\\Cardinality-with-Colors/queryset/aids/Chain_9/uf_Q_4_9.txt\n",
      "[0.0, 6607.393725580064, 1.172035161951018e15]\n",
      "Query: c:\\Users\\diand\\OneDrive\\Desktop\\Cardinality-with-Colors/queryset/aids/Chain_9/uf_Q_5_1.txt\n",
      "[0.0, 2023.9938750860995, 2.56240963082802e16]\n"
     ]
    },
    {
     "name": "stdout",
     "output_type": "stream",
     "text": [
      "Query: c:\\Users\\diand\\OneDrive\\Desktop\\Cardinality-with-Colors/queryset/aids/Chain_9/uf_Q_5_10.txt\n",
      "[0.0, 84210.81865551471, 4.8019820024542176e17]\n",
      "Query: c:\\Users\\diand\\OneDrive\\Desktop\\Cardinality-with-Colors/queryset/aids/Chain_9/uf_Q_5_11.txt\n",
      "[0.0, 1.383896185284973e6, 2.5046059334288435e18]\n",
      "Query: c:\\Users\\diand\\OneDrive\\Desktop\\Cardinality-with-Colors/queryset/aids/Chain_9/uf_Q_5_12.txt\n",
      "[0.0, 296.60218555538245, 8.967160899311e12]\n",
      "Query: c:\\Users\\diand\\OneDrive\\Desktop\\Cardinality-with-Colors/queryset/aids/Chain_9/uf_Q_5_13.txt\n"
     ]
    },
    {
     "name": "stdout",
     "output_type": "stream",
     "text": [
      "[0.0, 11801.518431806919, 6.261080456358604e16]\n",
      "Query: c:\\Users\\diand\\OneDrive\\Desktop\\Cardinality-with-Colors/queryset/aids/Chain_9/uf_Q_5_14.txt\n",
      "[0.0, 2110.343535823605, 1.5176455391055e13]\n",
      "Query: c:\\Users\\diand\\OneDrive\\Desktop\\Cardinality-with-Colors/queryset/aids/Chain_9/uf_Q_5_15.txt\n",
      "[0.0, 93829.23557994129, 5.3010141459238304e17]\n",
      "Query: c:\\Users\\diand\\OneDrive\\Desktop\\Cardinality-with-Colors/queryset/aids/Chain_9/uf_Q_5_16.txt\n",
      "[0.0, 1.529099443531949e6, 2.5762881276884244e18]\n",
      "Query: c:\\Users\\diand\\OneDrive\\Desktop\\Cardinality-with-Colors/queryset/aids/Chain_9/uf_Q_5_17.txt\n",
      "[0.0, 69.39013872671357, 5.5187727625802e13]\n",
      "Query: c:\\Users\\diand\\OneDrive\\Desktop\\Cardinality-with-Colors/queryset/aids/Chain_9/uf_Q_5_18.txt\n",
      "[0.0, 1.3818886638321893e6, 2.434182306090828e18]\n",
      "Query: c:\\Users\\diand\\OneDrive\\Desktop\\Cardinality-with-Colors/queryset/aids/Chain_9/uf_Q_5_19.txt\n",
      "[0.0, 7710.73119181621, 6.656160551491133e15]\n",
      "Query: c:\\Users\\diand\\OneDrive\\Desktop\\Cardinality-with-Colors/queryset/aids/Chain_9/uf_Q_5_2.txt\n"
     ]
    },
    {
     "name": "stdout",
     "output_type": "stream",
     "text": [
      "[0.0, 7521.77601604189, 9.039563602321562e16]\n",
      "Query: c:\\Users\\diand\\OneDrive\\Desktop\\Cardinality-with-Colors/queryset/aids/Chain_9/uf_Q_5_3.txt\n",
      "[0.0, 23208.668363684115, 5.962306811318201e15]\n",
      "Query: c:\\Users\\diand\\OneDrive\\Desktop\\Cardinality-with-Colors/queryset/aids/Chain_9/uf_Q_5_4.txt\n"
     ]
    },
    {
     "name": "stdout",
     "output_type": "stream",
     "text": [
      "[0.0, 792357.7054483697, 1.0251302519954904e18]\n",
      "Query: c:\\Users\\diand\\OneDrive\\Desktop\\Cardinality-with-Colors/queryset/aids/Chain_9/uf_Q_5_5.txt\n",
      "[0.0, 2090.6838314241627, 2.205563124289941e15]\n",
      "Query: c:\\Users\\diand\\OneDrive\\Desktop\\Cardinality-with-Colors/queryset/aids/Chain_9/uf_Q_5_6.txt\n",
      "[0.0, 82543.8163893903, 4.6289115486782266e17]\n",
      "Query: c:\\Users\\diand\\OneDrive\\Desktop\\Cardinality-with-Colors/queryset/aids/Chain_9/uf_Q_5_7.txt\n",
      "[0.0, 83558.93049826393, 5.2620138385306e17]\n",
      "Query: c:\\Users\\diand\\OneDrive\\Desktop\\Cardinality-with-Colors/queryset/aids/Chain_9/uf_Q_5_8.txt"
     ]
    },
    {
     "name": "stdout",
     "output_type": "stream",
     "text": [
      "\n",
      "[0.0, 1.3818886638321884e6, 2.491958331095674e18]\n",
      "Query: c:\\Users\\diand\\OneDrive\\Desktop\\Cardinality-with-Colors/queryset/aids/Chain_9/uf_Q_5_9.txt\n",
      "[0.0, 84210.81865551471, 4.8019820024542176e17]\n",
      "Query: c:\\Users\\diand\\OneDrive\\Desktop\\Cardinality-with-Colors/queryset/aids/Chain_12/uf_Q_3_1.txt\n",
      "[0.0"
     ]
    },
    {
     "name": "stdout",
     "output_type": "stream",
     "text": [
      ", 1067.1713654847138, 9.88557039381749e18]\n",
      "Query: c:\\Users\\diand\\OneDrive\\Desktop\\Cardinality-with-Colors/queryset/aids/Chain_12/uf_Q_3_2.txt\n",
      "[0.0, 170.70508188561448, 5.974249274932547e19]\n",
      "Query: c:\\Users\\diand\\OneDrive\\Desktop\\Cardinality-with-Colors/queryset/aids/Chain_12/uf_Q_3_3.txt\n"
     ]
    },
    {
     "name": "stdout",
     "output_type": "stream",
     "text": [
      "[0.0, 34.54372872765706, 1.0103059131656858e18]\n",
      "Query: c:\\Users\\diand\\OneDrive\\Desktop\\Cardinality-with-Colors/queryset/aids/Chain_12/uf_Q_4_1.txt\n",
      "[0.0, 114193.02244990545, 7.074872477195973e21]\n",
      "Query: c:\\Users\\diand\\OneDrive\\Desktop\\Cardinality-with-Colors/queryset/aids/Chain_12/uf_Q_4_10.txt\n",
      "[0.0, 717444.7914757186, 1.86840714934356e22]\n",
      "Query: c:\\Users\\diand\\OneDrive\\Desktop\\Cardinality-with-Colors/queryset/aids/Chain_12/uf_Q_4_11.txt\n",
      "[0.0, 39573.84107775868, 4.283606397354954e20]\n",
      "Query: c:\\Users\\diand\\OneDrive\\Desktop\\Cardinality-with-Colors/queryset/aids/Chain_12/uf_Q_4_2.txt\n"
     ]
    },
    {
     "name": "stdout",
     "output_type": "stream",
     "text": [
      "[0.0, 623885.9883109817, 2.202218050746842e22]\n",
      "Query: c:\\Users\\diand\\OneDrive\\Desktop\\Cardinality-with-Colors/queryset/aids/Chain_12/uf_Q_4_3.txt\n",
      "[0.0, 602774.25137052, 2.8264572270091897e22]\n",
      "Query: c:\\Users\\diand\\OneDrive\\Desktop\\Cardinality-with-Colors/queryset/aids/Chain_12/uf_Q_4_4.txt\n",
      "[0.0, 7747.753869389001, 2.231948923001887e21]\n",
      "Query: c:\\Users\\diand\\OneDrive\\Desktop\\Cardinality-with-Colors/queryset/aids/Chain_12/uf_Q_4_5.txt\n",
      "[0.0, 599471.7214264314, 2.284970859269796e22]\n",
      "Query: c:\\Users\\diand\\OneDrive\\Desktop\\Cardinality-with-Colors/queryset/aids/Chain_12/uf_Q_4_6.txt\n"
     ]
    },
    {
     "name": "stdout",
     "output_type": "stream",
     "text": [
      "[0.0, 517022.65936860174, 2.6779419076594925e22]\n",
      "Query: c:\\Users\\diand\\OneDrive\\Desktop\\Cardinality-with-Colors/queryset/aids/Chain_12/uf_Q_4_7.txt\n",
      "[0.0, 131641.3114589446, 9.525349745443283e21]\n",
      "Query: c:\\Users\\diand\\OneDrive\\Desktop\\Cardinality-with-Colors/queryset/aids/Chain_12/uf_Q_4_8.txt\n",
      "[0.0, 609968.9139853752, 2.336761129003385e22]\n",
      "Query: c:\\Users\\diand\\OneDrive\\Desktop\\Cardinality-with-Colors/queryset/aids/Chain_12/uf_Q_4_9.txt"
     ]
    },
    {
     "name": "stdout",
     "output_type": "stream",
     "text": [
      "\n",
      "[0.0, 301254.4704898157, 7.531207921515632e21]\n",
      "Query: c:\\Users\\diand\\OneDrive\\Desktop\\Cardinality-with-Colors/queryset/aids/Chain_12/uf_Q_5_1.txt\n",
      "[0.0, 133332.3795823807, 9.921695581365445e21]\n",
      "Query: c:\\Users\\diand\\OneDrive\\Desktop\\Cardinality-with-Colors/queryset/aids/Chain_12/uf_Q_5_10.txt\n",
      "[0.0, 52143.648015356936, 7.477739167382231e21]\n",
      "Query: c:\\Users\\diand\\OneDrive\\Desktop\\Cardinality-with-Colors/queryset/aids/Chain_12/uf_Q_5_11.txt\n",
      "[0.0, 813.1763397042213, 1.7759420615410736e20]\n",
      "Query: c:\\Users\\diand\\OneDrive\\Desktop\\Cardinality-with-Colors/queryset/aids/Chain_12/uf_Q_5_12.txt"
     ]
    },
    {
     "name": "stdout",
     "output_type": "stream",
     "text": [
      "\n",
      "[0.0, 635.6676576341351, 1.6401822341260296e20]\n",
      "Query: c:\\Users\\diand\\OneDrive\\Desktop\\Cardinality-with-Colors/queryset/aids/Chain_12/uf_Q_5_2.txt\n",
      "[0.0, 701570.8340690426, 1.8886309171138742e22]\n",
      "Query: c:\\Users\\diand\\OneDrive\\Desktop\\Cardinality-with-Colors/queryset/aids/Chain_12/uf_Q_5_3.txt\n",
      "[0.0, 3844.011700074951, 5.245044978164536e20]\n",
      "Query: c:\\Users\\diand\\OneDrive\\Desktop\\Cardinality-with-Colors/queryset/aids/Chain_12/uf_Q_5_4.txt\n"
     ]
    },
    {
     "name": "stdout",
     "output_type": "stream",
     "text": [
      "[0.0, 708628.5303098331, 2.336969016666741e22]\n",
      "Query: c:\\Users\\diand\\OneDrive\\Desktop\\Cardinality-with-Colors/queryset/aids/Chain_12/uf_Q_5_5.txt\n",
      "[0.0, 1213.3926828278807, 9.700859511447482e19]\n",
      "Query: c:\\Users\\diand\\OneDrive\\Desktop\\Cardinality-with-Colors/queryset/aids/Chain_12/uf_Q_5_6.txt\n"
     ]
    },
    {
     "name": "stdout",
     "output_type": "stream",
     "text": [
      "[0.0, 475088.22145745065, 9.14019228495638e21]\n",
      "Query: c:\\Users\\diand\\OneDrive\\Desktop\\Cardinality-with-Colors/queryset/aids/Chain_12/uf_Q_5_7.txt\n",
      "[0.0, 708628.5303098331, 2.336969016666741e22]\n",
      "Query: c:\\Users\\diand\\OneDrive\\Desktop\\Cardinality-with-Colors/queryset/aids/Chain_12/uf_Q_5_8.txt\n"
     ]
    },
    {
     "name": "stdout",
     "output_type": "stream",
     "text": [
      "[0.0, 13982.390795421466, 3.346584253812584e20]\n",
      "Query: c:\\Users\\diand\\OneDrive\\Desktop\\Cardinality-with-Colors/queryset/aids/Chain_12/uf_Q_5_9.txt\n",
      "[0.0, 316.4295620467979, 3.203363839412436e18]\n",
      "Query: c:\\Users\\diand\\OneDrive\\Desktop\\Cardinality-with-Colors/queryset/aids/Cycle_3/uf_Q_1_1.txt"
     ]
    },
    {
     "name": "stdout",
     "output_type": "stream",
     "text": [
      "\n",
      "[0.0, 2085.4741659207552, 3.265533e6]\n",
      "Query: c:\\Users\\diand\\OneDrive\\Desktop\\Cardinality-with-Colors/queryset/aids/Cycle_3/uf_Q_1_2.txt\n"
     ]
    },
    {
     "name": "stdout",
     "output_type": "stream",
     "text": [
      "[0.0, 131380.08524628784, 6.6871605e7]\n",
      "Query: c:\\Users\\diand\\OneDrive\\Desktop\\Cardinality-with-Colors/queryset/aids/Cycle_3/uf_Q_1_3.txt\n",
      "[0.0, 131380.08524628822, 1.26301683e8]"
     ]
    },
    {
     "name": "stdout",
     "output_type": "stream",
     "text": [
      "\n",
      "Query: c:\\Users\\diand\\OneDrive\\Desktop\\Cardinality-with-Colors/queryset/aids/Cycle_3/uf_Q_1_4.txt\n",
      "[0.0, 2085.4741659207552, 3.265533e6]\n",
      "Query: c:\\Users\\diand\\OneDrive\\Desktop\\Cardinality-with-Colors/queryset/aids/Cycle_3/uf_Q_1_6.txt"
     ]
    },
    {
     "name": "stdout",
     "output_type": "stream",
     "text": [
      "\n",
      "[0.0, 131380.08524628822, 1.26301683e8]\n",
      "Query: c:\\Users\\diand\\OneDrive\\Desktop\\Cardinality-with-Colors/queryset/aids/Cycle_3/uf_Q_1_7.txt\n"
     ]
    },
    {
     "name": "stdout",
     "output_type": "stream",
     "text": [
      "[0.0, 131380.08524628822, 1.26301683e8]\n",
      "Query: c:\\Users\\diand\\OneDrive\\Desktop\\Cardinality-with-Colors/queryset/aids/Cycle_3/uf_Q_1_8.txt\n"
     ]
    },
    {
     "name": "stdout",
     "output_type": "stream",
     "text": [
      "[0.0, 131380.08524628822, 1.26301683e8]\n",
      "Query: c:\\Users\\diand\\OneDrive\\Desktop\\Cardinality-with-Colors/queryset/aids/Cycle_3/uf_Q_1_9.txt\n",
      "[0.0, 2085.4741659207552, 3.265533e6]\n",
      "Query: c:\\Users\\diand\\OneDrive\\Desktop\\Cardinality-with-Colors/queryset/aids/Cycle_3/uf_Q_2_1.txt\n"
     ]
    },
    {
     "name": "stdout",
     "output_type": "stream",
     "text": [
      "[0.0, 142752.24141285795, 2.15065388e8]\n",
      "Query: c:\\Users\\diand\\OneDrive\\Desktop\\Cardinality-with-Colors/queryset/aids/Cycle_3/uf_Q_2_10.txt\n"
     ]
    },
    {
     "name": "stdout",
     "output_type": "stream",
     "text": [
      "[0.0, 25563.088374239876, 9.756604e7]\n",
      "Query: c:\\Users\\diand\\OneDrive\\Desktop\\Cardinality-with-Colors/queryset/aids/Cycle_3/uf_Q_2_11.txt\n"
     ]
    },
    {
     "name": "stdout",
     "output_type": "stream",
     "text": [
      "[0.0, 25563.088374239876, 9.756604e7]\n",
      "Query: c:\\Users\\diand\\OneDrive\\Desktop\\Cardinality-with-Colors/queryset/aids/Cycle_3/uf_Q_2_12.txt"
     ]
    },
    {
     "name": "stdout",
     "output_type": "stream",
     "text": [
      "\n",
      "[0.0, 25563.088374239876, 9.756604e7]\n",
      "Query: c:\\Users\\diand\\OneDrive\\Desktop\\Cardinality-with-Colors/queryset/aids/Cycle_3/uf_Q_2_13.txt\n",
      "[0.0, "
     ]
    },
    {
     "name": "stdout",
     "output_type": "stream",
     "text": [
      "25563.088374239876, 9.756604e7]\n",
      "Query: c:\\Users\\diand\\OneDrive\\Desktop\\Cardinality-with-Colors/queryset/aids/Cycle_3/uf_Q_2_14.txt\n"
     ]
    },
    {
     "name": "stdout",
     "output_type": "stream",
     "text": [
      "[0.0, 25563.088374239873, 5.3453153e7]\n",
      "Query: c:\\Users\\diand\\OneDrive\\Desktop\\Cardinality-with-Colors/queryset/aids/Cycle_3/uf_Q_2_15.txt\n"
     ]
    },
    {
     "name": "stdout",
     "output_type": "stream",
     "text": [
      "[0.0, 25563.088374239873, 5.3453153e7]\n",
      "Query: c:\\Users\\diand\\OneDrive\\Desktop\\Cardinality-with-Colors/queryset/aids/Cycle_3/uf_Q_2_16.txt"
     ]
    },
    {
     "name": "stdout",
     "output_type": "stream",
     "text": [
      "\n",
      "[0.0, 142752.24141285795, 2.15065388e8]\n",
      "Query: c:\\Users\\diand\\OneDrive\\Desktop\\Cardinality-with-Colors/queryset/aids/Cycle_3/uf_Q_2_17.txt"
     ]
    },
    {
     "name": "stdout",
     "output_type": "stream",
     "text": [
      "\n",
      "[0.0, 25563.088374239876, 9.756604e7]\n",
      "Query: c:\\Users\\diand\\OneDrive\\Desktop\\Cardinality-with-Colors/queryset/aids/Cycle_3/uf_Q_2_2.txt"
     ]
    },
    {
     "name": "stdout",
     "output_type": "stream",
     "text": [
      "\n",
      "[0.0, 142752.24141285795, 2.15065388e8]\n",
      "Query: c:\\Users\\diand\\OneDrive\\Desktop\\Cardinality-with-Colors/queryset/aids/Cycle_3/uf_Q_2_3.txt\n",
      "[0.0, 25563.088374239876, "
     ]
    },
    {
     "name": "stdout",
     "output_type": "stream",
     "text": [
      "9.756604e7]\n",
      "Query: c:\\Users\\diand\\OneDrive\\Desktop\\Cardinality-with-Colors/queryset/aids/Cycle_3/uf_Q_2_4.txt"
     ]
    },
    {
     "name": "stdout",
     "output_type": "stream",
     "text": [
      "\n",
      "[0.0, 25563.088374239873, 5.3453153e7]\n",
      "Query: c:\\Users\\diand\\OneDrive\\Desktop\\Cardinality-with-Colors/queryset/aids/Cycle_3/uf_Q_2_5.txt\n"
     ]
    },
    {
     "name": "stdout",
     "output_type": "stream",
     "text": [
      "[0.0, 25563.088374239873, 5.3453153e7]\n",
      "Query: c:\\Users\\diand\\OneDrive\\Desktop\\Cardinality-with-Colors/queryset/aids/Cycle_3/uf_Q_2_6.txt\n"
     ]
    },
    {
     "name": "stdout",
     "output_type": "stream",
     "text": [
      "[0.0, 25563.088374239876, 9.756604e7]\n",
      "Query: c:\\Users\\diand\\OneDrive\\Desktop\\Cardinality-with-Colors/queryset/aids/Cycle_3/uf_Q_2_7.txt"
     ]
    },
    {
     "name": "stdout",
     "output_type": "stream",
     "text": [
      "\n",
      "[0.0, 142752.24141285795, 2.15065388e8]\n",
      "Query: c:\\Users\\diand\\OneDrive\\Desktop\\Cardinality-with-Colors/queryset/aids/Cycle_3/uf_Q_2_8.txt\n"
     ]
    },
    {
     "name": "stdout",
     "output_type": "stream",
     "text": [
      "[0.0, 142752.24141285795, 2.15065388e8]\n",
      "Query: c:\\Users\\diand\\OneDrive\\Desktop\\Cardinality-with-Colors/queryset/aids/Cycle_3/uf_Q_2_9.txt"
     ]
    },
    {
     "name": "stdout",
     "output_type": "stream",
     "text": [
      "\n",
      "[0.0, 142752.24141285795, 2.15065388e8]\n",
      "Query: c:\\Users\\diand\\OneDrive\\Desktop\\Cardinality-with-Colors/queryset/aids/Cycle_3/uf_Q_3_1.txt"
     ]
    },
    {
     "name": "stdout",
     "output_type": "stream",
     "text": [
      "\n",
      "[0.0, 187967.23092897044, 2.15065388e8]\n",
      "Query: c:\\Users\\diand\\OneDrive\\Desktop\\Cardinality-with-Colors/queryset/aids/Cycle_3/uf_Q_3_10.txt"
     ]
    },
    {
     "name": "stdout",
     "output_type": "stream",
     "text": [
      "\n",
      "[0.0, 187967.23092897044, 2.15065388e8]\n",
      "Query: c:\\Users\\diand\\OneDrive\\Desktop\\Cardinality-with-Colors/queryset/aids/Cycle_3/uf_Q_3_11.txt\n"
     ]
    },
    {
     "name": "stdout",
     "output_type": "stream",
     "text": [
      "[0.0, 187967.23092897044, 2.15065388e8]\n",
      "Query: c:\\Users\\diand\\OneDrive\\Desktop\\Cardinality-with-Colors/queryset/aids/Cycle_3/uf_Q_3_12.txt"
     ]
    },
    {
     "name": "stdout",
     "output_type": "stream",
     "text": [
      "\n",
      "[0.0, 187967.23092897044, 2.15065388e8]\n",
      "Query: c:\\Users\\diand\\OneDrive\\Desktop\\Cardinality-with-Colors/queryset/aids/Cycle_3/uf_Q_3_13.txt\n"
     ]
    },
    {
     "name": "stdout",
     "output_type": "stream",
     "text": [
      "[0.0, 187967.23092897044, 2.15065388e8]\n"
     ]
    },
    {
     "name": "stdout",
     "output_type": "stream",
     "text": [
      "Query: c:\\Users\\diand\\OneDrive\\Desktop\\Cardinality-with-Colors/queryset/aids/Cycle_3/uf_Q_3_14.txt\n",
      "[0.0, 187967.23092897044, 2.15065388e8]\n",
      "Query: c:\\Users\\diand\\OneDrive\\Desktop\\Cardinality-with-Colors/queryset/aids/Cycle_3/uf_Q_3_15.txt\n"
     ]
    },
    {
     "name": "stdout",
     "output_type": "stream",
     "text": [
      "[0.0, 187967.23092897044, 2.15065388e8]\n",
      "Query: c:\\Users\\diand\\OneDrive\\Desktop\\Cardinality-with-Colors/queryset/aids/Cycle_3/uf_Q_3_16.txt\n"
     ]
    },
    {
     "name": "stdout",
     "output_type": "stream",
     "text": [
      "[0.0, 187967.23092897044, 2.15065388e8]\n",
      "Query: c:\\Users\\diand\\OneDrive\\Desktop\\Cardinality-with-Colors/queryset/aids/Cycle_3/uf_Q_3_17.txt"
     ]
    },
    {
     "name": "stdout",
     "output_type": "stream",
     "text": [
      "\n",
      "[0.0, 187967.23092897044, 2.15065388e8]\n",
      "Query: c:\\Users\\diand\\OneDrive\\Desktop\\Cardinality-with-Colors/queryset/aids/Cycle_3/uf_Q_3_18.txt\n"
     ]
    },
    {
     "name": "stdout",
     "output_type": "stream",
     "text": [
      "[0.0, 187967.23092897044, 2.15065388e8]\n",
      "Query: c:\\Users\\diand\\OneDrive\\Desktop\\Cardinality-with-Colors/queryset/aids/Cycle_3/uf_Q_3_19.txt\n"
     ]
    },
    {
     "name": "stdout",
     "output_type": "stream",
     "text": [
      "[0.0, 187967.23092897044, 2.15065388e8]\n",
      "Query: c:\\Users\\diand\\OneDrive\\Desktop\\Cardinality-with-Colors/queryset/aids/Cycle_3/uf_Q_3_2.txt"
     ]
    },
    {
     "name": "stdout",
     "output_type": "stream",
     "text": [
      "\n",
      "[0.0, 187967.23092897044, 2.15065388e8]\n",
      "Query: c:\\Users\\diand\\OneDrive\\Desktop\\Cardinality-with-Colors/queryset/aids/Cycle_3/uf_Q_3_20.txt\n"
     ]
    },
    {
     "name": "stdout",
     "output_type": "stream",
     "text": [
      "[0.0, 187967.23092897044, 2.15065388e8]\n",
      "Query: c:\\Users\\diand\\OneDrive\\Desktop\\Cardinality-with-Colors/queryset/aids/Cycle_3/uf_Q_3_3.txt"
     ]
    },
    {
     "name": "stdout",
     "output_type": "stream",
     "text": [
      "\n",
      "[0.0, 187967.23092897044, 2.15065388e8]\n",
      "Query: c:\\Users\\diand\\OneDrive\\Desktop\\Cardinality-with-Colors/queryset/aids/Cycle_3/uf_Q_3_4.txt"
     ]
    },
    {
     "name": "stdout",
     "output_type": "stream",
     "text": [
      "\n",
      "[0.0, 187967.23092897044, 2.15065388e8]\n",
      "Query: c:\\Users\\diand\\OneDrive\\Desktop\\Cardinality-with-Colors/queryset/aids/Cycle_3/uf_Q_3_5.txt\n"
     ]
    },
    {
     "name": "stdout",
     "output_type": "stream",
     "text": [
      "[0.0, 187967.23092897044, 2.15065388e8]\n",
      "Query: c:\\Users\\diand\\OneDrive\\Desktop\\Cardinality-with-Colors/queryset/aids/Cycle_3/uf_Q_3_6.txt"
     ]
    },
    {
     "name": "stdout",
     "output_type": "stream",
     "text": [
      "\n",
      "[0.0, 187967.23092897044, 2.15065388e8]\n",
      "Query: c:\\Users\\diand\\OneDrive\\Desktop\\Cardinality-with-Colors/queryset/aids/Cycle_3/uf_Q_3_7.txt\n"
     ]
    },
    {
     "name": "stdout",
     "output_type": "stream",
     "text": [
      "[0.0, 187967.23092897044, 2.15065388e8]\n",
      "Query: c:\\Users\\diand\\OneDrive\\Desktop\\Cardinality-with-Colors/queryset/aids/Cycle_3/uf_Q_3_8.txt"
     ]
    },
    {
     "name": "stdout",
     "output_type": "stream",
     "text": [
      "\n",
      "[0.0, 187967.23092897044, 2.15065388e8]\n",
      "Query: c:\\Users\\diand\\OneDrive\\Desktop\\Cardinality-with-Colors/queryset/aids/Cycle_3/uf_Q_3_9.txt\n"
     ]
    },
    {
     "name": "stdout",
     "output_type": "stream",
     "text": [
      "[0.0, 187967.23092897044, 2.15065388e8]\n",
      "Query: c:\\Users\\diand\\OneDrive\\Desktop\\Cardinality-with-Colors/queryset/aids/Cycle_6/uf_Q_1_1.txt\n",
      "[0.0, 0.0004995185646710552, 1.3592478e7]\n",
      "Query: c:\\Users\\diand\\OneDrive\\Desktop\\Cardinality-with-Colors/queryset/aids/Cycle_6/uf_Q_1_2.txt\n",
      "[0.0, 0.0004995185646710552, 1.3592478e7]\n",
      "Query: c:\\Users\\diand\\OneDrive\\Desktop\\Cardinality-with-Colors/queryset/aids/Cycle_6/uf_Q_1_3.txt\n",
      "[0.0, 0.00018842136674162478, 1210.0]\n",
      "Query: c:\\Users\\diand\\OneDrive\\Desktop\\Cardinality-with-Colors/queryset/aids/Cycle_6/uf_Q_1_4.txt\n",
      "[0.0, 0.00029447853997397995, 1.2264088e7]\n",
      "Query: c:\\Users\\diand\\OneDrive\\Desktop\\Cardinality-with-Colors/queryset/aids/Cycle_6/uf_Q_2_1.txt\n"
     ]
    },
    {
     "name": "stdout",
     "output_type": "stream",
     "text": [
      "[0.0, 0.03467881286519174, 299853.0]\n",
      "Query: c:\\Users\\diand\\OneDrive\\Desktop\\Cardinality-with-Colors/queryset/aids/Cycle_6/uf_Q_2_2.txt\n",
      "[0.0, 0.8381416033430389, 7.54088969e8]\n",
      "Query: c:\\Users\\diand\\OneDrive\\Desktop\\Cardinality-with-Colors/queryset/aids/Cycle_6/uf_Q_2_4.txt\n",
      "[0.0, 0.24080942800664454, 4.60022416e8]\n",
      "Query: c:\\Users\\diand\\OneDrive\\Desktop\\Cardinality-with-Colors/queryset/aids/Cycle_6/uf_Q_3_1.txt\n",
      "[0.0, 2.3283642439303196, 2.660525918e9]\n",
      "Query: c:\\Users\\diand\\OneDrive\\Desktop\\Cardinality-with-Colors/queryset/aids/Cycle_6/uf_Q_3_2.txt\n",
      "[0.0, 4.348730258973008, 1.235517e6]\n",
      "Query: c:\\Users\\diand\\OneDrive\\Desktop\\Cardinality-with-Colors/queryset/aids/Cycle_6/uf_Q_3_3.txt\n"
     ]
    },
    {
     "name": "stdout",
     "output_type": "stream",
     "text": [
      "[0.0, 9.475559244589405, 2.642328010134e12]\n",
      "Query: c:\\Users\\diand\\OneDrive\\Desktop\\Cardinality-with-Colors/queryset/aids/Flower_6/uf_Q_0_1.txt\n",
      "[0.0, 0.010867241000166566, 2.07942592e8]\n"
     ]
    },
    {
     "name": "stdout",
     "output_type": "stream",
     "text": [
      "Query: c:\\Users\\diand\\OneDrive\\Desktop\\Cardinality-with-Colors/queryset/aids/Flower_6/uf_Q_0_2.txt\n",
      "[0.0, 0.16952304204192242, 6.21367171e8]\n",
      "Query: c:\\Users\\diand\\OneDrive\\Desktop\\Cardinality-with-Colors/queryset/aids/Flower_6/uf_Q_1_3.txt\n"
     ]
    },
    {
     "name": "stdout",
     "output_type": "stream",
     "text": [
      "[0.0, 3654.289685870789, 7.395546100308e12]\n",
      "Query: c:\\Users\\diand\\OneDrive\\Desktop\\Cardinality-with-Colors/queryset/aids/Flower_6/uf_Q_1_4.txt\n",
      "[0.0, 0.10530657476667883, 5.2086164e7]\n",
      "Query: c:\\Users\\diand\\OneDrive\\Desktop\\Cardinality-with-Colors/queryset/aids/Flower_6/uf_Q_1_6.txt\n",
      "[0.0, 0.10530657476667883, 5.2086164e7]\n"
     ]
    },
    {
     "name": "stdout",
     "output_type": "stream",
     "text": [
      "Query: c:\\Users\\diand\\OneDrive\\Desktop\\Cardinality-with-Colors/queryset/aids/Flower_6/uf_Q_1_7.txt\n",
      "[0.0, 0.07334457611161595, 2.67047108e8]\n",
      "Query: c:\\Users\\diand\\OneDrive\\Desktop\\Cardinality-with-Colors/queryset/aids/Flower_6/uf_Q_2_1.txt\n",
      "[0.0, 0.17990349656091031, 5.4022473e7]\n",
      "Query: c:\\Users\\diand\\OneDrive\\Desktop\\Cardinality-with-Colors/queryset/aids/Flower_6/uf_Q_2_2.txt\n"
     ]
    },
    {
     "name": "stdout",
     "output_type": "stream",
     "text": [
      "[0.0, 0.17871034190748009, 1.76941647e8]\n",
      "Query: c:\\Users\\diand\\OneDrive\\Desktop\\Cardinality-with-Colors/queryset/aids/Flower_6/uf_Q_2_3.txt\n",
      "[0.0, 0.783071235802663, 1.439681082e9]\n",
      "Query: c:\\Users\\diand\\OneDrive\\Desktop\\Cardinality-with-Colors/queryset/aids/Flower_6/uf_Q_2_4.txt\n",
      "[0.0, 0.23720928837580585, 6.03359076e8]\n",
      "Query: c:\\Users\\diand\\OneDrive\\Desktop\\Cardinality-with-Colors/queryset/aids/Flower_6/uf_Q_2_5.txt\n"
     ]
    },
    {
     "name": "stdout",
     "output_type": "stream",
     "text": [
      "[0.0, 0.1206838158349515, 9.25325039e8]\n",
      "Query: c:\\Users\\diand\\OneDrive\\Desktop\\Cardinality-with-Colors/queryset/aids/Flower_6/uf_Q_2_6.txt\n",
      "[0.0, 0.045297236841169555, 3.79874727e8]\n",
      "Query: c:\\Users\\diand\\OneDrive\\Desktop\\Cardinality-with-Colors/queryset/aids/Flower_6/uf_Q_2_7.txt"
     ]
    },
    {
     "name": "stdout",
     "output_type": "stream",
     "text": [
      "\n",
      "[0.0, 50.119422876947944, 4.97500965188e11]\n",
      "Query: c:\\Users\\diand\\OneDrive\\Desktop\\Cardinality-with-Colors/queryset/aids/Flower_6/uf_Q_3_1.txt\n"
     ]
    },
    {
     "name": "stdout",
     "output_type": "stream",
     "text": [
      "[0.0, 809.0349505358748, 2.586295530925e12]\n",
      "Query: c:\\Users\\diand\\OneDrive\\Desktop\\Cardinality-with-Colors/queryset/aids/Flower_6/uf_Q_3_10.txt\n"
     ]
    },
    {
     "name": "stdout",
     "output_type": "stream",
     "text": [
      "[0.0, 21.342291071567622, 5.3108234268e10]\n",
      "Query: c:\\Users\\diand\\OneDrive\\Desktop\\Cardinality-with-Colors/queryset/aids/Flower_6/uf_Q_3_11.txt\n"
     ]
    },
    {
     "name": "stdout",
     "output_type": "stream",
     "text": [
      "[0.0, 4066.492564880666, 7.395546100308e12]\n",
      "Query: c:\\Users\\diand\\OneDrive\\Desktop\\Cardinality-with-Colors/queryset/aids/Flower_6/uf_Q_3_12.txt\n"
     ]
    },
    {
     "name": "stdout",
     "output_type": "stream",
     "text": [
      "[0.0, 809.0349505358748, 2.586295530925e12]\n",
      "Query: c:\\Users\\diand\\OneDrive\\Desktop\\Cardinality-with-Colors/queryset/aids/Flower_6/uf_Q_3_13.txt\n",
      "[0.0, 1.744159049788563, 5.71707198e9]\n",
      "Query: c:\\Users\\diand\\OneDrive\\Desktop\\Cardinality-with-Colors/queryset/aids/Flower_6/uf_Q_3_14.txt"
     ]
    },
    {
     "name": "stdout",
     "output_type": "stream",
     "text": [
      "\n",
      "[0.0, 4066.492564880666, 7.395546100308e12]"
     ]
    },
    {
     "name": "stdout",
     "output_type": "stream",
     "text": [
      "\n",
      "Query: c:\\Users\\diand\\OneDrive\\Desktop\\Cardinality-with-Colors/queryset/aids/Flower_6/uf_Q_3_15.txt\n"
     ]
    },
    {
     "name": "stdout",
     "output_type": "stream",
     "text": [
      "[0.0, 21.342291071567622, 5.3108234268e10]\n",
      "Query: c:\\Users\\diand\\OneDrive\\Desktop\\Cardinality-with-Colors/queryset/aids/Flower_6/uf_Q_3_16.txt\n"
     ]
    },
    {
     "name": "stdout",
     "output_type": "stream",
     "text": [
      "[0.0, 4066.492564880666, 1.1471774399565e13]\n",
      "Query: c:\\Users\\diand\\OneDrive\\Desktop\\Cardinality-with-Colors/queryset/aids/Flower_6/uf_Q_3_2.txt\n"
     ]
    },
    {
     "name": "stdout",
     "output_type": "stream",
     "text": [
      "[0.0, 809.0349505358748, 2.586295530925e12]\n"
     ]
    },
    {
     "name": "stdout",
     "output_type": "stream",
     "text": [
      "Query: c:\\Users\\diand\\OneDrive\\Desktop\\Cardinality-with-Colors/queryset/aids/Flower_6/uf_Q_3_3.txt\n",
      "[0.0, 185.88787151406063, 8.7945483209e11]\n",
      "Query: c:\\Users\\diand\\OneDrive\\Desktop\\Cardinality-with-Colors/queryset/aids/Flower_6/uf_Q_3_4.txt\n",
      "[0.0, 1.744159049788563, 5.71707198e9]\n"
     ]
    },
    {
     "name": "stdout",
     "output_type": "stream",
     "text": [
      "Query: c:\\Users\\diand\\OneDrive\\Desktop\\Cardinality-with-Colors/queryset/aids/Flower_6/uf_Q_3_5.txt\n",
      "[0.0, 809.0349505358748, 2.586295530925e12]\n",
      "Query: c:\\Users\\diand\\OneDrive\\Desktop\\Cardinality-with-Colors/queryset/aids/Flower_6/uf_Q_3_6.txt\n"
     ]
    },
    {
     "name": "stdout",
     "output_type": "stream",
     "text": [
      "[0.0, 809.0349505358748, 2.586295530925e12]\n",
      "Query: c:\\Users\\diand\\OneDrive\\Desktop\\Cardinality-with-Colors/queryset/aids/Flower_6/uf_Q_3_7.txt\n"
     ]
    },
    {
     "name": "stdout",
     "output_type": "stream",
     "text": [
      "[0.0, 809.0349505358748, 3.401940664219e12]\n",
      "Query: c:\\Users\\diand\\OneDrive\\Desktop\\Cardinality-with-Colors/queryset/aids/Flower_6/uf_Q_3_8.txt\n"
     ]
    },
    {
     "name": "stdout",
     "output_type": "stream",
     "text": [
      "[0.0, 4066.492564880666, 1.1471774399565e13]\n",
      "Query: c:\\Users\\diand\\OneDrive\\Desktop\\Cardinality-with-Colors/queryset/aids/Flower_6/uf_Q_3_9.txt\n"
     ]
    },
    {
     "name": "stdout",
     "output_type": "stream",
     "text": [
      "[0.0, 809.0349505358748, 3.401940664219e12]\n",
      "Query: c:\\Users\\diand\\OneDrive\\Desktop\\Cardinality-with-Colors/queryset/aids/Flower_6/uf_Q_4_1.txt\n"
     ]
    },
    {
     "name": "stdout",
     "output_type": "stream",
     "text": [
      "[0.0, 913.8975857500287, 4.475152544376e12]\n",
      "Query: c:\\Users\\diand\\OneDrive\\Desktop\\Cardinality-with-Colors/queryset/aids/Flower_6/uf_Q_4_2.txt"
     ]
    },
    {
     "name": "stdout",
     "output_type": "stream",
     "text": [
      "\n",
      "[0.0, 913.8975857500287, 3.31295706651e12]\n",
      "Query: c:\\Users\\diand\\OneDrive\\Desktop\\Cardinality-with-Colors/queryset/aids/Flower_6/uf_Q_4_3.txt"
     ]
    },
    {
     "name": "stdout",
     "output_type": "stream",
     "text": [
      "\n",
      "[0.0, 943.7749525395515, 1.828256241902e12]\n",
      "Query: c:\\Users\\diand\\OneDrive\\Desktop\\Cardinality-with-Colors/queryset/aids/Flower_6/uf_Q_4_4.txt"
     ]
    },
    {
     "name": "stdout",
     "output_type": "stream",
     "text": [
      "\n",
      "[0.0, 684.9444102344928, 3.401940664219e12]\n",
      "Query: c:\\Users\\diand\\OneDrive\\Desktop\\Cardinality-with-Colors/queryset/aids/Flower_6/uf_Q_4_5.txt"
     ]
    },
    {
     "name": "stdout",
     "output_type": "stream",
     "text": [
      "\n",
      "[0.0, 159.35531420133896, 8.7945483209e11]\n",
      "Query: c:\\Users\\diand\\OneDrive\\Desktop\\Cardinality-with-Colors/queryset/aids/Flower_6/uf_Q_4_6.txt\n"
     ]
    },
    {
     "name": "stdout",
     "output_type": "stream",
     "text": [
      "[0.0, 943.7749525395515, 1.828256241902e12]\n",
      "Query: c:\\Users\\diand\\OneDrive\\Desktop\\Cardinality-with-Colors/queryset/aids/Flower_6/uf_Q_5_1.txt"
     ]
    },
    {
     "name": "stdout",
     "output_type": "stream",
     "text": [
      "\n",
      "[0.0, 842.5053409360091, 2.112278360853e12]\n",
      "Query: c:\\Users\\diand\\OneDrive\\Desktop\\Cardinality-with-Colors/queryset/aids/Flower_6/uf_Q_5_2.txt\n"
     ]
    },
    {
     "name": "stdout",
     "output_type": "stream",
     "text": [
      "[0.0, 842.5053409360087, 3.574513069785e12]\n",
      "Query: c:\\Users\\diand\\OneDrive\\Desktop\\Cardinality-with-Colors/queryset/aids/Flower_6/uf_Q_5_3.txt\n"
     ]
    },
    {
     "name": "stdout",
     "output_type": "stream",
     "text": [
      "[0.0, 263.14419324501523, 2.095861372808e12]\n",
      "Query: c:\\Users\\diand\\OneDrive\\Desktop\\Cardinality-with-Colors/queryset/aids/Flower_6/uf_Q_5_4.txt\n"
     ]
    },
    {
     "name": "stdout",
     "output_type": "stream",
     "text": [
      "[0.0, 2050.799569810197, 1.614488507947e12]\n",
      "Query: c:\\Users\\diand\\OneDrive\\Desktop\\Cardinality-with-Colors/queryset/aids/Flower_6/uf_Q_5_5.txt"
     ]
    },
    {
     "name": "stdout",
     "output_type": "stream",
     "text": [
      "\n",
      "[0.0, 263.14419324501523, 2.095861372808e12]\n",
      "Query: c:\\Users\\diand\\OneDrive\\Desktop\\Cardinality-with-Colors/queryset/aids/Flower_9/uf_Q_1_2.txt\n",
      "[0.0, 0.0009269017005997276, 1.26429095936e11]"
     ]
    },
    {
     "name": "stdout",
     "output_type": "stream",
     "text": [
      "\n",
      "Query: c:\\Users\\diand\\OneDrive\\Desktop\\Cardinality-with-Colors/queryset/aids/Flower_9/uf_Q_2_1.txt\n",
      "[0.0, 0.003682164343140911, 1.9586287494144e13]\n",
      "Query: c:\\Users\\diand\\OneDrive\\Desktop\\Cardinality-with-Colors/queryset/aids/Flower_9/uf_Q_2_2.txt\n",
      "[0.0, 0.1038294536617689"
     ]
    },
    {
     "name": "stdout",
     "output_type": "stream",
     "text": [
      ", 9.882183828244e12]\n",
      "Query: c:\\Users\\diand\\OneDrive\\Desktop\\Cardinality-with-Colors/queryset/aids/Flower_9/uf_Q_2_4.txt\n",
      "[0.0, 0.0031876288308043056, 2.150850704274e12]\n",
      "Query: c:\\Users\\diand\\OneDrive\\Desktop\\Cardinality-with-Colors/queryset/aids/Flower_9/uf_Q_3_1.txt\n"
     ]
    },
    {
     "name": "stdout",
     "output_type": "stream",
     "text": [
      "[0.0, 0.43007371392150906, 3.0143347225583e13]\n",
      "Query: c:\\Users\\diand\\OneDrive\\Desktop\\Cardinality-with-Colors/queryset/aids/Flower_9/uf_Q_3_10.txt\n"
     ]
    },
    {
     "name": "stdout",
     "output_type": "stream",
     "text": [
      "[0.0, 0.14390656957987366, 1.8870753927744e13]\n",
      "Query: c:\\Users\\diand\\OneDrive\\Desktop\\Cardinality-with-Colors/queryset/aids/Flower_9/uf_Q_3_2.txt\n",
      "[0.0, 0.21738518490079858, 1.291499365728e13]\n",
      "Query: c:\\Users\\diand\\OneDrive\\Desktop\\Cardinality-with-Colors/queryset/aids/Flower_9/uf_Q_3_3.txt\n"
     ]
    },
    {
     "name": "stdout",
     "output_type": "stream",
     "text": [
      "[0.0, 8040.347685035867, 1.5350111905489875e17]\n",
      "Query: c:\\Users\\diand\\OneDrive\\Desktop\\Cardinality-with-Colors/queryset/aids/Flower_9/uf_Q_3_4.txt\n"
     ]
    },
    {
     "name": "stdout",
     "output_type": "stream",
     "text": [
      "[0.0, 801.2243489330349, 3.0317379565752504e16]\n",
      "Query: c:\\Users\\diand\\OneDrive\\Desktop\\Cardinality-with-Colors/queryset/aids/Flower_9/uf_Q_3_5.txt\n",
      "[0.0, 0.28898619212316984, 5.4697845319875e13]\n",
      "Query: "
     ]
    },
    {
     "name": "stdout",
     "output_type": "stream",
     "text": [
      "c:\\Users\\diand\\OneDrive\\Desktop\\Cardinality-with-Colors/queryset/aids/Flower_9/uf_Q_3_6.txt\n",
      "[0.0, 475.57520392077464, 2.6873660274392164e16]\n",
      "Query: c:\\Users\\diand\\OneDrive\\Desktop\\Cardinality-with-Colors/queryset/aids/Flower_9/uf_Q_3_7.txt\n",
      "[0.0, 2.1009547450314057, 1.68225980922e11]\n",
      "Query: c:\\Users\\diand\\OneDrive\\Desktop\\Cardinality-with-Colors/queryset/aids/Flower_9/uf_Q_3_8.txt\n",
      "[0.0, 1.4114061460620686"
     ]
    },
    {
     "name": "stdout",
     "output_type": "stream",
     "text": [
      ", 1.518513214554e12]\n",
      "Query: c:\\Users\\diand\\OneDrive\\Desktop\\Cardinality-with-Colors/queryset/aids/Flower_9/uf_Q_3_9.txt\n"
     ]
    },
    {
     "name": "stdout",
     "output_type": "stream",
     "text": [
      "[0.0, 1968.5079925695532, 5.219919607097752e16]\n",
      "Query: c:\\Users\\diand\\OneDrive\\Desktop\\Cardinality-with-Colors/queryset/aids/Flower_9/uf_Q_4_1.txt\n"
     ]
    },
    {
     "name": "stdout",
     "output_type": "stream",
     "text": [
      "[0.0, 20963.820790743746, 5.4522448778694144e17]\n",
      "Query: c:\\Users\\diand\\OneDrive\\Desktop\\Cardinality-with-Colors/queryset/aids/Flower_9/uf_Q_4_10.txt\n",
      "[0.0, 4.102188116450758, 1.1023214493508e13]\n",
      "Query: c:\\Users\\diand\\OneDrive\\Desktop\\Cardinality-with-Colors/queryset/aids/Flower_9/uf_Q_4_11.txt"
     ]
    },
    {
     "name": "stdout",
     "output_type": "stream",
     "text": [
      "\n",
      "[0.0, 77.94689975261615, 7.411217514702185e15]\n",
      "Query: c:\\Users\\diand\\OneDrive\\Desktop\\Cardinality-with-Colors/queryset/aids/Flower_9/uf_Q_4_12.txt\n"
     ]
    },
    {
     "name": "stdout",
     "output_type": "stream",
     "text": [
      "[0.0, 1594.022297203231, 8.230779013474211e16]\n",
      "Query: c:\\Users\\diand\\OneDrive\\Desktop\\Cardinality-with-Colors/queryset/aids/Flower_9/uf_Q_4_2.txt\n"
     ]
    },
    {
     "name": "stdout",
     "output_type": "stream",
     "text": [
      "[0.0, 43.61778730307616, 4.7097002761714e13]\n",
      "Query: c:\\Users\\diand\\OneDrive\\Desktop\\Cardinality-with-Colors/queryset/aids/Flower_9/uf_Q_4_3.txt"
     ]
    },
    {
     "name": "stdout",
     "output_type": "stream",
     "text": [
      "\n",
      "[0.0, 1594.0222972032288, 8.230779013474251e16]\n",
      "Query: c:\\Users\\diand\\OneDrive\\Desktop\\Cardinality-with-Colors/queryset/aids/Flower_9/uf_Q_4_4.txt\n"
     ]
    },
    {
     "name": "stdout",
     "output_type": "stream",
     "text": [
      "[0.0, 2.001161848490467, 6.21783454436877e14]\n",
      "Query: c:\\Users\\diand\\OneDrive\\Desktop\\Cardinality-with-Colors/queryset/aids/Flower_9/uf_Q_4_5.txt\n",
      "[0.0, 11.996261075686965, 4.8659337145249e13]\n",
      "Query: c:\\Users\\diand\\OneDrive\\Desktop\\Cardinality-with-Colors/queryset/aids/Flower_9/uf_Q_4_6.txt"
     ]
    },
    {
     "name": "stdout",
     "output_type": "stream",
     "text": [
      "\n",
      "[0.0, 4.102188116450758, 1.1023214493508e13]\n",
      "Query: c:\\Users\\diand\\OneDrive\\Desktop\\Cardinality-with-Colors/queryset/aids/Flower_9/uf_Q_4_7.txt"
     ]
    },
    {
     "name": "stdout",
     "output_type": "stream",
     "text": [
      "\n",
      "[0.0, 0.12883843556769978, 1.8361244929545e13]\n",
      "Query: c:\\Users\\diand\\OneDrive\\Desktop\\Cardinality-with-Colors/queryset/aids/Flower_9/uf_Q_4_8.txt\n",
      "[0.0,"
     ]
    },
    {
     "name": "stdout",
     "output_type": "stream",
     "text": [
      " 2.160980693394185, 4.781422555532e13]\n",
      "Query: c:\\Users\\diand\\OneDrive\\Desktop\\Cardinality-with-Colors/queryset/aids/Flower_9/uf_Q_4_9.txt\n"
     ]
    },
    {
     "name": "stdout",
     "output_type": "stream",
     "text": [
      "[0.0, 3616.1408072090144, 6.66528666168784e16]\n",
      "Query: c:\\Users\\diand\\OneDrive\\Desktop\\Cardinality-with-Colors/queryset/aids/Flower_9/uf_Q_5_1.txt"
     ]
    },
    {
     "name": "stdout",
     "output_type": "stream",
     "text": [
      "\n",
      "[0.0, 61.269388553927925, 3.119939269311549e15]\n",
      "Query: c:\\Users\\diand\\OneDrive\\Desktop\\Cardinality-with-Colors/queryset/aids/Flower_9/uf_Q_5_10.txt\n"
     ]
    },
    {
     "name": "stdout",
     "output_type": "stream",
     "text": [
      "[0.0, 57.442110599519985, 2.997037970721566e15]\n",
      "Query: c:\\Users\\diand\\OneDrive\\Desktop\\Cardinality-with-Colors/queryset/aids/Flower_9/uf_Q_5_11.txt\n"
     ]
    },
    {
     "name": "stdout",
     "output_type": "stream",
     "text": [
      "[0.0, 239.66828702764644, 1.456484858880523e15]\n",
      "Query: c:\\Users\\diand\\OneDrive\\Desktop\\Cardinality-with-Colors/queryset/aids/Flower_9/uf_Q_5_2.txt\n",
      "[0.0, 50.87310962535374, 3.3243183488549e14]\n",
      "Query: c:\\Users\\diand\\OneDrive\\Desktop\\Cardinality-with-Colors/queryset/aids/Flower_9/uf_Q_5_3.txt"
     ]
    },
    {
     "name": "stdout",
     "output_type": "stream",
     "text": [
      "\n",
      "[0.0, 61.269388553927925, 2.343674605078297e15]\n",
      "Query: "
     ]
    },
    {
     "name": "stdout",
     "output_type": "stream",
     "text": [
      "c:\\Users\\diand\\OneDrive\\Desktop\\Cardinality-with-Colors/queryset/aids/Flower_9/uf_Q_5_4.txt\n",
      "[0.0, 14537.303478820655, 3.843390073897023e17]\n",
      "Query: c:\\Users\\diand\\OneDrive\\Desktop\\Cardinality-with-Colors/queryset/aids/Flower_9/uf_Q_5_5.txt\n"
     ]
    },
    {
     "name": "stdout",
     "output_type": "stream",
     "text": [
      "[0.0, 440.0258585506211, 1.8197621178010064e16]\n",
      "Query: c:\\Users\\diand\\OneDrive\\Desktop\\Cardinality-with-Colors/queryset/aids/Flower_9/uf_Q_5_6.txt\n"
     ]
    },
    {
     "name": "stdout",
     "output_type": "stream",
     "text": [
      "[0.0, 12192.826823548598, 2.2530921985482736e17]\n",
      "Query: c:\\Users\\diand\\OneDrive\\Desktop\\Cardinality-with-Colors/queryset/aids/Flower_9/uf_Q_5_7.txt\n"
     ]
    },
    {
     "name": "stdout",
     "output_type": "stream",
     "text": [
      "[0.0, 14537.303478820655, 3.843390073897023e17]\n",
      "Query: c:\\Users\\diand\\OneDrive\\Desktop\\Cardinality-with-Colors/queryset/aids/Flower_9/uf_Q_5_8.txt\n"
     ]
    },
    {
     "name": "stdout",
     "output_type": "stream",
     "text": [
      "[0.0, 2350.9529131203262, 1.3334036814646501e17]\n",
      "Query: c:\\Users\\diand\\OneDrive\\Desktop\\Cardinality-with-Colors/queryset/aids/Flower_9/uf_Q_5_9.txt"
     ]
    },
    {
     "name": "stdout",
     "output_type": "stream",
     "text": [
      "\n",
      "[0.0, 14537.303478820655, 3.843390073897023e17]\n",
      "Query: c:\\Users\\diand\\OneDrive\\Desktop\\Cardinality-with-Colors/queryset/aids/Flower_12/uf_Q_3_1.txt\n"
     ]
    },
    {
     "name": "stdout",
     "output_type": "stream",
     "text": [
      "[0.0, 81.14477043251102, 1.7176268708392306e21]\n"
     ]
    },
    {
     "name": "stdout",
     "output_type": "stream",
     "text": [
      "Query: c:\\Users\\diand\\OneDrive\\Desktop\\Cardinality-with-Colors/queryset/aids/Flower_12/uf_Q_4_1.txt\n"
     ]
    },
    {
     "name": "stdout",
     "output_type": "stream",
     "text": [
      "[0.0, 114.65504267363332, 2.222218906814959e21]\n",
      "Query: c:\\Users\\diand\\OneDrive\\Desktop\\Cardinality-with-Colors/queryset/aids/Flower_12/uf_Q_4_2.txt\n"
     ]
    },
    {
     "name": "stdout",
     "output_type": "stream",
     "text": [
      "[0.0, 93.7529842541201, 2.0169095417263796e21]\n",
      "Query: c:\\Users\\diand\\OneDrive\\Desktop\\Cardinality-with-Colors/queryset/aids/Flower_12/uf_Q_4_3.txt\n"
     ]
    },
    {
     "name": "stdout",
     "output_type": "stream",
     "text": [
      "[0.0, 185.59693768073043, 2.1683260257795116e21]\n",
      "Query: c:\\Users\\diand\\OneDrive\\Desktop\\Cardinality-with-Colors/queryset/aids/Flower_12/uf_Q_4_4.txt"
     ]
    },
    {
     "name": "stdout",
     "output_type": "stream",
     "text": [
      "\n",
      "[0.0, 0.0019832666565653347, 5.44946500576574e15]\n",
      "Query: c:\\Users\\diand\\OneDrive\\Desktop\\Cardinality-with-Colors/queryset/aids/Flower_12/uf_Q_4_5.txt\n"
     ]
    },
    {
     "name": "stdout",
     "output_type": "stream",
     "text": [
      "[0.0, 17.29396232154074, 4.913119399619373e18]\n",
      "Query: c:\\Users\\diand\\OneDrive\\Desktop\\Cardinality-with-Colors/queryset/aids/Flower_12/uf_Q_4_6.txt\n"
     ]
    },
    {
     "name": "stdout",
     "output_type": "stream",
     "text": [
      "[0.0, 0.0062686160806379185, 5.645951715973445e16]\n",
      "Query: c:\\Users\\diand\\OneDrive\\Desktop\\Cardinality-with-Colors/queryset/aids/Flower_12/uf_Q_4_7.txt"
     ]
    },
    {
     "name": "stdout",
     "output_type": "stream",
     "text": [
      "\n",
      "[0.0, 0.00882206853192661, 3.456668392489205e17]\n",
      "Query: c:\\Users\\diand\\OneDrive\\Desktop\\Cardinality-with-Colors/queryset/aids/Flower_12/uf_Q_5_1.txt"
     ]
    },
    {
     "name": "stdout",
     "output_type": "stream",
     "text": [
      "\n",
      "[0.0, 40.47737923399775, 1.6406638298548803e21]\n",
      "Query: c:\\Users\\diand\\OneDrive\\Desktop\\Cardinality-with-Colors/queryset/aids/Flower_12/uf_Q_5_2.txt"
     ]
    },
    {
     "name": "stdout",
     "output_type": "stream",
     "text": [
      "\n",
      "[0.0, 721.0672495284025, 6.497711947935244e21]\n",
      "Query: c:\\Users\\diand\\OneDrive\\Desktop\\Cardinality-with-Colors/queryset/aids/Flower_12/uf_Q_5_3.txt"
     ]
    },
    {
     "name": "stdout",
     "output_type": "stream",
     "text": [
      "\n",
      "[0.0, 795.5542101134931, 4.6814545701595015e21]\n",
      "Query: c:\\Users\\diand\\OneDrive\\Desktop\\Cardinality-with-Colors/queryset/aids/Flower_12/uf_Q_5_4.txt"
     ]
    },
    {
     "name": "stdout",
     "output_type": "stream",
     "text": [
      "\n",
      "[0.0, 1.084067102061464, 1.6383681086215157e20]\n",
      "Query: c:\\Users\\diand\\OneDrive\\Desktop\\Cardinality-with-Colors/queryset/aids/Flower_12/uf_Q_5_5.txt\n"
     ]
    },
    {
     "name": "stdout",
     "output_type": "stream",
     "text": [
      "[0.0, 2.8203906956754414, 3.539653729940952e17]\n",
      "Query: c:\\Users\\diand\\OneDrive\\Desktop\\Cardinality-with-Colors/queryset/aids/Flower_12/uf_Q_5_6.txt\n"
     ]
    },
    {
     "name": "stdout",
     "output_type": "stream",
     "text": [
      "[0.0, 850.3769123297739, 3.941580763471131e21]\n",
      "Query: c:\\Users\\diand\\OneDrive\\Desktop\\Cardinality-with-Colors/queryset/aids/Flower_12/uf_Q_5_7.txt\n"
     ]
    },
    {
     "name": "stdout",
     "output_type": "stream",
     "text": [
      "[0.0, 534.9181154653749, 2.9904013036333003e21]\n",
      "Query: c:\\Users\\diand\\OneDrive\\Desktop\\Cardinality-with-Colors/queryset/aids/Flower_12/uf_Q_5_8.txt"
     ]
    },
    {
     "name": "stdout",
     "output_type": "stream",
     "text": [
      "\n",
      "[0.0, 1040.069845267024, 5.867872009475695e21]\n",
      "Query: c:\\Users\\diand\\OneDrive\\Desktop\\Cardinality-with-Colors/queryset/aids/Flower_12/uf_Q_5_9.txt"
     ]
    },
    {
     "name": "stdout",
     "output_type": "stream",
     "text": [
      "\n",
      "[0.0, 48.59189941274371, 1.572867169023624e21]\n",
      "Query: c:\\Users\\diand\\OneDrive\\Desktop\\Cardinality-with-Colors/queryset/aids/Graph_3/uf_Q_0_1.txt\n",
      "[0.0, 0.9003658536585366, 89847.0]\n",
      "Query: c:\\Users\\diand\\OneDrive\\Desktop\\Cardinality-with-Colors/queryset/aids/Graph_3/uf_Q_0_3.txt\n",
      "[0.0, 3.925668786845363, 178119.0]\n",
      "Query: c:\\Users\\diand\\OneDrive\\Desktop\\Cardinality-with-Colors/queryset/aids/Graph_3/uf_Q_1_1.txt\n",
      "[0.0, 29.166666666666668, 958734.0]\n",
      "Query: c:\\Users\\diand\\OneDrive\\Desktop\\Cardinality-with-Colors/queryset/aids/Graph_3/uf_Q_1_11.txt\n",
      "[0.0, 30.0, 958734.0]\n",
      "Query: c:\\Users\\diand\\OneDrive\\Desktop\\Cardinality-with-Colors/queryset/aids/Graph_3/uf_Q_1_12.txt\n",
      "[0.0, 58.06851371457564, 5.482304e6]\n",
      "Query: c:\\Users\\diand\\OneDrive\\Desktop\\Cardinality-with-Colors/queryset/aids/Graph_3/uf_Q_1_13.txt\n",
      "[0.0, 17.792721518987342, 1.219801e6]\n",
      "Query: c:\\Users\\diand\\OneDrive\\Desktop\\Cardinality-with-Colors/queryset/aids/Graph_3/uf_Q_1_14.txt\n",
      "[0.0, 22.5, 1.228986e6]\n",
      "Query: c:\\Users\\diand\\OneDrive\\Desktop\\Cardinality-with-Colors/queryset/aids/Graph_3/uf_Q_1_16.txt\n"
     ]
    },
    {
     "name": "stdout",
     "output_type": "stream",
     "text": [
      "[0.0, 41.79828628189471, 5.669348e6]\n",
      "Query: c:\\Users\\diand\\OneDrive\\Desktop\\Cardinality-with-Colors/queryset/aids/Graph_3/uf_Q_1_17.txt\n",
      "[0.0, 42.74059139784946, 3.634746e6]\n",
      "Query: c:\\Users\\diand\\OneDrive\\Desktop\\Cardinality-with-Colors/queryset/aids/Graph_3/uf_Q_1_18.txt\n",
      "[0.0, 58.06851371457564, 5.482304e6]\n",
      "Query: c:\\Users\\diand\\OneDrive\\Desktop\\Cardinality-with-Colors/queryset/aids/Graph_3/uf_Q_1_19.txt\n",
      "[0.0, 53.86745656172239, 4.366032e6]\n",
      "Query: c:\\Users\\diand\\OneDrive\\Desktop\\Cardinality-with-Colors/queryset/aids/Graph_3/uf_Q_1_2.txt\n",
      "[0.0, 12.885515493734149, 798665.0]\n",
      "Query: c:\\Users\\diand\\OneDrive\\Desktop\\Cardinality-with-Colors/queryset/aids/Graph_3/uf_Q_1_3.txt\n",
      "[0.0, 9.581128205128204, 2.640061e6]\n",
      "Query: c:\\Users\\diand\\OneDrive\\Desktop\\Cardinality-with-Colors/queryset/aids/Graph_3/uf_Q_1_5.txt\n"
     ]
    },
    {
     "name": "stdout",
     "output_type": "stream",
     "text": [
      "[0.0, 29.81172517012592, 1.594592e6]\n",
      "Query: c:\\Users\\diand\\OneDrive\\Desktop\\Cardinality-with-Colors/queryset/aids/Graph_3/uf_Q_1_6.txt\n",
      "[0.0, 9.581128205128204, 2.640061e6]\n",
      "Query: c:\\Users\\diand\\OneDrive\\Desktop\\Cardinality-with-Colors/queryset/aids/Graph_3/uf_Q_1_7.txt\n",
      "[0.0, 6.675271739130435, 225212.0]\n",
      "Query: c:\\Users\\diand\\OneDrive\\Desktop\\Cardinality-with-Colors/queryset/aids/Graph_3/uf_Q_1_8.txt\n",
      "[0.0, 42.74059139784946, 3.634746e6]\n",
      "Query: c:\\Users\\diand\\OneDrive\\Desktop\\Cardinality-with-Colors/queryset/aids/Graph_3/uf_Q_1_9.txt\n",
      "[0.0, 8.589509692132268, 207552.0]\n",
      "Query: c:\\Users\\diand\\OneDrive\\Desktop\\Cardinality-with-Colors/queryset/aids/Graph_3/uf_Q_2_1.txt"
     ]
    },
    {
     "name": "stdout",
     "output_type": "stream",
     "text": [
      "\n",
      "[0.0, 25563.088374239876, 9.756604e7]\n",
      "Query: c:\\Users\\diand\\OneDrive\\Desktop\\Cardinality-with-Colors/queryset/aids/Graph_3/uf_Q_2_10.txt\n",
      "[0.0, 237.9357099679945, 4.469571e6]\n",
      "Query: c:\\Users\\diand\\OneDrive\\Desktop\\Cardinality-with-Colors/queryset/aids/Graph_3/uf_Q_2_11.txt\n",
      "[0.0, 192.2907032821313, 8.377639e6]\n",
      "Query: c:\\Users\\diand\\OneDrive\\Desktop\\Cardinality-with-Colors/queryset/aids/Graph_3/uf_Q_2_12.txt\n",
      "[0.0, 556.0311508279382, 1.1584915e7]\n",
      "Query: c:\\Users\\diand\\OneDrive\\Desktop\\Cardinality-with-Colors/queryset/aids/Graph_3/uf_Q_2_5.txt\n",
      "[0.0, 62.86522633701691, 7.342845e6]\n",
      "Query: c:\\Users\\diand\\OneDrive\\Desktop\\Cardinality-with-Colors/queryset/aids/Graph_3/uf_Q_2_8.txt\n",
      "[0.0, 384.3902408356008, 2.5892053e7]\n",
      "Query: c:\\Users\\diand\\OneDrive\\Desktop\\Cardinality-with-Colors/queryset/aids/Graph_3/uf_Q_2_9.txt\n"
     ]
    },
    {
     "name": "stdout",
     "output_type": "stream",
     "text": [
      "[0.0, 556.0311508279382, 1.1584915e7]\n",
      "Query: c:\\Users\\diand\\OneDrive\\Desktop\\Cardinality-with-Colors/queryset/aids/Graph_3/uf_Q_3_1.txt\n",
      "[0.0, 1402.9481101339043,"
     ]
    },
    {
     "name": "stdout",
     "output_type": "stream",
     "text": [
      " 6.109818e6]\n",
      "Query: c:\\Users\\diand\\OneDrive\\Desktop\\Cardinality-with-Colors/queryset/aids/Graph_3/uf_Q_3_11.txt\n",
      "[0.0, 1402.9481101339043, 6.109818e6]\n",
      "Query: c:\\Users\\diand\\OneDrive\\Desktop\\Cardinality-with-Colors/queryset/aids/Graph_3/uf_Q_3_12.txt\n",
      "[0.0, 1700.5903340180203, 9.246852e6]\n",
      "Query: c:\\Users\\diand\\OneDrive\\Desktop\\Cardinality-with-Colors/queryset/aids/Graph_3/uf_Q_3_13.txt\n",
      "[0.0, 1700.5903340180203, 9.246852e6]\n",
      "Query: c:\\Users\\diand\\OneDrive\\Desktop\\Cardinality-with-Colors/queryset/aids/Graph_3/uf_Q_3_2.txt\n",
      "[0.0, 1402.9481101339043, 6.109818e6]\n",
      "Query: c:\\Users\\diand\\OneDrive\\Desktop\\Cardinality-with-Colors/queryset/aids/Graph_3/uf_Q_3_3.txt\n"
     ]
    },
    {
     "name": "stdout",
     "output_type": "stream",
     "text": [
      "[0.0, 187967.23092897044, 2.15065388e8]\n",
      "Query: c:\\Users\\diand\\OneDrive\\Desktop\\Cardinality-with-Colors/queryset/aids/Graph_3/uf_Q_3_4.txt"
     ]
    },
    {
     "name": "stdout",
     "output_type": "stream",
     "text": [
      "\n",
      "[0.0, 187967.23092897044, 2.15065388e8]\n",
      "Query: c:\\Users\\diand\\OneDrive\\Desktop\\Cardinality-with-Colors/queryset/aids/Graph_3/uf_Q_3_5.txt"
     ]
    },
    {
     "name": "stdout",
     "output_type": "stream",
     "text": [
      "\n",
      "[0.0, 187967.23092897044, 2.15065388e8]\n",
      "Query: c:\\Users\\diand\\OneDrive\\Desktop\\Cardinality-with-Colors/queryset/aids/Graph_3/uf_Q_3_7.txt"
     ]
    },
    {
     "name": "stdout",
     "output_type": "stream",
     "text": [
      "\n",
      "[0.0, 187967.23092897044, 2.15065388e8]\n",
      "Query: c:\\Users\\diand\\OneDrive\\Desktop\\Cardinality-with-Colors/queryset/aids/Graph_3/uf_Q_3_8.txt\n"
     ]
    },
    {
     "name": "stdout",
     "output_type": "stream",
     "text": [
      "[0.0, 187967.23092897044, 2.15065388e8]\n",
      "Query: "
     ]
    },
    {
     "name": "stdout",
     "output_type": "stream",
     "text": [
      "c:\\Users\\diand\\OneDrive\\Desktop\\Cardinality-with-Colors/queryset/aids/Graph_3/uf_Q_3_9.txt\n",
      "[0.0, 187967.23092897044, 2.15065388e8]\n",
      "Query: c:\\Users\\diand\\OneDrive\\Desktop\\Cardinality-with-Colors/queryset/aids/Graph_3/uf_Q_4_1.txt\n",
      "[0.0, 95477.61975781924, 1.798176462e9]\n",
      "Query: c:\\Users\\diand\\OneDrive\\Desktop\\Cardinality-with-Colors/queryset/aids/Graph_3/uf_Q_4_10.txt\n",
      "[0.0, 80493.39876984623, 2.07877789e9]\n",
      "Query: c:\\Users\\diand\\OneDrive\\Desktop\\Cardinality-with-Colors/queryset/aids/Graph_3/uf_Q_4_11.txt\n",
      "[0.0, 8321.565464862086, 5.6065594e7]\n",
      "Query: c:\\Users\\diand\\OneDrive\\Desktop\\Cardinality-with-Colors/queryset/aids/Graph_3/uf_Q_4_17.txt\n",
      "["
     ]
    },
    {
     "name": "stdout",
     "output_type": "stream",
     "text": [
      "0.0, 95477.61975781924, 1.798176462e9]\n",
      "Query: c:\\Users\\diand\\OneDrive\\Desktop\\Cardinality-with-Colors/queryset/aids/Graph_3/uf_Q_4_6.txt\n",
      "[0.0, 80493.3987698463, 3.07759392e9]\n",
      "Query: c:\\Users\\diand\\OneDrive\\Desktop\\Cardinality-with-Colors/queryset/aids/Graph_3/uf_Q_4_9.txt\n",
      "[0.0, 80493.3987698463, 3.07759392e9]\n",
      "Query: c:\\Users\\diand\\OneDrive\\Desktop\\Cardinality-with-Colors/queryset/aids/Graph_3/uf_Q_5_1.txt\n",
      "[0.0, 259135.55814302576, 1.629564246e9]\n",
      "Query: c:\\Users\\diand\\OneDrive\\Desktop\\Cardinality-with-Colors/queryset/aids/Graph_6/uf_Q_0_1.txt\n",
      "[0.0, 0.8132337887733981, 8.67052753e9]\n"
     ]
    },
    {
     "name": "stdout",
     "output_type": "stream",
     "text": [
      "Query: c:\\Users\\diand\\OneDrive\\Desktop\\Cardinality-with-Colors/queryset/aids/Graph_6/uf_Q_1_7.txt\n",
      "[0.0, 0.0018313210812372438, 1.917468e7]\n",
      "Query: c:\\Users\\diand\\OneDrive\\Desktop\\Cardinality-with-Colors/queryset/aids/Graph_6/uf_Q_3_1.txt\n",
      "[0.0, 317.1882627036923, 5.5602376206e10]\n",
      "Query: c:\\Users\\diand\\OneDrive\\Desktop\\Cardinality-with-Colors/queryset/aids/Graph_6/uf_Q_3_2.txt\n",
      "[0.0, 107.85266417375352, 1.28196586546e11]\n",
      "Query: c:\\Users\\diand\\OneDrive\\Desktop\\Cardinality-with-Colors/queryset/aids/Graph_6/uf_Q_3_8.txt\n"
     ]
    },
    {
     "name": "stdout",
     "output_type": "stream",
     "text": [
      "[0.0, 219.4391808724129, 8.25879470683e11]\n",
      "Query: c:\\Users\\diand\\OneDrive\\Desktop\\Cardinality-with-Colors/queryset/aids/Graph_6/uf_Q_4_1.txt\n",
      "[0.0, 45961.83174878104, 2.0210644839644e13]\n",
      "Query: c:\\Users\\diand\\OneDrive\\Desktop\\Cardinality-with-Colors/queryset/aids/Graph_6/uf_Q_4_18.txt\n",
      "[0.0, 29.19350865842482, 2.793472002e9]\n",
      "Query: c:\\Users\\diand\\OneDrive\\Desktop\\Cardinality-with-Colors/queryset/aids/Graph_6/uf_Q_4_2.txt\n"
     ]
    },
    {
     "name": "stdout",
     "output_type": "stream",
     "text": [
      "[0.0, 303043.45479237224, 2.12845436122e11]\n",
      "Query: c:\\Users\\diand\\OneDrive\\Desktop\\Cardinality-with-Colors/queryset/aids/Graph_6/uf_Q_4_3.txt\n"
     ]
    },
    {
     "name": "stdout",
     "output_type": "stream",
     "text": [
      "[0.0, 434548.34839773754, 7.62690082658e12]\n",
      "Query: c:\\Users\\diand\\OneDrive\\Desktop\\Cardinality-with-Colors/queryset/aids/Graph_6/uf_Q_4_4.txt\n"
     ]
    },
    {
     "name": "stdout",
     "output_type": "stream",
     "text": [
      "[0.0, 110351.83710481442, 4.910649520157e12]\n",
      "Query: c:\\Users\\diand\\OneDrive\\Desktop\\Cardinality-with-Colors/queryset/aids/Graph_6/uf_Q_5_1.txt\n",
      "[0.0, 9317.390424392972, 5.882111026946e12]\n",
      "Query: c:\\Users\\diand\\OneDrive\\Desktop\\Cardinality-with-Colors/queryset/aids/Graph_6/uf_Q_5_10.txt"
     ]
    },
    {
     "name": "stdout",
     "output_type": "stream",
     "text": [
      "\n",
      "[0.0, 899524.8318759409, 9.238757444514e12]\n",
      "Query: c:\\Users\\diand\\OneDrive\\Desktop\\Cardinality-with-Colors/queryset/aids/Graph_6/uf_Q_5_14.txt\n",
      "[0.0, 635198.5062717138, 1.295094842735e14]\n",
      "Query: c:\\Users\\diand\\OneDrive\\Desktop\\Cardinality-with-Colors/queryset/aids/Graph_6/uf_Q_5_3.txt"
     ]
    },
    {
     "name": "stdout",
     "output_type": "stream",
     "text": [
      "\n",
      "[0.0, 579705.212969243, 7.62690082658e12]\n",
      "Query: c:\\Users\\diand\\OneDrive\\Desktop\\Cardinality-with-Colors/queryset/aids/Graph_6/uf_Q_5_4.txt"
     ]
    },
    {
     "name": "stdout",
     "output_type": "stream",
     "text": [
      "\n",
      "[0.0, 629529.5983312896, 1.036983663999e13]\n",
      "Query: c:\\Users\\diand\\OneDrive\\Desktop\\Cardinality-with-Colors/queryset/aids/Graph_9/uf_Q_0_1.txt\n",
      "[0.0, 7.72963439237142e-6, 4.2991616e10]\n",
      "Query: c:\\Users\\diand\\OneDrive\\Desktop\\Cardinality-with-Colors/queryset/aids/Graph_9/uf_Q_0_2.txt\n",
      "[0.0, 7.72963439237142e-6, 4.2991616e10]\n",
      "Query: c:\\Users\\diand\\OneDrive\\Desktop\\Cardinality-with-Colors/queryset/aids/Graph_9/uf_Q_1_3.txt\n",
      "[0.0, 58.788273528206766, 1.342314557693098e15]\n",
      "Query: c:\\Users\\diand\\OneDrive\\Desktop\\Cardinality-with-Colors/queryset/aids/Graph_12/uf_Q_0_1.txt\n",
      "[0.0, 8.487193741653505e-10, 1.375731712e12]\n",
      "Query: c:\\Users\\diand\\OneDrive\\Desktop\\Cardinality-with-Colors/queryset/aids/Petal_6/uf_Q_2_1.txt\n"
     ]
    },
    {
     "name": "stdout",
     "output_type": "stream",
     "text": [
      "[0.0, 1.1272455135229729, 1.36646810236e12]\n",
      "Query: c:\\Users\\diand\\OneDrive\\Desktop\\Cardinality-with-Colors/queryset/aids/Petal_6/uf_Q_2_2.txt\n"
     ]
    },
    {
     "name": "stdout",
     "output_type": "stream",
     "text": [
      "[0.0, 1.1272455135229729, 1.36646810236e12]\n",
      "Query: c:\\Users\\diand\\OneDrive\\Desktop\\Cardinality-with-Colors/queryset/aids/Petal_6/uf_Q_2_3.txt"
     ]
    },
    {
     "name": "stdout",
     "output_type": "stream",
     "text": [
      "\n",
      "[0.0, 1.127245513522966, 1.557175293467e12]\n",
      "Query: c:\\Users\\diand\\OneDrive\\Desktop\\Cardinality-with-Colors/queryset/aids/Petal_6/uf_Q_2_4.txt\n"
     ]
    },
    {
     "name": "stdout",
     "output_type": "stream",
     "text": [
      "[0.0, 1.1272455135229729, 1.36646810236e12]\n",
      "Query: c:\\Users\\diand\\OneDrive\\Desktop\\Cardinality-with-Colors/queryset/aids/Petal_6/uf_Q_2_5.txt\n"
     ]
    },
    {
     "name": "stdout",
     "output_type": "stream",
     "text": [
      "[0.0, 1.1272455135229729, 1.36646810236e12]\n",
      "Query: c:\\Users\\diand\\OneDrive\\Desktop\\Cardinality-with-Colors/queryset/aids/Petal_6/uf_Q_2_6.txt\n"
     ]
    },
    {
     "name": "stdout",
     "output_type": "stream",
     "text": [
      "[0.0, 1.1272455135229729, 1.36646810236e12]\n",
      "Query: c:\\Users\\diand\\OneDrive\\Desktop\\Cardinality-with-Colors/queryset/aids/Petal_6/uf_Q_2_7.txt"
     ]
    },
    {
     "name": "stdout",
     "output_type": "stream",
     "text": [
      "\n",
      "[0.0, 1.127245513522966, 1.557175293467e12]\n",
      "Query: c:\\Users\\diand\\OneDrive\\Desktop\\Cardinality-with-Colors/queryset/aids/Petal_6/uf_Q_2_8.txt"
     ]
    },
    {
     "name": "stdout",
     "output_type": "stream",
     "text": [
      "\n",
      "[0.0, 0.14017142013599032, 4.73750462716e11]\n",
      "Query: c:\\Users\\diand\\OneDrive\\Desktop\\Cardinality-with-Colors/queryset/aids/Petal_6/uf_Q_2_9.txt"
     ]
    },
    {
     "name": "stdout",
     "output_type": "stream",
     "text": [
      "\n",
      "[0.0, 0.12313723712202805, 1.174603002744e12]\n",
      "Query: c:\\Users\\diand\\OneDrive\\Desktop\\Cardinality-with-Colors/queryset/aids/Petal_6/uf_Q_3_1.txt\n"
     ]
    },
    {
     "name": "stdout",
     "output_type": "stream",
     "text": [
      "[0.0, 9.475559244589467, 4.138213977152e12]\n",
      "Query: c:\\Users\\diand\\OneDrive\\Desktop\\Cardinality-with-Colors/queryset/aids/Petal_6/uf_Q_3_10.txt\n"
     ]
    },
    {
     "name": "stdout",
     "output_type": "stream",
     "text": [
      "[0.0, 9.475559244589467, 4.138213977152e12]\n",
      "Query: c:\\Users\\diand\\OneDrive\\Desktop\\Cardinality-with-Colors/queryset/aids/Petal_6/uf_Q_3_11.txt\n"
     ]
    },
    {
     "name": "stdout",
     "output_type": "stream",
     "text": [
      "[0.0, 9.475559244589467, 4.138213977152e12]\n",
      "Query: c:\\Users\\diand\\OneDrive\\Desktop\\Cardinality-with-Colors/queryset/aids/Petal_6/uf_Q_3_12.txt\n"
     ]
    },
    {
     "name": "stdout",
     "output_type": "stream",
     "text": [
      "[0.0, 0.21327984258681532, 7.0913336316e10]\n",
      "Query: c:\\Users\\diand\\OneDrive\\Desktop\\Cardinality-with-Colors/queryset/aids/Petal_6/uf_Q_3_13.txt"
     ]
    },
    {
     "name": "stdout",
     "output_type": "stream",
     "text": [
      "\n",
      "[0.0, 9.475559244589467, 4.138213977152e12]\n",
      "Query: c:\\Users\\diand\\OneDrive\\Desktop\\Cardinality-with-Colors/queryset/aids/Petal_6/uf_Q_3_2.txt\n"
     ]
    },
    {
     "name": "stdout",
     "output_type": "stream",
     "text": [
      "[0.0, 0.21327984258681532, 7.0913336316e10]\n",
      "Query: c:\\Users\\diand\\OneDrive\\Desktop\\Cardinality-with-Colors/queryset/aids/Petal_6/uf_Q_3_3.txt"
     ]
    },
    {
     "name": "stdout",
     "output_type": "stream",
     "text": [
      "\n",
      "[0.0, 9.475559244589405, 3.997307138787e12]\n",
      "Query: c:\\Users\\diand\\OneDrive\\Desktop\\Cardinality-with-Colors/queryset/aids/Petal_6/uf_Q_3_4.txt\n"
     ]
    },
    {
     "name": "stdout",
     "output_type": "stream",
     "text": [
      "[0.0, 0.21327984258681476, 9.921595545e10]\n",
      "Query: c:\\Users\\diand\\OneDrive\\Desktop\\Cardinality-with-Colors/queryset/aids/Petal_6/uf_Q_3_5.txt"
     ]
    },
    {
     "name": "stdout",
     "output_type": "stream",
     "text": [
      "\n",
      "[0.0, 9.475559244589467, 4.138213977152e12]\n",
      "Query: c:\\Users\\diand\\OneDrive\\Desktop\\Cardinality-with-Colors/queryset/aids/Petal_6/uf_Q_3_6.txt\n"
     ]
    },
    {
     "name": "stdout",
     "output_type": "stream",
     "text": [
      "[0.0, 0.21327984258681532, 7.0913336316e10]\n",
      "Query: c:\\Users\\diand\\OneDrive\\Desktop\\Cardinality-with-Colors/queryset/aids/Petal_6/uf_Q_3_7.txt\n"
     ]
    },
    {
     "name": "stdout",
     "output_type": "stream",
     "text": [
      "[0.0, 9.475559244589405, 3.997307138787e12]\n",
      "Query: c:\\Users\\diand\\OneDrive\\Desktop\\Cardinality-with-Colors/queryset/aids/Petal_6/uf_Q_3_8.txt\n"
     ]
    },
    {
     "name": "stdout",
     "output_type": "stream",
     "text": [
      "[0.0, 9.475559244589405, 3.997307138787e12]\n",
      "Query: c:\\Users\\diand\\OneDrive\\Desktop\\Cardinality-with-Colors/queryset/aids/Petal_6/uf_Q_3_9.txt\n"
     ]
    },
    {
     "name": "stdout",
     "output_type": "stream",
     "text": [
      "[0.0, 9.475559244589467, 4.138213977152e12]\n",
      "Query: c:\\Users\\diand\\OneDrive\\Desktop\\Cardinality-with-Colors/queryset/aids/Petal_6/uf_Q_4_1.txt\n"
     ]
    },
    {
     "name": "stdout",
     "output_type": "stream",
     "text": [
      "[0.0, 0.5677450989995367, 1.174603002744e12]\n",
      "Query: c:\\Users\\diand\\OneDrive\\Desktop\\Cardinality-with-Colors/queryset/aids/Petal_6/uf_Q_4_10.txt\n"
     ]
    },
    {
     "name": "stdout",
     "output_type": "stream",
     "text": [
      "[0.0, 3.9108695857662092, 3.549332791609e12]\n",
      "Query: c:\\Users\\diand\\OneDrive\\Desktop\\Cardinality-with-Colors/queryset/aids/Petal_6/uf_Q_4_11.txt\n"
     ]
    },
    {
     "name": "stdout",
     "output_type": "stream",
     "text": [
      "[0.0, 3.9108695857662092, 3.549332791609e12]\n",
      "Query: "
     ]
    },
    {
     "name": "stdout",
     "output_type": "stream",
     "text": [
      "c:\\Users\\diand\\OneDrive\\Desktop\\Cardinality-with-Colors/queryset/aids/Petal_6/uf_Q_4_12.txt\n",
      "[0.0, 3.9108695857662106, 3.019309624453e12]\n",
      "Query: c:\\Users\\diand\\OneDrive\\Desktop\\Cardinality-with-Colors/queryset/aids/Petal_6/uf_Q_4_13.txt\n"
     ]
    },
    {
     "name": "stdout",
     "output_type": "stream",
     "text": [
      "[0.0, 3.9108695857662106, 3.019309624453e12]\n",
      "Query: c:\\Users\\diand\\OneDrive\\Desktop\\Cardinality-with-Colors/queryset/aids/Petal_6/uf_Q_4_14.txt"
     ]
    },
    {
     "name": "stdout",
     "output_type": "stream",
     "text": [
      "\n",
      "[0.0, 3.9108695857662092, 3.549332791609e12]\n",
      "Query: c:\\Users\\diand\\OneDrive\\Desktop\\Cardinality-with-Colors/queryset/aids/Petal_6/uf_Q_4_15.txt\n"
     ]
    },
    {
     "name": "stdout",
     "output_type": "stream",
     "text": [
      "[0.0, 3.9108695857662092, 3.549332791609e12]\n",
      "Query: c:\\Users\\diand\\OneDrive\\Desktop\\Cardinality-with-Colors/queryset/aids/Petal_6/uf_Q_4_16.txt\n"
     ]
    },
    {
     "name": "stdout",
     "output_type": "stream",
     "text": [
      "[0.0, 3.9108695857662092, 3.549332791609e12]\n",
      "Query: c:\\Users\\diand\\OneDrive\\Desktop\\Cardinality-with-Colors/queryset/aids/Petal_6/uf_Q_4_17.txt\n"
     ]
    },
    {
     "name": "stdout",
     "output_type": "stream",
     "text": [
      "[0.0, 3.9108695857662106, 3.019309624453e12]\n",
      "Query: c:\\Users\\diand\\OneDrive\\Desktop\\Cardinality-with-Colors/queryset/aids/Petal_6/uf_Q_4_18.txt\n"
     ]
    },
    {
     "name": "stdout",
     "output_type": "stream",
     "text": [
      "[0.0, 3.9108695857662092, 3.549332791609e12]\n",
      "Query: c:\\Users\\diand\\OneDrive\\Desktop\\Cardinality-with-Colors/queryset/aids/Petal_6/uf_Q_4_19.txt"
     ]
    },
    {
     "name": "stdout",
     "output_type": "stream",
     "text": [
      "\n",
      "[0.0, 3.9108695857661995, 2.513785581723e12]\n",
      "Query: c:\\Users\\diand\\OneDrive\\Desktop\\Cardinality-with-Colors/queryset/aids/Petal_6/uf_Q_4_2.txt\n"
     ]
    },
    {
     "name": "stdout",
     "output_type": "stream",
     "text": [
      "[0.0, 0.5677450989995367, 1.174603002744e12]\n",
      "Query: c:\\Users\\diand\\OneDrive\\Desktop\\Cardinality-with-Colors/queryset/aids/Petal_6/uf_Q_4_20.txt\n"
     ]
    },
    {
     "name": "stdout",
     "output_type": "stream",
     "text": [
      "[0.0, 0.5677450989995367, 1.174603002744e12]\n",
      "Query: c:\\Users\\diand\\OneDrive\\Desktop\\Cardinality-with-Colors/queryset/aids/Petal_6/uf_Q_4_3.txt"
     ]
    },
    {
     "name": "stdout",
     "output_type": "stream",
     "text": [
      "\n",
      "[0.0, 0.5677450989995367, 1.174603002744e12]\n",
      "Query: c:\\Users\\diand\\OneDrive\\Desktop\\Cardinality-with-Colors/queryset/aids/Petal_6/uf_Q_4_4.txt"
     ]
    },
    {
     "name": "stdout",
     "output_type": "stream",
     "text": [
      "\n",
      "[0.0, 0.5677450989995367, 1.174603002744e12]\n",
      "Query: c:\\Users\\diand\\OneDrive\\Desktop\\Cardinality-with-Colors/queryset/aids/Petal_6/uf_Q_4_5.txt\n"
     ]
    },
    {
     "name": "stdout",
     "output_type": "stream",
     "text": [
      "[0.0, 3.9108695857662106, 3.019309624453e12]\n",
      "Query: c:\\Users\\diand\\OneDrive\\Desktop\\Cardinality-with-Colors/queryset/aids/Petal_6/uf_Q_4_6.txt\n"
     ]
    },
    {
     "name": "stdout",
     "output_type": "stream",
     "text": [
      "[0.0, 3.9108695857662092, 3.549332791609e12]\n"
     ]
    },
    {
     "name": "stdout",
     "output_type": "stream",
     "text": [
      "Query: c:\\Users\\diand\\OneDrive\\Desktop\\Cardinality-with-Colors/queryset/aids/Petal_6/uf_Q_4_7.txt\n",
      "[0.0, 3.9108695857662092, 3.549332791609e12]\n",
      "Query: c:\\Users\\diand\\OneDrive\\Desktop\\Cardinality-with-Colors/queryset/aids/Petal_6/uf_Q_4_8.txt\n"
     ]
    },
    {
     "name": "stdout",
     "output_type": "stream",
     "text": [
      "[0.0, 3.910869585766203, 2.284469081141e12]\n",
      "Query: c:\\Users\\diand\\OneDrive\\Desktop\\Cardinality-with-Colors/queryset/aids/Petal_6/uf_Q_4_9.txt"
     ]
    },
    {
     "name": "stdout",
     "output_type": "stream",
     "text": [
      "\n",
      "[0.0, 3.9108695857662092, 3.549332791609e12]\n",
      "Query: c:\\Users\\diand\\OneDrive\\Desktop\\Cardinality-with-Colors/queryset/aids/Petal_6/uf_Q_5_1.txt\n"
     ]
    },
    {
     "name": "stdout",
     "output_type": "stream",
     "text": [
      "[0.0, 0.6419473133721707, 3.549332791609e12]\n",
      "Query: c:\\Users\\diand\\OneDrive\\Desktop\\Cardinality-with-Colors/queryset/aids/Petal_6/uf_Q_5_2.txt\n"
     ]
    },
    {
     "name": "stdout",
     "output_type": "stream",
     "text": [
      "[0.0, 0.6419473133721694, 8.97863492646e11]\n",
      "Query: c:\\Users\\diand\\OneDrive\\Desktop\\Cardinality-with-Colors/queryset/aids/Petal_6/uf_Q_5_3.txt\n"
     ]
    },
    {
     "name": "stdout",
     "output_type": "stream",
     "text": [
      "[0.0, 0.6419473133721706, 9.96994660066e11]\n",
      "Query: c:\\Users\\diand\\OneDrive\\Desktop\\Cardinality-with-Colors/queryset/aids/Petal_6/uf_Q_5_4.txt"
     ]
    },
    {
     "name": "stdout",
     "output_type": "stream",
     "text": [
      "\n",
      "[0.0, 0.6419473133721694, 8.97863492646e11]\n",
      "Query: c:\\Users\\diand\\OneDrive\\Desktop\\Cardinality-with-Colors/queryset/aids/Petal_6/uf_Q_5_5.txt\n"
     ]
    },
    {
     "name": "stdout",
     "output_type": "stream",
     "text": [
      "[0.0, 0.6419473133721694, 8.97863492646e11]\n",
      "Query: c:\\Users\\diand\\OneDrive\\Desktop\\Cardinality-with-Colors/queryset/aids/Petal_9/uf_Q_2_1.txt"
     ]
    },
    {
     "name": "stdout",
     "output_type": "stream",
     "text": [
      "\n",
      "[0.0, 0.0003367046501645302, 3.227971350755118e15]\n",
      "Query: c:\\Users\\diand\\OneDrive\\Desktop\\Cardinality-with-Colors/queryset/aids/Petal_9/uf_Q_3_2.txt\n"
     ]
    },
    {
     "name": "stdout",
     "output_type": "stream",
     "text": [
      "[0.0, 0.01595956208850332, 8.466512757733131e15]\n",
      "Query: c:\\Users\\diand\\OneDrive\\Desktop\\Cardinality-with-Colors/queryset/aids/Petal_9/uf_Q_3_3.txt"
     ]
    },
    {
     "name": "stdout",
     "output_type": "stream",
     "text": [
      "\n",
      "[0.0, 0.0009777151083995219, 2.228912504848127e15]\n",
      "Query: c:\\Users\\diand\\OneDrive\\Desktop\\Cardinality-with-Colors/queryset/aids/Petal_9/uf_Q_3_4.txt\n"
     ]
    },
    {
     "name": "stdout",
     "output_type": "stream",
     "text": [
      "[0.0, 0.01595956208850332, 8.466512757733131e15]\n",
      "Query: c:\\Users\\diand\\OneDrive\\Desktop\\Cardinality-with-Colors/queryset/aids/Petal_9/uf_Q_3_6.txt\n"
     ]
    },
    {
     "name": "stdout",
     "output_type": "stream",
     "text": [
      "[0.0, 0.015959562088503205, 8.466512757733131e15]\n",
      "Query: c:\\Users\\diand\\OneDrive\\Desktop\\Cardinality-with-Colors/queryset/aids/Petal_9/uf_Q_4_1.txt"
     ]
    },
    {
     "name": "stdout",
     "output_type": "stream",
     "text": [
      "\n",
      "[0.0, 0.0001149768395072801, 3.227971350755118e15]\n",
      "Query: c:\\Users\\diand\\OneDrive\\Desktop\\Cardinality-with-Colors/queryset/aids/Petal_9/uf_Q_4_10.txt"
     ]
    },
    {
     "name": "stdout",
     "output_type": "stream",
     "text": [
      "\n",
      "[0.0, 0.000944204448072108, 8.466512757733131e15]\n",
      "Query: c:\\Users\\diand\\OneDrive\\Desktop\\Cardinality-with-Colors/queryset/aids/Petal_9/uf_Q_4_11.txt\n"
     ]
    },
    {
     "name": "stdout",
     "output_type": "stream",
     "text": [
      "[0.0, 0.008662185997976435, 8.466512757733131e15]\n",
      "Query: c:\\Users\\diand\\OneDrive\\Desktop\\Cardinality-with-Colors/queryset/aids/Petal_9/uf_Q_4_12.txt\n"
     ]
    },
    {
     "name": "stdout",
     "output_type": "stream",
     "text": [
      "[0.0, 0.008662185997976435, 8.466512757733131e15]\n",
      "Query: c:\\Users\\diand\\OneDrive\\Desktop\\Cardinality-with-Colors/queryset/aids/Petal_9/uf_Q_4_13.txt\n"
     ]
    },
    {
     "name": "stdout",
     "output_type": "stream",
     "text": [
      "[0.0, 0.0009442044480721079, 3.227971350755118e15]\n",
      "Query: c:\\Users\\diand\\OneDrive\\Desktop\\Cardinality-with-Colors/queryset/aids/Petal_9/uf_Q_4_14.txt\n"
     ]
    },
    {
     "name": "stdout",
     "output_type": "stream",
     "text": [
      "[0.0, 0.008662185997976444, 8.466512757733131e15]\n",
      "Query: c:\\Users\\diand\\OneDrive\\Desktop\\Cardinality-with-Colors/queryset/aids/Petal_9/uf_Q_4_15.txt\n"
     ]
    },
    {
     "name": "stdout",
     "output_type": "stream",
     "text": [
      "[0.0, 0.008662185997976442, 3.227971350755118e15]\n",
      "Query: c:\\Users\\diand\\OneDrive\\Desktop\\Cardinality-with-Colors/queryset/aids/Petal_9/uf_Q_4_16.txt\n"
     ]
    },
    {
     "name": "stdout",
     "output_type": "stream",
     "text": [
      "[0.0, 0.008662185997976435, 8.466512757733131e15]\n",
      "Query: c:\\Users\\diand\\OneDrive\\Desktop\\Cardinality-with-Colors/queryset/aids/Petal_9/uf_Q_4_17.txt\n"
     ]
    },
    {
     "name": "stdout",
     "output_type": "stream",
     "text": [
      "[0.0, 0.000944204448072108, 8.466512757733131e15]\n",
      "Query: c:\\Users\\diand\\OneDrive\\Desktop\\Cardinality-with-Colors/queryset/aids/Petal_9/uf_Q_4_18.txt\n"
     ]
    },
    {
     "name": "stdout",
     "output_type": "stream",
     "text": [
      "[0.0, 0.00866218599797644, 3.227971350755118e15]\n",
      "Query: c:\\Users\\diand\\OneDrive\\Desktop\\Cardinality-with-Colors/queryset/aids/Petal_9/uf_Q_4_19.txt\n"
     ]
    },
    {
     "name": "stdout",
     "output_type": "stream",
     "text": [
      "[0.0, 0.008834285139588297, 2.228912504848127e15]\n",
      "Query: c:\\Users\\diand\\OneDrive\\Desktop\\Cardinality-with-Colors/queryset/aids/Petal_9/uf_Q_4_2.txt\n"
     ]
    },
    {
     "name": "stdout",
     "output_type": "stream",
     "text": [
      "[0.0, 0.00866218599797644, 3.227971350755118e15]\n",
      "Query: c:\\Users\\diand\\OneDrive\\Desktop\\Cardinality-with-Colors/queryset/aids/Petal_9/uf_Q_4_20.txt\n"
     ]
    },
    {
     "name": "stdout",
     "output_type": "stream",
     "text": [
      "[0.0, 0.008662185997976442, 3.227971350755118e15]\n",
      "Query: c:\\Users\\diand\\OneDrive\\Desktop\\Cardinality-with-Colors/queryset/aids/Petal_9/uf_Q_4_3.txt"
     ]
    },
    {
     "name": "stdout",
     "output_type": "stream",
     "text": [
      "\n",
      "[0.0, 0.008662185997976435, 8.466512757733131e15]\n",
      "Query: c:\\Users\\diand\\OneDrive\\Desktop\\Cardinality-with-Colors/queryset/aids/Petal_9/uf_Q_4_4.txt\n"
     ]
    },
    {
     "name": "stdout",
     "output_type": "stream",
     "text": [
      "[0.0, 0.0009442044480721095, 3.227971350755118e15]\n",
      "Query: c:\\Users\\diand\\OneDrive\\Desktop\\Cardinality-with-Colors/queryset/aids/Petal_9/uf_Q_4_5.txt\n"
     ]
    },
    {
     "name": "stdout",
     "output_type": "stream",
     "text": [
      "[0.0, 0.008834285139588395, 2.57776084604185e15]\n",
      "Query: c:\\Users\\diand\\OneDrive\\Desktop\\Cardinality-with-Colors/queryset/aids/Petal_9/uf_Q_4_6.txt\n"
     ]
    },
    {
     "name": "stdout",
     "output_type": "stream",
     "text": [
      "[0.0, 0.00866218599797644, 3.227971350755118e15]\n",
      "Query: "
     ]
    },
    {
     "name": "stdout",
     "output_type": "stream",
     "text": [
      "c:\\Users\\diand\\OneDrive\\Desktop\\Cardinality-with-Colors/queryset/aids/Petal_9/uf_Q_4_7.txt\n",
      "[0.0, 0.0009442044480721095, 3.227971350755118e15]\n",
      "Query: c:\\Users\\diand\\OneDrive\\Desktop\\Cardinality-with-Colors/queryset/aids/Petal_9/uf_Q_4_8.txt\n"
     ]
    },
    {
     "name": "stdout",
     "output_type": "stream",
     "text": [
      "[0.0, 0.000944204448072108, 8.466512757733131e15]\n",
      "Query: c:\\Users\\diand\\OneDrive\\Desktop\\Cardinality-with-Colors/queryset/aids/Petal_9/uf_Q_4_9.txt\n"
     ]
    },
    {
     "name": "stdout",
     "output_type": "stream",
     "text": [
      "[0.0, 0.008662185997976444, 8.466512757733131e15]\n",
      "Query: c:\\Users\\diand\\OneDrive\\Desktop\\Cardinality-with-Colors/queryset/aids/Petal_12/uf_Q_2_1.txt\n"
     ]
    },
    {
     "name": "stdout",
     "output_type": "stream",
     "text": [
      "[0.0, 1.2068760607942281e-7, 4.330967783859042e18]\n",
      "Query: c:\\Users\\diand\\OneDrive\\Desktop\\Cardinality-with-Colors/queryset/aids/Petal_12/uf_Q_3_1.txt\n"
     ]
    },
    {
     "name": "stdout",
     "output_type": "stream",
     "text": [
      "[0.0, 1.1037617093967378e-5, 1.1939850625048572e19]\n",
      "Query: c:\\Users\\diand\\OneDrive\\Desktop\\Cardinality-with-Colors/queryset/aids/Petal_12/uf_Q_4_1.txt\n"
     ]
    },
    {
     "name": "stdout",
     "output_type": "stream",
     "text": [
      "[0.0, 7.595292196334301e-7, 6.831260532465476e17]\n",
      "Query: c:\\Users\\diand\\OneDrive\\Desktop\\Cardinality-with-Colors/queryset/aids/Petal_12/uf_Q_4_2.txt\n"
     ]
    },
    {
     "name": "stdout",
     "output_type": "stream",
     "text": [
      "[0.0, 4.346218084937215e-6, 1.5075337977366894e18]\n",
      "Query: c:\\Users\\diand\\OneDrive\\Desktop\\Cardinality-with-Colors/queryset/aids/Petal_12/uf_Q_4_3.txt"
     ]
    },
    {
     "name": "stdout",
     "output_type": "stream",
     "text": [
      "\n",
      "[0.0, 8.744571209577165e-9, 5.741908245140404e16]\n",
      "Query: c:\\Users\\diand\\OneDrive\\Desktop\\Cardinality-with-Colors/queryset/aids/Petal_12/uf_Q_5_12.txt"
     ]
    },
    {
     "name": "stdout",
     "output_type": "stream",
     "text": [
      "\n",
      "[0.0, 3.744121770329758e-6, 1.1939850625048572e19]\n",
      "Query: c:\\Users\\diand\\OneDrive\\Desktop\\Cardinality-with-Colors/queryset/aids/Petal_12/uf_Q_5_13.txt"
     ]
    },
    {
     "name": "stdout",
     "output_type": "stream",
     "text": [
      "\n",
      "[0.0, 3.744121770329757e-6, 1.1939850625048572e19]\n",
      "Query: c:\\Users\\diand\\OneDrive\\Desktop\\Cardinality-with-Colors/queryset/aids/Petal_12/uf_Q_5_14.txt\n"
     ]
    },
    {
     "name": "stdout",
     "output_type": "stream",
     "text": [
      "[0.0, 4.883444688395949e-7, 1.1939850625048572e19]\n",
      "Query: c:\\Users\\diand\\OneDrive\\Desktop\\Cardinality-with-Colors/queryset/aids/Petal_12/uf_Q_5_19.txt\n"
     ]
    },
    {
     "name": "stdout",
     "output_type": "stream",
     "text": [
      "[0.0, 3.7441217703297566e-6, 4.330967783859042e18]\n",
      "Query: c:\\Users\\diand\\OneDrive\\Desktop\\Cardinality-with-Colors/queryset/aids/Petal_12/uf_Q_5_2.txt\n"
     ]
    },
    {
     "name": "stdout",
     "output_type": "stream",
     "text": [
      "[0.0, 3.744121770329757e-6, 1.1939850625048572e19]\n",
      "Query: c:\\Users\\diand\\OneDrive\\Desktop\\Cardinality-with-Colors/queryset/aids/Petal_12/uf_Q_5_3.txt\n"
     ]
    },
    {
     "name": "stdout",
     "output_type": "stream",
     "text": [
      "[0.0, 7.459556322703461e-8, 4.330967783859042e18]\n",
      "Query: c:\\Users\\diand\\OneDrive\\Desktop\\Cardinality-with-Colors/queryset/aids/Petal_12/uf_Q_5_4.txt\n"
     ]
    },
    {
     "name": "stdout",
     "output_type": "stream",
     "text": [
      "[0.0, 3.744121770329757e-6, 4.330967783859042e18]\n",
      "Query: c:\\Users\\diand\\OneDrive\\Desktop\\Cardinality-with-Colors/queryset/aids/Petal_12/uf_Q_5_5.txt"
     ]
    },
    {
     "name": "stdout",
     "output_type": "stream",
     "text": [
      "\n",
      "[0.0, 3.744121770329757e-6, 4.330967783859042e18]\n",
      "Query: c:\\Users\\diand\\OneDrive\\Desktop\\Cardinality-with-Colors/queryset/aids/Petal_12/uf_Q_5_9.txt"
     ]
    },
    {
     "name": "stdout",
     "output_type": "stream",
     "text": [
      "\n",
      "[0.0, 3.7441217703297587e-6, 4.330967783859042e18]\n",
      "Query: c:\\Users\\diand\\OneDrive\\Desktop\\Cardinality-with-Colors/queryset/aids/Star_3/uf_Q_0_1.txt\n",
      "[0.0, 3.558544303797468, 1.113942e6]\n",
      "Query: c:\\Users\\diand\\OneDrive\\Desktop\\Cardinality-with-Colors/queryset/aids/Star_3/uf_Q_1_1.txt\n",
      "[0.0, 61.22098062329706, 4.995982e6]\n",
      "Query: c:\\Users\\diand\\OneDrive\\Desktop\\Cardinality-with-Colors/queryset/aids/Star_3/uf_Q_1_2.txt\n",
      "[0.0, 19.343806962519242, 4.313438e6]\n",
      "Query: c:\\Users\\diand\\OneDrive\\Desktop\\Cardinality-with-Colors/queryset/aids/Star_3/uf_Q_1_3.txt\n",
      "[0.0, 30.0, 958734.0]\n",
      "Query: c:\\Users\\diand\\OneDrive\\Desktop\\Cardinality-with-Colors/queryset/aids/Star_3/uf_Q_1_4.txt\n",
      "[0.0, 17.792721518987342, 1.219801e6]\n",
      "Query: c:\\Users\\diand\\OneDrive\\Desktop\\Cardinality-with-Colors/queryset/aids/Star_3/uf_Q_1_5.txt\n",
      "[0.0, 22.5, 1.228986e6]\n",
      "Query: c:\\Users\\diand\\OneDrive\\Desktop\\Cardinality-with-Colors/queryset/aids/Star_3/uf_Q_1_6.txt\n",
      "[0.0, 22.5, 1.228986e6]\n",
      "Query: c:\\Users\\diand\\OneDrive\\Desktop\\Cardinality-with-Colors/queryset/aids/Star_3/uf_Q_1_7.txt\n"
     ]
    },
    {
     "name": "stdout",
     "output_type": "stream",
     "text": [
      "[0.0, 17.792721518987342, 1.219801e6]\n",
      "Query: c:\\Users\\diand\\OneDrive\\Desktop\\Cardinality-with-Colors/queryset/aids/Star_3/uf_Q_1_8.txt\n",
      "[0.0, 17.792721518987342, 1.219801e6]\n",
      "Query: c:\\Users\\diand\\OneDrive\\Desktop\\Cardinality-with-Colors/queryset/aids/Star_3/uf_Q_1_9.txt\n",
      "[0.0, 42.74059139784946, 3.634746e6]\n",
      "Query: c:\\Users\\diand\\OneDrive\\Desktop\\Cardinality-with-Colors/queryset/aids/Star_3/uf_Q_2_1.txt\n"
     ]
    },
    {
     "name": "stdout",
     "output_type": "stream",
     "text": [
      "[0.0, 99.05983458518514, 4.759785e6]\n",
      "Query: c:\\Users\\diand\\OneDrive\\Desktop\\Cardinality-with-Colors/queryset/aids/Star_3/uf_Q_2_10.txt\n",
      "[0.0, 315.9903210624881, 7.610296e6]\n",
      "Query: c:\\Users\\diand\\OneDrive\\Desktop\\Cardinality-with-Colors/queryset/aids/Star_3/uf_Q_2_11.txt\n",
      "[0.0, 315.9903210624881, 7.610296e6]\n",
      "Query: c:\\Users\\diand\\OneDrive\\Desktop\\Cardinality-with-Colors/queryset/aids/Star_3/uf_Q_2_12.txt\n",
      "[0.0, 556.0311508279382, 1.1584915e7]\n",
      "Query: c:\\Users\\diand\\OneDrive\\Desktop\\Cardinality-with-Colors/queryset/aids/Star_3/uf_Q_2_2.txt\n",
      "[0.0, 50.30092307692308, 2.921557e6]\n",
      "Query: c:\\Users\\diand\\OneDrive\\Desktop\\Cardinality-with-Colors/queryset/aids/Star_3/uf_Q_2_3.txt\n"
     ]
    },
    {
     "name": "stdout",
     "output_type": "stream",
     "text": [
      "[0.0, 192.2907032821313, 8.377639e6]\n",
      "Query: c:\\Users\\diand\\OneDrive\\Desktop\\Cardinality-with-Colors/queryset/aids/Star_3/uf_Q_2_4.txt\n",
      "[0.0, 192.2907032821313, 8.377639e6]\n",
      "Query: c:\\Users\\diand\\OneDrive\\Desktop\\Cardinality-with-Colors/queryset/aids/Star_3/uf_Q_2_5.txt\n",
      "[0.0, 50.30092307692308, 2.921557e6]\n",
      "Query: c:\\Users\\diand\\OneDrive\\Desktop\\Cardinality-with-Colors/queryset/aids/Star_3/uf_Q_2_6.txt\n",
      "["
     ]
    },
    {
     "name": "stdout",
     "output_type": "stream",
     "text": [
      "0.0, 114.86213904293649, 5.472382e6]\n",
      "Query: c:\\Users\\diand\\OneDrive\\Desktop\\Cardinality-with-Colors/queryset/aids/Star_3/uf_Q_2_7.txt\n",
      "[0.0, 50.30092307692308, 2.921557e6]\n",
      "Query: c:\\Users\\diand\\OneDrive\\Desktop\\Cardinality-with-Colors/queryset/aids/Star_3/uf_Q_2_8.txt\n",
      "[0.0, 134.51307264594556, 1.372488e7]\n",
      "Query: c:\\Users\\diand\\OneDrive\\Desktop\\Cardinality-with-Colors/queryset/aids/Star_3/uf_Q_2_9.txt\n",
      "[0.0, 556.0311508279382, 1.1584915e7]\n",
      "Query: c:\\Users\\diand\\OneDrive\\Desktop\\Cardinality-with-Colors/queryset/aids/Star_3/uf_Q_3_1.txt\n",
      "[0.0, 1271.8863761059624, 2.9752723e7]\n",
      "Query: c:\\Users\\diand\\OneDrive\\Desktop\\Cardinality-with-Colors/queryset/aids/Star_3/uf_Q_3_10.txt\n",
      "[0.0, 4590.552301455384, 7.5471162e7]"
     ]
    },
    {
     "name": "stdout",
     "output_type": "stream",
     "text": [
      "\n",
      "Query: c:\\Users\\diand\\OneDrive\\Desktop\\Cardinality-with-Colors/queryset/aids/Star_3/uf_Q_3_11.txt\n",
      "[0.0, 1402.9481101339043, 6.109818e6]\n",
      "Query: c:\\Users\\diand\\OneDrive\\Desktop\\Cardinality-with-Colors/queryset/aids/Star_3/uf_Q_3_12.txt\n",
      "[0.0, 1271.8863761059624, 2.9752723e7]\n",
      "Query: c:\\Users\\diand\\OneDrive\\Desktop\\Cardinality-with-Colors/queryset/aids/Star_3/uf_Q_3_13.txt\n"
     ]
    },
    {
     "name": "stdout",
     "output_type": "stream",
     "text": [
      "[0.0, 1271.8863761059624, 2.9752723e7]\n",
      "Query: c:\\Users\\diand\\OneDrive\\Desktop\\Cardinality-with-Colors/queryset/aids/Star_3/uf_Q_3_14.txt\n"
     ]
    },
    {
     "name": "stdout",
     "output_type": "stream",
     "text": [
      "[0.0, 1402.9481101339043, 6.109818e6]\n",
      "Query: c:\\Users\\diand\\OneDrive\\Desktop\\Cardinality-with-Colors/queryset/aids/Star_3/uf_Q_3_15.txt\n",
      "[0.0, 28412.91357844215, 5.28430859e8]\n",
      "Query: c:\\Users\\diand\\OneDrive\\Desktop\\Cardinality-with-Colors/queryset/aids/Star_3/uf_Q_3_16.txt\n",
      "[0.0, 4590.552301455384, 7.5471162e7]\n",
      "Query: c:\\Users\\diand\\OneDrive\\Desktop\\Cardinality-with-Colors/queryset/aids/Star_3/uf_Q_3_17.txt\n",
      "["
     ]
    },
    {
     "name": "stdout",
     "output_type": "stream",
     "text": [
      "0.0, 1271.8863761059624, 2.9752723e7]\n",
      "Query: c:\\Users\\diand\\OneDrive\\Desktop\\Cardinality-with-Colors/queryset/aids/Star_3/uf_Q_3_2.txt\n",
      "[0.0, 425.3762849264096, 5.355187e6]\n",
      "Query: c:\\Users\\diand\\OneDrive\\Desktop\\Cardinality-with-Colors/queryset/aids/Star_3/uf_Q_3_3.txt\n",
      "[0.0, 621.8843520860196, 2.6917566e7]\n",
      "Query: c:\\Users\\diand\\OneDrive\\Desktop\\Cardinality-with-Colors/queryset/aids/Star_3/uf_Q_3_4.txt\n"
     ]
    },
    {
     "name": "stdout",
     "output_type": "stream",
     "text": [
      "[0.0, 1081.8204201149183, 2.3425187e7]\n",
      "Query: c:\\Users\\diand\\OneDrive\\Desktop\\Cardinality-with-Colors/queryset/aids/Star_3/uf_Q_3_5.txt\n",
      "[0.0, 425.3762849264096, 5.355187e6]\n",
      "Query: c:\\Users\\diand\\OneDrive\\Desktop\\Cardinality-with-Colors/queryset/aids/Star_3/uf_Q_3_6.txt\n",
      "[0.0, 1271.8863761059624, 2.9752723e7]\n",
      "Query: c:\\Users\\diand\\OneDrive\\Desktop\\Cardinality-with-Colors/queryset/aids/Star_3/uf_Q_3_7.txt\n",
      "[0.0, 1271.8863761059624, 2.9752723e7]\n"
     ]
    },
    {
     "name": "stdout",
     "output_type": "stream",
     "text": [
      "Query: c:\\Users\\diand\\OneDrive\\Desktop\\Cardinality-with-Colors/queryset/aids/Star_3/uf_Q_3_8.txt\n",
      "[0.0, 425.3762849264096, 5.355187e6]\n",
      "Query: c:\\Users\\diand\\OneDrive\\Desktop\\Cardinality-with-Colors/queryset/aids/Star_3/uf_Q_3_9.txt\n",
      "[0.0, 1081.8204201149183, 2.3425187e7]\n",
      "Query: c:\\Users\\diand\\OneDrive\\Desktop\\Cardinality-with-Colors/queryset/aids/Star_3/uf_Q_4_1.txt\n",
      "[0.0, 95477.61975781924, 1.798176462e9]\n",
      "Query: c:\\Users\\diand\\OneDrive\\Desktop\\Cardinality-with-Colors/queryset/aids/Star_3/uf_Q_4_10.txt\n",
      "[0.0, 22377.559021896435, 9.64579446e8]\n",
      "Query: c:\\Users\\diand\\OneDrive\\Desktop\\Cardinality-with-Colors/queryset/aids/Star_3/uf_Q_4_11.txt\n"
     ]
    },
    {
     "name": "stdout",
     "output_type": "stream",
     "text": [
      "[0.0, 95477.61975781924, 1.798176462e9]\n",
      "Query: c:\\Users\\diand\\OneDrive\\Desktop\\Cardinality-with-Colors/queryset/aids/Star_3/uf_Q_4_12.txt\n",
      "[0.0, 95477.61975781924, 1.798176462e9]\n",
      "Query: c:\\Users\\diand\\OneDrive\\Desktop\\Cardinality-with-Colors/queryset/aids/Star_3/uf_Q_4_13.txt\n",
      "[0.0, 95477.61975781922, 3.211671504e9"
     ]
    },
    {
     "name": "stdout",
     "output_type": "stream",
     "text": [
      "]\n",
      "Query: c:\\Users\\diand\\OneDrive\\Desktop\\Cardinality-with-Colors/queryset/aids/Star_3/uf_Q_4_14.txt\n",
      "[0.0, 95477.61975781924, 1.798176462e9]\n",
      "Query: c:\\Users\\diand\\OneDrive\\Desktop\\Cardinality-with-Colors/queryset/aids/Star_3/uf_Q_4_15.txt\n",
      "[0.0, 95477.61975781922, 3.211671504e9]\n",
      "Query: c:\\Users\\diand\\OneDrive\\Desktop\\Cardinality-with-Colors/queryset/aids/Star_3/uf_Q_4_16.txt\n",
      "[0.0, 95477.61975781922, 3.211671504e9]\n",
      "Query: c:\\Users\\diand\\OneDrive\\Desktop\\Cardinality-with-Colors/queryset/aids/Star_3/uf_Q_4_17.txt\n",
      "["
     ]
    },
    {
     "name": "stdout",
     "output_type": "stream",
     "text": [
      "0.0, 95477.61975781924, 1.798176462e9]\n",
      "Query: c:\\Users\\diand\\OneDrive\\Desktop\\Cardinality-with-Colors/queryset/aids/Star_3/uf_Q_4_18.txt\n",
      "[0.0, 95477.61975781922, 3.211671504e9]\n",
      "Query: c:\\Users\\diand\\OneDrive\\Desktop\\Cardinality-with-Colors/queryset/aids/Star_3/uf_Q_4_19.txt\n",
      "[0.0, 95477.61975781924, 1.798176462e9]\n",
      "Query: c:\\Users\\diand\\OneDrive\\Desktop\\Cardinality-with-Colors/queryset/aids/Star_3/uf_Q_4_2.txt\n",
      "[0.0, 95477.61975781924, 1.798176462e9]\n",
      "Query: c:\\Users\\diand\\OneDrive\\Desktop\\Cardinality-with-Colors/queryset/aids/Star_3/uf_Q_4_20.txt\n"
     ]
    },
    {
     "name": "stdout",
     "output_type": "stream",
     "text": [
      "[0.0, 95477.61975781922, 3.211671504e9]\n",
      "Query: c:\\Users\\diand\\OneDrive\\Desktop\\Cardinality-with-Colors/queryset/aids/Star_3/uf_Q_4_3.txt\n",
      "[0.0, 95477.61975781922, 3.211671504e9]\n",
      "Query: c:\\Users\\diand\\OneDrive\\Desktop\\Cardinality-with-Colors/queryset/aids/Star_3/uf_Q_4_4.txt\n",
      "[0.0, 95477.61975781924, 1.798176462e9]\n",
      "Query: c:\\Users\\diand\\OneDrive\\Desktop\\Cardinality-with-Colors/queryset/aids/Star_3/uf_Q_4_5.txt\n",
      "[0.0, 22377.559021896446, 5.88994117e8]\n",
      "Query: c:\\Users\\diand\\OneDrive\\Desktop\\Cardinality-with-Colors/queryset/aids/Star_3/uf_Q_4_6.txt\n"
     ]
    },
    {
     "name": "stdout",
     "output_type": "stream",
     "text": [
      "[0.0, 95477.61975781922, 3.211671504e9]\n",
      "Query: c:\\Users\\diand\\OneDrive\\Desktop\\Cardinality-with-Colors/queryset/aids/Star_3/uf_Q_4_7.txt\n",
      "[0.0, 22377.559021896446, 5.88994117e8]\n",
      "Query: c:\\Users\\diand\\OneDrive\\Desktop\\Cardinality-with-Colors/queryset/aids/Star_3/uf_Q_4_8.txt\n",
      "[0.0, 95477.61975781922, 3.211671504e9]\n",
      "Query: c:\\Users\\diand\\OneDrive\\Desktop\\Cardinality-with-Colors/queryset/aids/Star_3/uf_Q_4_9.txt\n",
      "["
     ]
    },
    {
     "name": "stdout",
     "output_type": "stream",
     "text": [
      "0.0, 22377.559021896435, 9.64579446e8]\n",
      "Query: c:\\Users\\diand\\OneDrive\\Desktop\\Cardinality-with-Colors/queryset/aids/Star_6/uf_Q_1_1.txt\n",
      "[0.0, 2148.394440892239, 3.24827757487e11]\n",
      "Query: c:\\Users\\diand\\OneDrive\\Desktop\\Cardinality-with-Colors/queryset/aids/Star_6/uf_Q_2_1.txt\n",
      "[0.0, 482.02383167495975, 5.8671715167e10]\n",
      "Query: c:\\Users\\diand\\OneDrive\\Desktop\\Cardinality-with-Colors/queryset/aids/Star_6/uf_Q_2_2.txt\n",
      "[0.0, 482.0238316749598, 5.8671715167e10]\n",
      "Query: c:\\Users\\diand\\OneDrive\\Desktop\\Cardinality-with-Colors/queryset/aids/Star_6/uf_Q_2_3.txt"
     ]
    },
    {
     "name": "stdout",
     "output_type": "stream",
     "text": [
      "\n",
      "[0.0, 424.63794462397146, 6.6609625232e10]\n",
      "Query: c:\\Users\\diand\\OneDrive\\Desktop\\Cardinality-with-Colors/queryset/aids/Star_6/uf_Q_2_4.txt\n",
      "[0.0, 424.6379446239714, 6.6609625232e10]\n",
      "Query: c:\\Users\\diand\\OneDrive\\Desktop\\Cardinality-with-Colors/queryset/aids/Star_6/uf_Q_2_5.txt\n"
     ]
    },
    {
     "name": "stdout",
     "output_type": "stream",
     "text": [
      "[0.0, 482.0238316749598, 5.8671715167e10]\n",
      "Query: c:\\Users\\diand\\OneDrive\\Desktop\\Cardinality-with-Colors/queryset/aids/Star_6/uf_Q_2_6.txt\n",
      "[0.0, 424.63794462397146, 6.6609625232e10]\n",
      "Query: c:\\Users\\diand\\OneDrive\\Desktop\\Cardinality-with-Colors/queryset/aids/Star_6/uf_Q_2_7.txt\n",
      "[0.0, 482.0238316749598, 5.8671715167e10]\n",
      "Query: c:\\Users\\diand\\OneDrive\\Desktop\\Cardinality-with-Colors/queryset/aids/Star_6/uf_Q_3_1.txt\n",
      "[0.0, 3510.261592941035, 3.17857722147e12]\n",
      "Query: c:\\Users\\diand\\OneDrive\\Desktop\\Cardinality-with-Colors/queryset/aids/Star_6/uf_Q_3_2.txt\n",
      "[0.0, 3510.2615929410345, 3.17857722147e12]\n",
      "Query: c:\\Users\\diand\\OneDrive\\Desktop\\Cardinality-with-Colors/queryset/aids/Star_6/uf_Q_3_3.txt\n",
      "[0.0, 3510.2615929410345, 3.17857722147e12]\n"
     ]
    },
    {
     "name": "stdout",
     "output_type": "stream",
     "text": [
      "Query: c:\\Users\\diand\\OneDrive\\Desktop\\Cardinality-with-Colors/queryset/aids/Star_6/uf_Q_3_4.txt\n",
      "[0.0, 3510.261592941035, 3.17857722147e12]\n",
      "Query: c:\\Users\\diand\\OneDrive\\Desktop\\Cardinality-with-Colors/queryset/aids/Star_6/uf_Q_4_1.txt\n",
      "[0.0, 461.1490965612857, 1.105800159044e12]\n",
      "Query: c:\\Users\\diand\\OneDrive\\Desktop\\Cardinality-with-Colors/queryset/aids/Star_6/uf_Q_4_2.txt\n",
      "[0.0, 461.1490965612857, 1.105800159044e12]\n",
      "Query: c:\\Users\\diand\\OneDrive\\Desktop\\Cardinality-with-Colors/queryset/aids/Star_6/uf_Q_4_3.txt\n",
      "[0.0, 3458.370523303719, 3.01775506169e11]\n",
      "Query: c:\\Users\\diand\\OneDrive\\Desktop\\Cardinality-with-Colors/queryset/aids/Star_6/uf_Q_4_4.txt\n",
      "[0.0, 461.1490965612857, 1.105800159044e12]\n",
      "Query: c:\\Users\\diand\\OneDrive\\Desktop\\Cardinality-with-Colors/queryset/aids/Star_6/uf_Q_4_5.txt\n"
     ]
    },
    {
     "name": "stdout",
     "output_type": "stream",
     "text": [
      "[0.0, 22915.152102970507, 1.315764233189e12]\n",
      "Query: c:\\Users\\diand\\OneDrive\\Desktop\\Cardinality-with-Colors/queryset/aids/Star_6/uf_Q_4_6.txt\n",
      "[0.0, 3458.370523303719, 3.01775506169e11]\n",
      "Query: c:\\Users\\diand\\OneDrive\\Desktop\\Cardinality-with-Colors/queryset/aids/Star_6/uf_Q_4_7.txt\n",
      "[0.0, 461.1490965612857, 1.105800159044e12]\n",
      "Query: c:\\Users\\diand\\OneDrive\\Desktop\\Cardinality-with-Colors/queryset/aids/Star_6/uf_Q_4_8.txt\n",
      "[0.0, 22915.152102970507, 1.315764233189e12]\n",
      "Query: "
     ]
    },
    {
     "name": "stdout",
     "output_type": "stream",
     "text": [
      "c:\\Users\\diand\\OneDrive\\Desktop\\Cardinality-with-Colors/queryset/aids/Star_6/uf_Q_5_1.txt\n",
      "[0.0, 38339.140306763125, 1.489827876977e13]\n",
      "Query: c:\\Users\\diand\\OneDrive\\Desktop\\Cardinality-with-Colors/queryset/aids/Star_6/uf_Q_5_10.txt\n",
      "[0.0, 163975.29842980744, 9.67225350211e11]"
     ]
    },
    {
     "name": "stdout",
     "output_type": "stream",
     "text": [
      "\n",
      "Query: c:\\Users\\diand\\OneDrive\\Desktop\\Cardinality-with-Colors/queryset/aids/Star_6/uf_Q_5_11.txt\n",
      "[0.0, 14849.065872221372, 6.87254342195e11]\n",
      "Query: c:\\Users\\diand\\OneDrive\\Desktop\\Cardinality-with-Colors/queryset/aids/Star_6/uf_Q_5_12.txt\n",
      "[0.0, 3047.13154490309, 4.27489311984e11]\n",
      "Query: c:\\Users\\diand\\OneDrive\\Desktop\\Cardinality-with-Colors/queryset/aids/Star_6/uf_Q_5_13.txt\n",
      "["
     ]
    },
    {
     "name": "stdout",
     "output_type": "stream",
     "text": [
      "0.0, 204178.49271189162, 2.908813188608e12]\n",
      "Query: c:\\Users\\diand\\OneDrive\\Desktop\\Cardinality-with-Colors/queryset/aids/Star_6/uf_Q_5_14.txt\n",
      "[0.0, 8278.450130425883, 8.14574480496e11]\n",
      "Query: c:\\Users\\diand\\OneDrive\\Desktop\\Cardinality-with-Colors/queryset/aids/Star_6/uf_Q_5_15.txt\n"
     ]
    },
    {
     "name": "stdout",
     "output_type": "stream",
     "text": [
      "[0.0, 3047.13154490309, 4.27489311984e11]\n",
      "Query: c:\\Users\\diand\\OneDrive\\Desktop\\Cardinality-with-Colors/queryset/aids/Star_6/uf_Q_5_16.txt\n",
      "[0.0, 14849.065872221372, 6.87254342195e11]\n",
      "Query: c:\\Users\\diand\\OneDrive\\Desktop\\Cardinality-with-Colors/queryset/aids/Star_6/uf_Q_5_17.txt\n",
      "[0.0, 163975.29842980744, 9.67225350211e11]\n",
      "Query: c:\\Users\\diand\\OneDrive\\Desktop\\Cardinality-with-Colors/queryset/aids/Star_6/uf_Q_5_18.txt\n"
     ]
    },
    {
     "name": "stdout",
     "output_type": "stream",
     "text": [
      "[0.0, 47710.47114546723, 3.75234322793e11]\n",
      "Query: c:\\Users\\diand\\OneDrive\\Desktop\\Cardinality-with-Colors/queryset/aids/Star_6/uf_Q_5_19.txt\n",
      "[0.0, 8278.450130425883, 8.14574480496e11]\n",
      "Query: c:\\Users\\diand\\OneDrive\\Desktop\\Cardinality-with-Colors/queryset/aids/Star_6/uf_Q_5_2.txt\n",
      "[0.0, 2259.1634466393807, 7.87966345911e11]\n",
      "Query: c:\\Users\\diand\\OneDrive\\Desktop\\Cardinality-with-Colors/queryset/aids/Star_6/uf_Q_5_20.txt\n",
      "[0.0, 14849.065872221372, 6.87254342195e11]\n",
      "Query: c:\\Users\\diand\\OneDrive\\Desktop\\Cardinality-with-Colors/queryset/aids/Star_6/uf_Q_5_3.txt\n",
      "[0.0, 172364.7081934075, 3.9670063784912e13]\n",
      "Query: c:\\Users\\diand\\OneDrive\\Desktop\\Cardinality-with-Colors/queryset/aids/Star_6/uf_Q_5_4.txt\n"
     ]
    },
    {
     "name": "stdout",
     "output_type": "stream",
     "text": [
      "[0.0, 887793.2961731686, 1.14230463963236e14]\n",
      "Query: c:\\Users\\diand\\OneDrive\\Desktop\\Cardinality-with-Colors/queryset/aids/Star_6/uf_Q_5_5.txt\n",
      "[0.0, 38339.14030676312, 1.489827876977e13]\n",
      "Query: c:\\Users\\diand\\OneDrive\\Desktop\\Cardinality-with-Colors/queryset/aids/Star_6/uf_Q_5_6.txt\n",
      "[0.0, 47710.47114546723, 3.75234322793e11]\n",
      "Query: c:\\Users\\diand\\OneDrive\\Desktop\\Cardinality-with-Colors/queryset/aids/Star_6/uf_Q_5_7.txt"
     ]
    },
    {
     "name": "stdout",
     "output_type": "stream",
     "text": [
      "\n",
      "[0.0, 887793.2961731683, 1.14230463963236e14]\n",
      "Query: c:\\Users\\diand\\OneDrive\\Desktop\\Cardinality-with-Colors/queryset/aids/Star_6/uf_Q_5_8.txt\n",
      "[0.0, 27709.5762250857, 3.93760561426e11]\n",
      "Query: c:\\Users\\diand\\OneDrive\\Desktop\\Cardinality-with-Colors/queryset/aids/Star_6/uf_Q_5_9.txt\n",
      "[0.0, 887793.2961731683, 1.14230463963236e14]\n",
      "Query: c:\\Users\\diand\\OneDrive\\Desktop\\Cardinality-with-Colors/queryset/aids/Star_9/uf_Q_3_1.txt\n",
      "[0.0, 180962.9982281548, "
     ]
    },
    {
     "name": "stdout",
     "output_type": "stream",
     "text": [
      "1.9862567481119357e17]\n",
      "Query: c:\\Users\\diand\\OneDrive\\Desktop\\Cardinality-with-Colors/queryset/aids/Star_9/uf_Q_3_10.txt\n",
      "[0.0, 65395.96169498672, 3.2729086984381876e16]\n",
      "Query: c:\\Users\\diand\\OneDrive\\Desktop\\Cardinality-with-Colors/queryset/aids/Star_9/uf_Q_3_11.txt\n",
      "[0.0, 65395.961694986705, 3.2729086984381876e16]\n",
      "Query: c:\\Users\\diand\\OneDrive\\Desktop\\Cardinality-with-Colors/queryset/aids/Star_9/uf_Q_3_2.txt\n",
      "[0.0, 65395.96169498672, 3.2729086984381876e16]\n",
      "Query: c:\\Users\\diand\\OneDrive\\Desktop\\Cardinality-with-Colors/queryset/aids/Star_9/uf_Q_3_3.txt\n",
      "[0.0, 65395.96169498672, 3.2729086984381876e16]\n",
      "Query: c:\\Users\\diand\\OneDrive\\Desktop\\Cardinality-with-Colors/queryset/aids/Star_9/uf_Q_3_4.txt\n"
     ]
    },
    {
     "name": "stdout",
     "output_type": "stream",
     "text": [
      "[0.0, 65395.961694986705, 3.2729086984381876e16]\n",
      "Query: c:\\Users\\diand\\OneDrive\\Desktop\\Cardinality-with-Colors/queryset/aids/Star_9/uf_Q_3_5.txt\n",
      "[0.0, 65395.961694986705, 3.2729086984381876e16]\n",
      "Query: c:\\Users\\diand\\OneDrive\\Desktop\\Cardinality-with-Colors/queryset/aids/Star_9/uf_Q_3_6.txt\n",
      "[0.0, 65395.961694986705, 3.2729086984381876e16]\n",
      "Query: c:\\Users\\diand\\OneDrive\\Desktop\\Cardinality-with-Colors/queryset/aids/Star_9/uf_Q_3_7.txt\n",
      "[0.0, 65395.961694986705, 3.2729086984381876e16]\n"
     ]
    },
    {
     "name": "stdout",
     "output_type": "stream",
     "text": [
      "Query: c:\\Users\\diand\\OneDrive\\Desktop\\Cardinality-with-Colors/queryset/aids/Star_9/uf_Q_3_8.txt\n",
      "[0.0, 65395.961694986705, 3.2729086984381876e16]\n",
      "Query: c:\\Users\\diand\\OneDrive\\Desktop\\Cardinality-with-Colors/queryset/aids/Star_9/uf_Q_3_9.txt\n",
      "[0.0, 65395.96169498672, 3.2729086984381876e16]\n",
      "Query: c:\\Users\\diand\\OneDrive\\Desktop\\Cardinality-with-Colors/queryset/aids/Star_9/uf_Q_5_1.txt\n"
     ]
    },
    {
     "name": "stdout",
     "output_type": "stream",
     "text": [
      "[0.0, 395419.1580225808, 2.033542696624281e17]\n",
      "Query: c:\\Users\\diand\\OneDrive\\Desktop\\Cardinality-with-Colors/queryset/aids/Star_9/uf_Q_5_10.txt\n",
      "[0.0, 91821.97286049044, 4.880355147356772e16]\n",
      "Query: c:\\Users\\diand\\OneDrive\\Desktop\\Cardinality-with-Colors/queryset/aids/Star_9/uf_Q_5_11.txt\n",
      "[0.0, 1.1141974769428119e6, 5.543857645141998e16]\n"
     ]
    },
    {
     "name": "stdout",
     "output_type": "stream",
     "text": [
      "Query: c:\\Users\\diand\\OneDrive\\Desktop\\Cardinality-with-Colors/queryset/aids/Star_9/uf_Q_5_2.txt\n",
      "[0.0, 395419.15802258096, 2.0335426966242822e17]\n",
      "Query: c:\\Users\\diand\\OneDrive\\Desktop\\Cardinality-with-Colors/queryset/aids/Star_9/uf_Q_5_3.txt\n",
      "[0.0, 27830.75327145971, 2.219003229795692e17]\n",
      "Query: c:\\Users\\diand\\OneDrive\\Desktop\\Cardinality-with-Colors/queryset/aids/Star_9/uf_Q_5_4.txt\n",
      "[0.0, 27830.75327145971, 2.219003229795692e17]\n",
      "Query: c:\\Users\\diand\\OneDrive\\Desktop\\Cardinality-with-Colors/queryset/aids/Star_9/uf_Q_5_5.txt\n"
     ]
    },
    {
     "name": "stdout",
     "output_type": "stream",
     "text": [
      "[0.0, 395419.1580225807, 2.033542696624281e17]\n",
      "Query: c:\\Users\\diand\\OneDrive\\Desktop\\Cardinality-with-Colors/queryset/aids/Star_9/uf_Q_5_6.txt\n",
      "[0.0, 442479.52882604016, 4.597277716947037e16]\n",
      "Query: c:\\Users\\diand\\OneDrive\\Desktop\\Cardinality-with-Colors/queryset/aids/Star_9/uf_Q_5_7.txt\n",
      "[0.0, 442479.52882604004, 4.597277716947037e16]\n",
      "Query: c:\\Users\\diand\\OneDrive\\Desktop\\Cardinality-with-Colors/queryset/aids/Star_9/uf_Q_5_8.txt\n",
      "[0.0, 27830.75327145971, 2.219003229795692e17]\n",
      "Query: c:\\Users\\diand\\OneDrive\\Desktop\\Cardinality-with-Colors/queryset/aids/Star_9/uf_Q_5_9.txt\n"
     ]
    },
    {
     "name": "stdout",
     "output_type": "stream",
     "text": [
      "[0.0, 27830.753271459715, 2.219003229795692e17]\n",
      "Query: c:\\Users\\diand\\OneDrive\\Desktop\\Cardinality-with-Colors/queryset/aids/Tree_3/uf_Q_0_1.txt\n",
      "[0.0, 4.349766740157336, 183749.0]\n",
      "Query: c:\\Users\\diand\\OneDrive\\Desktop\\Cardinality-with-Colors/queryset/aids/Tree_3/uf_Q_1_1.txt\n",
      "[0.0, 17.792721518987342, 1.219801e6]\n",
      "Query: c:\\Users\\diand\\OneDrive\\Desktop\\Cardinality-with-Colors/queryset/aids/Tree_3/uf_Q_1_2.txt\n"
     ]
    },
    {
     "name": "stdout",
     "output_type": "stream",
     "text": [
      "[0.0, 10.572319922910141, 3.098668e6]\n",
      "Query: c:\\Users\\diand\\OneDrive\\Desktop\\Cardinality-with-Colors/queryset/aids/Tree_3/uf_Q_1_3.txt\n",
      "[0.0, 22.5, 1.228986e6]\n",
      "Query: c:\\Users\\diand\\OneDrive\\Desktop\\Cardinality-with-Colors/queryset/aids/Tree_3/uf_Q_1_4.txt\n",
      "[0.0, 8.589509692132268, 207552.0]\n",
      "Query: c:\\Users\\diand\\OneDrive\\Desktop\\Cardinality-with-Colors/queryset/aids/Tree_3/uf_Q_1_5.txt\n",
      "[0.0, 8.589509692132268, 207552.0]\n",
      "Query: c:\\Users\\diand\\OneDrive\\Desktop\\Cardinality-with-Colors/queryset/aids/Tree_3/uf_Q_1_6.txt\n",
      "[0.0, 8.589509692132268, 207552.0]"
     ]
    },
    {
     "name": "stdout",
     "output_type": "stream",
     "text": [
      "\n",
      "Query: c:\\Users\\diand\\OneDrive\\Desktop\\Cardinality-with-Colors/queryset/aids/Tree_3/uf_Q_2_1.txt\n",
      "[0.0, 192.2907032821313, 8.377639e6]\n",
      "Query: c:\\Users\\diand\\OneDrive\\Desktop\\Cardinality-with-Colors/queryset/aids/Tree_3/uf_Q_2_2.txt\n",
      "[0.0, 192.2907032821313, 8.377639e6]\n",
      "Query: c:\\Users\\diand\\OneDrive\\Desktop\\Cardinality-with-Colors/queryset/aids/Tree_3/uf_Q_2_3.txt\n",
      "[0.0, 57.64524149105169, "
     ]
    },
    {
     "name": "stdout",
     "output_type": "stream",
     "text": [
      "3.841136e6]\n",
      "Query: c:\\Users\\diand\\OneDrive\\Desktop\\Cardinality-with-Colors/queryset/aids/Tree_3/uf_Q_2_4.txt\n",
      "[0.0, 33097.37548325221, 1.245302721e9]\n",
      "Query: c:\\Users\\diand\\OneDrive\\Desktop\\Cardinality-with-Colors/queryset/aids/Tree_3/uf_Q_2_5.txt\n",
      "[0.0, 143.15063073584835, 6.537938e6]\n",
      "Query: c:\\Users\\diand\\OneDrive\\Desktop\\Cardinality-with-Colors/queryset/aids/Tree_3/uf_Q_2_6.txt\n",
      "[0.0, 49.09794638312119, 20783.0]\n",
      "Query: c:\\Users\\diand\\OneDrive\\Desktop\\Cardinality-with-Colors/queryset/aids/Tree_3/uf_Q_2_7.txt\n"
     ]
    },
    {
     "name": "stdout",
     "output_type": "stream",
     "text": [
      "[0.0, 150.32686793406225, 28046.0]\n",
      "Query: c:\\Users\\diand\\OneDrive\\Desktop\\Cardinality-with-Colors/queryset/aids/Tree_3/uf_Q_2_8.txt\n",
      "[0.0, 315.9903210624881, 7.610296e6]\n",
      "Query: c:\\Users\\diand\\OneDrive\\Desktop\\Cardinality-with-Colors/queryset/aids/Tree_3/uf_Q_2_9.txt\n",
      "[0.0, 315.9903210624881, 7.610296e6]\n",
      "Query: c:\\Users\\diand\\OneDrive\\Desktop\\Cardinality-with-Colors/queryset/aids/Tree_3/uf_Q_3_1.txt\n",
      "[0.0, 2807.599588427312, 6.8520251e7]\n",
      "Query: c:\\Users\\diand\\OneDrive\\Desktop\\Cardinality-with-Colors/queryset/aids/Tree_3/uf_Q_3_10.txt\n",
      "[0.0, 987.3173181668803, 2.2277402e7]\n",
      "Query: c:\\Users\\diand\\OneDrive\\Desktop\\Cardinality-with-Colors/queryset/aids/Tree_3/uf_Q_3_11.txt\n"
     ]
    },
    {
     "name": "stdout",
     "output_type": "stream",
     "text": [
      "[0.0, 2807.599588427312, 6.8520251e7]\n",
      "Query: c:\\Users\\diand\\OneDrive\\Desktop\\Cardinality-with-Colors/queryset/aids/Tree_3/uf_Q_3_2.txt\n",
      "[0.0, 2807.599588427312, 6.8520251e7]\n",
      "Query: c:\\Users\\diand\\OneDrive\\Desktop\\Cardinality-with-Colors/queryset/aids/Tree_3/uf_Q_3_3.txt\n",
      "[0.0, 1402.9481101339043, 6.109818e6]\n",
      "Query: c:\\Users\\diand\\OneDrive\\Desktop\\Cardinality-with-Colors/queryset/aids/Tree_3/uf_Q_3_4.txt\n",
      "[0.0, 1862.1801415080274, 3.4712759e7]\n",
      "Query: c:\\Users\\diand\\OneDrive\\Desktop\\Cardinality-with-Colors/queryset/aids/Tree_3/uf_Q_3_5.txt\n",
      "[0.0, "
     ]
    },
    {
     "name": "stdout",
     "output_type": "stream",
     "text": [
      "425.3762849264096, 5.355187e6]\n",
      "Query: c:\\Users\\diand\\OneDrive\\Desktop\\Cardinality-with-Colors/queryset/aids/Tree_3/uf_Q_3_6.txt\n",
      "[0.0, 4460.344590277803, 6.054098e6]\n",
      "Query: c:\\Users\\diand\\OneDrive\\Desktop\\Cardinality-with-Colors/queryset/aids/Tree_3/uf_Q_3_7.txt\n",
      "[0.0, 460.7686244559991, 1.4667232e7]\n",
      "Query: c:\\Users\\diand\\OneDrive\\Desktop\\Cardinality-with-Colors/queryset/aids/Tree_3/uf_Q_3_8.txt\n"
     ]
    },
    {
     "name": "stdout",
     "output_type": "stream",
     "text": [
      "[0.0, 1271.8863761059624, 2.9752723e7]\n",
      "Query: c:\\Users\\diand\\OneDrive\\Desktop\\Cardinality-with-Colors/queryset/aids/Tree_3/uf_Q_3_9.txt\n",
      "[0.0, 2807.599588427312,"
     ]
    },
    {
     "name": "stdout",
     "output_type": "stream",
     "text": [
      " 6.8520251e7]\n",
      "Query: c:\\Users\\diand\\OneDrive\\Desktop\\Cardinality-with-Colors/queryset/aids/Tree_3/uf_Q_4_1.txt\n",
      "[0.0, 18768.988599148743, 6.88453428e8]\n",
      "Query: c:\\Users\\diand\\OneDrive\\Desktop\\Cardinality-with-Colors/queryset/aids/Tree_3/uf_Q_4_10.txt\n",
      "[0.0, 95477.61975781924, 1.798176462e9]\n",
      "Query: c:\\Users\\diand\\OneDrive\\Desktop\\Cardinality-with-Colors/queryset/aids/Tree_3/uf_Q_4_11.txt\n",
      "[0.0, 67277.78884650244, 1.94609471e9]\n"
     ]
    },
    {
     "name": "stdout",
     "output_type": "stream",
     "text": [
      "Query: c:\\Users\\diand\\OneDrive\\Desktop\\Cardinality-with-Colors/queryset/aids/Tree_3/uf_Q_4_12.txt\n",
      "[0.0, 80493.39876984623, 2.07877789e9]\n",
      "Query: c:\\Users\\diand\\OneDrive\\Desktop\\Cardinality-with-Colors/queryset/aids/Tree_3/uf_Q_4_13.txt\n",
      "[0.0, 67277.78884650244, 1.94609471e9]\n",
      "Query: c:\\Users\\diand\\OneDrive\\Desktop\\Cardinality-with-Colors/queryset/aids/Tree_3/uf_Q_4_14.txt\n",
      "[0.0, 22377.559021896446, "
     ]
    },
    {
     "name": "stdout",
     "output_type": "stream",
     "text": [
      "5.88994117e8]\n",
      "Query: c:\\Users\\diand\\OneDrive\\Desktop\\Cardinality-with-Colors/queryset/aids/Tree_3/uf_Q_4_15.txt\n",
      "[0.0, 80493.3987698463, 3.07759392e9]\n",
      "Query: c:\\Users\\diand\\OneDrive\\Desktop\\Cardinality-with-Colors/queryset/aids/Tree_3/uf_Q_4_16.txt\n",
      "[0.0, 80493.39876984623, 2.07877789e9]\n",
      "Query: c:\\Users\\diand\\OneDrive\\Desktop\\Cardinality-with-Colors/queryset/aids/Tree_3/uf_Q_4_17.txt\n",
      "[0.0, 80493.3987698463"
     ]
    },
    {
     "name": "stdout",
     "output_type": "stream",
     "text": [
      ", 3.07759392e9]\n",
      "Query: c:\\Users\\diand\\OneDrive\\Desktop\\Cardinality-with-Colors/queryset/aids/Tree_3/uf_Q_4_18.txt\n",
      "[0.0, 80493.39876984623, 2.07877789e9]\n",
      "Query: c:\\Users\\diand\\OneDrive\\Desktop\\Cardinality-with-Colors/queryset/aids/Tree_3/uf_Q_4_19.txt\n",
      "[0.0, 95477.61975781922, 3.211671504e9]\n",
      "Query: c:\\Users\\diand\\OneDrive\\Desktop\\Cardinality-with-Colors/queryset/aids/Tree_3/uf_Q_4_2.txt\n"
     ]
    },
    {
     "name": "stdout",
     "output_type": "stream",
     "text": [
      "[0.0, 95477.61975781924, 1.798176462e9]\n",
      "Query: c:\\Users\\diand\\OneDrive\\Desktop\\Cardinality-with-Colors/queryset/aids/Tree_3/uf_Q_4_20.txt\n",
      "[0.0, 95477.61975781924, 1.798176462e9]\n",
      "Query: c:\\Users\\diand\\OneDrive\\Desktop\\Cardinality-with-Colors/queryset/aids/Tree_3/uf_Q_4_3.txt\n",
      "[0.0, 95477.61975781922, 3.211671504e9]\n",
      "Query: c:\\Users\\diand\\OneDrive\\Desktop\\Cardinality-with-Colors/queryset/aids/Tree_3/uf_Q_4_4.txt\n",
      "[0.0, 260655.2786174025, 2.350713444e9]"
     ]
    },
    {
     "name": "stdout",
     "output_type": "stream",
     "text": [
      "\n",
      "Query: c:\\Users\\diand\\OneDrive\\Desktop\\Cardinality-with-Colors/queryset/aids/Tree_3/uf_Q_4_5.txt\n",
      "[0.0, 67277.78884650244, 1.94609471e9]\n",
      "Query: c:\\Users\\diand\\OneDrive\\Desktop\\Cardinality-with-Colors/queryset/aids/Tree_3/uf_Q_4_6.txt\n",
      "[0.0, 80493.3987698463, 3.07759392e9]\n",
      "Query: c:\\Users\\diand\\OneDrive\\Desktop\\Cardinality-with-Colors/queryset/aids/Tree_3/uf_Q_4_7.txt\n",
      "[0.0, 80493.39876984623, 2.07877789e9]\n",
      "Query: c:\\Users\\diand\\OneDrive\\Desktop\\Cardinality-with-Colors/queryset/aids/Tree_3/uf_Q_4_8.txt\n",
      "[0.0, 67277.78884650244, "
     ]
    },
    {
     "name": "stdout",
     "output_type": "stream",
     "text": [
      "1.94609471e9]\n",
      "Query: c:\\Users\\diand\\OneDrive\\Desktop\\Cardinality-with-Colors/queryset/aids/Tree_3/uf_Q_4_9.txt\n",
      "[0.0, 80493.3987698463, 3.07759392e9]\n",
      "Query: c:\\Users\\diand\\OneDrive\\Desktop\\Cardinality-with-Colors/queryset/aids/Tree_3/uf_Q_5_1.txt\n",
      "[0.0, 287241.90416160866, 2.675107704e9]\n",
      "Query: c:\\Users\\diand\\OneDrive\\Desktop\\Cardinality-with-Colors/queryset/aids/Tree_6/uf_Q_1_1.txt\n"
     ]
    },
    {
     "name": "stdout",
     "output_type": "stream",
     "text": [
      "[0.0, 3.699226339642431, 2.0090196e8]\n",
      "Query: c:\\Users\\diand\\OneDrive\\Desktop\\Cardinality-with-Colors/queryset/aids/Tree_6/uf_Q_1_2.txt\n",
      "[0.0, 0.016656023519813896, 3.45126894e8]\n",
      "Query: c:\\Users\\diand\\OneDrive\\Desktop\\Cardinality-with-Colors/queryset/aids/Tree_6/uf_Q_1_3.txt\n",
      "[0.0, 4.339881436893895, 4.7112784312e10]\n",
      "Query: c:\\Users\\diand\\OneDrive\\Desktop\\Cardinality-with-Colors/queryset/aids/Tree_6/uf_Q_1_4.txt"
     ]
    },
    {
     "name": "stdout",
     "output_type": "stream",
     "text": [
      "\n",
      "[0.0, 0.039480630526856034, 5.8071256e7]\n",
      "Query: c:\\Users\\diand\\OneDrive\\Desktop\\Cardinality-with-Colors/queryset/aids/Tree_6/uf_Q_2_1.txt\n",
      "[0.0, 0.9372960324079838, 4.74073617e9]\n",
      "Query: c:\\Users\\diand\\OneDrive\\Desktop\\Cardinality-with-Colors/queryset/aids/Tree_6/uf_Q_2_2.txt\n",
      "[0.0, 23.912237924749583, 3.3090652444e10]\n",
      "Query: c:\\Users\\diand\\OneDrive\\Desktop\\Cardinality-with-Colors/queryset/aids/Tree_6/uf_Q_2_3.txt\n"
     ]
    },
    {
     "name": "stdout",
     "output_type": "stream",
     "text": [
      "[0.0, 14.725895232289021, 1.5751705725e10]\n",
      "Query: c:\\Users\\diand\\OneDrive\\Desktop\\Cardinality-with-Colors/queryset/aids/Tree_6/uf_Q_2_4.txt\n",
      "[0.0, 18.132203684033584, 1.1855357886e11]\n",
      "Query: c:\\Users\\diand\\OneDrive\\Desktop\\Cardinality-with-Colors/queryset/aids/Tree_6/uf_Q_2_5.txt\n",
      "[0.0, 110.12224815650909, 1.44602463715e11]\n",
      "Query: c:\\Users\\diand\\OneDrive\\Desktop\\Cardinality-with-Colors/queryset/aids/Tree_6/uf_Q_2_6.txt\n",
      "[0.0, 46.18023935684587, 3.532422605e9]\n",
      "Query: c:\\Users\\diand\\OneDrive\\Desktop\\Cardinality-with-Colors/queryset/aids/Tree_6/uf_Q_3_1.txt\n",
      "[0.0, 114.60623562866775, 4.6737111724e10]\n"
     ]
    },
    {
     "name": "stdout",
     "output_type": "stream",
     "text": [
      "Query: c:\\Users\\diand\\OneDrive\\Desktop\\Cardinality-with-Colors/queryset/aids/Tree_6/uf_Q_3_10.txt\n",
      "[0.0, 358.6771080960864, 1.2526313364e10]\n",
      "Query: c:\\Users\\diand\\OneDrive\\Desktop\\Cardinality-with-Colors/queryset/aids/Tree_6/uf_Q_3_11.txt\n",
      "[0.0, 5876.523038087009, 1.401128343057e12]\n",
      "Query: c:\\Users\\diand\\OneDrive\\Desktop\\Cardinality-with-Colors/queryset/aids/Tree_6/uf_Q_3_12.txt\n",
      "[0.0, 685.2423779963797, 3.20935682575e11]\n"
     ]
    },
    {
     "name": "stdout",
     "output_type": "stream",
     "text": [
      "Query: c:\\Users\\diand\\OneDrive\\Desktop\\Cardinality-with-Colors/queryset/aids/Tree_6/uf_Q_3_13.txt\n",
      "[0.0, 482.65758492945935, 3.6540737945e10]\n",
      "Query: c:\\Users\\diand\\OneDrive\\Desktop\\Cardinality-with-Colors/queryset/aids/Tree_6/uf_Q_3_14.txt\n",
      "[0.0, 4709.884976195764, 1.11280058359e12]\n",
      "Query: c:\\Users\\diand\\OneDrive\\Desktop\\Cardinality-with-Colors/queryset/aids/Tree_6/uf_Q_3_2.txt\n",
      "[0.0, 343.7882139395392, 1.9848353319e10]\n",
      "Query: c:\\Users\\diand\\OneDrive\\Desktop\\Cardinality-with-Colors/queryset/aids/Tree_6/uf_Q_3_3.txt\n"
     ]
    },
    {
     "name": "stdout",
     "output_type": "stream",
     "text": [
      "[0.0, 438.7845849568439, 1.74905981716e11]\n",
      "Query: c:\\Users\\diand\\OneDrive\\Desktop\\Cardinality-with-Colors/queryset/aids/Tree_6/uf_Q_3_4.txt\n",
      "[0.0, 131.63116514808092, 7.0283427481e10]\n",
      "Query: c:\\Users\\diand\\OneDrive\\Desktop\\Cardinality-with-Colors/queryset/aids/Tree_6/uf_Q_3_5.txt\n",
      "[0.0, 569.4215636007409, 3.6643544676e10]\n",
      "Query: c:\\Users\\diand\\OneDrive\\Desktop\\Cardinality-with-Colors/queryset/aids/Tree_6/uf_Q_3_6.txt\n"
     ]
    },
    {
     "name": "stdout",
     "output_type": "stream",
     "text": [
      "[0.0, 91984.1952093398, 4.4976468553738e13]\n",
      "Query: c:\\Users\\diand\\OneDrive\\Desktop\\Cardinality-with-Colors/queryset/aids/Tree_6/uf_Q_3_7.txt\n",
      "[0.0, 1007.9504486847044, 2.135376813e11]\n",
      "Query: c:\\Users\\diand\\OneDrive\\Desktop\\Cardinality-with-Colors/queryset/aids/Tree_6/uf_Q_3_8.txt\n"
     ]
    },
    {
     "name": "stdout",
     "output_type": "stream",
     "text": [
      "[0.0, 412.92673519647025, 3.61151973413e11]\n",
      "Query: c:\\Users\\diand\\OneDrive\\Desktop\\Cardinality-with-Colors/queryset/aids/Tree_6/uf_Q_3_9.txt\n",
      "[0.0, 447.2605933535686, 3.27057411445e11]\n",
      "Query: c:\\Users\\diand\\OneDrive\\Desktop\\Cardinality-with-Colors/queryset/aids/Tree_6/uf_Q_4_1.txt\n",
      "[0.0"
     ]
    },
    {
     "name": "stdout",
     "output_type": "stream",
     "text": [
      ", 3617.8424401395646, 2.77239411899e11]\n",
      "Query: c:\\Users\\diand\\OneDrive\\Desktop\\Cardinality-with-Colors/queryset/aids/Tree_6/uf_Q_4_2.txt\n",
      "[0.0, 42918.29758489521, 3.1863275077983e13]\n",
      "Query: c:\\Users\\diand\\OneDrive\\Desktop\\Cardinality-with-Colors/queryset/aids/Tree_6/uf_Q_4_3.txt\n",
      "[0.0, 592.6839172404085, 1.12374426431e11]\n"
     ]
    },
    {
     "name": "stdout",
     "output_type": "stream",
     "text": [
      "Query: c:\\Users\\diand\\OneDrive\\Desktop\\Cardinality-with-Colors/queryset/aids/Tree_6/uf_Q_4_4.txt\n",
      "[0.0, 3437.1613940711786, 1.9196930874e11]\n",
      "Query: c:\\Users\\diand\\OneDrive\\Desktop\\Cardinality-with-Colors/queryset/aids/Tree_6/uf_Q_4_5.txt\n"
     ]
    },
    {
     "name": "stdout",
     "output_type": "stream",
     "text": [
      "[0.0, 51671.3450164371, 2.3086308504585e13]\n",
      "Query: c:\\Users\\diand\\OneDrive\\Desktop\\Cardinality-with-Colors/queryset/aids/Tree_6/uf_Q_5_1.txt\n",
      "[0.0, 52534.459178856225, 2.4949915558945e13]\n",
      "Query: c:\\Users\\diand\\OneDrive\\Desktop\\Cardinality-with-Colors/queryset/aids/Tree_6/uf_Q_5_10.txt\n",
      "[0.0, 172611.4346328021,"
     ]
    },
    {
     "name": "stdout",
     "output_type": "stream",
     "text": [
      " 6.9636271314568e13]\n",
      "Query: c:\\Users\\diand\\OneDrive\\Desktop\\Cardinality-with-Colors/queryset/aids/Tree_6/uf_Q_5_11.txt\n",
      "[0.0, 52896.80946391093, 2.4815857680331e13]\n",
      "Query: c:\\Users\\diand\\OneDrive\\Desktop\\Cardinality-with-Colors/queryset/aids/Tree_6/uf_Q_5_12.txt\n"
     ]
    },
    {
     "name": "stdout",
     "output_type": "stream",
     "text": [
      "[0.0, 183066.33817309001, 7.4475303451242e13]\n",
      "Query: c:\\Users\\diand\\OneDrive\\Desktop\\Cardinality-with-Colors/queryset/aids/Tree_6/uf_Q_5_13.txt\n",
      "[0.0, 221488.31419847326, 7.3120595332472e13]\n",
      "Query: c:\\Users\\diand\\OneDrive\\Desktop\\Cardinality-with-Colors/queryset/aids/Tree_6/uf_Q_5_14.txt\n",
      "[0.0, 208805.54073562854, 7.2434829271614e13]\n",
      "Query: c:\\Users\\diand\\OneDrive\\Desktop\\Cardinality-with-Colors/queryset/aids/Tree_6/uf_Q_5_15.txt"
     ]
    },
    {
     "name": "stdout",
     "output_type": "stream",
     "text": [
      "\n",
      "[0.0, 68359.59117630238, 3.3669629779048e13]\n",
      "Query: c:\\Users\\diand\\OneDrive\\Desktop\\Cardinality-with-Colors/queryset/aids/Tree_6/uf_Q_5_16.txt\n",
      "[0.0, 208805.54073562895, 5.7354205780531e13]\n",
      "Query: c:\\Users\\diand\\OneDrive\\Desktop\\Cardinality-with-Colors/queryset/aids/Tree_6/uf_Q_5_17.txt\n",
      "[0.0,"
     ]
    },
    {
     "name": "stdout",
     "output_type": "stream",
     "text": [
      " 184238.13100925545, 6.5134558060907e13]\n",
      "Query: c:\\Users\\diand\\OneDrive\\Desktop\\Cardinality-with-Colors/queryset/aids/Tree_6/uf_Q_5_18.txt\n",
      "[0.0, 204398.11798464815, 7.4396696717425e13]\n",
      "Query: c:\\Users\\diand\\OneDrive\\Desktop\\Cardinality-with-Colors/queryset/aids/Tree_6/uf_Q_5_19.txt\n",
      "[0.0, 17873.31969584355, 2.645278804173e12]\n",
      "Query: c:\\Users\\diand\\OneDrive\\Desktop\\Cardinality-with-Colors/queryset/aids/Tree_6/uf_Q_5_2.txt\n"
     ]
    },
    {
     "name": "stdout",
     "output_type": "stream",
     "text": [
      "[0.0, 53846.17543249053, 2.9817384694693e13]\n",
      "Query: c:\\Users\\diand\\OneDrive\\Desktop\\Cardinality-with-Colors/queryset/aids/Tree_6/uf_Q_5_20.txt\n",
      "[0.0, 221488.31419847326, 7.3120595332472e13]\n",
      "Query: c:\\Users\\diand\\OneDrive\\Desktop\\Cardinality-with-Colors/queryset/aids/Tree_6/uf_Q_5_3.txt\n",
      "[0.0, 330838.3402223788, 1.60515283863646e14]\n",
      "Query: c:\\Users\\diand\\OneDrive\\Desktop\\Cardinality-with-Colors/queryset/aids/Tree_6/uf_Q_5_4.txt\n",
      "[0.0, 260225.4475250312, 1.20941705283506e14]\n",
      "Query: c:\\Users\\diand\\OneDrive\\Desktop\\Cardinality-with-Colors/queryset/aids/Tree_6/uf_Q_5_5.txt\n"
     ]
    },
    {
     "name": "stdout",
     "output_type": "stream",
     "text": [
      "[0.0, 204819.69870363886, 7.1772898252622e13]\n",
      "Query: c:\\Users\\diand\\OneDrive\\Desktop\\Cardinality-with-Colors/queryset/aids/Tree_6/uf_Q_5_6.txt\n",
      "[0.0, 16180.190874299873, 1.1977927082562e13]\n",
      "Query: c:\\Users\\diand\\OneDrive\\Desktop\\Cardinality-with-Colors/queryset/aids/Tree_6/uf_Q_5_7.txt\n",
      "[0.0, 8244.04936522604, 2.212573820036e12]"
     ]
    },
    {
     "name": "stdout",
     "output_type": "stream",
     "text": [
      "\n",
      "Query: c:\\Users\\diand\\OneDrive\\Desktop\\Cardinality-with-Colors/queryset/aids/Tree_6/uf_Q_5_8.txt\n",
      "[0.0, 230614.79290376522, 8.9893591324496e13]\n",
      "Query: c:\\Users\\diand\\OneDrive\\Desktop\\Cardinality-with-Colors/queryset/aids/Tree_6/uf_Q_5_9.txt\n",
      "[0.0, 170682.3464126383, 7.2222070052093e13]\n",
      "Query: c:\\Users\\diand\\OneDrive\\Desktop\\Cardinality-with-Colors/queryset/aids/Tree_9/uf_Q_0_1.txt\n",
      "[0.0, 1.7155637097572693e-5, 2.4155232e10]\n",
      "Query: c:\\Users\\diand\\OneDrive\\Desktop\\Cardinality-with-Colors/queryset/aids/Tree_9/uf_Q_2_1.txt\n",
      "[0.0, 566.4429376478804, 1.25232454626179e15]\n",
      "Query: "
     ]
    },
    {
     "name": "stdout",
     "output_type": "stream",
     "text": [
      "c:\\Users\\diand\\OneDrive\\Desktop\\Cardinality-with-Colors/queryset/aids/Tree_9/uf_Q_3_1.txt\n",
      "[0.0, 23.18598908510349, 7.66987352540144e14]\n",
      "Query: c:\\Users\\diand\\OneDrive\\Desktop\\Cardinality-with-Colors/queryset/aids/Tree_9/uf_Q_3_10.txt\n",
      "[0.0, 191.94354636333793, 2.324728379910112e15]\n",
      "Query: c:\\Users\\diand\\OneDrive\\Desktop\\Cardinality-with-Colors/queryset/aids/Tree_9/uf_Q_3_2.txt\n",
      "[0.0, 5957.701108238443, 8.060316896028705e15]\n",
      "Query: c:\\Users\\diand\\OneDrive\\Desktop\\Cardinality-with-Colors/queryset/aids/Tree_9/uf_Q_3_3.txt\n",
      "[0.0, 25.715914327926328, 2.3620442877134e14]\n"
     ]
    },
    {
     "name": "stdout",
     "output_type": "stream",
     "text": [
      "Query: c:\\Users\\diand\\OneDrive\\Desktop\\Cardinality-with-Colors/queryset/aids/Tree_9/uf_Q_3_4.txt\n",
      "[0.0, 33.80440003501979, 5.448722798736e14]\n",
      "Query: c:\\Users\\diand\\OneDrive\\Desktop\\Cardinality-with-Colors/queryset/aids/Tree_9/uf_Q_3_5.txt\n"
     ]
    },
    {
     "name": "stdout",
     "output_type": "stream",
     "text": [
      "[0.0, 19.619846911514713, 4.36824962595e14]\n",
      "Query: c:\\Users\\diand\\OneDrive\\Desktop\\Cardinality-with-Colors/queryset/aids/Tree_9/uf_Q_3_6.txt\n",
      "[0.0, 186.74978853863857, 1.937050502632175e15]\n",
      "Query: c:\\Users\\diand\\OneDrive\\Desktop\\Cardinality-with-Colors/queryset/aids/Tree_9/uf_Q_3_7.txt"
     ]
    },
    {
     "name": "stdout",
     "output_type": "stream",
     "text": [
      "\n",
      "[0.0, 40.62112884077094, 3.28661879659596e14]\n",
      "Query: c:\\Users\\diand\\OneDrive\\Desktop\\Cardinality-with-Colors/queryset/aids/Tree_9/uf_Q_3_8.txt\n",
      "[0.0, 0.04703839866016603, 1.2659630481072e13]\n"
     ]
    },
    {
     "name": "stdout",
     "output_type": "stream",
     "text": [
      "Query: c:\\Users\\diand\\OneDrive\\Desktop\\Cardinality-with-Colors/queryset/aids/Tree_9/uf_Q_3_9.txt\n",
      "[0.0, 75.37850883653861, 4.68800607914744e14]\n",
      "Query: c:\\Users\\diand\\OneDrive\\Desktop\\Cardinality-with-Colors/queryset/aids/Tree_9/uf_Q_4_1.txt\n",
      "[0.0, 58.2733849128974, 5.57294388757295e14"
     ]
    },
    {
     "name": "stdout",
     "output_type": "stream",
     "text": [
      "]\n",
      "Query: c:\\Users\\diand\\OneDrive\\Desktop\\Cardinality-with-Colors/queryset/aids/Tree_9/uf_Q_4_10.txt\n",
      "[0.0, 373.7640099171705, 1.286990033066776e15]\n",
      "Query: c:\\Users\\diand\\OneDrive\\Desktop\\Cardinality-with-Colors/queryset/aids/Tree_9/uf_Q_4_11.txt\n",
      "[0.0, 19068.962212775303, 2.205735377284226e16]\n"
     ]
    },
    {
     "name": "stdout",
     "output_type": "stream",
     "text": [
      "Query: c:\\Users\\diand\\OneDrive\\Desktop\\Cardinality-with-Colors/queryset/aids/Tree_9/uf_Q_4_12.txt\n",
      "[0.0, 34698.966665760774, 2.846168185916523e17]\n",
      "Query: c:\\Users\\diand\\OneDrive\\Desktop\\Cardinality-with-Colors/queryset/aids/Tree_9/uf_Q_4_13.txt\n",
      "[0.0, 491.471593627524, 1.09222169576868e15]\n",
      "Query: c:\\Users\\diand\\OneDrive\\Desktop\\Cardinality-with-Colors/queryset/aids/Tree_9/uf_Q_4_14.txt\n",
      "[0.0, 15356.745431108531"
     ]
    },
    {
     "name": "stdout",
     "output_type": "stream",
     "text": [
      ", 1.213633298876693e15]\n",
      "Query: c:\\Users\\diand\\OneDrive\\Desktop\\Cardinality-with-Colors/queryset/aids/Tree_9/uf_Q_4_15.txt\n",
      "[0.0, 4249.16101146704, 1.00993518927e13]\n",
      "Query: c:\\Users\\diand\\OneDrive\\Desktop\\Cardinality-with-Colors/queryset/aids/Tree_9/uf_Q_4_2.txt\n"
     ]
    },
    {
     "name": "stdout",
     "output_type": "stream",
     "text": [
      "[0.0, 38.44859051687584, 5.03887790724052e14]\n",
      "Query: c:\\Users\\diand\\OneDrive\\Desktop\\Cardinality-with-Colors/queryset/aids/Tree_9/uf_Q_4_3.txt\n",
      "[0.0, 2466.9515185573687, 1.281006048373016e15]\n",
      "Query: c:\\Users\\diand\\OneDrive\\Desktop\\Cardinality-with-Colors/queryset/aids/Tree_9/uf_Q_4_4.txt\n"
     ]
    },
    {
     "name": "stdout",
     "output_type": "stream",
     "text": [
      "[0.0, 2356.15640518483, 3.748016657598279e15]\n",
      "Query: c:\\Users\\diand\\OneDrive\\Desktop\\Cardinality-with-Colors/queryset/aids/Tree_9/uf_Q_4_5.txt"
     ]
    },
    {
     "name": "stdout",
     "output_type": "stream",
     "text": [
      "\n",
      "[0.0, 7626.2324756880735, 9.64916625651871e15]\n",
      "Query: c:\\Users\\diand\\OneDrive\\Desktop\\Cardinality-with-Colors/queryset/aids/Tree_9/uf_Q_4_6.txt\n",
      "[0.0, 307344.68370139116, 1.063547657440884e18]\n",
      "Query: c:\\Users\\diand\\OneDrive\\Desktop\\Cardinality-with-Colors/queryset/aids/Tree_9/uf_Q_4_7.txt\n",
      "[0.0, 275.8217377800641, 2.030278723885165e15]\n",
      "Query: c:\\Users\\diand\\OneDrive\\Desktop\\Cardinality-with-Colors/queryset/aids/Tree_9/uf_Q_4_8.txt\n"
     ]
    },
    {
     "name": "stdout",
     "output_type": "stream",
     "text": [
      "[0.0, 351.7825258231458, 7.054415112298742e15]\n",
      "Query: c:\\Users\\diand\\OneDrive\\Desktop\\Cardinality-with-Colors/queryset/aids/Tree_9/uf_Q_4_9.txt\n",
      "[0.0, 300978.180874745, 1.4079448496948027e18]\n",
      "Query: c:\\Users\\diand\\OneDrive\\Desktop\\Cardinality-with-Colors/queryset/aids/Tree_9/uf_Q_5_1.txt\n",
      "[0.0, 9815.039554286059, "
     ]
    },
    {
     "name": "stdout",
     "output_type": "stream",
     "text": [
      "8.89656485500494e16]\n",
      "Query: c:\\Users\\diand\\OneDrive\\Desktop\\Cardinality-with-Colors/queryset/aids/Tree_9/uf_Q_5_10.txt\n",
      "[0.0, 8176.664630970149, 2.2414150551428264e16]\n",
      "Query: c:\\Users\\diand\\OneDrive\\Desktop\\Cardinality-with-Colors/queryset/aids/Tree_9/uf_Q_5_11.txt\n"
     ]
    },
    {
     "name": "stdout",
     "output_type": "stream",
     "text": [
      "[0.0, 8439.911214786502, 1.6739634448767072e17]\n",
      "Query: c:\\Users\\diand\\OneDrive\\Desktop\\Cardinality-with-Colors/queryset/aids/Tree_9/uf_Q_5_2.txt\n",
      "[0.0, 186887.7419645755, 1.0074603866429225e18]\n",
      "Query: c:\\Users\\diand\\OneDrive\\Desktop\\Cardinality-with-Colors/queryset/aids/Tree_9/uf_Q_5_3.txt\n"
     ]
    },
    {
     "name": "stdout",
     "output_type": "stream",
     "text": [
      "[0.0, 4200.239505645841, 6.063951207743072e15]\n",
      "Query: c:\\Users\\diand\\OneDrive\\Desktop\\Cardinality-with-Colors/queryset/aids/Tree_9/uf_Q_5_4.txt\n",
      "[0.0, 7353.919480288371, 1.93352017183976e14]\n",
      "Query: c:\\Users\\diand\\OneDrive\\Desktop\\Cardinality-with-Colors/queryset/aids/Tree_9/uf_Q_5_5.txt\n",
      "[0.0, 27359.984440916047, 1.1688152874176706e16]\n",
      "Query: "
     ]
    },
    {
     "name": "stdout",
     "output_type": "stream",
     "text": [
      "c:\\Users\\diand\\OneDrive\\Desktop\\Cardinality-with-Colors/queryset/aids/Tree_9/uf_Q_5_6.txt\n",
      "[0.0, 123635.77047342212, 1.1111363770402758e18]\n",
      "Query: c:\\Users\\diand\\OneDrive\\Desktop\\Cardinality-with-Colors/queryset/aids/Tree_9/uf_Q_5_7.txt\n",
      "[0.0, 391.2781062263045, 2.954321317063792e15]\n",
      "Query: c:\\Users\\diand\\OneDrive\\Desktop\\Cardinality-with-Colors/queryset/aids/Tree_9/uf_Q_5_8.txt\n",
      "["
     ]
    },
    {
     "name": "stdout",
     "output_type": "stream",
     "text": [
      "0.0, 573646.9887046817, 9.48850164769901e17]\n",
      "Query: c:\\Users\\diand\\OneDrive\\Desktop\\Cardinality-with-Colors/queryset/aids/Tree_9/uf_Q_5_9.txt\n",
      "[0.0, 50534.518588423976, 4.914929243552873e16]\n",
      "Query: "
     ]
    },
    {
     "name": "stdout",
     "output_type": "stream",
     "text": [
      "c:\\Users\\diand\\OneDrive\\Desktop\\Cardinality-with-Colors/queryset/aids/Tree_12/uf_Q_0_1.txt\n",
      "[0.0, 1.17137943058951e-9, 8.63862784e11]\n",
      "Query: c:\\Users\\diand\\OneDrive\\Desktop\\Cardinality-with-Colors/queryset/aids/Tree_12/uf_Q_3_1.txt\n",
      "[0.0, 3.332208858381973, 1.8046860613804676e16]\n",
      "Query: c:\\Users\\diand\\OneDrive\\Desktop\\Cardinality-with-Colors/queryset/aids/Tree_12/uf_Q_3_11.txt\n",
      "[0.0, 29.589194241809107, 8.106344584680038e16]\n"
     ]
    },
    {
     "name": "stdout",
     "output_type": "stream",
     "text": [
      "Query: c:\\Users\\diand\\OneDrive\\Desktop\\Cardinality-with-Colors/queryset/aids/Tree_12/uf_Q_3_2.txt\n",
      "[0.0, 14.422272492524847, 1.5715731760063625e19]\n",
      "Query: c:\\Users\\diand\\OneDrive\\Desktop\\Cardinality-with-Colors/queryset/aids/Tree_12/uf_Q_4_1.txt\n",
      "[0.0, 113.68675940677896, 1.382220400871747e19]\n",
      "Query: c:\\Users\\diand\\OneDrive\\Desktop\\Cardinality-with-Colors/queryset/aids/Tree_12/uf_Q_4_10.txt\n",
      "[0.0, 415.71646641462337, 2.751184117083191e19]\n",
      "Query: c:\\Users\\diand\\OneDrive\\Desktop\\Cardinality-with-Colors/queryset/aids/Tree_12/uf_Q_4_11.txt\n"
     ]
    },
    {
     "name": "stdout",
     "output_type": "stream",
     "text": [
      "[0.0, 2921.7865186617228, 1.736314953291225e19]\n",
      "Query: c:\\Users\\diand\\OneDrive\\Desktop\\Cardinality-with-Colors/queryset/aids/Tree_12/uf_Q_4_12.txt\n",
      "[0.0, 1405.2340693518277, 1.3107069294258931e20]\n",
      "Query: c:\\Users\\diand\\OneDrive\\Desktop\\Cardinality-with-Colors/queryset/aids/Tree_12/uf_Q_4_13.txt\n"
     ]
    },
    {
     "name": "stdout",
     "output_type": "stream",
     "text": [
      "[0.0, 88.9169328983095, 2.6436883387352506e19]\n",
      "Query: c:\\Users\\diand\\OneDrive\\Desktop\\Cardinality-with-Colors/queryset/aids/Tree_12/uf_Q_4_14.txt\n",
      "[0.0, 0.006519588273119775, 1.12139991053568e14]\n",
      "Query: c:\\Users\\diand\\OneDrive\\Desktop\\Cardinality-with-Colors/queryset/aids/Tree_12/uf_Q_4_2.txt\n"
     ]
    },
    {
     "name": "stdout",
     "output_type": "stream",
     "text": [
      "[0.0, 1550.1176749229367, 1.8591330387811172e20]\n",
      "Query: c:\\Users\\diand\\OneDrive\\Desktop\\Cardinality-with-Colors/queryset/aids/Tree_12/uf_Q_4_3.txt\n",
      "[0.0, 1747.511104503433, 2.041281291903681e20]\n"
     ]
    },
    {
     "name": "stdout",
     "output_type": "stream",
     "text": [
      "Query: c:\\Users\\diand\\OneDrive\\Desktop\\Cardinality-with-Colors/queryset/aids/Tree_12/uf_Q_4_4.txt\n",
      "[0.0, 177.59692250440864, 1.1464842584268593e19]\n",
      "Query: c:\\Users\\diand\\OneDrive\\Desktop\\Cardinality-with-Colors/queryset/aids/Tree_12/uf_Q_4_5.txt\n"
     ]
    },
    {
     "name": "stdout",
     "output_type": "stream",
     "text": [
      "[0.0, 76.77088970334839, 1.764820489140639e19]\n",
      "Query: c:\\Users\\diand\\OneDrive\\Desktop\\Cardinality-with-Colors/queryset/aids/Tree_12/uf_Q_4_6.txt"
     ]
    },
    {
     "name": "stdout",
     "output_type": "stream",
     "text": [
      "\n",
      "[0.0, 222.75837122960596, 1.396452403303605e19]\n",
      "Query: c:\\Users\\diand\\OneDrive\\Desktop\\Cardinality-with-Colors/queryset/aids/Tree_12/uf_Q_4_7.txt\n",
      "[0.0, 154.43542089572279, 4.592520206653495e19]\n",
      "Query: c:\\Users\\diand\\OneDrive\\Desktop\\Cardinality-with-Colors/queryset/aids/Tree_12/uf_Q_4_8.txt"
     ]
    },
    {
     "name": "stdout",
     "output_type": "stream",
     "text": [
      "\n",
      "[0.0, 105.9367035455782, 1.844664026609344e19]\n",
      "Query: c:\\Users\\diand\\OneDrive\\Desktop\\Cardinality-with-Colors/queryset/aids/Tree_12/uf_Q_4_9.txt\n",
      "[0.0, 263869.0460161428, 5.534626967269929e21]\n",
      "Query: c:\\Users\\diand\\OneDrive\\Desktop\\Cardinality-with-Colors/queryset/aids/Tree_12/uf_Q_5_1.txt"
     ]
    },
    {
     "name": "stdout",
     "output_type": "stream",
     "text": [
      "\n",
      "[0.0, 142.2980778406003, 1.6689848034507446e19]\n",
      "Query: c:\\Users\\diand\\OneDrive\\Desktop\\Cardinality-with-Colors/queryset/aids/Tree_12/uf_Q_5_10.txt\n"
     ]
    },
    {
     "name": "stdout",
     "output_type": "stream",
     "text": [
      "[0.0, 9568.578828967096, 1.868256521027483e20]\n",
      "Query: c:\\Users\\diand\\OneDrive\\Desktop\\Cardinality-with-Colors/queryset/aids/Tree_12/uf_Q_5_11.txt\n",
      "[0.0, 1.6112172037887613e6, 5.531159191388958e22]\n",
      "Query: c:\\Users\\diand\\OneDrive\\Desktop\\Cardinality-with-Colors/queryset/aids/Tree_12/uf_Q_5_12.txt\n"
     ]
    },
    {
     "name": "stdout",
     "output_type": "stream",
     "text": [
      "[0.0, 698.2591263372841, 1.8699625160246454e20]\n",
      "Query: c:\\Users\\diand\\OneDrive\\Desktop\\Cardinality-with-Colors/queryset/aids/Tree_12/uf_Q_5_13.txt\n",
      "[0.0, 130890.10261276129, 1.5082523125361617e21]\n",
      "Query: c:\\Users\\diand\\OneDrive\\Desktop\\Cardinality-with-Colors/queryset/aids/Tree_12/uf_Q_5_14.txt\n",
      "[0.0, 480.3081881025887, 4.712737676713974e18]\n"
     ]
    },
    {
     "name": "stdout",
     "output_type": "stream",
     "text": [
      "Query: c:\\Users\\diand\\OneDrive\\Desktop\\Cardinality-with-Colors/queryset/aids/Tree_12/uf_Q_5_2.txt\n",
      "[0.0, 1296.737610469255, 2.571468532667302e19]\n",
      "Query: c:\\Users\\diand\\OneDrive\\Desktop\\Cardinality-with-Colors/queryset/aids/Tree_12/uf_Q_5_3.txt\n"
     ]
    },
    {
     "name": "stdout",
     "output_type": "stream",
     "text": [
      "[0.0, 244.48187202266294, 1.2232539709287926e17]\n",
      "Query: c:\\Users\\diand\\OneDrive\\Desktop\\Cardinality-with-Colors/queryset/aids/Tree_12/uf_Q_5_4.txt\n"
     ]
    },
    {
     "name": "stdout",
     "output_type": "stream",
     "text": [
      "[0.0, 79.85742043988213, 9.041134078701176e18]\n",
      "Query: c:\\Users\\diand\\OneDrive\\Desktop\\Cardinality-with-Colors/queryset/aids/Tree_12/uf_Q_5_5.txt\n",
      "[0.0, 23717.775685195516, 6.204311886174761e19]\n",
      "Query: c:\\Users\\diand\\OneDrive\\Desktop\\Cardinality-with-Colors/queryset/aids/Tree_12/uf_Q_5_6.txt"
     ]
    },
    {
     "name": "stdout",
     "output_type": "stream",
     "text": [
      "\n",
      "[0.0, 1338.477907798164, 8.410607670692251e19]\n",
      "Query: c:\\Users\\diand\\OneDrive\\Desktop\\Cardinality-with-Colors/queryset/aids/Tree_12/uf_Q_5_7.txt"
     ]
    },
    {
     "name": "stdout",
     "output_type": "stream",
     "text": [
      "\n",
      "[0.0, 732782.4741047742, 1.5993016320693008e22]\n",
      "Query: c:\\Users\\diand\\OneDrive\\Desktop\\Cardinality-with-Colors/queryset/aids/Tree_12/uf_Q_5_8.txt\n",
      "[0.0, 60.614257752924594, 1.8434287288925422e19]\n",
      "Query: c:\\Users\\diand\\OneDrive\\Desktop\\Cardinality-with-Colors/queryset/aids/Tree_12/uf_Q_5_9.txt\n",
      "[0.0, 482.84014813720347, 4.739280399759701e19]"
     ]
    },
    {
     "name": "stdout",
     "output_type": "stream",
     "text": [
      "\n",
      "4.039348293277238\n",
      "-0.8945893074621114"
     ]
    },
    {
     "name": "stdout",
     "output_type": "stream",
     "text": [
      "\n",
      "-5.456417659474337\n"
     ]
    }
   ],
   "source": [
    "using Statistics\n",
    "aids_query_directories = [\"/queryset/aids/Chain_3/\",\n",
    "\"/queryset/aids/Chain_6/\",\n",
    "\"/queryset/aids/Chain_9/\",\n",
    "\"/queryset/aids/Chain_12/\",\n",
    "\"/queryset/aids/Cycle_3/\",\n",
    "\"/queryset/aids/Cycle_6/\",\n",
    "\"/queryset/aids/Flower_6/\",\n",
    "\"/queryset/aids/Flower_9/\",\n",
    "\"/queryset/aids/Flower_12/\",\n",
    "\"/queryset/aids/Graph_3/\",\n",
    "\"/queryset/aids/Graph_6/\",\n",
    "\"/queryset/aids/Graph_9/\",\n",
    "\"/queryset/aids/Graph_12/\",\n",
    "\"/queryset/aids/Petal_6/\",\n",
    "\"/queryset/aids/Petal_9/\",\n",
    "\"/queryset/aids/Petal_12/\",\n",
    "\"/queryset/aids/Star_3/\",\n",
    "\"/queryset/aids/Star_6/\",\n",
    "\"/queryset/aids/Star_9/\",\n",
    "\"/queryset/aids/Tree_3/\",\n",
    "\"/queryset/aids/Tree_6/\",\n",
    "\"/queryset/aids/Tree_9/\",\n",
    "\"/queryset/aids/Tree_12/\"]\n",
    "aids_query_paths = [readdir(pwd() * dir, join=true) for dir in aids_query_directories]\n",
    "aids_query_paths = [(aids_query_paths...)...]\n",
    "aids_exact_sizes = []\n",
    "aids_bounds = []\n",
    "aids_relative_errors = []\n",
    "println(\"Summary Size: \", summary_size[1])\n",
    "println(\"Summary Build Time: \", build_time[1])\n",
    "for query_path in aids_query_paths\n",
    "    println(\"Query: \", query_path)\n",
    "    id_and_query = load_query(query_path)\n",
    "    id = id_and_query[1]\n",
    "    query = id_and_query[2]\n",
    "    bound_results = @timed get_cardinality_bounds(query, color_summaries[1], usingStoredStats = true)\n",
    "    println(bound_results[1])\n",
    "    gcare_size = load_true_cardinality(replace(query_path, \"queryset\"=>\"TrueCardinalities\"))\n",
    "    # println(\"Bound Time: \", bound_results[2])\n",
    "    # println(\"Exact Size: \", gcare_size)\n",
    "    # println(\"Bound [Lower, Avg, Upper]: \", bound_results[1])\n",
    "    # println(\"Relative Error [Lower, Avg, Upper]: \", bound_results[1]./gcare_size)\n",
    "    bound_results[1][2] = max(1, bound_results[1][2])\n",
    "    push!(aids_exact_sizes, gcare_size)\n",
    "    push!(aids_bounds, bound_results[1])\n",
    "    push!(aids_relative_errors, bound_results[1] ./ gcare_size)\n",
    "end\n",
    "println(maximum([log10(x[2]) for x in aids_relative_errors]))\n",
    "println(mean([log10(x[2]) for x in aids_relative_errors]))\n",
    "println(minimum([log10(x[2]) for x in aids_relative_errors]))"
   ]
  },
  {
   "cell_type": "code",
   "execution_count": 8,
   "metadata": {},
   "outputs": [
    {
     "name": "stdout",
     "output_type": "stream",
     "text": [
      "4.039348293277238"
     ]
    },
    {
     "name": "stdout",
     "output_type": "stream",
     "text": [
      "\n",
      "1.4275131145459987\n"
     ]
    },
    {
     "name": "stdout",
     "output_type": "stream",
     "text": [
      "-5.456417659474337\n"
     ]
    }
   ],
   "source": [
    "println(maximum([log10(x[2]) for x in aids_relative_errors]))\n",
    "println(mean([abs(log10(x[2])) for x in aids_relative_errors]))\n",
    "println(minimum([log10(x[2]) for x in aids_relative_errors]))"
   ]
  },
  {
   "cell_type": "code",
   "execution_count": null,
   "metadata": {},
   "outputs": [],
   "source": [
    "lubm80_query_paths = [\"lubm80/lubm80_Q2.txt\",\n",
    "# \"lubm80/lubm80_Q4.txt\",\n",
    "# \"lubm80/lubm80_Q7.txt\",\n",
    "# \"lubm80/lubm80_Q8.txt\",\n",
    "# \"lubm80/lubm80_Q9.txt\",\n",
    "# \"lubm80/lubm80_Q12.txt\"\n",
    "                    ]\n",
    "exactSizes = []\n",
    "bounds = []\n",
    "relativeErrors = []\n",
    "println(\"Summary Size: \", summary_size[1])\n",
    "println(\"Summary Build Time: \", build_time[1])\n",
    "for query_path in lubm80_query_paths\n",
    "    println(\"Query: \", query_path)\n",
    "    id_and_query = load_query(\"queryset/\" * query_path)\n",
    "    id = id_and_query[1]\n",
    "    query = id_and_query[2]\n",
    "    bound_results = @timed get_cardinality_bounds(query, color_summaries[1])\n",
    "    exact_size_results = @timed get_exact_size(query, datasets[1])\n",
    "    gcare_size = load_true_cardinality(\"TrueCardinalities/\" * query_path)\n",
    "    println(\"Bound Time: \", bound_results[2])\n",
    "    println(\"Exact Size Time: \", exact_size_results[2])\n",
    "    println(\"Exact Size: \", exact_size_results[1])\n",
    "    println(\"GCare Exact Size: \", gcare_size)\n",
    "    if gcare_size != exact_size_results[1]\n",
    "        println(\"Bad Exact Size Estimate!!\")\n",
    "        break\n",
    "    end\n",
    "    println(\"Bound [Lower, Avg, Upper]: \", bound_results[1])\n",
    "    println(\"Relative Error [Lower, Avg, Upper]: \", (bound_results[1])./exact_size_results[1])\n",
    "    push!(exactSizes, gcare_size)\n",
    "    push!(bounds, bound_results[1])\n",
    "    push!(relativeErrors, bound_results[1] ./ gcare_size)\n",
    "end"
   ]
  },
  {
   "cell_type": "code",
   "execution_count": 12,
   "metadata": {},
   "outputs": [
    {
     "data": {
      "text/plain": [
       "Any[]"
      ]
     },
     "metadata": {},
     "output_type": "display_data"
    }
   ],
   "source": [
    "relativeErrors"
   ]
  },
  {
   "cell_type": "code",
   "execution_count": null,
   "metadata": {},
   "outputs": [],
   "source": [
    "exactSizes"
   ]
  },
  {
   "cell_type": "code",
   "execution_count": null,
   "metadata": {},
   "outputs": [],
   "source": []
  }
 ],
 "metadata": {
  "kernelspec": {
   "display_name": "Julia 1.8.5",
   "language": "julia",
   "name": "julia-1.8"
  },
  "language_info": {
   "file_extension": ".jl",
   "mimetype": "application/julia",
   "name": "julia",
   "version": "1.8.5"
  },
  "orig_nbformat": 4
 },
 "nbformat": 4,
 "nbformat_minor": 2
}
