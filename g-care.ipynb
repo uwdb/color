{
 "cells": [
  {
   "attachments": {},
   "cell_type": "markdown",
   "metadata": {},
   "source": [
    "## G-CARE Benchmark"
   ]
  },
  {
   "cell_type": "code",
   "execution_count": 34,
   "metadata": {},
   "outputs": [],
   "source": [
    "using Graphs: DiGraph\n",
    "using StatsPlots\n",
    "include(\"Source/datasets.jl\")\n",
    "include(\"Source/QuasiStableCardinalityEstimator.jl\")\n",
    "\n",
    "\n",
    "aids_data_file_path = \"dataset/aids/aids.txt\"\n",
    "human_data_file_path = \"dataset/human/human.txt\"\n",
    "lubm80_data_file_path = \"dataset/lubm80/lubm80.txt\"\n",
    "yago_data_file_path = \"dataset/yago/yago.txt\"\n",
    "\n",
    "aids_data = load_dataset(aids_data_file_path)\n",
    "human_data = load_dataset(human_data_file_path)\n",
    "#lubm80_data = load_dataset(lubm80_data_file_path)\n",
    "#yago_data = load_dataset(yago_data_file_path)\n",
    "nothing"
   ]
  },
  {
   "cell_type": "code",
   "execution_count": 28,
   "metadata": {},
   "outputs": [
    {
     "data": {
      "text/plain": [
       "2-element Vector{String}:\n",
       " \"aids\"\n",
       " \"human\""
      ]
     },
     "execution_count": 28,
     "metadata": {},
     "output_type": "execute_result"
    }
   ],
   "source": [
    "#datasets = [aids_data, human_data, lubm80_data, yago_data]\n",
    "#dataset_names = [\"aids\", \"human\", \"lubm80\", \"yago\"]\n",
    "datasets = [aids_data, human_data, yago]\n",
    "dataset_names = [\"aids\", \"human\", yago]"
   ]
  },
  {
   "cell_type": "code",
   "execution_count": 42,
   "metadata": {},
   "outputs": [],
   "source": [
    "build_time = []\n",
    "summary_size = []\n",
    "color_summaries =[]\n",
    "for dataset in datasets\n",
    "    results = @timed generate_color_summary(dataset, 256)\n",
    "    push!(build_time, results[2])\n",
    "    push!(summary_size,  get_color_summary_size(results[1]))\n",
    "    push!(color_summaries, results[1])\n",
    "end"
   ]
  },
  {
   "cell_type": "code",
   "execution_count": 1,
   "metadata": {},
   "outputs": [
    {
     "ename": "LoadError",
     "evalue": "syntax: cannot juxtapose string literal",
     "output_type": "error",
     "traceback": [
      "syntax: cannot juxtapose string literal",
      "",
      "Stacktrace:",
      " [1] top-level scope",
      "   @ In[1]:27",
      " [2] eval",
      "   @ ./boot.jl:368 [inlined]",
      " [3] include_string(mapexpr::typeof(REPL.softscope), mod::Module, code::String, filename::String)",
      "   @ Base ./loading.jl:1428"
     ]
    }
   ],
   "source": [
    "human_query_paths = [\"human/Chain_3/uf_Q_1_1.txt\",\n",
    "\"human/Chain_3/uf_Q_1_2.txt\",\n",
    "\"human/Chain_3/uf_Q_1_3.txt\",\n",
    "\"human/Star_3/uf_Q_0_1.txt\",\n",
    "\"human/Star_3/uf_Q_0_2.txt\",\n",
    "\"human/Star_3/uf_Q_1_1.txt\",\n",
    "\"human/Star_3/uf_Q_1_2.txt\",\n",
    "\"human/Star_3/uf_Q_1_3.txt\",\n",
    "\"human/Star_3/uf_Q_1_4.txt\", \n",
    "\"human/Star_3/uf_Q_1_5.txt\",\n",
    "\"human/Star_3/uf_Q_1_6.txt\",\n",
    "\"human/Star_3/uf_Q_2_1.txt\",\n",
    "\"human/Star_3/uf_Q_2_2.txt\",\n",
    "\"human/Star_3/uf_Q_2_3.txt\",\n",
    "\"human/Graph_3/uf_Q_3_1.txt\",\n",
    "\"human/Graph_3/uf_Q_3_2.txt\",\n",
    "\"human/Graph_3/uf_Q_3_3.txt\",\n",
    "\"human/Graph_3/uf_Q_3_4.txt\",\n",
    "\"human/Graph_3/uf_Q_3_5.txt\",\n",
    "\"human/Graph_3/uf_Q_3_6.txt\",\n",
    "                    ]\n",
    "exactSizes = []\n",
    "bounds = []\n",
    "relativeErrors = []\n",
    "println(\"Summary Size: \", summary_size[2])\n",
    "println(\"Summary Build Time: \", build_time[2])\n",
    "for query_path in human_query_paths\n",
    "    println(\"Query: \", query_path)\n",
    "    id_and_query = load_query(\"queryset/\" * query_path)\n",
    "    id = id_and_query[1]\n",
    "    query = id_and_query[2]\n",
    "    bound_results = @timed get_cardinality_bounds(query, color_summaries[2])\n",
    "    exact_size_results = @timed get_exact_size(query, datasets[2])\n",
    "    gcare_size = load_true_cardinality(\"TrueCardinalities/\" * query_path)\n",
    "    println(\"Bound Time: \", bound_results[2])\n",
    "    println(\"Exact Size Time: \", exact_size_results[2])\n",
    "    println(\"Exact Size: \", exact_size_results[1])\n",
    "    println(\"GCare Exact Size: \", gcare_size)\n",
    "    if gcare_size != exact_size_results[1]\n",
    "        println(\"Bad Exact Size Estimate!!\")\n",
    "        break\n",
    "    end\n",
    "    println(\"Bound [Lower, Avg, Upper]: \", bound_results[1])\n",
    "    println(\"Relative Error [Lower, Avg, Upper]: \", bound_results[1]./exact_size_results[1])\n",
    "    push!(exactSizes, gcare_size)\n",
    "    push!(bounds, bound_results[1])\n",
    "    push!(relativeErrors, bound_results[1] ./ gcare_size)\n",
    "end"
   ]
  },
  {
   "cell_type": "code",
   "execution_count": 49,
   "metadata": {},
   "outputs": [
    {
     "name": "stdout",
     "output_type": "stream",
     "text": [
      "Query: aids/Chain_3/uf_Q_5_1.txt\n",
      "Bound Time: 0.019921004\n",
      "Exact Size Time: 2.911896261\n",
      "Exact Size: 120348\n",
      "GCare Exact Size: 120348\n",
      "Bound [Lower, Avg, Upper]: [0.0, 294313.8547063301, 8.708159728e9]\n",
      "Relative Error [Lower, Avg, Upper]: [0.0, 2.4455234379161275, 72358.15907202446]\n",
      "Query: aids/Chain_3/uf_Q_5_2.txt\n",
      "Bound Time: 0.025669944\n",
      "Exact Size Time: 1.01649308\n",
      "Exact Size: 120348\n",
      "GCare Exact Size: 120348\n",
      "Bound [Lower, Avg, Upper]: [0.0, 294313.8547063292, 7.07787046e9]\n",
      "Relative Error [Lower, Avg, Upper]: [0.0, 2.44552343791612, 58811.699903612855]\n",
      "Query: aids/Chain_3/uf_Q_5_3.txt\n",
      "Bound Time: 0.019291316\n",
      "Exact Size Time: 2.612219316\n",
      "Exact Size: 120348\n",
      "GCare Exact Size: 120348\n",
      "Bound [Lower, Avg, Upper]: [0.0, 294313.8547063301, 8.708159728e9]\n",
      "Relative Error [Lower, Avg, Upper]: [0.0, 2.4455234379161275, 72358.15907202446]\n",
      "Query: aids/Tree_3/uf_Q_2_5.txt\n",
      "Bound Time: 0.011759344\n",
      "Exact Size Time: 0.060378201\n",
      "Exact Size: 221\n",
      "GCare Exact Size: 221\n",
      "Bound [Lower, Avg, Upper]: [0.0, 141.49352846815773, 7.955693e6]\n",
      "Relative Error [Lower, Avg, Upper]: [0.0, 0.6402422102631572, 35998.610859728506]\n",
      "Query: aids/Tree_3/uf_Q_4_4.txt\n",
      "Bound Time: 0.020063574\n",
      "Exact Size Time: 1.281411507\n",
      "Exact Size: 17682\n",
      "GCare Exact Size: 17682\n",
      "Bound [Lower, Avg, Upper]: [0.0, 262130.10532334677, 6.035184462e9]\n",
      "Relative Error [Lower, Avg, Upper]: [0.0, 14.824686422539688, 341317.97658635903]\n",
      "Query: aids/Tree_6/uf_Q_4_4.txt\n",
      "Bound Time: 0.023321297\n",
      "Exact Size Time: 1.844213689\n",
      "Exact Size: 66885\n",
      "GCare Exact Size: 66885\n",
      "Bound [Lower, Avg, Upper]: [768.0, 64289.27967815878, 1.69993976668e11]\n",
      "Relative Error [Lower, Avg, Upper]: [0.011482395155864543, 0.9611912936855616, 2.541585956014054e6]\n",
      "Query: aids/Tree_6/uf_Q_5_6.txt\n",
      "Bound Time: 0.036445237\n",
      "Exact Size Time: 2.278066161\n",
      "Exact Size: 267636\n",
      "GCare Exact Size: 267636\n",
      "Bound [Lower, Avg, Upper]: [0.0, 33265.773070388794, 7.4194125250027e13]\n",
      "Relative Error [Lower, Avg, Upper]: [0.0, 0.12429483728044356, 2.7722027399164164e8]\n",
      "Query: aids/Star_6/uf_Q_2_3.txt\n",
      "Bound Time: 0.002960012\n",
      "Exact Size Time: 0.060644741\n",
      "Exact Size: 625\n",
      "GCare Exact Size: 625\n",
      "Bound [Lower, Avg, Upper]: [0.0, 181.95408950617286, 1.12591952e8]\n",
      "Relative Error [Lower, Avg, Upper]: [0.0, 0.2911265432098766, 180147.1232]\n",
      "Query: aids/Star_6/uf_Q_1_1.txt\n",
      "Bound Time: 0.009039241\n",
      "Exact Size Time: 0.061218861\n",
      "Exact Size: 81\n",
      "GCare Exact Size: 81\n",
      "Bound [Lower, Avg, Upper]: [0.0, 1757.3179329303273, 5.501210492817e12]\n",
      "Relative Error [Lower, Avg, Upper]: [0.0, 21.695283122596635, 6.7916178923666664e10]\n",
      "Query: aids/Cycle_3/uf_Q_2_14.txt\n",
      "Bound Time: 0.254683738\n",
      "Exact Size Time: 2.054930636\n",
      "Exact Size: 290\n",
      "GCare Exact Size: 290\n",
      "Bound [Lower, Avg, Upper]: [0.0, 0.052372940292242876, 7.9347906e7]\n",
      "Relative Error [Lower, Avg, Upper]: [0.0, 0.00018059634583532025, 273613.46896551724]\n",
      "Query: aids/Cycle_3/uf_Q_3_14.txt\n",
      "Bound Time: 0.760176244\n",
      "Exact Size Time: 3.293614528\n",
      "Exact Size: 3240\n",
      "GCare Exact Size: 3240\n",
      "Bound [Lower, Avg, Upper]: [0.0, 0.33561120455065907, 4.64179517e8]\n",
      "Relative Error [Lower, Avg, Upper]: [0.0, 0.00010358370510822811, 143265.28302469137]\n",
      "Query: aids/Flower_6/uf_Q_3_6.txt\n",
      "Bound Time: 1.352298196\n",
      "Exact Size Time: 1.791801906\n",
      "Exact Size: 2898\n",
      "GCare Exact Size: 2898\n",
      "Bound [Lower, Avg, Upper]: [0.0, 0.2782338434521112, 1.5252348647612e13]\n",
      "Relative Error [Lower, Avg, Upper]: [0.0, 9.600891768533859e-5, 5.263060264876467e9]\n",
      "Query: aids/Flower_6/uf_Q_5_3.txt\n",
      "Bound Time: 1.152800857\n",
      "Exact Size Time: 2.480996624\n",
      "Exact Size: 231756\n",
      "GCare Exact Size: 231756\n",
      "Bound [Lower, Avg, Upper]: [0.0, 0.8121727114582808, 3.0256648222489e13]\n",
      "Relative Error [Lower, Avg, Upper]: [0.0, 3.50443013970849e-6, 1.3055389384736101e8]\n",
      "Query: aids/Flower_9/uf_Q_3_3.txt\n",
      "Bound Time: 2.088333564\n",
      "Exact Size Time: 11.868658371\n",
      "Exact Size: 4836\n",
      "GCare Exact Size: 4836\n",
      "Bound [Lower, Avg, Upper]: [0.0, 2.0522053767652486, 7.898310927782899e17]\n",
      "Relative Error [Lower, Avg, Upper]: [0.0, 0.0004243600861797454, 1.633232201774793e14]\n"
     ]
    }
   ],
   "source": [
    "aids_query_paths = [\"aids/Chain_3/uf_Q_5_1.txt\",\n",
    "\"aids/Chain_3/uf_Q_5_2.txt\",\n",
    "\"aids/Chain_3/uf_Q_5_3.txt\",\n",
    "\"aids/Tree_3/uf_Q_2_5.txt\",\n",
    "\"aids/Tree_3/uf_Q_4_4.txt\",\n",
    "\"aids/Tree_6/uf_Q_4_4.txt\",\n",
    "\"aids/Tree_6/uf_Q_5_6.txt\",\n",
    "\"aids/Star_6/uf_Q_2_3.txt\",\n",
    "\"aids/Star_6/uf_Q_1_1.txt\",\n",
    "\"aids/Cycle_3/uf_Q_2_14.txt\",\n",
    "\"aids/Cycle_3/uf_Q_3_14.txt\",\n",
    "\"aids/Flower_6/uf_Q_3_6.txt\",\n",
    "\"aids/Flower_6/uf_Q_5_3.txt\",\n",
    "\"aids/Flower_9/uf_Q_3_3.txt\"\n",
    "]\n",
    "exactSizes = []\n",
    "bounds = []\n",
    "relativeErrors = []\n",
    "exactTimes = []\n",
    "boundTimes = []\n",
    "for query_path in aids_query_paths\n",
    "    println(\"Query: \", query_path)\n",
    "    id_and_query = load_query(\"queryset/\" * query_path)\n",
    "    id = id_and_query[1]\n",
    "    query = id_and_query[2]\n",
    "    bound_results = @timed get_cardinality_bounds(query, color_summaries[1]; try_all_starting_nodes=false)\n",
    "    exact_size_results = @timed get_exact_size(query, datasets[1])\n",
    "    gcare_size = load_true_cardinality(\"TrueCardinalities/\" * query_path)\n",
    "    println(\"Bound Time: \", bound_results[2])\n",
    "    println(\"Exact Size Time: \", exact_size_results[2])\n",
    "    println(\"Exact Size: \", exact_size_results[1])\n",
    "    println(\"GCare Exact Size: \", gcare_size)\n",
    "    if gcare_size != exact_size_results[1]\n",
    "        println(\"Bad Exact Size Estimate!!\")\n",
    "        break\n",
    "    end\n",
    "    println(\"Bound [Lower, Avg, Upper]: \", bound_results[1])\n",
    "    println(\"Relative Error [Lower, Avg, Upper]: \", bound_results[1]./gcare_size)\n",
    "    push!(exactSizes, gcare_size)\n",
    "    push!(bounds, bound_results[1])\n",
    "    push!(relativeErrors, bound_results[1] ./ gcare_size)\n",
    "    push!(exactTimes, exact_size_results[2])\n",
    "    push!(boundTimes, bound_results[2])\n",
    "end"
   ]
  },
  {
   "cell_type": "code",
   "execution_count": 50,
   "metadata": {},
   "outputs": [
    {
     "data": {
      "text/plain": [
       "14-element Vector{Any}:\n",
       " [0.0, 2.4455234379161275, 72358.15907202446]\n",
       " [0.0, 2.44552343791612, 58811.699903612855]\n",
       " [0.0, 2.4455234379161275, 72358.15907202446]\n",
       " [0.0, 0.6402422102631572, 35998.610859728506]\n",
       " [0.0, 14.824686422539688, 341317.97658635903]\n",
       " [0.011482395155864543, 0.9611912936855616, 2.541585956014054e6]\n",
       " [0.0, 0.12429483728044356, 2.7722027399164164e8]\n",
       " [0.0, 0.2911265432098766, 180147.1232]\n",
       " [0.0, 21.695283122596635, 6.7916178923666664e10]\n",
       " [0.0, 0.00018059634583532025, 273613.46896551724]\n",
       " [0.0, 0.00010358370510822811, 143265.28302469137]\n",
       " [0.0, 9.600891768533859e-5, 5.263060264876467e9]\n",
       " [0.0, 3.50443013970849e-6, 1.3055389384736101e8]\n",
       " [0.0, 0.0004243600861797454, 1.633232201774793e14]"
      ]
     },
     "execution_count": 50,
     "metadata": {},
     "output_type": "execute_result"
    }
   ],
   "source": [
    "relativeErrors"
   ]
  },
  {
   "cell_type": "code",
   "execution_count": 52,
   "metadata": {},
   "outputs": [
    {
     "data": {
      "text/plain": [
       "14-element Vector{Any}:\n",
       " 120348\n",
       " 120348\n",
       " 120348\n",
       "    221\n",
       "  17682\n",
       "  66885\n",
       " 267636\n",
       "    625\n",
       "     81\n",
       "    290\n",
       "   3240\n",
       "   2898\n",
       " 231756\n",
       "   4836"
      ]
     },
     "execution_count": 52,
     "metadata": {},
     "output_type": "execute_result"
    }
   ],
   "source": [
    "exactSizes"
   ]
  },
  {
   "cell_type": "code",
   "execution_count": null,
   "metadata": {},
   "outputs": [],
   "source": []
  }
 ],
 "metadata": {
  "kernelspec": {
   "display_name": "Julia 1.8.4",
   "language": "julia",
   "name": "julia-1.8"
  },
  "language_info": {
   "file_extension": ".jl",
   "mimetype": "application/julia",
   "name": "julia",
   "version": "1.8.4"
  },
  "orig_nbformat": 4
 },
 "nbformat": 4,
 "nbformat_minor": 2
}
