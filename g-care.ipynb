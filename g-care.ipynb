{
 "cells": [
  {
   "attachments": {},
   "cell_type": "markdown",
   "metadata": {},
   "source": [
    "## G-CARE Benchmark"
   ]
  },
  {
   "cell_type": "code",
   "execution_count": 1,
   "metadata": {},
   "outputs": [
    {
     "data": {
      "text/plain": [
       "get_exact_size (generic function with 1 method)"
      ]
     },
     "metadata": {},
     "output_type": "display_data"
    }
   ],
   "source": [
    "using Graphs: DiGraph\n",
    "using StatsPlots\n",
    "include(\"Source/datasets.jl\")\n",
    "include(\"Source/QuasiStableCardinalityEstimator.jl\")"
   ]
  },
  {
   "cell_type": "code",
   "execution_count": 2,
   "metadata": {},
   "outputs": [],
   "source": [
    "\n",
    "\n",
    "\n",
    "aids_data_file_path = \"dataset/aids/aids.txt\"\n",
    "human_data_file_path = \"dataset/human/human.txt\"\n",
    "lubm80_data_file_path = \"dataset/lubm80/lubm80.txt\"\n",
    "yago_data_file_path = \"dataset/yago/yago.txt\"\n",
    "\n",
    "aids_data = load_dataset(aids_data_file_path)\n",
    "#human_data = load_dataset(human_data_file_path)\n",
    "#lubm80_data = load_dataset(lubm80_data_file_path)\n",
    "#yago_data = load_dataset(yago_data_file_path)\n",
    "nothing"
   ]
  },
  {
   "cell_type": "code",
   "execution_count": 3,
   "metadata": {},
   "outputs": [
    {
     "data": {
      "text/plain": [
       "1-element Vector{String}:\n",
       " \"aids\""
      ]
     },
     "metadata": {},
     "output_type": "display_data"
    }
   ],
   "source": [
    "#datasets = [aids_data, human_data, lubm80_data, yago_data]\n",
    "#dataset_names = [\"aids\", \"human\", \"lubm80\", \"yago\"]\n",
    "datasets = [aids_data]\n",
    "dataset_names = [\"aids\"]"
   ]
  },
  {
   "cell_type": "code",
   "execution_count": 4,
   "metadata": {},
   "outputs": [
    {
     "name": "stdout",
     "output_type": "stream",
     "text": [
      "Started coloring"
     ]
    },
    {
     "name": "stdout",
     "output_type": "stream",
     "text": [
      "\n",
      "Finished coloring\n"
     ]
    },
    {
     "name": "stdout",
     "output_type": "stream",
     "text": [
      "Started bloom filters\n",
      "Finished bloom filters\n",
      "Started cardinality counts\n"
     ]
    },
    {
     "name": "stdout",
     "output_type": "stream",
     "text": [
      "Finished cardinality counts\n",
      "Started tracking statistics\n"
     ]
    },
    {
     "name": "stdout",
     "output_type": "stream",
     "text": [
      "Finished tracking statistics\n"
     ]
    }
   ],
   "source": [
    "build_time = []\n",
    "summary_size = []\n",
    "color_summaries =[]\n",
    "for dataset in datasets\n",
    "    results = @timed generate_color_summary(dataset, 8, verbose=true)\n",
    "    push!(build_time, results[2])\n",
    "    push!(summary_size,  get_color_summary_size(results[1]))\n",
    "    push!(color_summaries, results[1])\n",
    "end"
   ]
  },
  {
   "cell_type": "code",
   "execution_count": 5,
   "metadata": {},
   "outputs": [
    {
     "name": "stdout",
     "output_type": "stream",
     "text": [
      "Summary Size: 7524"
     ]
    },
    {
     "name": "stdout",
     "output_type": "stream",
     "text": [
      "\n",
      "Summary Build Time: 15.2740163\n"
     ]
    },
    {
     "name": "stdout",
     "output_type": "stream",
     "text": [
      "Query: lubm80/lubm80_Q2.txt\n"
     ]
    },
    {
     "name": "stdout",
     "output_type": "stream",
     "text": [
      "Bound Time: 0.4692433\n",
      "Exact Size Time: 0.2025699\n",
      "Exact Size: 0\n",
      "GCare Exact Size: 212\n",
      "Bad Exact Size Estimate!!\n"
     ]
    }
   ],
   "source": [
    "lubm80_query_paths = [\"lubm80/lubm80_Q2.txt\",\n",
    "\"lubm80/lubm80_Q4.txt\",\n",
    "\"lubm80/lubm80_Q7.txt\",\n",
    "\"lubm80/lubm80_Q8.txt\",\n",
    "\"lubm80/lubm80_Q9.txt\",\n",
    "\"lubm80/lubm80_Q12.txt\"\n",
    "                    ]\n",
    "exactSizes = []\n",
    "bounds = []\n",
    "relativeErrors = []\n",
    "println(\"Summary Size: \", summary_size[1])\n",
    "println(\"Summary Build Time: \", build_time[1])\n",
    "for query_path in lubm80_query_paths\n",
    "    println(\"Query: \", query_path)\n",
    "    id_and_query = load_query(\"queryset/\" * query_path)\n",
    "    id = id_and_query[1]\n",
    "    query = id_and_query[2]\n",
    "    bound_results = @timed get_cardinality_bounds(query, color_summaries[1])\n",
    "    exact_size_results = @timed get_exact_size(query, datasets[1])\n",
    "    gcare_size = load_true_cardinality(\"TrueCardinalities/\" * query_path)\n",
    "    println(\"Bound Time: \", bound_results[2])\n",
    "    println(\"Exact Size Time: \", exact_size_results[2])\n",
    "    println(\"Exact Size: \", exact_size_results[1])\n",
    "    println(\"GCare Exact Size: \", gcare_size)\n",
    "    if gcare_size != exact_size_results[1]\n",
    "        println(\"Bad Exact Size Estimate!!\")\n",
    "        break\n",
    "    end\n",
    "    println(\"Bound [Lower, Avg, Upper]: \", bound_results[1])\n",
    "    println(\"Relative Error [Lower, Avg, Upper]: \", (bound_results[1])./exact_size_results[1])\n",
    "    push!(exactSizes, gcare_size)\n",
    "    push!(bounds, bound_results[1])\n",
    "    push!(relativeErrors, bound_results[1] ./ gcare_size)\n",
    "end"
   ]
  },
  {
   "cell_type": "code",
   "execution_count": null,
   "metadata": {},
   "outputs": [],
   "source": [
    "human_query_paths = [\"human/Chain_3/uf_Q_1_1.txt\",\n",
    "\"human/Chain_3/uf_Q_1_2.txt\",\n",
    "\"human/Chain_3/uf_Q_1_3.txt\",\n",
    "\"human/Star_3/uf_Q_0_1.txt\",\n",
    "\"human/Star_3/uf_Q_0_2.txt\",\n",
    "\"human/Star_3/uf_Q_1_1.txt\",\n",
    "\"human/Star_3/uf_Q_1_2.txt\",\n",
    "\"human/Star_3/uf_Q_1_3.txt\",\n",
    "\"human/Star_3/uf_Q_1_4.txt\", \n",
    "\"human/Star_3/uf_Q_1_5.txt\",\n",
    "\"human/Star_3/uf_Q_1_6.txt\",\n",
    "\"human/Star_3/uf_Q_2_1.txt\",\n",
    "\"human/Star_3/uf_Q_2_2.txt\",\n",
    "\"human/Star_3/uf_Q_2_3.txt\",\n",
    "\"human/Graph_3/uf_Q_3_1.txt\",\n",
    "\"human/Graph_3/uf_Q_3_2.txt\",\n",
    "\"human/Graph_3/uf_Q_3_3.txt\",\n",
    "\"human/Graph_3/uf_Q_3_4.txt\",\n",
    "\"human/Graph_3/uf_Q_3_5.txt\",\n",
    "\"human/Graph_3/uf_Q_3_6.txt\",\n",
    "                    ]\n",
    "exactSizes = []\n",
    "bounds = []\n",
    "relativeErrors = []\n",
    "println(\"Summary Size: \", summary_size[2])\n",
    "println(\"Summary Build Time: \", build_time[2])\n",
    "for query_path in human_query_paths\n",
    "    println(\"Query: \", query_path)\n",
    "    id_and_query = load_query(\"queryset/\" * query_path)\n",
    "    id = id_and_query[1]\n",
    "    query = id_and_query[2]\n",
    "    bound_results = @timed get_cardinality_bounds(query, color_summaries[2])\n",
    "    exact_size_results = @timed get_exact_size(query, datasets[2])\n",
    "    gcare_size = load_true_cardinality(\"TrueCardinalities/\" * query_path)\n",
    "    println(\"Bound Time: \", bound_results[2])\n",
    "    println(\"Exact Size Time: \", exact_size_results[2])\n",
    "    println(\"Exact Size: \", exact_size_results[1])\n",
    "    println(\"GCare Exact Size: \", gcare_size)\n",
    "    if gcare_size != exact_size_results[1]\n",
    "        println(\"Bad Exact Size Estimate!!\")\n",
    "        break\n",
    "    end\n",
    "    println(\"Bound [Lower, Avg, Upper]: \", bound_results[1])\n",
    "    println(\"Relative Error [Lower, Avg, Upper]: \", bound_results[1]./exact_size_results[1])\n",
    "    push!(exactSizes, gcare_size)\n",
    "    push!(bounds, bound_results[1])\n",
    "    push!(relativeErrors, bound_results[1] ./ gcare_size)\n",
    "end"
   ]
  },
  {
   "cell_type": "code",
   "execution_count": null,
   "metadata": {},
   "outputs": [],
   "source": [
    "yago_query_paths = [\"yago/Chain_3/f_Q_1_1.txt\",\n",
    "\"yago/Chain_3/f_Q_1_2.txt\",\n",
    "\"yago/Chain_3/f_Q_1_3.txt\",\n",
    "\"yago/Star_3/f_Q_0_1.txt\",\n",
    "\"yago/Star_3/f_Q_0_2.txt\",\n",
    "\"yago/Star_3/f_Q_1_1.txt\",\n",
    "\"yago/Star_3/f_Q_1_2.txt\",\n",
    "\"yago/Star_3/f_Q_1_3.txt\",\n",
    "\"yago/Star_3/f_Q_1_4.txt\", \n",
    "\"yago/Star_3/f_Q_1_5.txt\",\n",
    "\"yago/Star_3/f_Q_1_6.txt\",\n",
    "\"yago/Star_3/f_Q_2_1.txt\",\n",
    "\"yago/Star_3/f_Q_2_2.txt\",\n",
    "\"yago/Star_3/f_Q_2_3.txt\",\n",
    "\"yago/Graph_3/f_Q_3_1.txt\",\n",
    "\"yago/Graph_3/f_Q_3_2.txt\",\n",
    "\"yago/Graph_3/f_Q_3_3.txt\",\n",
    "\"yago/Graph_3/f_Q_3_7.txt\",\n",
    "\"yago/Graph_3/f_Q_3_8.txt\",\n",
    "\"yago/Graph_3/f_Q_3_10.txt\",\n",
    "                    ]\n",
    "exactSizes = []\n",
    "bounds = []\n",
    "relativeErrors = []\n",
    "println(\"Summary Size: \", summary_size[2])\n",
    "println(\"Summary Build Time: \", build_time[2])\n",
    "for query_path in yago_query_paths\n",
    "    println(\"Query: \", query_path)\n",
    "    id_and_query = load_query(\"queryset/\" * query_path)\n",
    "    id = id_and_query[1]\n",
    "    query = id_and_query[2]\n",
    "    bound_results = @timed get_cardinality_bounds(query, color_summaries[2])\n",
    "    exact_size_results = @timed get_exact_size(query, datasets[2])\n",
    "    gcare_size = load_true_cardinality(\"TrueCardinalities/\" * query_path)\n",
    "    println(\"Bound Time: \", bound_results[2])\n",
    "    println(\"Exact Size Time: \", exact_size_results[2])\n",
    "    println(\"Exact Size: \", exact_size_results[1])\n",
    "    println(\"GCare Exact Size: \", gcare_size)\n",
    "    if gcare_size != exact_size_results[1]\n",
    "        println(\"Bad Exact Size Estimate!!\")\n",
    "        break\n",
    "    end\n",
    "    println(\"Bound [Lower, Avg, Upper]: \", bound_results[1])\n",
    "    println(\"Relative Error [Lower, Avg, Upper]: \", bound_results[1]./exact_size_results[1])\n",
    "    push!(exactSizes, gcare_size)\n",
    "    push!(bounds, bound_results[1])\n",
    "    push!(relativeErrors, bound_results[1] ./ gcare_size)\n",
    "end"
   ]
  },
  {
   "cell_type": "code",
   "execution_count": 6,
   "metadata": {},
   "outputs": [
    {
     "name": "stdout",
     "output_type": "stream",
     "text": [
      "Query: aids/Chain_3/uf_Q_5_1.txt\n"
     ]
    },
    {
     "name": "stdout",
     "output_type": "stream",
     "text": [
      "Bound Time: 0.2750232\n",
      "Exact Size Time: 1.4581084\n",
      "Exact Size: 120348\n",
      "GCare Exact Size: 120348\n",
      "Bound [Lower, Avg, Upper]: "
     ]
    },
    {
     "name": "stdout",
     "output_type": "stream",
     "text": [
      "[0.0, 303950.88071850373, 5.0131578e8]\n",
      "Relative Error [Lower, Avg, Upper]: [0.0, 2.5255997666642047, 4165.551400937282]\n",
      "Query: aids/Chain_3/uf_Q_5_2.txt"
     ]
    },
    {
     "name": "stdout",
     "output_type": "stream",
     "text": [
      "\n",
      "Bound Time: 0.0002393\n",
      "Exact Size Time: 0.7342707\n",
      "Exact Size: 120348\n",
      "GCare Exact Size: 120348\n",
      "Bound [Lower, Avg, Upper]: [0.0, 303950.8807185036, 3.50206776e8]\n",
      "Relative Error [Lower, Avg, Upper]: [0.0, 2.525599766664204, 2909.9509422674246]\n",
      "Query: aids/Chain_3/uf_Q_5_3.txt"
     ]
    },
    {
     "name": "stdout",
     "output_type": "stream",
     "text": [
      "\n",
      "Bound Time: 0.0002979\n",
      "Exact Size Time: 1.2440183\n",
      "Exact Size: 120348\n",
      "GCare Exact Size: 120348\n",
      "Bound [Lower, Avg, Upper]: [0.0, 303950.88071850373, 5.0131578e8]\n",
      "Relative Error [Lower, Avg, Upper]: [0.0, 2.5255997666642047, 4165.551400937282]\n",
      "Query: aids/Tree_3/uf_Q_2_5.txt\n",
      "Bound Time: 0.0001043\n",
      "Exact Size Time: 0.0330158\n",
      "Exact Size: 221\n",
      "GCare Exact Size: 221\n",
      "Bound [Lower, Avg, Upper]: [0.0, 140.80476832308895, 9.481703e6]\n",
      "Relative Error [Lower, Avg, Upper]: [0.0, 0.6371256485207645, 42903.6334841629]\n",
      "Query: aids/Tree_3/uf_Q_4_4.txt"
     ]
    },
    {
     "name": "stdout",
     "output_type": "stream",
     "text": [
      "\n",
      "Bound Time: 0.0001207\n",
      "Exact Size Time: 0.8906588\n",
      "Exact Size: 17682\n",
      "GCare Exact Size: 17682\n",
      "Bound [Lower, Avg, Upper]: [0.0, 290809.7675235742, 2.7710082e8]\n",
      "Relative Error [Lower, Avg, Upper]: [0.0, 16.446655781222383, 15671.350525958602]\n",
      "Query: aids/Tree_6/uf_Q_4_4.txt"
     ]
    },
    {
     "name": "stdout",
     "output_type": "stream",
     "text": [
      "\n",
      "Bound Time: 0.0003244\n",
      "Exact Size Time: 0.7339137\n",
      "Exact Size: 66885\n",
      "GCare Exact Size: 66885\n",
      "Bound [Lower, Avg, Upper]: [0.0, 1064.5842271606264, 7.6172137248e10]\n",
      "Relative Error [Lower, Avg, Upper]: [0.0, 0.015916636423123666, 1.1388523173805785e6]\n",
      "Query: aids/Tree_6/uf_Q_5_6.txt\n"
     ]
    },
    {
     "name": "stdout",
     "output_type": "stream",
     "text": [
      "Bound Time: 0.000566\n",
      "Exact Size Time: 0.7863586\n",
      "Exact Size: 267636\n",
      "GCare Exact Size: 267636\n",
      "Bound [Lower, Avg, Upper]: [0.0, 8872.301243576849, 1.96168206645e11]\n",
      "Relative Error [Lower, Avg, Upper]: [0.0, 0.03315062713378188, 732966.4419024347]\n",
      "Query: aids/Star_6/uf_Q_2_3.txt\n",
      "Bound Time: 0.0002815\n",
      "Exact Size Time: 0.0418286\n",
      "Exact Size: 625\n",
      "GCare Exact Size: 625\n",
      "Bound [Lower, Avg, Upper]: [0.0, 695.192447299271, 3.2706922334e10]\n",
      "Relative Error [Lower, Avg, Upper]: [0.0, 1.1123079156788336, "
     ]
    },
    {
     "name": "stdout",
     "output_type": "stream",
     "text": [
      "5.23310757344e7]\n",
      "Query: aids/Star_6/uf_Q_1_1.txt\n",
      "Bound Time: 0.0003839\n",
      "Exact Size Time: 0.0451721\n",
      "Exact Size: 81\n",
      "GCare Exact Size: 81\n",
      "Bound [Lower, Avg, Upper]: [0.0, 1559.6062549743472, 4.3035718973e10]\n",
      "Relative Error [Lower, Avg, Upper]: [0.0"
     ]
    },
    {
     "name": "stdout",
     "output_type": "stream",
     "text": [
      ", 19.25439820955984, 5.3130517250617284e8]\n",
      "Query: aids/Cycle_3/uf_Q_2_14.txt"
     ]
    },
    {
     "name": "stdout",
     "output_type": "stream",
     "text": [
      "\n",
      "Bound Time: 0.1396392\n",
      "Exact Size Time: 0.6339384\n",
      "Exact Size: 290\n",
      "GCare Exact Size: 290\n",
      "Bound [Lower, Avg, Upper]: [0.0, 0.21921286139104404, 1.4455974e7]\n",
      "Relative Error [Lower, Avg, Upper]: [0.0, 0.000755906418589807, 49848.18620689655]\n",
      "Query: aids/Cycle_3/uf_Q_3_14.txt"
     ]
    },
    {
     "name": "stdout",
     "output_type": "stream",
     "text": [
      "\n",
      "Bound Time: 0.002124\n",
      "Exact Size Time: 2.6296829\n",
      "Exact Size: 3240\n",
      "GCare Exact Size: 3240\n",
      "Bound [Lower, Avg, Upper]: [0.0, 1.8316050111256998, 6.3332473e7]\n",
      "Relative Error [Lower, Avg, Upper]: [0.0, 0.0005653101886190432, 19547.059567901233]\n",
      "Query: aids/Flower_6/uf_Q_3_6.txt\n"
     ]
    },
    {
     "name": "stdout",
     "output_type": "stream",
     "text": [
      "Bound Time: 0.0017519\n",
      "Exact Size Time: 0.6279784\n",
      "Exact Size: 2898\n",
      "GCare Exact Size: 2898\n",
      "Bound [Lower, Avg, Upper]: [0.0, 1.1351858107871278, 9.1304140465e10]\n",
      "Relative Error [Lower, Avg, Upper]: [0.0, 0.00039171353029231464, 3.1505914584195998e7]\n",
      "Query: aids/Flower_6/uf_Q_5_3.txt\n"
     ]
    },
    {
     "name": "stdout",
     "output_type": "stream",
     "text": [
      "Bound Time: 0.0021339\n",
      "Exact Size Time: 1.6899193\n",
      "Exact Size: 231756\n",
      "GCare Exact Size: 231756\n",
      "Bound [Lower, Avg, Upper]: [0.0, 0.4346527946900542, 4.5954151182e10]\n",
      "Relative Error [Lower, Avg, Upper]: [0.0, 1.8754759086714224e-6, 198286.7808470978]\n",
      "Query: aids/Flower_9/uf_Q_3_3.txt"
     ]
    },
    {
     "name": "stdout",
     "output_type": "stream",
     "text": [
      "\n",
      "Bound Time: 0.0020644\n",
      "Exact Size Time: 5.4279249\n",
      "Exact Size: 4836\n",
      "GCare Exact Size: 4836\n",
      "Bound [Lower, Avg, Upper]: [0.0, 10.343756710139871, 1.959305959423456e15]\n",
      "Relative Error [Lower, Avg, Upper]: [0.0, 0.0021389075083002216, 4.051501156789611e11]\n"
     ]
    }
   ],
   "source": [
    "aids_query_paths = [\"aids/Chain_3/uf_Q_5_1.txt\",\n",
    "\"aids/Chain_3/uf_Q_5_2.txt\",\n",
    "\"aids/Chain_3/uf_Q_5_3.txt\",\n",
    "\"aids/Tree_3/uf_Q_2_5.txt\",\n",
    "\"aids/Tree_3/uf_Q_4_4.txt\",\n",
    "\"aids/Tree_6/uf_Q_4_4.txt\",\n",
    "\"aids/Tree_6/uf_Q_5_6.txt\",\n",
    "\"aids/Star_6/uf_Q_2_3.txt\",\n",
    "\"aids/Star_6/uf_Q_1_1.txt\",\n",
    "\"aids/Cycle_3/uf_Q_2_14.txt\",\n",
    "\"aids/Cycle_3/uf_Q_3_14.txt\",\n",
    "\"aids/Flower_6/uf_Q_3_6.txt\",\n",
    "\"aids/Flower_6/uf_Q_5_3.txt\",\n",
    "\"aids/Flower_9/uf_Q_3_3.txt\"\n",
    "]\n",
    "exactSizes = []\n",
    "bounds = []\n",
    "relativeErrors = []\n",
    "exactTimes = []\n",
    "boundTimes = []\n",
    "for query_path in aids_query_paths\n",
    "    println(\"Query: \", query_path)\n",
    "    id_and_query = load_query(\"queryset/\" * query_path)\n",
    "    id = id_and_query[1]\n",
    "    query = id_and_query[2]\n",
    "    bound_results = @timed get_cardinality_bounds(query, color_summaries[1])\n",
    "    exact_size_results = @timed get_exact_size(query, datasets[1])\n",
    "    gcare_size = load_true_cardinality(\"TrueCardinalities/\" * query_path)\n",
    "    println(\"Bound Time: \", bound_results[2])\n",
    "    println(\"Exact Size Time: \", exact_size_results[2])\n",
    "    println(\"Exact Size: \", exact_size_results[1])\n",
    "    println(\"GCare Exact Size: \", gcare_size)\n",
    "    if gcare_size != exact_size_results[1]\n",
    "        println(\"Bad Exact Size Estimate!!\")\n",
    "        break\n",
    "    end\n",
    "    println(\"Bound [Lower, Avg, Upper]: \", bound_results[1])\n",
    "    println(\"Relative Error [Lower, Avg, Upper]: \", bound_results[1]./gcare_size)\n",
    "    push!(exactSizes, gcare_size)\n",
    "    push!(bounds, bound_results[1])\n",
    "    push!(relativeErrors, bound_results[1] ./ gcare_size)\n",
    "    push!(exactTimes, exact_size_results[2])\n",
    "    push!(boundTimes, bound_results[2])\n",
    "end"
   ]
  },
  {
   "cell_type": "code",
   "execution_count": null,
   "metadata": {},
   "outputs": [],
   "source": [
    "relativeErrors"
   ]
  },
  {
   "cell_type": "code",
   "execution_count": null,
   "metadata": {},
   "outputs": [],
   "source": [
    "exactSizes"
   ]
  },
  {
   "cell_type": "code",
   "execution_count": null,
   "metadata": {},
   "outputs": [],
   "source": []
  }
 ],
 "metadata": {
  "kernelspec": {
   "display_name": "Julia 1.8.5",
   "language": "julia",
   "name": "julia-1.8"
  },
  "language_info": {
   "file_extension": ".jl",
   "mimetype": "application/julia",
   "name": "julia",
   "version": "1.8.5"
  },
  "orig_nbformat": 4
 },
 "nbformat": 4,
 "nbformat_minor": 2
}
