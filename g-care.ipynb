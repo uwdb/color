{
 "cells": [
  {
   "attachments": {},
   "cell_type": "markdown",
   "metadata": {},
   "source": [
    "## G-CARE Benchmark"
   ]
  },
  {
   "cell_type": "code",
   "execution_count": 8,
   "metadata": {},
   "outputs": [],
   "source": [
    "using Graphs: DiGraph\n",
    "using StatsPlots\n",
    "include(\"Source/datasets.jl\")\n",
    "include(\"Source/QuasiStableCardinalityEstimator.jl\")\n",
    "\n",
    "\n",
    "aids_data_file_path = \"dataset/aids/aids.txt\"\n",
    "human_data_file_path = \"dataset/human/human.txt\"\n",
    "lubm80_data_file_path = \"dataset/lubm80/lubm80.txt\"\n",
    "yago_data_file_path = \"dataset/yago/yago.txt\"\n",
    "\n",
    "#aids_data = load_dataset(aids_data_file_path)\n",
    "#human_data = load_dataset(human_data_file_path)\n",
    "#lubm80_data = load_dataset(lubm80_data_file_path)\n",
    "yago_data = load_dataset(yago_data_file_path)\n",
    "nothing"
   ]
  },
  {
   "cell_type": "code",
   "execution_count": 9,
   "metadata": {},
   "outputs": [
    {
     "data": {
      "text/plain": [
       "1-element Vector{String}:\n",
       " \"yago\""
      ]
     },
     "metadata": {},
     "output_type": "display_data"
    }
   ],
   "source": [
    "#datasets = [aids_data, human_data, lubm80_data, yago_data]\n",
    "#dataset_names = [\"aids\", \"human\", \"lubm80\", \"yago\"]\n",
    "datasets = [yago_data]\n",
    "dataset_names = [\"yago\"]"
   ]
  },
  {
   "cell_type": "code",
   "execution_count": 10,
   "metadata": {},
   "outputs": [
    {
     "name": "stdout",
     "output_type": "stream",
     "text": [
      "Started coloring\n"
     ]
    },
    {
     "ename": "OutOfMemoryError",
     "evalue": "OutOfMemoryError()",
     "output_type": "error",
     "traceback": [
      "OutOfMemoryError()\n",
      "\n",
      "Stacktrace:\n",
      "  [1] _growend!\n",
      "    @ .\\array.jl:1011 [inlined]\n",
      "  [2] resize!\n",
      "    @ .\\array.jl:1236 [inlined]\n",
      "  [3] sparse!(I::Vector{Int64}, J::Vector{Int64}, V::Vector{Float64}, m::Int64, n::Int64, combine::typeof(+), klasttouch::Vector{Int64}, csrrowptr::Vector{Int64}, csrcolval::Vector{Int64}, csrnzval::Vector{Float64}, csccolptr::Vector{Int64}, cscrowval::Vector{Int64}, cscnzval::Vector{Float64})\n",
      "    @ SparseArrays C:\\Users\\diand\\AppData\\Local\\Programs\\Julia-1.8.5\\share\\julia\\stdlib\\v1.8\\SparseArrays\\src\\sparsematrix.jl:1010\n",
      "  [4] sparse(I::Vector{Int64}, J::Vector{Int64}, V::Vector{Float64}, m::Int64, n::Int64, combine::Function)\n",
      "    @ SparseArrays C:\\Users\\diand\\AppData\\Local\\Programs\\Julia-1.8.5\\share\\julia\\stdlib\\v1.8\\SparseArrays\\src\\sparsematrix.jl:856\n",
      "  [5] sparse\n",
      "    @ C:\\Users\\diand\\AppData\\Local\\Programs\\Julia-1.8.5\\share\\julia\\stdlib\\v1.8\\SparseArrays\\src\\sparsematrix.jl:1051 [inlined]\n",
      "  [6] partition_matrix(P::Vector{Vector{Int64}})\n",
      "    @ QuasiStableColors C:\\Users\\diand\\.julia\\packages\\QuasiStableColors\\zZVUe\\src\\misc.jl:15\n",
      "  [7] update_stats!(stats::QuasiStableColors.ColorStats, weights::SparseArrays.SparseMatrixCSC{Float64, Int64}, P::Vector{Vector{Int64}}; weighting::Bool)\n",
      "    @ QuasiStableColors C:\\Users\\diand\\.julia\\packages\\QuasiStableColors\\zZVUe\\src\\refine.jl:69\n",
      "  [8] q_color(G::SimpleDiGraph{Int64}; weights::Nothing, special::Set{Int64}, warm_start::Vector{Vector{Int64}}, weighting::Bool, n_colors::Int64, q::Float64)\n",
      "    @ QuasiStableColors C:\\Users\\diand\\.julia\\packages\\QuasiStableColors\\zZVUe\\src\\refine.jl:235\n",
      "  [9] generate_color_summary(g::DataGraph, numColors::Int64; weighting::Bool, verbose::Bool)\n",
      "    @ Main c:\\Users\\diand\\OneDrive\\Desktop\\Cardinality-with-Colors\\Source\\QuasiStableCardinalityEstimator.jl:31\n",
      " [10] macro expansion\n",
      "    @ .\\timing.jl:463 [inlined]\n",
      " [11] top-level scope\n",
      "    @ c:\\Users\\diand\\OneDrive\\Desktop\\Cardinality-with-Colors\\g-care.ipynb:5"
     ]
    }
   ],
   "source": [
    "build_time = []\n",
    "summary_size = []\n",
    "color_summaries =[]\n",
    "for dataset in datasets\n",
    "    results = @timed generate_color_summary(dataset, 8, verbose=true)\n",
    "    push!(build_time, results[2])\n",
    "    push!(summary_size,  get_color_summary_size(results[1]))\n",
    "    push!(color_summaries, results[1])\n",
    "end"
   ]
  },
  {
   "cell_type": "code",
   "execution_count": 5,
   "metadata": {},
   "outputs": [
    {
     "name": "stdout",
     "output_type": "stream",
     "text": [
      "Summary Size: "
     ]
    },
    {
     "name": "stdout",
     "output_type": "stream",
     "text": [
      "7449\n"
     ]
    },
    {
     "name": "stdout",
     "output_type": "stream",
     "text": [
      "Summary Build Time: "
     ]
    },
    {
     "name": "stdout",
     "output_type": "stream",
     "text": [
      "563.481057"
     ]
    },
    {
     "name": "stdout",
     "output_type": "stream",
     "text": [
      "\n",
      "Query: lubm80/lubm80_Q2.txt\n",
      "Bound Time: "
     ]
    },
    {
     "name": "stdout",
     "output_type": "stream",
     "text": [
      "[0.0, 0.0, 432014.0]\n",
      "Exact Size Time: 79.1331702\n",
      "Exact Size: 212\n",
      "GCare Exact Size: 212\n",
      "Bound [Lower, Avg, Upper]: [0.0, 0.0, 432014.0]\n"
     ]
    },
    {
     "name": "stdout",
     "output_type": "stream",
     "text": [
      "Relative Error [Lower, Avg, Upper]: [0.0, 0.0, 2037.801886792453]\n",
      "Query: lubm80/lubm80_Q4.txt"
     ]
    },
    {
     "name": "stdout",
     "output_type": "stream",
     "text": [
      "\n",
      "Bound Time: [0.0, 0.6163777718571042, 8.262576e8]\n",
      "Exact Size Time: 9.3594889\n",
      "Exact Size: 34\n",
      "GCare Exact Size: 34\n",
      "Bound [Lower, Avg, Upper]: [0.0, 0.6163777718571042"
     ]
    },
    {
     "name": "stdout",
     "output_type": "stream",
     "text": [
      ", 8.262576e8]\n",
      "Relative Error [Lower, Avg, Upper]: [0.0, 0.018128757995797183, 2.430169411764706e7]\n",
      "Query: lubm80/lubm80_Q7.txt"
     ]
    },
    {
     "name": "stdout",
     "output_type": "stream",
     "text": [
      "\n",
      "Bound Time: [0.0, 574738.3091582302, 2.127658e7]\n"
     ]
    },
    {
     "name": "stdout",
     "output_type": "stream",
     "text": [
      "Exact Size Time: 17.4155841\n",
      "Exact Size: 67\n",
      "GCare Exact Size: 67\n",
      "Bound [Lower, Avg, Upper]: [0.0, 574738.3091582302, 2.127658e7]\n",
      "Relative Error [Lower, Avg, Upper]: [0.0, 8578.183718779555, 317560.89552238805]\n"
     ]
    },
    {
     "name": "stdout",
     "output_type": "stream",
     "text": [
      "Query: lubm80/lubm80_Q8.txt\n"
     ]
    },
    {
     "name": "stdout",
     "output_type": "stream",
     "text": [
      "Bound Time: [0.0, 57.96121052020762, 4.575268e6]\n",
      "Exact Size Time: 23.8088262\n",
      "Exact Size: 7790\n",
      "GCare Exact Size: 7790\n",
      "Bound [Lower, Avg, Upper]: [0.0, 57.96121052020762, 4.575268e6]\n",
      "Relative Error [Lower, Avg, Upper]: [0.0, 0.007440463481413045, 587.3258023106547]\n",
      "Query: lubm80/lubm80_Q9.txt\n"
     ]
    },
    {
     "name": "stdout",
     "output_type": "stream",
     "text": [
      "Bound Time: [0.0, 0.0, 9.219986e6]\n",
      "Exact Size Time: 21.7950568\n",
      "Exact Size: 21872\n",
      "GCare Exact Size: 21872\n",
      "Bound [Lower, Avg, Upper]: [0.0, 0.0, 9.219986e6]\n",
      "Relative Error [Lower, Avg, Upper]: ["
     ]
    },
    {
     "name": "stdout",
     "output_type": "stream",
     "text": [
      "0.0, 0.0, 421.54288588149234]\n",
      "Query: lubm80/lubm80_Q12.txt\n"
     ]
    },
    {
     "name": "stdout",
     "output_type": "stream",
     "text": [
      "Bound Time: [0.0, 888.7787732598208, 145100.0]\n",
      "Exact Size Time: 1.1935319\n",
      "Exact Size: 15\n",
      "GCare Exact Size: 15\n",
      "Bound [Lower, Avg, Upper]: [0.0, 888.7787732598208, 145100.0]\n",
      "Relative Error [Lower, Avg, Upper]: [0.0, 59.25191821732139, 9673.333333333334]\n"
     ]
    }
   ],
   "source": [
    "lubm80_query_paths = [\"lubm80/lubm80_Q2.txt\",\n",
    "\"lubm80/lubm80_Q4.txt\",\n",
    "\"lubm80/lubm80_Q7.txt\",\n",
    "\"lubm80/lubm80_Q8.txt\",\n",
    "\"lubm80/lubm80_Q9.txt\",\n",
    "\"lubm80/lubm80_Q12.txt\"\n",
    "                    ]\n",
    "exactSizes = []\n",
    "bounds = []\n",
    "relativeErrors = []\n",
    "println(\"Summary Size: \", summary_size[1])\n",
    "println(\"Summary Build Time: \", build_time[1])\n",
    "for query_path in lubm80_query_paths\n",
    "    println(\"Query: \", query_path)\n",
    "    id_and_query = load_query(\"queryset/\" * query_path)\n",
    "    id = id_and_query[1]\n",
    "    query = id_and_query[2]\n",
    "    bound_results = @timed get_cardinality_bounds(query, color_summaries[1])\n",
    "    exact_size_results = @timed get_exact_size(query, datasets[1])\n",
    "    gcare_size = load_true_cardinality(\"TrueCardinalities/\" * query_path)\n",
    "    println(\"Bound Time: \", bound_results[1])\n",
    "    println(\"Exact Size Time: \", exact_size_results[2])\n",
    "    println(\"Exact Size: \", exact_size_results[1])\n",
    "    println(\"GCare Exact Size: \", gcare_size)\n",
    "    if gcare_size != exact_size_results[1]\n",
    "        println(\"Bad Exact Size Estimate!!\")\n",
    "        break\n",
    "    end\n",
    "    println(\"Bound [Lower, Avg, Upper]: \", bound_results[1])\n",
    "    println(\"Relative Error [Lower, Avg, Upper]: \", bound_results[1]./exact_size_results[1])\n",
    "    push!(exactSizes, gcare_size)\n",
    "    push!(bounds, bound_results[1])\n",
    "    push!(relativeErrors, bound_results[1] ./ gcare_size)\n",
    "end"
   ]
  },
  {
   "cell_type": "code",
   "execution_count": 7,
   "metadata": {},
   "outputs": [
    {
     "name": "stdout",
     "output_type": "stream",
     "text": [
      "Summary Size: 918288\n",
      "Summary Build Time: 16.4347619\n"
     ]
    },
    {
     "name": "stdout",
     "output_type": "stream",
     "text": [
      "Query: human/Chain_3/uf_Q_1_1.txt\n",
      "Bound Time: 0.0061073\n",
      "Exact Size Time: 0.0010609\n",
      "Exact Size: 72\n",
      "GCare Exact Size: 72\n"
     ]
    },
    {
     "name": "stdout",
     "output_type": "stream",
     "text": [
      "Bound [Lower, Avg, Upper]: [0.0, 111.22824321181466, 32575.0]"
     ]
    },
    {
     "name": "stdout",
     "output_type": "stream",
     "text": [
      "\n",
      "Relative Error [Lower, Avg, Upper]: [0.0, 1.5448367112752035, 452.43055555555554]\n",
      "Query: human/Chain_3/uf_Q_1_2.txt"
     ]
    },
    {
     "name": "stdout",
     "output_type": "stream",
     "text": [
      "\n",
      "Bound Time: 0.0072745\n",
      "Exact Size Time: 0.2174464\n",
      "Exact Size: 22\n",
      "GCare Exact Size: 22\n",
      "Bound [Lower, Avg, Upper]: [0.0, 1658.2185532313567, 121117.0]\n",
      "Relative Error [Lower, Avg, Upper]: [0.0, 75.3735706014253, 5505.318181818182]\n",
      "Query: human/Chain_3/uf_Q_1_3.txt\n",
      "Bound Time: 0.0080442\n",
      "Exact Size Time: 0.0017171\n",
      "Exact Size: 10\n",
      "GCare Exact Size: 10\n",
      "Bound [Lower, Avg, Upper]: [0.0, 16.15672684458399, 7302.0]\n",
      "Relative Error [Lower, Avg, Upper]: [0.0, 1.6156726844583988, 730.2]\n",
      "Query: human/Star_3/uf_Q_0_1.txt\n",
      "Bound Time: 0.0003408\n",
      "Exact Size Time: 0.0006801\n",
      "Exact Size: 1\n",
      "GCare Exact Size: 1\n",
      "Bound [Lower, Avg, Upper]: ["
     ]
    },
    {
     "name": "stdout",
     "output_type": "stream",
     "text": [
      "0.0, 3.5382653061224505, 102050.0]\n",
      "Relative Error [Lower, Avg, Upper]: [0.0, 3.5382653061224505, 102050.0]\n",
      "Query: human/Star_3/uf_Q_0_2.txt\n",
      "Bound Time: 0.0003618\n",
      "Exact Size Time: 0.0009257\n",
      "Exact Size: 1\n",
      "GCare Exact Size: 1\n",
      "Bound [Lower, Avg, Upper]: [0.0, 3.5382653061224505, 102050.0]\n",
      "Relative Error [Lower, Avg, Upper]: [0.0, 3.5382653061224505, 102050.0]\n",
      "Query: human/Star_3/uf_Q_1_1.txt\n",
      "Bound Time: 0.0008773\n",
      "Exact Size Time: 0.0012904\n",
      "Exact Size: 23\n",
      "GCare Exact Size: 23\n",
      "Bound [Lower, Avg, Upper]: "
     ]
    },
    {
     "name": "stdout",
     "output_type": "stream",
     "text": [
      "[0.0, 49.03061468309799, 337033.0]\n",
      "Relative Error [Lower, Avg, Upper]: [0.0, 2.131765855786869, 14653.608695652174]\n",
      "Query: human/Star_3/uf_Q_1_2.txt\n",
      "Bound Time: 0.0005651\n",
      "Exact Size Time: 0.0007971\n",
      "Exact Size: 25\n",
      "GCare Exact Size: 25\n",
      "Bound [Lower, Avg, Upper]: [0.0, 51.85185185185186, 213378.0]\n",
      "Relative Error [Lower, Avg, Upper]: [0.0, 2.0740740740740744, 8535.12]\n",
      "Query: human/Star_3/uf_Q_1_3.txt\n",
      "Bound Time: 0.0004134\n",
      "Exact Size Time: 0.001827\n",
      "Exact Size: 25\n",
      "GCare Exact Size: 25\n",
      "Bound [Lower, Avg, Upper]: [0.0, 51.85185185185186, 213378.0]\n",
      "Relative Error [Lower, Avg, Upper]: [0.0, 2.0740740740740744, 8535.12]\n",
      "Query: human/Star_3/uf_Q_1_4.txt\n"
     ]
    },
    {
     "name": "stdout",
     "output_type": "stream",
     "text": [
      "Bound Time: 0.0003264\n",
      "Exact Size Time: 0.0007294\n",
      "Exact Size: 64\n",
      "GCare Exact Size: 64\n",
      "Bound [Lower, Avg, Upper]: [0.0, 92.95238095238093, 169278.0]\n",
      "Relative Error [Lower, Avg, Upper]: [0.0, 1.452380952380952, 2644.96875]\n",
      "Query: human/Star_3/uf_Q_1_5.txt\n",
      "Bound Time: "
     ]
    },
    {
     "name": "stdout",
     "output_type": "stream",
     "text": [
      "0.0004135\n",
      "Exact Size Time: 0.0015424\n",
      "Exact Size: 25\n",
      "GCare Exact Size: 25\n",
      "Bound [Lower, Avg, Upper]: [0.0, 51.85185185185186, 213378.0]\n",
      "Relative Error [Lower, Avg, Upper]: [0.0, 2.0740740740740744, 8535.12]\n",
      "Query: human/Star_3/uf_Q_1_6.txt\n",
      "Bound Time: 0.0004681\n",
      "Exact Size Time: 0.0009952\n",
      "Exact Size: 64\n",
      "GCare Exact Size: 64\n",
      "Bound [Lower, Avg, Upper]: [0.0, 92.95238095238093, 169278.0]\n",
      "Relative Error [Lower, Avg, Upper]: [0.0, 1.452380952380952, 2644.96875]\n",
      "Query: human/Star_3/uf_Q_2_1.txt\n",
      "Bound Time: 0.0006466\n",
      "Exact Size Time: 0.0009748\n",
      "Exact Size: 315\n",
      "GCare Exact Size: 315\n",
      "Bound [Lower, Avg, Upper]: [9.0, 408.7826161367682, 863390.0]\n",
      "Relative Error [Lower, Avg, Upper]: [0.02857142857142857, 1.2977225909103751, 2740.9206349206347]\n",
      "Query: human/Star_3/uf_Q_2_2.txt\n",
      "Bound Time: 0.000568\n",
      "Exact Size Time: 0.0007662\n",
      "Exact Size: 372\n",
      "GCare Exact Size: 372\n",
      "Bound [Lower, Avg, Upper]: [0.0, 472.96634579706006, 661016.0]\n",
      "Relative Error [Lower, Avg, Upper]: [0.0, 1.271414908056613, 1776.9247311827958]\n",
      "Query: human/Star_3/uf_Q_2_3.txt\n",
      "Bound Time: 0.0007496\n",
      "Exact Size Time: 0.0008913\n",
      "Exact Size: 106\n",
      "GCare Exact Size: 106\n",
      "Bound [Lower, Avg, Upper]: [0.0, 184.5785201408163, 550976.0]\n",
      "Relative Error [Lower, Avg, Upper]: [0.0, 1.7413067937812858, 5197.88679245283]\n",
      "Query: human/Graph_3/uf_Q_3_1.txt"
     ]
    },
    {
     "name": "stdout",
     "output_type": "stream",
     "text": [
      "\n",
      "Bound Time: 0.1605094\n",
      "Exact Size Time: 0.0666712\n",
      "Exact Size: 9610\n",
      "GCare Exact Size: 9610\n",
      "Bound [Lower, Avg, Upper]: [0.0, 205.5186309614163, 188492.0]\n",
      "Relative Error [Lower, Avg, Upper]: [0.0, 0.021385913731677034, 19.614151925078044]\n",
      "Query: human/Graph_3/uf_Q_3_2.txt"
     ]
    },
    {
     "name": "stdout",
     "output_type": "stream",
     "text": [
      "\n",
      "Bound Time: 0.0141158\n",
      "Exact Size Time: 0.0490071\n",
      "Exact Size: 6875\n",
      "GCare Exact Size: 6875\n",
      "Bound [Lower, Avg, Upper]: [0.0, 606.8165831272471, 172488.0]\n",
      "Relative Error [Lower, Avg, Upper]: [0.0, 0.08826423027305412, 25.089163636363637]\n",
      "Query: human/Graph_3/uf_Q_3_3.txt\n",
      "Bound Time: 0.0080508\n",
      "Exact Size Time: 0.0282448\n",
      "Exact Size: 2830\n",
      "GCare Exact Size: 2830\n",
      "Bound [Lower, Avg, Upper]: [0.0, 171.66966653674376, 79841.0]\n",
      "Relative Error [Lower, Avg, Upper]: [0.0, 0.060660659553619704, 28.212367491166077]\n",
      "Query: human/Graph_3/uf_Q_3_4.txt\n"
     ]
    },
    {
     "name": "stdout",
     "output_type": "stream",
     "text": [
      "Bound Time: 0.0108552\n",
      "Exact Size Time: 0.0511957\n",
      "Exact Size: 8588\n",
      "GCare Exact Size: 8588\n",
      "Bound [Lower, Avg, Upper]: [0.0, 1441.4202819381626, 114795.0]\n",
      "Relative Error [Lower, Avg, Upper]: [0.0, 0.16784120656010276,"
     ]
    },
    {
     "name": "stdout",
     "output_type": "stream",
     "text": [
      " 13.36690731252911]\n",
      "Query: human/Graph_3/uf_Q_3_5.txt\n",
      "Bound Time: 0.011814\n",
      "Exact Size Time: 0.0566442\n",
      "Exact Size: 9103\n",
      "GCare Exact Size: 9103\n",
      "Bound [Lower, Avg, Upper]: [0.0, 1485.0196917434023, 132533.0]\n",
      "Relative Error [Lower, Avg, Upper]: [0.0, 0.1631351962807209, 14.559266175985938]\n",
      "Query: human/Graph_3/uf_Q_3_6.txt\n"
     ]
    },
    {
     "name": "stdout",
     "output_type": "stream",
     "text": [
      "Bound Time: 0.0021316\n",
      "Exact Size Time: 0.0249467\n",
      "Exact Size: 2796\n",
      "GCare Exact Size: 2796\n",
      "Bound [Lower, Avg, Upper]: [0.0, 125.44721324479778, 27675.0]\n",
      "Relative Error [Lower, Avg, Upper]: [0.0, 0.044866671403718805, 9.898068669527897]\n"
     ]
    }
   ],
   "source": [
    "human_query_paths = [\"human/Chain_3/uf_Q_1_1.txt\",\n",
    "\"human/Chain_3/uf_Q_1_2.txt\",\n",
    "\"human/Chain_3/uf_Q_1_3.txt\",\n",
    "\"human/Star_3/uf_Q_0_1.txt\",\n",
    "\"human/Star_3/uf_Q_0_2.txt\",\n",
    "\"human/Star_3/uf_Q_1_1.txt\",\n",
    "\"human/Star_3/uf_Q_1_2.txt\",\n",
    "\"human/Star_3/uf_Q_1_3.txt\",\n",
    "\"human/Star_3/uf_Q_1_4.txt\", \n",
    "\"human/Star_3/uf_Q_1_5.txt\",\n",
    "\"human/Star_3/uf_Q_1_6.txt\",\n",
    "\"human/Star_3/uf_Q_2_1.txt\",\n",
    "\"human/Star_3/uf_Q_2_2.txt\",\n",
    "\"human/Star_3/uf_Q_2_3.txt\",\n",
    "\"human/Graph_3/uf_Q_3_1.txt\",\n",
    "\"human/Graph_3/uf_Q_3_2.txt\",\n",
    "\"human/Graph_3/uf_Q_3_3.txt\",\n",
    "\"human/Graph_3/uf_Q_3_4.txt\",\n",
    "\"human/Graph_3/uf_Q_3_5.txt\",\n",
    "\"human/Graph_3/uf_Q_3_6.txt\",\n",
    "                    ]\n",
    "exactSizes = []\n",
    "bounds = []\n",
    "relativeErrors = []\n",
    "println(\"Summary Size: \", summary_size[2])\n",
    "println(\"Summary Build Time: \", build_time[2])\n",
    "for query_path in human_query_paths\n",
    "    println(\"Query: \", query_path)\n",
    "    id_and_query = load_query(\"queryset/\" * query_path)\n",
    "    id = id_and_query[1]\n",
    "    query = id_and_query[2]\n",
    "    bound_results = @timed get_cardinality_bounds(query, color_summaries[2])\n",
    "    exact_size_results = @timed get_exact_size(query, datasets[2])\n",
    "    gcare_size = load_true_cardinality(\"TrueCardinalities/\" * query_path)\n",
    "    println(\"Bound Time: \", bound_results[2])\n",
    "    println(\"Exact Size Time: \", exact_size_results[2])\n",
    "    println(\"Exact Size: \", exact_size_results[1])\n",
    "    println(\"GCare Exact Size: \", gcare_size)\n",
    "    if gcare_size != exact_size_results[1]\n",
    "        println(\"Bad Exact Size Estimate!!\")\n",
    "        break\n",
    "    end\n",
    "    println(\"Bound [Lower, Avg, Upper]: \", bound_results[1])\n",
    "    println(\"Relative Error [Lower, Avg, Upper]: \", bound_results[1]./exact_size_results[1])\n",
    "    push!(exactSizes, gcare_size)\n",
    "    push!(bounds, bound_results[1])\n",
    "    push!(relativeErrors, bound_results[1] ./ gcare_size)\n",
    "end"
   ]
  },
  {
   "cell_type": "code",
   "execution_count": null,
   "metadata": {},
   "outputs": [],
   "source": [
    "yago_query_paths = [\"yago/Chain_3/f_Q_1_1.txt\",\n",
    "\"yago/Chain_3/f_Q_1_2.txt\",\n",
    "\"yago/Chain_3/f_Q_1_3.txt\",\n",
    "\"yago/Star_3/f_Q_0_1.txt\",\n",
    "\"yago/Star_3/f_Q_0_2.txt\",\n",
    "\"yago/Star_3/f_Q_1_1.txt\",\n",
    "\"yago/Star_3/f_Q_1_2.txt\",\n",
    "\"yago/Star_3/f_Q_1_3.txt\",\n",
    "\"yago/Star_3/f_Q_1_4.txt\", \n",
    "\"yago/Star_3/f_Q_1_5.txt\",\n",
    "\"yago/Star_3/f_Q_1_6.txt\",\n",
    "\"yago/Star_3/f_Q_2_1.txt\",\n",
    "\"yago/Star_3/f_Q_2_2.txt\",\n",
    "\"yago/Star_3/f_Q_2_3.txt\",\n",
    "\"yago/Graph_3/f_Q_3_1.txt\",\n",
    "\"yago/Graph_3/f_Q_3_2.txt\",\n",
    "\"yago/Graph_3/f_Q_3_3.txt\",\n",
    "\"yago/Graph_3/f_Q_3_7.txt\",\n",
    "\"yago/Graph_3/f_Q_3_8.txt\",\n",
    "\"yago/Graph_3/f_Q_3_10.txt\",\n",
    "                    ]\n",
    "exactSizes = []\n",
    "bounds = []\n",
    "relativeErrors = []\n",
    "println(\"Summary Size: \", summary_size[2])\n",
    "println(\"Summary Build Time: \", build_time[2])\n",
    "for query_path in yago_query_paths\n",
    "    println(\"Query: \", query_path)\n",
    "    id_and_query = load_query(\"queryset/\" * query_path)\n",
    "    id = id_and_query[1]\n",
    "    query = id_and_query[2]\n",
    "    bound_results = @timed get_cardinality_bounds(query, color_summaries[2])\n",
    "    exact_size_results = @timed get_exact_size(query, datasets[2])\n",
    "    gcare_size = load_true_cardinality(\"TrueCardinalities/\" * query_path)\n",
    "    println(\"Bound Time: \", bound_results[2])\n",
    "    println(\"Exact Size Time: \", exact_size_results[2])\n",
    "    println(\"Exact Size: \", exact_size_results[1])\n",
    "    println(\"GCare Exact Size: \", gcare_size)\n",
    "    if gcare_size != exact_size_results[1]\n",
    "        println(\"Bad Exact Size Estimate!!\")\n",
    "        break\n",
    "    end\n",
    "    println(\"Bound [Lower, Avg, Upper]: \", bound_results[1])\n",
    "    println(\"Relative Error [Lower, Avg, Upper]: \", bound_results[1]./exact_size_results[1])\n",
    "    push!(exactSizes, gcare_size)\n",
    "    push!(bounds, bound_results[1])\n",
    "    push!(relativeErrors, bound_results[1] ./ gcare_size)\n",
    "end"
   ]
  },
  {
   "cell_type": "code",
   "execution_count": 9,
   "metadata": {},
   "outputs": [
    {
     "name": "stdout",
     "output_type": "stream",
     "text": [
      "Query: aids/Chain_3/uf_Q_5_1.txt\n"
     ]
    },
    {
     "name": "stdout",
     "output_type": "stream",
     "text": [
      "Bound Time: 0.0095019\n",
      "Exact Size Time: 1.8756065\n",
      "Exact Size: 120348\n",
      "GCare Exact Size: 120348\n",
      "Bound [Lower, Avg, Upper]: [0.0, 278506.84136686835, 9.587906924e9]\n",
      "Relative Error [Lower, Avg, Upper]: [0.0, 2.3141792249714856, 79668.18662545286]\n",
      "Query: aids/Chain_3/uf_Q_5_2.txt\n"
     ]
    },
    {
     "name": "stdout",
     "output_type": "stream",
     "text": [
      "Bound Time: 0.0564841\n",
      "Exact Size Time: 1.4080133\n",
      "Exact Size: 120348\n",
      "GCare Exact Size: 120348\n",
      "Bound [Lower, Avg, Upper]: [0.0, 278506.84136686847, 7.888712657e9]\n",
      "Relative Error [Lower, Avg, Upper]: [0.0, 2.3141792249714865, 65549.1795210556]\n",
      "Query: aids/Chain_3/uf_Q_5_3.txt\n"
     ]
    },
    {
     "name": "stdout",
     "output_type": "stream",
     "text": [
      "Bound Time: 0.008877\n",
      "Exact Size Time: 1.7459571\n",
      "Exact Size: 120348\n",
      "GCare Exact Size: 120348\n",
      "Bound [Lower, Avg, Upper]: [0.0, 278506.84136686835, 9.587906924e9]\n",
      "Relative Error [Lower, Avg, Upper]: [0.0, 2.3141792249714856, 79668.18662545286]\n",
      "Query: aids/Tree_3/uf_Q_2_5.txt\n"
     ]
    },
    {
     "name": "stdout",
     "output_type": "stream",
     "text": [
      "Bound Time: 0.0046892\n",
      "Exact Size Time: 0.051786\n",
      "Exact Size: 221\n",
      "GCare Exact Size: 221\n",
      "Bound [Lower, Avg, Upper]: [0.0, 152.36976773877308, 3.547527e6]\n",
      "Relative Error [Lower, Avg, Upper]: "
     ]
    },
    {
     "name": "stdout",
     "output_type": "stream",
     "text": [
      "[0.0, 0.6894559626188828, 16052.158371040725]\n",
      "Query: aids/Tree_3/uf_Q_4_4.txt"
     ]
    },
    {
     "name": "stdout",
     "output_type": "stream",
     "text": [
      "\n",
      "Bound Time: 0.014358\n",
      "Exact Size Time: 1.2036623\n",
      "Exact Size: 17682\n",
      "GCare Exact Size: 17682\n",
      "Bound [Lower, Avg, Upper]: [0.0, 245327.25709478272, 6.754842692e9]\n",
      "Relative Error [Lower, Avg, Upper]: [0.0, 13.874406577015197, 382018.0235267504]\n",
      "Query: aids/Tree_6/uf_Q_4_4.txt\n"
     ]
    },
    {
     "name": "stdout",
     "output_type": "stream",
     "text": [
      "Bound Time: 0.0079274\n",
      "Exact Size Time: 0.936223\n",
      "Exact Size: 66885\n",
      "GCare Exact Size: 66885\n",
      "Bound [Lower, Avg, Upper]: [0.0, 8374.550645497287, 2.78774127163e11]\n",
      "Relative Error [Lower, Avg, Upper]: [0.0, 0.1252082028182296, 4.1679618324437467e6]\n",
      "Query: aids/Tree_6/uf_Q_5_6.txt"
     ]
    },
    {
     "name": "stdout",
     "output_type": "stream",
     "text": [
      "\n",
      "Bound Time: 0.0110056\n",
      "Exact Size Time: 1.259012\n",
      "Exact Size: 267636\n",
      "GCare Exact Size: 267636\n",
      "Bound [Lower, Avg, Upper]: [0.0, 20541.633353857746, 6.2941282513159e13]\n",
      "Relative Error [Lower, Avg, Upper]: [0.0, 0.07675213108048896, 2.3517494848659748e8]\n",
      "Query: aids/Star_6/uf_Q_2_3.txt"
     ]
    },
    {
     "name": "stdout",
     "output_type": "stream",
     "text": [
      "\n",
      "Bound Time: 0.0006604\n",
      "Exact Size Time: 0.0359733\n",
      "Exact Size: 625\n",
      "GCare Exact Size: 625\n",
      "Bound [Lower, Avg, Upper]: [0.0, 530.6144753009658, 2.84641239647e11]\n",
      "Relative Error [Lower, Avg, Upper]: [0.0, 0.8489831604815452, 4.554259834352e8]\n",
      "Query: aids/Star_6/uf_Q_1_1.txt\n"
     ]
    },
    {
     "name": "stdout",
     "output_type": "stream",
     "text": [
      "Bound Time: 0.0020097\n",
      "Exact Size Time: 0.03653\n",
      "Exact Size: 81\n",
      "GCare Exact Size: 81\n",
      "Bound [Lower, Avg, Upper]: [0.0, 3683.7719202364196, 3.483874439185e12]\n",
      "Relative Error [Lower, Avg, Upper]: [0.0, 45.478665681931105, 4.301079554549383e10]\n",
      "Query: aids/Cycle_3/uf_Q_2_14.txt"
     ]
    },
    {
     "name": "stdout",
     "output_type": "stream",
     "text": [
      "\n",
      "Bound Time: 0.2715804\n",
      "Exact Size Time: 1.0864293\n",
      "Exact Size: 290\n",
      "GCare Exact Size: 290\n",
      "Bound [Lower, Avg, Upper]: [0.0, 0.05091974157860992, 6.7336846e7]\n",
      "Relative Error [Lower, Avg, Upper]: [0.0, 0.00017558531578831007, 232196.02068965518]\n",
      "Query: aids/Cycle_3/uf_Q_3_14.txt"
     ]
    },
    {
     "name": "stdout",
     "output_type": "stream",
     "text": [
      "\n",
      "Bound Time: 1.2601968\n",
      "Exact Size Time: 3.1977892\n",
      "Exact Size: 3240\n",
      "GCare Exact Size: 3240\n",
      "Bound [Lower, Avg, Upper]: [0.0, 0.31875066785742107, 3.59344051e8]\n",
      "Relative Error [Lower, Avg, Upper]: [0.0, 9.837983575846329e-5, 110908.65771604938]\n",
      "Query: aids/Flower_6/uf_Q_3_6.txt\n"
     ]
    },
    {
     "name": "stdout",
     "output_type": "stream",
     "text": [
      "Bound Time: 1.7880904\n",
      "Exact Size Time: 1.1131221\n",
      "Exact Size: 2898\n",
      "GCare Exact Size: 2898\n",
      "Bound [Lower, Avg, Upper]: [0.0, 1.349153285953711, 1.1367361114826e13]\n",
      "Relative Error [Lower, Avg, Upper]: [0.0, 0.0004655463374581473, 3.92248485673775e9]\n",
      "Query: aids/Flower_6/uf_Q_5_3.txt"
     ]
    },
    {
     "name": "stdout",
     "output_type": "stream",
     "text": [
      "\n",
      "Bound Time: 2.7389141\n",
      "Exact Size Time: 2.555658\n",
      "Exact Size: 231756\n",
      "GCare Exact Size: 231756\n",
      "Bound [Lower, Avg, Upper]: [0.0, 0.8787815221330144, 2.2472628081588e13]\n",
      "Relative Error [Lower, Avg, Upper]: [0.0, 3.791839357483795e-6, 9.69667584942267e7]\n",
      "Query: aids/Flower_9/uf_Q_3_3.txt\n"
     ]
    },
    {
     "name": "stdout",
     "output_type": "stream",
     "text": [
      "Bound Time: 4.5140935\n",
      "Exact Size Time: 10.5460624\n",
      "Exact Size: 4836\n",
      "GCare Exact Size: 4836\n",
      "Bound [Lower, Avg, Upper]: [0.0, 7.449587749517581, 1.8992961675776957e18]\n",
      "Relative Error [Lower, Avg, Upper]: [0.0, 0.0015404441169391192, 3.9274114300614056e14]\n"
     ]
    }
   ],
   "source": [
    "aids_query_paths = [\"aids/Chain_3/uf_Q_5_1.txt\",\n",
    "\"aids/Chain_3/uf_Q_5_2.txt\",\n",
    "\"aids/Chain_3/uf_Q_5_3.txt\",\n",
    "\"aids/Tree_3/uf_Q_2_5.txt\",\n",
    "\"aids/Tree_3/uf_Q_4_4.txt\",\n",
    "\"aids/Tree_6/uf_Q_4_4.txt\",\n",
    "\"aids/Tree_6/uf_Q_5_6.txt\",\n",
    "\"aids/Star_6/uf_Q_2_3.txt\",\n",
    "\"aids/Star_6/uf_Q_1_1.txt\",\n",
    "\"aids/Cycle_3/uf_Q_2_14.txt\",\n",
    "\"aids/Cycle_3/uf_Q_3_14.txt\",\n",
    "\"aids/Flower_6/uf_Q_3_6.txt\",\n",
    "\"aids/Flower_6/uf_Q_5_3.txt\",\n",
    "\"aids/Flower_9/uf_Q_3_3.txt\"\n",
    "]\n",
    "exactSizes = []\n",
    "bounds = []\n",
    "relativeErrors = []\n",
    "exactTimes = []\n",
    "boundTimes = []\n",
    "for query_path in aids_query_paths\n",
    "    println(\"Query: \", query_path)\n",
    "    id_and_query = load_query(\"queryset/\" * query_path)\n",
    "    id = id_and_query[1]\n",
    "    query = id_and_query[2]\n",
    "    bound_results = @timed get_cardinality_bounds(query, color_summaries[1])\n",
    "    exact_size_results = @timed get_exact_size(query, datasets[1])\n",
    "    gcare_size = load_true_cardinality(\"TrueCardinalities/\" * query_path)\n",
    "    println(\"Bound Time: \", bound_results[2])\n",
    "    println(\"Exact Size Time: \", exact_size_results[2])\n",
    "    println(\"Exact Size: \", exact_size_results[1])\n",
    "    println(\"GCare Exact Size: \", gcare_size)\n",
    "    if gcare_size != exact_size_results[1]\n",
    "        println(\"Bad Exact Size Estimate!!\")\n",
    "        break\n",
    "    end\n",
    "    println(\"Bound [Lower, Avg, Upper]: \", bound_results[1])\n",
    "    println(\"Relative Error [Lower, Avg, Upper]: \", bound_results[1]./gcare_size)\n",
    "    push!(exactSizes, gcare_size)\n",
    "    push!(bounds, bound_results[1])\n",
    "    push!(relativeErrors, bound_results[1] ./ gcare_size)\n",
    "    push!(exactTimes, exact_size_results[2])\n",
    "    push!(boundTimes, bound_results[2])\n",
    "end"
   ]
  },
  {
   "cell_type": "code",
   "execution_count": 6,
   "metadata": {},
   "outputs": [
    {
     "data": {
      "text/plain": [
       "6-element Vector{Any}:\n",
       " [0.0, 0.0, 2037.801886792453]\n",
       " [0.0, 0.018128757995797183, 2.430169411764706e7]\n",
       " [0.0, 8578.183718779555, 317560.89552238805]\n",
       " [0.0, 0.007440463481413045, 587.3258023106547]\n",
       " [0.0, 0.0, 421.54288588149234]\n",
       " [0.0, 59.25191821732139, 9673.333333333334]"
      ]
     },
     "metadata": {},
     "output_type": "display_data"
    }
   ],
   "source": [
    "relativeErrors"
   ]
  },
  {
   "cell_type": "code",
   "execution_count": 7,
   "metadata": {},
   "outputs": [
    {
     "data": {
      "text/plain": [
       "6-element Vector{Any}:\n",
       "   212\n",
       "    34\n",
       "    67\n",
       "  7790\n",
       " 21872\n",
       "    15"
      ]
     },
     "metadata": {},
     "output_type": "display_data"
    }
   ],
   "source": [
    "exactSizes"
   ]
  },
  {
   "cell_type": "code",
   "execution_count": null,
   "metadata": {},
   "outputs": [],
   "source": []
  }
 ],
 "metadata": {
  "kernelspec": {
   "display_name": "Julia 1.8.5",
   "language": "julia",
   "name": "julia-1.8"
  },
  "language_info": {
   "file_extension": ".jl",
   "mimetype": "application/julia",
   "name": "julia",
   "version": "1.8.5"
  },
  "orig_nbformat": 4
 },
 "nbformat": 4,
 "nbformat_minor": 2
}
