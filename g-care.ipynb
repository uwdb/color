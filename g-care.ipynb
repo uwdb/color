{
 "cells": [
  {
   "attachments": {},
   "cell_type": "markdown",
   "metadata": {},
   "source": [
    "## G-CARE Benchmark"
   ]
  },
  {
   "cell_type": "code",
   "execution_count": 2,
   "metadata": {},
   "outputs": [
    {
     "data": {
      "text/plain": [
       "get_exact_size (generic function with 1 method)"
      ]
     },
     "execution_count": 2,
     "metadata": {},
     "output_type": "execute_result"
    }
   ],
   "source": [
    "using Graphs: DiGraph\n",
    "using StatsPlots\n",
    "include(\"Source/datasets.jl\")\n",
    "include(\"Source/QuasiStableCardinalityEstimator.jl\")"
   ]
  },
  {
   "cell_type": "code",
   "execution_count": 18,
   "metadata": {},
   "outputs": [],
   "source": [
    "aids_data_file_path = \"dataset/aids/aids.txt\"\n",
    "human_data_file_path = \"dataset/human/human.txt\"\n",
    "lubm80_data_file_path = \"dataset/lubm80/lubm80.txt\"\n",
    "yago_data_file_path = \"dataset/yago/yago.txt\"\n",
    "\n",
    "aids_data = load_dataset(aids_data_file_path)\n",
    "#human_data = load_dataset(human_data_file_path)\n",
    "#lubm80_data = load_dataset(lubm80_data_file_path)\n",
    "#yago_data = load_dataset(yago_data_file_path)\n",
    "nothing"
   ]
  },
  {
   "cell_type": "code",
   "execution_count": 3,
   "metadata": {},
   "outputs": [
    {
     "data": {
      "text/plain": [
       "1-element Vector{String}:\n",
       " \"aids\""
      ]
     },
     "execution_count": 19,
     "metadata": {},
     "output_type": "execute_result"
    }
   ],
   "source": [
    "#datasets = [aids_data, human_data, lubm80_data, yago_data]\n",
    "#dataset_names = [\"aids\", \"human\", \"lubm80\", \"yago\"]\n",
    "datasets = [aids_data]\n",
    "dataset_names = [\"aids\"]"
   ]
  },
  {
   "cell_type": "code",
   "execution_count": 4,
   "metadata": {},
   "outputs": [
    {
     "name": "stdout",
     "output_type": "stream",
     "text": [
      "Started coloring"
     ]
    },
    {
     "name": "stdout",
     "output_type": "stream",
     "text": [
      "\n",
      "Finished coloring\n"
     ]
    },
    {
     "name": "stdout",
     "output_type": "stream",
     "text": [
      "Started bloom filters\n",
      "Finished bloom filters\n",
      "Started cardinality counts\n"
     ]
    },
    {
     "name": "stdout",
     "output_type": "stream",
     "text": [
      "Finished cardinality counts\n",
      "Started tracking statistics\n"
     ]
    },
    {
     "name": "stdout",
     "output_type": "stream",
     "text": [
      "Finished tracking statistics\n"
     ]
    }
   ],
   "source": [
    "build_time = []\n",
    "summary_size = []\n",
    "color_summaries = []\n",
    "for dataset in datasets\n",
    "    results = @timed generate_color_summary(dataset, 64, verbose=true)\n",
    "    push!(build_time, results[2])\n",
    "    push!(summary_size,  get_color_summary_size(results[1]))\n",
    "    push!(color_summaries, results[1])\n",
    "end"
   ]
  },
  {
   "cell_type": "code",
   "execution_count": 5,
   "metadata": {},
   "outputs": [
    {
     "name": "stdout",
     "output_type": "stream",
     "text": [
      "Summary Size: 7524"
     ]
    },
    {
     "name": "stdout",
     "output_type": "stream",
     "text": [
      "\n",
      "Summary Build Time: 15.2740163\n"
     ]
    },
    {
     "name": "stdout",
     "output_type": "stream",
     "text": [
      "Query: lubm80/lubm80_Q2.txt\n"
     ]
    },
    {
     "name": "stdout",
     "output_type": "stream",
     "text": [
      "Bound Time: 0.4692433\n",
      "Exact Size Time: 0.2025699\n",
      "Exact Size: 0\n",
      "GCare Exact Size: 212\n",
      "Bad Exact Size Estimate!!\n"
     ]
    }
   ],
   "source": [
    "lubm80_query_paths = [\"lubm80/lubm80_Q2.txt\",\n",
    "\"lubm80/lubm80_Q4.txt\",\n",
    "\"lubm80/lubm80_Q7.txt\",\n",
    "\"lubm80/lubm80_Q8.txt\",\n",
    "\"lubm80/lubm80_Q9.txt\",\n",
    "\"lubm80/lubm80_Q12.txt\"\n",
    "                    ]\n",
    "exactSizes = []\n",
    "bounds = []\n",
    "relativeErrors = []\n",
    "println(\"Summary Size: \", summary_size[1])\n",
    "println(\"Summary Build Time: \", build_time[1])\n",
    "for query_path in lubm80_query_paths\n",
    "    println(\"Query: \", query_path)\n",
    "    id_and_query = load_query(\"queryset/\" * query_path)\n",
    "    id = id_and_query[1]\n",
    "    query = id_and_query[2]\n",
    "    bound_results = @timed get_cardinality_bounds(query, color_summaries[1])\n",
    "    exact_size_results = @timed get_exact_size(query, datasets[1])\n",
    "    gcare_size = load_true_cardinality(\"TrueCardinalities/\" * query_path)\n",
    "    println(\"Bound Time: \", bound_results[2])\n",
    "    println(\"Exact Size Time: \", exact_size_results[2])\n",
    "    println(\"Exact Size: \", exact_size_results[1])\n",
    "    println(\"GCare Exact Size: \", gcare_size)\n",
    "    if gcare_size != exact_size_results[1]\n",
    "        println(\"Bad Exact Size Estimate!!\")\n",
    "        break\n",
    "    end\n",
    "    println(\"Bound [Lower, Avg, Upper]: \", bound_results[1])\n",
    "    println(\"Relative Error [Lower, Avg, Upper]: \", (bound_results[1])./exact_size_results[1])\n",
    "    push!(exactSizes, gcare_size)\n",
    "    push!(bounds, bound_results[1])\n",
    "    push!(relativeErrors, bound_results[1] ./ gcare_size)\n",
    "end"
   ]
  },
  {
   "cell_type": "code",
   "execution_count": null,
   "metadata": {},
   "outputs": [],
   "source": [
    "human_query_directories = [\"/queryset/human/Chain_3/\",\n",
    "\"/queryset/human/Graph_3/\",\n",
    "\"/queryset/human/Star_3/\",\n",
    "\"/queryset/human/Tree_3/\",\n",
    "                    ]\n",
    "human_query_paths = [readdir(pwd() * dir, join=true) for dir in human_query_directories]\n",
    "human_query_paths = [(human_query_paths...)...]\n",
    "human_exact_sizes = []\n",
    "human_bounds = []\n",
    "human_relative_errors = []\n",
    "println(\"Summary Size: \", summary_size[1])\n",
    "println(\"Summary Build Time: \", build_time[1])\n",
    "for query_path in human_query_paths\n",
    "    println(\"Query: \", query_path)\n",
    "    id_and_query = load_query(query_path)\n",
    "    id = id_and_query[1]\n",
    "    query = id_and_query[2]\n",
    "    bound_results = @timed get_cardinality_bounds(query, color_summaries[1])\n",
    "    exact_size_results = @timed get_exact_size(query, datasets[1])\n",
    "    gcare_size = load_true_cardinality(replace(query_path, \"queryset\"=>\"TrueCardinalities\"))\n",
    "    println(\"Bound Time: \", bound_results[2])\n",
    "    println(\"Exact Size Time: \", exact_size_results[2])\n",
    "    println(\"Exact Size: \", exact_size_results[1])\n",
    "    println(\"GCare Exact Size: \", gcare_size)\n",
    "    if gcare_size != exact_size_results[1]\n",
    "        println(\"Bad Exact Size Estimate!!\")\n",
    "        break\n",
    "    end\n",
    "    println(\"Bound [Lower, Avg, Upper]: \", bound_results[1])\n",
    "    println(\"Relative Error [Lower, Avg, Upper]: \", bound_results[1]./exact_size_results[1])\n",
    "    bound_results[1][2] = max(1, bound_results[1][2])\n",
    "    push!(human_exact_sizes, gcare_size)\n",
    "    push!(human_bounds, bound_results[1])\n",
    "    push!(human_relative_errors, bound_results[1] ./ gcare_size)\n",
    "end"
   ]
  },
  {
   "cell_type": "code",
   "execution_count": 32,
   "metadata": {},
   "outputs": [
    {
     "name": "stdout",
     "output_type": "stream",
     "text": [
      "2.1162262041985125\n",
      "-0.09453409140278614\n",
      "-1.5314789170422551\n"
     ]
    }
   ],
   "source": [
    "using Statistics\n",
    "println(maximum([log10(x[2]) for x in human_relative_errors]))\n",
    "println(mean([log10(x[2]) for x in human_relative_errors]))\n",
    "println(minimum([log10(x[2]) for x in human_relative_errors]))"
   ]
  },
  {
   "cell_type": "code",
   "execution_count": 6,
   "metadata": {},
   "outputs": [
    {
     "name": "stdout",
     "output_type": "stream",
     "text": [
      "Query: aids/Chain_3/uf_Q_5_1.txt\n"
     ]
    },
    {
     "name": "stdout",
     "output_type": "stream",
     "text": [
      "Bound Time: 0.2750232\n",
      "Exact Size Time: 1.4581084\n",
      "Exact Size: 120348\n",
      "GCare Exact Size: 120348\n",
      "Bound [Lower, Avg, Upper]: "
     ]
    },
    {
     "name": "stdout",
     "output_type": "stream",
     "text": [
      "[0.0, 303950.88071850373, 5.0131578e8]\n",
      "Relative Error [Lower, Avg, Upper]: [0.0, 2.5255997666642047, 4165.551400937282]\n",
      "Query: aids/Chain_3/uf_Q_5_2.txt"
     ]
    },
    {
     "name": "stdout",
     "output_type": "stream",
     "text": [
      "\n",
      "Bound Time: 0.0002393\n",
      "Exact Size Time: 0.7342707\n",
      "Exact Size: 120348\n",
      "GCare Exact Size: 120348\n",
      "Bound [Lower, Avg, Upper]: [0.0, 303950.8807185036, 3.50206776e8]\n",
      "Relative Error [Lower, Avg, Upper]: [0.0, 2.525599766664204, 2909.9509422674246]\n",
      "Query: aids/Chain_3/uf_Q_5_3.txt"
     ]
    },
    {
     "name": "stdout",
     "output_type": "stream",
     "text": [
      "\n",
      "Bound Time: 0.0002979\n",
      "Exact Size Time: 1.2440183\n",
      "Exact Size: 120348\n",
      "GCare Exact Size: 120348\n",
      "Bound [Lower, Avg, Upper]: [0.0, 303950.88071850373, 5.0131578e8]\n",
      "Relative Error [Lower, Avg, Upper]: [0.0, 2.5255997666642047, 4165.551400937282]\n",
      "Query: aids/Tree_3/uf_Q_2_5.txt\n",
      "Bound Time: 0.0001043\n",
      "Exact Size Time: 0.0330158\n",
      "Exact Size: 221\n",
      "GCare Exact Size: 221\n",
      "Bound [Lower, Avg, Upper]: [0.0, 140.80476832308895, 9.481703e6]\n",
      "Relative Error [Lower, Avg, Upper]: [0.0, 0.6371256485207645, 42903.6334841629]\n",
      "Query: aids/Tree_3/uf_Q_4_4.txt"
     ]
    },
    {
     "name": "stdout",
     "output_type": "stream",
     "text": [
      "\n",
      "Bound Time: 0.0001207\n",
      "Exact Size Time: 0.8906588\n",
      "Exact Size: 17682\n",
      "GCare Exact Size: 17682\n",
      "Bound [Lower, Avg, Upper]: [0.0, 290809.7675235742, 2.7710082e8]\n",
      "Relative Error [Lower, Avg, Upper]: [0.0, 16.446655781222383, 15671.350525958602]\n",
      "Query: aids/Tree_6/uf_Q_4_4.txt"
     ]
    },
    {
     "name": "stdout",
     "output_type": "stream",
     "text": [
      "\n",
      "Bound Time: 0.0003244\n",
      "Exact Size Time: 0.7339137\n",
      "Exact Size: 66885\n",
      "GCare Exact Size: 66885\n",
      "Bound [Lower, Avg, Upper]: [0.0, 1064.5842271606264, 7.6172137248e10]\n",
      "Relative Error [Lower, Avg, Upper]: [0.0, 0.015916636423123666, 1.1388523173805785e6]\n",
      "Query: aids/Tree_6/uf_Q_5_6.txt\n"
     ]
    },
    {
     "name": "stdout",
     "output_type": "stream",
     "text": [
      "Bound Time: 0.000566\n",
      "Exact Size Time: 0.7863586\n",
      "Exact Size: 267636\n",
      "GCare Exact Size: 267636\n",
      "Bound [Lower, Avg, Upper]: [0.0, 8872.301243576849, 1.96168206645e11]\n",
      "Relative Error [Lower, Avg, Upper]: [0.0, 0.03315062713378188, 732966.4419024347]\n",
      "Query: aids/Star_6/uf_Q_2_3.txt\n",
      "Bound Time: 0.0002815\n",
      "Exact Size Time: 0.0418286\n",
      "Exact Size: 625\n",
      "GCare Exact Size: 625\n",
      "Bound [Lower, Avg, Upper]: [0.0, 695.192447299271, 3.2706922334e10]\n",
      "Relative Error [Lower, Avg, Upper]: [0.0, 1.1123079156788336, "
     ]
    },
    {
     "name": "stdout",
     "output_type": "stream",
     "text": [
      "5.23310757344e7]\n",
      "Query: aids/Star_6/uf_Q_1_1.txt\n",
      "Bound Time: 0.0003839\n",
      "Exact Size Time: 0.0451721\n",
      "Exact Size: 81\n",
      "GCare Exact Size: 81\n",
      "Bound [Lower, Avg, Upper]: [0.0, 1559.6062549743472, 4.3035718973e10]\n",
      "Relative Error [Lower, Avg, Upper]: [0.0"
     ]
    },
    {
     "name": "stdout",
     "output_type": "stream",
     "text": [
      ", 19.25439820955984, 5.3130517250617284e8]\n",
      "Query: aids/Cycle_3/uf_Q_2_14.txt"
     ]
    },
    {
     "name": "stdout",
     "output_type": "stream",
     "text": [
      "\n",
      "Bound Time: 0.1396392\n",
      "Exact Size Time: 0.6339384\n",
      "Exact Size: 290\n",
      "GCare Exact Size: 290\n",
      "Bound [Lower, Avg, Upper]: [0.0, 0.21921286139104404, 1.4455974e7]\n",
      "Relative Error [Lower, Avg, Upper]: [0.0, 0.000755906418589807, 49848.18620689655]\n",
      "Query: aids/Cycle_3/uf_Q_3_14.txt"
     ]
    }
   ],
   "source": [
    "aids_query_directories = [\"/queryset/aids/Chain_3/\",\n",
    "\"/queryset/aids/Chain_6/\",\n",
    "\"/queryset/aids/Chain_9/\",\n",
    "\"/queryset/aids/Chain_12/\",\n",
    "\"/queryset/aids/Cycle_3/\",\n",
    "\"/queryset/aids/Cycle_6/\",\n",
    "\"/queryset/aids/Flower_6/\",\n",
    "\"/queryset/aids/Flower_9/\",\n",
    "\"/queryset/aids/Flower_12/\",\n",
    "\"/queryset/aids/Graph_3/\",\n",
    "\"/queryset/aids/Graph_6/\",\n",
    "\"/queryset/aids/Graph_9/\",\n",
    "\"/queryset/aids/Graph_12/\",\n",
    "\"/queryset/aids/Petal_6/\",\n",
    "\"/queryset/aids/Petal_9/\",\n",
    "\"/queryset/aids/Petal_12/\",\n",
    "\"/queryset/aids/Star_3/\",\n",
    "\"/queryset/aids/Star_6/\",\n",
    "\"/queryset/aids/Star_9/\",\n",
    "\"/queryset/aids/Tree_3/\",\n",
    "\"/queryset/aids/Tree_6/\",\n",
    "\"/queryset/aids/Tree_9/\",\n",
    "\"/queryset/aids/Tree_12/\"]\n",
    "aids_query_paths = [readdir(pwd() * dir, join=true) for dir in aids_query_directories]\n",
    "aids_query_paths = [(aids_query_paths...)...]\n",
    "aids_exact_sizes = []\n",
    "aids_bounds = []\n",
    "aids_relative_errors = []\n",
    "println(\"Summary Size: \", summary_size[1])\n",
    "println(\"Summary Build Time: \", build_time[1])\n",
    "for query_path in aids_query_paths\n",
    "    println(\"Query: \", query_path)\n",
    "    id_and_query = load_query(query_path)\n",
    "    id = id_and_query[1]\n",
    "    query = id_and_query[2]\n",
    "    bound_results = @timed get_cardinality_bounds(query, color_summaries[2])\n",
    "    gcare_size = load_true_cardinality(replace(query_path, \"queryset\"=>\"TrueCardinalities\"))\n",
    "    println(\"Bound Time: \", bound_results[2])\n",
    "    println(\"Exact Size: \", gcare_size)\n",
    "    println(\"Bound [Lower, Avg, Upper]: \", bound_results[1])\n",
    "    println(\"Relative Error [Lower, Avg, Upper]: \", bound_results[1]./gcare_size)\n",
    "    bound_results[1][2] = max(1, bound_results[1][2])\n",
    "    push!(aids_exact_sizes, gcare_size)\n",
    "    push!(aids_bounds, bound_results[1])\n",
    "    push!(aids_relative_errors, bound_results[1] ./ gcare_size)\n",
    "end"
   ]
  },
  {
   "cell_type": "code",
   "execution_count": 30,
   "metadata": {},
   "outputs": [
    {
     "name": "stdout",
     "output_type": "stream",
     "text": [
      "\n",
      "Bound Time: 0.002124\n",
      "Exact Size Time: 2.6296829\n",
      "Exact Size: 3240\n",
      "GCare Exact Size: 3240\n",
      "Bound [Lower, Avg, Upper]: [0.0, 1.8316050111256998, 6.3332473e7]\n",
      "Relative Error [Lower, Avg, Upper]: [0.0, 0.0005653101886190432, 19547.059567901233]\n",
      "Query: aids/Flower_6/uf_Q_3_6.txt\n"
     ]
    }
   ],
   "source": [
    "using Statistics\n",
    "println(maximum([log10(x[2]) for x in aids_relative_errors]))\n",
    "println(mean([log10(x[2]) for x in aids_relative_errors]))\n",
    "println(minimum([log10(x[2]) for x in aids_relative_errors]))"
   ]
  },
  {
   "cell_type": "code",
   "execution_count": null,
   "metadata": {},
   "outputs": [
    {
     "name": "stdout",
     "output_type": "stream",
     "text": [
      "Bound Time: 0.0017519\n",
      "Exact Size Time: 0.6279784\n",
      "Exact Size: 2898\n",
      "GCare Exact Size: 2898\n",
      "Bound [Lower, Avg, Upper]: [0.0, 1.1351858107871278, 9.1304140465e10]\n",
      "Relative Error [Lower, Avg, Upper]: [0.0, 0.00039171353029231464, 3.1505914584195998e7]\n",
      "Query: aids/Flower_6/uf_Q_5_3.txt\n"
     ]
    },
    {
     "name": "stdout",
     "output_type": "stream",
     "text": [
      "Bound Time: 0.0021339\n",
      "Exact Size Time: 1.6899193\n",
      "Exact Size: 231756\n",
      "GCare Exact Size: 231756\n",
      "Bound [Lower, Avg, Upper]: [0.0, 0.4346527946900542, 4.5954151182e10]\n",
      "Relative Error [Lower, Avg, Upper]: [0.0, 1.8754759086714224e-6, 198286.7808470978]\n",
      "Query: aids/Flower_9/uf_Q_3_3.txt"
     ]
    },
    {
     "name": "stdout",
     "output_type": "stream",
     "text": [
      "\n",
      "Bound Time: 0.0020644\n",
      "Exact Size Time: 5.4279249\n",
      "Exact Size: 4836\n",
      "GCare Exact Size: 4836\n",
      "Bound [Lower, Avg, Upper]: [0.0, 10.343756710139871, 1.959305959423456e15]\n",
      "Relative Error [Lower, Avg, Upper]: [0.0, 0.0021389075083002216, 4.051501156789611e11]\n"
     ]
    }
   ],
   "source": [
    "lubm80_query_paths = [\"lubm80/lubm80_Q2.txt\",\n",
    "# \"lubm80/lubm80_Q4.txt\",\n",
    "# \"lubm80/lubm80_Q7.txt\",\n",
    "# \"lubm80/lubm80_Q8.txt\",\n",
    "# \"lubm80/lubm80_Q9.txt\",\n",
    "# \"lubm80/lubm80_Q12.txt\"\n",
    "                    ]\n",
    "exactSizes = []\n",
    "bounds = []\n",
    "relativeErrors = []\n",
    "println(\"Summary Size: \", summary_size[1])\n",
    "println(\"Summary Build Time: \", build_time[1])\n",
    "for query_path in lubm80_query_paths\n",
    "    println(\"Query: \", query_path)\n",
    "    id_and_query = load_query(\"queryset/\" * query_path)\n",
    "    id = id_and_query[1]\n",
    "    query = id_and_query[2]\n",
    "    bound_results = @timed get_cardinality_bounds(query, color_summaries[1])\n",
    "    exact_size_results = @timed get_exact_size(query, datasets[1])\n",
    "    gcare_size = load_true_cardinality(\"TrueCardinalities/\" * query_path)\n",
    "    println(\"Bound Time: \", bound_results[2])\n",
    "    println(\"Exact Size Time: \", exact_size_results[2])\n",
    "    println(\"Exact Size: \", exact_size_results[1])\n",
    "    println(\"GCare Exact Size: \", gcare_size)\n",
    "    if gcare_size != exact_size_results[1]\n",
    "        println(\"Bad Exact Size Estimate!!\")\n",
    "        break\n",
    "    end\n",
    "    println(\"Bound [Lower, Avg, Upper]: \", bound_results[1])\n",
    "    println(\"Relative Error [Lower, Avg, Upper]: \", (bound_results[1])./exact_size_results[1])\n",
    "    push!(exactSizes, gcare_size)\n",
    "    push!(bounds, bound_results[1])\n",
    "    push!(relativeErrors, bound_results[1] ./ gcare_size)\n",
    "end"
   ]
  },
  {
   "cell_type": "code",
   "execution_count": null,
   "metadata": {},
   "outputs": [],
   "source": [
    "relativeErrors"
   ]
  },
  {
   "cell_type": "code",
   "execution_count": null,
   "metadata": {},
   "outputs": [],
   "source": [
    "exactSizes"
   ]
  },
  {
   "cell_type": "code",
   "execution_count": null,
   "metadata": {},
   "outputs": [],
   "source": []
  }
 ],
 "metadata": {
  "kernelspec": {
   "display_name": "Julia 1.8.3",
   "language": "julia",
   "name": "julia-1.8"
  },
  "language_info": {
   "file_extension": ".jl",
   "mimetype": "application/julia",
   "name": "julia",
   "version": "1.8.3"
  },
  "orig_nbformat": 4
 },
 "nbformat": 4,
 "nbformat_minor": 2
}
