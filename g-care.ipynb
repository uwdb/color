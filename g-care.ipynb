{
 "cells": [
  {
   "attachments": {},
   "cell_type": "markdown",
   "metadata": {},
   "source": [
    "## G-CARE Benchmark"
   ]
  },
  {
   "cell_type": "code",
   "execution_count": 1,
   "metadata": {},
   "outputs": [
    {
     "data": {
      "text/plain": [
       "get_cardinality_bounds (generic function with 1 method)"
      ]
     },
     "metadata": {},
     "output_type": "display_data"
    }
   ],
   "source": [
    "using Graphs: DiGraph\n",
    "using StatsPlots\n",
    "include(\"Source/datasets.jl\")\n",
    "include(\"Source/QuasiStableCardinalityEstimator.jl\")"
   ]
  },
  {
   "cell_type": "code",
   "execution_count": 2,
   "metadata": {},
   "outputs": [],
   "source": [
    "aids_data_file_path = \"dataset/aids/aids.txt\"\n",
    "human_data_file_path = \"dataset/human/human.txt\"\n",
    "lubm80_data_file_path = \"dataset/lubm80/lubm80.txt\"\n",
    "yago_data_file_path = \"dataset/yago/yago.txt\"\n",
    "\n",
    "human_data = load_dataset(human_data_file_path)\n",
    "aids_data = load_dataset(aids_data_file_path)\n",
    "lubm80_data = load_dataset(lubm80_data_file_path)\n",
    "#yago_data = load_dataset(yago_data_file_path)\n",
    "nothing"
   ]
  },
  {
   "cell_type": "code",
   "execution_count": 9,
   "metadata": {},
   "outputs": [
    {
     "data": {
      "text/plain": [
       "Dict{String, Int64} with 3 entries:\n",
       "  \"aids\"   => 6\n",
       "  \"human\"  => 3\n",
       "  \"lubm80\" => -1"
      ]
     },
     "metadata": {},
     "output_type": "display_data"
    }
   ],
   "source": [
    "#datasets = [aids_data, human_data, lubm80_data, yago_data]\n",
    "#dataset_names = [\"aids\", \"human\", \"lubm80\", \"yago\"]\n",
    "datasets = Dict(\"aids\"=>aids_data, \"human\"=>human_data, \"lubm80\"=>lubm80_data)\n",
    "dataset_names = [\"aids\", \"human\"]\n",
    "num_sample_nodes = Dict(\"aids\"=>10000, \"human\"=>100, \"lubm80\"=>10)\n",
    "max_cycle_size = Dict(\"aids\"=>6, \"human\"=>3, \"lubm80\" => -1)"
   ]
  },
  {
   "cell_type": "code",
   "execution_count": 10,
   "metadata": {},
   "outputs": [],
   "source": [
    "build_time = Dict()\n",
    "summary_size = Dict()\n",
    "color_summaries = Dict()\n",
    "for dataset in dataset_names\n",
    "    results = @timed generate_color_summary(datasets[dataset], 32, verbose=true, max_size = max_cycle_size[dataset], num_sample_nodes=num_sample_nodes[dataset])\n",
    "    build_time[dataset] = results[2]\n",
    "    summary_size[dataset] = get_color_summary_size(results[1])\n",
    "    color_summaries[dataset] = results[1]\n",
    "end"
   ]
  },
  {
   "cell_type": "code",
   "execution_count": 10,
   "metadata": {},
   "outputs": [
    {
     "name": "stdout",
     "output_type": "stream",
     "text": [
      "Summary Size: nothing\n",
      "Summary Build Time: 11.580982934\n"
     ]
    },
    {
     "name": "stdout",
     "output_type": "stream",
     "text": [
      "Query: /home/kylebd99/Cardinality-with-Colors/queryset/human/Chain_3/uf_Q_1_1.txt\n",
      "Query: "
     ]
    },
    {
     "name": "stdout",
     "output_type": "stream",
     "text": [
      "/home/kylebd99/Cardinality-with-Colors/queryset/human/Chain_3/uf_Q_1_2.txt\n",
      "Query: /home/kylebd99/Cardinality-with-Colors/queryset/human/Chain_3/uf_Q_1_3.txt\n",
      "Query: "
     ]
    },
    {
     "name": "stdout",
     "output_type": "stream",
     "text": [
      "/home/kylebd99/Cardinality-with-Colors/queryset/human/Graph_3/uf_Q_0_1.txt\n",
      "Query: /home/kylebd99/Cardinality-with-Colors/queryset/human/Graph_3/uf_Q_0_2.txt\n",
      "Query: /home/kylebd99/Cardinality-with-Colors/queryset/human/Graph_3/uf_Q_0_3.txt\n",
      "Query: /home/kylebd99/Cardinality-with-Colors/queryset/human/Graph_3/uf_Q_0_4.txt\n",
      "Query: /home/kylebd99/Cardinality-with-Colors/queryset/human/Graph_3/uf_Q_0_5.txt\n",
      "Query: /home/kylebd99/Cardinality-with-Colors/queryset/human/Graph_3/uf_Q_0_6.txt\n",
      "Query: /home/kylebd99/Cardinality-with-Colors/queryset/human/Graph_3/uf_Q_1_1.txt\n",
      "Query: /home/kylebd99/Cardinality-with-Colors/queryset/human/Graph_3/uf_Q_1_2.txt\n",
      "Query: /home/kylebd99/Cardinality-with-Colors/queryset/human/Graph_3/uf_Q_1_3.txt\n",
      "Query: /home/kylebd99/Cardinality-with-Colors/queryset/human/Graph_3/uf_Q_1_4.txt\n",
      "Query: /home/kylebd99/Cardinality-with-Colors/queryset/human/Graph_3/uf_Q_2_1.txt\n",
      "Query: /home/kylebd99/Cardinality-with-Colors/queryset/human/Graph_3/uf_Q_2_2.txt\n",
      "Query: /home/kylebd99/Cardinality-with-Colors/queryset/human/Graph_3/uf_Q_2_3.txt\n",
      "Query: /home/kylebd99/Cardinality-with-Colors/queryset/human/Graph_3/uf_Q_2_4.txt\n",
      "Query: /home/kylebd99/Cardinality-with-Colors/queryset/human/Graph_3/uf_Q_2_5.txt\n",
      "Query: /home/kylebd99/Cardinality-with-Colors/queryset/human/Graph_3/uf_Q_2_6.txt\n",
      "Query: /home/kylebd99/Cardinality-with-Colors/queryset/human/Graph_3/uf_Q_3_1.txt\n"
     ]
    },
    {
     "name": "stdout",
     "output_type": "stream",
     "text": [
      "Query: /home/kylebd99/Cardinality-with-Colors/queryset/human/Graph_3/uf_Q_3_2.txt\n",
      "Query: /home/kylebd99/Cardinality-with-Colors/queryset/human/Graph_3/uf_Q_3_3.txt\n"
     ]
    },
    {
     "name": "stdout",
     "output_type": "stream",
     "text": [
      "Query: /home/kylebd99/Cardinality-with-Colors/queryset/human/Graph_3/uf_Q_3_4.txt\n",
      "Query: /home/kylebd99/Cardinality-with-Colors/queryset/human/Graph_3/uf_Q_3_5.txt\n"
     ]
    },
    {
     "name": "stdout",
     "output_type": "stream",
     "text": [
      "Query: /home/kylebd99/Cardinality-with-Colors/queryset/human/Graph_3/uf_Q_3_6.txt\n",
      "Query: /home/kylebd99/Cardinality-with-Colors/queryset/human/Graph_3/uf_Q_3_7.txt\n"
     ]
    },
    {
     "name": "stdout",
     "output_type": "stream",
     "text": [
      "Query: /home/kylebd99/Cardinality-with-Colors/queryset/human/Graph_3/uf_Q_3_8.txt\n",
      "Query: /home/kylebd99/Cardinality-with-Colors/queryset/human/Graph_3/uf_Q_3_9.txt\n"
     ]
    },
    {
     "name": "stdout",
     "output_type": "stream",
     "text": [
      "Query: /home/kylebd99/Cardinality-with-Colors/queryset/human/Star_3/uf_Q_0_1.txt\n",
      "Query: /home/kylebd99/Cardinality-with-Colors/queryset/human/Star_3/uf_Q_0_2.txt\n"
     ]
    },
    {
     "name": "stdout",
     "output_type": "stream",
     "text": [
      "Query: /home/kylebd99/Cardinality-with-Colors/queryset/human/Star_3/uf_Q_1_1.txt\n",
      "Query: /home/kylebd99/Cardinality-with-Colors/queryset/human/Star_3/uf_Q_1_2.txt\n"
     ]
    },
    {
     "name": "stdout",
     "output_type": "stream",
     "text": [
      "Query: /home/kylebd99/Cardinality-with-Colors/queryset/human/Star_3/uf_Q_1_3.txt\n",
      "Query: /home/kylebd99/Cardinality-with-Colors/queryset/human/Star_3/uf_Q_1_4.txt\n"
     ]
    },
    {
     "name": "stdout",
     "output_type": "stream",
     "text": [
      "Query: /home/kylebd99/Cardinality-with-Colors/queryset/human/Star_3/uf_Q_1_5.txt\n",
      "Query: /home/kylebd99/Cardinality-with-Colors/queryset/human/Star_3/uf_Q_1_6.txt\n"
     ]
    },
    {
     "name": "stdout",
     "output_type": "stream",
     "text": [
      "Query: /home/kylebd99/Cardinality-with-Colors/queryset/human/Star_3/uf_Q_2_1.txt\n",
      "Query: /home/kylebd99/Cardinality-with-Colors/queryset/human/Star_3/uf_Q_2_2.txt\n"
     ]
    },
    {
     "name": "stdout",
     "output_type": "stream",
     "text": [
      "Query: /home/kylebd99/Cardinality-with-Colors/queryset/human/Star_3/uf_Q_2_3.txt\n",
      "Query: /home/kylebd99/Cardinality-with-Colors/queryset/human/Tree_3/uf_Q_0_1.txt\n"
     ]
    },
    {
     "name": "stdout",
     "output_type": "stream",
     "text": [
      "Query: /home/kylebd99/Cardinality-with-Colors/queryset/human/Tree_3/uf_Q_0_2.txt\n",
      "Query: /home/kylebd99/Cardinality-with-Colors/queryset/human/Tree_3/uf_Q_0_3.txt\n"
     ]
    },
    {
     "name": "stdout",
     "output_type": "stream",
     "text": [
      "Query: /home/kylebd99/Cardinality-with-Colors/queryset/human/Tree_3/uf_Q_1_1.txt\n",
      "Query: "
     ]
    },
    {
     "name": "stdout",
     "output_type": "stream",
     "text": [
      "/home/kylebd99/Cardinality-with-Colors/queryset/human/Tree_3/uf_Q_2_1.txt\n",
      "Query: /home/kylebd99/Cardinality-with-Colors/queryset/human/Tree_3/uf_Q_2_2.txt\n",
      "Query: "
     ]
    },
    {
     "name": "stdout",
     "output_type": "stream",
     "text": [
      "/home/kylebd99/Cardinality-with-Colors/queryset/human/Tree_3/uf_Q_2_3.txt\n",
      "Query: /home/kylebd99/Cardinality-with-Colors/queryset/human/Tree_3/uf_Q_2_4.txt\n",
      "Query: "
     ]
    },
    {
     "name": "stdout",
     "output_type": "stream",
     "text": [
      "/home/kylebd99/Cardinality-with-Colors/queryset/human/Tree_3/uf_Q_3_1.txt\n",
      "Query: /home/kylebd99/Cardinality-with-Colors/queryset/human/Tree_3/uf_Q_3_2.txt\n"
     ]
    }
   ],
   "source": [
    "include(\"Source/QuasiStableCardinalityEstimator.jl\")\n",
    "\n",
    "human_query_directories = [\"/queryset/human/Chain_3/\",\n",
    "\"/queryset/human/Graph_3/\",\n",
    "\"/queryset/human/Star_3/\",\n",
    "\"/queryset/human/Tree_3/\",\n",
    "                    ]\n",
    "human_query_paths = [readdir(pwd() * dir, join=true) for dir in human_query_directories]\n",
    "human_query_paths = [(human_query_paths...)...]\n",
    "human_exact_sizes = []\n",
    "human_bounds = []\n",
    "human_bounds_with_stats = []\n",
    "human_relative_errors = []\n",
    "human_relative_errors_with_stats = []\n",
    "human_query_type = []\n",
    "println(\"Summary Size: \", summary_size[\"human\"])\n",
    "println(\"Summary Build Time: \", build_time[\"human\"])\n",
    "for query_path in human_query_paths\n",
    "    println(\"Query: \", query_path)\n",
    "    id_and_query = load_query(query_path)\n",
    "    id = id_and_query[1]\n",
    "    query = id_and_query[2]\n",
    "    bound_results = @timed get_cardinality_bounds(query, color_summaries[\"human\"], usingStoredStats=false)\n",
    "    bound_results_with_stats = @timed get_cardinality_bounds(query, color_summaries[\"human\"], usingStoredStats=true)\n",
    "    exact_size_results = @timed get_exact_size(query, datasets[\"human\"])\n",
    "    gcare_size = load_true_cardinality(replace(query_path, \"queryset\"=>\"TrueCardinalities\"))\n",
    "    query_type = match(r\"/queryset/human/(.*)_./.*\", query_path).captures[1]\n",
    "#    println(\"Bound Time: \", bound_results[2])\n",
    "#    println(\"Exact Size Time: \", exact_size_results[2])\n",
    "#    println(\"Exact Size: \", exact_size_results[1])\n",
    "#    println(\"GCare Exact Size: \", gcare_size)\n",
    "    if gcare_size != exact_size_results[1]\n",
    "        println(\"Bad Exact Size Estimate!!\")\n",
    "        break\n",
    "    end\n",
    "#    println(\"Bound [Lower, Avg, Upper]: \", bound_results[1])\n",
    "#    println(\"Relative Error [Lower, Avg, Upper]: \", bound_results[1]./exact_size_results[1])\n",
    "    bound_results[1][2] = max(1, bound_results[1][2])\n",
    "    bound_results_with_stats[1][2] = max(1, bound_results_with_stats[1][2])\n",
    "    push!(human_exact_sizes, gcare_size)\n",
    "    push!(human_bounds, bound_results[1])\n",
    "    push!(human_bounds_with_stats, bound_results_with_stats[1])\n",
    "    push!(human_relative_errors, bound_results[1] ./ gcare_size)\n",
    "    push!(human_relative_errors_with_stats, bound_results_with_stats[1] ./ gcare_size)\n",
    "    push!(human_query_type, query_type)\n",
    "end"
   ]
  },
  {
   "cell_type": "code",
   "execution_count": 11,
   "metadata": {},
   "outputs": [
    {
     "name": "stdout",
     "output_type": "stream",
     "text": [
      "2.1162174132207614\n",
      "0.6191122725795751\n"
     ]
    },
    {
     "name": "stdout",
     "output_type": "stream",
     "text": [
      "-1.5314789170422551\n"
     ]
    }
   ],
   "source": [
    "using Statistics\n",
    "println(maximum([log10(x[2]) for x in human_relative_errors]))\n",
    "println(mean([abs(log10(x[2])) for x in human_relative_errors]))\n",
    "println(minimum([log10(x[2]) for x in human_relative_errors]))"
   ]
  },
  {
   "cell_type": "code",
   "execution_count": 12,
   "metadata": {},
   "outputs": [
    {
     "name": "stdout",
     "output_type": "stream",
     "text": [
      "2.1162174132207614\n"
     ]
    },
    {
     "name": "stdout",
     "output_type": "stream",
     "text": [
      "0.6191122725795751\n",
      "-1.5314789170422551\n"
     ]
    }
   ],
   "source": [
    "using Statistics\n",
    "println(maximum([log10(x[2]) for x in human_relative_errors_with_stats]))\n",
    "println(mean([abs(log10(x[2])) for x in human_relative_errors_with_stats]))\n",
    "println(minimum([log10(x[2]) for x in human_relative_errors_with_stats]))"
   ]
  },
  {
   "cell_type": "code",
   "execution_count": 38,
   "metadata": {},
   "outputs": [
    {
     "data": {
      "image/png": "[encoded data removed]",
      "image/svg+xml": [
       "<?xml version=\"1.0\" encoding=\"utf-8\"?>\n",
       "<svg xmlns=\"http://www.w3.org/2000/svg\" xmlns:xlink=\"http://www.w3.org/1999/xlink\" width=\"600\" height=\"400\" viewBox=\"0 0 2400 1600\">\n",
       "<defs>\n",
       "  <clipPath id=\"clip410\">\n",
       "    <rect x=\"0\" y=\"0\" width=\"2400\" height=\"1600\"/>\n",
       "  </clipPath>\n",
       "</defs>\n",
       "<path clip-path=\"url(#clip410)\" d=\"M0 1600 L2400 1600 L2400 0 L0 0  Z\" fill=\"#ffffff\" fill-rule=\"evenodd\" fill-opacity=\"1\"/>\n",
       "<defs>\n",
       "  <clipPath id=\"clip411\">\n",
       "    <rect x=\"480\" y=\"0\" width=\"1681\" height=\"1600\"/>\n",
       "  </clipPath>\n",
       "</defs>\n",
       "<path clip-path=\"url(#clip410)\" d=\"M189.496 1486.45 L2352.76 1486.45 L2352.76 47.2441 L189.496 47.2441  Z\" fill=\"#ffffff\" fill-rule=\"evenodd\" fill-opacity=\"1\"/>\n",
       "<defs>\n",
       "  <clipPath id=\"clip412\">\n",
       "    <rect x=\"189\" y=\"47\" width=\"2164\" height=\"1440\"/>\n",
       "  </clipPath>\n",
       "</defs>\n",
       "<polyline clip-path=\"url(#clip412)\" style=\"stroke:#000000; stroke-linecap:round; stroke-linejoin:round; stroke-width:2; stroke-opacity:0.1; fill:none\" points=\"465.542,1486.45 465.542,47.2441 \"/>\n",
       "<polyline clip-path=\"url(#clip412)\" style=\"stroke:#000000; stroke-linecap:round; stroke-linejoin:round; stroke-width:2; stroke-opacity:0.1; fill:none\" points=\"1002.6,1486.45 1002.6,47.2441 \"/>\n",
       "<polyline clip-path=\"url(#clip412)\" style=\"stroke:#000000; stroke-linecap:round; stroke-linejoin:round; stroke-width:2; stroke-opacity:0.1; fill:none\" points=\"1539.65,1486.45 1539.65,47.2441 \"/>\n",
       "<polyline clip-path=\"url(#clip412)\" style=\"stroke:#000000; stroke-linecap:round; stroke-linejoin:round; stroke-width:2; stroke-opacity:0.1; fill:none\" points=\"2076.71,1486.45 2076.71,47.2441 \"/>\n",
       "<polyline clip-path=\"url(#clip410)\" style=\"stroke:#000000; stroke-linecap:round; stroke-linejoin:round; stroke-width:4; stroke-opacity:1; fill:none\" points=\"189.496,1486.45 2352.76,1486.45 \"/>\n",
       "<polyline clip-path=\"url(#clip410)\" style=\"stroke:#000000; stroke-linecap:round; stroke-linejoin:round; stroke-width:4; stroke-opacity:1; fill:none\" points=\"465.542,1486.45 465.542,1467.55 \"/>\n",
       "<polyline clip-path=\"url(#clip410)\" style=\"stroke:#000000; stroke-linecap:round; stroke-linejoin:round; stroke-width:4; stroke-opacity:1; fill:none\" points=\"1002.6,1486.45 1002.6,1467.55 \"/>\n",
       "<polyline clip-path=\"url(#clip410)\" style=\"stroke:#000000; stroke-linecap:round; stroke-linejoin:round; stroke-width:4; stroke-opacity:1; fill:none\" points=\"1539.65,1486.45 1539.65,1467.55 \"/>\n",
       "<polyline clip-path=\"url(#clip410)\" style=\"stroke:#000000; stroke-linecap:round; stroke-linejoin:round; stroke-width:4; stroke-opacity:1; fill:none\" points=\"2076.71,1486.45 2076.71,1467.55 \"/>\n",
       "<path clip-path=\"url(#clip410)\" d=\"M429.05 1516.95 L429.05 1521.88 Q426.689 1519.68 424.003 1518.59 Q421.341 1517.51 418.332 1517.51 Q412.406 1517.51 409.258 1521.14 Q406.11 1524.75 406.11 1531.6 Q406.11 1538.43 409.258 1542.07 Q412.406 1545.68 418.332 1545.68 Q421.341 1545.68 424.003 1544.59 Q426.689 1543.5 429.05 1541.3 L429.05 1546.19 Q426.596 1547.85 423.841 1548.69 Q421.11 1549.52 418.054 1549.52 Q410.207 1549.52 405.693 1544.73 Q401.179 1539.91 401.179 1531.6 Q401.179 1523.27 405.693 1518.48 Q410.207 1513.66 418.054 1513.66 Q421.156 1513.66 423.888 1514.5 Q426.642 1515.31 429.05 1516.95 Z\" fill=\"#000000\" fill-rule=\"nonzero\" fill-opacity=\"1\" /><path clip-path=\"url(#clip410)\" d=\"M457.637 1533.2 L457.637 1548.85 L453.378 1548.85 L453.378 1533.34 Q453.378 1529.66 451.943 1527.83 Q450.508 1526 447.638 1526 Q444.188 1526 442.198 1528.2 Q440.207 1530.4 440.207 1534.2 L440.207 1548.85 L435.925 1548.85 L435.925 1512.83 L440.207 1512.83 L440.207 1526.95 Q441.735 1524.61 443.795 1523.45 Q445.878 1522.3 448.587 1522.3 Q453.054 1522.3 455.346 1525.07 Q457.637 1527.83 457.637 1533.2 Z\" fill=\"#000000\" fill-rule=\"nonzero\" fill-opacity=\"1\" /><path clip-path=\"url(#clip410)\" d=\"M477.915 1535.82 Q472.753 1535.82 470.762 1537 Q468.772 1538.18 468.772 1541.02 Q468.772 1543.29 470.253 1544.63 Q471.758 1545.95 474.327 1545.95 Q477.869 1545.95 479.998 1543.45 Q482.151 1540.93 482.151 1536.76 L482.151 1535.82 L477.915 1535.82 M486.41 1534.06 L486.41 1548.85 L482.151 1548.85 L482.151 1544.91 Q480.693 1547.27 478.517 1548.41 Q476.341 1549.52 473.193 1549.52 Q469.211 1549.52 466.85 1547.3 Q464.512 1545.05 464.512 1541.3 Q464.512 1536.93 467.429 1534.7 Q470.369 1532.48 476.179 1532.48 L482.151 1532.48 L482.151 1532.07 Q482.151 1529.13 480.207 1527.53 Q478.285 1525.91 474.79 1525.91 Q472.568 1525.91 470.461 1526.44 Q468.355 1526.97 466.411 1528.04 L466.411 1524.1 Q468.749 1523.2 470.948 1522.76 Q473.147 1522.3 475.23 1522.3 Q480.855 1522.3 483.633 1525.21 Q486.41 1528.13 486.41 1534.06 Z\" fill=\"#000000\" fill-rule=\"nonzero\" fill-opacity=\"1\" /><path clip-path=\"url(#clip410)\" d=\"M495.184 1522.92 L499.443 1522.92 L499.443 1548.85 L495.184 1548.85 L495.184 1522.92 M495.184 1512.83 L499.443 1512.83 L499.443 1518.22 L495.184 1518.22 L495.184 1512.83 Z\" fill=\"#000000\" fill-rule=\"nonzero\" fill-opacity=\"1\" /><path clip-path=\"url(#clip410)\" d=\"M529.906 1533.2 L529.906 1548.85 L525.646 1548.85 L525.646 1533.34 Q525.646 1529.66 524.211 1527.83 Q522.776 1526 519.906 1526 Q516.457 1526 514.466 1528.2 Q512.475 1530.4 512.475 1534.2 L512.475 1548.85 L508.193 1548.85 L508.193 1522.92 L512.475 1522.92 L512.475 1526.95 Q514.003 1524.61 516.063 1523.45 Q518.146 1522.3 520.855 1522.3 Q525.322 1522.3 527.614 1525.07 Q529.906 1527.83 529.906 1533.2 Z\" fill=\"#000000\" fill-rule=\"nonzero\" fill-opacity=\"1\" /><path clip-path=\"url(#clip410)\" d=\"M958.79 1543.92 L958.79 1534.63 L951.152 1534.63 L951.152 1530.79 L963.42 1530.79 L963.42 1545.63 Q960.712 1547.55 957.448 1548.55 Q954.184 1549.52 950.48 1549.52 Q942.379 1549.52 937.795 1544.8 Q933.235 1540.05 933.235 1531.6 Q933.235 1523.13 937.795 1518.41 Q942.379 1513.66 950.48 1513.66 Q953.86 1513.66 956.892 1514.5 Q959.948 1515.33 962.517 1516.95 L962.517 1521.93 Q959.925 1519.73 957.008 1518.62 Q954.091 1517.51 950.874 1517.51 Q944.531 1517.51 941.337 1521.05 Q938.166 1524.59 938.166 1531.6 Q938.166 1538.59 941.337 1542.13 Q944.531 1545.68 950.874 1545.68 Q953.351 1545.68 955.295 1545.26 Q957.24 1544.82 958.79 1543.92 Z\" fill=\"#000000\" fill-rule=\"nonzero\" fill-opacity=\"1\" /><path clip-path=\"url(#clip410)\" d=\"M986.8 1526.9 Q986.082 1526.49 985.226 1526.3 Q984.392 1526.09 983.374 1526.09 Q979.763 1526.09 977.818 1528.45 Q975.897 1530.79 975.897 1535.19 L975.897 1548.85 L971.614 1548.85 L971.614 1522.92 L975.897 1522.92 L975.897 1526.95 Q977.239 1524.59 979.392 1523.45 Q981.545 1522.3 984.624 1522.3 Q985.063 1522.3 985.596 1522.37 Q986.128 1522.41 986.776 1522.53 L986.8 1526.9 Z\" fill=\"#000000\" fill-rule=\"nonzero\" fill-opacity=\"1\" /><path clip-path=\"url(#clip410)\" d=\"M1003.05 1535.82 Q997.887 1535.82 995.897 1537 Q993.906 1538.18 993.906 1541.02 Q993.906 1543.29 995.387 1544.63 Q996.892 1545.95 999.462 1545.95 Q1003 1545.95 1005.13 1543.45 Q1007.29 1540.93 1007.29 1536.76 L1007.29 1535.82 L1003.05 1535.82 M1011.54 1534.06 L1011.54 1548.85 L1007.29 1548.85 L1007.29 1544.91 Q1005.83 1547.27 1003.65 1548.41 Q1001.48 1549.52 998.327 1549.52 Q994.346 1549.52 991.985 1547.3 Q989.647 1545.05 989.647 1541.3 Q989.647 1536.93 992.563 1534.7 Q995.503 1532.48 1001.31 1532.48 L1007.29 1532.48 L1007.29 1532.07 Q1007.29 1529.13 1005.34 1527.53 Q1003.42 1525.91 999.925 1525.91 Q997.702 1525.91 995.596 1526.44 Q993.489 1526.97 991.545 1528.04 L991.545 1524.1 Q993.883 1523.2 996.082 1522.76 Q998.281 1522.3 1000.36 1522.3 Q1005.99 1522.3 1008.77 1525.21 Q1011.54 1528.13 1011.54 1534.06 Z\" fill=\"#000000\" fill-rule=\"nonzero\" fill-opacity=\"1\" /><path clip-path=\"url(#clip410)\" d=\"M1024.44 1544.96 L1024.44 1558.71 L1020.16 1558.71 L1020.16 1522.92 L1024.44 1522.92 L1024.44 1526.86 Q1025.78 1524.54 1027.82 1523.43 Q1029.88 1522.3 1032.73 1522.3 Q1037.45 1522.3 1040.39 1526.05 Q1043.35 1529.8 1043.35 1535.91 Q1043.35 1542.02 1040.39 1545.77 Q1037.45 1549.52 1032.73 1549.52 Q1029.88 1549.52 1027.82 1548.41 Q1025.78 1547.27 1024.44 1544.96 M1038.93 1535.91 Q1038.93 1531.21 1036.98 1528.55 Q1035.06 1525.86 1031.68 1525.86 Q1028.3 1525.86 1026.36 1528.55 Q1024.44 1531.21 1024.44 1535.91 Q1024.44 1540.61 1026.36 1543.29 Q1028.3 1545.95 1031.68 1545.95 Q1035.06 1545.95 1036.98 1543.29 Q1038.93 1540.61 1038.93 1535.91 Z\" fill=\"#000000\" fill-rule=\"nonzero\" fill-opacity=\"1\" /><path clip-path=\"url(#clip410)\" d=\"M1071.96 1533.2 L1071.96 1548.85 L1067.7 1548.85 L1067.7 1533.34 Q1067.7 1529.66 1066.27 1527.83 Q1064.83 1526 1061.96 1526 Q1058.51 1526 1056.52 1528.2 Q1054.53 1530.4 1054.53 1534.2 L1054.53 1548.85 L1050.25 1548.85 L1050.25 1512.83 L1054.53 1512.83 L1054.53 1526.95 Q1056.06 1524.61 1058.12 1523.45 Q1060.2 1522.3 1062.91 1522.3 Q1067.38 1522.3 1069.67 1525.07 Q1071.96 1527.83 1071.96 1533.2 Z\" fill=\"#000000\" fill-rule=\"nonzero\" fill-opacity=\"1\" /><path clip-path=\"url(#clip410)\" d=\"M1514.85 1515.42 L1514.85 1519.98 Q1512.19 1518.71 1509.83 1518.08 Q1507.47 1517.46 1505.27 1517.46 Q1501.45 1517.46 1499.36 1518.94 Q1497.3 1520.42 1497.3 1523.15 Q1497.3 1525.45 1498.67 1526.63 Q1500.06 1527.78 1503.9 1528.5 L1506.73 1529.08 Q1511.96 1530.07 1514.43 1532.6 Q1516.93 1535.1 1516.93 1539.31 Q1516.93 1544.33 1513.55 1546.93 Q1510.2 1549.52 1503.69 1549.52 Q1501.24 1549.52 1498.46 1548.96 Q1495.71 1548.41 1492.74 1547.32 L1492.74 1542.51 Q1495.59 1544.1 1498.32 1544.91 Q1501.05 1545.72 1503.69 1545.72 Q1507.7 1545.72 1509.87 1544.15 Q1512.05 1542.57 1512.05 1539.66 Q1512.05 1537.11 1510.48 1535.68 Q1508.92 1534.24 1505.36 1533.52 L1502.51 1532.97 Q1497.28 1531.93 1494.94 1529.7 Q1492.61 1527.48 1492.61 1523.52 Q1492.61 1518.94 1495.82 1516.3 Q1499.06 1513.66 1504.73 1513.66 Q1507.17 1513.66 1509.69 1514.1 Q1512.21 1514.54 1514.85 1515.42 Z\" fill=\"#000000\" fill-rule=\"nonzero\" fill-opacity=\"1\" /><path clip-path=\"url(#clip410)\" d=\"M1528.25 1515.56 L1528.25 1522.92 L1537.03 1522.92 L1537.03 1526.23 L1528.25 1526.23 L1528.25 1540.31 Q1528.25 1543.48 1529.11 1544.38 Q1529.99 1545.28 1532.65 1545.28 L1537.03 1545.28 L1537.03 1548.85 L1532.65 1548.85 Q1527.72 1548.85 1525.85 1547.02 Q1523.97 1545.17 1523.97 1540.31 L1523.97 1526.23 L1520.85 1526.23 L1520.85 1522.92 L1523.97 1522.92 L1523.97 1515.56 L1528.25 1515.56 Z\" fill=\"#000000\" fill-rule=\"nonzero\" fill-opacity=\"1\" /><path clip-path=\"url(#clip410)\" d=\"M1554.41 1535.82 Q1549.25 1535.82 1547.26 1537 Q1545.27 1538.18 1545.27 1541.02 Q1545.27 1543.29 1546.75 1544.63 Q1548.25 1545.95 1550.82 1545.95 Q1554.36 1545.95 1556.49 1543.45 Q1558.65 1540.93 1558.65 1536.76 L1558.65 1535.82 L1554.41 1535.82 M1562.91 1534.06 L1562.91 1548.85 L1558.65 1548.85 L1558.65 1544.91 Q1557.19 1547.27 1555.01 1548.41 Q1552.84 1549.52 1549.69 1549.52 Q1545.71 1549.52 1543.35 1547.3 Q1541.01 1545.05 1541.01 1541.3 Q1541.01 1536.93 1543.92 1534.7 Q1546.86 1532.48 1552.67 1532.48 L1558.65 1532.48 L1558.65 1532.07 Q1558.65 1529.13 1556.7 1527.53 Q1554.78 1525.91 1551.29 1525.91 Q1549.06 1525.91 1546.96 1526.44 Q1544.85 1526.97 1542.91 1528.04 L1542.91 1524.1 Q1545.24 1523.2 1547.44 1522.76 Q1549.64 1522.3 1551.73 1522.3 Q1557.35 1522.3 1560.13 1525.21 Q1562.91 1528.13 1562.91 1534.06 Z\" fill=\"#000000\" fill-rule=\"nonzero\" fill-opacity=\"1\" /><path clip-path=\"url(#clip410)\" d=\"M1586.7 1526.9 Q1585.98 1526.49 1585.13 1526.3 Q1584.29 1526.09 1583.28 1526.09 Q1579.67 1526.09 1577.72 1528.45 Q1575.8 1530.79 1575.8 1535.19 L1575.8 1548.85 L1571.52 1548.85 L1571.52 1522.92 L1575.8 1522.92 L1575.8 1526.95 Q1577.14 1524.59 1579.29 1523.45 Q1581.45 1522.3 1584.53 1522.3 Q1584.97 1522.3 1585.5 1522.37 Q1586.03 1522.41 1586.68 1522.53 L1586.7 1526.9 Z\" fill=\"#000000\" fill-rule=\"nonzero\" fill-opacity=\"1\" /><path clip-path=\"url(#clip410)\" d=\"M2028.52 1514.29 L2057.75 1514.29 L2057.75 1518.22 L2045.48 1518.22 L2045.48 1548.85 L2040.78 1548.85 L2040.78 1518.22 L2028.52 1518.22 L2028.52 1514.29 Z\" fill=\"#000000\" fill-rule=\"nonzero\" fill-opacity=\"1\" /><path clip-path=\"url(#clip410)\" d=\"M2070.14 1526.9 Q2069.42 1526.49 2068.56 1526.3 Q2067.73 1526.09 2066.71 1526.09 Q2063.1 1526.09 2061.15 1528.45 Q2059.23 1530.79 2059.23 1535.19 L2059.23 1548.85 L2054.95 1548.85 L2054.95 1522.92 L2059.23 1522.92 L2059.23 1526.95 Q2060.58 1524.59 2062.73 1523.45 Q2064.88 1522.3 2067.96 1522.3 Q2068.4 1522.3 2068.93 1522.37 Q2069.46 1522.41 2070.11 1522.53 L2070.14 1526.9 Z\" fill=\"#000000\" fill-rule=\"nonzero\" fill-opacity=\"1\" /><path clip-path=\"url(#clip410)\" d=\"M2095.74 1534.82 L2095.74 1536.9 L2076.15 1536.9 Q2076.43 1541.3 2078.79 1543.62 Q2081.18 1545.91 2085.41 1545.91 Q2087.87 1545.91 2090.16 1545.31 Q2092.47 1544.7 2094.74 1543.5 L2094.74 1547.53 Q2092.45 1548.5 2090.04 1549.01 Q2087.64 1549.52 2085.16 1549.52 Q2078.95 1549.52 2075.32 1545.91 Q2071.71 1542.3 2071.71 1536.14 Q2071.71 1529.77 2075.14 1526.05 Q2078.58 1522.3 2084.42 1522.3 Q2089.65 1522.3 2092.68 1525.68 Q2095.74 1529.03 2095.74 1534.82 M2091.48 1533.57 Q2091.43 1530.07 2089.51 1527.99 Q2087.61 1525.91 2084.46 1525.91 Q2080.9 1525.91 2078.75 1527.92 Q2076.62 1529.94 2076.29 1533.59 L2091.48 1533.57 Z\" fill=\"#000000\" fill-rule=\"nonzero\" fill-opacity=\"1\" /><path clip-path=\"url(#clip410)\" d=\"M2124.9 1534.82 L2124.9 1536.9 L2105.32 1536.9 Q2105.6 1541.3 2107.96 1543.62 Q2110.34 1545.91 2114.58 1545.91 Q2117.03 1545.91 2119.32 1545.31 Q2121.64 1544.7 2123.91 1543.5 L2123.91 1547.53 Q2121.62 1548.5 2119.21 1549.01 Q2116.8 1549.52 2114.32 1549.52 Q2108.12 1549.52 2104.49 1545.91 Q2100.88 1542.3 2100.88 1536.14 Q2100.88 1529.77 2104.3 1526.05 Q2107.75 1522.3 2113.58 1522.3 Q2118.82 1522.3 2121.85 1525.68 Q2124.9 1529.03 2124.9 1534.82 M2120.64 1533.57 Q2120.6 1530.07 2118.68 1527.99 Q2116.78 1525.91 2113.63 1525.91 Q2110.07 1525.91 2107.91 1527.92 Q2105.78 1529.94 2105.46 1533.59 L2120.64 1533.57 Z\" fill=\"#000000\" fill-rule=\"nonzero\" fill-opacity=\"1\" /><polyline clip-path=\"url(#clip412)\" style=\"stroke:#000000; stroke-linecap:round; stroke-linejoin:round; stroke-width:2; stroke-opacity:0.1; fill:none\" points=\"189.496,1486.45 2352.76,1486.45 \"/>\n",
       "<polyline clip-path=\"url(#clip412)\" style=\"stroke:#000000; stroke-linecap:round; stroke-linejoin:round; stroke-width:2; stroke-opacity:0.1; fill:none\" points=\"189.496,1224.77 2352.76,1224.77 \"/>\n",
       "<polyline clip-path=\"url(#clip412)\" style=\"stroke:#000000; stroke-linecap:round; stroke-linejoin:round; stroke-width:2; stroke-opacity:0.1; fill:none\" points=\"189.496,963.101 2352.76,963.101 \"/>\n",
       "<polyline clip-path=\"url(#clip412)\" style=\"stroke:#000000; stroke-linecap:round; stroke-linejoin:round; stroke-width:2; stroke-opacity:0.1; fill:none\" points=\"189.496,701.428 2352.76,701.428 \"/>\n",
       "<polyline clip-path=\"url(#clip412)\" style=\"stroke:#000000; stroke-linecap:round; stroke-linejoin:round; stroke-width:2; stroke-opacity:0.1; fill:none\" points=\"189.496,439.754 2352.76,439.754 \"/>\n",
       "<polyline clip-path=\"url(#clip412)\" style=\"stroke:#000000; stroke-linecap:round; stroke-linejoin:round; stroke-width:2; stroke-opacity:0.1; fill:none\" points=\"189.496,178.081 2352.76,178.081 \"/>\n",
       "<polyline clip-path=\"url(#clip410)\" style=\"stroke:#000000; stroke-linecap:round; stroke-linejoin:round; stroke-width:4; stroke-opacity:1; fill:none\" points=\"189.496,1486.45 189.496,47.2441 \"/>\n",
       "<polyline clip-path=\"url(#clip410)\" style=\"stroke:#000000; stroke-linecap:round; stroke-linejoin:round; stroke-width:4; stroke-opacity:1; fill:none\" points=\"189.496,1486.45 208.394,1486.45 \"/>\n",
       "<polyline clip-path=\"url(#clip410)\" style=\"stroke:#000000; stroke-linecap:round; stroke-linejoin:round; stroke-width:4; stroke-opacity:1; fill:none\" points=\"189.496,1224.77 208.394,1224.77 \"/>\n",
       "<polyline clip-path=\"url(#clip410)\" style=\"stroke:#000000; stroke-linecap:round; stroke-linejoin:round; stroke-width:4; stroke-opacity:1; fill:none\" points=\"189.496,963.101 208.394,963.101 \"/>\n",
       "<polyline clip-path=\"url(#clip410)\" style=\"stroke:#000000; stroke-linecap:round; stroke-linejoin:round; stroke-width:4; stroke-opacity:1; fill:none\" points=\"189.496,701.428 208.394,701.428 \"/>\n",
       "<polyline clip-path=\"url(#clip410)\" style=\"stroke:#000000; stroke-linecap:round; stroke-linejoin:round; stroke-width:4; stroke-opacity:1; fill:none\" points=\"189.496,439.754 208.394,439.754 \"/>\n",
       "<polyline clip-path=\"url(#clip410)\" style=\"stroke:#000000; stroke-linecap:round; stroke-linejoin:round; stroke-width:4; stroke-opacity:1; fill:none\" points=\"189.496,178.081 208.394,178.081 \"/>\n",
       "<path clip-path=\"url(#clip410)\" d=\"M51.6634 1506.24 L59.3023 1506.24 L59.3023 1479.87 L50.9921 1481.54 L50.9921 1477.28 L59.256 1475.62 L63.9319 1475.62 L63.9319 1506.24 L71.5707 1506.24 L71.5707 1510.18 L51.6634 1510.18 L51.6634 1506.24 Z\" fill=\"#000000\" fill-rule=\"nonzero\" fill-opacity=\"1\" /><path clip-path=\"url(#clip410)\" d=\"M91.0151 1478.69 Q87.404 1478.69 85.5753 1482.26 Q83.7697 1485.8 83.7697 1492.93 Q83.7697 1500.04 85.5753 1503.6 Q87.404 1507.14 91.0151 1507.14 Q94.6493 1507.14 96.4548 1503.6 Q98.2835 1500.04 98.2835 1492.93 Q98.2835 1485.8 96.4548 1482.26 Q94.6493 1478.69 91.0151 1478.69 M91.0151 1474.99 Q96.8252 1474.99 99.8808 1479.6 Q102.959 1484.18 102.959 1492.93 Q102.959 1501.66 99.8808 1506.26 Q96.8252 1510.85 91.0151 1510.85 Q85.2049 1510.85 82.1262 1506.26 Q79.0707 1501.66 79.0707 1492.93 Q79.0707 1484.18 82.1262 1479.6 Q85.2049 1474.99 91.0151 1474.99 Z\" fill=\"#000000\" fill-rule=\"nonzero\" fill-opacity=\"1\" /><path clip-path=\"url(#clip410)\" d=\"M102.959 1469.09 L127.071 1469.09 L127.071 1472.29 L102.959 1472.29 L102.959 1469.09 Z\" fill=\"#000000\" fill-rule=\"nonzero\" fill-opacity=\"1\" /><path clip-path=\"url(#clip410)\" d=\"M145.71 1458 L136.118 1472.99 L145.71 1472.99 L145.71 1458 M144.713 1454.69 L149.49 1454.69 L149.49 1472.99 L153.496 1472.99 L153.496 1476.14 L149.49 1476.14 L149.49 1482.77 L145.71 1482.77 L145.71 1476.14 L133.033 1476.14 L133.033 1472.48 L144.713 1454.69 Z\" fill=\"#000000\" fill-rule=\"nonzero\" fill-opacity=\"1\" /><path clip-path=\"url(#clip410)\" d=\"M53.3561 1244.57 L60.995 1244.57 L60.995 1218.2 L52.6848 1219.87 L52.6848 1215.61 L60.9487 1213.94 L65.6246 1213.94 L65.6246 1244.57 L73.2634 1244.57 L73.2634 1248.5 L53.3561 1248.5 L53.3561 1244.57 Z\" fill=\"#000000\" fill-rule=\"nonzero\" fill-opacity=\"1\" /><path clip-path=\"url(#clip410)\" d=\"M92.7078 1217.02 Q89.0967 1217.02 87.268 1220.59 Q85.4624 1224.13 85.4624 1231.26 Q85.4624 1238.36 87.268 1241.93 Q89.0967 1245.47 92.7078 1245.47 Q96.342 1245.47 98.1475 1241.93 Q99.9762 1238.36 99.9762 1231.26 Q99.9762 1224.13 98.1475 1220.59 Q96.342 1217.02 92.7078 1217.02 M92.7078 1213.32 Q98.5179 1213.32 101.573 1217.92 Q104.652 1222.51 104.652 1231.26 Q104.652 1239.98 101.573 1244.59 Q98.5179 1249.17 92.7078 1249.17 Q86.8976 1249.17 83.8189 1244.59 Q80.7634 1239.98 80.7634 1231.26 Q80.7634 1222.51 83.8189 1217.92 Q86.8976 1213.32 92.7078 1213.32 Z\" fill=\"#000000\" fill-rule=\"nonzero\" fill-opacity=\"1\" /><path clip-path=\"url(#clip410)\" d=\"M104.652 1207.42 L128.764 1207.42 L128.764 1210.62 L104.652 1210.62 L104.652 1207.42 Z\" fill=\"#000000\" fill-rule=\"nonzero\" fill-opacity=\"1\" /><path clip-path=\"url(#clip410)\" d=\"M140.236 1217.89 L153.496 1217.89 L153.496 1221.09 L135.666 1221.09 L135.666 1217.89 Q137.829 1215.66 141.553 1211.89 Q145.296 1208.11 146.255 1207.02 Q148.079 1204.97 148.794 1203.56 Q149.527 1202.13 149.527 1200.76 Q149.527 1198.52 147.948 1197.11 Q146.387 1195.7 143.866 1195.7 Q142.08 1195.7 140.086 1196.32 Q138.111 1196.94 135.854 1198.2 L135.854 1194.37 Q138.149 1193.44 140.142 1192.97 Q142.136 1192.5 143.791 1192.5 Q148.155 1192.5 150.75 1194.69 Q153.345 1196.87 153.345 1200.52 Q153.345 1202.25 152.687 1203.81 Q152.048 1205.35 150.336 1207.46 Q149.866 1208 147.346 1210.62 Q144.826 1213.21 140.236 1217.89 Z\" fill=\"#000000\" fill-rule=\"nonzero\" fill-opacity=\"1\" /><path clip-path=\"url(#clip410)\" d=\"M82.7903 982.893 L90.4291 982.893 L90.4291 956.528 L82.119 958.195 L82.119 953.935 L90.3828 952.269 L95.0587 952.269 L95.0587 982.893 L102.698 982.893 L102.698 986.829 L82.7903 986.829 L82.7903 982.893 Z\" fill=\"#000000\" fill-rule=\"nonzero\" fill-opacity=\"1\" /><path clip-path=\"url(#clip410)\" d=\"M122.142 955.347 Q118.531 955.347 116.702 958.912 Q114.897 962.454 114.897 969.583 Q114.897 976.69 116.702 980.255 Q118.531 983.796 122.142 983.796 Q125.776 983.796 127.582 980.255 Q129.41 976.69 129.41 969.583 Q129.41 962.454 127.582 958.912 Q125.776 955.347 122.142 955.347 M122.142 951.644 Q127.952 951.644 131.008 956.25 Q134.086 960.833 134.086 969.583 Q134.086 978.31 131.008 982.917 Q127.952 987.5 122.142 987.5 Q116.332 987.5 113.253 982.917 Q110.198 978.31 110.198 969.583 Q110.198 960.833 113.253 956.25 Q116.332 951.644 122.142 951.644 Z\" fill=\"#000000\" fill-rule=\"nonzero\" fill-opacity=\"1\" /><path clip-path=\"url(#clip410)\" d=\"M143.791 933.84 Q140.857 933.84 139.371 936.736 Q137.904 939.614 137.904 945.406 Q137.904 951.18 139.371 954.077 Q140.857 956.954 143.791 956.954 Q146.744 956.954 148.211 954.077 Q149.697 951.18 149.697 945.406 Q149.697 939.614 148.211 936.736 Q146.744 933.84 143.791 933.84 M143.791 930.83 Q148.512 930.83 150.994 934.573 Q153.496 938.297 153.496 945.406 Q153.496 952.497 150.994 956.24 Q148.512 959.964 143.791 959.964 Q139.07 959.964 136.569 956.24 Q134.086 952.497 134.086 945.406 Q134.086 938.297 136.569 934.573 Q139.07 930.83 143.791 930.83 Z\" fill=\"#000000\" fill-rule=\"nonzero\" fill-opacity=\"1\" /><path clip-path=\"url(#clip410)\" d=\"M84.3701 721.22 L92.009 721.22 L92.009 694.854 L83.6988 696.521 L83.6988 692.262 L91.9627 690.595 L96.6386 690.595 L96.6386 721.22 L104.277 721.22 L104.277 725.155 L84.3701 725.155 L84.3701 721.22 Z\" fill=\"#000000\" fill-rule=\"nonzero\" fill-opacity=\"1\" /><path clip-path=\"url(#clip410)\" d=\"M123.722 693.674 Q120.111 693.674 118.282 697.239 Q116.476 700.78 116.476 707.91 Q116.476 715.016 118.282 718.581 Q120.111 722.123 123.722 722.123 Q127.356 722.123 129.162 718.581 Q130.99 715.016 130.99 707.91 Q130.99 700.78 129.162 697.239 Q127.356 693.674 123.722 693.674 M123.722 689.97 Q129.532 689.97 132.587 694.577 Q135.666 699.16 135.666 707.91 Q135.666 716.637 132.587 721.243 Q129.532 725.827 123.722 725.827 Q117.912 725.827 114.833 721.243 Q111.777 716.637 111.777 707.91 Q111.777 699.16 114.833 694.577 Q117.912 689.97 123.722 689.97 Z\" fill=\"#000000\" fill-rule=\"nonzero\" fill-opacity=\"1\" /><path clip-path=\"url(#clip410)\" d=\"M140.236 694.548 L153.496 694.548 L153.496 697.745 L135.666 697.745 L135.666 694.548 Q137.829 692.309 141.553 688.548 Q145.296 684.767 146.255 683.677 Q148.079 681.627 148.794 680.216 Q149.527 678.787 149.527 677.414 Q149.527 675.176 147.948 673.765 Q146.387 672.354 143.866 672.354 Q142.08 672.354 140.086 672.975 Q138.111 673.596 135.854 674.856 L135.854 671.019 Q138.149 670.097 140.142 669.627 Q142.136 669.157 143.791 669.157 Q148.155 669.157 150.75 671.339 Q153.345 673.52 153.345 677.169 Q153.345 678.899 152.687 680.46 Q152.048 682.003 150.336 684.109 Q149.866 684.655 147.346 687.269 Q144.826 689.864 140.236 694.548 Z\" fill=\"#000000\" fill-rule=\"nonzero\" fill-opacity=\"1\" /><path clip-path=\"url(#clip410)\" d=\"M81.737 459.547 L89.3759 459.547 L89.3759 433.181 L81.0657 434.848 L81.0657 430.588 L89.3296 428.922 L94.0055 428.922 L94.0055 459.547 L101.644 459.547 L101.644 463.482 L81.737 463.482 L81.737 459.547 Z\" fill=\"#000000\" fill-rule=\"nonzero\" fill-opacity=\"1\" /><path clip-path=\"url(#clip410)\" d=\"M121.089 432.001 Q117.478 432.001 115.649 435.565 Q113.843 439.107 113.843 446.237 Q113.843 453.343 115.649 456.908 Q117.478 460.449 121.089 460.449 Q124.723 460.449 126.528 456.908 Q128.357 453.343 128.357 446.237 Q128.357 439.107 126.528 435.565 Q124.723 432.001 121.089 432.001 M121.089 428.297 Q126.899 428.297 129.954 432.903 Q133.033 437.487 133.033 446.237 Q133.033 454.963 129.954 459.57 Q126.899 464.153 121.089 464.153 Q115.279 464.153 112.2 459.57 Q109.144 454.963 109.144 446.237 Q109.144 437.487 112.2 432.903 Q115.279 428.297 121.089 428.297 Z\" fill=\"#000000\" fill-rule=\"nonzero\" fill-opacity=\"1\" /><path clip-path=\"url(#clip410)\" d=\"M145.71 411.302 L136.118 426.291 L145.71 426.291 L145.71 411.302 M144.713 407.991 L149.49 407.991 L149.49 426.291 L153.496 426.291 L153.496 429.451 L149.49 429.451 L149.49 436.071 L145.71 436.071 L145.71 429.451 L133.033 429.451 L133.033 425.784 L144.713 407.991 Z\" fill=\"#000000\" fill-rule=\"nonzero\" fill-opacity=\"1\" /><path clip-path=\"url(#clip410)\" d=\"M82.8091 197.873 L90.4479 197.873 L90.4479 171.508 L82.1378 173.174 L82.1378 168.915 L90.4016 167.248 L95.0775 167.248 L95.0775 197.873 L102.716 197.873 L102.716 201.808 L82.8091 201.808 L82.8091 197.873 Z\" fill=\"#000000\" fill-rule=\"nonzero\" fill-opacity=\"1\" /><path clip-path=\"url(#clip410)\" d=\"M122.161 170.327 Q118.55 170.327 116.721 173.892 Q114.915 177.434 114.915 184.563 Q114.915 191.67 116.721 195.234 Q118.55 198.776 122.161 198.776 Q125.795 198.776 127.601 195.234 Q129.429 191.67 129.429 184.563 Q129.429 177.434 127.601 173.892 Q125.795 170.327 122.161 170.327 M122.161 166.623 Q127.971 166.623 131.026 171.23 Q134.105 175.813 134.105 184.563 Q134.105 193.29 131.026 197.896 Q127.971 202.48 122.161 202.48 Q116.351 202.48 113.272 197.896 Q110.216 193.29 110.216 184.563 Q110.216 175.813 113.272 171.23 Q116.351 166.623 122.161 166.623 Z\" fill=\"#000000\" fill-rule=\"nonzero\" fill-opacity=\"1\" /><path clip-path=\"url(#clip410)\" d=\"M144.13 158.844 Q141.572 158.844 140.067 160.593 Q138.581 162.342 138.581 165.389 Q138.581 168.417 140.067 170.185 Q141.572 171.934 144.13 171.934 Q146.688 171.934 148.173 170.185 Q149.678 168.417 149.678 165.389 Q149.678 162.342 148.173 160.593 Q146.688 158.844 144.13 158.844 M151.672 146.939 L151.672 150.399 Q150.242 149.722 148.775 149.365 Q147.327 149.008 145.898 149.008 Q142.136 149.008 140.142 151.547 Q138.168 154.086 137.885 159.22 Q138.995 157.584 140.669 156.719 Q142.343 155.835 144.355 155.835 Q148.587 155.835 151.032 158.411 Q153.496 160.969 153.496 165.389 Q153.496 169.715 150.938 172.329 Q148.38 174.943 144.13 174.943 Q139.258 174.943 136.682 171.219 Q134.105 167.477 134.105 160.386 Q134.105 153.728 137.265 149.779 Q140.425 145.81 145.747 145.81 Q147.177 145.81 148.625 146.092 Q150.092 146.374 151.672 146.939 Z\" fill=\"#000000\" fill-rule=\"nonzero\" fill-opacity=\"1\" /><path clip-path=\"url(#clip412)\" d=\"M465.542 936.061 L358.131 936.061 L572.954 936.061 L465.542 936.061 L465.542 921.573 L465.542 936.061  Z\" fill=\"#009af9\" fill-rule=\"evenodd\" fill-opacity=\"0.5\"/>\n",
       "<polyline clip-path=\"url(#clip412)\" style=\"stroke:#000000; stroke-linecap:round; stroke-linejoin:round; stroke-width:8; stroke-opacity:1; fill:none\" points=\"465.542,936.061 358.131,936.061 572.954,936.061 465.542,936.061 465.542,921.573 465.542,936.061 \"/>\n",
       "<path clip-path=\"url(#clip412)\" d=\"M680.365 921.573 L680.365 910.039 L250.72 910.039 L250.72 921.573 L680.365 921.573 L680.365 910.039 L680.365 921.573  Z\" fill=\"#009af9\" fill-rule=\"evenodd\" fill-opacity=\"0.5\"/>\n",
       "<polyline clip-path=\"url(#clip412)\" style=\"stroke:#000000; stroke-linecap:round; stroke-linejoin:round; stroke-width:8; stroke-opacity:1; fill:none\" points=\"680.365,921.573 680.365,910.039 250.72,910.039 250.72,921.573 680.365,921.573 680.365,910.039 680.365,921.573 \"/>\n",
       "<path clip-path=\"url(#clip412)\" d=\"M680.365 724.512 L250.72 724.512 L250.72 910.039 L680.365 910.039 L680.365 724.512 L465.542 724.512 L680.365 724.512  Z\" fill=\"#009af9\" fill-rule=\"evenodd\" fill-opacity=\"0.5\"/>\n",
       "<polyline clip-path=\"url(#clip412)\" style=\"stroke:#000000; stroke-linecap:round; stroke-linejoin:round; stroke-width:8; stroke-opacity:1; fill:none\" points=\"680.365,724.512 250.72,724.512 250.72,910.039 680.365,910.039 680.365,724.512 465.542,724.512 680.365,724.512 \"/>\n",
       "<path clip-path=\"url(#clip412)\" d=\"M465.542 686.222 L358.131 686.222 L572.954 686.222 L465.542 686.222 L465.542 724.512 L465.542 686.222  Z\" fill=\"#009af9\" fill-rule=\"evenodd\" fill-opacity=\"0.5\"/>\n",
       "<polyline clip-path=\"url(#clip412)\" style=\"stroke:#000000; stroke-linecap:round; stroke-linejoin:round; stroke-width:8; stroke-opacity:1; fill:none\" points=\"465.542,686.222 358.131,686.222 572.954,686.222 465.542,686.222 465.542,724.512 465.542,686.222 \"/>\n",
       "<path clip-path=\"url(#clip412)\" d=\"M1002.6 1163.47 L895.187 1163.47 L1110.01 1163.47 L1002.6 1163.47 L1002.6 1108.33 L1002.6 1163.47  Z\" fill=\"#009af9\" fill-rule=\"evenodd\" fill-opacity=\"0.5\"/>\n",
       "<polyline clip-path=\"url(#clip412)\" style=\"stroke:#000000; stroke-linecap:round; stroke-linejoin:round; stroke-width:8; stroke-opacity:1; fill:none\" points=\"1002.6,1163.47 895.187,1163.47 1110.01,1163.47 1002.6,1163.47 1002.6,1108.33 1002.6,1163.47 \"/>\n",
       "<path clip-path=\"url(#clip412)\" d=\"M1217.42 1108.33 L1217.42 1021.78 L787.776 1021.78 L787.776 1108.33 L1217.42 1108.33 L1217.42 1021.78 L1217.42 1108.33  Z\" fill=\"#009af9\" fill-rule=\"evenodd\" fill-opacity=\"0.5\"/>\n",
       "<polyline clip-path=\"url(#clip412)\" style=\"stroke:#000000; stroke-linecap:round; stroke-linejoin:round; stroke-width:8; stroke-opacity:1; fill:none\" points=\"1217.42,1108.33 1217.42,1021.78 787.776,1021.78 787.776,1108.33 1217.42,1108.33 1217.42,1021.78 1217.42,1108.33 \"/>\n",
       "<path clip-path=\"url(#clip412)\" d=\"M1217.42 1002.49 L787.776 1002.49 L787.776 1021.78 L1217.42 1021.78 L1217.42 1002.49 L1002.6 1002.49 L1217.42 1002.49  Z\" fill=\"#009af9\" fill-rule=\"evenodd\" fill-opacity=\"0.5\"/>\n",
       "<polyline clip-path=\"url(#clip412)\" style=\"stroke:#000000; stroke-linecap:round; stroke-linejoin:round; stroke-width:8; stroke-opacity:1; fill:none\" points=\"1217.42,1002.49 787.776,1002.49 787.776,1021.78 1217.42,1021.78 1217.42,1002.49 1002.6,1002.49 1217.42,1002.49 \"/>\n",
       "<path clip-path=\"url(#clip412)\" d=\"M1002.6 970.997 L895.187 970.997 L1110.01 970.997 L1002.6 970.997 L1002.6 1002.49 L1002.6 970.997  Z\" fill=\"#009af9\" fill-rule=\"evenodd\" fill-opacity=\"0.5\"/>\n",
       "<polyline clip-path=\"url(#clip412)\" style=\"stroke:#000000; stroke-linecap:round; stroke-linejoin:round; stroke-width:8; stroke-opacity:1; fill:none\" points=\"1002.6,970.997 895.187,970.997 1110.01,970.997 1002.6,970.997 1002.6,1002.49 1002.6,970.997 \"/>\n",
       "<path clip-path=\"url(#clip412)\" d=\"M1539.65 946.884 L1432.24 946.884 L1647.06 946.884 L1539.65 946.884 L1539.65 920.892 L1539.65 946.884  Z\" fill=\"#009af9\" fill-rule=\"evenodd\" fill-opacity=\"0.5\"/>\n",
       "<polyline clip-path=\"url(#clip412)\" style=\"stroke:#000000; stroke-linecap:round; stroke-linejoin:round; stroke-width:8; stroke-opacity:1; fill:none\" points=\"1539.65,946.884 1432.24,946.884 1647.06,946.884 1539.65,946.884 1539.65,920.892 1539.65,946.884 \"/>\n",
       "<path clip-path=\"url(#clip412)\" d=\"M1754.48 920.892 L1754.48 899.885 L1324.83 899.885 L1324.83 920.892 L1754.48 920.892 L1754.48 899.885 L1754.48 920.892  Z\" fill=\"#009af9\" fill-rule=\"evenodd\" fill-opacity=\"0.5\"/>\n",
       "<polyline clip-path=\"url(#clip412)\" style=\"stroke:#000000; stroke-linecap:round; stroke-linejoin:round; stroke-width:8; stroke-opacity:1; fill:none\" points=\"1754.48,920.892 1754.48,899.885 1324.83,899.885 1324.83,920.892 1754.48,920.892 1754.48,899.885 1754.48,920.892 \"/>\n",
       "<path clip-path=\"url(#clip412)\" d=\"M1754.48 894.186 L1324.83 894.186 L1324.83 899.885 L1754.48 899.885 L1754.48 894.186 L1539.65 894.186 L1754.48 894.186  Z\" fill=\"#009af9\" fill-rule=\"evenodd\" fill-opacity=\"0.5\"/>\n",
       "<polyline clip-path=\"url(#clip412)\" style=\"stroke:#000000; stroke-linecap:round; stroke-linejoin:round; stroke-width:8; stroke-opacity:1; fill:none\" points=\"1754.48,894.186 1324.83,894.186 1324.83,899.885 1754.48,899.885 1754.48,894.186 1539.65,894.186 1754.48,894.186 \"/>\n",
       "<path clip-path=\"url(#clip412)\" d=\"M1539.65 894.186 L1432.24 894.186 L1647.06 894.186 L1539.65 894.186 L1539.65 894.186 L1539.65 894.186  Z\" fill=\"#009af9\" fill-rule=\"evenodd\" fill-opacity=\"0.5\"/>\n",
       "<polyline clip-path=\"url(#clip412)\" style=\"stroke:#000000; stroke-linecap:round; stroke-linejoin:round; stroke-width:8; stroke-opacity:1; fill:none\" points=\"1539.65,894.186 1432.24,894.186 1647.06,894.186 1539.65,894.186 \"/>\n",
       "<path clip-path=\"url(#clip412)\" d=\"M2076.71 965.553 L1969.3 965.553 L2184.12 965.553 L2076.71 965.553 L2076.71 927.246 L2076.71 965.553  Z\" fill=\"#009af9\" fill-rule=\"evenodd\" fill-opacity=\"0.5\"/>\n",
       "<polyline clip-path=\"url(#clip412)\" style=\"stroke:#000000; stroke-linecap:round; stroke-linejoin:round; stroke-width:8; stroke-opacity:1; fill:none\" points=\"2076.71,965.553 1969.3,965.553 2184.12,965.553 2076.71,965.553 2076.71,927.246 2076.71,965.553 \"/>\n",
       "<path clip-path=\"url(#clip412)\" d=\"M2291.53 927.246 L2291.53 915.241 L1861.89 915.241 L1861.89 927.246 L2291.53 927.246 L2291.53 915.241 L2291.53 927.246  Z\" fill=\"#009af9\" fill-rule=\"evenodd\" fill-opacity=\"0.5\"/>\n",
       "<polyline clip-path=\"url(#clip412)\" style=\"stroke:#000000; stroke-linecap:round; stroke-linejoin:round; stroke-width:8; stroke-opacity:1; fill:none\" points=\"2291.53,927.246 2291.53,915.241 1861.89,915.241 1861.89,927.246 2291.53,927.246 2291.53,915.241 2291.53,927.246 \"/>\n",
       "<path clip-path=\"url(#clip412)\" d=\"M2291.53 885.357 L1861.89 885.357 L1861.89 915.241 L2291.53 915.241 L2291.53 885.357 L2076.71 885.357 L2291.53 885.357  Z\" fill=\"#009af9\" fill-rule=\"evenodd\" fill-opacity=\"0.5\"/>\n",
       "<polyline clip-path=\"url(#clip412)\" style=\"stroke:#000000; stroke-linecap:round; stroke-linejoin:round; stroke-width:8; stroke-opacity:1; fill:none\" points=\"2291.53,885.357 1861.89,885.357 1861.89,915.241 2291.53,915.241 2291.53,885.357 2076.71,885.357 2291.53,885.357 \"/>\n",
       "<path clip-path=\"url(#clip412)\" d=\"M2076.71 857.974 L1969.3 857.974 L2184.12 857.974 L2076.71 857.974 L2076.71 885.357 L2076.71 857.974  Z\" fill=\"#009af9\" fill-rule=\"evenodd\" fill-opacity=\"0.5\"/>\n",
       "<polyline clip-path=\"url(#clip412)\" style=\"stroke:#000000; stroke-linecap:round; stroke-linejoin:round; stroke-width:8; stroke-opacity:1; fill:none\" points=\"2076.71,857.974 1969.3,857.974 2184.12,857.974 2076.71,857.974 2076.71,885.357 2076.71,857.974 \"/>\n",
       "<circle clip-path=\"url(#clip412)\" cx=\"1539.65\" cy=\"857.974\" r=\"14.4\" fill=\"#009af9\" fill-rule=\"evenodd\" fill-opacity=\"1\" stroke=\"#000000\" stroke-opacity=\"1\" stroke-width=\"3.2\"/>\n",
       "<circle clip-path=\"url(#clip412)\" cx=\"1539.65\" cy=\"857.974\" r=\"14.4\" fill=\"#009af9\" fill-rule=\"evenodd\" fill-opacity=\"1\" stroke=\"#000000\" stroke-opacity=\"1\" stroke-width=\"3.2\"/>\n",
       "<polyline clip-path=\"url(#clip412)\" style=\"stroke:#009af9; stroke-linecap:round; stroke-linejoin:round; stroke-width:0; stroke-opacity:1; fill:none\" points=\"465.542,936.061 358.131,936.061 572.954,936.061 465.542,936.061 465.542,921.573 \"/>\n",
       "<polyline clip-path=\"url(#clip412)\" style=\"stroke:#009af9; stroke-linecap:round; stroke-linejoin:round; stroke-width:0; stroke-opacity:1; fill:none\" points=\"680.365,921.573 680.365,910.039 250.72,910.039 250.72,921.573 680.365,921.573 680.365,910.039 \"/>\n",
       "<polyline clip-path=\"url(#clip412)\" style=\"stroke:#009af9; stroke-linecap:round; stroke-linejoin:round; stroke-width:0; stroke-opacity:1; fill:none\" points=\"680.365,724.512 250.72,724.512 250.72,910.039 680.365,910.039 680.365,724.512 465.542,724.512 \"/>\n",
       "<polyline clip-path=\"url(#clip412)\" style=\"stroke:#009af9; stroke-linecap:round; stroke-linejoin:round; stroke-width:0; stroke-opacity:1; fill:none\" points=\"465.542,686.222 358.131,686.222 572.954,686.222 465.542,686.222 465.542,724.512 \"/>\n",
       "<polyline clip-path=\"url(#clip412)\" style=\"stroke:#009af9; stroke-linecap:round; stroke-linejoin:round; stroke-width:0; stroke-opacity:1; fill:none\" points=\"1002.6,1163.47 895.187,1163.47 1110.01,1163.47 1002.6,1163.47 1002.6,1108.33 \"/>\n",
       "<polyline clip-path=\"url(#clip412)\" style=\"stroke:#009af9; stroke-linecap:round; stroke-linejoin:round; stroke-width:0; stroke-opacity:1; fill:none\" points=\"1217.42,1108.33 1217.42,1021.78 787.776,1021.78 787.776,1108.33 1217.42,1108.33 1217.42,1021.78 \"/>\n",
       "<polyline clip-path=\"url(#clip412)\" style=\"stroke:#009af9; stroke-linecap:round; stroke-linejoin:round; stroke-width:0; stroke-opacity:1; fill:none\" points=\"1217.42,1002.49 787.776,1002.49 787.776,1021.78 1217.42,1021.78 1217.42,1002.49 1002.6,1002.49 \"/>\n",
       "<polyline clip-path=\"url(#clip412)\" style=\"stroke:#009af9; stroke-linecap:round; stroke-linejoin:round; stroke-width:0; stroke-opacity:1; fill:none\" points=\"1002.6,970.997 895.187,970.997 1110.01,970.997 1002.6,970.997 1002.6,1002.49 \"/>\n",
       "<polyline clip-path=\"url(#clip412)\" style=\"stroke:#009af9; stroke-linecap:round; stroke-linejoin:round; stroke-width:0; stroke-opacity:1; fill:none\" points=\"1539.65,946.884 1432.24,946.884 1647.06,946.884 1539.65,946.884 1539.65,920.892 \"/>\n",
       "<polyline clip-path=\"url(#clip412)\" style=\"stroke:#009af9; stroke-linecap:round; stroke-linejoin:round; stroke-width:0; stroke-opacity:1; fill:none\" points=\"1754.48,920.892 1754.48,899.885 1324.83,899.885 1324.83,920.892 1754.48,920.892 1754.48,899.885 \"/>\n",
       "<polyline clip-path=\"url(#clip412)\" style=\"stroke:#009af9; stroke-linecap:round; stroke-linejoin:round; stroke-width:0; stroke-opacity:1; fill:none\" points=\"1754.48,894.186 1324.83,894.186 1324.83,899.885 1754.48,899.885 1754.48,894.186 1539.65,894.186 \"/>\n",
       "<polyline clip-path=\"url(#clip412)\" style=\"stroke:#009af9; stroke-linecap:round; stroke-linejoin:round; stroke-width:0; stroke-opacity:1; fill:none\" points=\"1539.65,894.186 1432.24,894.186 1647.06,894.186 1539.65,894.186 \"/>\n",
       "<polyline clip-path=\"url(#clip412)\" style=\"stroke:#009af9; stroke-linecap:round; stroke-linejoin:round; stroke-width:0; stroke-opacity:1; fill:none\" points=\"2076.71,965.553 1969.3,965.553 2184.12,965.553 2076.71,965.553 2076.71,927.246 \"/>\n",
       "<polyline clip-path=\"url(#clip412)\" style=\"stroke:#009af9; stroke-linecap:round; stroke-linejoin:round; stroke-width:0; stroke-opacity:1; fill:none\" points=\"2291.53,927.246 2291.53,915.241 1861.89,915.241 1861.89,927.246 2291.53,927.246 2291.53,915.241 \"/>\n",
       "<polyline clip-path=\"url(#clip412)\" style=\"stroke:#009af9; stroke-linecap:round; stroke-linejoin:round; stroke-width:0; stroke-opacity:1; fill:none\" points=\"2291.53,885.357 1861.89,885.357 1861.89,915.241 2291.53,915.241 2291.53,885.357 2076.71,885.357 \"/>\n",
       "<polyline clip-path=\"url(#clip412)\" style=\"stroke:#009af9; stroke-linecap:round; stroke-linejoin:round; stroke-width:0; stroke-opacity:1; fill:none\" points=\"2076.71,857.974 1969.3,857.974 2184.12,857.974 2076.71,857.974 2076.71,885.357 \"/>\n",
       "<path clip-path=\"url(#clip412)\" d=\"M465.542 936.061 L358.131 936.061 L572.954 936.061 L465.542 936.061 L465.542 921.573 L465.542 936.061  Z\" fill=\"#e26f46\" fill-rule=\"evenodd\" fill-opacity=\"0.5\"/>\n",
       "<polyline clip-path=\"url(#clip412)\" style=\"stroke:#000000; stroke-linecap:round; stroke-linejoin:round; stroke-width:8; stroke-opacity:1; fill:none\" points=\"465.542,936.061 358.131,936.061 572.954,936.061 465.542,936.061 465.542,921.573 465.542,936.061 \"/>\n",
       "<path clip-path=\"url(#clip412)\" d=\"M680.365 921.573 L680.365 910.039 L250.72 910.039 L250.72 921.573 L680.365 921.573 L680.365 910.039 L680.365 921.573  Z\" fill=\"#e26f46\" fill-rule=\"evenodd\" fill-opacity=\"0.5\"/>\n",
       "<polyline clip-path=\"url(#clip412)\" style=\"stroke:#000000; stroke-linecap:round; stroke-linejoin:round; stroke-width:8; stroke-opacity:1; fill:none\" points=\"680.365,921.573 680.365,910.039 250.72,910.039 250.72,921.573 680.365,921.573 680.365,910.039 680.365,921.573 \"/>\n",
       "<path clip-path=\"url(#clip412)\" d=\"M680.365 724.512 L250.72 724.512 L250.72 910.039 L680.365 910.039 L680.365 724.512 L465.542 724.512 L680.365 724.512  Z\" fill=\"#e26f46\" fill-rule=\"evenodd\" fill-opacity=\"0.5\"/>\n",
       "<polyline clip-path=\"url(#clip412)\" style=\"stroke:#000000; stroke-linecap:round; stroke-linejoin:round; stroke-width:8; stroke-opacity:1; fill:none\" points=\"680.365,724.512 250.72,724.512 250.72,910.039 680.365,910.039 680.365,724.512 465.542,724.512 680.365,724.512 \"/>\n",
       "<path clip-path=\"url(#clip412)\" d=\"M465.542 686.222 L358.131 686.222 L572.954 686.222 L465.542 686.222 L465.542 724.512 L465.542 686.222  Z\" fill=\"#e26f46\" fill-rule=\"evenodd\" fill-opacity=\"0.5\"/>\n",
       "<polyline clip-path=\"url(#clip412)\" style=\"stroke:#000000; stroke-linecap:round; stroke-linejoin:round; stroke-width:8; stroke-opacity:1; fill:none\" points=\"465.542,686.222 358.131,686.222 572.954,686.222 465.542,686.222 465.542,724.512 465.542,686.222 \"/>\n",
       "<path clip-path=\"url(#clip412)\" d=\"M1002.6 1163.47 L895.187 1163.47 L1110.01 1163.47 L1002.6 1163.47 L1002.6 1108.33 L1002.6 1163.47  Z\" fill=\"#e26f46\" fill-rule=\"evenodd\" fill-opacity=\"0.5\"/>\n",
       "<polyline clip-path=\"url(#clip412)\" style=\"stroke:#000000; stroke-linecap:round; stroke-linejoin:round; stroke-width:8; stroke-opacity:1; fill:none\" points=\"1002.6,1163.47 895.187,1163.47 1110.01,1163.47 1002.6,1163.47 1002.6,1108.33 1002.6,1163.47 \"/>\n",
       "<path clip-path=\"url(#clip412)\" d=\"M1217.42 1108.33 L1217.42 1021.78 L787.776 1021.78 L787.776 1108.33 L1217.42 1108.33 L1217.42 1021.78 L1217.42 1108.33  Z\" fill=\"#e26f46\" fill-rule=\"evenodd\" fill-opacity=\"0.5\"/>\n",
       "<polyline clip-path=\"url(#clip412)\" style=\"stroke:#000000; stroke-linecap:round; stroke-linejoin:round; stroke-width:8; stroke-opacity:1; fill:none\" points=\"1217.42,1108.33 1217.42,1021.78 787.776,1021.78 787.776,1108.33 1217.42,1108.33 1217.42,1021.78 1217.42,1108.33 \"/>\n",
       "<path clip-path=\"url(#clip412)\" d=\"M1217.42 1002.49 L787.776 1002.49 L787.776 1021.78 L1217.42 1021.78 L1217.42 1002.49 L1002.6 1002.49 L1217.42 1002.49  Z\" fill=\"#e26f46\" fill-rule=\"evenodd\" fill-opacity=\"0.5\"/>\n",
       "<polyline clip-path=\"url(#clip412)\" style=\"stroke:#000000; stroke-linecap:round; stroke-linejoin:round; stroke-width:8; stroke-opacity:1; fill:none\" points=\"1217.42,1002.49 787.776,1002.49 787.776,1021.78 1217.42,1021.78 1217.42,1002.49 1002.6,1002.49 1217.42,1002.49 \"/>\n",
       "<path clip-path=\"url(#clip412)\" d=\"M1002.6 970.997 L895.187 970.997 L1110.01 970.997 L1002.6 970.997 L1002.6 1002.49 L1002.6 970.997  Z\" fill=\"#e26f46\" fill-rule=\"evenodd\" fill-opacity=\"0.5\"/>\n",
       "<polyline clip-path=\"url(#clip412)\" style=\"stroke:#000000; stroke-linecap:round; stroke-linejoin:round; stroke-width:8; stroke-opacity:1; fill:none\" points=\"1002.6,970.997 895.187,970.997 1110.01,970.997 1002.6,970.997 1002.6,1002.49 1002.6,970.997 \"/>\n",
       "<path clip-path=\"url(#clip412)\" d=\"M1539.65 946.884 L1432.24 946.884 L1647.06 946.884 L1539.65 946.884 L1539.65 920.892 L1539.65 946.884  Z\" fill=\"#e26f46\" fill-rule=\"evenodd\" fill-opacity=\"0.5\"/>\n",
       "<polyline clip-path=\"url(#clip412)\" style=\"stroke:#000000; stroke-linecap:round; stroke-linejoin:round; stroke-width:8; stroke-opacity:1; fill:none\" points=\"1539.65,946.884 1432.24,946.884 1647.06,946.884 1539.65,946.884 1539.65,920.892 1539.65,946.884 \"/>\n",
       "<path clip-path=\"url(#clip412)\" d=\"M1754.48 920.892 L1754.48 899.885 L1324.83 899.885 L1324.83 920.892 L1754.48 920.892 L1754.48 899.885 L1754.48 920.892  Z\" fill=\"#e26f46\" fill-rule=\"evenodd\" fill-opacity=\"0.5\"/>\n",
       "<polyline clip-path=\"url(#clip412)\" style=\"stroke:#000000; stroke-linecap:round; stroke-linejoin:round; stroke-width:8; stroke-opacity:1; fill:none\" points=\"1754.48,920.892 1754.48,899.885 1324.83,899.885 1324.83,920.892 1754.48,920.892 1754.48,899.885 1754.48,920.892 \"/>\n",
       "<path clip-path=\"url(#clip412)\" d=\"M1754.48 894.186 L1324.83 894.186 L1324.83 899.885 L1754.48 899.885 L1754.48 894.186 L1539.65 894.186 L1754.48 894.186  Z\" fill=\"#e26f46\" fill-rule=\"evenodd\" fill-opacity=\"0.5\"/>\n",
       "<polyline clip-path=\"url(#clip412)\" style=\"stroke:#000000; stroke-linecap:round; stroke-linejoin:round; stroke-width:8; stroke-opacity:1; fill:none\" points=\"1754.48,894.186 1324.83,894.186 1324.83,899.885 1754.48,899.885 1754.48,894.186 1539.65,894.186 1754.48,894.186 \"/>\n",
       "<path clip-path=\"url(#clip412)\" d=\"M1539.65 894.186 L1432.24 894.186 L1647.06 894.186 L1539.65 894.186 L1539.65 894.186 L1539.65 894.186  Z\" fill=\"#e26f46\" fill-rule=\"evenodd\" fill-opacity=\"0.5\"/>\n",
       "<polyline clip-path=\"url(#clip412)\" style=\"stroke:#000000; stroke-linecap:round; stroke-linejoin:round; stroke-width:8; stroke-opacity:1; fill:none\" points=\"1539.65,894.186 1432.24,894.186 1647.06,894.186 1539.65,894.186 \"/>\n",
       "<path clip-path=\"url(#clip412)\" d=\"M2076.71 965.553 L1969.3 965.553 L2184.12 965.553 L2076.71 965.553 L2076.71 927.246 L2076.71 965.553  Z\" fill=\"#e26f46\" fill-rule=\"evenodd\" fill-opacity=\"0.5\"/>\n",
       "<polyline clip-path=\"url(#clip412)\" style=\"stroke:#000000; stroke-linecap:round; stroke-linejoin:round; stroke-width:8; stroke-opacity:1; fill:none\" points=\"2076.71,965.553 1969.3,965.553 2184.12,965.553 2076.71,965.553 2076.71,927.246 2076.71,965.553 \"/>\n",
       "<path clip-path=\"url(#clip412)\" d=\"M2291.53 927.246 L2291.53 915.241 L1861.89 915.241 L1861.89 927.246 L2291.53 927.246 L2291.53 915.241 L2291.53 927.246  Z\" fill=\"#e26f46\" fill-rule=\"evenodd\" fill-opacity=\"0.5\"/>\n",
       "<polyline clip-path=\"url(#clip412)\" style=\"stroke:#000000; stroke-linecap:round; stroke-linejoin:round; stroke-width:8; stroke-opacity:1; fill:none\" points=\"2291.53,927.246 2291.53,915.241 1861.89,915.241 1861.89,927.246 2291.53,927.246 2291.53,915.241 2291.53,927.246 \"/>\n",
       "<path clip-path=\"url(#clip412)\" d=\"M2291.53 885.357 L1861.89 885.357 L1861.89 915.241 L2291.53 915.241 L2291.53 885.357 L2076.71 885.357 L2291.53 885.357  Z\" fill=\"#e26f46\" fill-rule=\"evenodd\" fill-opacity=\"0.5\"/>\n",
       "<polyline clip-path=\"url(#clip412)\" style=\"stroke:#000000; stroke-linecap:round; stroke-linejoin:round; stroke-width:8; stroke-opacity:1; fill:none\" points=\"2291.53,885.357 1861.89,885.357 1861.89,915.241 2291.53,915.241 2291.53,885.357 2076.71,885.357 2291.53,885.357 \"/>\n",
       "<path clip-path=\"url(#clip412)\" d=\"M2076.71 857.974 L1969.3 857.974 L2184.12 857.974 L2076.71 857.974 L2076.71 885.357 L2076.71 857.974  Z\" fill=\"#e26f46\" fill-rule=\"evenodd\" fill-opacity=\"0.5\"/>\n",
       "<polyline clip-path=\"url(#clip412)\" style=\"stroke:#000000; stroke-linecap:round; stroke-linejoin:round; stroke-width:8; stroke-opacity:1; fill:none\" points=\"2076.71,857.974 1969.3,857.974 2184.12,857.974 2076.71,857.974 2076.71,885.357 2076.71,857.974 \"/>\n",
       "<circle clip-path=\"url(#clip412)\" cx=\"1539.65\" cy=\"857.974\" r=\"14.4\" fill=\"#e26f46\" fill-rule=\"evenodd\" fill-opacity=\"1\" stroke=\"#000000\" stroke-opacity=\"1\" stroke-width=\"3.2\"/>\n",
       "<circle clip-path=\"url(#clip412)\" cx=\"1539.65\" cy=\"857.974\" r=\"14.4\" fill=\"#e26f46\" fill-rule=\"evenodd\" fill-opacity=\"1\" stroke=\"#000000\" stroke-opacity=\"1\" stroke-width=\"3.2\"/>\n",
       "<polyline clip-path=\"url(#clip412)\" style=\"stroke:#e26f46; stroke-linecap:round; stroke-linejoin:round; stroke-width:0; stroke-opacity:1; fill:none\" points=\"465.542,936.061 358.131,936.061 572.954,936.061 465.542,936.061 465.542,921.573 \"/>\n",
       "<polyline clip-path=\"url(#clip412)\" style=\"stroke:#e26f46; stroke-linecap:round; stroke-linejoin:round; stroke-width:0; stroke-opacity:1; fill:none\" points=\"680.365,921.573 680.365,910.039 250.72,910.039 250.72,921.573 680.365,921.573 680.365,910.039 \"/>\n",
       "<polyline clip-path=\"url(#clip412)\" style=\"stroke:#e26f46; stroke-linecap:round; stroke-linejoin:round; stroke-width:0; stroke-opacity:1; fill:none\" points=\"680.365,724.512 250.72,724.512 250.72,910.039 680.365,910.039 680.365,724.512 465.542,724.512 \"/>\n",
       "<polyline clip-path=\"url(#clip412)\" style=\"stroke:#e26f46; stroke-linecap:round; stroke-linejoin:round; stroke-width:0; stroke-opacity:1; fill:none\" points=\"465.542,686.222 358.131,686.222 572.954,686.222 465.542,686.222 465.542,724.512 \"/>\n",
       "<polyline clip-path=\"url(#clip412)\" style=\"stroke:#e26f46; stroke-linecap:round; stroke-linejoin:round; stroke-width:0; stroke-opacity:1; fill:none\" points=\"1002.6,1163.47 895.187,1163.47 1110.01,1163.47 1002.6,1163.47 1002.6,1108.33 \"/>\n",
       "<polyline clip-path=\"url(#clip412)\" style=\"stroke:#e26f46; stroke-linecap:round; stroke-linejoin:round; stroke-width:0; stroke-opacity:1; fill:none\" points=\"1217.42,1108.33 1217.42,1021.78 787.776,1021.78 787.776,1108.33 1217.42,1108.33 1217.42,1021.78 \"/>\n",
       "<polyline clip-path=\"url(#clip412)\" style=\"stroke:#e26f46; stroke-linecap:round; stroke-linejoin:round; stroke-width:0; stroke-opacity:1; fill:none\" points=\"1217.42,1002.49 787.776,1002.49 787.776,1021.78 1217.42,1021.78 1217.42,1002.49 1002.6,1002.49 \"/>\n",
       "<polyline clip-path=\"url(#clip412)\" style=\"stroke:#e26f46; stroke-linecap:round; stroke-linejoin:round; stroke-width:0; stroke-opacity:1; fill:none\" points=\"1002.6,970.997 895.187,970.997 1110.01,970.997 1002.6,970.997 1002.6,1002.49 \"/>\n",
       "<polyline clip-path=\"url(#clip412)\" style=\"stroke:#e26f46; stroke-linecap:round; stroke-linejoin:round; stroke-width:0; stroke-opacity:1; fill:none\" points=\"1539.65,946.884 1432.24,946.884 1647.06,946.884 1539.65,946.884 1539.65,920.892 \"/>\n",
       "<polyline clip-path=\"url(#clip412)\" style=\"stroke:#e26f46; stroke-linecap:round; stroke-linejoin:round; stroke-width:0; stroke-opacity:1; fill:none\" points=\"1754.48,920.892 1754.48,899.885 1324.83,899.885 1324.83,920.892 1754.48,920.892 1754.48,899.885 \"/>\n",
       "<polyline clip-path=\"url(#clip412)\" style=\"stroke:#e26f46; stroke-linecap:round; stroke-linejoin:round; stroke-width:0; stroke-opacity:1; fill:none\" points=\"1754.48,894.186 1324.83,894.186 1324.83,899.885 1754.48,899.885 1754.48,894.186 1539.65,894.186 \"/>\n",
       "<polyline clip-path=\"url(#clip412)\" style=\"stroke:#e26f46; stroke-linecap:round; stroke-linejoin:round; stroke-width:0; stroke-opacity:1; fill:none\" points=\"1539.65,894.186 1432.24,894.186 1647.06,894.186 1539.65,894.186 \"/>\n",
       "<polyline clip-path=\"url(#clip412)\" style=\"stroke:#e26f46; stroke-linecap:round; stroke-linejoin:round; stroke-width:0; stroke-opacity:1; fill:none\" points=\"2076.71,965.553 1969.3,965.553 2184.12,965.553 2076.71,965.553 2076.71,927.246 \"/>\n",
       "<polyline clip-path=\"url(#clip412)\" style=\"stroke:#e26f46; stroke-linecap:round; stroke-linejoin:round; stroke-width:0; stroke-opacity:1; fill:none\" points=\"2291.53,927.246 2291.53,915.241 1861.89,915.241 1861.89,927.246 2291.53,927.246 2291.53,915.241 \"/>\n",
       "<polyline clip-path=\"url(#clip412)\" style=\"stroke:#e26f46; stroke-linecap:round; stroke-linejoin:round; stroke-width:0; stroke-opacity:1; fill:none\" points=\"2291.53,885.357 1861.89,885.357 1861.89,915.241 2291.53,915.241 2291.53,885.357 2076.71,885.357 \"/>\n",
       "<polyline clip-path=\"url(#clip412)\" style=\"stroke:#e26f46; stroke-linecap:round; stroke-linejoin:round; stroke-width:0; stroke-opacity:1; fill:none\" points=\"2076.71,857.974 1969.3,857.974 2184.12,857.974 2076.71,857.974 2076.71,885.357 \"/>\n",
       "<path clip-path=\"url(#clip410)\" d=\"M1602.22 250.738 L2280.65 250.738 L2280.65 95.2176 L1602.22 95.2176  Z\" fill=\"#ffffff\" fill-rule=\"evenodd\" fill-opacity=\"1\"/>\n",
       "<polyline clip-path=\"url(#clip410)\" style=\"stroke:#000000; stroke-linecap:round; stroke-linejoin:round; stroke-width:4; stroke-opacity:1; fill:none\" points=\"1602.22,250.738 2280.65,250.738 2280.65,95.2176 1602.22,95.2176 1602.22,250.738 \"/>\n",
       "<path clip-path=\"url(#clip410)\" d=\"M1626.25 167.794 L1770.47 167.794 L1770.47 126.322 L1626.25 126.322 L1626.25 167.794  Z\" fill=\"#009af9\" fill-rule=\"evenodd\" fill-opacity=\"0.5\"/>\n",
       "<polyline clip-path=\"url(#clip410)\" style=\"stroke:#000000; stroke-linecap:round; stroke-linejoin:round; stroke-width:8; stroke-opacity:1; fill:none\" points=\"1626.25,167.794 1770.47,167.794 1770.47,126.322 1626.25,126.322 1626.25,167.794 \"/>\n",
       "<path clip-path=\"url(#clip410)\" d=\"M1794.51 129.778 L1799.23 129.778 L1806.5 158.99 L1813.74 129.778 L1819 129.778 L1826.27 158.99 L1833.51 129.778 L1838.26 129.778 L1829.58 164.338 L1823.7 164.338 L1816.41 134.338 L1809.04 164.338 L1803.16 164.338 L1794.51 129.778 Z\" fill=\"#000000\" fill-rule=\"nonzero\" fill-opacity=\"1\" /><path clip-path=\"url(#clip410)\" d=\"M1843.23 138.412 L1847.49 138.412 L1847.49 164.338 L1843.23 164.338 L1843.23 138.412 M1843.23 128.319 L1847.49 128.319 L1847.49 133.713 L1843.23 133.713 L1843.23 128.319 Z\" fill=\"#000000\" fill-rule=\"nonzero\" fill-opacity=\"1\" /><path clip-path=\"url(#clip410)\" d=\"M1860.62 131.051 L1860.62 138.412 L1869.39 138.412 L1869.39 141.722 L1860.62 141.722 L1860.62 155.796 Q1860.62 158.967 1861.47 159.87 Q1862.35 160.773 1865.02 160.773 L1869.39 160.773 L1869.39 164.338 L1865.02 164.338 Q1860.09 164.338 1858.21 162.509 Q1856.34 160.657 1856.34 155.796 L1856.34 141.722 L1853.21 141.722 L1853.21 138.412 L1856.34 138.412 L1856.34 131.051 L1860.62 131.051 Z\" fill=\"#000000\" fill-rule=\"nonzero\" fill-opacity=\"1\" /><path clip-path=\"url(#clip410)\" d=\"M1896.54 148.689 L1896.54 164.338 L1892.28 164.338 L1892.28 148.828 Q1892.28 145.148 1890.85 143.319 Q1889.41 141.49 1886.54 141.49 Q1883.09 141.49 1881.1 143.69 Q1879.11 145.889 1879.11 149.685 L1879.11 164.338 L1874.83 164.338 L1874.83 128.319 L1879.11 128.319 L1879.11 142.44 Q1880.64 140.102 1882.7 138.944 Q1884.78 137.787 1887.49 137.787 Q1891.96 137.787 1894.25 140.565 Q1896.54 143.319 1896.54 148.689 Z\" fill=\"#000000\" fill-rule=\"nonzero\" fill-opacity=\"1\" /><path clip-path=\"url(#clip410)\" d=\"M1946.17 132.44 L1946.17 137.37 Q1943.81 135.171 1941.13 134.083 Q1938.46 132.995 1935.46 132.995 Q1929.53 132.995 1926.38 136.629 Q1923.23 140.24 1923.23 147.092 Q1923.23 153.921 1926.38 157.555 Q1929.53 161.166 1935.46 161.166 Q1938.46 161.166 1941.13 160.078 Q1943.81 158.99 1946.17 156.791 L1946.17 161.676 Q1943.72 163.342 1940.96 164.176 Q1938.23 165.009 1935.18 165.009 Q1927.33 165.009 1922.82 160.217 Q1918.3 155.402 1918.3 147.092 Q1918.3 138.759 1922.82 133.967 Q1927.33 129.153 1935.18 129.153 Q1938.28 129.153 1941.01 129.986 Q1943.77 130.796 1946.17 132.44 Z\" fill=\"#000000\" fill-rule=\"nonzero\" fill-opacity=\"1\" /><path clip-path=\"url(#clip410)\" d=\"M1964 166.745 Q1962.19 171.375 1960.48 172.787 Q1958.77 174.199 1955.9 174.199 L1952.49 174.199 L1952.49 170.634 L1954.99 170.634 Q1956.75 170.634 1957.72 169.8 Q1958.7 168.967 1959.88 165.865 L1960.64 163.921 L1950.15 138.412 L1954.67 138.412 L1962.77 158.689 L1970.87 138.412 L1975.39 138.412 L1964 166.745 Z\" fill=\"#000000\" fill-rule=\"nonzero\" fill-opacity=\"1\" /><path clip-path=\"url(#clip410)\" d=\"M1999.92 139.407 L1999.92 143.389 Q1998.12 142.393 1996.29 141.907 Q1994.48 141.398 1992.63 141.398 Q1988.49 141.398 1986.2 144.037 Q1983.9 146.652 1983.9 151.398 Q1983.9 156.143 1986.2 158.782 Q1988.49 161.398 1992.63 161.398 Q1994.48 161.398 1996.29 160.912 Q1998.12 160.402 1999.92 159.407 L1999.92 163.342 Q1998.14 164.176 1996.22 164.592 Q1994.32 165.009 1992.17 165.009 Q1986.31 165.009 1982.86 161.328 Q1979.41 157.648 1979.41 151.398 Q1979.41 145.055 1982.89 141.421 Q1986.38 137.787 1992.45 137.787 Q1994.41 137.787 1996.29 138.203 Q1998.16 138.597 1999.92 139.407 Z\" fill=\"#000000\" fill-rule=\"nonzero\" fill-opacity=\"1\" /><path clip-path=\"url(#clip410)\" d=\"M2007.33 128.319 L2011.59 128.319 L2011.59 164.338 L2007.33 164.338 L2007.33 128.319 Z\" fill=\"#000000\" fill-rule=\"nonzero\" fill-opacity=\"1\" /><path clip-path=\"url(#clip410)\" d=\"M2042.68 150.31 L2042.68 152.393 L2023.09 152.393 Q2023.37 156.791 2025.73 159.106 Q2028.12 161.398 2032.35 161.398 Q2034.81 161.398 2037.1 160.796 Q2039.41 160.194 2041.68 158.99 L2041.68 163.018 Q2039.39 163.99 2036.98 164.5 Q2034.58 165.009 2032.1 165.009 Q2025.89 165.009 2022.26 161.398 Q2018.65 157.787 2018.65 151.629 Q2018.65 145.264 2022.08 141.537 Q2025.52 137.787 2031.36 137.787 Q2036.59 137.787 2039.62 141.166 Q2042.68 144.523 2042.68 150.31 M2038.42 149.06 Q2038.37 145.565 2036.45 143.481 Q2034.55 141.398 2031.4 141.398 Q2027.84 141.398 2025.69 143.412 Q2023.56 145.426 2023.23 149.083 L2038.42 149.06 Z\" fill=\"#000000\" fill-rule=\"nonzero\" fill-opacity=\"1\" /><path clip-path=\"url(#clip410)\" d=\"M2085.64 130.912 L2085.64 135.472 Q2082.98 134.199 2080.62 133.574 Q2078.26 132.949 2076.06 132.949 Q2072.24 132.949 2070.15 134.43 Q2068.09 135.912 2068.09 138.643 Q2068.09 140.935 2069.46 142.115 Q2070.85 143.273 2074.69 143.99 L2077.51 144.569 Q2082.75 145.565 2085.22 148.088 Q2087.72 150.588 2087.72 154.801 Q2087.72 159.824 2084.34 162.416 Q2080.99 165.009 2074.48 165.009 Q2072.03 165.009 2069.25 164.453 Q2066.5 163.898 2063.53 162.81 L2063.53 157.995 Q2066.38 159.592 2069.11 160.402 Q2071.84 161.213 2074.48 161.213 Q2078.49 161.213 2080.66 159.639 Q2082.84 158.064 2082.84 155.148 Q2082.84 152.602 2081.26 151.166 Q2079.71 149.731 2076.15 149.014 L2073.3 148.458 Q2068.07 147.416 2065.73 145.194 Q2063.39 142.972 2063.39 139.014 Q2063.39 134.43 2066.61 131.791 Q2069.85 129.153 2075.52 129.153 Q2077.95 129.153 2080.48 129.592 Q2083 130.032 2085.64 130.912 Z\" fill=\"#000000\" fill-rule=\"nonzero\" fill-opacity=\"1\" /><path clip-path=\"url(#clip410)\" d=\"M2099.04 131.051 L2099.04 138.412 L2107.82 138.412 L2107.82 141.722 L2099.04 141.722 L2099.04 155.796 Q2099.04 158.967 2099.9 159.87 Q2100.78 160.773 2103.44 160.773 L2107.82 160.773 L2107.82 164.338 L2103.44 164.338 Q2098.51 164.338 2096.64 162.509 Q2094.76 160.657 2094.76 155.796 L2094.76 141.722 L2091.64 141.722 L2091.64 138.412 L2094.76 138.412 L2094.76 131.051 L2099.04 131.051 Z\" fill=\"#000000\" fill-rule=\"nonzero\" fill-opacity=\"1\" /><path clip-path=\"url(#clip410)\" d=\"M2125.2 151.305 Q2120.04 151.305 2118.05 152.486 Q2116.06 153.666 2116.06 156.514 Q2116.06 158.782 2117.54 160.125 Q2119.04 161.444 2121.61 161.444 Q2125.15 161.444 2127.28 158.944 Q2129.44 156.421 2129.44 152.254 L2129.44 151.305 L2125.2 151.305 M2133.7 149.546 L2133.7 164.338 L2129.44 164.338 L2129.44 160.402 Q2127.98 162.763 2125.8 163.898 Q2123.63 165.009 2120.48 165.009 Q2116.5 165.009 2114.13 162.787 Q2111.8 160.541 2111.8 156.791 Q2111.8 152.416 2114.71 150.194 Q2117.65 147.972 2123.46 147.972 L2129.44 147.972 L2129.44 147.555 Q2129.44 144.615 2127.49 143.018 Q2125.57 141.398 2122.07 141.398 Q2119.85 141.398 2117.75 141.93 Q2115.64 142.463 2113.7 143.527 L2113.7 139.592 Q2116.03 138.69 2118.23 138.25 Q2120.43 137.787 2122.51 137.787 Q2128.14 137.787 2130.92 140.703 Q2133.7 143.62 2133.7 149.546 Z\" fill=\"#000000\" fill-rule=\"nonzero\" fill-opacity=\"1\" /><path clip-path=\"url(#clip410)\" d=\"M2146.68 131.051 L2146.68 138.412 L2155.45 138.412 L2155.45 141.722 L2146.68 141.722 L2146.68 155.796 Q2146.68 158.967 2147.54 159.87 Q2148.42 160.773 2151.08 160.773 L2155.45 160.773 L2155.45 164.338 L2151.08 164.338 Q2146.15 164.338 2144.27 162.509 Q2142.4 160.657 2142.4 155.796 L2142.4 141.722 L2139.27 141.722 L2139.27 138.412 L2142.4 138.412 L2142.4 131.051 L2146.68 131.051 Z\" fill=\"#000000\" fill-rule=\"nonzero\" fill-opacity=\"1\" /><path clip-path=\"url(#clip410)\" d=\"M2177.58 139.176 L2177.58 143.203 Q2175.78 142.277 2173.83 141.815 Q2171.89 141.352 2169.81 141.352 Q2166.63 141.352 2165.04 142.324 Q2163.46 143.296 2163.46 145.24 Q2163.46 146.722 2164.6 147.578 Q2165.73 148.412 2169.16 149.176 L2170.62 149.5 Q2175.15 150.472 2177.05 152.254 Q2178.97 154.014 2178.97 157.185 Q2178.97 160.796 2176.1 162.902 Q2173.25 165.009 2168.26 165.009 Q2166.17 165.009 2163.9 164.592 Q2161.66 164.199 2159.16 163.388 L2159.16 158.99 Q2161.52 160.217 2163.81 160.842 Q2166.1 161.444 2168.35 161.444 Q2171.36 161.444 2172.98 160.426 Q2174.6 159.384 2174.6 157.509 Q2174.6 155.773 2173.42 154.847 Q2172.26 153.921 2168.3 153.064 L2166.82 152.717 Q2162.86 151.884 2161.1 150.171 Q2159.34 148.435 2159.34 145.426 Q2159.34 141.768 2161.94 139.778 Q2164.53 137.787 2169.3 137.787 Q2171.66 137.787 2173.74 138.134 Q2175.82 138.481 2177.58 139.176 Z\" fill=\"#000000\" fill-rule=\"nonzero\" fill-opacity=\"1\" /><path clip-path=\"url(#clip410)\" d=\"M1626.25 219.634 L1770.47 219.634 L1770.47 178.162 L1626.25 178.162 L1626.25 219.634  Z\" fill=\"#e26f46\" fill-rule=\"evenodd\" fill-opacity=\"0.5\"/>\n",
       "<polyline clip-path=\"url(#clip410)\" style=\"stroke:#000000; stroke-linecap:round; stroke-linejoin:round; stroke-width:8; stroke-opacity:1; fill:none\" points=\"1626.25,219.634 1770.47,219.634 1770.47,178.162 1626.25,178.162 1626.25,219.634 \"/>\n",
       "<path clip-path=\"url(#clip410)\" d=\"M1794.51 181.618 L1799.23 181.618 L1806.5 210.83 L1813.74 181.618 L1819 181.618 L1826.27 210.83 L1833.51 181.618 L1838.26 181.618 L1829.58 216.178 L1823.7 216.178 L1816.41 186.178 L1809.04 216.178 L1803.16 216.178 L1794.51 181.618 Z\" fill=\"#000000\" fill-rule=\"nonzero\" fill-opacity=\"1\" /><path clip-path=\"url(#clip410)\" d=\"M1843.23 190.252 L1847.49 190.252 L1847.49 216.178 L1843.23 216.178 L1843.23 190.252 M1843.23 180.159 L1847.49 180.159 L1847.49 185.553 L1843.23 185.553 L1843.23 180.159 Z\" fill=\"#000000\" fill-rule=\"nonzero\" fill-opacity=\"1\" /><path clip-path=\"url(#clip410)\" d=\"M1860.62 182.891 L1860.62 190.252 L1869.39 190.252 L1869.39 193.562 L1860.62 193.562 L1860.62 207.636 Q1860.62 210.807 1861.47 211.71 Q1862.35 212.613 1865.02 212.613 L1869.39 212.613 L1869.39 216.178 L1865.02 216.178 Q1860.09 216.178 1858.21 214.349 Q1856.34 212.497 1856.34 207.636 L1856.34 193.562 L1853.21 193.562 L1853.21 190.252 L1856.34 190.252 L1856.34 182.891 L1860.62 182.891 Z\" fill=\"#000000\" fill-rule=\"nonzero\" fill-opacity=\"1\" /><path clip-path=\"url(#clip410)\" d=\"M1896.54 200.529 L1896.54 216.178 L1892.28 216.178 L1892.28 200.668 Q1892.28 196.988 1890.85 195.159 Q1889.41 193.33 1886.54 193.33 Q1883.09 193.33 1881.1 195.53 Q1879.11 197.729 1879.11 201.525 L1879.11 216.178 L1874.83 216.178 L1874.83 180.159 L1879.11 180.159 L1879.11 194.28 Q1880.64 191.942 1882.7 190.784 Q1884.78 189.627 1887.49 189.627 Q1891.96 189.627 1894.25 192.405 Q1896.54 195.159 1896.54 200.529 Z\" fill=\"#000000\" fill-rule=\"nonzero\" fill-opacity=\"1\" /><path clip-path=\"url(#clip410)\" d=\"M1915.09 193.238 Q1911.66 193.238 1909.67 195.923 Q1907.68 198.585 1907.68 203.238 Q1907.68 207.891 1909.65 210.576 Q1911.64 213.238 1915.09 213.238 Q1918.49 213.238 1920.48 210.553 Q1922.47 207.867 1922.47 203.238 Q1922.47 198.631 1920.48 195.946 Q1918.49 193.238 1915.09 193.238 M1915.09 189.627 Q1920.64 189.627 1923.81 193.238 Q1926.98 196.849 1926.98 203.238 Q1926.98 209.604 1923.81 213.238 Q1920.64 216.849 1915.09 216.849 Q1909.51 216.849 1906.34 213.238 Q1903.19 209.604 1903.19 203.238 Q1903.19 196.849 1906.34 193.238 Q1909.51 189.627 1915.09 189.627 Z\" fill=\"#000000\" fill-rule=\"nonzero\" fill-opacity=\"1\" /><path clip-path=\"url(#clip410)\" d=\"M1933.6 205.946 L1933.6 190.252 L1937.86 190.252 L1937.86 205.784 Q1937.86 209.465 1939.3 211.316 Q1940.73 213.145 1943.6 213.145 Q1947.05 213.145 1949.04 210.946 Q1951.06 208.747 1951.06 204.951 L1951.06 190.252 L1955.32 190.252 L1955.32 216.178 L1951.06 216.178 L1951.06 212.196 Q1949.51 214.557 1947.45 215.715 Q1945.41 216.849 1942.7 216.849 Q1938.23 216.849 1935.92 214.071 Q1933.6 211.293 1933.6 205.946 M1944.32 189.627 L1944.32 189.627 Z\" fill=\"#000000\" fill-rule=\"nonzero\" fill-opacity=\"1\" /><path clip-path=\"url(#clip410)\" d=\"M1968.3 182.891 L1968.3 190.252 L1977.08 190.252 L1977.08 193.562 L1968.3 193.562 L1968.3 207.636 Q1968.3 210.807 1969.16 211.71 Q1970.04 212.613 1972.7 212.613 L1977.08 212.613 L1977.08 216.178 L1972.7 216.178 Q1967.77 216.178 1965.89 214.349 Q1964.02 212.497 1964.02 207.636 L1964.02 193.562 L1960.9 193.562 L1960.9 190.252 L1964.02 190.252 L1964.02 182.891 L1968.3 182.891 Z\" fill=\"#000000\" fill-rule=\"nonzero\" fill-opacity=\"1\" /><path clip-path=\"url(#clip410)\" d=\"M2023.81 184.28 L2023.81 189.21 Q2021.45 187.011 2018.77 185.923 Q2016.1 184.835 2013.09 184.835 Q2007.17 184.835 2004.02 188.469 Q2000.87 192.08 2000.87 198.932 Q2000.87 205.761 2004.02 209.395 Q2007.17 213.006 2013.09 213.006 Q2016.1 213.006 2018.77 211.918 Q2021.45 210.83 2023.81 208.631 L2023.81 213.516 Q2021.36 215.182 2018.6 216.016 Q2015.87 216.849 2012.82 216.849 Q2004.97 216.849 2000.45 212.057 Q1995.94 207.242 1995.94 198.932 Q1995.94 190.599 2000.45 185.807 Q2004.97 180.993 2012.82 180.993 Q2015.92 180.993 2018.65 181.826 Q2021.4 182.636 2023.81 184.28 Z\" fill=\"#000000\" fill-rule=\"nonzero\" fill-opacity=\"1\" /><path clip-path=\"url(#clip410)\" d=\"M2041.64 218.585 Q2039.83 223.215 2038.12 224.627 Q2036.4 226.039 2033.53 226.039 L2030.13 226.039 L2030.13 222.474 L2032.63 222.474 Q2034.39 222.474 2035.36 221.64 Q2036.33 220.807 2037.51 217.705 L2038.28 215.761 L2027.79 190.252 L2032.31 190.252 L2040.41 210.529 L2048.51 190.252 L2053.02 190.252 L2041.64 218.585 Z\" fill=\"#000000\" fill-rule=\"nonzero\" fill-opacity=\"1\" /><path clip-path=\"url(#clip410)\" d=\"M2077.56 191.247 L2077.56 195.229 Q2075.76 194.233 2073.93 193.747 Q2072.12 193.238 2070.27 193.238 Q2066.13 193.238 2063.83 195.877 Q2061.54 198.492 2061.54 203.238 Q2061.54 207.983 2063.83 210.622 Q2066.13 213.238 2070.27 213.238 Q2072.12 213.238 2073.93 212.752 Q2075.76 212.242 2077.56 211.247 L2077.56 215.182 Q2075.78 216.016 2073.86 216.432 Q2071.96 216.849 2069.81 216.849 Q2063.95 216.849 2060.5 213.168 Q2057.05 209.488 2057.05 203.238 Q2057.05 196.895 2060.52 193.261 Q2064.02 189.627 2070.08 189.627 Q2072.05 189.627 2073.93 190.043 Q2075.8 190.437 2077.56 191.247 Z\" fill=\"#000000\" fill-rule=\"nonzero\" fill-opacity=\"1\" /><path clip-path=\"url(#clip410)\" d=\"M2084.97 180.159 L2089.23 180.159 L2089.23 216.178 L2084.97 216.178 L2084.97 180.159 Z\" fill=\"#000000\" fill-rule=\"nonzero\" fill-opacity=\"1\" /><path clip-path=\"url(#clip410)\" d=\"M2120.32 202.15 L2120.32 204.233 L2100.73 204.233 Q2101.01 208.631 2103.37 210.946 Q2105.76 213.238 2109.99 213.238 Q2112.45 213.238 2114.74 212.636 Q2117.05 212.034 2119.32 210.83 L2119.32 214.858 Q2117.03 215.83 2114.62 216.34 Q2112.21 216.849 2109.74 216.849 Q2103.53 216.849 2099.9 213.238 Q2096.29 209.627 2096.29 203.469 Q2096.29 197.104 2099.71 193.377 Q2103.16 189.627 2109 189.627 Q2114.23 189.627 2117.26 193.006 Q2120.32 196.363 2120.32 202.15 M2116.06 200.9 Q2116.01 197.405 2114.09 195.321 Q2112.19 193.238 2109.04 193.238 Q2105.48 193.238 2103.32 195.252 Q2101.2 197.266 2100.87 200.923 L2116.06 200.9 Z\" fill=\"#000000\" fill-rule=\"nonzero\" fill-opacity=\"1\" /><path clip-path=\"url(#clip410)\" d=\"M2163.28 182.752 L2163.28 187.312 Q2160.62 186.039 2158.26 185.414 Q2155.89 184.789 2153.69 184.789 Q2149.88 184.789 2147.79 186.27 Q2145.73 187.752 2145.73 190.483 Q2145.73 192.775 2147.1 193.955 Q2148.49 195.113 2152.33 195.83 L2155.15 196.409 Q2160.38 197.405 2162.86 199.928 Q2165.36 202.428 2165.36 206.641 Q2165.36 211.664 2161.98 214.256 Q2158.63 216.849 2152.12 216.849 Q2149.67 216.849 2146.89 216.293 Q2144.13 215.738 2141.17 214.65 L2141.17 209.835 Q2144.02 211.432 2146.75 212.242 Q2149.48 213.053 2152.12 213.053 Q2156.13 213.053 2158.3 211.479 Q2160.48 209.904 2160.48 206.988 Q2160.48 204.442 2158.9 203.006 Q2157.35 201.571 2153.79 200.854 L2150.94 200.298 Q2145.71 199.256 2143.37 197.034 Q2141.03 194.812 2141.03 190.854 Q2141.03 186.27 2144.25 183.631 Q2147.49 180.993 2153.16 180.993 Q2155.59 180.993 2158.12 181.432 Q2160.64 181.872 2163.28 182.752 Z\" fill=\"#000000\" fill-rule=\"nonzero\" fill-opacity=\"1\" /><path clip-path=\"url(#clip410)\" d=\"M2176.68 182.891 L2176.68 190.252 L2185.45 190.252 L2185.45 193.562 L2176.68 193.562 L2176.68 207.636 Q2176.68 210.807 2177.54 211.71 Q2178.42 212.613 2181.08 212.613 L2185.45 212.613 L2185.45 216.178 L2181.08 216.178 Q2176.15 216.178 2174.27 214.349 Q2172.4 212.497 2172.4 207.636 L2172.4 193.562 L2169.27 193.562 L2169.27 190.252 L2172.4 190.252 L2172.4 182.891 L2176.68 182.891 Z\" fill=\"#000000\" fill-rule=\"nonzero\" fill-opacity=\"1\" /><path clip-path=\"url(#clip410)\" d=\"M2202.84 203.145 Q2197.68 203.145 2195.69 204.326 Q2193.69 205.506 2193.69 208.354 Q2193.69 210.622 2195.18 211.965 Q2196.68 213.284 2199.25 213.284 Q2202.79 213.284 2204.92 210.784 Q2207.07 208.261 2207.07 204.094 L2207.07 203.145 L2202.84 203.145 M2211.33 201.386 L2211.33 216.178 L2207.07 216.178 L2207.07 212.242 Q2205.62 214.603 2203.44 215.738 Q2201.26 216.849 2198.12 216.849 Q2194.13 216.849 2191.77 214.627 Q2189.44 212.381 2189.44 208.631 Q2189.44 204.256 2192.35 202.034 Q2195.29 199.812 2201.1 199.812 L2207.07 199.812 L2207.07 199.395 Q2207.07 196.455 2205.13 194.858 Q2203.21 193.238 2199.71 193.238 Q2197.49 193.238 2195.38 193.77 Q2193.28 194.303 2191.33 195.367 L2191.33 191.432 Q2193.67 190.53 2195.87 190.09 Q2198.07 189.627 2200.15 189.627 Q2205.78 189.627 2208.56 192.543 Q2211.33 195.46 2211.33 201.386 Z\" fill=\"#000000\" fill-rule=\"nonzero\" fill-opacity=\"1\" /><path clip-path=\"url(#clip410)\" d=\"M2224.32 182.891 L2224.32 190.252 L2233.09 190.252 L2233.09 193.562 L2224.32 193.562 L2224.32 207.636 Q2224.32 210.807 2225.18 211.71 Q2226.06 212.613 2228.72 212.613 L2233.09 212.613 L2233.09 216.178 L2228.72 216.178 Q2223.79 216.178 2221.91 214.349 Q2220.04 212.497 2220.04 207.636 L2220.04 193.562 L2216.91 193.562 L2216.91 190.252 L2220.04 190.252 L2220.04 182.891 L2224.32 182.891 Z\" fill=\"#000000\" fill-rule=\"nonzero\" fill-opacity=\"1\" /><path clip-path=\"url(#clip410)\" d=\"M2255.22 191.016 L2255.22 195.043 Q2253.42 194.117 2251.47 193.655 Q2249.53 193.192 2247.44 193.192 Q2244.27 193.192 2242.68 194.164 Q2241.1 195.136 2241.1 197.08 Q2241.1 198.562 2242.24 199.418 Q2243.37 200.252 2246.8 201.016 L2248.25 201.34 Q2252.79 202.312 2254.69 204.094 Q2256.61 205.854 2256.61 209.025 Q2256.61 212.636 2253.74 214.742 Q2250.89 216.849 2245.89 216.849 Q2243.81 216.849 2241.54 216.432 Q2239.3 216.039 2236.8 215.228 L2236.8 210.83 Q2239.16 212.057 2241.45 212.682 Q2243.74 213.284 2245.99 213.284 Q2249 213.284 2250.62 212.266 Q2252.24 211.224 2252.24 209.349 Q2252.24 207.613 2251.06 206.687 Q2249.9 205.761 2245.94 204.904 L2244.46 204.557 Q2240.5 203.724 2238.74 202.011 Q2236.98 200.275 2236.98 197.266 Q2236.98 193.608 2239.57 191.618 Q2242.17 189.627 2246.94 189.627 Q2249.3 189.627 2251.38 189.974 Q2253.46 190.321 2255.22 191.016 Z\" fill=\"#000000\" fill-rule=\"nonzero\" fill-opacity=\"1\" /></svg>\n"
      ],
      "text/html": [
       "<?xml version=\"1.0\" encoding=\"utf-8\"?>\n",
       "<svg xmlns=\"http://www.w3.org/2000/svg\" xmlns:xlink=\"http://www.w3.org/1999/xlink\" width=\"600\" height=\"400\" viewBox=\"0 0 2400 1600\">\n",
       "<defs>\n",
       "  <clipPath id=\"clip460\">\n",
       "    <rect x=\"0\" y=\"0\" width=\"2400\" height=\"1600\"/>\n",
       "  </clipPath>\n",
       "</defs>\n",
       "<path clip-path=\"url(#clip460)\" d=\"M0 1600 L2400 1600 L2400 0 L0 0  Z\" fill=\"#ffffff\" fill-rule=\"evenodd\" fill-opacity=\"1\"/>\n",
       "<defs>\n",
       "  <clipPath id=\"clip461\">\n",
       "    <rect x=\"480\" y=\"0\" width=\"1681\" height=\"1600\"/>\n",
       "  </clipPath>\n",
       "</defs>\n",
       "<path clip-path=\"url(#clip460)\" d=\"M189.496 1486.45 L2352.76 1486.45 L2352.76 47.2441 L189.496 47.2441  Z\" fill=\"#ffffff\" fill-rule=\"evenodd\" fill-opacity=\"1\"/>\n",
       "<defs>\n",
       "  <clipPath id=\"clip462\">\n",
       "    <rect x=\"189\" y=\"47\" width=\"2164\" height=\"1440\"/>\n",
       "  </clipPath>\n",
       "</defs>\n",
       "<polyline clip-path=\"url(#clip462)\" style=\"stroke:#000000; stroke-linecap:round; stroke-linejoin:round; stroke-width:2; stroke-opacity:0.1; fill:none\" points=\"465.542,1486.45 465.542,47.2441 \"/>\n",
       "<polyline clip-path=\"url(#clip462)\" style=\"stroke:#000000; stroke-linecap:round; stroke-linejoin:round; stroke-width:2; stroke-opacity:0.1; fill:none\" points=\"1002.6,1486.45 1002.6,47.2441 \"/>\n",
       "<polyline clip-path=\"url(#clip462)\" style=\"stroke:#000000; stroke-linecap:round; stroke-linejoin:round; stroke-width:2; stroke-opacity:0.1; fill:none\" points=\"1539.65,1486.45 1539.65,47.2441 \"/>\n",
       "<polyline clip-path=\"url(#clip462)\" style=\"stroke:#000000; stroke-linecap:round; stroke-linejoin:round; stroke-width:2; stroke-opacity:0.1; fill:none\" points=\"2076.71,1486.45 2076.71,47.2441 \"/>\n",
       "<polyline clip-path=\"url(#clip460)\" style=\"stroke:#000000; stroke-linecap:round; stroke-linejoin:round; stroke-width:4; stroke-opacity:1; fill:none\" points=\"189.496,1486.45 2352.76,1486.45 \"/>\n",
       "<polyline clip-path=\"url(#clip460)\" style=\"stroke:#000000; stroke-linecap:round; stroke-linejoin:round; stroke-width:4; stroke-opacity:1; fill:none\" points=\"465.542,1486.45 465.542,1467.55 \"/>\n",
       "<polyline clip-path=\"url(#clip460)\" style=\"stroke:#000000; stroke-linecap:round; stroke-linejoin:round; stroke-width:4; stroke-opacity:1; fill:none\" points=\"1002.6,1486.45 1002.6,1467.55 \"/>\n",
       "<polyline clip-path=\"url(#clip460)\" style=\"stroke:#000000; stroke-linecap:round; stroke-linejoin:round; stroke-width:4; stroke-opacity:1; fill:none\" points=\"1539.65,1486.45 1539.65,1467.55 \"/>\n",
       "<polyline clip-path=\"url(#clip460)\" style=\"stroke:#000000; stroke-linecap:round; stroke-linejoin:round; stroke-width:4; stroke-opacity:1; fill:none\" points=\"2076.71,1486.45 2076.71,1467.55 \"/>\n",
       "<path clip-path=\"url(#clip460)\" d=\"M429.05 1516.95 L429.05 1521.88 Q426.689 1519.68 424.003 1518.59 Q421.341 1517.51 418.332 1517.51 Q412.406 1517.51 409.258 1521.14 Q406.11 1524.75 406.11 1531.6 Q406.11 1538.43 409.258 1542.07 Q412.406 1545.68 418.332 1545.68 Q421.341 1545.68 424.003 1544.59 Q426.689 1543.5 429.05 1541.3 L429.05 1546.19 Q426.596 1547.85 423.841 1548.69 Q421.11 1549.52 418.054 1549.52 Q410.207 1549.52 405.693 1544.73 Q401.179 1539.91 401.179 1531.6 Q401.179 1523.27 405.693 1518.48 Q410.207 1513.66 418.054 1513.66 Q421.156 1513.66 423.888 1514.5 Q426.642 1515.31 429.05 1516.95 Z\" fill=\"#000000\" fill-rule=\"nonzero\" fill-opacity=\"1\" /><path clip-path=\"url(#clip460)\" d=\"M457.637 1533.2 L457.637 1548.85 L453.378 1548.85 L453.378 1533.34 Q453.378 1529.66 451.943 1527.83 Q450.508 1526 447.638 1526 Q444.188 1526 442.198 1528.2 Q440.207 1530.4 440.207 1534.2 L440.207 1548.85 L435.925 1548.85 L435.925 1512.83 L440.207 1512.83 L440.207 1526.95 Q441.735 1524.61 443.795 1523.45 Q445.878 1522.3 448.587 1522.3 Q453.054 1522.3 455.346 1525.07 Q457.637 1527.83 457.637 1533.2 Z\" fill=\"#000000\" fill-rule=\"nonzero\" fill-opacity=\"1\" /><path clip-path=\"url(#clip460)\" d=\"M477.915 1535.82 Q472.753 1535.82 470.762 1537 Q468.772 1538.18 468.772 1541.02 Q468.772 1543.29 470.253 1544.63 Q471.758 1545.95 474.327 1545.95 Q477.869 1545.95 479.998 1543.45 Q482.151 1540.93 482.151 1536.76 L482.151 1535.82 L477.915 1535.82 M486.41 1534.06 L486.41 1548.85 L482.151 1548.85 L482.151 1544.91 Q480.693 1547.27 478.517 1548.41 Q476.341 1549.52 473.193 1549.52 Q469.211 1549.52 466.85 1547.3 Q464.512 1545.05 464.512 1541.3 Q464.512 1536.93 467.429 1534.7 Q470.369 1532.48 476.179 1532.48 L482.151 1532.48 L482.151 1532.07 Q482.151 1529.13 480.207 1527.53 Q478.285 1525.91 474.79 1525.91 Q472.568 1525.91 470.461 1526.44 Q468.355 1526.97 466.411 1528.04 L466.411 1524.1 Q468.749 1523.2 470.948 1522.76 Q473.147 1522.3 475.23 1522.3 Q480.855 1522.3 483.633 1525.21 Q486.41 1528.13 486.41 1534.06 Z\" fill=\"#000000\" fill-rule=\"nonzero\" fill-opacity=\"1\" /><path clip-path=\"url(#clip460)\" d=\"M495.184 1522.92 L499.443 1522.92 L499.443 1548.85 L495.184 1548.85 L495.184 1522.92 M495.184 1512.83 L499.443 1512.83 L499.443 1518.22 L495.184 1518.22 L495.184 1512.83 Z\" fill=\"#000000\" fill-rule=\"nonzero\" fill-opacity=\"1\" /><path clip-path=\"url(#clip460)\" d=\"M529.906 1533.2 L529.906 1548.85 L525.646 1548.85 L525.646 1533.34 Q525.646 1529.66 524.211 1527.83 Q522.776 1526 519.906 1526 Q516.457 1526 514.466 1528.2 Q512.475 1530.4 512.475 1534.2 L512.475 1548.85 L508.193 1548.85 L508.193 1522.92 L512.475 1522.92 L512.475 1526.95 Q514.003 1524.61 516.063 1523.45 Q518.146 1522.3 520.855 1522.3 Q525.322 1522.3 527.614 1525.07 Q529.906 1527.83 529.906 1533.2 Z\" fill=\"#000000\" fill-rule=\"nonzero\" fill-opacity=\"1\" /><path clip-path=\"url(#clip460)\" d=\"M958.79 1543.92 L958.79 1534.63 L951.152 1534.63 L951.152 1530.79 L963.42 1530.79 L963.42 1545.63 Q960.712 1547.55 957.448 1548.55 Q954.184 1549.52 950.48 1549.52 Q942.379 1549.52 937.795 1544.8 Q933.235 1540.05 933.235 1531.6 Q933.235 1523.13 937.795 1518.41 Q942.379 1513.66 950.48 1513.66 Q953.86 1513.66 956.892 1514.5 Q959.948 1515.33 962.517 1516.95 L962.517 1521.93 Q959.925 1519.73 957.008 1518.62 Q954.091 1517.51 950.874 1517.51 Q944.531 1517.51 941.337 1521.05 Q938.166 1524.59 938.166 1531.6 Q938.166 1538.59 941.337 1542.13 Q944.531 1545.68 950.874 1545.68 Q953.351 1545.68 955.295 1545.26 Q957.24 1544.82 958.79 1543.92 Z\" fill=\"#000000\" fill-rule=\"nonzero\" fill-opacity=\"1\" /><path clip-path=\"url(#clip460)\" d=\"M986.8 1526.9 Q986.082 1526.49 985.226 1526.3 Q984.392 1526.09 983.374 1526.09 Q979.763 1526.09 977.818 1528.45 Q975.897 1530.79 975.897 1535.19 L975.897 1548.85 L971.614 1548.85 L971.614 1522.92 L975.897 1522.92 L975.897 1526.95 Q977.239 1524.59 979.392 1523.45 Q981.545 1522.3 984.624 1522.3 Q985.063 1522.3 985.596 1522.37 Q986.128 1522.41 986.776 1522.53 L986.8 1526.9 Z\" fill=\"#000000\" fill-rule=\"nonzero\" fill-opacity=\"1\" /><path clip-path=\"url(#clip460)\" d=\"M1003.05 1535.82 Q997.887 1535.82 995.897 1537 Q993.906 1538.18 993.906 1541.02 Q993.906 1543.29 995.387 1544.63 Q996.892 1545.95 999.462 1545.95 Q1003 1545.95 1005.13 1543.45 Q1007.29 1540.93 1007.29 1536.76 L1007.29 1535.82 L1003.05 1535.82 M1011.54 1534.06 L1011.54 1548.85 L1007.29 1548.85 L1007.29 1544.91 Q1005.83 1547.27 1003.65 1548.41 Q1001.48 1549.52 998.327 1549.52 Q994.346 1549.52 991.985 1547.3 Q989.647 1545.05 989.647 1541.3 Q989.647 1536.93 992.563 1534.7 Q995.503 1532.48 1001.31 1532.48 L1007.29 1532.48 L1007.29 1532.07 Q1007.29 1529.13 1005.34 1527.53 Q1003.42 1525.91 999.925 1525.91 Q997.702 1525.91 995.596 1526.44 Q993.489 1526.97 991.545 1528.04 L991.545 1524.1 Q993.883 1523.2 996.082 1522.76 Q998.281 1522.3 1000.36 1522.3 Q1005.99 1522.3 1008.77 1525.21 Q1011.54 1528.13 1011.54 1534.06 Z\" fill=\"#000000\" fill-rule=\"nonzero\" fill-opacity=\"1\" /><path clip-path=\"url(#clip460)\" d=\"M1024.44 1544.96 L1024.44 1558.71 L1020.16 1558.71 L1020.16 1522.92 L1024.44 1522.92 L1024.44 1526.86 Q1025.78 1524.54 1027.82 1523.43 Q1029.88 1522.3 1032.73 1522.3 Q1037.45 1522.3 1040.39 1526.05 Q1043.35 1529.8 1043.35 1535.91 Q1043.35 1542.02 1040.39 1545.77 Q1037.45 1549.52 1032.73 1549.52 Q1029.88 1549.52 1027.82 1548.41 Q1025.78 1547.27 1024.44 1544.96 M1038.93 1535.91 Q1038.93 1531.21 1036.98 1528.55 Q1035.06 1525.86 1031.68 1525.86 Q1028.3 1525.86 1026.36 1528.55 Q1024.44 1531.21 1024.44 1535.91 Q1024.44 1540.61 1026.36 1543.29 Q1028.3 1545.95 1031.68 1545.95 Q1035.06 1545.95 1036.98 1543.29 Q1038.93 1540.61 1038.93 1535.91 Z\" fill=\"#000000\" fill-rule=\"nonzero\" fill-opacity=\"1\" /><path clip-path=\"url(#clip460)\" d=\"M1071.96 1533.2 L1071.96 1548.85 L1067.7 1548.85 L1067.7 1533.34 Q1067.7 1529.66 1066.27 1527.83 Q1064.83 1526 1061.96 1526 Q1058.51 1526 1056.52 1528.2 Q1054.53 1530.4 1054.53 1534.2 L1054.53 1548.85 L1050.25 1548.85 L1050.25 1512.83 L1054.53 1512.83 L1054.53 1526.95 Q1056.06 1524.61 1058.12 1523.45 Q1060.2 1522.3 1062.91 1522.3 Q1067.38 1522.3 1069.67 1525.07 Q1071.96 1527.83 1071.96 1533.2 Z\" fill=\"#000000\" fill-rule=\"nonzero\" fill-opacity=\"1\" /><path clip-path=\"url(#clip460)\" d=\"M1514.85 1515.42 L1514.85 1519.98 Q1512.19 1518.71 1509.83 1518.08 Q1507.47 1517.46 1505.27 1517.46 Q1501.45 1517.46 1499.36 1518.94 Q1497.3 1520.42 1497.3 1523.15 Q1497.3 1525.45 1498.67 1526.63 Q1500.06 1527.78 1503.9 1528.5 L1506.73 1529.08 Q1511.96 1530.07 1514.43 1532.6 Q1516.93 1535.1 1516.93 1539.31 Q1516.93 1544.33 1513.55 1546.93 Q1510.2 1549.52 1503.69 1549.52 Q1501.24 1549.52 1498.46 1548.96 Q1495.71 1548.41 1492.74 1547.32 L1492.74 1542.51 Q1495.59 1544.1 1498.32 1544.91 Q1501.05 1545.72 1503.69 1545.72 Q1507.7 1545.72 1509.87 1544.15 Q1512.05 1542.57 1512.05 1539.66 Q1512.05 1537.11 1510.48 1535.68 Q1508.92 1534.24 1505.36 1533.52 L1502.51 1532.97 Q1497.28 1531.93 1494.94 1529.7 Q1492.61 1527.48 1492.61 1523.52 Q1492.61 1518.94 1495.82 1516.3 Q1499.06 1513.66 1504.73 1513.66 Q1507.17 1513.66 1509.69 1514.1 Q1512.21 1514.54 1514.85 1515.42 Z\" fill=\"#000000\" fill-rule=\"nonzero\" fill-opacity=\"1\" /><path clip-path=\"url(#clip460)\" d=\"M1528.25 1515.56 L1528.25 1522.92 L1537.03 1522.92 L1537.03 1526.23 L1528.25 1526.23 L1528.25 1540.31 Q1528.25 1543.48 1529.11 1544.38 Q1529.99 1545.28 1532.65 1545.28 L1537.03 1545.28 L1537.03 1548.85 L1532.65 1548.85 Q1527.72 1548.85 1525.85 1547.02 Q1523.97 1545.17 1523.97 1540.31 L1523.97 1526.23 L1520.85 1526.23 L1520.85 1522.92 L1523.97 1522.92 L1523.97 1515.56 L1528.25 1515.56 Z\" fill=\"#000000\" fill-rule=\"nonzero\" fill-opacity=\"1\" /><path clip-path=\"url(#clip460)\" d=\"M1554.41 1535.82 Q1549.25 1535.82 1547.26 1537 Q1545.27 1538.18 1545.27 1541.02 Q1545.27 1543.29 1546.75 1544.63 Q1548.25 1545.95 1550.82 1545.95 Q1554.36 1545.95 1556.49 1543.45 Q1558.65 1540.93 1558.65 1536.76 L1558.65 1535.82 L1554.41 1535.82 M1562.91 1534.06 L1562.91 1548.85 L1558.65 1548.85 L1558.65 1544.91 Q1557.19 1547.27 1555.01 1548.41 Q1552.84 1549.52 1549.69 1549.52 Q1545.71 1549.52 1543.35 1547.3 Q1541.01 1545.05 1541.01 1541.3 Q1541.01 1536.93 1543.92 1534.7 Q1546.86 1532.48 1552.67 1532.48 L1558.65 1532.48 L1558.65 1532.07 Q1558.65 1529.13 1556.7 1527.53 Q1554.78 1525.91 1551.29 1525.91 Q1549.06 1525.91 1546.96 1526.44 Q1544.85 1526.97 1542.91 1528.04 L1542.91 1524.1 Q1545.24 1523.2 1547.44 1522.76 Q1549.64 1522.3 1551.73 1522.3 Q1557.35 1522.3 1560.13 1525.21 Q1562.91 1528.13 1562.91 1534.06 Z\" fill=\"#000000\" fill-rule=\"nonzero\" fill-opacity=\"1\" /><path clip-path=\"url(#clip460)\" d=\"M1586.7 1526.9 Q1585.98 1526.49 1585.13 1526.3 Q1584.29 1526.09 1583.28 1526.09 Q1579.67 1526.09 1577.72 1528.45 Q1575.8 1530.79 1575.8 1535.19 L1575.8 1548.85 L1571.52 1548.85 L1571.52 1522.92 L1575.8 1522.92 L1575.8 1526.95 Q1577.14 1524.59 1579.29 1523.45 Q1581.45 1522.3 1584.53 1522.3 Q1584.97 1522.3 1585.5 1522.37 Q1586.03 1522.41 1586.68 1522.53 L1586.7 1526.9 Z\" fill=\"#000000\" fill-rule=\"nonzero\" fill-opacity=\"1\" /><path clip-path=\"url(#clip460)\" d=\"M2028.52 1514.29 L2057.75 1514.29 L2057.75 1518.22 L2045.48 1518.22 L2045.48 1548.85 L2040.78 1548.85 L2040.78 1518.22 L2028.52 1518.22 L2028.52 1514.29 Z\" fill=\"#000000\" fill-rule=\"nonzero\" fill-opacity=\"1\" /><path clip-path=\"url(#clip460)\" d=\"M2070.14 1526.9 Q2069.42 1526.49 2068.56 1526.3 Q2067.73 1526.09 2066.71 1526.09 Q2063.1 1526.09 2061.15 1528.45 Q2059.23 1530.79 2059.23 1535.19 L2059.23 1548.85 L2054.95 1548.85 L2054.95 1522.92 L2059.23 1522.92 L2059.23 1526.95 Q2060.58 1524.59 2062.73 1523.45 Q2064.88 1522.3 2067.96 1522.3 Q2068.4 1522.3 2068.93 1522.37 Q2069.46 1522.41 2070.11 1522.53 L2070.14 1526.9 Z\" fill=\"#000000\" fill-rule=\"nonzero\" fill-opacity=\"1\" /><path clip-path=\"url(#clip460)\" d=\"M2095.74 1534.82 L2095.74 1536.9 L2076.15 1536.9 Q2076.43 1541.3 2078.79 1543.62 Q2081.18 1545.91 2085.41 1545.91 Q2087.87 1545.91 2090.16 1545.31 Q2092.47 1544.7 2094.74 1543.5 L2094.74 1547.53 Q2092.45 1548.5 2090.04 1549.01 Q2087.64 1549.52 2085.16 1549.52 Q2078.95 1549.52 2075.32 1545.91 Q2071.71 1542.3 2071.71 1536.14 Q2071.71 1529.77 2075.14 1526.05 Q2078.58 1522.3 2084.42 1522.3 Q2089.65 1522.3 2092.68 1525.68 Q2095.74 1529.03 2095.74 1534.82 M2091.48 1533.57 Q2091.43 1530.07 2089.51 1527.99 Q2087.61 1525.91 2084.46 1525.91 Q2080.9 1525.91 2078.75 1527.92 Q2076.62 1529.94 2076.29 1533.59 L2091.48 1533.57 Z\" fill=\"#000000\" fill-rule=\"nonzero\" fill-opacity=\"1\" /><path clip-path=\"url(#clip460)\" d=\"M2124.9 1534.82 L2124.9 1536.9 L2105.32 1536.9 Q2105.6 1541.3 2107.96 1543.62 Q2110.34 1545.91 2114.58 1545.91 Q2117.03 1545.91 2119.32 1545.31 Q2121.64 1544.7 2123.91 1543.5 L2123.91 1547.53 Q2121.62 1548.5 2119.21 1549.01 Q2116.8 1549.52 2114.32 1549.52 Q2108.12 1549.52 2104.49 1545.91 Q2100.88 1542.3 2100.88 1536.14 Q2100.88 1529.77 2104.3 1526.05 Q2107.75 1522.3 2113.58 1522.3 Q2118.82 1522.3 2121.85 1525.68 Q2124.9 1529.03 2124.9 1534.82 M2120.64 1533.57 Q2120.6 1530.07 2118.68 1527.99 Q2116.78 1525.91 2113.63 1525.91 Q2110.07 1525.91 2107.91 1527.92 Q2105.78 1529.94 2105.46 1533.59 L2120.64 1533.57 Z\" fill=\"#000000\" fill-rule=\"nonzero\" fill-opacity=\"1\" /><polyline clip-path=\"url(#clip462)\" style=\"stroke:#000000; stroke-linecap:round; stroke-linejoin:round; stroke-width:2; stroke-opacity:0.1; fill:none\" points=\"189.496,1486.45 2352.76,1486.45 \"/>\n",
       "<polyline clip-path=\"url(#clip462)\" style=\"stroke:#000000; stroke-linecap:round; stroke-linejoin:round; stroke-width:2; stroke-opacity:0.1; fill:none\" points=\"189.496,1224.77 2352.76,1224.77 \"/>\n",
       "<polyline clip-path=\"url(#clip462)\" style=\"stroke:#000000; stroke-linecap:round; stroke-linejoin:round; stroke-width:2; stroke-opacity:0.1; fill:none\" points=\"189.496,963.101 2352.76,963.101 \"/>\n",
       "<polyline clip-path=\"url(#clip462)\" style=\"stroke:#000000; stroke-linecap:round; stroke-linejoin:round; stroke-width:2; stroke-opacity:0.1; fill:none\" points=\"189.496,701.428 2352.76,701.428 \"/>\n",
       "<polyline clip-path=\"url(#clip462)\" style=\"stroke:#000000; stroke-linecap:round; stroke-linejoin:round; stroke-width:2; stroke-opacity:0.1; fill:none\" points=\"189.496,439.754 2352.76,439.754 \"/>\n",
       "<polyline clip-path=\"url(#clip462)\" style=\"stroke:#000000; stroke-linecap:round; stroke-linejoin:round; stroke-width:2; stroke-opacity:0.1; fill:none\" points=\"189.496,178.081 2352.76,178.081 \"/>\n",
       "<polyline clip-path=\"url(#clip460)\" style=\"stroke:#000000; stroke-linecap:round; stroke-linejoin:round; stroke-width:4; stroke-opacity:1; fill:none\" points=\"189.496,1486.45 189.496,47.2441 \"/>\n",
       "<polyline clip-path=\"url(#clip460)\" style=\"stroke:#000000; stroke-linecap:round; stroke-linejoin:round; stroke-width:4; stroke-opacity:1; fill:none\" points=\"189.496,1486.45 208.394,1486.45 \"/>\n",
       "<polyline clip-path=\"url(#clip460)\" style=\"stroke:#000000; stroke-linecap:round; stroke-linejoin:round; stroke-width:4; stroke-opacity:1; fill:none\" points=\"189.496,1224.77 208.394,1224.77 \"/>\n",
       "<polyline clip-path=\"url(#clip460)\" style=\"stroke:#000000; stroke-linecap:round; stroke-linejoin:round; stroke-width:4; stroke-opacity:1; fill:none\" points=\"189.496,963.101 208.394,963.101 \"/>\n",
       "<polyline clip-path=\"url(#clip460)\" style=\"stroke:#000000; stroke-linecap:round; stroke-linejoin:round; stroke-width:4; stroke-opacity:1; fill:none\" points=\"189.496,701.428 208.394,701.428 \"/>\n",
       "<polyline clip-path=\"url(#clip460)\" style=\"stroke:#000000; stroke-linecap:round; stroke-linejoin:round; stroke-width:4; stroke-opacity:1; fill:none\" points=\"189.496,439.754 208.394,439.754 \"/>\n",
       "<polyline clip-path=\"url(#clip460)\" style=\"stroke:#000000; stroke-linecap:round; stroke-linejoin:round; stroke-width:4; stroke-opacity:1; fill:none\" points=\"189.496,178.081 208.394,178.081 \"/>\n",
       "<path clip-path=\"url(#clip460)\" d=\"M51.6634 1506.24 L59.3023 1506.24 L59.3023 1479.87 L50.9921 1481.54 L50.9921 1477.28 L59.256 1475.62 L63.9319 1475.62 L63.9319 1506.24 L71.5707 1506.24 L71.5707 1510.18 L51.6634 1510.18 L51.6634 1506.24 Z\" fill=\"#000000\" fill-rule=\"nonzero\" fill-opacity=\"1\" /><path clip-path=\"url(#clip460)\" d=\"M91.0151 1478.69 Q87.404 1478.69 85.5753 1482.26 Q83.7697 1485.8 83.7697 1492.93 Q83.7697 1500.04 85.5753 1503.6 Q87.404 1507.14 91.0151 1507.14 Q94.6493 1507.14 96.4548 1503.6 Q98.2835 1500.04 98.2835 1492.93 Q98.2835 1485.8 96.4548 1482.26 Q94.6493 1478.69 91.0151 1478.69 M91.0151 1474.99 Q96.8252 1474.99 99.8808 1479.6 Q102.959 1484.18 102.959 1492.93 Q102.959 1501.66 99.8808 1506.26 Q96.8252 1510.85 91.0151 1510.85 Q85.2049 1510.85 82.1262 1506.26 Q79.0707 1501.66 79.0707 1492.93 Q79.0707 1484.18 82.1262 1479.6 Q85.2049 1474.99 91.0151 1474.99 Z\" fill=\"#000000\" fill-rule=\"nonzero\" fill-opacity=\"1\" /><path clip-path=\"url(#clip460)\" d=\"M102.959 1469.09 L127.071 1469.09 L127.071 1472.29 L102.959 1472.29 L102.959 1469.09 Z\" fill=\"#000000\" fill-rule=\"nonzero\" fill-opacity=\"1\" /><path clip-path=\"url(#clip460)\" d=\"M145.71 1458 L136.118 1472.99 L145.71 1472.99 L145.71 1458 M144.713 1454.69 L149.49 1454.69 L149.49 1472.99 L153.496 1472.99 L153.496 1476.14 L149.49 1476.14 L149.49 1482.77 L145.71 1482.77 L145.71 1476.14 L133.033 1476.14 L133.033 1472.48 L144.713 1454.69 Z\" fill=\"#000000\" fill-rule=\"nonzero\" fill-opacity=\"1\" /><path clip-path=\"url(#clip460)\" d=\"M53.3561 1244.57 L60.995 1244.57 L60.995 1218.2 L52.6848 1219.87 L52.6848 1215.61 L60.9487 1213.94 L65.6246 1213.94 L65.6246 1244.57 L73.2634 1244.57 L73.2634 1248.5 L53.3561 1248.5 L53.3561 1244.57 Z\" fill=\"#000000\" fill-rule=\"nonzero\" fill-opacity=\"1\" /><path clip-path=\"url(#clip460)\" d=\"M92.7078 1217.02 Q89.0967 1217.02 87.268 1220.59 Q85.4624 1224.13 85.4624 1231.26 Q85.4624 1238.36 87.268 1241.93 Q89.0967 1245.47 92.7078 1245.47 Q96.342 1245.47 98.1475 1241.93 Q99.9762 1238.36 99.9762 1231.26 Q99.9762 1224.13 98.1475 1220.59 Q96.342 1217.02 92.7078 1217.02 M92.7078 1213.32 Q98.5179 1213.32 101.573 1217.92 Q104.652 1222.51 104.652 1231.26 Q104.652 1239.98 101.573 1244.59 Q98.5179 1249.17 92.7078 1249.17 Q86.8976 1249.17 83.8189 1244.59 Q80.7634 1239.98 80.7634 1231.26 Q80.7634 1222.51 83.8189 1217.92 Q86.8976 1213.32 92.7078 1213.32 Z\" fill=\"#000000\" fill-rule=\"nonzero\" fill-opacity=\"1\" /><path clip-path=\"url(#clip460)\" d=\"M104.652 1207.42 L128.764 1207.42 L128.764 1210.62 L104.652 1210.62 L104.652 1207.42 Z\" fill=\"#000000\" fill-rule=\"nonzero\" fill-opacity=\"1\" /><path clip-path=\"url(#clip460)\" d=\"M140.236 1217.89 L153.496 1217.89 L153.496 1221.09 L135.666 1221.09 L135.666 1217.89 Q137.829 1215.66 141.553 1211.89 Q145.296 1208.11 146.255 1207.02 Q148.079 1204.97 148.794 1203.56 Q149.527 1202.13 149.527 1200.76 Q149.527 1198.52 147.948 1197.11 Q146.387 1195.7 143.866 1195.7 Q142.08 1195.7 140.086 1196.32 Q138.111 1196.94 135.854 1198.2 L135.854 1194.37 Q138.149 1193.44 140.142 1192.97 Q142.136 1192.5 143.791 1192.5 Q148.155 1192.5 150.75 1194.69 Q153.345 1196.87 153.345 1200.52 Q153.345 1202.25 152.687 1203.81 Q152.048 1205.35 150.336 1207.46 Q149.866 1208 147.346 1210.62 Q144.826 1213.21 140.236 1217.89 Z\" fill=\"#000000\" fill-rule=\"nonzero\" fill-opacity=\"1\" /><path clip-path=\"url(#clip460)\" d=\"M82.7903 982.893 L90.4291 982.893 L90.4291 956.528 L82.119 958.195 L82.119 953.935 L90.3828 952.269 L95.0587 952.269 L95.0587 982.893 L102.698 982.893 L102.698 986.829 L82.7903 986.829 L82.7903 982.893 Z\" fill=\"#000000\" fill-rule=\"nonzero\" fill-opacity=\"1\" /><path clip-path=\"url(#clip460)\" d=\"M122.142 955.347 Q118.531 955.347 116.702 958.912 Q114.897 962.454 114.897 969.583 Q114.897 976.69 116.702 980.255 Q118.531 983.796 122.142 983.796 Q125.776 983.796 127.582 980.255 Q129.41 976.69 129.41 969.583 Q129.41 962.454 127.582 958.912 Q125.776 955.347 122.142 955.347 M122.142 951.644 Q127.952 951.644 131.008 956.25 Q134.086 960.833 134.086 969.583 Q134.086 978.31 131.008 982.917 Q127.952 987.5 122.142 987.5 Q116.332 987.5 113.253 982.917 Q110.198 978.31 110.198 969.583 Q110.198 960.833 113.253 956.25 Q116.332 951.644 122.142 951.644 Z\" fill=\"#000000\" fill-rule=\"nonzero\" fill-opacity=\"1\" /><path clip-path=\"url(#clip460)\" d=\"M143.791 933.84 Q140.857 933.84 139.371 936.736 Q137.904 939.614 137.904 945.406 Q137.904 951.18 139.371 954.077 Q140.857 956.954 143.791 956.954 Q146.744 956.954 148.211 954.077 Q149.697 951.18 149.697 945.406 Q149.697 939.614 148.211 936.736 Q146.744 933.84 143.791 933.84 M143.791 930.83 Q148.512 930.83 150.994 934.573 Q153.496 938.297 153.496 945.406 Q153.496 952.497 150.994 956.24 Q148.512 959.964 143.791 959.964 Q139.07 959.964 136.569 956.24 Q134.086 952.497 134.086 945.406 Q134.086 938.297 136.569 934.573 Q139.07 930.83 143.791 930.83 Z\" fill=\"#000000\" fill-rule=\"nonzero\" fill-opacity=\"1\" /><path clip-path=\"url(#clip460)\" d=\"M84.3701 721.22 L92.009 721.22 L92.009 694.854 L83.6988 696.521 L83.6988 692.262 L91.9627 690.595 L96.6386 690.595 L96.6386 721.22 L104.277 721.22 L104.277 725.155 L84.3701 725.155 L84.3701 721.22 Z\" fill=\"#000000\" fill-rule=\"nonzero\" fill-opacity=\"1\" /><path clip-path=\"url(#clip460)\" d=\"M123.722 693.674 Q120.111 693.674 118.282 697.239 Q116.476 700.78 116.476 707.91 Q116.476 715.016 118.282 718.581 Q120.111 722.123 123.722 722.123 Q127.356 722.123 129.162 718.581 Q130.99 715.016 130.99 707.91 Q130.99 700.78 129.162 697.239 Q127.356 693.674 123.722 693.674 M123.722 689.97 Q129.532 689.97 132.587 694.577 Q135.666 699.16 135.666 707.91 Q135.666 716.637 132.587 721.243 Q129.532 725.827 123.722 725.827 Q117.912 725.827 114.833 721.243 Q111.777 716.637 111.777 707.91 Q111.777 699.16 114.833 694.577 Q117.912 689.97 123.722 689.97 Z\" fill=\"#000000\" fill-rule=\"nonzero\" fill-opacity=\"1\" /><path clip-path=\"url(#clip460)\" d=\"M140.236 694.548 L153.496 694.548 L153.496 697.745 L135.666 697.745 L135.666 694.548 Q137.829 692.309 141.553 688.548 Q145.296 684.767 146.255 683.677 Q148.079 681.627 148.794 680.216 Q149.527 678.787 149.527 677.414 Q149.527 675.176 147.948 673.765 Q146.387 672.354 143.866 672.354 Q142.08 672.354 140.086 672.975 Q138.111 673.596 135.854 674.856 L135.854 671.019 Q138.149 670.097 140.142 669.627 Q142.136 669.157 143.791 669.157 Q148.155 669.157 150.75 671.339 Q153.345 673.52 153.345 677.169 Q153.345 678.899 152.687 680.46 Q152.048 682.003 150.336 684.109 Q149.866 684.655 147.346 687.269 Q144.826 689.864 140.236 694.548 Z\" fill=\"#000000\" fill-rule=\"nonzero\" fill-opacity=\"1\" /><path clip-path=\"url(#clip460)\" d=\"M81.737 459.547 L89.3759 459.547 L89.3759 433.181 L81.0657 434.848 L81.0657 430.588 L89.3296 428.922 L94.0055 428.922 L94.0055 459.547 L101.644 459.547 L101.644 463.482 L81.737 463.482 L81.737 459.547 Z\" fill=\"#000000\" fill-rule=\"nonzero\" fill-opacity=\"1\" /><path clip-path=\"url(#clip460)\" d=\"M121.089 432.001 Q117.478 432.001 115.649 435.565 Q113.843 439.107 113.843 446.237 Q113.843 453.343 115.649 456.908 Q117.478 460.449 121.089 460.449 Q124.723 460.449 126.528 456.908 Q128.357 453.343 128.357 446.237 Q128.357 439.107 126.528 435.565 Q124.723 432.001 121.089 432.001 M121.089 428.297 Q126.899 428.297 129.954 432.903 Q133.033 437.487 133.033 446.237 Q133.033 454.963 129.954 459.57 Q126.899 464.153 121.089 464.153 Q115.279 464.153 112.2 459.57 Q109.144 454.963 109.144 446.237 Q109.144 437.487 112.2 432.903 Q115.279 428.297 121.089 428.297 Z\" fill=\"#000000\" fill-rule=\"nonzero\" fill-opacity=\"1\" /><path clip-path=\"url(#clip460)\" d=\"M145.71 411.302 L136.118 426.291 L145.71 426.291 L145.71 411.302 M144.713 407.991 L149.49 407.991 L149.49 426.291 L153.496 426.291 L153.496 429.451 L149.49 429.451 L149.49 436.071 L145.71 436.071 L145.71 429.451 L133.033 429.451 L133.033 425.784 L144.713 407.991 Z\" fill=\"#000000\" fill-rule=\"nonzero\" fill-opacity=\"1\" /><path clip-path=\"url(#clip460)\" d=\"M82.8091 197.873 L90.4479 197.873 L90.4479 171.508 L82.1378 173.174 L82.1378 168.915 L90.4016 167.248 L95.0775 167.248 L95.0775 197.873 L102.716 197.873 L102.716 201.808 L82.8091 201.808 L82.8091 197.873 Z\" fill=\"#000000\" fill-rule=\"nonzero\" fill-opacity=\"1\" /><path clip-path=\"url(#clip460)\" d=\"M122.161 170.327 Q118.55 170.327 116.721 173.892 Q114.915 177.434 114.915 184.563 Q114.915 191.67 116.721 195.234 Q118.55 198.776 122.161 198.776 Q125.795 198.776 127.601 195.234 Q129.429 191.67 129.429 184.563 Q129.429 177.434 127.601 173.892 Q125.795 170.327 122.161 170.327 M122.161 166.623 Q127.971 166.623 131.026 171.23 Q134.105 175.813 134.105 184.563 Q134.105 193.29 131.026 197.896 Q127.971 202.48 122.161 202.48 Q116.351 202.48 113.272 197.896 Q110.216 193.29 110.216 184.563 Q110.216 175.813 113.272 171.23 Q116.351 166.623 122.161 166.623 Z\" fill=\"#000000\" fill-rule=\"nonzero\" fill-opacity=\"1\" /><path clip-path=\"url(#clip460)\" d=\"M144.13 158.844 Q141.572 158.844 140.067 160.593 Q138.581 162.342 138.581 165.389 Q138.581 168.417 140.067 170.185 Q141.572 171.934 144.13 171.934 Q146.688 171.934 148.173 170.185 Q149.678 168.417 149.678 165.389 Q149.678 162.342 148.173 160.593 Q146.688 158.844 144.13 158.844 M151.672 146.939 L151.672 150.399 Q150.242 149.722 148.775 149.365 Q147.327 149.008 145.898 149.008 Q142.136 149.008 140.142 151.547 Q138.168 154.086 137.885 159.22 Q138.995 157.584 140.669 156.719 Q142.343 155.835 144.355 155.835 Q148.587 155.835 151.032 158.411 Q153.496 160.969 153.496 165.389 Q153.496 169.715 150.938 172.329 Q148.38 174.943 144.13 174.943 Q139.258 174.943 136.682 171.219 Q134.105 167.477 134.105 160.386 Q134.105 153.728 137.265 149.779 Q140.425 145.81 145.747 145.81 Q147.177 145.81 148.625 146.092 Q150.092 146.374 151.672 146.939 Z\" fill=\"#000000\" fill-rule=\"nonzero\" fill-opacity=\"1\" /><path clip-path=\"url(#clip462)\" d=\"M465.542 936.061 L358.131 936.061 L572.954 936.061 L465.542 936.061 L465.542 921.573 L465.542 936.061  Z\" fill=\"#009af9\" fill-rule=\"evenodd\" fill-opacity=\"0.5\"/>\n",
       "<polyline clip-path=\"url(#clip462)\" style=\"stroke:#000000; stroke-linecap:round; stroke-linejoin:round; stroke-width:8; stroke-opacity:1; fill:none\" points=\"465.542,936.061 358.131,936.061 572.954,936.061 465.542,936.061 465.542,921.573 465.542,936.061 \"/>\n",
       "<path clip-path=\"url(#clip462)\" d=\"M680.365 921.573 L680.365 910.039 L250.72 910.039 L250.72 921.573 L680.365 921.573 L680.365 910.039 L680.365 921.573  Z\" fill=\"#009af9\" fill-rule=\"evenodd\" fill-opacity=\"0.5\"/>\n",
       "<polyline clip-path=\"url(#clip462)\" style=\"stroke:#000000; stroke-linecap:round; stroke-linejoin:round; stroke-width:8; stroke-opacity:1; fill:none\" points=\"680.365,921.573 680.365,910.039 250.72,910.039 250.72,921.573 680.365,921.573 680.365,910.039 680.365,921.573 \"/>\n",
       "<path clip-path=\"url(#clip462)\" d=\"M680.365 724.512 L250.72 724.512 L250.72 910.039 L680.365 910.039 L680.365 724.512 L465.542 724.512 L680.365 724.512  Z\" fill=\"#009af9\" fill-rule=\"evenodd\" fill-opacity=\"0.5\"/>\n",
       "<polyline clip-path=\"url(#clip462)\" style=\"stroke:#000000; stroke-linecap:round; stroke-linejoin:round; stroke-width:8; stroke-opacity:1; fill:none\" points=\"680.365,724.512 250.72,724.512 250.72,910.039 680.365,910.039 680.365,724.512 465.542,724.512 680.365,724.512 \"/>\n",
       "<path clip-path=\"url(#clip462)\" d=\"M465.542 686.222 L358.131 686.222 L572.954 686.222 L465.542 686.222 L465.542 724.512 L465.542 686.222  Z\" fill=\"#009af9\" fill-rule=\"evenodd\" fill-opacity=\"0.5\"/>\n",
       "<polyline clip-path=\"url(#clip462)\" style=\"stroke:#000000; stroke-linecap:round; stroke-linejoin:round; stroke-width:8; stroke-opacity:1; fill:none\" points=\"465.542,686.222 358.131,686.222 572.954,686.222 465.542,686.222 465.542,724.512 465.542,686.222 \"/>\n",
       "<path clip-path=\"url(#clip462)\" d=\"M1002.6 1163.47 L895.187 1163.47 L1110.01 1163.47 L1002.6 1163.47 L1002.6 1108.33 L1002.6 1163.47  Z\" fill=\"#009af9\" fill-rule=\"evenodd\" fill-opacity=\"0.5\"/>\n",
       "<polyline clip-path=\"url(#clip462)\" style=\"stroke:#000000; stroke-linecap:round; stroke-linejoin:round; stroke-width:8; stroke-opacity:1; fill:none\" points=\"1002.6,1163.47 895.187,1163.47 1110.01,1163.47 1002.6,1163.47 1002.6,1108.33 1002.6,1163.47 \"/>\n",
       "<path clip-path=\"url(#clip462)\" d=\"M1217.42 1108.33 L1217.42 1021.78 L787.776 1021.78 L787.776 1108.33 L1217.42 1108.33 L1217.42 1021.78 L1217.42 1108.33  Z\" fill=\"#009af9\" fill-rule=\"evenodd\" fill-opacity=\"0.5\"/>\n",
       "<polyline clip-path=\"url(#clip462)\" style=\"stroke:#000000; stroke-linecap:round; stroke-linejoin:round; stroke-width:8; stroke-opacity:1; fill:none\" points=\"1217.42,1108.33 1217.42,1021.78 787.776,1021.78 787.776,1108.33 1217.42,1108.33 1217.42,1021.78 1217.42,1108.33 \"/>\n",
       "<path clip-path=\"url(#clip462)\" d=\"M1217.42 1002.49 L787.776 1002.49 L787.776 1021.78 L1217.42 1021.78 L1217.42 1002.49 L1002.6 1002.49 L1217.42 1002.49  Z\" fill=\"#009af9\" fill-rule=\"evenodd\" fill-opacity=\"0.5\"/>\n",
       "<polyline clip-path=\"url(#clip462)\" style=\"stroke:#000000; stroke-linecap:round; stroke-linejoin:round; stroke-width:8; stroke-opacity:1; fill:none\" points=\"1217.42,1002.49 787.776,1002.49 787.776,1021.78 1217.42,1021.78 1217.42,1002.49 1002.6,1002.49 1217.42,1002.49 \"/>\n",
       "<path clip-path=\"url(#clip462)\" d=\"M1002.6 970.997 L895.187 970.997 L1110.01 970.997 L1002.6 970.997 L1002.6 1002.49 L1002.6 970.997  Z\" fill=\"#009af9\" fill-rule=\"evenodd\" fill-opacity=\"0.5\"/>\n",
       "<polyline clip-path=\"url(#clip462)\" style=\"stroke:#000000; stroke-linecap:round; stroke-linejoin:round; stroke-width:8; stroke-opacity:1; fill:none\" points=\"1002.6,970.997 895.187,970.997 1110.01,970.997 1002.6,970.997 1002.6,1002.49 1002.6,970.997 \"/>\n",
       "<path clip-path=\"url(#clip462)\" d=\"M1539.65 946.884 L1432.24 946.884 L1647.06 946.884 L1539.65 946.884 L1539.65 920.892 L1539.65 946.884  Z\" fill=\"#009af9\" fill-rule=\"evenodd\" fill-opacity=\"0.5\"/>\n",
       "<polyline clip-path=\"url(#clip462)\" style=\"stroke:#000000; stroke-linecap:round; stroke-linejoin:round; stroke-width:8; stroke-opacity:1; fill:none\" points=\"1539.65,946.884 1432.24,946.884 1647.06,946.884 1539.65,946.884 1539.65,920.892 1539.65,946.884 \"/>\n",
       "<path clip-path=\"url(#clip462)\" d=\"M1754.48 920.892 L1754.48 899.885 L1324.83 899.885 L1324.83 920.892 L1754.48 920.892 L1754.48 899.885 L1754.48 920.892  Z\" fill=\"#009af9\" fill-rule=\"evenodd\" fill-opacity=\"0.5\"/>\n",
       "<polyline clip-path=\"url(#clip462)\" style=\"stroke:#000000; stroke-linecap:round; stroke-linejoin:round; stroke-width:8; stroke-opacity:1; fill:none\" points=\"1754.48,920.892 1754.48,899.885 1324.83,899.885 1324.83,920.892 1754.48,920.892 1754.48,899.885 1754.48,920.892 \"/>\n",
       "<path clip-path=\"url(#clip462)\" d=\"M1754.48 894.186 L1324.83 894.186 L1324.83 899.885 L1754.48 899.885 L1754.48 894.186 L1539.65 894.186 L1754.48 894.186  Z\" fill=\"#009af9\" fill-rule=\"evenodd\" fill-opacity=\"0.5\"/>\n",
       "<polyline clip-path=\"url(#clip462)\" style=\"stroke:#000000; stroke-linecap:round; stroke-linejoin:round; stroke-width:8; stroke-opacity:1; fill:none\" points=\"1754.48,894.186 1324.83,894.186 1324.83,899.885 1754.48,899.885 1754.48,894.186 1539.65,894.186 1754.48,894.186 \"/>\n",
       "<path clip-path=\"url(#clip462)\" d=\"M1539.65 894.186 L1432.24 894.186 L1647.06 894.186 L1539.65 894.186 L1539.65 894.186 L1539.65 894.186  Z\" fill=\"#009af9\" fill-rule=\"evenodd\" fill-opacity=\"0.5\"/>\n",
       "<polyline clip-path=\"url(#clip462)\" style=\"stroke:#000000; stroke-linecap:round; stroke-linejoin:round; stroke-width:8; stroke-opacity:1; fill:none\" points=\"1539.65,894.186 1432.24,894.186 1647.06,894.186 1539.65,894.186 \"/>\n",
       "<path clip-path=\"url(#clip462)\" d=\"M2076.71 965.553 L1969.3 965.553 L2184.12 965.553 L2076.71 965.553 L2076.71 927.246 L2076.71 965.553  Z\" fill=\"#009af9\" fill-rule=\"evenodd\" fill-opacity=\"0.5\"/>\n",
       "<polyline clip-path=\"url(#clip462)\" style=\"stroke:#000000; stroke-linecap:round; stroke-linejoin:round; stroke-width:8; stroke-opacity:1; fill:none\" points=\"2076.71,965.553 1969.3,965.553 2184.12,965.553 2076.71,965.553 2076.71,927.246 2076.71,965.553 \"/>\n",
       "<path clip-path=\"url(#clip462)\" d=\"M2291.53 927.246 L2291.53 915.241 L1861.89 915.241 L1861.89 927.246 L2291.53 927.246 L2291.53 915.241 L2291.53 927.246  Z\" fill=\"#009af9\" fill-rule=\"evenodd\" fill-opacity=\"0.5\"/>\n",
       "<polyline clip-path=\"url(#clip462)\" style=\"stroke:#000000; stroke-linecap:round; stroke-linejoin:round; stroke-width:8; stroke-opacity:1; fill:none\" points=\"2291.53,927.246 2291.53,915.241 1861.89,915.241 1861.89,927.246 2291.53,927.246 2291.53,915.241 2291.53,927.246 \"/>\n",
       "<path clip-path=\"url(#clip462)\" d=\"M2291.53 885.357 L1861.89 885.357 L1861.89 915.241 L2291.53 915.241 L2291.53 885.357 L2076.71 885.357 L2291.53 885.357  Z\" fill=\"#009af9\" fill-rule=\"evenodd\" fill-opacity=\"0.5\"/>\n",
       "<polyline clip-path=\"url(#clip462)\" style=\"stroke:#000000; stroke-linecap:round; stroke-linejoin:round; stroke-width:8; stroke-opacity:1; fill:none\" points=\"2291.53,885.357 1861.89,885.357 1861.89,915.241 2291.53,915.241 2291.53,885.357 2076.71,885.357 2291.53,885.357 \"/>\n",
       "<path clip-path=\"url(#clip462)\" d=\"M2076.71 857.974 L1969.3 857.974 L2184.12 857.974 L2076.71 857.974 L2076.71 885.357 L2076.71 857.974  Z\" fill=\"#009af9\" fill-rule=\"evenodd\" fill-opacity=\"0.5\"/>\n",
       "<polyline clip-path=\"url(#clip462)\" style=\"stroke:#000000; stroke-linecap:round; stroke-linejoin:round; stroke-width:8; stroke-opacity:1; fill:none\" points=\"2076.71,857.974 1969.3,857.974 2184.12,857.974 2076.71,857.974 2076.71,885.357 2076.71,857.974 \"/>\n",
       "<circle clip-path=\"url(#clip462)\" cx=\"1539.65\" cy=\"857.974\" r=\"14.4\" fill=\"#009af9\" fill-rule=\"evenodd\" fill-opacity=\"1\" stroke=\"#000000\" stroke-opacity=\"1\" stroke-width=\"3.2\"/>\n",
       "<circle clip-path=\"url(#clip462)\" cx=\"1539.65\" cy=\"857.974\" r=\"14.4\" fill=\"#009af9\" fill-rule=\"evenodd\" fill-opacity=\"1\" stroke=\"#000000\" stroke-opacity=\"1\" stroke-width=\"3.2\"/>\n",
       "<polyline clip-path=\"url(#clip462)\" style=\"stroke:#009af9; stroke-linecap:round; stroke-linejoin:round; stroke-width:0; stroke-opacity:1; fill:none\" points=\"465.542,936.061 358.131,936.061 572.954,936.061 465.542,936.061 465.542,921.573 \"/>\n",
       "<polyline clip-path=\"url(#clip462)\" style=\"stroke:#009af9; stroke-linecap:round; stroke-linejoin:round; stroke-width:0; stroke-opacity:1; fill:none\" points=\"680.365,921.573 680.365,910.039 250.72,910.039 250.72,921.573 680.365,921.573 680.365,910.039 \"/>\n",
       "<polyline clip-path=\"url(#clip462)\" style=\"stroke:#009af9; stroke-linecap:round; stroke-linejoin:round; stroke-width:0; stroke-opacity:1; fill:none\" points=\"680.365,724.512 250.72,724.512 250.72,910.039 680.365,910.039 680.365,724.512 465.542,724.512 \"/>\n",
       "<polyline clip-path=\"url(#clip462)\" style=\"stroke:#009af9; stroke-linecap:round; stroke-linejoin:round; stroke-width:0; stroke-opacity:1; fill:none\" points=\"465.542,686.222 358.131,686.222 572.954,686.222 465.542,686.222 465.542,724.512 \"/>\n",
       "<polyline clip-path=\"url(#clip462)\" style=\"stroke:#009af9; stroke-linecap:round; stroke-linejoin:round; stroke-width:0; stroke-opacity:1; fill:none\" points=\"1002.6,1163.47 895.187,1163.47 1110.01,1163.47 1002.6,1163.47 1002.6,1108.33 \"/>\n",
       "<polyline clip-path=\"url(#clip462)\" style=\"stroke:#009af9; stroke-linecap:round; stroke-linejoin:round; stroke-width:0; stroke-opacity:1; fill:none\" points=\"1217.42,1108.33 1217.42,1021.78 787.776,1021.78 787.776,1108.33 1217.42,1108.33 1217.42,1021.78 \"/>\n",
       "<polyline clip-path=\"url(#clip462)\" style=\"stroke:#009af9; stroke-linecap:round; stroke-linejoin:round; stroke-width:0; stroke-opacity:1; fill:none\" points=\"1217.42,1002.49 787.776,1002.49 787.776,1021.78 1217.42,1021.78 1217.42,1002.49 1002.6,1002.49 \"/>\n",
       "<polyline clip-path=\"url(#clip462)\" style=\"stroke:#009af9; stroke-linecap:round; stroke-linejoin:round; stroke-width:0; stroke-opacity:1; fill:none\" points=\"1002.6,970.997 895.187,970.997 1110.01,970.997 1002.6,970.997 1002.6,1002.49 \"/>\n",
       "<polyline clip-path=\"url(#clip462)\" style=\"stroke:#009af9; stroke-linecap:round; stroke-linejoin:round; stroke-width:0; stroke-opacity:1; fill:none\" points=\"1539.65,946.884 1432.24,946.884 1647.06,946.884 1539.65,946.884 1539.65,920.892 \"/>\n",
       "<polyline clip-path=\"url(#clip462)\" style=\"stroke:#009af9; stroke-linecap:round; stroke-linejoin:round; stroke-width:0; stroke-opacity:1; fill:none\" points=\"1754.48,920.892 1754.48,899.885 1324.83,899.885 1324.83,920.892 1754.48,920.892 1754.48,899.885 \"/>\n",
       "<polyline clip-path=\"url(#clip462)\" style=\"stroke:#009af9; stroke-linecap:round; stroke-linejoin:round; stroke-width:0; stroke-opacity:1; fill:none\" points=\"1754.48,894.186 1324.83,894.186 1324.83,899.885 1754.48,899.885 1754.48,894.186 1539.65,894.186 \"/>\n",
       "<polyline clip-path=\"url(#clip462)\" style=\"stroke:#009af9; stroke-linecap:round; stroke-linejoin:round; stroke-width:0; stroke-opacity:1; fill:none\" points=\"1539.65,894.186 1432.24,894.186 1647.06,894.186 1539.65,894.186 \"/>\n",
       "<polyline clip-path=\"url(#clip462)\" style=\"stroke:#009af9; stroke-linecap:round; stroke-linejoin:round; stroke-width:0; stroke-opacity:1; fill:none\" points=\"2076.71,965.553 1969.3,965.553 2184.12,965.553 2076.71,965.553 2076.71,927.246 \"/>\n",
       "<polyline clip-path=\"url(#clip462)\" style=\"stroke:#009af9; stroke-linecap:round; stroke-linejoin:round; stroke-width:0; stroke-opacity:1; fill:none\" points=\"2291.53,927.246 2291.53,915.241 1861.89,915.241 1861.89,927.246 2291.53,927.246 2291.53,915.241 \"/>\n",
       "<polyline clip-path=\"url(#clip462)\" style=\"stroke:#009af9; stroke-linecap:round; stroke-linejoin:round; stroke-width:0; stroke-opacity:1; fill:none\" points=\"2291.53,885.357 1861.89,885.357 1861.89,915.241 2291.53,915.241 2291.53,885.357 2076.71,885.357 \"/>\n",
       "<polyline clip-path=\"url(#clip462)\" style=\"stroke:#009af9; stroke-linecap:round; stroke-linejoin:round; stroke-width:0; stroke-opacity:1; fill:none\" points=\"2076.71,857.974 1969.3,857.974 2184.12,857.974 2076.71,857.974 2076.71,885.357 \"/>\n",
       "<path clip-path=\"url(#clip462)\" d=\"M465.542 936.061 L358.131 936.061 L572.954 936.061 L465.542 936.061 L465.542 921.573 L465.542 936.061  Z\" fill=\"#e26f46\" fill-rule=\"evenodd\" fill-opacity=\"0.5\"/>\n",
       "<polyline clip-path=\"url(#clip462)\" style=\"stroke:#000000; stroke-linecap:round; stroke-linejoin:round; stroke-width:8; stroke-opacity:1; fill:none\" points=\"465.542,936.061 358.131,936.061 572.954,936.061 465.542,936.061 465.542,921.573 465.542,936.061 \"/>\n",
       "<path clip-path=\"url(#clip462)\" d=\"M680.365 921.573 L680.365 910.039 L250.72 910.039 L250.72 921.573 L680.365 921.573 L680.365 910.039 L680.365 921.573  Z\" fill=\"#e26f46\" fill-rule=\"evenodd\" fill-opacity=\"0.5\"/>\n",
       "<polyline clip-path=\"url(#clip462)\" style=\"stroke:#000000; stroke-linecap:round; stroke-linejoin:round; stroke-width:8; stroke-opacity:1; fill:none\" points=\"680.365,921.573 680.365,910.039 250.72,910.039 250.72,921.573 680.365,921.573 680.365,910.039 680.365,921.573 \"/>\n",
       "<path clip-path=\"url(#clip462)\" d=\"M680.365 724.512 L250.72 724.512 L250.72 910.039 L680.365 910.039 L680.365 724.512 L465.542 724.512 L680.365 724.512  Z\" fill=\"#e26f46\" fill-rule=\"evenodd\" fill-opacity=\"0.5\"/>\n",
       "<polyline clip-path=\"url(#clip462)\" style=\"stroke:#000000; stroke-linecap:round; stroke-linejoin:round; stroke-width:8; stroke-opacity:1; fill:none\" points=\"680.365,724.512 250.72,724.512 250.72,910.039 680.365,910.039 680.365,724.512 465.542,724.512 680.365,724.512 \"/>\n",
       "<path clip-path=\"url(#clip462)\" d=\"M465.542 686.222 L358.131 686.222 L572.954 686.222 L465.542 686.222 L465.542 724.512 L465.542 686.222  Z\" fill=\"#e26f46\" fill-rule=\"evenodd\" fill-opacity=\"0.5\"/>\n",
       "<polyline clip-path=\"url(#clip462)\" style=\"stroke:#000000; stroke-linecap:round; stroke-linejoin:round; stroke-width:8; stroke-opacity:1; fill:none\" points=\"465.542,686.222 358.131,686.222 572.954,686.222 465.542,686.222 465.542,724.512 465.542,686.222 \"/>\n",
       "<path clip-path=\"url(#clip462)\" d=\"M1002.6 1163.47 L895.187 1163.47 L1110.01 1163.47 L1002.6 1163.47 L1002.6 1108.33 L1002.6 1163.47  Z\" fill=\"#e26f46\" fill-rule=\"evenodd\" fill-opacity=\"0.5\"/>\n",
       "<polyline clip-path=\"url(#clip462)\" style=\"stroke:#000000; stroke-linecap:round; stroke-linejoin:round; stroke-width:8; stroke-opacity:1; fill:none\" points=\"1002.6,1163.47 895.187,1163.47 1110.01,1163.47 1002.6,1163.47 1002.6,1108.33 1002.6,1163.47 \"/>\n",
       "<path clip-path=\"url(#clip462)\" d=\"M1217.42 1108.33 L1217.42 1021.78 L787.776 1021.78 L787.776 1108.33 L1217.42 1108.33 L1217.42 1021.78 L1217.42 1108.33  Z\" fill=\"#e26f46\" fill-rule=\"evenodd\" fill-opacity=\"0.5\"/>\n",
       "<polyline clip-path=\"url(#clip462)\" style=\"stroke:#000000; stroke-linecap:round; stroke-linejoin:round; stroke-width:8; stroke-opacity:1; fill:none\" points=\"1217.42,1108.33 1217.42,1021.78 787.776,1021.78 787.776,1108.33 1217.42,1108.33 1217.42,1021.78 1217.42,1108.33 \"/>\n",
       "<path clip-path=\"url(#clip462)\" d=\"M1217.42 1002.49 L787.776 1002.49 L787.776 1021.78 L1217.42 1021.78 L1217.42 1002.49 L1002.6 1002.49 L1217.42 1002.49  Z\" fill=\"#e26f46\" fill-rule=\"evenodd\" fill-opacity=\"0.5\"/>\n",
       "<polyline clip-path=\"url(#clip462)\" style=\"stroke:#000000; stroke-linecap:round; stroke-linejoin:round; stroke-width:8; stroke-opacity:1; fill:none\" points=\"1217.42,1002.49 787.776,1002.49 787.776,1021.78 1217.42,1021.78 1217.42,1002.49 1002.6,1002.49 1217.42,1002.49 \"/>\n",
       "<path clip-path=\"url(#clip462)\" d=\"M1002.6 970.997 L895.187 970.997 L1110.01 970.997 L1002.6 970.997 L1002.6 1002.49 L1002.6 970.997  Z\" fill=\"#e26f46\" fill-rule=\"evenodd\" fill-opacity=\"0.5\"/>\n",
       "<polyline clip-path=\"url(#clip462)\" style=\"stroke:#000000; stroke-linecap:round; stroke-linejoin:round; stroke-width:8; stroke-opacity:1; fill:none\" points=\"1002.6,970.997 895.187,970.997 1110.01,970.997 1002.6,970.997 1002.6,1002.49 1002.6,970.997 \"/>\n",
       "<path clip-path=\"url(#clip462)\" d=\"M1539.65 946.884 L1432.24 946.884 L1647.06 946.884 L1539.65 946.884 L1539.65 920.892 L1539.65 946.884  Z\" fill=\"#e26f46\" fill-rule=\"evenodd\" fill-opacity=\"0.5\"/>\n",
       "<polyline clip-path=\"url(#clip462)\" style=\"stroke:#000000; stroke-linecap:round; stroke-linejoin:round; stroke-width:8; stroke-opacity:1; fill:none\" points=\"1539.65,946.884 1432.24,946.884 1647.06,946.884 1539.65,946.884 1539.65,920.892 1539.65,946.884 \"/>\n",
       "<path clip-path=\"url(#clip462)\" d=\"M1754.48 920.892 L1754.48 899.885 L1324.83 899.885 L1324.83 920.892 L1754.48 920.892 L1754.48 899.885 L1754.48 920.892  Z\" fill=\"#e26f46\" fill-rule=\"evenodd\" fill-opacity=\"0.5\"/>\n",
       "<polyline clip-path=\"url(#clip462)\" style=\"stroke:#000000; stroke-linecap:round; stroke-linejoin:round; stroke-width:8; stroke-opacity:1; fill:none\" points=\"1754.48,920.892 1754.48,899.885 1324.83,899.885 1324.83,920.892 1754.48,920.892 1754.48,899.885 1754.48,920.892 \"/>\n",
       "<path clip-path=\"url(#clip462)\" d=\"M1754.48 894.186 L1324.83 894.186 L1324.83 899.885 L1754.48 899.885 L1754.48 894.186 L1539.65 894.186 L1754.48 894.186  Z\" fill=\"#e26f46\" fill-rule=\"evenodd\" fill-opacity=\"0.5\"/>\n",
       "<polyline clip-path=\"url(#clip462)\" style=\"stroke:#000000; stroke-linecap:round; stroke-linejoin:round; stroke-width:8; stroke-opacity:1; fill:none\" points=\"1754.48,894.186 1324.83,894.186 1324.83,899.885 1754.48,899.885 1754.48,894.186 1539.65,894.186 1754.48,894.186 \"/>\n",
       "<path clip-path=\"url(#clip462)\" d=\"M1539.65 894.186 L1432.24 894.186 L1647.06 894.186 L1539.65 894.186 L1539.65 894.186 L1539.65 894.186  Z\" fill=\"#e26f46\" fill-rule=\"evenodd\" fill-opacity=\"0.5\"/>\n",
       "<polyline clip-path=\"url(#clip462)\" style=\"stroke:#000000; stroke-linecap:round; stroke-linejoin:round; stroke-width:8; stroke-opacity:1; fill:none\" points=\"1539.65,894.186 1432.24,894.186 1647.06,894.186 1539.65,894.186 \"/>\n",
       "<path clip-path=\"url(#clip462)\" d=\"M2076.71 965.553 L1969.3 965.553 L2184.12 965.553 L2076.71 965.553 L2076.71 927.246 L2076.71 965.553  Z\" fill=\"#e26f46\" fill-rule=\"evenodd\" fill-opacity=\"0.5\"/>\n",
       "<polyline clip-path=\"url(#clip462)\" style=\"stroke:#000000; stroke-linecap:round; stroke-linejoin:round; stroke-width:8; stroke-opacity:1; fill:none\" points=\"2076.71,965.553 1969.3,965.553 2184.12,965.553 2076.71,965.553 2076.71,927.246 2076.71,965.553 \"/>\n",
       "<path clip-path=\"url(#clip462)\" d=\"M2291.53 927.246 L2291.53 915.241 L1861.89 915.241 L1861.89 927.246 L2291.53 927.246 L2291.53 915.241 L2291.53 927.246  Z\" fill=\"#e26f46\" fill-rule=\"evenodd\" fill-opacity=\"0.5\"/>\n",
       "<polyline clip-path=\"url(#clip462)\" style=\"stroke:#000000; stroke-linecap:round; stroke-linejoin:round; stroke-width:8; stroke-opacity:1; fill:none\" points=\"2291.53,927.246 2291.53,915.241 1861.89,915.241 1861.89,927.246 2291.53,927.246 2291.53,915.241 2291.53,927.246 \"/>\n",
       "<path clip-path=\"url(#clip462)\" d=\"M2291.53 885.357 L1861.89 885.357 L1861.89 915.241 L2291.53 915.241 L2291.53 885.357 L2076.71 885.357 L2291.53 885.357  Z\" fill=\"#e26f46\" fill-rule=\"evenodd\" fill-opacity=\"0.5\"/>\n",
       "<polyline clip-path=\"url(#clip462)\" style=\"stroke:#000000; stroke-linecap:round; stroke-linejoin:round; stroke-width:8; stroke-opacity:1; fill:none\" points=\"2291.53,885.357 1861.89,885.357 1861.89,915.241 2291.53,915.241 2291.53,885.357 2076.71,885.357 2291.53,885.357 \"/>\n",
       "<path clip-path=\"url(#clip462)\" d=\"M2076.71 857.974 L1969.3 857.974 L2184.12 857.974 L2076.71 857.974 L2076.71 885.357 L2076.71 857.974  Z\" fill=\"#e26f46\" fill-rule=\"evenodd\" fill-opacity=\"0.5\"/>\n",
       "<polyline clip-path=\"url(#clip462)\" style=\"stroke:#000000; stroke-linecap:round; stroke-linejoin:round; stroke-width:8; stroke-opacity:1; fill:none\" points=\"2076.71,857.974 1969.3,857.974 2184.12,857.974 2076.71,857.974 2076.71,885.357 2076.71,857.974 \"/>\n",
       "<circle clip-path=\"url(#clip462)\" cx=\"1539.65\" cy=\"857.974\" r=\"14.4\" fill=\"#e26f46\" fill-rule=\"evenodd\" fill-opacity=\"1\" stroke=\"#000000\" stroke-opacity=\"1\" stroke-width=\"3.2\"/>\n",
       "<circle clip-path=\"url(#clip462)\" cx=\"1539.65\" cy=\"857.974\" r=\"14.4\" fill=\"#e26f46\" fill-rule=\"evenodd\" fill-opacity=\"1\" stroke=\"#000000\" stroke-opacity=\"1\" stroke-width=\"3.2\"/>\n",
       "<polyline clip-path=\"url(#clip462)\" style=\"stroke:#e26f46; stroke-linecap:round; stroke-linejoin:round; stroke-width:0; stroke-opacity:1; fill:none\" points=\"465.542,936.061 358.131,936.061 572.954,936.061 465.542,936.061 465.542,921.573 \"/>\n",
       "<polyline clip-path=\"url(#clip462)\" style=\"stroke:#e26f46; stroke-linecap:round; stroke-linejoin:round; stroke-width:0; stroke-opacity:1; fill:none\" points=\"680.365,921.573 680.365,910.039 250.72,910.039 250.72,921.573 680.365,921.573 680.365,910.039 \"/>\n",
       "<polyline clip-path=\"url(#clip462)\" style=\"stroke:#e26f46; stroke-linecap:round; stroke-linejoin:round; stroke-width:0; stroke-opacity:1; fill:none\" points=\"680.365,724.512 250.72,724.512 250.72,910.039 680.365,910.039 680.365,724.512 465.542,724.512 \"/>\n",
       "<polyline clip-path=\"url(#clip462)\" style=\"stroke:#e26f46; stroke-linecap:round; stroke-linejoin:round; stroke-width:0; stroke-opacity:1; fill:none\" points=\"465.542,686.222 358.131,686.222 572.954,686.222 465.542,686.222 465.542,724.512 \"/>\n",
       "<polyline clip-path=\"url(#clip462)\" style=\"stroke:#e26f46; stroke-linecap:round; stroke-linejoin:round; stroke-width:0; stroke-opacity:1; fill:none\" points=\"1002.6,1163.47 895.187,1163.47 1110.01,1163.47 1002.6,1163.47 1002.6,1108.33 \"/>\n",
       "<polyline clip-path=\"url(#clip462)\" style=\"stroke:#e26f46; stroke-linecap:round; stroke-linejoin:round; stroke-width:0; stroke-opacity:1; fill:none\" points=\"1217.42,1108.33 1217.42,1021.78 787.776,1021.78 787.776,1108.33 1217.42,1108.33 1217.42,1021.78 \"/>\n",
       "<polyline clip-path=\"url(#clip462)\" style=\"stroke:#e26f46; stroke-linecap:round; stroke-linejoin:round; stroke-width:0; stroke-opacity:1; fill:none\" points=\"1217.42,1002.49 787.776,1002.49 787.776,1021.78 1217.42,1021.78 1217.42,1002.49 1002.6,1002.49 \"/>\n",
       "<polyline clip-path=\"url(#clip462)\" style=\"stroke:#e26f46; stroke-linecap:round; stroke-linejoin:round; stroke-width:0; stroke-opacity:1; fill:none\" points=\"1002.6,970.997 895.187,970.997 1110.01,970.997 1002.6,970.997 1002.6,1002.49 \"/>\n",
       "<polyline clip-path=\"url(#clip462)\" style=\"stroke:#e26f46; stroke-linecap:round; stroke-linejoin:round; stroke-width:0; stroke-opacity:1; fill:none\" points=\"1539.65,946.884 1432.24,946.884 1647.06,946.884 1539.65,946.884 1539.65,920.892 \"/>\n",
       "<polyline clip-path=\"url(#clip462)\" style=\"stroke:#e26f46; stroke-linecap:round; stroke-linejoin:round; stroke-width:0; stroke-opacity:1; fill:none\" points=\"1754.48,920.892 1754.48,899.885 1324.83,899.885 1324.83,920.892 1754.48,920.892 1754.48,899.885 \"/>\n",
       "<polyline clip-path=\"url(#clip462)\" style=\"stroke:#e26f46; stroke-linecap:round; stroke-linejoin:round; stroke-width:0; stroke-opacity:1; fill:none\" points=\"1754.48,894.186 1324.83,894.186 1324.83,899.885 1754.48,899.885 1754.48,894.186 1539.65,894.186 \"/>\n",
       "<polyline clip-path=\"url(#clip462)\" style=\"stroke:#e26f46; stroke-linecap:round; stroke-linejoin:round; stroke-width:0; stroke-opacity:1; fill:none\" points=\"1539.65,894.186 1432.24,894.186 1647.06,894.186 1539.65,894.186 \"/>\n",
       "<polyline clip-path=\"url(#clip462)\" style=\"stroke:#e26f46; stroke-linecap:round; stroke-linejoin:round; stroke-width:0; stroke-opacity:1; fill:none\" points=\"2076.71,965.553 1969.3,965.553 2184.12,965.553 2076.71,965.553 2076.71,927.246 \"/>\n",
       "<polyline clip-path=\"url(#clip462)\" style=\"stroke:#e26f46; stroke-linecap:round; stroke-linejoin:round; stroke-width:0; stroke-opacity:1; fill:none\" points=\"2291.53,927.246 2291.53,915.241 1861.89,915.241 1861.89,927.246 2291.53,927.246 2291.53,915.241 \"/>\n",
       "<polyline clip-path=\"url(#clip462)\" style=\"stroke:#e26f46; stroke-linecap:round; stroke-linejoin:round; stroke-width:0; stroke-opacity:1; fill:none\" points=\"2291.53,885.357 1861.89,885.357 1861.89,915.241 2291.53,915.241 2291.53,885.357 2076.71,885.357 \"/>\n",
       "<polyline clip-path=\"url(#clip462)\" style=\"stroke:#e26f46; stroke-linecap:round; stroke-linejoin:round; stroke-width:0; stroke-opacity:1; fill:none\" points=\"2076.71,857.974 1969.3,857.974 2184.12,857.974 2076.71,857.974 2076.71,885.357 \"/>\n",
       "<path clip-path=\"url(#clip460)\" d=\"M1602.22 250.738 L2280.65 250.738 L2280.65 95.2176 L1602.22 95.2176  Z\" fill=\"#ffffff\" fill-rule=\"evenodd\" fill-opacity=\"1\"/>\n",
       "<polyline clip-path=\"url(#clip460)\" style=\"stroke:#000000; stroke-linecap:round; stroke-linejoin:round; stroke-width:4; stroke-opacity:1; fill:none\" points=\"1602.22,250.738 2280.65,250.738 2280.65,95.2176 1602.22,95.2176 1602.22,250.738 \"/>\n",
       "<path clip-path=\"url(#clip460)\" d=\"M1626.25 167.794 L1770.47 167.794 L1770.47 126.322 L1626.25 126.322 L1626.25 167.794  Z\" fill=\"#009af9\" fill-rule=\"evenodd\" fill-opacity=\"0.5\"/>\n",
       "<polyline clip-path=\"url(#clip460)\" style=\"stroke:#000000; stroke-linecap:round; stroke-linejoin:round; stroke-width:8; stroke-opacity:1; fill:none\" points=\"1626.25,167.794 1770.47,167.794 1770.47,126.322 1626.25,126.322 1626.25,167.794 \"/>\n",
       "<path clip-path=\"url(#clip460)\" d=\"M1794.51 129.778 L1799.23 129.778 L1806.5 158.99 L1813.74 129.778 L1819 129.778 L1826.27 158.99 L1833.51 129.778 L1838.26 129.778 L1829.58 164.338 L1823.7 164.338 L1816.41 134.338 L1809.04 164.338 L1803.16 164.338 L1794.51 129.778 Z\" fill=\"#000000\" fill-rule=\"nonzero\" fill-opacity=\"1\" /><path clip-path=\"url(#clip460)\" d=\"M1843.23 138.412 L1847.49 138.412 L1847.49 164.338 L1843.23 164.338 L1843.23 138.412 M1843.23 128.319 L1847.49 128.319 L1847.49 133.713 L1843.23 133.713 L1843.23 128.319 Z\" fill=\"#000000\" fill-rule=\"nonzero\" fill-opacity=\"1\" /><path clip-path=\"url(#clip460)\" d=\"M1860.62 131.051 L1860.62 138.412 L1869.39 138.412 L1869.39 141.722 L1860.62 141.722 L1860.62 155.796 Q1860.62 158.967 1861.47 159.87 Q1862.35 160.773 1865.02 160.773 L1869.39 160.773 L1869.39 164.338 L1865.02 164.338 Q1860.09 164.338 1858.21 162.509 Q1856.34 160.657 1856.34 155.796 L1856.34 141.722 L1853.21 141.722 L1853.21 138.412 L1856.34 138.412 L1856.34 131.051 L1860.62 131.051 Z\" fill=\"#000000\" fill-rule=\"nonzero\" fill-opacity=\"1\" /><path clip-path=\"url(#clip460)\" d=\"M1896.54 148.689 L1896.54 164.338 L1892.28 164.338 L1892.28 148.828 Q1892.28 145.148 1890.85 143.319 Q1889.41 141.49 1886.54 141.49 Q1883.09 141.49 1881.1 143.69 Q1879.11 145.889 1879.11 149.685 L1879.11 164.338 L1874.83 164.338 L1874.83 128.319 L1879.11 128.319 L1879.11 142.44 Q1880.64 140.102 1882.7 138.944 Q1884.78 137.787 1887.49 137.787 Q1891.96 137.787 1894.25 140.565 Q1896.54 143.319 1896.54 148.689 Z\" fill=\"#000000\" fill-rule=\"nonzero\" fill-opacity=\"1\" /><path clip-path=\"url(#clip460)\" d=\"M1946.17 132.44 L1946.17 137.37 Q1943.81 135.171 1941.13 134.083 Q1938.46 132.995 1935.46 132.995 Q1929.53 132.995 1926.38 136.629 Q1923.23 140.24 1923.23 147.092 Q1923.23 153.921 1926.38 157.555 Q1929.53 161.166 1935.46 161.166 Q1938.46 161.166 1941.13 160.078 Q1943.81 158.99 1946.17 156.791 L1946.17 161.676 Q1943.72 163.342 1940.96 164.176 Q1938.23 165.009 1935.18 165.009 Q1927.33 165.009 1922.82 160.217 Q1918.3 155.402 1918.3 147.092 Q1918.3 138.759 1922.82 133.967 Q1927.33 129.153 1935.18 129.153 Q1938.28 129.153 1941.01 129.986 Q1943.77 130.796 1946.17 132.44 Z\" fill=\"#000000\" fill-rule=\"nonzero\" fill-opacity=\"1\" /><path clip-path=\"url(#clip460)\" d=\"M1964 166.745 Q1962.19 171.375 1960.48 172.787 Q1958.77 174.199 1955.9 174.199 L1952.49 174.199 L1952.49 170.634 L1954.99 170.634 Q1956.75 170.634 1957.72 169.8 Q1958.7 168.967 1959.88 165.865 L1960.64 163.921 L1950.15 138.412 L1954.67 138.412 L1962.77 158.689 L1970.87 138.412 L1975.39 138.412 L1964 166.745 Z\" fill=\"#000000\" fill-rule=\"nonzero\" fill-opacity=\"1\" /><path clip-path=\"url(#clip460)\" d=\"M1999.92 139.407 L1999.92 143.389 Q1998.12 142.393 1996.29 141.907 Q1994.48 141.398 1992.63 141.398 Q1988.49 141.398 1986.2 144.037 Q1983.9 146.652 1983.9 151.398 Q1983.9 156.143 1986.2 158.782 Q1988.49 161.398 1992.63 161.398 Q1994.48 161.398 1996.29 160.912 Q1998.12 160.402 1999.92 159.407 L1999.92 163.342 Q1998.14 164.176 1996.22 164.592 Q1994.32 165.009 1992.17 165.009 Q1986.31 165.009 1982.86 161.328 Q1979.41 157.648 1979.41 151.398 Q1979.41 145.055 1982.89 141.421 Q1986.38 137.787 1992.45 137.787 Q1994.41 137.787 1996.29 138.203 Q1998.16 138.597 1999.92 139.407 Z\" fill=\"#000000\" fill-rule=\"nonzero\" fill-opacity=\"1\" /><path clip-path=\"url(#clip460)\" d=\"M2007.33 128.319 L2011.59 128.319 L2011.59 164.338 L2007.33 164.338 L2007.33 128.319 Z\" fill=\"#000000\" fill-rule=\"nonzero\" fill-opacity=\"1\" /><path clip-path=\"url(#clip460)\" d=\"M2042.68 150.31 L2042.68 152.393 L2023.09 152.393 Q2023.37 156.791 2025.73 159.106 Q2028.12 161.398 2032.35 161.398 Q2034.81 161.398 2037.1 160.796 Q2039.41 160.194 2041.68 158.99 L2041.68 163.018 Q2039.39 163.99 2036.98 164.5 Q2034.58 165.009 2032.1 165.009 Q2025.89 165.009 2022.26 161.398 Q2018.65 157.787 2018.65 151.629 Q2018.65 145.264 2022.08 141.537 Q2025.52 137.787 2031.36 137.787 Q2036.59 137.787 2039.62 141.166 Q2042.68 144.523 2042.68 150.31 M2038.42 149.06 Q2038.37 145.565 2036.45 143.481 Q2034.55 141.398 2031.4 141.398 Q2027.84 141.398 2025.69 143.412 Q2023.56 145.426 2023.23 149.083 L2038.42 149.06 Z\" fill=\"#000000\" fill-rule=\"nonzero\" fill-opacity=\"1\" /><path clip-path=\"url(#clip460)\" d=\"M2085.64 130.912 L2085.64 135.472 Q2082.98 134.199 2080.62 133.574 Q2078.26 132.949 2076.06 132.949 Q2072.24 132.949 2070.15 134.43 Q2068.09 135.912 2068.09 138.643 Q2068.09 140.935 2069.46 142.115 Q2070.85 143.273 2074.69 143.99 L2077.51 144.569 Q2082.75 145.565 2085.22 148.088 Q2087.72 150.588 2087.72 154.801 Q2087.72 159.824 2084.34 162.416 Q2080.99 165.009 2074.48 165.009 Q2072.03 165.009 2069.25 164.453 Q2066.5 163.898 2063.53 162.81 L2063.53 157.995 Q2066.38 159.592 2069.11 160.402 Q2071.84 161.213 2074.48 161.213 Q2078.49 161.213 2080.66 159.639 Q2082.84 158.064 2082.84 155.148 Q2082.84 152.602 2081.26 151.166 Q2079.71 149.731 2076.15 149.014 L2073.3 148.458 Q2068.07 147.416 2065.73 145.194 Q2063.39 142.972 2063.39 139.014 Q2063.39 134.43 2066.61 131.791 Q2069.85 129.153 2075.52 129.153 Q2077.95 129.153 2080.48 129.592 Q2083 130.032 2085.64 130.912 Z\" fill=\"#000000\" fill-rule=\"nonzero\" fill-opacity=\"1\" /><path clip-path=\"url(#clip460)\" d=\"M2099.04 131.051 L2099.04 138.412 L2107.82 138.412 L2107.82 141.722 L2099.04 141.722 L2099.04 155.796 Q2099.04 158.967 2099.9 159.87 Q2100.78 160.773 2103.44 160.773 L2107.82 160.773 L2107.82 164.338 L2103.44 164.338 Q2098.51 164.338 2096.64 162.509 Q2094.76 160.657 2094.76 155.796 L2094.76 141.722 L2091.64 141.722 L2091.64 138.412 L2094.76 138.412 L2094.76 131.051 L2099.04 131.051 Z\" fill=\"#000000\" fill-rule=\"nonzero\" fill-opacity=\"1\" /><path clip-path=\"url(#clip460)\" d=\"M2125.2 151.305 Q2120.04 151.305 2118.05 152.486 Q2116.06 153.666 2116.06 156.514 Q2116.06 158.782 2117.54 160.125 Q2119.04 161.444 2121.61 161.444 Q2125.15 161.444 2127.28 158.944 Q2129.44 156.421 2129.44 152.254 L2129.44 151.305 L2125.2 151.305 M2133.7 149.546 L2133.7 164.338 L2129.44 164.338 L2129.44 160.402 Q2127.98 162.763 2125.8 163.898 Q2123.63 165.009 2120.48 165.009 Q2116.5 165.009 2114.13 162.787 Q2111.8 160.541 2111.8 156.791 Q2111.8 152.416 2114.71 150.194 Q2117.65 147.972 2123.46 147.972 L2129.44 147.972 L2129.44 147.555 Q2129.44 144.615 2127.49 143.018 Q2125.57 141.398 2122.07 141.398 Q2119.85 141.398 2117.75 141.93 Q2115.64 142.463 2113.7 143.527 L2113.7 139.592 Q2116.03 138.69 2118.23 138.25 Q2120.43 137.787 2122.51 137.787 Q2128.14 137.787 2130.92 140.703 Q2133.7 143.62 2133.7 149.546 Z\" fill=\"#000000\" fill-rule=\"nonzero\" fill-opacity=\"1\" /><path clip-path=\"url(#clip460)\" d=\"M2146.68 131.051 L2146.68 138.412 L2155.45 138.412 L2155.45 141.722 L2146.68 141.722 L2146.68 155.796 Q2146.68 158.967 2147.54 159.87 Q2148.42 160.773 2151.08 160.773 L2155.45 160.773 L2155.45 164.338 L2151.08 164.338 Q2146.15 164.338 2144.27 162.509 Q2142.4 160.657 2142.4 155.796 L2142.4 141.722 L2139.27 141.722 L2139.27 138.412 L2142.4 138.412 L2142.4 131.051 L2146.68 131.051 Z\" fill=\"#000000\" fill-rule=\"nonzero\" fill-opacity=\"1\" /><path clip-path=\"url(#clip460)\" d=\"M2177.58 139.176 L2177.58 143.203 Q2175.78 142.277 2173.83 141.815 Q2171.89 141.352 2169.81 141.352 Q2166.63 141.352 2165.04 142.324 Q2163.46 143.296 2163.46 145.24 Q2163.46 146.722 2164.6 147.578 Q2165.73 148.412 2169.16 149.176 L2170.62 149.5 Q2175.15 150.472 2177.05 152.254 Q2178.97 154.014 2178.97 157.185 Q2178.97 160.796 2176.1 162.902 Q2173.25 165.009 2168.26 165.009 Q2166.17 165.009 2163.9 164.592 Q2161.66 164.199 2159.16 163.388 L2159.16 158.99 Q2161.52 160.217 2163.81 160.842 Q2166.1 161.444 2168.35 161.444 Q2171.36 161.444 2172.98 160.426 Q2174.6 159.384 2174.6 157.509 Q2174.6 155.773 2173.42 154.847 Q2172.26 153.921 2168.3 153.064 L2166.82 152.717 Q2162.86 151.884 2161.1 150.171 Q2159.34 148.435 2159.34 145.426 Q2159.34 141.768 2161.94 139.778 Q2164.53 137.787 2169.3 137.787 Q2171.66 137.787 2173.74 138.134 Q2175.82 138.481 2177.58 139.176 Z\" fill=\"#000000\" fill-rule=\"nonzero\" fill-opacity=\"1\" /><path clip-path=\"url(#clip460)\" d=\"M1626.25 219.634 L1770.47 219.634 L1770.47 178.162 L1626.25 178.162 L1626.25 219.634  Z\" fill=\"#e26f46\" fill-rule=\"evenodd\" fill-opacity=\"0.5\"/>\n",
       "<polyline clip-path=\"url(#clip460)\" style=\"stroke:#000000; stroke-linecap:round; stroke-linejoin:round; stroke-width:8; stroke-opacity:1; fill:none\" points=\"1626.25,219.634 1770.47,219.634 1770.47,178.162 1626.25,178.162 1626.25,219.634 \"/>\n",
       "<path clip-path=\"url(#clip460)\" d=\"M1794.51 181.618 L1799.23 181.618 L1806.5 210.83 L1813.74 181.618 L1819 181.618 L1826.27 210.83 L1833.51 181.618 L1838.26 181.618 L1829.58 216.178 L1823.7 216.178 L1816.41 186.178 L1809.04 216.178 L1803.16 216.178 L1794.51 181.618 Z\" fill=\"#000000\" fill-rule=\"nonzero\" fill-opacity=\"1\" /><path clip-path=\"url(#clip460)\" d=\"M1843.23 190.252 L1847.49 190.252 L1847.49 216.178 L1843.23 216.178 L1843.23 190.252 M1843.23 180.159 L1847.49 180.159 L1847.49 185.553 L1843.23 185.553 L1843.23 180.159 Z\" fill=\"#000000\" fill-rule=\"nonzero\" fill-opacity=\"1\" /><path clip-path=\"url(#clip460)\" d=\"M1860.62 182.891 L1860.62 190.252 L1869.39 190.252 L1869.39 193.562 L1860.62 193.562 L1860.62 207.636 Q1860.62 210.807 1861.47 211.71 Q1862.35 212.613 1865.02 212.613 L1869.39 212.613 L1869.39 216.178 L1865.02 216.178 Q1860.09 216.178 1858.21 214.349 Q1856.34 212.497 1856.34 207.636 L1856.34 193.562 L1853.21 193.562 L1853.21 190.252 L1856.34 190.252 L1856.34 182.891 L1860.62 182.891 Z\" fill=\"#000000\" fill-rule=\"nonzero\" fill-opacity=\"1\" /><path clip-path=\"url(#clip460)\" d=\"M1896.54 200.529 L1896.54 216.178 L1892.28 216.178 L1892.28 200.668 Q1892.28 196.988 1890.85 195.159 Q1889.41 193.33 1886.54 193.33 Q1883.09 193.33 1881.1 195.53 Q1879.11 197.729 1879.11 201.525 L1879.11 216.178 L1874.83 216.178 L1874.83 180.159 L1879.11 180.159 L1879.11 194.28 Q1880.64 191.942 1882.7 190.784 Q1884.78 189.627 1887.49 189.627 Q1891.96 189.627 1894.25 192.405 Q1896.54 195.159 1896.54 200.529 Z\" fill=\"#000000\" fill-rule=\"nonzero\" fill-opacity=\"1\" /><path clip-path=\"url(#clip460)\" d=\"M1915.09 193.238 Q1911.66 193.238 1909.67 195.923 Q1907.68 198.585 1907.68 203.238 Q1907.68 207.891 1909.65 210.576 Q1911.64 213.238 1915.09 213.238 Q1918.49 213.238 1920.48 210.553 Q1922.47 207.867 1922.47 203.238 Q1922.47 198.631 1920.48 195.946 Q1918.49 193.238 1915.09 193.238 M1915.09 189.627 Q1920.64 189.627 1923.81 193.238 Q1926.98 196.849 1926.98 203.238 Q1926.98 209.604 1923.81 213.238 Q1920.64 216.849 1915.09 216.849 Q1909.51 216.849 1906.34 213.238 Q1903.19 209.604 1903.19 203.238 Q1903.19 196.849 1906.34 193.238 Q1909.51 189.627 1915.09 189.627 Z\" fill=\"#000000\" fill-rule=\"nonzero\" fill-opacity=\"1\" /><path clip-path=\"url(#clip460)\" d=\"M1933.6 205.946 L1933.6 190.252 L1937.86 190.252 L1937.86 205.784 Q1937.86 209.465 1939.3 211.316 Q1940.73 213.145 1943.6 213.145 Q1947.05 213.145 1949.04 210.946 Q1951.06 208.747 1951.06 204.951 L1951.06 190.252 L1955.32 190.252 L1955.32 216.178 L1951.06 216.178 L1951.06 212.196 Q1949.51 214.557 1947.45 215.715 Q1945.41 216.849 1942.7 216.849 Q1938.23 216.849 1935.92 214.071 Q1933.6 211.293 1933.6 205.946 M1944.32 189.627 L1944.32 189.627 Z\" fill=\"#000000\" fill-rule=\"nonzero\" fill-opacity=\"1\" /><path clip-path=\"url(#clip460)\" d=\"M1968.3 182.891 L1968.3 190.252 L1977.08 190.252 L1977.08 193.562 L1968.3 193.562 L1968.3 207.636 Q1968.3 210.807 1969.16 211.71 Q1970.04 212.613 1972.7 212.613 L1977.08 212.613 L1977.08 216.178 L1972.7 216.178 Q1967.77 216.178 1965.89 214.349 Q1964.02 212.497 1964.02 207.636 L1964.02 193.562 L1960.9 193.562 L1960.9 190.252 L1964.02 190.252 L1964.02 182.891 L1968.3 182.891 Z\" fill=\"#000000\" fill-rule=\"nonzero\" fill-opacity=\"1\" /><path clip-path=\"url(#clip460)\" d=\"M2023.81 184.28 L2023.81 189.21 Q2021.45 187.011 2018.77 185.923 Q2016.1 184.835 2013.09 184.835 Q2007.17 184.835 2004.02 188.469 Q2000.87 192.08 2000.87 198.932 Q2000.87 205.761 2004.02 209.395 Q2007.17 213.006 2013.09 213.006 Q2016.1 213.006 2018.77 211.918 Q2021.45 210.83 2023.81 208.631 L2023.81 213.516 Q2021.36 215.182 2018.6 216.016 Q2015.87 216.849 2012.82 216.849 Q2004.97 216.849 2000.45 212.057 Q1995.94 207.242 1995.94 198.932 Q1995.94 190.599 2000.45 185.807 Q2004.97 180.993 2012.82 180.993 Q2015.92 180.993 2018.65 181.826 Q2021.4 182.636 2023.81 184.28 Z\" fill=\"#000000\" fill-rule=\"nonzero\" fill-opacity=\"1\" /><path clip-path=\"url(#clip460)\" d=\"M2041.64 218.585 Q2039.83 223.215 2038.12 224.627 Q2036.4 226.039 2033.53 226.039 L2030.13 226.039 L2030.13 222.474 L2032.63 222.474 Q2034.39 222.474 2035.36 221.64 Q2036.33 220.807 2037.51 217.705 L2038.28 215.761 L2027.79 190.252 L2032.31 190.252 L2040.41 210.529 L2048.51 190.252 L2053.02 190.252 L2041.64 218.585 Z\" fill=\"#000000\" fill-rule=\"nonzero\" fill-opacity=\"1\" /><path clip-path=\"url(#clip460)\" d=\"M2077.56 191.247 L2077.56 195.229 Q2075.76 194.233 2073.93 193.747 Q2072.12 193.238 2070.27 193.238 Q2066.13 193.238 2063.83 195.877 Q2061.54 198.492 2061.54 203.238 Q2061.54 207.983 2063.83 210.622 Q2066.13 213.238 2070.27 213.238 Q2072.12 213.238 2073.93 212.752 Q2075.76 212.242 2077.56 211.247 L2077.56 215.182 Q2075.78 216.016 2073.86 216.432 Q2071.96 216.849 2069.81 216.849 Q2063.95 216.849 2060.5 213.168 Q2057.05 209.488 2057.05 203.238 Q2057.05 196.895 2060.52 193.261 Q2064.02 189.627 2070.08 189.627 Q2072.05 189.627 2073.93 190.043 Q2075.8 190.437 2077.56 191.247 Z\" fill=\"#000000\" fill-rule=\"nonzero\" fill-opacity=\"1\" /><path clip-path=\"url(#clip460)\" d=\"M2084.97 180.159 L2089.23 180.159 L2089.23 216.178 L2084.97 216.178 L2084.97 180.159 Z\" fill=\"#000000\" fill-rule=\"nonzero\" fill-opacity=\"1\" /><path clip-path=\"url(#clip460)\" d=\"M2120.32 202.15 L2120.32 204.233 L2100.73 204.233 Q2101.01 208.631 2103.37 210.946 Q2105.76 213.238 2109.99 213.238 Q2112.45 213.238 2114.74 212.636 Q2117.05 212.034 2119.32 210.83 L2119.32 214.858 Q2117.03 215.83 2114.62 216.34 Q2112.21 216.849 2109.74 216.849 Q2103.53 216.849 2099.9 213.238 Q2096.29 209.627 2096.29 203.469 Q2096.29 197.104 2099.71 193.377 Q2103.16 189.627 2109 189.627 Q2114.23 189.627 2117.26 193.006 Q2120.32 196.363 2120.32 202.15 M2116.06 200.9 Q2116.01 197.405 2114.09 195.321 Q2112.19 193.238 2109.04 193.238 Q2105.48 193.238 2103.32 195.252 Q2101.2 197.266 2100.87 200.923 L2116.06 200.9 Z\" fill=\"#000000\" fill-rule=\"nonzero\" fill-opacity=\"1\" /><path clip-path=\"url(#clip460)\" d=\"M2163.28 182.752 L2163.28 187.312 Q2160.62 186.039 2158.26 185.414 Q2155.89 184.789 2153.69 184.789 Q2149.88 184.789 2147.79 186.27 Q2145.73 187.752 2145.73 190.483 Q2145.73 192.775 2147.1 193.955 Q2148.49 195.113 2152.33 195.83 L2155.15 196.409 Q2160.38 197.405 2162.86 199.928 Q2165.36 202.428 2165.36 206.641 Q2165.36 211.664 2161.98 214.256 Q2158.63 216.849 2152.12 216.849 Q2149.67 216.849 2146.89 216.293 Q2144.13 215.738 2141.17 214.65 L2141.17 209.835 Q2144.02 211.432 2146.75 212.242 Q2149.48 213.053 2152.12 213.053 Q2156.13 213.053 2158.3 211.479 Q2160.48 209.904 2160.48 206.988 Q2160.48 204.442 2158.9 203.006 Q2157.35 201.571 2153.79 200.854 L2150.94 200.298 Q2145.71 199.256 2143.37 197.034 Q2141.03 194.812 2141.03 190.854 Q2141.03 186.27 2144.25 183.631 Q2147.49 180.993 2153.16 180.993 Q2155.59 180.993 2158.12 181.432 Q2160.64 181.872 2163.28 182.752 Z\" fill=\"#000000\" fill-rule=\"nonzero\" fill-opacity=\"1\" /><path clip-path=\"url(#clip460)\" d=\"M2176.68 182.891 L2176.68 190.252 L2185.45 190.252 L2185.45 193.562 L2176.68 193.562 L2176.68 207.636 Q2176.68 210.807 2177.54 211.71 Q2178.42 212.613 2181.08 212.613 L2185.45 212.613 L2185.45 216.178 L2181.08 216.178 Q2176.15 216.178 2174.27 214.349 Q2172.4 212.497 2172.4 207.636 L2172.4 193.562 L2169.27 193.562 L2169.27 190.252 L2172.4 190.252 L2172.4 182.891 L2176.68 182.891 Z\" fill=\"#000000\" fill-rule=\"nonzero\" fill-opacity=\"1\" /><path clip-path=\"url(#clip460)\" d=\"M2202.84 203.145 Q2197.68 203.145 2195.69 204.326 Q2193.69 205.506 2193.69 208.354 Q2193.69 210.622 2195.18 211.965 Q2196.68 213.284 2199.25 213.284 Q2202.79 213.284 2204.92 210.784 Q2207.07 208.261 2207.07 204.094 L2207.07 203.145 L2202.84 203.145 M2211.33 201.386 L2211.33 216.178 L2207.07 216.178 L2207.07 212.242 Q2205.62 214.603 2203.44 215.738 Q2201.26 216.849 2198.12 216.849 Q2194.13 216.849 2191.77 214.627 Q2189.44 212.381 2189.44 208.631 Q2189.44 204.256 2192.35 202.034 Q2195.29 199.812 2201.1 199.812 L2207.07 199.812 L2207.07 199.395 Q2207.07 196.455 2205.13 194.858 Q2203.21 193.238 2199.71 193.238 Q2197.49 193.238 2195.38 193.77 Q2193.28 194.303 2191.33 195.367 L2191.33 191.432 Q2193.67 190.53 2195.87 190.09 Q2198.07 189.627 2200.15 189.627 Q2205.78 189.627 2208.56 192.543 Q2211.33 195.46 2211.33 201.386 Z\" fill=\"#000000\" fill-rule=\"nonzero\" fill-opacity=\"1\" /><path clip-path=\"url(#clip460)\" d=\"M2224.32 182.891 L2224.32 190.252 L2233.09 190.252 L2233.09 193.562 L2224.32 193.562 L2224.32 207.636 Q2224.32 210.807 2225.18 211.71 Q2226.06 212.613 2228.72 212.613 L2233.09 212.613 L2233.09 216.178 L2228.72 216.178 Q2223.79 216.178 2221.91 214.349 Q2220.04 212.497 2220.04 207.636 L2220.04 193.562 L2216.91 193.562 L2216.91 190.252 L2220.04 190.252 L2220.04 182.891 L2224.32 182.891 Z\" fill=\"#000000\" fill-rule=\"nonzero\" fill-opacity=\"1\" /><path clip-path=\"url(#clip460)\" d=\"M2255.22 191.016 L2255.22 195.043 Q2253.42 194.117 2251.47 193.655 Q2249.53 193.192 2247.44 193.192 Q2244.27 193.192 2242.68 194.164 Q2241.1 195.136 2241.1 197.08 Q2241.1 198.562 2242.24 199.418 Q2243.37 200.252 2246.8 201.016 L2248.25 201.34 Q2252.79 202.312 2254.69 204.094 Q2256.61 205.854 2256.61 209.025 Q2256.61 212.636 2253.74 214.742 Q2250.89 216.849 2245.89 216.849 Q2243.81 216.849 2241.54 216.432 Q2239.3 216.039 2236.8 215.228 L2236.8 210.83 Q2239.16 212.057 2241.45 212.682 Q2243.74 213.284 2245.99 213.284 Q2249 213.284 2250.62 212.266 Q2252.24 211.224 2252.24 209.349 Q2252.24 207.613 2251.06 206.687 Q2249.9 205.761 2245.94 204.904 L2244.46 204.557 Q2240.5 203.724 2238.74 202.011 Q2236.98 200.275 2236.98 197.266 Q2236.98 193.608 2239.57 191.618 Q2242.17 189.627 2246.94 189.627 Q2249.3 189.627 2251.38 189.974 Q2253.46 190.321 2255.22 191.016 Z\" fill=\"#000000\" fill-rule=\"nonzero\" fill-opacity=\"1\" /></svg>\n"
      ]
     },
     "metadata": {},
     "output_type": "display_data"
    }
   ],
   "source": [
    "StatsPlots.boxplot(human_query_type, [x[2] for x in human_relative_errors_with_stats],  yscale=:log10, fillalpha=0.5, linewidth=2, label=\"With Cycle Stats\", ylims=[10^-4, 10^7], yticks=[10^-4,10^-2, 1, 10^2, 10^4, 10^6])\n",
    "StatsPlots.boxplot!(human_query_type, [x[2] for x in human_relative_errors],  yscale=:log10, fillalpha=0.5, linewidth=2, label=\"Without Cycle Stats\")"
   ]
  },
  {
   "cell_type": "code",
   "execution_count": 13,
   "metadata": {},
   "outputs": [
    {
     "name": "stdout",
     "output_type": "stream",
     "text": [
      "Summary Size: nothing\n",
      "Summary Build Time: 94.84607166\n"
     ]
    },
    {
     "name": "stdout",
     "output_type": "stream",
     "text": [
      "Query: /home/kylebd99/Cardinality-with-Colors/queryset/aids/Chain_3/uf_Q_0_2.txt\n",
      "Query: "
     ]
    },
    {
     "name": "stdout",
     "output_type": "stream",
     "text": [
      "/home/kylebd99/Cardinality-with-Colors/queryset/aids/Chain_3/uf_Q_1_1.txt\n",
      "Query: /home/kylebd99/Cardinality-with-Colors/queryset/aids/Chain_3/uf_Q_1_2.txt\n",
      "Query: /home/kylebd99/Cardinality-with-Colors/queryset/aids/Chain_3/uf_Q_1_3.txt\n",
      "Query: /home/kylebd99/Cardinality-with-Colors/queryset/aids/Chain_3/uf_Q_1_4.txt\n",
      "Query: /home/kylebd99/Cardinality-with-Colors/queryset/aids/Chain_3/uf_Q_1_5.txt\n",
      "Query: /home/kylebd99/Cardinality-with-Colors/queryset/aids/Chain_3/uf_Q_2_1.txt\n",
      "Query: /home/kylebd99/Cardinality-with-Colors/queryset/aids/Chain_3/uf_Q_2_10.txt\n",
      "Query: /home/kylebd99/Cardinality-with-Colors/queryset/aids/Chain_3/uf_Q_2_11.txt\n",
      "Query: /home/kylebd99/Cardinality-with-Colors/queryset/aids/Chain_3/uf_Q_2_12.txt\n",
      "Query: /home/kylebd99/Cardinality-with-Colors/queryset/aids/Chain_3/uf_Q_2_13.txt\n",
      "Query: /home/kylebd99/Cardinality-with-Colors/queryset/aids/Chain_3/uf_Q_2_14.txt\n",
      "Query: /home/kylebd99/Cardinality-with-Colors/queryset/aids/Chain_3/uf_Q_2_15.txt\n",
      "Query: /home/kylebd99/Cardinality-with-Colors/queryset/aids/Chain_3/uf_Q_2_2.txt\n",
      "Query: /home/kylebd99/Cardinality-with-Colors/queryset/aids/Chain_3/uf_Q_2_3.txt\n",
      "Query: /home/kylebd99/Cardinality-with-Colors/queryset/aids/Chain_3/uf_Q_2_4.txt\n",
      "Query: /home/kylebd99/Cardinality-with-Colors/queryset/aids/Chain_3/uf_Q_2_5.txt\n",
      "Query: /home/kylebd99/Cardinality-with-Colors/queryset/aids/Chain_3/uf_Q_2_6.txt\n",
      "Query: /home/kylebd99/Cardinality-with-Colors/queryset/aids/Chain_3/uf_Q_2_7.txt\n",
      "Query: /home/kylebd99/Cardinality-with-Colors/queryset/aids/Chain_3/uf_Q_2_8.txt\n",
      "Query: /home/kylebd99/Cardinality-with-Colors/queryset/aids/Chain_3/uf_Q_2_9.txt\n",
      "Query: /home/kylebd99/Cardinality-with-Colors/queryset/aids/Chain_3/uf_Q_3_1.txt\n",
      "Query: /home/kylebd99/Cardinality-with-Colors/queryset/aids/Chain_3/uf_Q_3_10.txt\n",
      "Query: /home/kylebd99/Cardinality-with-Colors/queryset/aids/Chain_3/uf_Q_3_11.txt\n",
      "Query: /home/kylebd99/Cardinality-with-Colors/queryset/aids/Chain_3/uf_Q_3_12.txt\n",
      "Query: /home/kylebd99/Cardinality-with-Colors/queryset/aids/Chain_3/uf_Q_3_2.txt\n",
      "Query: /home/kylebd99/Cardinality-with-Colors/queryset/aids/Chain_3/uf_Q_3_3.txt\n",
      "Query: /home/kylebd99/Cardinality-with-Colors/queryset/aids/Chain_3/uf_Q_3_4.txt\n",
      "Query: /home/kylebd99/Cardinality-with-Colors/queryset/aids/Chain_3/uf_Q_3_5.txt\n",
      "Query: /home/kylebd99/Cardinality-with-Colors/queryset/aids/Chain_3/uf_Q_3_6.txt\n",
      "Query: /home/kylebd99/Cardinality-with-Colors/queryset/aids/Chain_3/uf_Q_3_7.txt\n",
      "Query: /home/kylebd99/Cardinality-with-Colors/queryset/aids/Chain_3/uf_Q_3_8.txt\n",
      "Query: /home/kylebd99/Cardinality-with-Colors/queryset/aids/Chain_3/uf_Q_3_9.txt\n",
      "Query: /home/kylebd99/Cardinality-with-Colors/queryset/aids/Chain_3/uf_Q_4_1.txt\n",
      "Query: /home/kylebd99/Cardinality-with-Colors/queryset/aids/Chain_3/uf_Q_4_10.txt\n",
      "Query: /home/kylebd99/Cardinality-with-Colors/queryset/aids/Chain_3/uf_Q_4_11.txt\n",
      "Query: /home/kylebd99/Cardinality-with-Colors/queryset/aids/Chain_3/uf_Q_4_12.txt\n",
      "Query: /home/kylebd99/Cardinality-with-Colors/queryset/aids/Chain_3/uf_Q_4_13.txt\n",
      "Query: /home/kylebd99/Cardinality-with-Colors/queryset/aids/Chain_3/uf_Q_4_14.txt\n",
      "Query: /home/kylebd99/Cardinality-with-Colors/queryset/aids/Chain_3/uf_Q_4_15.txt\n",
      "Query: /home/kylebd99/Cardinality-with-Colors/queryset/aids/Chain_3/uf_Q_4_16.txt\n",
      "Query: /home/kylebd99/Cardinality-with-Colors/queryset/aids/Chain_3/uf_Q_4_17.txt\n",
      "Query: /home/kylebd99/Cardinality-with-Colors/queryset/aids/Chain_3/uf_Q_4_18.txt\n",
      "Query: /home/kylebd99/Cardinality-with-Colors/queryset/aids/Chain_3/uf_Q_4_19.txt\n",
      "Query: /home/kylebd99/Cardinality-with-Colors/queryset/aids/Chain_3/uf_Q_4_2.txt\n",
      "Query: /home/kylebd99/Cardinality-with-Colors/queryset/aids/Chain_3/uf_Q_4_20.txt\n",
      "Query: /home/kylebd99/Cardinality-with-Colors/queryset/aids/Chain_3/uf_Q_4_3.txt\n",
      "Query: /home/kylebd99/Cardinality-with-Colors/queryset/aids/Chain_3/uf_Q_4_4.txt\n",
      "Query: /home/kylebd99/Cardinality-with-Colors/queryset/aids/Chain_3/uf_Q_4_5.txt\n",
      "Query: /home/kylebd99/Cardinality-with-Colors/queryset/aids/Chain_3/uf_Q_4_6.txt\n",
      "Query: /home/kylebd99/Cardinality-with-Colors/queryset/aids/Chain_3/uf_Q_4_7.txt\n",
      "Query: /home/kylebd99/Cardinality-with-Colors/queryset/aids/Chain_3/uf_Q_4_8.txt\n",
      "Query: /home/kylebd99/Cardinality-with-Colors/queryset/aids/Chain_3/uf_Q_4_9.txt\n",
      "Query: /home/kylebd99/Cardinality-with-Colors/queryset/aids/Chain_3/uf_Q_5_1.txt\n",
      "Query: /home/kylebd99/Cardinality-with-Colors/queryset/aids/Chain_3/uf_Q_5_2.txt\n",
      "Query: /home/kylebd99/Cardinality-with-Colors/queryset/aids/Chain_3/uf_Q_5_3.txt\n",
      "Query: /home/kylebd99/Cardinality-with-Colors/queryset/aids/Chain_6/uf_Q_0_1.txt\n",
      "Query: /home/kylebd99/Cardinality-with-Colors/queryset/aids/Chain_6/uf_Q_0_2.txt\n",
      "Query: /home/kylebd99/Cardinality-with-Colors/queryset/aids/Chain_6/uf_Q_0_3.txt\n",
      "Query: /home/kylebd99/Cardinality-with-Colors/queryset/aids/Chain_6/uf_Q_0_4.txt\n",
      "Query: /home/kylebd99/Cardinality-with-Colors/queryset/aids/Chain_6/uf_Q_0_5.txt\n",
      "Query: /home/kylebd99/Cardinality-with-Colors/queryset/aids/Chain_6/uf_Q_1_1.txt\n",
      "Query: /home/kylebd99/Cardinality-with-Colors/queryset/aids/Chain_6/uf_Q_1_2.txt\n",
      "Query: /home/kylebd99/Cardinality-with-Colors/queryset/aids/Chain_6/uf_Q_1_3.txt\n",
      "Query: /home/kylebd99/Cardinality-with-Colors/queryset/aids/Chain_6/uf_Q_1_4.txt\n",
      "Query: /home/kylebd99/Cardinality-with-Colors/queryset/aids/Chain_6/uf_Q_2_1.txt\n",
      "Query: /home/kylebd99/Cardinality-with-Colors/queryset/aids/Chain_6/uf_Q_2_10.txt\n",
      "Query: /home/kylebd99/Cardinality-with-Colors/queryset/aids/Chain_6/uf_Q_2_11.txt\n",
      "Query: /home/kylebd99/Cardinality-with-Colors/queryset/aids/Chain_6/uf_Q_2_2.txt\n",
      "Query: /home/kylebd99/Cardinality-with-Colors/queryset/aids/Chain_6/uf_Q_2_3.txt\n",
      "Query: /home/kylebd99/Cardinality-with-Colors/queryset/aids/Chain_6/uf_Q_2_4.txt\n",
      "Query: /home/kylebd99/Cardinality-with-Colors/queryset/aids/Chain_6/uf_Q_2_5.txt\n",
      "Query: /home/kylebd99/Cardinality-with-Colors/queryset/aids/Chain_6/uf_Q_2_6.txt\n",
      "Query: /home/kylebd99/Cardinality-with-Colors/queryset/aids/Chain_6/uf_Q_2_7.txt\n",
      "Query: /home/kylebd99/Cardinality-with-Colors/queryset/aids/Chain_6/uf_Q_2_8.txt\n",
      "Query: /home/kylebd99/Cardinality-with-Colors/queryset/aids/Chain_6/uf_Q_2_9.txt\n",
      "Query: /home/kylebd99/Cardinality-with-Colors/queryset/aids/Chain_6/uf_Q_3_1.txt\n",
      "Query: "
     ]
    },
    {
     "name": "stdout",
     "output_type": "stream",
     "text": [
      "/home/kylebd99/Cardinality-with-Colors/queryset/aids/Chain_6/uf_Q_3_10.txt\n",
      "Query: /home/kylebd99/Cardinality-with-Colors/queryset/aids/Chain_6/uf_Q_3_2.txt\n",
      "Query: /home/kylebd99/Cardinality-with-Colors/queryset/aids/Chain_6/uf_Q_3_3.txt\n",
      "Query: /home/kylebd99/Cardinality-with-Colors/queryset/aids/Chain_6/uf_Q_3_4.txt\n",
      "Query: /home/kylebd99/Cardinality-with-Colors/queryset/aids/Chain_6/uf_Q_3_5.txt\n",
      "Query: /home/kylebd99/Cardinality-with-Colors/queryset/aids/Chain_6/uf_Q_3_6.txt\n",
      "Query: /home/kylebd99/Cardinality-with-Colors/queryset/aids/Chain_6/uf_Q_3_7.txt\n",
      "Query: /home/kylebd99/Cardinality-with-Colors/queryset/aids/Chain_6/uf_Q_3_8.txt\n",
      "Query: /home/kylebd99/Cardinality-with-Colors/queryset/aids/Chain_6/uf_Q_3_9.txt\n",
      "Query: /home/kylebd99/Cardinality-with-Colors/queryset/aids/Chain_6/uf_Q_4_1.txt\n",
      "Query: /home/kylebd99/Cardinality-with-Colors/queryset/aids/Chain_6/uf_Q_4_10.txt\n",
      "Query: /home/kylebd99/Cardinality-with-Colors/queryset/aids/Chain_6/uf_Q_4_11.txt\n",
      "Query: /home/kylebd99/Cardinality-with-Colors/queryset/aids/Chain_6/uf_Q_4_12.txt\n",
      "Query: /home/kylebd99/Cardinality-with-Colors/queryset/aids/Chain_6/uf_Q_4_13.txt\n",
      "Query: /home/kylebd99/Cardinality-with-Colors/queryset/aids/Chain_6/uf_Q_4_14.txt\n",
      "Query: /home/kylebd99/Cardinality-with-Colors/queryset/aids/Chain_6/uf_Q_4_15.txt\n",
      "Query: /home/kylebd99/Cardinality-with-Colors/queryset/aids/Chain_6/uf_Q_4_16.txt\n",
      "Query: /home/kylebd99/Cardinality-with-Colors/queryset/aids/Chain_6/uf_Q_4_17.txt\n",
      "Query: /home/kylebd99/Cardinality-with-Colors/queryset/aids/Chain_6/uf_Q_4_2.txt\n",
      "Query: /home/kylebd99/Cardinality-with-Colors/queryset/aids/Chain_6/uf_Q_4_3.txt\n",
      "Query: /home/kylebd99/Cardinality-with-Colors/queryset/aids/Chain_6/uf_Q_4_4.txt\n",
      "Query: /home/kylebd99/Cardinality-with-Colors/queryset/aids/Chain_6/uf_Q_4_5.txt\n",
      "Query: /home/kylebd99/Cardinality-with-Colors/queryset/aids/Chain_6/uf_Q_4_6.txt\n",
      "Query: /home/kylebd99/Cardinality-with-Colors/queryset/aids/Chain_6/uf_Q_4_7.txt\n",
      "Query: /home/kylebd99/Cardinality-with-Colors/queryset/aids/Chain_6/uf_Q_4_8.txt\n",
      "Query: /home/kylebd99/Cardinality-with-Colors/queryset/aids/Chain_6/uf_Q_4_9.txt\n",
      "Query: /home/kylebd99/Cardinality-with-Colors/queryset/aids/Chain_6/uf_Q_5_1.txt\n",
      "Query: /home/kylebd99/Cardinality-with-Colors/queryset/aids/Chain_6/uf_Q_5_10.txt\n",
      "Query: /home/kylebd99/Cardinality-with-Colors/queryset/aids/Chain_6/uf_Q_5_11.txt\n",
      "Query: /home/kylebd99/Cardinality-with-Colors/queryset/aids/Chain_6/uf_Q_5_12.txt\n",
      "Query: /home/kylebd99/Cardinality-with-Colors/queryset/aids/Chain_6/uf_Q_5_13.txt\n",
      "Query: /home/kylebd99/Cardinality-with-Colors/queryset/aids/Chain_6/uf_Q_5_14.txt\n",
      "Query: /home/kylebd99/Cardinality-with-Colors/queryset/aids/Chain_6/uf_Q_5_15.txt\n",
      "Query: /home/kylebd99/Cardinality-with-Colors/queryset/aids/Chain_6/uf_Q_5_16.txt\n",
      "Query: "
     ]
    },
    {
     "name": "stdout",
     "output_type": "stream",
     "text": [
      "/home/kylebd99/Cardinality-with-Colors/queryset/aids/Chain_6/uf_Q_5_17.txt\n",
      "Query: /home/kylebd99/Cardinality-with-Colors/queryset/aids/Chain_6/uf_Q_5_18.txt\n",
      "Query: /home/kylebd99/Cardinality-with-Colors/queryset/aids/Chain_6/uf_Q_5_19.txt\n",
      "Query: /home/kylebd99/Cardinality-with-Colors/queryset/aids/Chain_6/uf_Q_5_2.txt\n",
      "Query: /home/kylebd99/Cardinality-with-Colors/queryset/aids/Chain_6/uf_Q_5_20.txt\n",
      "Query: /home/kylebd99/Cardinality-with-Colors/queryset/aids/Chain_6/uf_Q_5_3.txt\n",
      "Query: /home/kylebd99/Cardinality-with-Colors/queryset/aids/Chain_6/uf_Q_5_4.txt\n",
      "Query: /home/kylebd99/Cardinality-with-Colors/queryset/aids/Chain_6/uf_Q_5_5.txt\n",
      "Query: /home/kylebd99/Cardinality-with-Colors/queryset/aids/Chain_6/uf_Q_5_6.txt\n",
      "Query: /home/kylebd99/Cardinality-with-Colors/queryset/aids/Chain_6/uf_Q_5_7.txt\n",
      "Query: /home/kylebd99/Cardinality-with-Colors/queryset/aids/Chain_6/uf_Q_5_8.txt\n",
      "Query: /home/kylebd99/Cardinality-with-Colors/queryset/aids/Chain_6/uf_Q_5_9.txt\n",
      "Query: /home/kylebd99/Cardinality-with-Colors/queryset/aids/Chain_9/uf_Q_2_1.txt\n",
      "Query: /home/kylebd99/Cardinality-with-Colors/queryset/aids/Chain_9/uf_Q_2_2.txt\n",
      "Query: /home/kylebd99/Cardinality-with-Colors/queryset/aids/Chain_9/uf_Q_3_1.txt\n",
      "Query: /home/kylebd99/Cardinality-with-Colors/queryset/aids/Chain_9/uf_Q_3_2.txt\n",
      "Query: /home/kylebd99/Cardinality-with-Colors/queryset/aids/Chain_9/uf_Q_3_3.txt\n",
      "Query: /home/kylebd99/Cardinality-with-Colors/queryset/aids/Chain_9/uf_Q_3_4.txt\n",
      "Query: /home/kylebd99/Cardinality-with-Colors/queryset/aids/Chain_9/uf_Q_3_5.txt\n",
      "Query: /home/kylebd99/Cardinality-with-Colors/queryset/aids/Chain_9/uf_Q_3_6.txt\n",
      "Query: /home/kylebd99/Cardinality-with-Colors/queryset/aids/Chain_9/uf_Q_3_7.txt\n"
     ]
    },
    {
     "name": "stdout",
     "output_type": "stream",
     "text": [
      "Query: /home/kylebd99/Cardinality-with-Colors/queryset/aids/Chain_9/uf_Q_3_8.txt\n",
      "Query: /home/kylebd99/Cardinality-with-Colors/queryset/aids/Chain_9/uf_Q_3_9.txt\n",
      "Query: /home/kylebd99/Cardinality-with-Colors/queryset/aids/Chain_9/uf_Q_4_1.txt\n",
      "Query: /home/kylebd99/Cardinality-with-Colors/queryset/aids/Chain_9/uf_Q_4_10.txt\n",
      "Query: /home/kylebd99/Cardinality-with-Colors/queryset/aids/Chain_9/uf_Q_4_11.txt\n",
      "Query: /home/kylebd99/Cardinality-with-Colors/queryset/aids/Chain_9/uf_Q_4_12.txt\n",
      "Query: /home/kylebd99/Cardinality-with-Colors/queryset/aids/Chain_9/uf_Q_4_13.txt\n",
      "Query: /home/kylebd99/Cardinality-with-Colors/queryset/aids/Chain_9/uf_Q_4_14.txt\n",
      "Query: /home/kylebd99/Cardinality-with-Colors/queryset/aids/Chain_9/uf_Q_4_2.txt\n",
      "Query: /home/kylebd99/Cardinality-with-Colors/queryset/aids/Chain_9/uf_Q_4_3.txt\n",
      "Query: /home/kylebd99/Cardinality-with-Colors/queryset/aids/Chain_9/uf_Q_4_4.txt\n",
      "Query: /home/kylebd99/Cardinality-with-Colors/queryset/aids/Chain_9/uf_Q_4_5.txt\n",
      "Query: /home/kylebd99/Cardinality-with-Colors/queryset/aids/Chain_9/uf_Q_4_6.txt\n",
      "Query: /home/kylebd99/Cardinality-with-Colors/queryset/aids/Chain_9/uf_Q_4_7.txt\n",
      "Query: /home/kylebd99/Cardinality-with-Colors/queryset/aids/Chain_9/uf_Q_4_8.txt\n",
      "Query: /home/kylebd99/Cardinality-with-Colors/queryset/aids/Chain_9/uf_Q_4_9.txt\n",
      "Query: /home/kylebd99/Cardinality-with-Colors/queryset/aids/Chain_9/uf_Q_5_1.txt\n",
      "Query: /home/kylebd99/Cardinality-with-Colors/queryset/aids/Chain_9/uf_Q_5_10.txt\n",
      "Query: /home/kylebd99/Cardinality-with-Colors/queryset/aids/Chain_9/uf_Q_5_11.txt\n",
      "Query: /home/kylebd99/Cardinality-with-Colors/queryset/aids/Chain_9/uf_Q_5_12.txt\n",
      "Query: /home/kylebd99/Cardinality-with-Colors/queryset/aids/Chain_9/uf_Q_5_13.txt\n",
      "Query: /home/kylebd99/Cardinality-with-Colors/queryset/aids/Chain_9/uf_Q_5_14.txt\n",
      "Query: /home/kylebd99/Cardinality-with-Colors/queryset/aids/Chain_9/uf_Q_5_15.txt\n",
      "Query: /home/kylebd99/Cardinality-with-Colors/queryset/aids/Chain_9/uf_Q_5_16.txt\n",
      "Query: /home/kylebd99/Cardinality-with-Colors/queryset/aids/Chain_9/uf_Q_5_17.txt\n",
      "Query: /home/kylebd99/Cardinality-with-Colors/queryset/aids/Chain_9/uf_Q_5_18.txt\n"
     ]
    },
    {
     "name": "stdout",
     "output_type": "stream",
     "text": [
      "Query: /home/kylebd99/Cardinality-with-Colors/queryset/aids/Chain_9/uf_Q_5_19.txt\n",
      "Query: /home/kylebd99/Cardinality-with-Colors/queryset/aids/Chain_9/uf_Q_5_2.txt\n",
      "Query: /home/kylebd99/Cardinality-with-Colors/queryset/aids/Chain_9/uf_Q_5_3.txt\n",
      "Query: /home/kylebd99/Cardinality-with-Colors/queryset/aids/Chain_9/uf_Q_5_4.txt\n",
      "Query: /home/kylebd99/Cardinality-with-Colors/queryset/aids/Chain_9/uf_Q_5_5.txt\n",
      "Query: /home/kylebd99/Cardinality-with-Colors/queryset/aids/Chain_9/uf_Q_5_6.txt\n",
      "Query: /home/kylebd99/Cardinality-with-Colors/queryset/aids/Chain_9/uf_Q_5_7.txt\n",
      "Query: /home/kylebd99/Cardinality-with-Colors/queryset/aids/Chain_9/uf_Q_5_8.txt\n",
      "Query: /home/kylebd99/Cardinality-with-Colors/queryset/aids/Chain_9/uf_Q_5_9.txt\n",
      "Query: /home/kylebd99/Cardinality-with-Colors/queryset/aids/Chain_12/uf_Q_3_1.txt\n",
      "Query: /home/kylebd99/Cardinality-with-Colors/queryset/aids/Chain_12/uf_Q_3_2.txt\n",
      "Query: /home/kylebd99/Cardinality-with-Colors/queryset/aids/Chain_12/uf_Q_3_3.txt\n",
      "Query: /home/kylebd99/Cardinality-with-Colors/queryset/aids/Chain_12/uf_Q_4_1.txt\n",
      "Query: /home/kylebd99/Cardinality-with-Colors/queryset/aids/Chain_12/uf_Q_4_10.txt\n",
      "Query: /home/kylebd99/Cardinality-with-Colors/queryset/aids/Chain_12/uf_Q_4_11.txt\n",
      "Query: /home/kylebd99/Cardinality-with-Colors/queryset/aids/Chain_12/uf_Q_4_2.txt\n",
      "Query: /home/kylebd99/Cardinality-with-Colors/queryset/aids/Chain_12/uf_Q_4_3.txt\n",
      "Query: "
     ]
    },
    {
     "name": "stdout",
     "output_type": "stream",
     "text": [
      "/home/kylebd99/Cardinality-with-Colors/queryset/aids/Chain_12/uf_Q_4_4.txt\n",
      "Query: /home/kylebd99/Cardinality-with-Colors/queryset/aids/Chain_12/uf_Q_4_5.txt\n",
      "Query: /home/kylebd99/Cardinality-with-Colors/queryset/aids/Chain_12/uf_Q_4_6.txt\n",
      "Query: /home/kylebd99/Cardinality-with-Colors/queryset/aids/Chain_12/uf_Q_4_7.txt\n",
      "Query: /home/kylebd99/Cardinality-with-Colors/queryset/aids/Chain_12/uf_Q_4_8.txt\n",
      "Query: /home/kylebd99/Cardinality-with-Colors/queryset/aids/Chain_12/uf_Q_4_9.txt\n",
      "Query: /home/kylebd99/Cardinality-with-Colors/queryset/aids/Chain_12/uf_Q_5_1.txt\n",
      "Query: /home/kylebd99/Cardinality-with-Colors/queryset/aids/Chain_12/uf_Q_5_10.txt\n",
      "Query: /home/kylebd99/Cardinality-with-Colors/queryset/aids/Chain_12/uf_Q_5_11.txt\n",
      "Query: /home/kylebd99/Cardinality-with-Colors/queryset/aids/Chain_12/uf_Q_5_12.txt\n",
      "Query: /home/kylebd99/Cardinality-with-Colors/queryset/aids/Chain_12/uf_Q_5_2.txt\n",
      "Query: /home/kylebd99/Cardinality-with-Colors/queryset/aids/Chain_12/uf_Q_5_3.txt\n",
      "Query: "
     ]
    },
    {
     "name": "stdout",
     "output_type": "stream",
     "text": [
      "/home/kylebd99/Cardinality-with-Colors/queryset/aids/Chain_12/uf_Q_5_4.txt\n",
      "Query: /home/kylebd99/Cardinality-with-Colors/queryset/aids/Chain_12/uf_Q_5_5.txt\n",
      "Query: /home/kylebd99/Cardinality-with-Colors/queryset/aids/Chain_12/uf_Q_5_6.txt\n",
      "Query: /home/kylebd99/Cardinality-with-Colors/queryset/aids/Chain_12/uf_Q_5_7.txt\n",
      "Query: /home/kylebd99/Cardinality-with-Colors/queryset/aids/Chain_12/uf_Q_5_8.txt\n",
      "Query: /home/kylebd99/Cardinality-with-Colors/queryset/aids/Chain_12/uf_Q_5_9.txt\n",
      "Query: /home/kylebd99/Cardinality-with-Colors/queryset/aids/Cycle_3/uf_Q_1_1.txt\n",
      "Query: /home/kylebd99/Cardinality-with-Colors/queryset/aids/Cycle_3/uf_Q_1_2.txt\n",
      "Query: "
     ]
    },
    {
     "name": "stdout",
     "output_type": "stream",
     "text": [
      "/home/kylebd99/Cardinality-with-Colors/queryset/aids/Cycle_3/uf_Q_1_3.txt\n",
      "Query: /home/kylebd99/Cardinality-with-Colors/queryset/aids/Cycle_3/uf_Q_1_4.txt\n",
      "Query: /home/kylebd99/Cardinality-with-Colors/queryset/aids/Cycle_3/uf_Q_1_6.txt\n",
      "Query: /home/kylebd99/Cardinality-with-Colors/queryset/aids/Cycle_3/uf_Q_1_7.txt\n",
      "Query: "
     ]
    },
    {
     "name": "stdout",
     "output_type": "stream",
     "text": [
      "/home/kylebd99/Cardinality-with-Colors/queryset/aids/Cycle_3/uf_Q_1_8.txt\n",
      "Query: /home/kylebd99/Cardinality-with-Colors/queryset/aids/Cycle_3/uf_Q_1_9.txt\n",
      "Query: /home/kylebd99/Cardinality-with-Colors/queryset/aids/Cycle_3/uf_Q_2_1.txt\n",
      "Query: /home/kylebd99/Cardinality-with-Colors/queryset/aids/Cycle_3/uf_Q_2_10.txt\n",
      "Query: /home/kylebd99/Cardinality-with-Colors/queryset/aids/Cycle_3/uf_Q_2_11.txt\n"
     ]
    },
    {
     "name": "stdout",
     "output_type": "stream",
     "text": [
      "Query: /home/kylebd99/Cardinality-with-Colors/queryset/aids/Cycle_3/uf_Q_2_12.txt\n",
      "Query: /home/kylebd99/Cardinality-with-Colors/queryset/aids/Cycle_3/uf_Q_2_13.txt\n",
      "Query: /home/kylebd99/Cardinality-with-Colors/queryset/aids/Cycle_3/uf_Q_2_14.txt\n",
      "Query: /home/kylebd99/Cardinality-with-Colors/queryset/aids/Cycle_3/uf_Q_2_15.txt\n"
     ]
    },
    {
     "name": "stdout",
     "output_type": "stream",
     "text": [
      "Query: /home/kylebd99/Cardinality-with-Colors/queryset/aids/Cycle_3/uf_Q_2_16.txt\n",
      "Query: /home/kylebd99/Cardinality-with-Colors/queryset/aids/Cycle_3/uf_Q_2_17.txt\n",
      "Query: /home/kylebd99/Cardinality-with-Colors/queryset/aids/Cycle_3/uf_Q_2_2.txt\n",
      "Query: "
     ]
    },
    {
     "name": "stdout",
     "output_type": "stream",
     "text": [
      "/home/kylebd99/Cardinality-with-Colors/queryset/aids/Cycle_3/uf_Q_2_3.txt\n",
      "Query: /home/kylebd99/Cardinality-with-Colors/queryset/aids/Cycle_3/uf_Q_2_4.txt\n",
      "Query: /home/kylebd99/Cardinality-with-Colors/queryset/aids/Cycle_3/uf_Q_2_5.txt\n",
      "Query: /home/kylebd99/Cardinality-with-Colors/queryset/aids/Cycle_3/uf_Q_2_6.txt\n",
      "Query: "
     ]
    },
    {
     "name": "stdout",
     "output_type": "stream",
     "text": [
      "/home/kylebd99/Cardinality-with-Colors/queryset/aids/Cycle_3/uf_Q_2_7.txt\n",
      "Query: /home/kylebd99/Cardinality-with-Colors/queryset/aids/Cycle_3/uf_Q_2_8.txt\n",
      "Query: "
     ]
    },
    {
     "name": "stdout",
     "output_type": "stream",
     "text": [
      "/home/kylebd99/Cardinality-with-Colors/queryset/aids/Cycle_3/uf_Q_2_9.txt\n",
      "Query: /home/kylebd99/Cardinality-with-Colors/queryset/aids/Cycle_3/uf_Q_3_1.txt\n",
      "Query: /home/kylebd99/Cardinality-with-Colors/queryset/aids/Cycle_3/uf_Q_3_10.txt\n"
     ]
    },
    {
     "name": "stdout",
     "output_type": "stream",
     "text": [
      "Query: /home/kylebd99/Cardinality-with-Colors/queryset/aids/Cycle_3/uf_Q_3_11.txt\n",
      "Query: /home/kylebd99/Cardinality-with-Colors/queryset/aids/Cycle_3/uf_Q_3_12.txt\n"
     ]
    },
    {
     "name": "stdout",
     "output_type": "stream",
     "text": [
      "Query: /home/kylebd99/Cardinality-with-Colors/queryset/aids/Cycle_3/uf_Q_3_13.txt\n",
      "Query: /home/kylebd99/Cardinality-with-Colors/queryset/aids/Cycle_3/uf_Q_3_14.txt\n"
     ]
    },
    {
     "name": "stdout",
     "output_type": "stream",
     "text": [
      "Query: /home/kylebd99/Cardinality-with-Colors/queryset/aids/Cycle_3/uf_Q_3_15.txt\n",
      "Query: /home/kylebd99/Cardinality-with-Colors/queryset/aids/Cycle_3/uf_Q_3_16.txt\n"
     ]
    },
    {
     "name": "stdout",
     "output_type": "stream",
     "text": [
      "Query: /home/kylebd99/Cardinality-with-Colors/queryset/aids/Cycle_3/uf_Q_3_17.txt\n",
      "Query: /home/kylebd99/Cardinality-with-Colors/queryset/aids/Cycle_3/uf_Q_3_18.txt\n"
     ]
    },
    {
     "name": "stdout",
     "output_type": "stream",
     "text": [
      "Query: /home/kylebd99/Cardinality-with-Colors/queryset/aids/Cycle_3/uf_Q_3_19.txt\n",
      "Query: /home/kylebd99/Cardinality-with-Colors/queryset/aids/Cycle_3/uf_Q_3_2.txt\n"
     ]
    },
    {
     "name": "stdout",
     "output_type": "stream",
     "text": [
      "Query: /home/kylebd99/Cardinality-with-Colors/queryset/aids/Cycle_3/uf_Q_3_20.txt\n",
      "Query: /home/kylebd99/Cardinality-with-Colors/queryset/aids/Cycle_3/uf_Q_3_3.txt\n"
     ]
    },
    {
     "name": "stdout",
     "output_type": "stream",
     "text": [
      "Query: /home/kylebd99/Cardinality-with-Colors/queryset/aids/Cycle_3/uf_Q_3_4.txt\n",
      "Query: /home/kylebd99/Cardinality-with-Colors/queryset/aids/Cycle_3/uf_Q_3_5.txt\n"
     ]
    },
    {
     "name": "stdout",
     "output_type": "stream",
     "text": [
      "Query: /home/kylebd99/Cardinality-with-Colors/queryset/aids/Cycle_3/uf_Q_3_6.txt\n",
      "Query: /home/kylebd99/Cardinality-with-Colors/queryset/aids/Cycle_3/uf_Q_3_7.txt\n"
     ]
    },
    {
     "name": "stdout",
     "output_type": "stream",
     "text": [
      "Query: /home/kylebd99/Cardinality-with-Colors/queryset/aids/Cycle_3/uf_Q_3_8.txt\n",
      "Query: /home/kylebd99/Cardinality-with-Colors/queryset/aids/Cycle_3/uf_Q_3_9.txt\n"
     ]
    },
    {
     "name": "stdout",
     "output_type": "stream",
     "text": [
      "Query: /home/kylebd99/Cardinality-with-Colors/queryset/aids/Cycle_6/uf_Q_1_1.txt\n",
      "Query: /home/kylebd99/Cardinality-with-Colors/queryset/aids/Cycle_6/uf_Q_1_2.txt\n",
      "Query: /home/kylebd99/Cardinality-with-Colors/queryset/aids/Cycle_6/uf_Q_1_3.txt\n",
      "Query: /home/kylebd99/Cardinality-with-Colors/queryset/aids/Cycle_6/uf_Q_1_4.txt\n",
      "Query: /home/kylebd99/Cardinality-with-Colors/queryset/aids/Cycle_6/uf_Q_2_1.txt\n",
      "Query: /home/kylebd99/Cardinality-with-Colors/queryset/aids/Cycle_6/uf_Q_2_2.txt\n",
      "Query: /home/kylebd99/Cardinality-with-Colors/queryset/aids/Cycle_6/uf_Q_2_4.txt\n",
      "Query: /home/kylebd99/Cardinality-with-Colors/queryset/aids/Cycle_6/uf_Q_3_1.txt\n",
      "Query: /home/kylebd99/Cardinality-with-Colors/queryset/aids/Cycle_6/uf_Q_3_2.txt\n",
      "Query: /home/kylebd99/Cardinality-with-Colors/queryset/aids/Cycle_6/uf_Q_3_3.txt\n"
     ]
    },
    {
     "name": "stdout",
     "output_type": "stream",
     "text": [
      "Query: /home/kylebd99/Cardinality-with-Colors/queryset/aids/Flower_6/uf_Q_0_1.txt\n",
      "Query: /home/kylebd99/Cardinality-with-Colors/queryset/aids/Flower_6/uf_Q_0_2.txt\n",
      "Query: /home/kylebd99/Cardinality-with-Colors/queryset/aids/Flower_6/uf_Q_1_3.txt\n",
      "Query: "
     ]
    },
    {
     "name": "stdout",
     "output_type": "stream",
     "text": [
      "/home/kylebd99/Cardinality-with-Colors/queryset/aids/Flower_6/uf_Q_1_4.txt\n",
      "Query: /home/kylebd99/Cardinality-with-Colors/queryset/aids/Flower_6/uf_Q_1_6.txt\n",
      "Query: /home/kylebd99/Cardinality-with-Colors/queryset/aids/Flower_6/uf_Q_1_7.txt\n",
      "Query: /home/kylebd99/Cardinality-with-Colors/queryset/aids/Flower_6/uf_Q_2_1.txt\n",
      "Query: /home/kylebd99/Cardinality-with-Colors/queryset/aids/Flower_6/uf_Q_2_2.txt\n",
      "Query: /home/kylebd99/Cardinality-with-Colors/queryset/aids/Flower_6/uf_Q_2_3.txt\n",
      "Query: "
     ]
    },
    {
     "name": "stdout",
     "output_type": "stream",
     "text": [
      "/home/kylebd99/Cardinality-with-Colors/queryset/aids/Flower_6/uf_Q_2_4.txt\n",
      "Query: /home/kylebd99/Cardinality-with-Colors/queryset/aids/Flower_6/uf_Q_2_5.txt\n",
      "Query: /home/kylebd99/Cardinality-with-Colors/queryset/aids/Flower_6/uf_Q_2_6.txt\n",
      "Query: /home/kylebd99/Cardinality-with-Colors/queryset/aids/Flower_6/uf_Q_2_7.txt\n",
      "Query: "
     ]
    },
    {
     "name": "stdout",
     "output_type": "stream",
     "text": [
      "/home/kylebd99/Cardinality-with-Colors/queryset/aids/Flower_6/uf_Q_3_1.txt\n",
      "Query: /home/kylebd99/Cardinality-with-Colors/queryset/aids/Flower_6/uf_Q_3_10.txt\n",
      "Query: "
     ]
    },
    {
     "name": "stdout",
     "output_type": "stream",
     "text": [
      "/home/kylebd99/Cardinality-with-Colors/queryset/aids/Flower_6/uf_Q_3_11.txt\n",
      "Query: /home/kylebd99/Cardinality-with-Colors/queryset/aids/Flower_6/uf_Q_3_12.txt\n",
      "Query: "
     ]
    },
    {
     "name": "stdout",
     "output_type": "stream",
     "text": [
      "/home/kylebd99/Cardinality-with-Colors/queryset/aids/Flower_6/uf_Q_3_13.txt\n",
      "Query: /home/kylebd99/Cardinality-with-Colors/queryset/aids/Flower_6/uf_Q_3_14.txt\n",
      "Query: "
     ]
    },
    {
     "name": "stdout",
     "output_type": "stream",
     "text": [
      "/home/kylebd99/Cardinality-with-Colors/queryset/aids/Flower_6/uf_Q_3_15.txt\n",
      "Query: /home/kylebd99/Cardinality-with-Colors/queryset/aids/Flower_6/uf_Q_3_16.txt\n",
      "Query: "
     ]
    },
    {
     "name": "stdout",
     "output_type": "stream",
     "text": [
      "/home/kylebd99/Cardinality-with-Colors/queryset/aids/Flower_6/uf_Q_3_2.txt\n",
      "Query: /home/kylebd99/Cardinality-with-Colors/queryset/aids/Flower_6/uf_Q_3_3.txt\n",
      "Query: "
     ]
    },
    {
     "name": "stdout",
     "output_type": "stream",
     "text": [
      "/home/kylebd99/Cardinality-with-Colors/queryset/aids/Flower_6/uf_Q_3_4.txt\n",
      "Query: /home/kylebd99/Cardinality-with-Colors/queryset/aids/Flower_6/uf_Q_3_5.txt\n",
      "Query: /home/kylebd99/Cardinality-with-Colors/queryset/aids/Flower_6/uf_Q_3_6.txt\n"
     ]
    },
    {
     "name": "stdout",
     "output_type": "stream",
     "text": [
      "Query: /home/kylebd99/Cardinality-with-Colors/queryset/aids/Flower_6/uf_Q_3_7.txt\n",
      "Query: /home/kylebd99/Cardinality-with-Colors/queryset/aids/Flower_6/uf_Q_3_8.txt\n"
     ]
    },
    {
     "name": "stdout",
     "output_type": "stream",
     "text": [
      "Query: /home/kylebd99/Cardinality-with-Colors/queryset/aids/Flower_6/uf_Q_3_9.txt\n",
      "Query: /home/kylebd99/Cardinality-with-Colors/queryset/aids/Flower_6/uf_Q_4_1.txt\n"
     ]
    },
    {
     "name": "stdout",
     "output_type": "stream",
     "text": [
      "Query: /home/kylebd99/Cardinality-with-Colors/queryset/aids/Flower_6/uf_Q_4_2.txt\n",
      "Query: "
     ]
    },
    {
     "name": "stdout",
     "output_type": "stream",
     "text": [
      "/home/kylebd99/Cardinality-with-Colors/queryset/aids/Flower_6/uf_Q_4_3.txt\n"
     ]
    },
    {
     "name": "stdout",
     "output_type": "stream",
     "text": [
      "Query: /home/kylebd99/Cardinality-with-Colors/queryset/aids/Flower_6/uf_Q_4_4.txt\n",
      "Query: /home/kylebd99/Cardinality-with-Colors/queryset/aids/Flower_6/uf_Q_4_5.txt\n"
     ]
    },
    {
     "name": "stdout",
     "output_type": "stream",
     "text": [
      "Query: /home/kylebd99/Cardinality-with-Colors/queryset/aids/Flower_6/uf_Q_4_6.txt\n",
      "Query: "
     ]
    },
    {
     "name": "stdout",
     "output_type": "stream",
     "text": [
      "/home/kylebd99/Cardinality-with-Colors/queryset/aids/Flower_6/uf_Q_5_1.txt\n"
     ]
    },
    {
     "name": "stdout",
     "output_type": "stream",
     "text": [
      "Query: /home/kylebd99/Cardinality-with-Colors/queryset/aids/Flower_6/uf_Q_5_2.txt\n",
      "Query: "
     ]
    },
    {
     "name": "stdout",
     "output_type": "stream",
     "text": [
      "/home/kylebd99/Cardinality-with-Colors/queryset/aids/Flower_6/uf_Q_5_3.txt\n",
      "Query: /home/kylebd99/Cardinality-with-Colors/queryset/aids/Flower_6/uf_Q_5_4.txt\n",
      "Query: "
     ]
    },
    {
     "name": "stdout",
     "output_type": "stream",
     "text": [
      "/home/kylebd99/Cardinality-with-Colors/queryset/aids/Flower_6/uf_Q_5_5.txt\n",
      "Query: /home/kylebd99/Cardinality-with-Colors/queryset/aids/Flower_9/uf_Q_1_2.txt\n",
      "Query: /home/kylebd99/Cardinality-with-Colors/queryset/aids/Flower_9/uf_Q_2_1.txt\n"
     ]
    },
    {
     "name": "stdout",
     "output_type": "stream",
     "text": [
      "Query: /home/kylebd99/Cardinality-with-Colors/queryset/aids/Flower_9/uf_Q_2_2.txt\n",
      "Query: /home/kylebd99/Cardinality-with-Colors/queryset/aids/Flower_9/uf_Q_2_4.txt\n",
      "Query: /home/kylebd99/Cardinality-with-Colors/queryset/aids/Flower_9/uf_Q_3_1.txt\n",
      "Query: /home/kylebd99/Cardinality-with-Colors/queryset/aids/Flower_9/uf_Q_3_10.txt\n",
      "Query: /home/kylebd99/Cardinality-with-Colors/queryset/aids/Flower_9/uf_Q_3_2.txt\n",
      "Query: /home/kylebd99/Cardinality-with-Colors/queryset/aids/Flower_9/uf_Q_3_3.txt\n"
     ]
    },
    {
     "name": "stdout",
     "output_type": "stream",
     "text": [
      "Query: /home/kylebd99/Cardinality-with-Colors/queryset/aids/Flower_9/uf_Q_3_4.txt\n",
      "Query: "
     ]
    },
    {
     "name": "stdout",
     "output_type": "stream",
     "text": [
      "/home/kylebd99/Cardinality-with-Colors/queryset/aids/Flower_9/uf_Q_3_5.txt\n",
      "Query: /home/kylebd99/Cardinality-with-Colors/queryset/aids/Flower_9/uf_Q_3_6.txt\n",
      "Query: "
     ]
    },
    {
     "name": "stdout",
     "output_type": "stream",
     "text": [
      "/home/kylebd99/Cardinality-with-Colors/queryset/aids/Flower_9/uf_Q_3_7.txt\n",
      "Query: /home/kylebd99/Cardinality-with-Colors/queryset/aids/Flower_9/uf_Q_3_8.txt\n",
      "Query: /home/kylebd99/Cardinality-with-Colors/queryset/aids/Flower_9/uf_Q_3_9.txt\n"
     ]
    },
    {
     "name": "stdout",
     "output_type": "stream",
     "text": [
      "Query: /home/kylebd99/Cardinality-with-Colors/queryset/aids/Flower_9/uf_Q_4_1.txt\n",
      "Query: "
     ]
    },
    {
     "name": "stdout",
     "output_type": "stream",
     "text": [
      "/home/kylebd99/Cardinality-with-Colors/queryset/aids/Flower_9/uf_Q_4_10.txt\n",
      "Query: /home/kylebd99/Cardinality-with-Colors/queryset/aids/Flower_9/uf_Q_4_11.txt\n",
      "Query: /home/kylebd99/Cardinality-with-Colors/queryset/aids/Flower_9/uf_Q_4_12.txt\n"
     ]
    },
    {
     "name": "stdout",
     "output_type": "stream",
     "text": [
      "Query: /home/kylebd99/Cardinality-with-Colors/queryset/aids/Flower_9/uf_Q_4_2.txt\n",
      "Query: "
     ]
    },
    {
     "name": "stdout",
     "output_type": "stream",
     "text": [
      "/home/kylebd99/Cardinality-with-Colors/queryset/aids/Flower_9/uf_Q_4_3.txt\n"
     ]
    },
    {
     "name": "stdout",
     "output_type": "stream",
     "text": [
      "Query: /home/kylebd99/Cardinality-with-Colors/queryset/aids/Flower_9/uf_Q_4_4.txt\n",
      "Query: "
     ]
    },
    {
     "name": "stdout",
     "output_type": "stream",
     "text": [
      "/home/kylebd99/Cardinality-with-Colors/queryset/aids/Flower_9/uf_Q_4_5.txt\n",
      "Query: /home/kylebd99/Cardinality-with-Colors/queryset/aids/Flower_9/uf_Q_4_6.txt\n",
      "Query: /home/kylebd99/Cardinality-with-Colors/queryset/aids/Flower_9/uf_Q_4_7.txt\n",
      "Query: /home/kylebd99/Cardinality-with-Colors/queryset/aids/Flower_9/uf_Q_4_8.txt\n",
      "Query: /home/kylebd99/Cardinality-with-Colors/queryset/aids/Flower_9/uf_Q_4_9.txt\n"
     ]
    },
    {
     "name": "stdout",
     "output_type": "stream",
     "text": [
      "Query: /home/kylebd99/Cardinality-with-Colors/queryset/aids/Flower_9/uf_Q_5_1.txt\n",
      "Query: "
     ]
    },
    {
     "name": "stdout",
     "output_type": "stream",
     "text": [
      "/home/kylebd99/Cardinality-with-Colors/queryset/aids/Flower_9/uf_Q_5_10.txt\n"
     ]
    },
    {
     "name": "stdout",
     "output_type": "stream",
     "text": [
      "Query: /home/kylebd99/Cardinality-with-Colors/queryset/aids/Flower_9/uf_Q_5_11.txt\n",
      "Query: "
     ]
    },
    {
     "name": "stdout",
     "output_type": "stream",
     "text": [
      "/home/kylebd99/Cardinality-with-Colors/queryset/aids/Flower_9/uf_Q_5_2.txt\n",
      "Query: /home/kylebd99/Cardinality-with-Colors/queryset/aids/Flower_9/uf_Q_5_3.txt\n",
      "Query: "
     ]
    },
    {
     "name": "stdout",
     "output_type": "stream",
     "text": [
      "/home/kylebd99/Cardinality-with-Colors/queryset/aids/Flower_9/uf_Q_5_4.txt\n"
     ]
    },
    {
     "name": "stdout",
     "output_type": "stream",
     "text": [
      "Query: /home/kylebd99/Cardinality-with-Colors/queryset/aids/Flower_9/uf_Q_5_5.txt\n",
      "Query: "
     ]
    },
    {
     "name": "stdout",
     "output_type": "stream",
     "text": [
      "/home/kylebd99/Cardinality-with-Colors/queryset/aids/Flower_9/uf_Q_5_6.txt\n"
     ]
    },
    {
     "name": "stdout",
     "output_type": "stream",
     "text": [
      "Query: /home/kylebd99/Cardinality-with-Colors/queryset/aids/Flower_9/uf_Q_5_7.txt\n",
      "Query: "
     ]
    },
    {
     "name": "stdout",
     "output_type": "stream",
     "text": [
      "/home/kylebd99/Cardinality-with-Colors/queryset/aids/Flower_9/uf_Q_5_8.txt\n"
     ]
    },
    {
     "name": "stdout",
     "output_type": "stream",
     "text": [
      "Query: /home/kylebd99/Cardinality-with-Colors/queryset/aids/Flower_9/uf_Q_5_9.txt\n",
      "Query: "
     ]
    },
    {
     "name": "stdout",
     "output_type": "stream",
     "text": [
      "/home/kylebd99/Cardinality-with-Colors/queryset/aids/Flower_12/uf_Q_3_1.txt\n"
     ]
    },
    {
     "name": "stdout",
     "output_type": "stream",
     "text": [
      "Query: /home/kylebd99/Cardinality-with-Colors/queryset/aids/Flower_12/uf_Q_4_1.txt\n",
      "Query: "
     ]
    },
    {
     "name": "stdout",
     "output_type": "stream",
     "text": [
      "/home/kylebd99/Cardinality-with-Colors/queryset/aids/Flower_12/uf_Q_4_2.txt\n"
     ]
    },
    {
     "name": "stdout",
     "output_type": "stream",
     "text": [
      "Query: /home/kylebd99/Cardinality-with-Colors/queryset/aids/Flower_12/uf_Q_4_3.txt\n",
      "Query: "
     ]
    },
    {
     "name": "stdout",
     "output_type": "stream",
     "text": [
      "/home/kylebd99/Cardinality-with-Colors/queryset/aids/Flower_12/uf_Q_4_4.txt\n",
      "Query: /home/kylebd99/Cardinality-with-Colors/queryset/aids/Flower_12/uf_Q_4_5.txt\n",
      "Query: "
     ]
    },
    {
     "name": "stdout",
     "output_type": "stream",
     "text": [
      "/home/kylebd99/Cardinality-with-Colors/queryset/aids/Flower_12/uf_Q_4_6.txt\n",
      "Query: /home/kylebd99/Cardinality-with-Colors/queryset/aids/Flower_12/uf_Q_4_7.txt\n",
      "Query: /home/kylebd99/Cardinality-with-Colors/queryset/aids/Flower_12/uf_Q_5_1.txt\n"
     ]
    },
    {
     "name": "stdout",
     "output_type": "stream",
     "text": [
      "Query: /home/kylebd99/Cardinality-with-Colors/queryset/aids/Flower_12/uf_Q_5_2.txt\n",
      "Query: "
     ]
    },
    {
     "name": "stdout",
     "output_type": "stream",
     "text": [
      "/home/kylebd99/Cardinality-with-Colors/queryset/aids/Flower_12/uf_Q_5_3.txt\n"
     ]
    },
    {
     "name": "stdout",
     "output_type": "stream",
     "text": [
      "Query: /home/kylebd99/Cardinality-with-Colors/queryset/aids/Flower_12/uf_Q_5_4.txt\n",
      "Query: "
     ]
    },
    {
     "name": "stdout",
     "output_type": "stream",
     "text": [
      "/home/kylebd99/Cardinality-with-Colors/queryset/aids/Flower_12/uf_Q_5_5.txt\n",
      "Query: /home/kylebd99/Cardinality-with-Colors/queryset/aids/Flower_12/uf_Q_5_6.txt\n",
      "Query: "
     ]
    },
    {
     "name": "stdout",
     "output_type": "stream",
     "text": [
      "/home/kylebd99/Cardinality-with-Colors/queryset/aids/Flower_12/uf_Q_5_7.txt\n"
     ]
    },
    {
     "name": "stdout",
     "output_type": "stream",
     "text": [
      "Query: /home/kylebd99/Cardinality-with-Colors/queryset/aids/Flower_12/uf_Q_5_8.txt\n",
      "Query: "
     ]
    },
    {
     "name": "stdout",
     "output_type": "stream",
     "text": [
      "/home/kylebd99/Cardinality-with-Colors/queryset/aids/Flower_12/uf_Q_5_9.txt\n"
     ]
    },
    {
     "name": "stdout",
     "output_type": "stream",
     "text": [
      "Query: /home/kylebd99/Cardinality-with-Colors/queryset/aids/Graph_3/uf_Q_0_1.txt\n",
      "Query: /home/kylebd99/Cardinality-with-Colors/queryset/aids/Graph_3/uf_Q_0_3.txt\n",
      "Query: /home/kylebd99/Cardinality-with-Colors/queryset/aids/Graph_3/uf_Q_1_1.txt\n",
      "Query: /home/kylebd99/Cardinality-with-Colors/queryset/aids/Graph_3/uf_Q_1_11.txt\n",
      "Query: /home/kylebd99/Cardinality-with-Colors/queryset/aids/Graph_3/uf_Q_1_12.txt\n",
      "Query: /home/kylebd99/Cardinality-with-Colors/queryset/aids/Graph_3/uf_Q_1_13.txt\n",
      "Query: /home/kylebd99/Cardinality-with-Colors/queryset/aids/Graph_3/uf_Q_1_14.txt\n",
      "Query: /home/kylebd99/Cardinality-with-Colors/queryset/aids/Graph_3/uf_Q_1_16.txt\n",
      "Query: /home/kylebd99/Cardinality-with-Colors/queryset/aids/Graph_3/uf_Q_1_17.txt\n",
      "Query: /home/kylebd99/Cardinality-with-Colors/queryset/aids/Graph_3/uf_Q_1_18.txt\n",
      "Query: /home/kylebd99/Cardinality-with-Colors/queryset/aids/Graph_3/uf_Q_1_19.txt\n",
      "Query: /home/kylebd99/Cardinality-with-Colors/queryset/aids/Graph_3/uf_Q_1_2.txt\n",
      "Query: /home/kylebd99/Cardinality-with-Colors/queryset/aids/Graph_3/uf_Q_1_3.txt\n",
      "Query: /home/kylebd99/Cardinality-with-Colors/queryset/aids/Graph_3/uf_Q_1_5.txt\n",
      "Query: /home/kylebd99/Cardinality-with-Colors/queryset/aids/Graph_3/uf_Q_1_6.txt\n",
      "Query: /home/kylebd99/Cardinality-with-Colors/queryset/aids/Graph_3/uf_Q_1_7.txt\n",
      "Query: /home/kylebd99/Cardinality-with-Colors/queryset/aids/Graph_3/uf_Q_1_8.txt\n",
      "Query: /home/kylebd99/Cardinality-with-Colors/queryset/aids/Graph_3/uf_Q_1_9.txt\n",
      "Query: /home/kylebd99/Cardinality-with-Colors/queryset/aids/Graph_3/uf_Q_2_1.txt\n",
      "Query: /home/kylebd99/Cardinality-with-Colors/queryset/aids/Graph_3/uf_Q_2_10.txt\n",
      "Query: /home/kylebd99/Cardinality-with-Colors/queryset/aids/Graph_3/uf_Q_2_11.txt\n",
      "Query: /home/kylebd99/Cardinality-with-Colors/queryset/aids/Graph_3/uf_Q_2_12.txt\n",
      "Query: /home/kylebd99/Cardinality-with-Colors/queryset/aids/Graph_3/uf_Q_2_5.txt\n",
      "Query: /home/kylebd99/Cardinality-with-Colors/queryset/aids/Graph_3/uf_Q_2_8.txt\n",
      "Query: /home/kylebd99/Cardinality-with-Colors/queryset/aids/Graph_3/uf_Q_2_9.txt\n",
      "Query: /home/kylebd99/Cardinality-with-Colors/queryset/aids/Graph_3/uf_Q_3_1.txt\n",
      "Query: /home/kylebd99/Cardinality-with-Colors/queryset/aids/Graph_3/uf_Q_3_11.txt\n",
      "Query: /home/kylebd99/Cardinality-with-Colors/queryset/aids/Graph_3/uf_Q_3_12.txt\n",
      "Query: /home/kylebd99/Cardinality-with-Colors/queryset/aids/Graph_3/uf_Q_3_13.txt\n",
      "Query: /home/kylebd99/Cardinality-with-Colors/queryset/aids/Graph_3/uf_Q_3_2.txt\n",
      "Query: /home/kylebd99/Cardinality-with-Colors/queryset/aids/Graph_3/uf_Q_3_3.txt\n",
      "Query: "
     ]
    },
    {
     "name": "stdout",
     "output_type": "stream",
     "text": [
      "/home/kylebd99/Cardinality-with-Colors/queryset/aids/Graph_3/uf_Q_3_4.txt\n",
      "Query: /home/kylebd99/Cardinality-with-Colors/queryset/aids/Graph_3/uf_Q_3_5.txt\n",
      "Query: "
     ]
    },
    {
     "name": "stdout",
     "output_type": "stream",
     "text": [
      "/home/kylebd99/Cardinality-with-Colors/queryset/aids/Graph_3/uf_Q_3_7.txt\n",
      "Query: /home/kylebd99/Cardinality-with-Colors/queryset/aids/Graph_3/uf_Q_3_8.txt\n",
      "Query: "
     ]
    },
    {
     "name": "stdout",
     "output_type": "stream",
     "text": [
      "/home/kylebd99/Cardinality-with-Colors/queryset/aids/Graph_3/uf_Q_3_9.txt\n",
      "Query: /home/kylebd99/Cardinality-with-Colors/queryset/aids/Graph_3/uf_Q_4_1.txt\n",
      "Query: /home/kylebd99/Cardinality-with-Colors/queryset/aids/Graph_3/uf_Q_4_10.txt\n",
      "Query: /home/kylebd99/Cardinality-with-Colors/queryset/aids/Graph_3/uf_Q_4_11.txt\n",
      "Query: /home/kylebd99/Cardinality-with-Colors/queryset/aids/Graph_3/uf_Q_4_17.txt\n",
      "Query: /home/kylebd99/Cardinality-with-Colors/queryset/aids/Graph_3/uf_Q_4_6.txt\n",
      "Query: /home/kylebd99/Cardinality-with-Colors/queryset/aids/Graph_3/uf_Q_4_9.txt\n",
      "Query: /home/kylebd99/Cardinality-with-Colors/queryset/aids/Graph_3/uf_Q_5_1.txt\n",
      "Query: /home/kylebd99/Cardinality-with-Colors/queryset/aids/Graph_6/uf_Q_0_1.txt\n",
      "Query: /home/kylebd99/Cardinality-with-Colors/queryset/aids/Graph_6/uf_Q_1_7.txt\n",
      "Query: /home/kylebd99/Cardinality-with-Colors/queryset/aids/Graph_6/uf_Q_3_1.txt\n",
      "Query: /home/kylebd99/Cardinality-with-Colors/queryset/aids/Graph_6/uf_Q_3_2.txt\n",
      "Query: /home/kylebd99/Cardinality-with-Colors/queryset/aids/Graph_6/uf_Q_3_8.txt\n"
     ]
    },
    {
     "name": "stdout",
     "output_type": "stream",
     "text": [
      "Query: /home/kylebd99/Cardinality-with-Colors/queryset/aids/Graph_6/uf_Q_4_1.txt\n",
      "Query: /home/kylebd99/Cardinality-with-Colors/queryset/aids/Graph_6/uf_Q_4_18.txt\n",
      "Query: /home/kylebd99/Cardinality-with-Colors/queryset/aids/Graph_6/uf_Q_4_2.txt\n",
      "Query: "
     ]
    },
    {
     "name": "stdout",
     "output_type": "stream",
     "text": [
      "/home/kylebd99/Cardinality-with-Colors/queryset/aids/Graph_6/uf_Q_4_3.txt\n",
      "Query: /home/kylebd99/Cardinality-with-Colors/queryset/aids/Graph_6/uf_Q_4_4.txt\n",
      "Query: "
     ]
    },
    {
     "name": "stdout",
     "output_type": "stream",
     "text": [
      "/home/kylebd99/Cardinality-with-Colors/queryset/aids/Graph_6/uf_Q_5_1.txt\n",
      "Query: /home/kylebd99/Cardinality-with-Colors/queryset/aids/Graph_6/uf_Q_5_10.txt\n",
      "Query: /home/kylebd99/Cardinality-with-Colors/queryset/aids/Graph_6/uf_Q_5_14.txt\n",
      "Query: /home/kylebd99/Cardinality-with-Colors/queryset/aids/Graph_6/uf_Q_5_3.txt\n",
      "Query: "
     ]
    },
    {
     "name": "stdout",
     "output_type": "stream",
     "text": [
      "/home/kylebd99/Cardinality-with-Colors/queryset/aids/Graph_6/uf_Q_5_4.txt\n",
      "Query: /home/kylebd99/Cardinality-with-Colors/queryset/aids/Graph_9/uf_Q_0_1.txt\n",
      "Query: /home/kylebd99/Cardinality-with-Colors/queryset/aids/Graph_9/uf_Q_0_2.txt\n",
      "Query: /home/kylebd99/Cardinality-with-Colors/queryset/aids/Graph_9/uf_Q_1_3.txt\n",
      "Query: /home/kylebd99/Cardinality-with-Colors/queryset/aids/Graph_12/uf_Q_0_1.txt\n",
      "Query: /home/kylebd99/Cardinality-with-Colors/queryset/aids/Petal_6/uf_Q_2_1.txt\n",
      "Query: "
     ]
    },
    {
     "name": "stdout",
     "output_type": "stream",
     "text": [
      "/home/kylebd99/Cardinality-with-Colors/queryset/aids/Petal_6/uf_Q_2_2.txt\n"
     ]
    },
    {
     "name": "stdout",
     "output_type": "stream",
     "text": [
      "Query: /home/kylebd99/Cardinality-with-Colors/queryset/aids/Petal_6/uf_Q_2_3.txt\n",
      "Query: "
     ]
    },
    {
     "name": "stdout",
     "output_type": "stream",
     "text": [
      "/home/kylebd99/Cardinality-with-Colors/queryset/aids/Petal_6/uf_Q_2_4.txt\n"
     ]
    },
    {
     "name": "stdout",
     "output_type": "stream",
     "text": [
      "Query: /home/kylebd99/Cardinality-with-Colors/queryset/aids/Petal_6/uf_Q_2_5.txt\n",
      "Query: /home/kylebd99/Cardinality-with-Colors/queryset/aids/Petal_6/uf_Q_2_6.txt\n"
     ]
    },
    {
     "name": "stdout",
     "output_type": "stream",
     "text": [
      "Query: /home/kylebd99/Cardinality-with-Colors/queryset/aids/Petal_6/uf_Q_2_7.txt\n",
      "Query: "
     ]
    },
    {
     "name": "stdout",
     "output_type": "stream",
     "text": [
      "/home/kylebd99/Cardinality-with-Colors/queryset/aids/Petal_6/uf_Q_2_8.txt\n"
     ]
    },
    {
     "name": "stdout",
     "output_type": "stream",
     "text": [
      "Query: /home/kylebd99/Cardinality-with-Colors/queryset/aids/Petal_6/uf_Q_2_9.txt\n",
      "Query: /home/kylebd99/Cardinality-with-Colors/queryset/aids/Petal_6/uf_Q_3_1.txt\n"
     ]
    },
    {
     "name": "stdout",
     "output_type": "stream",
     "text": [
      "Query: /home/kylebd99/Cardinality-with-Colors/queryset/aids/Petal_6/uf_Q_3_10.txt\n",
      "Query: "
     ]
    },
    {
     "name": "stdout",
     "output_type": "stream",
     "text": [
      "/home/kylebd99/Cardinality-with-Colors/queryset/aids/Petal_6/uf_Q_3_11.txt\n"
     ]
    },
    {
     "name": "stdout",
     "output_type": "stream",
     "text": [
      "Query: /home/kylebd99/Cardinality-with-Colors/queryset/aids/Petal_6/uf_Q_3_12.txt\n",
      "Query: /home/kylebd99/Cardinality-with-Colors/queryset/aids/Petal_6/uf_Q_3_13.txt\n"
     ]
    },
    {
     "name": "stdout",
     "output_type": "stream",
     "text": [
      "Query: /home/kylebd99/Cardinality-with-Colors/queryset/aids/Petal_6/uf_Q_3_2.txt\n",
      "Query: /home/kylebd99/Cardinality-with-Colors/queryset/aids/Petal_6/uf_Q_3_3.txt\n"
     ]
    },
    {
     "name": "stdout",
     "output_type": "stream",
     "text": [
      "Query: /home/kylebd99/Cardinality-with-Colors/queryset/aids/Petal_6/uf_Q_3_4.txt\n",
      "Query: /home/kylebd99/Cardinality-with-Colors/queryset/aids/Petal_6/uf_Q_3_5.txt\n"
     ]
    },
    {
     "name": "stdout",
     "output_type": "stream",
     "text": [
      "Query: /home/kylebd99/Cardinality-with-Colors/queryset/aids/Petal_6/uf_Q_3_6.txt\n",
      "Query: /home/kylebd99/Cardinality-with-Colors/queryset/aids/Petal_6/uf_Q_3_7.txt\n"
     ]
    },
    {
     "name": "stdout",
     "output_type": "stream",
     "text": [
      "Query: /home/kylebd99/Cardinality-with-Colors/queryset/aids/Petal_6/uf_Q_3_8.txt\n",
      "Query: "
     ]
    },
    {
     "name": "stdout",
     "output_type": "stream",
     "text": [
      "/home/kylebd99/Cardinality-with-Colors/queryset/aids/Petal_6/uf_Q_3_9.txt\n"
     ]
    },
    {
     "name": "stdout",
     "output_type": "stream",
     "text": [
      "Query: /home/kylebd99/Cardinality-with-Colors/queryset/aids/Petal_6/uf_Q_4_1.txt\n",
      "Query: "
     ]
    },
    {
     "name": "stdout",
     "output_type": "stream",
     "text": [
      "/home/kylebd99/Cardinality-with-Colors/queryset/aids/Petal_6/uf_Q_4_10.txt\n"
     ]
    },
    {
     "name": "stdout",
     "output_type": "stream",
     "text": [
      "Query: /home/kylebd99/Cardinality-with-Colors/queryset/aids/Petal_6/uf_Q_4_11.txt\n",
      "Query: "
     ]
    },
    {
     "name": "stdout",
     "output_type": "stream",
     "text": [
      "/home/kylebd99/Cardinality-with-Colors/queryset/aids/Petal_6/uf_Q_4_12.txt\n"
     ]
    },
    {
     "name": "stdout",
     "output_type": "stream",
     "text": [
      "Query: /home/kylebd99/Cardinality-with-Colors/queryset/aids/Petal_6/uf_Q_4_13.txt\n",
      "Query: "
     ]
    },
    {
     "name": "stdout",
     "output_type": "stream",
     "text": [
      "/home/kylebd99/Cardinality-with-Colors/queryset/aids/Petal_6/uf_Q_4_14.txt\n"
     ]
    },
    {
     "name": "stdout",
     "output_type": "stream",
     "text": [
      "Query: /home/kylebd99/Cardinality-with-Colors/queryset/aids/Petal_6/uf_Q_4_15.txt\n",
      "Query: "
     ]
    },
    {
     "name": "stdout",
     "output_type": "stream",
     "text": [
      "/home/kylebd99/Cardinality-with-Colors/queryset/aids/Petal_6/uf_Q_4_16.txt\n"
     ]
    },
    {
     "name": "stdout",
     "output_type": "stream",
     "text": [
      "Query: /home/kylebd99/Cardinality-with-Colors/queryset/aids/Petal_6/uf_Q_4_17.txt\n",
      "Query: "
     ]
    },
    {
     "name": "stdout",
     "output_type": "stream",
     "text": [
      "/home/kylebd99/Cardinality-with-Colors/queryset/aids/Petal_6/uf_Q_4_18.txt\n"
     ]
    },
    {
     "name": "stdout",
     "output_type": "stream",
     "text": [
      "Query: /home/kylebd99/Cardinality-with-Colors/queryset/aids/Petal_6/uf_Q_4_19.txt\n",
      "Query: "
     ]
    },
    {
     "name": "stdout",
     "output_type": "stream",
     "text": [
      "/home/kylebd99/Cardinality-with-Colors/queryset/aids/Petal_6/uf_Q_4_2.txt\n"
     ]
    },
    {
     "name": "stdout",
     "output_type": "stream",
     "text": [
      "Query: /home/kylebd99/Cardinality-with-Colors/queryset/aids/Petal_6/uf_Q_4_20.txt\n",
      "Query: "
     ]
    },
    {
     "name": "stdout",
     "output_type": "stream",
     "text": [
      "/home/kylebd99/Cardinality-with-Colors/queryset/aids/Petal_6/uf_Q_4_3.txt\n"
     ]
    },
    {
     "name": "stdout",
     "output_type": "stream",
     "text": [
      "Query: /home/kylebd99/Cardinality-with-Colors/queryset/aids/Petal_6/uf_Q_4_4.txt\n",
      "Query: "
     ]
    },
    {
     "name": "stdout",
     "output_type": "stream",
     "text": [
      "/home/kylebd99/Cardinality-with-Colors/queryset/aids/Petal_6/uf_Q_4_5.txt\n"
     ]
    },
    {
     "name": "stdout",
     "output_type": "stream",
     "text": [
      "Query: /home/kylebd99/Cardinality-with-Colors/queryset/aids/Petal_6/uf_Q_4_6.txt\n",
      "Query: "
     ]
    },
    {
     "name": "stdout",
     "output_type": "stream",
     "text": [
      "/home/kylebd99/Cardinality-with-Colors/queryset/aids/Petal_6/uf_Q_4_7.txt\n"
     ]
    },
    {
     "name": "stdout",
     "output_type": "stream",
     "text": [
      "Query: /home/kylebd99/Cardinality-with-Colors/queryset/aids/Petal_6/uf_Q_4_8.txt\n",
      "Query: "
     ]
    },
    {
     "name": "stdout",
     "output_type": "stream",
     "text": [
      "/home/kylebd99/Cardinality-with-Colors/queryset/aids/Petal_6/uf_Q_4_9.txt\n"
     ]
    },
    {
     "name": "stdout",
     "output_type": "stream",
     "text": [
      "Query: /home/kylebd99/Cardinality-with-Colors/queryset/aids/Petal_6/uf_Q_5_1.txt\n",
      "Query: "
     ]
    },
    {
     "name": "stdout",
     "output_type": "stream",
     "text": [
      "/home/kylebd99/Cardinality-with-Colors/queryset/aids/Petal_6/uf_Q_5_2.txt\n"
     ]
    },
    {
     "name": "stdout",
     "output_type": "stream",
     "text": [
      "Query: /home/kylebd99/Cardinality-with-Colors/queryset/aids/Petal_6/uf_Q_5_3.txt\n",
      "Query: "
     ]
    },
    {
     "name": "stdout",
     "output_type": "stream",
     "text": [
      "/home/kylebd99/Cardinality-with-Colors/queryset/aids/Petal_6/uf_Q_5_4.txt\n"
     ]
    },
    {
     "name": "stdout",
     "output_type": "stream",
     "text": [
      "Query: /home/kylebd99/Cardinality-with-Colors/queryset/aids/Petal_6/uf_Q_5_5.txt\n",
      "Query: "
     ]
    },
    {
     "name": "stdout",
     "output_type": "stream",
     "text": [
      "/home/kylebd99/Cardinality-with-Colors/queryset/aids/Petal_9/uf_Q_2_1.txt\n"
     ]
    },
    {
     "name": "stdout",
     "output_type": "stream",
     "text": [
      "Query: /home/kylebd99/Cardinality-with-Colors/queryset/aids/Petal_9/uf_Q_3_2.txt\n",
      "Query: "
     ]
    },
    {
     "name": "stdout",
     "output_type": "stream",
     "text": [
      "/home/kylebd99/Cardinality-with-Colors/queryset/aids/Petal_9/uf_Q_3_3.txt\n"
     ]
    },
    {
     "name": "stdout",
     "output_type": "stream",
     "text": [
      "Query: /home/kylebd99/Cardinality-with-Colors/queryset/aids/Petal_9/uf_Q_3_4.txt\n",
      "Query: "
     ]
    },
    {
     "name": "stdout",
     "output_type": "stream",
     "text": [
      "/home/kylebd99/Cardinality-with-Colors/queryset/aids/Petal_9/uf_Q_3_6.txt\n"
     ]
    },
    {
     "name": "stdout",
     "output_type": "stream",
     "text": [
      "Query: /home/kylebd99/Cardinality-with-Colors/queryset/aids/Petal_9/uf_Q_4_1.txt\n",
      "Query: "
     ]
    },
    {
     "name": "stdout",
     "output_type": "stream",
     "text": [
      "/home/kylebd99/Cardinality-with-Colors/queryset/aids/Petal_9/uf_Q_4_10.txt\n"
     ]
    },
    {
     "name": "stdout",
     "output_type": "stream",
     "text": [
      "Query: /home/kylebd99/Cardinality-with-Colors/queryset/aids/Petal_9/uf_Q_4_11.txt\n",
      "Query: "
     ]
    },
    {
     "name": "stdout",
     "output_type": "stream",
     "text": [
      "/home/kylebd99/Cardinality-with-Colors/queryset/aids/Petal_9/uf_Q_4_12.txt\n"
     ]
    },
    {
     "name": "stdout",
     "output_type": "stream",
     "text": [
      "Query: /home/kylebd99/Cardinality-with-Colors/queryset/aids/Petal_9/uf_Q_4_13.txt\n",
      "Query: "
     ]
    },
    {
     "name": "stdout",
     "output_type": "stream",
     "text": [
      "/home/kylebd99/Cardinality-with-Colors/queryset/aids/Petal_9/uf_Q_4_14.txt\n"
     ]
    },
    {
     "name": "stdout",
     "output_type": "stream",
     "text": [
      "Query: /home/kylebd99/Cardinality-with-Colors/queryset/aids/Petal_9/uf_Q_4_15.txt\n",
      "Query: "
     ]
    },
    {
     "name": "stdout",
     "output_type": "stream",
     "text": [
      "/home/kylebd99/Cardinality-with-Colors/queryset/aids/Petal_9/uf_Q_4_16.txt\n"
     ]
    },
    {
     "name": "stdout",
     "output_type": "stream",
     "text": [
      "Query: /home/kylebd99/Cardinality-with-Colors/queryset/aids/Petal_9/uf_Q_4_17.txt\n",
      "Query: "
     ]
    },
    {
     "name": "stdout",
     "output_type": "stream",
     "text": [
      "/home/kylebd99/Cardinality-with-Colors/queryset/aids/Petal_9/uf_Q_4_18.txt\n"
     ]
    },
    {
     "name": "stdout",
     "output_type": "stream",
     "text": [
      "Query: /home/kylebd99/Cardinality-with-Colors/queryset/aids/Petal_9/uf_Q_4_19.txt\n",
      "Query: "
     ]
    },
    {
     "name": "stdout",
     "output_type": "stream",
     "text": [
      "/home/kylebd99/Cardinality-with-Colors/queryset/aids/Petal_9/uf_Q_4_2.txt\n"
     ]
    },
    {
     "name": "stdout",
     "output_type": "stream",
     "text": [
      "Query: /home/kylebd99/Cardinality-with-Colors/queryset/aids/Petal_9/uf_Q_4_20.txt\n",
      "Query: "
     ]
    },
    {
     "name": "stdout",
     "output_type": "stream",
     "text": [
      "/home/kylebd99/Cardinality-with-Colors/queryset/aids/Petal_9/uf_Q_4_3.txt\n"
     ]
    },
    {
     "name": "stdout",
     "output_type": "stream",
     "text": [
      "Query: /home/kylebd99/Cardinality-with-Colors/queryset/aids/Petal_9/uf_Q_4_4.txt\n",
      "Query: "
     ]
    },
    {
     "name": "stdout",
     "output_type": "stream",
     "text": [
      "/home/kylebd99/Cardinality-with-Colors/queryset/aids/Petal_9/uf_Q_4_5.txt\n"
     ]
    },
    {
     "name": "stdout",
     "output_type": "stream",
     "text": [
      "Query: /home/kylebd99/Cardinality-with-Colors/queryset/aids/Petal_9/uf_Q_4_6.txt\n",
      "Query: "
     ]
    },
    {
     "name": "stdout",
     "output_type": "stream",
     "text": [
      "/home/kylebd99/Cardinality-with-Colors/queryset/aids/Petal_9/uf_Q_4_7.txt\n"
     ]
    },
    {
     "name": "stdout",
     "output_type": "stream",
     "text": [
      "Query: /home/kylebd99/Cardinality-with-Colors/queryset/aids/Petal_9/uf_Q_4_8.txt\n",
      "Query: "
     ]
    },
    {
     "name": "stdout",
     "output_type": "stream",
     "text": [
      "/home/kylebd99/Cardinality-with-Colors/queryset/aids/Petal_9/uf_Q_4_9.txt\n"
     ]
    },
    {
     "name": "stdout",
     "output_type": "stream",
     "text": [
      "Query: /home/kylebd99/Cardinality-with-Colors/queryset/aids/Petal_12/uf_Q_2_1.txt\n",
      "Query: "
     ]
    },
    {
     "name": "stdout",
     "output_type": "stream",
     "text": [
      "/home/kylebd99/Cardinality-with-Colors/queryset/aids/Petal_12/uf_Q_3_1.txt\n"
     ]
    },
    {
     "name": "stdout",
     "output_type": "stream",
     "text": [
      "Query: /home/kylebd99/Cardinality-with-Colors/queryset/aids/Petal_12/uf_Q_4_1.txt\n",
      "Query: "
     ]
    },
    {
     "name": "stdout",
     "output_type": "stream",
     "text": [
      "/home/kylebd99/Cardinality-with-Colors/queryset/aids/Petal_12/uf_Q_4_2.txt\n"
     ]
    },
    {
     "name": "stdout",
     "output_type": "stream",
     "text": [
      "Query: /home/kylebd99/Cardinality-with-Colors/queryset/aids/Petal_12/uf_Q_4_3.txt\n",
      "Query: "
     ]
    },
    {
     "name": "stdout",
     "output_type": "stream",
     "text": [
      "/home/kylebd99/Cardinality-with-Colors/queryset/aids/Petal_12/uf_Q_5_12.txt\n"
     ]
    },
    {
     "name": "stdout",
     "output_type": "stream",
     "text": [
      "Query: /home/kylebd99/Cardinality-with-Colors/queryset/aids/Petal_12/uf_Q_5_13.txt\n",
      "Query: "
     ]
    },
    {
     "name": "stdout",
     "output_type": "stream",
     "text": [
      "/home/kylebd99/Cardinality-with-Colors/queryset/aids/Petal_12/uf_Q_5_14.txt\n"
     ]
    },
    {
     "name": "stdout",
     "output_type": "stream",
     "text": [
      "Query: /home/kylebd99/Cardinality-with-Colors/queryset/aids/Petal_12/uf_Q_5_19.txt\n",
      "Query: "
     ]
    },
    {
     "name": "stdout",
     "output_type": "stream",
     "text": [
      "/home/kylebd99/Cardinality-with-Colors/queryset/aids/Petal_12/uf_Q_5_2.txt\n"
     ]
    },
    {
     "name": "stdout",
     "output_type": "stream",
     "text": [
      "Query: /home/kylebd99/Cardinality-with-Colors/queryset/aids/Petal_12/uf_Q_5_3.txt\n",
      "Query: "
     ]
    },
    {
     "name": "stdout",
     "output_type": "stream",
     "text": [
      "/home/kylebd99/Cardinality-with-Colors/queryset/aids/Petal_12/uf_Q_5_4.txt\n"
     ]
    },
    {
     "name": "stdout",
     "output_type": "stream",
     "text": [
      "Query: /home/kylebd99/Cardinality-with-Colors/queryset/aids/Petal_12/uf_Q_5_5.txt\n",
      "Query: "
     ]
    },
    {
     "name": "stdout",
     "output_type": "stream",
     "text": [
      "/home/kylebd99/Cardinality-with-Colors/queryset/aids/Petal_12/uf_Q_5_9.txt\n"
     ]
    },
    {
     "name": "stdout",
     "output_type": "stream",
     "text": [
      "Query: /home/kylebd99/Cardinality-with-Colors/queryset/aids/Star_3/uf_Q_0_1.txt\n",
      "Query: /home/kylebd99/Cardinality-with-Colors/queryset/aids/Star_3/uf_Q_1_1.txt\n",
      "Query: /home/kylebd99/Cardinality-with-Colors/queryset/aids/Star_3/uf_Q_1_2.txt\n",
      "Query: /home/kylebd99/Cardinality-with-Colors/queryset/aids/Star_3/uf_Q_1_3.txt\n",
      "Query: /home/kylebd99/Cardinality-with-Colors/queryset/aids/Star_3/uf_Q_1_4.txt\n",
      "Query: /home/kylebd99/Cardinality-with-Colors/queryset/aids/Star_3/uf_Q_1_5.txt\n",
      "Query: /home/kylebd99/Cardinality-with-Colors/queryset/aids/Star_3/uf_Q_1_6.txt\n",
      "Query: /home/kylebd99/Cardinality-with-Colors/queryset/aids/Star_3/uf_Q_1_7.txt\n",
      "Query: /home/kylebd99/Cardinality-with-Colors/queryset/aids/Star_3/uf_Q_1_8.txt\n",
      "Query: /home/kylebd99/Cardinality-with-Colors/queryset/aids/Star_3/uf_Q_1_9.txt\n",
      "Query: /home/kylebd99/Cardinality-with-Colors/queryset/aids/Star_3/uf_Q_2_1.txt\n",
      "Query: /home/kylebd99/Cardinality-with-Colors/queryset/aids/Star_3/uf_Q_2_10.txt\n",
      "Query: /home/kylebd99/Cardinality-with-Colors/queryset/aids/Star_3/uf_Q_2_11.txt\n",
      "Query: /home/kylebd99/Cardinality-with-Colors/queryset/aids/Star_3/uf_Q_2_12.txt\n",
      "Query: /home/kylebd99/Cardinality-with-Colors/queryset/aids/Star_3/uf_Q_2_2.txt\n",
      "Query: /home/kylebd99/Cardinality-with-Colors/queryset/aids/Star_3/uf_Q_2_3.txt\n",
      "Query: /home/kylebd99/Cardinality-with-Colors/queryset/aids/Star_3/uf_Q_2_4.txt\n",
      "Query: /home/kylebd99/Cardinality-with-Colors/queryset/aids/Star_3/uf_Q_2_5.txt\n",
      "Query: /home/kylebd99/Cardinality-with-Colors/queryset/aids/Star_3/uf_Q_2_6.txt\n",
      "Query: /home/kylebd99/Cardinality-with-Colors/queryset/aids/Star_3/uf_Q_2_7.txt\n",
      "Query: /home/kylebd99/Cardinality-with-Colors/queryset/aids/Star_3/uf_Q_2_8.txt\n",
      "Query: /home/kylebd99/Cardinality-with-Colors/queryset/aids/Star_3/uf_Q_2_9.txt\n",
      "Query: /home/kylebd99/Cardinality-with-Colors/queryset/aids/Star_3/uf_Q_3_1.txt\n",
      "Query: /home/kylebd99/Cardinality-with-Colors/queryset/aids/Star_3/uf_Q_3_10.txt\n",
      "Query: /home/kylebd99/Cardinality-with-Colors/queryset/aids/Star_3/uf_Q_3_11.txt\n",
      "Query: /home/kylebd99/Cardinality-with-Colors/queryset/aids/Star_3/uf_Q_3_12.txt\n",
      "Query: /home/kylebd99/Cardinality-with-Colors/queryset/aids/Star_3/uf_Q_3_13.txt\n",
      "Query: /home/kylebd99/Cardinality-with-Colors/queryset/aids/Star_3/uf_Q_3_14.txt\n",
      "Query: /home/kylebd99/Cardinality-with-Colors/queryset/aids/Star_3/uf_Q_3_15.txt\n",
      "Query: /home/kylebd99/Cardinality-with-Colors/queryset/aids/Star_3/uf_Q_3_16.txt\n",
      "Query: /home/kylebd99/Cardinality-with-Colors/queryset/aids/Star_3/uf_Q_3_17.txt\n",
      "Query: /home/kylebd99/Cardinality-with-Colors/queryset/aids/Star_3/uf_Q_3_2.txt\n",
      "Query: /home/kylebd99/Cardinality-with-Colors/queryset/aids/Star_3/uf_Q_3_3.txt\n",
      "Query: /home/kylebd99/Cardinality-with-Colors/queryset/aids/Star_3/uf_Q_3_4.txt\n",
      "Query: /home/kylebd99/Cardinality-with-Colors/queryset/aids/Star_3/uf_Q_3_5.txt\n",
      "Query: /home/kylebd99/Cardinality-with-Colors/queryset/aids/Star_3/uf_Q_3_6.txt\n",
      "Query: /home/kylebd99/Cardinality-with-Colors/queryset/aids/Star_3/uf_Q_3_7.txt\n",
      "Query: /home/kylebd99/Cardinality-with-Colors/queryset/aids/Star_3/uf_Q_3_8.txt\n",
      "Query: /home/kylebd99/Cardinality-with-Colors/queryset/aids/Star_3/uf_Q_3_9.txt\n",
      "Query: /home/kylebd99/Cardinality-with-Colors/queryset/aids/Star_3/uf_Q_4_1.txt\n",
      "Query: /home/kylebd99/Cardinality-with-Colors/queryset/aids/Star_3/uf_Q_4_10.txt\n",
      "Query: /home/kylebd99/Cardinality-with-Colors/queryset/aids/Star_3/uf_Q_4_11.txt\n",
      "Query: /home/kylebd99/Cardinality-with-Colors/queryset/aids/Star_3/uf_Q_4_12.txt\n",
      "Query: /home/kylebd99/Cardinality-with-Colors/queryset/aids/Star_3/uf_Q_4_13.txt\n",
      "Query: /home/kylebd99/Cardinality-with-Colors/queryset/aids/Star_3/uf_Q_4_14.txt\n",
      "Query: /home/kylebd99/Cardinality-with-Colors/queryset/aids/Star_3/uf_Q_4_15.txt\n",
      "Query: /home/kylebd99/Cardinality-with-Colors/queryset/aids/Star_3/uf_Q_4_16.txt\n",
      "Query: /home/kylebd99/Cardinality-with-Colors/queryset/aids/Star_3/uf_Q_4_17.txt\n",
      "Query: /home/kylebd99/Cardinality-with-Colors/queryset/aids/Star_3/uf_Q_4_18.txt\n",
      "Query: /home/kylebd99/Cardinality-with-Colors/queryset/aids/Star_3/uf_Q_4_19.txt\n",
      "Query: /home/kylebd99/Cardinality-with-Colors/queryset/aids/Star_3/uf_Q_4_2.txt\n",
      "Query: /home/kylebd99/Cardinality-with-Colors/queryset/aids/Star_3/uf_Q_4_20.txt\n",
      "Query: /home/kylebd99/Cardinality-with-Colors/queryset/aids/Star_3/uf_Q_4_3.txt\n",
      "Query: /home/kylebd99/Cardinality-with-Colors/queryset/aids/Star_3/uf_Q_4_4.txt\n",
      "Query: /home/kylebd99/Cardinality-with-Colors/queryset/aids/Star_3/uf_Q_4_5.txt\n",
      "Query: /home/kylebd99/Cardinality-with-Colors/queryset/aids/Star_3/uf_Q_4_6.txt\n",
      "Query: /home/kylebd99/Cardinality-with-Colors/queryset/aids/Star_3/uf_Q_4_7.txt\n",
      "Query: /home/kylebd99/Cardinality-with-Colors/queryset/aids/Star_3/uf_Q_4_8.txt\n",
      "Query: /home/kylebd99/Cardinality-with-Colors/queryset/aids/Star_3/uf_Q_4_9.txt\n",
      "Query: /home/kylebd99/Cardinality-with-Colors/queryset/aids/Star_6/uf_Q_1_1.txt\n",
      "Query: /home/kylebd99/Cardinality-with-Colors/queryset/aids/Star_6/uf_Q_2_1.txt\n",
      "Query: /home/kylebd99/Cardinality-with-Colors/queryset/aids/Star_6/uf_Q_2_2.txt\n",
      "Query: /home/kylebd99/Cardinality-with-Colors/queryset/aids/Star_6/uf_Q_2_3.txt\n",
      "Query: /home/kylebd99/Cardinality-with-Colors/queryset/aids/Star_6/uf_Q_2_4.txt\n",
      "Query: /home/kylebd99/Cardinality-with-Colors/queryset/aids/Star_6/uf_Q_2_5.txt\n",
      "Query: /home/kylebd99/Cardinality-with-Colors/queryset/aids/Star_6/uf_Q_2_6.txt\n",
      "Query: /home/kylebd99/Cardinality-with-Colors/queryset/aids/Star_6/uf_Q_2_7.txt\n",
      "Query: /home/kylebd99/Cardinality-with-Colors/queryset/aids/Star_6/uf_Q_3_1.txt\n",
      "Query: /home/kylebd99/Cardinality-with-Colors/queryset/aids/Star_6/uf_Q_3_2.txt\n",
      "Query: /home/kylebd99/Cardinality-with-Colors/queryset/aids/Star_6/uf_Q_3_3.txt\n",
      "Query: /home/kylebd99/Cardinality-with-Colors/queryset/aids/Star_6/uf_Q_3_4.txt\n",
      "Query: /home/kylebd99/Cardinality-with-Colors/queryset/aids/Star_6/uf_Q_4_1.txt\n",
      "Query: /home/kylebd99/Cardinality-with-Colors/queryset/aids/Star_6/uf_Q_4_2.txt\n",
      "Query: /home/kylebd99/Cardinality-with-Colors/queryset/aids/Star_6/uf_Q_4_3.txt\n",
      "Query: /home/kylebd99/Cardinality-with-Colors/queryset/aids/Star_6/uf_Q_4_4.txt\n",
      "Query: /home/kylebd99/Cardinality-with-Colors/queryset/aids/Star_6/uf_Q_4_5.txt\n",
      "Query: /home/kylebd99/Cardinality-with-Colors/queryset/aids/Star_6/uf_Q_4_6.txt\n",
      "Query: /home/kylebd99/Cardinality-with-Colors/queryset/aids/Star_6/uf_Q_4_7.txt\n",
      "Query: /home/kylebd99/Cardinality-with-Colors/queryset/aids/Star_6/uf_Q_4_8.txt\n",
      "Query: /home/kylebd99/Cardinality-with-Colors/queryset/aids/Star_6/uf_Q_5_1.txt\n",
      "Query: /home/kylebd99/Cardinality-with-Colors/queryset/aids/Star_6/uf_Q_5_10.txt\n",
      "Query: /home/kylebd99/Cardinality-with-Colors/queryset/aids/Star_6/uf_Q_5_11.txt\n",
      "Query: /home/kylebd99/Cardinality-with-Colors/queryset/aids/Star_6/uf_Q_5_12.txt\n",
      "Query: /home/kylebd99/Cardinality-with-Colors/queryset/aids/Star_6/uf_Q_5_13.txt\n",
      "Query: /home/kylebd99/Cardinality-with-Colors/queryset/aids/Star_6/uf_Q_5_14.txt\n",
      "Query: /home/kylebd99/Cardinality-with-Colors/queryset/aids/Star_6/uf_Q_5_15.txt\n",
      "Query: /home/kylebd99/Cardinality-with-Colors/queryset/aids/Star_6/uf_Q_5_16.txt\n",
      "Query: /home/kylebd99/Cardinality-with-Colors/queryset/aids/Star_6/uf_Q_5_17.txt\n",
      "Query: /home/kylebd99/Cardinality-with-Colors/queryset/aids/Star_6/uf_Q_5_18.txt\n",
      "Query: /home/kylebd99/Cardinality-with-Colors/queryset/aids/Star_6/uf_Q_5_19.txt\n",
      "Query: /home/kylebd99/Cardinality-with-Colors/queryset/aids/Star_6/uf_Q_5_2.txt\n",
      "Query: /home/kylebd99/Cardinality-with-Colors/queryset/aids/Star_6/uf_Q_5_20.txt\n",
      "Query: /home/kylebd99/Cardinality-with-Colors/queryset/aids/Star_6/uf_Q_5_3.txt\n",
      "Query: /home/kylebd99/Cardinality-with-Colors/queryset/aids/Star_6/uf_Q_5_4.txt\n",
      "Query: /home/kylebd99/Cardinality-with-Colors/queryset/aids/Star_6/uf_Q_5_5.txt\n",
      "Query: /home/kylebd99/Cardinality-with-Colors/queryset/aids/Star_6/uf_Q_5_6.txt\n",
      "Query: /home/kylebd99/Cardinality-with-Colors/queryset/aids/Star_6/uf_Q_5_7.txt\n",
      "Query: /home/kylebd99/Cardinality-with-Colors/queryset/aids/Star_6/uf_Q_5_8.txt\n",
      "Query: /home/kylebd99/Cardinality-with-Colors/queryset/aids/Star_6/uf_Q_5_9.txt\n",
      "Query: /home/kylebd99/Cardinality-with-Colors/queryset/aids/Star_9/uf_Q_3_1.txt\n",
      "Query: /home/kylebd99/Cardinality-with-Colors/queryset/aids/Star_9/uf_Q_3_10.txt\n",
      "Query: /home/kylebd99/Cardinality-with-Colors/queryset/aids/Star_9/uf_Q_3_11.txt\n"
     ]
    },
    {
     "name": "stdout",
     "output_type": "stream",
     "text": [
      "Query: /home/kylebd99/Cardinality-with-Colors/queryset/aids/Star_9/uf_Q_3_2.txt\n",
      "Query: /home/kylebd99/Cardinality-with-Colors/queryset/aids/Star_9/uf_Q_3_3.txt\n",
      "Query: /home/kylebd99/Cardinality-with-Colors/queryset/aids/Star_9/uf_Q_3_4.txt\n",
      "Query: /home/kylebd99/Cardinality-with-Colors/queryset/aids/Star_9/uf_Q_3_5.txt\n",
      "Query: /home/kylebd99/Cardinality-with-Colors/queryset/aids/Star_9/uf_Q_3_6.txt\n",
      "Query: /home/kylebd99/Cardinality-with-Colors/queryset/aids/Star_9/uf_Q_3_7.txt\n",
      "Query: /home/kylebd99/Cardinality-with-Colors/queryset/aids/Star_9/uf_Q_3_8.txt\n",
      "Query: /home/kylebd99/Cardinality-with-Colors/queryset/aids/Star_9/uf_Q_3_9.txt\n",
      "Query: /home/kylebd99/Cardinality-with-Colors/queryset/aids/Star_9/uf_Q_5_1.txt\n",
      "Query: /home/kylebd99/Cardinality-with-Colors/queryset/aids/Star_9/uf_Q_5_10.txt\n",
      "Query: /home/kylebd99/Cardinality-with-Colors/queryset/aids/Star_9/uf_Q_5_11.txt\n",
      "Query: /home/kylebd99/Cardinality-with-Colors/queryset/aids/Star_9/uf_Q_5_2.txt\n",
      "Query: /home/kylebd99/Cardinality-with-Colors/queryset/aids/Star_9/uf_Q_5_3.txt\n",
      "Query: /home/kylebd99/Cardinality-with-Colors/queryset/aids/Star_9/uf_Q_5_4.txt\n",
      "Query: /home/kylebd99/Cardinality-with-Colors/queryset/aids/Star_9/uf_Q_5_5.txt\n",
      "Query: /home/kylebd99/Cardinality-with-Colors/queryset/aids/Star_9/uf_Q_5_6.txt\n",
      "Query: /home/kylebd99/Cardinality-with-Colors/queryset/aids/Star_9/uf_Q_5_7.txt\n",
      "Query: /home/kylebd99/Cardinality-with-Colors/queryset/aids/Star_9/uf_Q_5_8.txt\n",
      "Query: /home/kylebd99/Cardinality-with-Colors/queryset/aids/Star_9/uf_Q_5_9.txt\n",
      "Query: /home/kylebd99/Cardinality-with-Colors/queryset/aids/Tree_3/uf_Q_0_1.txt\n",
      "Query: /home/kylebd99/Cardinality-with-Colors/queryset/aids/Tree_3/uf_Q_1_1.txt\n",
      "Query: /home/kylebd99/Cardinality-with-Colors/queryset/aids/Tree_3/uf_Q_1_2.txt\n",
      "Query: /home/kylebd99/Cardinality-with-Colors/queryset/aids/Tree_3/uf_Q_1_3.txt\n",
      "Query: /home/kylebd99/Cardinality-with-Colors/queryset/aids/Tree_3/uf_Q_1_4.txt\n",
      "Query: /home/kylebd99/Cardinality-with-Colors/queryset/aids/Tree_3/uf_Q_1_5.txt\n",
      "Query: /home/kylebd99/Cardinality-with-Colors/queryset/aids/Tree_3/uf_Q_1_6.txt\n",
      "Query: /home/kylebd99/Cardinality-with-Colors/queryset/aids/Tree_3/uf_Q_2_1.txt\n",
      "Query: /home/kylebd99/Cardinality-with-Colors/queryset/aids/Tree_3/uf_Q_2_2.txt\n",
      "Query: /home/kylebd99/Cardinality-with-Colors/queryset/aids/Tree_3/uf_Q_2_3.txt\n",
      "Query: /home/kylebd99/Cardinality-with-Colors/queryset/aids/Tree_3/uf_Q_2_4.txt\n",
      "Query: /home/kylebd99/Cardinality-with-Colors/queryset/aids/Tree_3/uf_Q_2_5.txt\n",
      "Query: /home/kylebd99/Cardinality-with-Colors/queryset/aids/Tree_3/uf_Q_2_6.txt\n",
      "Query: /home/kylebd99/Cardinality-with-Colors/queryset/aids/Tree_3/uf_Q_2_7.txt\n",
      "Query: /home/kylebd99/Cardinality-with-Colors/queryset/aids/Tree_3/uf_Q_2_8.txt\n",
      "Query: /home/kylebd99/Cardinality-with-Colors/queryset/aids/Tree_3/uf_Q_2_9.txt\n",
      "Query: /home/kylebd99/Cardinality-with-Colors/queryset/aids/Tree_3/uf_Q_3_1.txt\n",
      "Query: /home/kylebd99/Cardinality-with-Colors/queryset/aids/Tree_3/uf_Q_3_10.txt\n",
      "Query: /home/kylebd99/Cardinality-with-Colors/queryset/aids/Tree_3/uf_Q_3_11.txt\n",
      "Query: /home/kylebd99/Cardinality-with-Colors/queryset/aids/Tree_3/uf_Q_3_2.txt\n",
      "Query: /home/kylebd99/Cardinality-with-Colors/queryset/aids/Tree_3/uf_Q_3_3.txt\n",
      "Query: /home/kylebd99/Cardinality-with-Colors/queryset/aids/Tree_3/uf_Q_3_4.txt\n",
      "Query: /home/kylebd99/Cardinality-with-Colors/queryset/aids/Tree_3/uf_Q_3_5.txt\n",
      "Query: /home/kylebd99/Cardinality-with-Colors/queryset/aids/Tree_3/uf_Q_3_6.txt\n",
      "Query: /home/kylebd99/Cardinality-with-Colors/queryset/aids/Tree_3/uf_Q_3_7.txt\n",
      "Query: /home/kylebd99/Cardinality-with-Colors/queryset/aids/Tree_3/uf_Q_3_8.txt\n",
      "Query: /home/kylebd99/Cardinality-with-Colors/queryset/aids/Tree_3/uf_Q_3_9.txt\n",
      "Query: /home/kylebd99/Cardinality-with-Colors/queryset/aids/Tree_3/uf_Q_4_1.txt\n",
      "Query: /home/kylebd99/Cardinality-with-Colors/queryset/aids/Tree_3/uf_Q_4_10.txt\n"
     ]
    },
    {
     "name": "stdout",
     "output_type": "stream",
     "text": [
      "Query: /home/kylebd99/Cardinality-with-Colors/queryset/aids/Tree_3/uf_Q_4_11.txt\n",
      "Query: /home/kylebd99/Cardinality-with-Colors/queryset/aids/Tree_3/uf_Q_4_12.txt\n",
      "Query: /home/kylebd99/Cardinality-with-Colors/queryset/aids/Tree_3/uf_Q_4_13.txt\n",
      "Query: /home/kylebd99/Cardinality-with-Colors/queryset/aids/Tree_3/uf_Q_4_14.txt\n",
      "Query: /home/kylebd99/Cardinality-with-Colors/queryset/aids/Tree_3/uf_Q_4_15.txt\n",
      "Query: /home/kylebd99/Cardinality-with-Colors/queryset/aids/Tree_3/uf_Q_4_16.txt\n",
      "Query: /home/kylebd99/Cardinality-with-Colors/queryset/aids/Tree_3/uf_Q_4_17.txt\n",
      "Query: /home/kylebd99/Cardinality-with-Colors/queryset/aids/Tree_3/uf_Q_4_18.txt\n",
      "Query: /home/kylebd99/Cardinality-with-Colors/queryset/aids/Tree_3/uf_Q_4_19.txt\n",
      "Query: /home/kylebd99/Cardinality-with-Colors/queryset/aids/Tree_3/uf_Q_4_2.txt\n",
      "Query: /home/kylebd99/Cardinality-with-Colors/queryset/aids/Tree_3/uf_Q_4_20.txt\n",
      "Query: /home/kylebd99/Cardinality-with-Colors/queryset/aids/Tree_3/uf_Q_4_3.txt\n",
      "Query: /home/kylebd99/Cardinality-with-Colors/queryset/aids/Tree_3/uf_Q_4_4.txt\n",
      "Query: /home/kylebd99/Cardinality-with-Colors/queryset/aids/Tree_3/uf_Q_4_5.txt\n",
      "Query: /home/kylebd99/Cardinality-with-Colors/queryset/aids/Tree_3/uf_Q_4_6.txt\n",
      "Query: /home/kylebd99/Cardinality-with-Colors/queryset/aids/Tree_3/uf_Q_4_7.txt\n",
      "Query: /home/kylebd99/Cardinality-with-Colors/queryset/aids/Tree_3/uf_Q_4_8.txt\n",
      "Query: /home/kylebd99/Cardinality-with-Colors/queryset/aids/Tree_3/uf_Q_4_9.txt\n",
      "Query: /home/kylebd99/Cardinality-with-Colors/queryset/aids/Tree_3/uf_Q_5_1.txt\n",
      "Query: /home/kylebd99/Cardinality-with-Colors/queryset/aids/Tree_6/uf_Q_1_1.txt\n",
      "Query: /home/kylebd99/Cardinality-with-Colors/queryset/aids/Tree_6/uf_Q_1_2.txt\n",
      "Query: /home/kylebd99/Cardinality-with-Colors/queryset/aids/Tree_6/uf_Q_1_3.txt\n",
      "Query: /home/kylebd99/Cardinality-with-Colors/queryset/aids/Tree_6/uf_Q_1_4.txt\n",
      "Query: /home/kylebd99/Cardinality-with-Colors/queryset/aids/Tree_6/uf_Q_2_1.txt\n",
      "Query: /home/kylebd99/Cardinality-with-Colors/queryset/aids/Tree_6/uf_Q_2_2.txt\n",
      "Query: /home/kylebd99/Cardinality-with-Colors/queryset/aids/Tree_6/uf_Q_2_3.txt\n",
      "Query: /home/kylebd99/Cardinality-with-Colors/queryset/aids/Tree_6/uf_Q_2_4.txt\n",
      "Query: /home/kylebd99/Cardinality-with-Colors/queryset/aids/Tree_6/uf_Q_2_5.txt\n",
      "Query: /home/kylebd99/Cardinality-with-Colors/queryset/aids/Tree_6/uf_Q_2_6.txt\n",
      "Query: /home/kylebd99/Cardinality-with-Colors/queryset/aids/Tree_6/uf_Q_3_1.txt\n",
      "Query: /home/kylebd99/Cardinality-with-Colors/queryset/aids/Tree_6/uf_Q_3_10.txt\n",
      "Query: /home/kylebd99/Cardinality-with-Colors/queryset/aids/Tree_6/uf_Q_3_11.txt\n",
      "Query: /home/kylebd99/Cardinality-with-Colors/queryset/aids/Tree_6/uf_Q_3_12.txt\n",
      "Query: /home/kylebd99/Cardinality-with-Colors/queryset/aids/Tree_6/uf_Q_3_13.txt\n",
      "Query: /home/kylebd99/Cardinality-with-Colors/queryset/aids/Tree_6/uf_Q_3_14.txt\n",
      "Query: /home/kylebd99/Cardinality-with-Colors/queryset/aids/Tree_6/uf_Q_3_2.txt\n"
     ]
    },
    {
     "name": "stdout",
     "output_type": "stream",
     "text": [
      "Query: /home/kylebd99/Cardinality-with-Colors/queryset/aids/Tree_6/uf_Q_3_3.txt\n",
      "Query: /home/kylebd99/Cardinality-with-Colors/queryset/aids/Tree_6/uf_Q_3_4.txt\n",
      "Query: /home/kylebd99/Cardinality-with-Colors/queryset/aids/Tree_6/uf_Q_3_5.txt\n",
      "Query: /home/kylebd99/Cardinality-with-Colors/queryset/aids/Tree_6/uf_Q_3_6.txt\n",
      "Query: /home/kylebd99/Cardinality-with-Colors/queryset/aids/Tree_6/uf_Q_3_7.txt\n",
      "Query: /home/kylebd99/Cardinality-with-Colors/queryset/aids/Tree_6/uf_Q_3_8.txt\n",
      "Query: /home/kylebd99/Cardinality-with-Colors/queryset/aids/Tree_6/uf_Q_3_9.txt\n",
      "Query: /home/kylebd99/Cardinality-with-Colors/queryset/aids/Tree_6/uf_Q_4_1.txt\n",
      "Query: /home/kylebd99/Cardinality-with-Colors/queryset/aids/Tree_6/uf_Q_4_2.txt\n",
      "Query: /home/kylebd99/Cardinality-with-Colors/queryset/aids/Tree_6/uf_Q_4_3.txt\n",
      "Query: /home/kylebd99/Cardinality-with-Colors/queryset/aids/Tree_6/uf_Q_4_4.txt\n",
      "Query: /home/kylebd99/Cardinality-with-Colors/queryset/aids/Tree_6/uf_Q_4_5.txt\n",
      "Query: /home/kylebd99/Cardinality-with-Colors/queryset/aids/Tree_6/uf_Q_5_1.txt\n",
      "Query: /home/kylebd99/Cardinality-with-Colors/queryset/aids/Tree_6/uf_Q_5_10.txt\n",
      "Query: /home/kylebd99/Cardinality-with-Colors/queryset/aids/Tree_6/uf_Q_5_11.txt\n",
      "Query: /home/kylebd99/Cardinality-with-Colors/queryset/aids/Tree_6/uf_Q_5_12.txt\n",
      "Query: /home/kylebd99/Cardinality-with-Colors/queryset/aids/Tree_6/uf_Q_5_13.txt\n",
      "Query: /home/kylebd99/Cardinality-with-Colors/queryset/aids/Tree_6/uf_Q_5_14.txt\n",
      "Query: /home/kylebd99/Cardinality-with-Colors/queryset/aids/Tree_6/uf_Q_5_15.txt\n",
      "Query: /home/kylebd99/Cardinality-with-Colors/queryset/aids/Tree_6/uf_Q_5_16.txt\n",
      "Query: /home/kylebd99/Cardinality-with-Colors/queryset/aids/Tree_6/uf_Q_5_17.txt\n",
      "Query: /home/kylebd99/Cardinality-with-Colors/queryset/aids/Tree_6/uf_Q_5_18.txt\n",
      "Query: /home/kylebd99/Cardinality-with-Colors/queryset/aids/Tree_6/uf_Q_5_19.txt\n",
      "Query: /home/kylebd99/Cardinality-with-Colors/queryset/aids/Tree_6/uf_Q_5_2.txt\n",
      "Query: /home/kylebd99/Cardinality-with-Colors/queryset/aids/Tree_6/uf_Q_5_20.txt\n",
      "Query: /home/kylebd99/Cardinality-with-Colors/queryset/aids/Tree_6/uf_Q_5_3.txt\n",
      "Query: /home/kylebd99/Cardinality-with-Colors/queryset/aids/Tree_6/uf_Q_5_4.txt\n",
      "Query: /home/kylebd99/Cardinality-with-Colors/queryset/aids/Tree_6/uf_Q_5_5.txt\n",
      "Query: /home/kylebd99/Cardinality-with-Colors/queryset/aids/Tree_6/uf_Q_5_6.txt\n",
      "Query: /home/kylebd99/Cardinality-with-Colors/queryset/aids/Tree_6/uf_Q_5_7.txt\n",
      "Query: /home/kylebd99/Cardinality-with-Colors/queryset/aids/Tree_6/uf_Q_5_8.txt\n",
      "Query: /home/kylebd99/Cardinality-with-Colors/queryset/aids/Tree_6/uf_Q_5_9.txt\n",
      "Query: /home/kylebd99/Cardinality-with-Colors/queryset/aids/Tree_9/uf_Q_0_1.txt\n",
      "Query: /home/kylebd99/Cardinality-with-Colors/queryset/aids/Tree_9/uf_Q_2_1.txt\n",
      "Query: /home/kylebd99/Cardinality-with-Colors/queryset/aids/Tree_9/uf_Q_3_1.txt\n",
      "Query: /home/kylebd99/Cardinality-with-Colors/queryset/aids/Tree_9/uf_Q_3_10.txt\n",
      "Query: /home/kylebd99/Cardinality-with-Colors/queryset/aids/Tree_9/uf_Q_3_2.txt\n",
      "Query: /home/kylebd99/Cardinality-with-Colors/queryset/aids/Tree_9/uf_Q_3_3.txt\n",
      "Query: /home/kylebd99/Cardinality-with-Colors/queryset/aids/Tree_9/uf_Q_3_4.txt\n",
      "Query: "
     ]
    },
    {
     "name": "stdout",
     "output_type": "stream",
     "text": [
      "/home/kylebd99/Cardinality-with-Colors/queryset/aids/Tree_9/uf_Q_3_5.txt\n",
      "Query: /home/kylebd99/Cardinality-with-Colors/queryset/aids/Tree_9/uf_Q_3_6.txt\n",
      "Query: /home/kylebd99/Cardinality-with-Colors/queryset/aids/Tree_9/uf_Q_3_7.txt\n",
      "Query: /home/kylebd99/Cardinality-with-Colors/queryset/aids/Tree_9/uf_Q_3_8.txt\n",
      "Query: /home/kylebd99/Cardinality-with-Colors/queryset/aids/Tree_9/uf_Q_3_9.txt\n",
      "Query: /home/kylebd99/Cardinality-with-Colors/queryset/aids/Tree_9/uf_Q_4_1.txt\n",
      "Query: /home/kylebd99/Cardinality-with-Colors/queryset/aids/Tree_9/uf_Q_4_10.txt\n",
      "Query: /home/kylebd99/Cardinality-with-Colors/queryset/aids/Tree_9/uf_Q_4_11.txt\n",
      "Query: /home/kylebd99/Cardinality-with-Colors/queryset/aids/Tree_9/uf_Q_4_12.txt\n",
      "Query: /home/kylebd99/Cardinality-with-Colors/queryset/aids/Tree_9/uf_Q_4_13.txt\n",
      "Query: /home/kylebd99/Cardinality-with-Colors/queryset/aids/Tree_9/uf_Q_4_14.txt\n",
      "Query: /home/kylebd99/Cardinality-with-Colors/queryset/aids/Tree_9/uf_Q_4_15.txt\n",
      "Query: /home/kylebd99/Cardinality-with-Colors/queryset/aids/Tree_9/uf_Q_4_2.txt\n",
      "Query: /home/kylebd99/Cardinality-with-Colors/queryset/aids/Tree_9/uf_Q_4_3.txt\n",
      "Query: /home/kylebd99/Cardinality-with-Colors/queryset/aids/Tree_9/uf_Q_4_4.txt\n",
      "Query: /home/kylebd99/Cardinality-with-Colors/queryset/aids/Tree_9/uf_Q_4_5.txt\n",
      "Query: "
     ]
    },
    {
     "name": "stdout",
     "output_type": "stream",
     "text": [
      "/home/kylebd99/Cardinality-with-Colors/queryset/aids/Tree_9/uf_Q_4_6.txt\n",
      "Query: /home/kylebd99/Cardinality-with-Colors/queryset/aids/Tree_9/uf_Q_4_7.txt\n",
      "Query: /home/kylebd99/Cardinality-with-Colors/queryset/aids/Tree_9/uf_Q_4_8.txt\n",
      "Query: /home/kylebd99/Cardinality-with-Colors/queryset/aids/Tree_9/uf_Q_4_9.txt\n",
      "Query: /home/kylebd99/Cardinality-with-Colors/queryset/aids/Tree_9/uf_Q_5_1.txt\n",
      "Query: /home/kylebd99/Cardinality-with-Colors/queryset/aids/Tree_9/uf_Q_5_10.txt\n",
      "Query: /home/kylebd99/Cardinality-with-Colors/queryset/aids/Tree_9/uf_Q_5_11.txt\n",
      "Query: /home/kylebd99/Cardinality-with-Colors/queryset/aids/Tree_9/uf_Q_5_2.txt\n",
      "Query: /home/kylebd99/Cardinality-with-Colors/queryset/aids/Tree_9/uf_Q_5_3.txt\n",
      "Query: /home/kylebd99/Cardinality-with-Colors/queryset/aids/Tree_9/uf_Q_5_4.txt\n",
      "Query: /home/kylebd99/Cardinality-with-Colors/queryset/aids/Tree_9/uf_Q_5_5.txt\n",
      "Query: /home/kylebd99/Cardinality-with-Colors/queryset/aids/Tree_9/uf_Q_5_6.txt\n",
      "Query: /home/kylebd99/Cardinality-with-Colors/queryset/aids/Tree_9/uf_Q_5_7.txt\n",
      "Query: /home/kylebd99/Cardinality-with-Colors/queryset/aids/Tree_9/uf_Q_5_8.txt\n",
      "Query: /home/kylebd99/Cardinality-with-Colors/queryset/aids/Tree_9/uf_Q_5_9.txt\n"
     ]
    },
    {
     "name": "stdout",
     "output_type": "stream",
     "text": [
      "Query: /home/kylebd99/Cardinality-with-Colors/queryset/aids/Tree_12/uf_Q_0_1.txt\n",
      "Query: /home/kylebd99/Cardinality-with-Colors/queryset/aids/Tree_12/uf_Q_3_1.txt\n",
      "Query: /home/kylebd99/Cardinality-with-Colors/queryset/aids/Tree_12/uf_Q_3_11.txt\n",
      "Query: /home/kylebd99/Cardinality-with-Colors/queryset/aids/Tree_12/uf_Q_3_2.txt\n",
      "Query: /home/kylebd99/Cardinality-with-Colors/queryset/aids/Tree_12/uf_Q_4_1.txt\n",
      "Query: /home/kylebd99/Cardinality-with-Colors/queryset/aids/Tree_12/uf_Q_4_10.txt\n",
      "Query: /home/kylebd99/Cardinality-with-Colors/queryset/aids/Tree_12/uf_Q_4_11.txt\n",
      "Query: /home/kylebd99/Cardinality-with-Colors/queryset/aids/Tree_12/uf_Q_4_12.txt\n",
      "Query: /home/kylebd99/Cardinality-with-Colors/queryset/aids/Tree_12/uf_Q_4_13.txt\n",
      "Query: /home/kylebd99/Cardinality-with-Colors/queryset/aids/Tree_12/uf_Q_4_14.txt\n",
      "Query: /home/kylebd99/Cardinality-with-Colors/queryset/aids/Tree_12/uf_Q_4_2.txt\n",
      "Query: "
     ]
    },
    {
     "name": "stdout",
     "output_type": "stream",
     "text": [
      "/home/kylebd99/Cardinality-with-Colors/queryset/aids/Tree_12/uf_Q_4_3.txt\n",
      "Query: /home/kylebd99/Cardinality-with-Colors/queryset/aids/Tree_12/uf_Q_4_4.txt\n",
      "Query: /home/kylebd99/Cardinality-with-Colors/queryset/aids/Tree_12/uf_Q_4_5.txt\n",
      "Query: /home/kylebd99/Cardinality-with-Colors/queryset/aids/Tree_12/uf_Q_4_6.txt\n",
      "Query: /home/kylebd99/Cardinality-with-Colors/queryset/aids/Tree_12/uf_Q_4_7.txt\n",
      "Query: /home/kylebd99/Cardinality-with-Colors/queryset/aids/Tree_12/uf_Q_4_8.txt\n",
      "Query: "
     ]
    },
    {
     "name": "stdout",
     "output_type": "stream",
     "text": [
      "/home/kylebd99/Cardinality-with-Colors/queryset/aids/Tree_12/uf_Q_4_9.txt\n",
      "Query: /home/kylebd99/Cardinality-with-Colors/queryset/aids/Tree_12/uf_Q_5_1.txt\n",
      "Query: /home/kylebd99/Cardinality-with-Colors/queryset/aids/Tree_12/uf_Q_5_10.txt\n",
      "Query: /home/kylebd99/Cardinality-with-Colors/queryset/aids/Tree_12/uf_Q_5_11.txt\n",
      "Query: "
     ]
    },
    {
     "name": "stdout",
     "output_type": "stream",
     "text": [
      "/home/kylebd99/Cardinality-with-Colors/queryset/aids/Tree_12/uf_Q_5_12.txt\n",
      "Query: /home/kylebd99/Cardinality-with-Colors/queryset/aids/Tree_12/uf_Q_5_13.txt\n",
      "Query: /home/kylebd99/Cardinality-with-Colors/queryset/aids/Tree_12/uf_Q_5_14.txt\n",
      "Query: /home/kylebd99/Cardinality-with-Colors/queryset/aids/Tree_12/uf_Q_5_2.txt\n",
      "Query: /home/kylebd99/Cardinality-with-Colors/queryset/aids/Tree_12/uf_Q_5_3.txt\n"
     ]
    },
    {
     "name": "stdout",
     "output_type": "stream",
     "text": [
      "Query: /home/kylebd99/Cardinality-with-Colors/queryset/aids/Tree_12/uf_Q_5_4.txt\n",
      "Query: /home/kylebd99/Cardinality-with-Colors/queryset/aids/Tree_12/uf_Q_5_5.txt\n",
      "Query: /home/kylebd99/Cardinality-with-Colors/queryset/aids/Tree_12/uf_Q_5_6.txt\n",
      "Query: /home/kylebd99/Cardinality-with-Colors/queryset/aids/Tree_12/uf_Q_5_7.txt\n",
      "Query: /home/kylebd99/Cardinality-with-Colors/queryset/aids/Tree_12/uf_Q_5_8.txt\n",
      "Query: "
     ]
    },
    {
     "name": "stdout",
     "output_type": "stream",
     "text": [
      "/home/kylebd99/Cardinality-with-Colors/queryset/aids/Tree_12/uf_Q_5_9.txt\n"
     ]
    }
   ],
   "source": [
    "include(\"Source/QuasiStableCardinalityEstimator.jl\")\n",
    "\n",
    "aids_query_directories = [\"/queryset/aids/Chain_3/\",\n",
    "\"/queryset/aids/Chain_6/\",\n",
    "\"/queryset/aids/Chain_9/\",\n",
    "\"/queryset/aids/Chain_12/\",\n",
    "\"/queryset/aids/Cycle_3/\",\n",
    "\"/queryset/aids/Cycle_6/\",\n",
    "\"/queryset/aids/Flower_6/\",\n",
    "\"/queryset/aids/Flower_9/\",\n",
    "\"/queryset/aids/Flower_12/\",\n",
    "\"/queryset/aids/Graph_3/\",\n",
    "\"/queryset/aids/Graph_6/\",\n",
    "\"/queryset/aids/Graph_9/\",\n",
    "\"/queryset/aids/Graph_12/\",\n",
    "\"/queryset/aids/Petal_6/\",\n",
    "\"/queryset/aids/Petal_9/\",\n",
    "\"/queryset/aids/Petal_12/\",\n",
    "\"/queryset/aids/Star_3/\",\n",
    "\"/queryset/aids/Star_6/\",\n",
    "\"/queryset/aids/Star_9/\",\n",
    "\"/queryset/aids/Tree_3/\",\n",
    "\"/queryset/aids/Tree_6/\",\n",
    "\"/queryset/aids/Tree_9/\",\n",
    "\"/queryset/aids/Tree_12/\"]\n",
    "aids_query_paths = [readdir(pwd() * dir, join=true) for dir in aids_query_directories]\n",
    "aids_query_paths = [(aids_query_paths...)...]\n",
    "aids_exact_sizes = []\n",
    "aids_bounds = []\n",
    "aids_bounds_with_stats = []\n",
    "aids_relative_errors = []\n",
    "aids_relative_errors_with_stats = []\n",
    "aids_query_types = []\n",
    "println(\"Summary Size: \", summary_size[\"aids\"])\n",
    "println(\"Summary Build Time: \", build_time[\"aids\"])\n",
    "for query_path in aids_query_paths\n",
    "    println(\"Query: \", query_path)\n",
    "    id_and_query = load_query(query_path)\n",
    "    id = id_and_query[1]\n",
    "    query = id_and_query[2]\n",
    "    query_type = match(r\".*/queryset/aids/(.*)_.*/.*\", query_path).captures[1]\n",
    "    bound_results = @timed get_cardinality_bounds(query, color_summaries[\"aids\"], usingStoredStats=false)\n",
    "    bound_results_with_stats = @timed get_cardinality_bounds(query, color_summaries[\"aids\"], usingStoredStats=true)\n",
    "    gcare_size = load_true_cardinality(replace(query_path, \"queryset\"=>\"TrueCardinalities\"))\n",
    "#    println(\"Bound Time: \", bound_results[2])\n",
    "#    println(\"Exact Size: \", gcare_size)\n",
    "#    println(\"Bound [Lower, Avg, Upper]: \", bound_results[1])\n",
    "#    println(\"Relative Error [Lower, Avg, Upper]: \", bound_results[1]./gcare_size)\n",
    "    bound_results[1][2] = max(1, bound_results[1][2])\n",
    "    bound_results_with_stats[1][2] = max(1, bound_results_with_stats[1][2])\n",
    "    push!(aids_exact_sizes, gcare_size)\n",
    "    push!(aids_bounds, bound_results[1])\n",
    "    push!(aids_bounds_with_stats, bound_results_with_stats[1])\n",
    "    push!(aids_relative_errors, bound_results[1] ./ gcare_size)\n",
    "    push!(aids_relative_errors_with_stats, bound_results_with_stats[1] ./ gcare_size)\n",
    "    push!(aids_query_types, query_type)\n",
    "end"
   ]
  },
  {
   "cell_type": "code",
   "execution_count": 14,
   "metadata": {},
   "outputs": [
    {
     "name": "stdout",
     "output_type": "stream",
     "text": [
      "2.6659254525751472\n"
     ]
    },
    {
     "name": "stdout",
     "output_type": "stream",
     "text": [
      "-1.3813344360291047\n",
      "1.6088015892981156\n",
      "-5.689995319924367\n"
     ]
    }
   ],
   "source": [
    "using Statistics\n",
    "println(maximum([log10(x[2]) for x in aids_relative_errors]))\n",
    "println(mean([log10(x[2]) for x in aids_relative_errors]))\n",
    "println(mean([abs(log10(x[2])) for x in aids_relative_errors]))\n",
    "println(minimum([log10(x[2]) for x in aids_relative_errors]))\n"
   ]
  },
  {
   "cell_type": "code",
   "execution_count": 15,
   "metadata": {},
   "outputs": [
    {
     "name": "stdout",
     "output_type": "stream",
     "text": [
      "4.023578101393587\n",
      "-0.346939219239379\n"
     ]
    },
    {
     "name": "stdout",
     "output_type": "stream",
     "text": [
      "0.9052548147046295\n",
      "-4.307703297851051\n"
     ]
    }
   ],
   "source": [
    "using Statistics\n",
    "println(maximum([log10(x[2]) for x in aids_relative_errors_with_stats]))\n",
    "println(mean([log10(x[2]) for x in aids_relative_errors_with_stats]))\n",
    "println(mean([abs(log10(x[2])) for x in aids_relative_errors_with_stats]))\n",
    "println(minimum([log10(x[2]) for x in aids_relative_errors_with_stats]))"
   ]
  },
  {
   "cell_type": "code",
   "execution_count": 31,
   "metadata": {},
   "outputs": [
    {
     "data": {
      "image/png": "[encoded data removed]",
      "image/svg+xml": [
       "<?xml version=\"1.0\" encoding=\"utf-8\"?>\n",
       "<svg xmlns=\"http://www.w3.org/2000/svg\" xmlns:xlink=\"http://www.w3.org/1999/xlink\" width=\"600\" height=\"400\" viewBox=\"0 0 2400 1600\">\n",
       "<defs>\n",
       "  <clipPath id=\"clip050\">\n",
       "    <rect x=\"0\" y=\"0\" width=\"2400\" height=\"1600\"/>\n",
       "  </clipPath>\n",
       "</defs>\n",
       "<path clip-path=\"url(#clip050)\" d=\"M0 1600 L2400 1600 L2400 0 L0 0  Z\" fill=\"#ffffff\" fill-rule=\"evenodd\" fill-opacity=\"1\"/>\n",
       "<defs>\n",
       "  <clipPath id=\"clip051\">\n",
       "    <rect x=\"480\" y=\"0\" width=\"1681\" height=\"1600\"/>\n",
       "  </clipPath>\n",
       "</defs>\n",
       "<path clip-path=\"url(#clip050)\" d=\"M188.292 1486.45 L2352.76 1486.45 L2352.76 47.2441 L188.292 47.2441  Z\" fill=\"#ffffff\" fill-rule=\"evenodd\" fill-opacity=\"1\"/>\n",
       "<defs>\n",
       "  <clipPath id=\"clip052\">\n",
       "    <rect x=\"188\" y=\"47\" width=\"2165\" height=\"1440\"/>\n",
       "  </clipPath>\n",
       "</defs>\n",
       "<polyline clip-path=\"url(#clip052)\" style=\"stroke:#000000; stroke-linecap:round; stroke-linejoin:round; stroke-width:2; stroke-opacity:0.1; fill:none\" points=\"369.665,1486.45 369.665,47.2441 \"/>\n",
       "<polyline clip-path=\"url(#clip052)\" style=\"stroke:#000000; stroke-linecap:round; stroke-linejoin:round; stroke-width:2; stroke-opacity:0.1; fill:none\" points=\"669.951,1486.45 669.951,47.2441 \"/>\n",
       "<polyline clip-path=\"url(#clip052)\" style=\"stroke:#000000; stroke-linecap:round; stroke-linejoin:round; stroke-width:2; stroke-opacity:0.1; fill:none\" points=\"970.238,1486.45 970.238,47.2441 \"/>\n",
       "<polyline clip-path=\"url(#clip052)\" style=\"stroke:#000000; stroke-linecap:round; stroke-linejoin:round; stroke-width:2; stroke-opacity:0.1; fill:none\" points=\"1270.52,1486.45 1270.52,47.2441 \"/>\n",
       "<polyline clip-path=\"url(#clip052)\" style=\"stroke:#000000; stroke-linecap:round; stroke-linejoin:round; stroke-width:2; stroke-opacity:0.1; fill:none\" points=\"1570.81,1486.45 1570.81,47.2441 \"/>\n",
       "<polyline clip-path=\"url(#clip052)\" style=\"stroke:#000000; stroke-linecap:round; stroke-linejoin:round; stroke-width:2; stroke-opacity:0.1; fill:none\" points=\"1871.1,1486.45 1871.1,47.2441 \"/>\n",
       "<polyline clip-path=\"url(#clip052)\" style=\"stroke:#000000; stroke-linecap:round; stroke-linejoin:round; stroke-width:2; stroke-opacity:0.1; fill:none\" points=\"2171.38,1486.45 2171.38,47.2441 \"/>\n",
       "<polyline clip-path=\"url(#clip050)\" style=\"stroke:#000000; stroke-linecap:round; stroke-linejoin:round; stroke-width:4; stroke-opacity:1; fill:none\" points=\"188.292,1486.45 2352.76,1486.45 \"/>\n",
       "<polyline clip-path=\"url(#clip050)\" style=\"stroke:#000000; stroke-linecap:round; stroke-linejoin:round; stroke-width:4; stroke-opacity:1; fill:none\" points=\"369.665,1486.45 369.665,1467.55 \"/>\n",
       "<polyline clip-path=\"url(#clip050)\" style=\"stroke:#000000; stroke-linecap:round; stroke-linejoin:round; stroke-width:4; stroke-opacity:1; fill:none\" points=\"669.951,1486.45 669.951,1467.55 \"/>\n",
       "<polyline clip-path=\"url(#clip050)\" style=\"stroke:#000000; stroke-linecap:round; stroke-linejoin:round; stroke-width:4; stroke-opacity:1; fill:none\" points=\"970.238,1486.45 970.238,1467.55 \"/>\n",
       "<polyline clip-path=\"url(#clip050)\" style=\"stroke:#000000; stroke-linecap:round; stroke-linejoin:round; stroke-width:4; stroke-opacity:1; fill:none\" points=\"1270.52,1486.45 1270.52,1467.55 \"/>\n",
       "<polyline clip-path=\"url(#clip050)\" style=\"stroke:#000000; stroke-linecap:round; stroke-linejoin:round; stroke-width:4; stroke-opacity:1; fill:none\" points=\"1570.81,1486.45 1570.81,1467.55 \"/>\n",
       "<polyline clip-path=\"url(#clip050)\" style=\"stroke:#000000; stroke-linecap:round; stroke-linejoin:round; stroke-width:4; stroke-opacity:1; fill:none\" points=\"1871.1,1486.45 1871.1,1467.55 \"/>\n",
       "<polyline clip-path=\"url(#clip050)\" style=\"stroke:#000000; stroke-linecap:round; stroke-linejoin:round; stroke-width:4; stroke-opacity:1; fill:none\" points=\"2171.38,1486.45 2171.38,1467.55 \"/>\n",
       "<path clip-path=\"url(#clip050)\" d=\"M333.172 1516.95 L333.172 1521.88 Q330.811 1519.68 328.126 1518.59 Q325.464 1517.51 322.455 1517.51 Q316.529 1517.51 313.381 1521.14 Q310.233 1524.75 310.233 1531.6 Q310.233 1538.43 313.381 1542.07 Q316.529 1545.68 322.455 1545.68 Q325.464 1545.68 328.126 1544.59 Q330.811 1543.5 333.172 1541.3 L333.172 1546.19 Q330.719 1547.85 327.964 1548.69 Q325.233 1549.52 322.177 1549.52 Q314.33 1549.52 309.816 1544.73 Q305.302 1539.91 305.302 1531.6 Q305.302 1523.27 309.816 1518.48 Q314.33 1513.66 322.177 1513.66 Q325.279 1513.66 328.01 1514.5 Q330.765 1515.31 333.172 1516.95 Z\" fill=\"#000000\" fill-rule=\"nonzero\" fill-opacity=\"1\" /><path clip-path=\"url(#clip050)\" d=\"M361.76 1533.2 L361.76 1548.85 L357.501 1548.85 L357.501 1533.34 Q357.501 1529.66 356.066 1527.83 Q354.631 1526 351.76 1526 Q348.311 1526 346.32 1528.2 Q344.33 1530.4 344.33 1534.2 L344.33 1548.85 L340.047 1548.85 L340.047 1512.83 L344.33 1512.83 L344.33 1526.95 Q345.857 1524.61 347.918 1523.45 Q350.001 1522.3 352.709 1522.3 Q357.177 1522.3 359.468 1525.07 Q361.76 1527.83 361.76 1533.2 Z\" fill=\"#000000\" fill-rule=\"nonzero\" fill-opacity=\"1\" /><path clip-path=\"url(#clip050)\" d=\"M382.038 1535.82 Q376.876 1535.82 374.885 1537 Q372.894 1538.18 372.894 1541.02 Q372.894 1543.29 374.376 1544.63 Q375.88 1545.95 378.45 1545.95 Q381.991 1545.95 384.121 1543.45 Q386.274 1540.93 386.274 1536.76 L386.274 1535.82 L382.038 1535.82 M390.533 1534.06 L390.533 1548.85 L386.274 1548.85 L386.274 1544.91 Q384.816 1547.27 382.64 1548.41 Q380.464 1549.52 377.316 1549.52 Q373.334 1549.52 370.973 1547.3 Q368.635 1545.05 368.635 1541.3 Q368.635 1536.93 371.552 1534.7 Q374.492 1532.48 380.302 1532.48 L386.274 1532.48 L386.274 1532.07 Q386.274 1529.13 384.329 1527.53 Q382.408 1525.91 378.913 1525.91 Q376.691 1525.91 374.584 1526.44 Q372.478 1526.97 370.533 1528.04 L370.533 1524.1 Q372.871 1523.2 375.07 1522.76 Q377.269 1522.3 379.353 1522.3 Q384.978 1522.3 387.755 1525.21 Q390.533 1528.13 390.533 1534.06 Z\" fill=\"#000000\" fill-rule=\"nonzero\" fill-opacity=\"1\" /><path clip-path=\"url(#clip050)\" d=\"M399.306 1522.92 L403.565 1522.92 L403.565 1548.85 L399.306 1548.85 L399.306 1522.92 M399.306 1512.83 L403.565 1512.83 L403.565 1518.22 L399.306 1518.22 L399.306 1512.83 Z\" fill=\"#000000\" fill-rule=\"nonzero\" fill-opacity=\"1\" /><path clip-path=\"url(#clip050)\" d=\"M434.028 1533.2 L434.028 1548.85 L429.769 1548.85 L429.769 1533.34 Q429.769 1529.66 428.334 1527.83 Q426.899 1526 424.028 1526 Q420.579 1526 418.588 1528.2 Q416.598 1530.4 416.598 1534.2 L416.598 1548.85 L412.315 1548.85 L412.315 1522.92 L416.598 1522.92 L416.598 1526.95 Q418.126 1524.61 420.186 1523.45 Q422.269 1522.3 424.977 1522.3 Q429.445 1522.3 431.737 1525.07 Q434.028 1527.83 434.028 1533.2 Z\" fill=\"#000000\" fill-rule=\"nonzero\" fill-opacity=\"1\" /><path clip-path=\"url(#clip050)\" d=\"M635.635 1516.95 L635.635 1521.88 Q633.273 1519.68 630.588 1518.59 Q627.926 1517.51 624.917 1517.51 Q618.991 1517.51 615.843 1521.14 Q612.695 1524.75 612.695 1531.6 Q612.695 1538.43 615.843 1542.07 Q618.991 1545.68 624.917 1545.68 Q627.926 1545.68 630.588 1544.59 Q633.273 1543.5 635.635 1541.3 L635.635 1546.19 Q633.181 1547.85 630.426 1548.69 Q627.695 1549.52 624.639 1549.52 Q616.792 1549.52 612.278 1544.73 Q607.764 1539.91 607.764 1531.6 Q607.764 1523.27 612.278 1518.48 Q616.792 1513.66 624.639 1513.66 Q627.741 1513.66 630.472 1514.5 Q633.227 1515.31 635.635 1516.95 Z\" fill=\"#000000\" fill-rule=\"nonzero\" fill-opacity=\"1\" /><path clip-path=\"url(#clip050)\" d=\"M653.458 1551.26 Q651.653 1555.88 649.94 1557.3 Q648.227 1558.71 645.357 1558.71 L641.954 1558.71 L641.954 1555.14 L644.454 1555.14 Q646.213 1555.14 647.185 1554.31 Q648.158 1553.48 649.338 1550.38 L650.102 1548.43 L639.616 1522.92 L644.13 1522.92 L652.232 1543.2 L660.333 1522.92 L664.847 1522.92 L653.458 1551.26 Z\" fill=\"#000000\" fill-rule=\"nonzero\" fill-opacity=\"1\" /><path clip-path=\"url(#clip050)\" d=\"M689.384 1523.92 L689.384 1527.9 Q687.579 1526.9 685.75 1526.42 Q683.944 1525.91 682.093 1525.91 Q677.949 1525.91 675.657 1528.55 Q673.366 1531.16 673.366 1535.91 Q673.366 1540.65 675.657 1543.29 Q677.949 1545.91 682.093 1545.91 Q683.944 1545.91 685.75 1545.42 Q687.579 1544.91 689.384 1543.92 L689.384 1547.85 Q687.602 1548.69 685.681 1549.1 Q683.782 1549.52 681.63 1549.52 Q675.773 1549.52 672.324 1545.84 Q668.875 1542.16 668.875 1535.91 Q668.875 1529.57 672.347 1525.93 Q675.843 1522.3 681.907 1522.3 Q683.875 1522.3 685.75 1522.71 Q687.625 1523.11 689.384 1523.92 Z\" fill=\"#000000\" fill-rule=\"nonzero\" fill-opacity=\"1\" /><path clip-path=\"url(#clip050)\" d=\"M696.792 1512.83 L701.051 1512.83 L701.051 1548.85 L696.792 1548.85 L696.792 1512.83 Z\" fill=\"#000000\" fill-rule=\"nonzero\" fill-opacity=\"1\" /><path clip-path=\"url(#clip050)\" d=\"M732.139 1534.82 L732.139 1536.9 L712.555 1536.9 Q712.833 1541.3 715.194 1543.62 Q717.579 1545.91 721.815 1545.91 Q724.268 1545.91 726.56 1545.31 Q728.875 1544.7 731.143 1543.5 L731.143 1547.53 Q728.852 1548.5 726.444 1549.01 Q724.037 1549.52 721.56 1549.52 Q715.356 1549.52 711.722 1545.91 Q708.111 1542.3 708.111 1536.14 Q708.111 1529.77 711.537 1526.05 Q714.986 1522.3 720.819 1522.3 Q726.051 1522.3 729.083 1525.68 Q732.139 1529.03 732.139 1534.82 M727.879 1533.57 Q727.833 1530.07 725.912 1527.99 Q724.014 1525.91 720.866 1525.91 Q717.301 1525.91 715.148 1527.92 Q713.018 1529.94 712.694 1533.59 L727.879 1533.57 Z\" fill=\"#000000\" fill-rule=\"nonzero\" fill-opacity=\"1\" /><path clip-path=\"url(#clip050)\" d=\"M894.127 1514.29 L913.988 1514.29 L913.988 1518.22 L898.803 1518.22 L898.803 1528.41 L912.507 1528.41 L912.507 1532.34 L898.803 1532.34 L898.803 1548.85 L894.127 1548.85 L894.127 1514.29 Z\" fill=\"#000000\" fill-rule=\"nonzero\" fill-opacity=\"1\" /><path clip-path=\"url(#clip050)\" d=\"M921.21 1512.83 L925.469 1512.83 L925.469 1548.85 L921.21 1548.85 L921.21 1512.83 Z\" fill=\"#000000\" fill-rule=\"nonzero\" fill-opacity=\"1\" /><path clip-path=\"url(#clip050)\" d=\"M944.428 1525.91 Q941.002 1525.91 939.011 1528.59 Q937.02 1531.26 937.02 1535.91 Q937.02 1540.56 938.988 1543.25 Q940.979 1545.91 944.428 1545.91 Q947.83 1545.91 949.821 1543.22 Q951.812 1540.54 951.812 1535.91 Q951.812 1531.3 949.821 1528.62 Q947.83 1525.91 944.428 1525.91 M944.428 1522.3 Q949.983 1522.3 953.155 1525.91 Q956.326 1529.52 956.326 1535.91 Q956.326 1542.27 953.155 1545.91 Q949.983 1549.52 944.428 1549.52 Q938.849 1549.52 935.678 1545.91 Q932.53 1542.27 932.53 1535.91 Q932.53 1529.52 935.678 1525.91 Q938.849 1522.3 944.428 1522.3 Z\" fill=\"#000000\" fill-rule=\"nonzero\" fill-opacity=\"1\" /><path clip-path=\"url(#clip050)\" d=\"M960.909 1522.92 L965.168 1522.92 L970.492 1543.15 L975.793 1522.92 L980.816 1522.92 L986.14 1543.15 L991.441 1522.92 L995.701 1522.92 L988.918 1548.85 L983.895 1548.85 L978.316 1527.6 L972.715 1548.85 L967.691 1548.85 L960.909 1522.92 Z\" fill=\"#000000\" fill-rule=\"nonzero\" fill-opacity=\"1\" /><path clip-path=\"url(#clip050)\" d=\"M1024.33 1534.82 L1024.33 1536.9 L1004.75 1536.9 Q1005.03 1541.3 1007.39 1543.62 Q1009.77 1545.91 1014.01 1545.91 Q1016.46 1545.91 1018.76 1545.31 Q1021.07 1544.7 1023.34 1543.5 L1023.34 1547.53 Q1021.05 1548.5 1018.64 1549.01 Q1016.23 1549.52 1013.76 1549.52 Q1007.55 1549.52 1003.92 1545.91 Q1000.31 1542.3 1000.31 1536.14 Q1000.31 1529.77 1003.73 1526.05 Q1007.18 1522.3 1013.02 1522.3 Q1018.25 1522.3 1021.28 1525.68 Q1024.33 1529.03 1024.33 1534.82 M1020.08 1533.57 Q1020.03 1530.07 1018.11 1527.99 Q1016.21 1525.91 1013.06 1525.91 Q1009.5 1525.91 1007.34 1527.92 Q1005.21 1529.94 1004.89 1533.59 L1020.08 1533.57 Z\" fill=\"#000000\" fill-rule=\"nonzero\" fill-opacity=\"1\" /><path clip-path=\"url(#clip050)\" d=\"M1046.35 1526.9 Q1045.63 1526.49 1044.77 1526.3 Q1043.94 1526.09 1042.92 1526.09 Q1039.31 1526.09 1037.37 1528.45 Q1035.45 1530.79 1035.45 1535.19 L1035.45 1548.85 L1031.16 1548.85 L1031.16 1522.92 L1035.45 1522.92 L1035.45 1526.95 Q1036.79 1524.59 1038.94 1523.45 Q1041.09 1522.3 1044.17 1522.3 Q1044.61 1522.3 1045.14 1522.37 Q1045.68 1522.41 1046.33 1522.53 L1046.35 1526.9 Z\" fill=\"#000000\" fill-rule=\"nonzero\" fill-opacity=\"1\" /><path clip-path=\"url(#clip050)\" d=\"M1226.72 1543.92 L1226.72 1534.63 L1219.08 1534.63 L1219.08 1530.79 L1231.35 1530.79 L1231.35 1545.63 Q1228.64 1547.55 1225.37 1548.55 Q1222.11 1549.52 1218.41 1549.52 Q1210.3 1549.52 1205.72 1544.8 Q1201.16 1540.05 1201.16 1531.6 Q1201.16 1523.13 1205.72 1518.41 Q1210.3 1513.66 1218.41 1513.66 Q1221.79 1513.66 1224.82 1514.5 Q1227.87 1515.33 1230.44 1516.95 L1230.44 1521.93 Q1227.85 1519.73 1224.93 1518.62 Q1222.02 1517.51 1218.8 1517.51 Q1212.46 1517.51 1209.26 1521.05 Q1206.09 1524.59 1206.09 1531.6 Q1206.09 1538.59 1209.26 1542.13 Q1212.46 1545.68 1218.8 1545.68 Q1221.28 1545.68 1223.22 1545.26 Q1225.17 1544.82 1226.72 1543.92 Z\" fill=\"#000000\" fill-rule=\"nonzero\" fill-opacity=\"1\" /><path clip-path=\"url(#clip050)\" d=\"M1254.73 1526.9 Q1254.01 1526.49 1253.15 1526.3 Q1252.32 1526.09 1251.3 1526.09 Q1247.69 1526.09 1245.74 1528.45 Q1243.82 1530.79 1243.82 1535.19 L1243.82 1548.85 L1239.54 1548.85 L1239.54 1522.92 L1243.82 1522.92 L1243.82 1526.95 Q1245.17 1524.59 1247.32 1523.45 Q1249.47 1522.3 1252.55 1522.3 Q1252.99 1522.3 1253.52 1522.37 Q1254.05 1522.41 1254.7 1522.53 L1254.73 1526.9 Z\" fill=\"#000000\" fill-rule=\"nonzero\" fill-opacity=\"1\" /><path clip-path=\"url(#clip050)\" d=\"M1270.98 1535.82 Q1265.81 1535.82 1263.82 1537 Q1261.83 1538.18 1261.83 1541.02 Q1261.83 1543.29 1263.31 1544.63 Q1264.82 1545.95 1267.39 1545.95 Q1270.93 1545.95 1273.06 1543.45 Q1275.21 1540.93 1275.21 1536.76 L1275.21 1535.82 L1270.98 1535.82 M1279.47 1534.06 L1279.47 1548.85 L1275.21 1548.85 L1275.21 1544.91 Q1273.75 1547.27 1271.58 1548.41 Q1269.4 1549.52 1266.25 1549.52 Q1262.27 1549.52 1259.91 1547.3 Q1257.57 1545.05 1257.57 1541.3 Q1257.57 1536.93 1260.49 1534.7 Q1263.43 1532.48 1269.24 1532.48 L1275.21 1532.48 L1275.21 1532.07 Q1275.21 1529.13 1273.27 1527.53 Q1271.35 1525.91 1267.85 1525.91 Q1265.63 1525.91 1263.52 1526.44 Q1261.42 1526.97 1259.47 1528.04 L1259.47 1524.1 Q1261.81 1523.2 1264.01 1522.76 Q1266.21 1522.3 1268.29 1522.3 Q1273.92 1522.3 1276.69 1525.21 Q1279.47 1528.13 1279.47 1534.06 Z\" fill=\"#000000\" fill-rule=\"nonzero\" fill-opacity=\"1\" /><path clip-path=\"url(#clip050)\" d=\"M1292.36 1544.96 L1292.36 1558.71 L1288.08 1558.71 L1288.08 1522.92 L1292.36 1522.92 L1292.36 1526.86 Q1293.71 1524.54 1295.74 1523.43 Q1297.8 1522.3 1300.65 1522.3 Q1305.37 1522.3 1308.31 1526.05 Q1311.28 1529.8 1311.28 1535.91 Q1311.28 1542.02 1308.31 1545.77 Q1305.37 1549.52 1300.65 1549.52 Q1297.8 1549.52 1295.74 1548.41 Q1293.71 1547.27 1292.36 1544.96 M1306.85 1535.91 Q1306.85 1531.21 1304.91 1528.55 Q1302.99 1525.86 1299.61 1525.86 Q1296.23 1525.86 1294.29 1528.55 Q1292.36 1531.21 1292.36 1535.91 Q1292.36 1540.61 1294.29 1543.29 Q1296.23 1545.95 1299.61 1545.95 Q1302.99 1545.95 1304.91 1543.29 Q1306.85 1540.61 1306.85 1535.91 Z\" fill=\"#000000\" fill-rule=\"nonzero\" fill-opacity=\"1\" /><path clip-path=\"url(#clip050)\" d=\"M1339.89 1533.2 L1339.89 1548.85 L1335.63 1548.85 L1335.63 1533.34 Q1335.63 1529.66 1334.19 1527.83 Q1332.76 1526 1329.89 1526 Q1326.44 1526 1324.45 1528.2 Q1322.46 1530.4 1322.46 1534.2 L1322.46 1548.85 L1318.17 1548.85 L1318.17 1512.83 L1322.46 1512.83 L1322.46 1526.95 Q1323.98 1524.61 1326.04 1523.45 Q1328.13 1522.3 1330.84 1522.3 Q1335.3 1522.3 1337.6 1525.07 Q1339.89 1527.83 1339.89 1533.2 Z\" fill=\"#000000\" fill-rule=\"nonzero\" fill-opacity=\"1\" /><path clip-path=\"url(#clip050)\" d=\"M1521.6 1518.13 L1521.6 1531.12 L1527.48 1531.12 Q1530.74 1531.12 1532.52 1529.43 Q1534.31 1527.74 1534.31 1524.61 Q1534.31 1521.51 1532.52 1519.82 Q1530.74 1518.13 1527.48 1518.13 L1521.6 1518.13 M1516.92 1514.29 L1527.48 1514.29 Q1533.29 1514.29 1536.25 1516.93 Q1539.24 1519.54 1539.24 1524.61 Q1539.24 1529.73 1536.25 1532.34 Q1533.29 1534.96 1527.48 1534.96 L1521.6 1534.96 L1521.6 1548.85 L1516.92 1548.85 L1516.92 1514.29 Z\" fill=\"#000000\" fill-rule=\"nonzero\" fill-opacity=\"1\" /><path clip-path=\"url(#clip050)\" d=\"M1565.81 1534.82 L1565.81 1536.9 L1546.23 1536.9 Q1546.5 1541.3 1548.87 1543.62 Q1551.25 1545.91 1555.49 1545.91 Q1557.94 1545.91 1560.23 1545.31 Q1562.55 1544.7 1564.82 1543.5 L1564.82 1547.53 Q1562.52 1548.5 1560.12 1549.01 Q1557.71 1549.52 1555.23 1549.52 Q1549.03 1549.52 1545.39 1545.91 Q1541.78 1542.3 1541.78 1536.14 Q1541.78 1529.77 1545.21 1526.05 Q1548.66 1522.3 1554.49 1522.3 Q1559.72 1522.3 1562.75 1525.68 Q1565.81 1529.03 1565.81 1534.82 M1561.55 1533.57 Q1561.5 1530.07 1559.58 1527.99 Q1557.69 1525.91 1554.54 1525.91 Q1550.97 1525.91 1548.82 1527.92 Q1546.69 1529.94 1546.37 1533.59 L1561.55 1533.57 Z\" fill=\"#000000\" fill-rule=\"nonzero\" fill-opacity=\"1\" /><path clip-path=\"url(#clip050)\" d=\"M1577.01 1515.56 L1577.01 1522.92 L1585.79 1522.92 L1585.79 1526.23 L1577.01 1526.23 L1577.01 1540.31 Q1577.01 1543.48 1577.87 1544.38 Q1578.75 1545.28 1581.41 1545.28 L1585.79 1545.28 L1585.79 1548.85 L1581.41 1548.85 Q1576.48 1548.85 1574.61 1547.02 Q1572.73 1545.17 1572.73 1540.31 L1572.73 1526.23 L1569.61 1526.23 L1569.61 1522.92 L1572.73 1522.92 L1572.73 1515.56 L1577.01 1515.56 Z\" fill=\"#000000\" fill-rule=\"nonzero\" fill-opacity=\"1\" /><path clip-path=\"url(#clip050)\" d=\"M1603.17 1535.82 Q1598.01 1535.82 1596.02 1537 Q1594.03 1538.18 1594.03 1541.02 Q1594.03 1543.29 1595.51 1544.63 Q1597.01 1545.95 1599.58 1545.95 Q1603.13 1545.95 1605.25 1543.45 Q1607.41 1540.93 1607.41 1536.76 L1607.41 1535.82 L1603.17 1535.82 M1611.67 1534.06 L1611.67 1548.85 L1607.41 1548.85 L1607.41 1544.91 Q1605.95 1547.27 1603.77 1548.41 Q1601.6 1549.52 1598.45 1549.52 Q1594.47 1549.52 1592.11 1547.3 Q1589.77 1545.05 1589.77 1541.3 Q1589.77 1536.93 1592.69 1534.7 Q1595.63 1532.48 1601.44 1532.48 L1607.41 1532.48 L1607.41 1532.07 Q1607.41 1529.13 1605.46 1527.53 Q1603.54 1525.91 1600.05 1525.91 Q1597.82 1525.91 1595.72 1526.44 Q1593.61 1526.97 1591.67 1528.04 L1591.67 1524.1 Q1594 1523.2 1596.2 1522.76 Q1598.4 1522.3 1600.49 1522.3 Q1606.11 1522.3 1608.89 1525.21 Q1611.67 1528.13 1611.67 1534.06 Z\" fill=\"#000000\" fill-rule=\"nonzero\" fill-opacity=\"1\" /><path clip-path=\"url(#clip050)\" d=\"M1620.44 1512.83 L1624.7 1512.83 L1624.7 1548.85 L1620.44 1548.85 L1620.44 1512.83 Z\" fill=\"#000000\" fill-rule=\"nonzero\" fill-opacity=\"1\" /><path clip-path=\"url(#clip050)\" d=\"M1846.29 1515.42 L1846.29 1519.98 Q1843.63 1518.71 1841.27 1518.08 Q1838.91 1517.46 1836.71 1517.46 Q1832.89 1517.46 1830.81 1518.94 Q1828.75 1520.42 1828.75 1523.15 Q1828.75 1525.45 1830.11 1526.63 Q1831.5 1527.78 1835.34 1528.5 L1838.17 1529.08 Q1843.4 1530.07 1845.88 1532.6 Q1848.38 1535.1 1848.38 1539.31 Q1848.38 1544.33 1845 1546.93 Q1841.64 1549.52 1835.14 1549.52 Q1832.68 1549.52 1829.9 1548.96 Q1827.15 1548.41 1824.19 1547.32 L1824.19 1542.51 Q1827.03 1544.1 1829.77 1544.91 Q1832.5 1545.72 1835.14 1545.72 Q1839.14 1545.72 1841.32 1544.15 Q1843.49 1542.57 1843.49 1539.66 Q1843.49 1537.11 1841.92 1535.68 Q1840.37 1534.24 1836.8 1533.52 L1833.96 1532.97 Q1828.72 1531.93 1826.39 1529.7 Q1824.05 1527.48 1824.05 1523.52 Q1824.05 1518.94 1827.27 1516.3 Q1830.51 1513.66 1836.18 1513.66 Q1838.61 1513.66 1841.13 1514.1 Q1843.65 1514.54 1846.29 1515.42 Z\" fill=\"#000000\" fill-rule=\"nonzero\" fill-opacity=\"1\" /><path clip-path=\"url(#clip050)\" d=\"M1859.7 1515.56 L1859.7 1522.92 L1868.47 1522.92 L1868.47 1526.23 L1859.7 1526.23 L1859.7 1540.31 Q1859.7 1543.48 1860.55 1544.38 Q1861.43 1545.28 1864.09 1545.28 L1868.47 1545.28 L1868.47 1548.85 L1864.09 1548.85 Q1859.16 1548.85 1857.29 1547.02 Q1855.41 1545.17 1855.41 1540.31 L1855.41 1526.23 L1852.29 1526.23 L1852.29 1522.92 L1855.41 1522.92 L1855.41 1515.56 L1859.7 1515.56 Z\" fill=\"#000000\" fill-rule=\"nonzero\" fill-opacity=\"1\" /><path clip-path=\"url(#clip050)\" d=\"M1885.85 1535.82 Q1880.69 1535.82 1878.7 1537 Q1876.71 1538.18 1876.71 1541.02 Q1876.71 1543.29 1878.19 1544.63 Q1879.7 1545.95 1882.27 1545.95 Q1885.81 1545.95 1887.94 1543.45 Q1890.09 1540.93 1890.09 1536.76 L1890.09 1535.82 L1885.85 1535.82 M1894.35 1534.06 L1894.35 1548.85 L1890.09 1548.85 L1890.09 1544.91 Q1888.63 1547.27 1886.46 1548.41 Q1884.28 1549.52 1881.13 1549.52 Q1877.15 1549.52 1874.79 1547.3 Q1872.45 1545.05 1872.45 1541.3 Q1872.45 1536.93 1875.37 1534.7 Q1878.31 1532.48 1884.12 1532.48 L1890.09 1532.48 L1890.09 1532.07 Q1890.09 1529.13 1888.15 1527.53 Q1886.22 1525.91 1882.73 1525.91 Q1880.51 1525.91 1878.4 1526.44 Q1876.29 1526.97 1874.35 1528.04 L1874.35 1524.1 Q1876.69 1523.2 1878.89 1522.76 Q1881.09 1522.3 1883.17 1522.3 Q1888.79 1522.3 1891.57 1525.21 Q1894.35 1528.13 1894.35 1534.06 Z\" fill=\"#000000\" fill-rule=\"nonzero\" fill-opacity=\"1\" /><path clip-path=\"url(#clip050)\" d=\"M1918.15 1526.9 Q1917.43 1526.49 1916.57 1526.3 Q1915.74 1526.09 1914.72 1526.09 Q1911.11 1526.09 1909.16 1528.45 Q1907.24 1530.79 1907.24 1535.19 L1907.24 1548.85 L1902.96 1548.85 L1902.96 1522.92 L1907.24 1522.92 L1907.24 1526.95 Q1908.58 1524.59 1910.74 1523.45 Q1912.89 1522.3 1915.97 1522.3 Q1916.41 1522.3 1916.94 1522.37 Q1917.47 1522.41 1918.12 1522.53 L1918.15 1526.9 Z\" fill=\"#000000\" fill-rule=\"nonzero\" fill-opacity=\"1\" /><path clip-path=\"url(#clip050)\" d=\"M2123.19 1514.29 L2152.42 1514.29 L2152.42 1518.22 L2140.16 1518.22 L2140.16 1548.85 L2135.46 1548.85 L2135.46 1518.22 L2123.19 1518.22 L2123.19 1514.29 Z\" fill=\"#000000\" fill-rule=\"nonzero\" fill-opacity=\"1\" /><path clip-path=\"url(#clip050)\" d=\"M2164.81 1526.9 Q2164.09 1526.49 2163.23 1526.3 Q2162.4 1526.09 2161.38 1526.09 Q2157.77 1526.09 2155.83 1528.45 Q2153.91 1530.79 2153.91 1535.19 L2153.91 1548.85 L2149.62 1548.85 L2149.62 1522.92 L2153.91 1522.92 L2153.91 1526.95 Q2155.25 1524.59 2157.4 1523.45 Q2159.55 1522.3 2162.63 1522.3 Q2163.07 1522.3 2163.61 1522.37 Q2164.14 1522.41 2164.79 1522.53 L2164.81 1526.9 Z\" fill=\"#000000\" fill-rule=\"nonzero\" fill-opacity=\"1\" /><path clip-path=\"url(#clip050)\" d=\"M2190.41 1534.82 L2190.41 1536.9 L2170.83 1536.9 Q2171.11 1541.3 2173.47 1543.62 Q2175.85 1545.91 2180.09 1545.91 Q2182.54 1545.91 2184.83 1545.31 Q2187.15 1544.7 2189.42 1543.5 L2189.42 1547.53 Q2187.12 1548.5 2184.72 1549.01 Q2182.31 1549.52 2179.83 1549.52 Q2173.63 1549.52 2169.99 1545.91 Q2166.38 1542.3 2166.38 1536.14 Q2166.38 1529.77 2169.81 1526.05 Q2173.26 1522.3 2179.09 1522.3 Q2184.32 1522.3 2187.36 1525.68 Q2190.41 1529.03 2190.41 1534.82 M2186.15 1533.57 Q2186.11 1530.07 2184.18 1527.99 Q2182.29 1525.91 2179.14 1525.91 Q2175.57 1525.91 2173.42 1527.92 Q2171.29 1529.94 2170.97 1533.59 L2186.15 1533.57 Z\" fill=\"#000000\" fill-rule=\"nonzero\" fill-opacity=\"1\" /><path clip-path=\"url(#clip050)\" d=\"M2219.58 1534.82 L2219.58 1536.9 L2199.99 1536.9 Q2200.27 1541.3 2202.63 1543.62 Q2205.02 1545.91 2209.25 1545.91 Q2211.71 1545.91 2214 1545.31 Q2216.31 1544.7 2218.58 1543.5 L2218.58 1547.53 Q2216.29 1548.5 2213.88 1549.01 Q2211.48 1549.52 2209 1549.52 Q2202.79 1549.52 2199.16 1545.91 Q2195.55 1542.3 2195.55 1536.14 Q2195.55 1529.77 2198.98 1526.05 Q2202.42 1522.3 2208.26 1522.3 Q2213.49 1522.3 2216.52 1525.68 Q2219.58 1529.03 2219.58 1534.82 M2215.32 1533.57 Q2215.27 1530.07 2213.35 1527.99 Q2211.45 1525.91 2208.3 1525.91 Q2204.74 1525.91 2202.59 1527.92 Q2200.46 1529.94 2200.13 1533.59 L2215.32 1533.57 Z\" fill=\"#000000\" fill-rule=\"nonzero\" fill-opacity=\"1\" /><polyline clip-path=\"url(#clip052)\" style=\"stroke:#000000; stroke-linecap:round; stroke-linejoin:round; stroke-width:2; stroke-opacity:0.1; fill:none\" points=\"188.292,1401.79 2352.76,1401.79 \"/>\n",
       "<polyline clip-path=\"url(#clip052)\" style=\"stroke:#000000; stroke-linecap:round; stroke-linejoin:round; stroke-width:2; stroke-opacity:0.1; fill:none\" points=\"188.292,978.494 2352.76,978.494 \"/>\n",
       "<polyline clip-path=\"url(#clip052)\" style=\"stroke:#000000; stroke-linecap:round; stroke-linejoin:round; stroke-width:2; stroke-opacity:0.1; fill:none\" points=\"188.292,555.198 2352.76,555.198 \"/>\n",
       "<polyline clip-path=\"url(#clip052)\" style=\"stroke:#000000; stroke-linecap:round; stroke-linejoin:round; stroke-width:2; stroke-opacity:0.1; fill:none\" points=\"188.292,131.903 2352.76,131.903 \"/>\n",
       "<polyline clip-path=\"url(#clip050)\" style=\"stroke:#000000; stroke-linecap:round; stroke-linejoin:round; stroke-width:4; stroke-opacity:1; fill:none\" points=\"188.292,1486.45 188.292,47.2441 \"/>\n",
       "<polyline clip-path=\"url(#clip050)\" style=\"stroke:#000000; stroke-linecap:round; stroke-linejoin:round; stroke-width:4; stroke-opacity:1; fill:none\" points=\"188.292,1401.79 207.19,1401.79 \"/>\n",
       "<polyline clip-path=\"url(#clip050)\" style=\"stroke:#000000; stroke-linecap:round; stroke-linejoin:round; stroke-width:4; stroke-opacity:1; fill:none\" points=\"188.292,978.494 207.19,978.494 \"/>\n",
       "<polyline clip-path=\"url(#clip050)\" style=\"stroke:#000000; stroke-linecap:round; stroke-linejoin:round; stroke-width:4; stroke-opacity:1; fill:none\" points=\"188.292,555.198 207.19,555.198 \"/>\n",
       "<polyline clip-path=\"url(#clip050)\" style=\"stroke:#000000; stroke-linecap:round; stroke-linejoin:round; stroke-width:4; stroke-opacity:1; fill:none\" points=\"188.292,131.903 207.19,131.903 \"/>\n",
       "<path clip-path=\"url(#clip050)\" d=\"M51.6634 1421.58 L59.3023 1421.58 L59.3023 1395.22 L50.9921 1396.88 L50.9921 1392.62 L59.256 1390.96 L63.9319 1390.96 L63.9319 1421.58 L71.5707 1421.58 L71.5707 1425.52 L51.6634 1425.52 L51.6634 1421.58 Z\" fill=\"#000000\" fill-rule=\"nonzero\" fill-opacity=\"1\" /><path clip-path=\"url(#clip050)\" d=\"M91.0151 1394.04 Q87.404 1394.04 85.5753 1397.6 Q83.7697 1401.14 83.7697 1408.27 Q83.7697 1415.38 85.5753 1418.94 Q87.404 1422.48 91.0151 1422.48 Q94.6493 1422.48 96.4548 1418.94 Q98.2835 1415.38 98.2835 1408.27 Q98.2835 1401.14 96.4548 1397.6 Q94.6493 1394.04 91.0151 1394.04 M91.0151 1390.33 Q96.8252 1390.33 99.8808 1394.94 Q102.959 1399.52 102.959 1408.27 Q102.959 1417 99.8808 1421.6 Q96.8252 1426.19 91.0151 1426.19 Q85.2049 1426.19 82.1262 1421.6 Q79.0707 1417 79.0707 1408.27 Q79.0707 1399.52 82.1262 1394.94 Q85.2049 1390.33 91.0151 1390.33 Z\" fill=\"#000000\" fill-rule=\"nonzero\" fill-opacity=\"1\" /><path clip-path=\"url(#clip050)\" d=\"M102.959 1384.43 L127.071 1384.43 L127.071 1387.63 L102.959 1387.63 L102.959 1384.43 Z\" fill=\"#000000\" fill-rule=\"nonzero\" fill-opacity=\"1\" /><path clip-path=\"url(#clip050)\" d=\"M135.309 1370.03 L150.223 1370.03 L150.223 1373.22 L138.788 1373.22 L138.788 1380.11 Q139.616 1379.82 140.443 1379.69 Q141.271 1379.54 142.098 1379.54 Q146.8 1379.54 149.546 1382.12 Q152.292 1384.7 152.292 1389.1 Q152.292 1393.63 149.471 1396.15 Q146.65 1398.65 141.515 1398.65 Q139.747 1398.65 137.904 1398.35 Q136.08 1398.05 134.124 1397.45 L134.124 1393.63 Q135.817 1394.55 137.622 1395 Q139.428 1395.45 141.44 1395.45 Q144.694 1395.45 146.593 1393.74 Q148.493 1392.03 148.493 1389.1 Q148.493 1386.16 146.593 1384.45 Q144.694 1382.74 141.44 1382.74 Q139.917 1382.74 138.393 1383.08 Q136.889 1383.42 135.309 1384.13 L135.309 1370.03 Z\" fill=\"#000000\" fill-rule=\"nonzero\" fill-opacity=\"1\" /><path clip-path=\"url(#clip050)\" d=\"M81.5866 998.286 L89.2254 998.286 L89.2254 971.92 L80.9153 973.587 L80.9153 969.328 L89.1791 967.661 L93.855 967.661 L93.855 998.286 L101.494 998.286 L101.494 1002.22 L81.5866 1002.22 L81.5866 998.286 Z\" fill=\"#000000\" fill-rule=\"nonzero\" fill-opacity=\"1\" /><path clip-path=\"url(#clip050)\" d=\"M120.938 970.74 Q117.327 970.74 115.498 974.305 Q113.693 977.846 113.693 984.976 Q113.693 992.082 115.498 995.647 Q117.327 999.189 120.938 999.189 Q124.572 999.189 126.378 995.647 Q128.207 992.082 128.207 984.976 Q128.207 977.846 126.378 974.305 Q124.572 970.74 120.938 970.74 M120.938 967.036 Q126.748 967.036 129.804 971.643 Q132.883 976.226 132.883 984.976 Q132.883 993.703 129.804 998.309 Q126.748 1002.89 120.938 1002.89 Q115.128 1002.89 112.049 998.309 Q108.994 993.703 108.994 984.976 Q108.994 976.226 112.049 971.643 Q115.128 967.036 120.938 967.036 Z\" fill=\"#000000\" fill-rule=\"nonzero\" fill-opacity=\"1\" /><path clip-path=\"url(#clip050)\" d=\"M142.587 949.232 Q139.653 949.232 138.168 952.129 Q136.701 955.006 136.701 960.799 Q136.701 966.573 138.168 969.469 Q139.653 972.347 142.587 972.347 Q145.54 972.347 147.007 969.469 Q148.493 966.573 148.493 960.799 Q148.493 955.006 147.007 952.129 Q145.54 949.232 142.587 949.232 M142.587 946.223 Q147.308 946.223 149.791 949.966 Q152.292 953.69 152.292 960.799 Q152.292 967.89 149.791 971.632 Q147.308 975.356 142.587 975.356 Q137.867 975.356 135.365 971.632 Q132.883 967.89 132.883 960.799 Q132.883 953.69 135.365 949.966 Q137.867 946.223 142.587 946.223 Z\" fill=\"#000000\" fill-rule=\"nonzero\" fill-opacity=\"1\" /><path clip-path=\"url(#clip050)\" d=\"M82.8279 574.991 L90.4667 574.991 L90.4667 548.625 L82.1566 550.292 L82.1566 546.033 L90.4204 544.366 L95.0963 544.366 L95.0963 574.991 L102.735 574.991 L102.735 578.926 L82.8279 578.926 L82.8279 574.991 Z\" fill=\"#000000\" fill-rule=\"nonzero\" fill-opacity=\"1\" /><path clip-path=\"url(#clip050)\" d=\"M122.18 547.445 Q118.568 547.445 116.74 551.009 Q114.934 554.551 114.934 561.681 Q114.934 568.787 116.74 572.352 Q118.568 575.894 122.18 575.894 Q125.814 575.894 127.619 572.352 Q129.448 568.787 129.448 561.681 Q129.448 554.551 127.619 551.009 Q125.814 547.445 122.18 547.445 M122.18 543.741 Q127.99 543.741 131.045 548.347 Q134.124 552.931 134.124 561.681 Q134.124 570.407 131.045 575.014 Q127.99 579.597 122.18 579.597 Q116.369 579.597 113.291 575.014 Q110.235 570.407 110.235 561.681 Q110.235 552.931 113.291 548.347 Q116.369 543.741 122.18 543.741 Z\" fill=\"#000000\" fill-rule=\"nonzero\" fill-opacity=\"1\" /><path clip-path=\"url(#clip050)\" d=\"M135.309 523.436 L150.223 523.436 L150.223 526.633 L138.788 526.633 L138.788 533.517 Q139.616 533.234 140.443 533.103 Q141.271 532.952 142.098 532.952 Q146.8 532.952 149.546 535.529 Q152.292 538.106 152.292 542.507 Q152.292 547.039 149.471 549.56 Q146.65 552.061 141.515 552.061 Q139.747 552.061 137.904 551.76 Q136.08 551.459 134.124 550.857 L134.124 547.039 Q135.817 547.961 137.622 548.412 Q139.428 548.864 141.44 548.864 Q144.694 548.864 146.593 547.152 Q148.493 545.441 148.493 542.507 Q148.493 539.573 146.593 537.861 Q144.694 536.15 141.44 536.15 Q139.917 536.15 138.393 536.488 Q136.889 536.827 135.309 537.541 L135.309 523.436 Z\" fill=\"#000000\" fill-rule=\"nonzero\" fill-opacity=\"1\" /><path clip-path=\"url(#clip050)\" d=\"M58.7728 151.696 L66.4116 151.696 L66.4116 125.33 L58.1015 126.997 L58.1015 122.737 L66.3653 121.071 L71.0412 121.071 L71.0412 151.696 L78.6801 151.696 L78.6801 155.631 L58.7728 155.631 L58.7728 151.696 Z\" fill=\"#000000\" fill-rule=\"nonzero\" fill-opacity=\"1\" /><path clip-path=\"url(#clip050)\" d=\"M98.1244 124.149 Q94.5133 124.149 92.6846 127.714 Q90.8791 131.256 90.8791 138.385 Q90.8791 145.492 92.6846 149.057 Q94.5133 152.598 98.1244 152.598 Q101.759 152.598 103.564 149.057 Q105.393 145.492 105.393 138.385 Q105.393 131.256 103.564 127.714 Q101.759 124.149 98.1244 124.149 M98.1244 120.446 Q103.935 120.446 106.99 125.052 Q110.069 129.636 110.069 138.385 Q110.069 147.112 106.99 151.719 Q103.935 156.302 98.1244 156.302 Q92.3142 156.302 89.2356 151.719 Q86.18 147.112 86.18 138.385 Q86.18 129.636 89.2356 125.052 Q92.3142 120.446 98.1244 120.446 Z\" fill=\"#000000\" fill-rule=\"nonzero\" fill-opacity=\"1\" /><path clip-path=\"url(#clip050)\" d=\"M110.614 125.023 L116.821 125.023 L116.821 103.601 L110.069 104.955 L110.069 101.494 L116.783 100.14 L120.582 100.14 L120.582 125.023 L126.789 125.023 L126.789 128.22 L110.614 128.22 L110.614 125.023 Z\" fill=\"#000000\" fill-rule=\"nonzero\" fill-opacity=\"1\" /><path clip-path=\"url(#clip050)\" d=\"M142.587 102.642 Q139.653 102.642 138.168 105.538 Q136.701 108.416 136.701 114.209 Q136.701 119.983 138.168 122.879 Q139.653 125.757 142.587 125.757 Q145.54 125.757 147.007 122.879 Q148.493 119.983 148.493 114.209 Q148.493 108.416 147.007 105.538 Q145.54 102.642 142.587 102.642 M142.587 99.6325 Q147.308 99.6325 149.791 103.375 Q152.292 107.099 152.292 114.209 Q152.292 121.299 149.791 125.042 Q147.308 128.766 142.587 128.766 Q137.867 128.766 135.365 125.042 Q132.883 121.299 132.883 114.209 Q132.883 107.099 135.365 103.375 Q137.867 99.6325 142.587 99.6325 Z\" fill=\"#000000\" fill-rule=\"nonzero\" fill-opacity=\"1\" /><path clip-path=\"url(#clip052)\" d=\"M369.665 1259.52 L309.608 1259.52 L429.722 1259.52 L369.665 1259.52 L369.665 1069.91 L369.665 1259.52  Z\" fill=\"#009af9\" fill-rule=\"evenodd\" fill-opacity=\"0.5\"/>\n",
       "<polyline clip-path=\"url(#clip052)\" style=\"stroke:#000000; stroke-linecap:round; stroke-linejoin:round; stroke-width:8; stroke-opacity:1; fill:none\" points=\"369.665,1259.52 309.608,1259.52 429.722,1259.52 369.665,1259.52 369.665,1069.91 369.665,1259.52 \"/>\n",
       "<path clip-path=\"url(#clip052)\" d=\"M489.78 1069.91 L489.78 996.869 L249.551 996.869 L249.551 1069.91 L489.78 1069.91 L489.78 996.869 L489.78 1069.91  Z\" fill=\"#009af9\" fill-rule=\"evenodd\" fill-opacity=\"0.5\"/>\n",
       "<polyline clip-path=\"url(#clip052)\" style=\"stroke:#000000; stroke-linecap:round; stroke-linejoin:round; stroke-width:8; stroke-opacity:1; fill:none\" points=\"489.78,1069.91 489.78,996.869 249.551,996.869 249.551,1069.91 489.78,1069.91 489.78,996.869 489.78,1069.91 \"/>\n",
       "<path clip-path=\"url(#clip052)\" d=\"M489.78 940.122 L249.551 940.122 L249.551 996.869 L489.78 996.869 L489.78 940.122 L369.665 940.122 L489.78 940.122  Z\" fill=\"#009af9\" fill-rule=\"evenodd\" fill-opacity=\"0.5\"/>\n",
       "<polyline clip-path=\"url(#clip052)\" style=\"stroke:#000000; stroke-linecap:round; stroke-linejoin:round; stroke-width:8; stroke-opacity:1; fill:none\" points=\"489.78,940.122 249.551,940.122 249.551,996.869 489.78,996.869 489.78,940.122 369.665,940.122 489.78,940.122 \"/>\n",
       "<path clip-path=\"url(#clip052)\" d=\"M369.665 907.769 L309.608 907.769 L429.722 907.769 L369.665 907.769 L369.665 940.122 L369.665 907.769  Z\" fill=\"#009af9\" fill-rule=\"evenodd\" fill-opacity=\"0.5\"/>\n",
       "<polyline clip-path=\"url(#clip052)\" style=\"stroke:#000000; stroke-linecap:round; stroke-linejoin:round; stroke-width:8; stroke-opacity:1; fill:none\" points=\"369.665,907.769 309.608,907.769 429.722,907.769 369.665,907.769 369.665,940.122 369.665,907.769 \"/>\n",
       "<path clip-path=\"url(#clip052)\" d=\"M669.951 1234.82 L609.894 1234.82 L730.009 1234.82 L669.951 1234.82 L669.951 1051.22 L669.951 1234.82  Z\" fill=\"#009af9\" fill-rule=\"evenodd\" fill-opacity=\"0.5\"/>\n",
       "<polyline clip-path=\"url(#clip052)\" style=\"stroke:#000000; stroke-linecap:round; stroke-linejoin:round; stroke-width:8; stroke-opacity:1; fill:none\" points=\"669.951,1234.82 609.894,1234.82 730.009,1234.82 669.951,1234.82 669.951,1051.22 669.951,1234.82 \"/>\n",
       "<path clip-path=\"url(#clip052)\" d=\"M790.066 1051.22 L790.066 1028.43 L549.837 1028.43 L549.837 1051.22 L790.066 1051.22 L790.066 1028.43 L790.066 1051.22  Z\" fill=\"#009af9\" fill-rule=\"evenodd\" fill-opacity=\"0.5\"/>\n",
       "<polyline clip-path=\"url(#clip052)\" style=\"stroke:#000000; stroke-linecap:round; stroke-linejoin:round; stroke-width:8; stroke-opacity:1; fill:none\" points=\"790.066,1051.22 790.066,1028.43 549.837,1028.43 549.837,1051.22 790.066,1051.22 790.066,1028.43 790.066,1051.22 \"/>\n",
       "<path clip-path=\"url(#clip052)\" d=\"M790.066 1003.84 L549.837 1003.84 L549.837 1028.43 L790.066 1028.43 L790.066 1003.84 L669.951 1003.84 L790.066 1003.84  Z\" fill=\"#009af9\" fill-rule=\"evenodd\" fill-opacity=\"0.5\"/>\n",
       "<polyline clip-path=\"url(#clip052)\" style=\"stroke:#000000; stroke-linecap:round; stroke-linejoin:round; stroke-width:8; stroke-opacity:1; fill:none\" points=\"790.066,1003.84 549.837,1003.84 549.837,1028.43 790.066,1028.43 790.066,1003.84 669.951,1003.84 790.066,1003.84 \"/>\n",
       "<path clip-path=\"url(#clip052)\" d=\"M669.951 998.358 L609.894 998.358 L730.009 998.358 L669.951 998.358 L669.951 1003.84 L669.951 998.358  Z\" fill=\"#009af9\" fill-rule=\"evenodd\" fill-opacity=\"0.5\"/>\n",
       "<polyline clip-path=\"url(#clip052)\" style=\"stroke:#000000; stroke-linecap:round; stroke-linejoin:round; stroke-width:8; stroke-opacity:1; fill:none\" points=\"669.951,998.358 609.894,998.358 730.009,998.358 669.951,998.358 669.951,1003.84 669.951,998.358 \"/>\n",
       "<path clip-path=\"url(#clip052)\" d=\"M970.238 1343.18 L910.18 1343.18 L1030.3 1343.18 L970.238 1343.18 L970.238 1098 L970.238 1343.18  Z\" fill=\"#009af9\" fill-rule=\"evenodd\" fill-opacity=\"0.5\"/>\n",
       "<polyline clip-path=\"url(#clip052)\" style=\"stroke:#000000; stroke-linecap:round; stroke-linejoin:round; stroke-width:8; stroke-opacity:1; fill:none\" points=\"970.238,1343.18 910.18,1343.18 1030.3,1343.18 970.238,1343.18 970.238,1098 970.238,1343.18 \"/>\n",
       "<path clip-path=\"url(#clip052)\" d=\"M1090.35 1098 L1090.35 1005.93 L850.123 1005.93 L850.123 1098 L1090.35 1098 L1090.35 1005.93 L1090.35 1098  Z\" fill=\"#009af9\" fill-rule=\"evenodd\" fill-opacity=\"0.5\"/>\n",
       "<polyline clip-path=\"url(#clip052)\" style=\"stroke:#000000; stroke-linecap:round; stroke-linejoin:round; stroke-width:8; stroke-opacity:1; fill:none\" points=\"1090.35,1098 1090.35,1005.93 850.123,1005.93 850.123,1098 1090.35,1098 1090.35,1005.93 1090.35,1098 \"/>\n",
       "<path clip-path=\"url(#clip052)\" d=\"M1090.35 901.869 L850.123 901.869 L850.123 1005.93 L1090.35 1005.93 L1090.35 901.869 L970.238 901.869 L1090.35 901.869  Z\" fill=\"#009af9\" fill-rule=\"evenodd\" fill-opacity=\"0.5\"/>\n",
       "<polyline clip-path=\"url(#clip052)\" style=\"stroke:#000000; stroke-linecap:round; stroke-linejoin:round; stroke-width:8; stroke-opacity:1; fill:none\" points=\"1090.35,901.869 850.123,901.869 850.123,1005.93 1090.35,1005.93 1090.35,901.869 970.238,901.869 1090.35,901.869 \"/>\n",
       "<path clip-path=\"url(#clip052)\" d=\"M970.238 875.985 L910.18 875.985 L1030.3 875.985 L970.238 875.985 L970.238 901.869 L970.238 875.985  Z\" fill=\"#009af9\" fill-rule=\"evenodd\" fill-opacity=\"0.5\"/>\n",
       "<polyline clip-path=\"url(#clip052)\" style=\"stroke:#000000; stroke-linecap:round; stroke-linejoin:round; stroke-width:8; stroke-opacity:1; fill:none\" points=\"970.238,875.985 910.18,875.985 1030.3,875.985 970.238,875.985 970.238,901.869 970.238,875.985 \"/>\n",
       "<path clip-path=\"url(#clip052)\" d=\"M1270.52 1288.18 L1210.47 1288.18 L1330.58 1288.18 L1270.52 1288.18 L1270.52 1026.41 L1270.52 1288.18  Z\" fill=\"#009af9\" fill-rule=\"evenodd\" fill-opacity=\"0.5\"/>\n",
       "<polyline clip-path=\"url(#clip052)\" style=\"stroke:#000000; stroke-linecap:round; stroke-linejoin:round; stroke-width:8; stroke-opacity:1; fill:none\" points=\"1270.52,1288.18 1210.47,1288.18 1330.58,1288.18 1270.52,1288.18 1270.52,1026.41 1270.52,1288.18 \"/>\n",
       "<path clip-path=\"url(#clip052)\" d=\"M1390.64 1026.41 L1390.64 997.347 L1150.41 997.347 L1150.41 1026.41 L1390.64 1026.41 L1390.64 997.347 L1390.64 1026.41  Z\" fill=\"#009af9\" fill-rule=\"evenodd\" fill-opacity=\"0.5\"/>\n",
       "<polyline clip-path=\"url(#clip052)\" style=\"stroke:#000000; stroke-linecap:round; stroke-linejoin:round; stroke-width:8; stroke-opacity:1; fill:none\" points=\"1390.64,1026.41 1390.64,997.347 1150.41,997.347 1150.41,1026.41 1390.64,1026.41 1390.64,997.347 1390.64,1026.41 \"/>\n",
       "<path clip-path=\"url(#clip052)\" d=\"M1390.64 984.758 L1150.41 984.758 L1150.41 997.347 L1390.64 997.347 L1390.64 984.758 L1270.52 984.758 L1390.64 984.758  Z\" fill=\"#009af9\" fill-rule=\"evenodd\" fill-opacity=\"0.5\"/>\n",
       "<polyline clip-path=\"url(#clip052)\" style=\"stroke:#000000; stroke-linecap:round; stroke-linejoin:round; stroke-width:8; stroke-opacity:1; fill:none\" points=\"1390.64,984.758 1150.41,984.758 1150.41,997.347 1390.64,997.347 1390.64,984.758 1270.52,984.758 1390.64,984.758 \"/>\n",
       "<path clip-path=\"url(#clip052)\" d=\"M1270.52 972.564 L1210.47 972.564 L1330.58 972.564 L1270.52 972.564 L1270.52 984.758 L1270.52 972.564  Z\" fill=\"#009af9\" fill-rule=\"evenodd\" fill-opacity=\"0.5\"/>\n",
       "<polyline clip-path=\"url(#clip052)\" style=\"stroke:#000000; stroke-linecap:round; stroke-linejoin:round; stroke-width:8; stroke-opacity:1; fill:none\" points=\"1270.52,972.564 1210.47,972.564 1330.58,972.564 1270.52,972.564 1270.52,984.758 1270.52,972.564 \"/>\n",
       "<path clip-path=\"url(#clip052)\" d=\"M1570.81 1112.83 L1510.75 1112.83 L1630.87 1112.83 L1570.81 1112.83 L1570.81 999.783 L1570.81 1112.83  Z\" fill=\"#009af9\" fill-rule=\"evenodd\" fill-opacity=\"0.5\"/>\n",
       "<polyline clip-path=\"url(#clip052)\" style=\"stroke:#000000; stroke-linecap:round; stroke-linejoin:round; stroke-width:8; stroke-opacity:1; fill:none\" points=\"1570.81,1112.83 1510.75,1112.83 1630.87,1112.83 1570.81,1112.83 1570.81,999.783 1570.81,1112.83 \"/>\n",
       "<path clip-path=\"url(#clip052)\" d=\"M1690.92 999.783 L1690.92 932.277 L1450.7 932.277 L1450.7 999.783 L1690.92 999.783 L1690.92 932.277 L1690.92 999.783  Z\" fill=\"#009af9\" fill-rule=\"evenodd\" fill-opacity=\"0.5\"/>\n",
       "<polyline clip-path=\"url(#clip052)\" style=\"stroke:#000000; stroke-linecap:round; stroke-linejoin:round; stroke-width:8; stroke-opacity:1; fill:none\" points=\"1690.92,999.783 1690.92,932.277 1450.7,932.277 1450.7,999.783 1690.92,999.783 1690.92,932.277 1690.92,999.783 \"/>\n",
       "<path clip-path=\"url(#clip052)\" d=\"M1690.92 818.563 L1450.7 818.563 L1450.7 932.277 L1690.92 932.277 L1690.92 818.563 L1570.81 818.563 L1690.92 818.563  Z\" fill=\"#009af9\" fill-rule=\"evenodd\" fill-opacity=\"0.5\"/>\n",
       "<polyline clip-path=\"url(#clip052)\" style=\"stroke:#000000; stroke-linecap:round; stroke-linejoin:round; stroke-width:8; stroke-opacity:1; fill:none\" points=\"1690.92,818.563 1450.7,818.563 1450.7,932.277 1690.92,932.277 1690.92,818.563 1570.81,818.563 1690.92,818.563 \"/>\n",
       "<path clip-path=\"url(#clip052)\" d=\"M1570.81 796.256 L1510.75 796.256 L1630.87 796.256 L1570.81 796.256 L1570.81 818.563 L1570.81 796.256  Z\" fill=\"#009af9\" fill-rule=\"evenodd\" fill-opacity=\"0.5\"/>\n",
       "<polyline clip-path=\"url(#clip052)\" style=\"stroke:#000000; stroke-linecap:round; stroke-linejoin:round; stroke-width:8; stroke-opacity:1; fill:none\" points=\"1570.81,796.256 1510.75,796.256 1630.87,796.256 1570.81,796.256 1570.81,818.563 1570.81,796.256 \"/>\n",
       "<path clip-path=\"url(#clip052)\" d=\"M1871.1 1147.19 L1811.04 1147.19 L1931.15 1147.19 L1871.1 1147.19 L1871.1 1012.48 L1871.1 1147.19  Z\" fill=\"#009af9\" fill-rule=\"evenodd\" fill-opacity=\"0.5\"/>\n",
       "<polyline clip-path=\"url(#clip052)\" style=\"stroke:#000000; stroke-linecap:round; stroke-linejoin:round; stroke-width:8; stroke-opacity:1; fill:none\" points=\"1871.1,1147.19 1811.04,1147.19 1931.15,1147.19 1871.1,1147.19 1871.1,1012.48 1871.1,1147.19 \"/>\n",
       "<path clip-path=\"url(#clip052)\" d=\"M1991.21 1012.48 L1991.21 996.197 L1750.98 996.197 L1750.98 1012.48 L1991.21 1012.48 L1991.21 996.197 L1991.21 1012.48  Z\" fill=\"#009af9\" fill-rule=\"evenodd\" fill-opacity=\"0.5\"/>\n",
       "<polyline clip-path=\"url(#clip052)\" style=\"stroke:#000000; stroke-linecap:round; stroke-linejoin:round; stroke-width:8; stroke-opacity:1; fill:none\" points=\"1991.21,1012.48 1991.21,996.197 1750.98,996.197 1750.98,1012.48 1991.21,1012.48 1991.21,996.197 1991.21,1012.48 \"/>\n",
       "<path clip-path=\"url(#clip052)\" d=\"M1991.21 978.15 L1750.98 978.15 L1750.98 996.197 L1991.21 996.197 L1991.21 978.15 L1871.1 978.15 L1991.21 978.15  Z\" fill=\"#009af9\" fill-rule=\"evenodd\" fill-opacity=\"0.5\"/>\n",
       "<polyline clip-path=\"url(#clip052)\" style=\"stroke:#000000; stroke-linecap:round; stroke-linejoin:round; stroke-width:8; stroke-opacity:1; fill:none\" points=\"1991.21,978.15 1750.98,978.15 1750.98,996.197 1991.21,996.197 1991.21,978.15 1871.1,978.15 1991.21,978.15 \"/>\n",
       "<path clip-path=\"url(#clip052)\" d=\"M1871.1 964.557 L1811.04 964.557 L1931.15 964.557 L1871.1 964.557 L1871.1 978.15 L1871.1 964.557  Z\" fill=\"#009af9\" fill-rule=\"evenodd\" fill-opacity=\"0.5\"/>\n",
       "<polyline clip-path=\"url(#clip052)\" style=\"stroke:#000000; stroke-linecap:round; stroke-linejoin:round; stroke-width:8; stroke-opacity:1; fill:none\" points=\"1871.1,964.557 1811.04,964.557 1931.15,964.557 1871.1,964.557 1871.1,978.15 1871.1,964.557 \"/>\n",
       "<path clip-path=\"url(#clip052)\" d=\"M2171.38 1318.46 L2111.33 1318.46 L2231.44 1318.46 L2171.38 1318.46 L2171.38 1114.3 L2171.38 1318.46  Z\" fill=\"#009af9\" fill-rule=\"evenodd\" fill-opacity=\"0.5\"/>\n",
       "<polyline clip-path=\"url(#clip052)\" style=\"stroke:#000000; stroke-linecap:round; stroke-linejoin:round; stroke-width:8; stroke-opacity:1; fill:none\" points=\"2171.38,1318.46 2111.33,1318.46 2231.44,1318.46 2171.38,1318.46 2171.38,1114.3 2171.38,1318.46 \"/>\n",
       "<path clip-path=\"url(#clip052)\" d=\"M2291.5 1114.3 L2291.5 1039.68 L2051.27 1039.68 L2051.27 1114.3 L2291.5 1114.3 L2291.5 1039.68 L2291.5 1114.3  Z\" fill=\"#009af9\" fill-rule=\"evenodd\" fill-opacity=\"0.5\"/>\n",
       "<polyline clip-path=\"url(#clip052)\" style=\"stroke:#000000; stroke-linecap:round; stroke-linejoin:round; stroke-width:8; stroke-opacity:1; fill:none\" points=\"2291.5,1114.3 2291.5,1039.68 2051.27,1039.68 2051.27,1114.3 2291.5,1114.3 2291.5,1039.68 2291.5,1114.3 \"/>\n",
       "<path clip-path=\"url(#clip052)\" d=\"M2291.5 989.631 L2051.27 989.631 L2051.27 1039.68 L2291.5 1039.68 L2291.5 989.631 L2171.38 989.631 L2291.5 989.631  Z\" fill=\"#009af9\" fill-rule=\"evenodd\" fill-opacity=\"0.5\"/>\n",
       "<polyline clip-path=\"url(#clip052)\" style=\"stroke:#000000; stroke-linecap:round; stroke-linejoin:round; stroke-width:8; stroke-opacity:1; fill:none\" points=\"2291.5,989.631 2051.27,989.631 2051.27,1039.68 2291.5,1039.68 2291.5,989.631 2171.38,989.631 2291.5,989.631 \"/>\n",
       "<path clip-path=\"url(#clip052)\" d=\"M2171.38 969.335 L2111.33 969.335 L2231.44 969.335 L2171.38 969.335 L2171.38 989.631 L2171.38 969.335  Z\" fill=\"#009af9\" fill-rule=\"evenodd\" fill-opacity=\"0.5\"/>\n",
       "<polyline clip-path=\"url(#clip052)\" style=\"stroke:#000000; stroke-linecap:round; stroke-linejoin:round; stroke-width:8; stroke-opacity:1; fill:none\" points=\"2171.38,969.335 2111.33,969.335 2231.44,969.335 2171.38,969.335 2171.38,989.631 2171.38,969.335 \"/>\n",
       "<circle clip-path=\"url(#clip052)\" cx=\"369.665\" cy=\"810.917\" r=\"14.4\" fill=\"#009af9\" fill-rule=\"evenodd\" fill-opacity=\"1\" stroke=\"#000000\" stroke-opacity=\"1\" stroke-width=\"3.2\"/>\n",
       "<circle clip-path=\"url(#clip052)\" cx=\"369.665\" cy=\"861.902\" r=\"14.4\" fill=\"#009af9\" fill-rule=\"evenodd\" fill-opacity=\"1\" stroke=\"#000000\" stroke-opacity=\"1\" stroke-width=\"3.2\"/>\n",
       "<circle clip-path=\"url(#clip052)\" cx=\"369.665\" cy=\"861.902\" r=\"14.4\" fill=\"#009af9\" fill-rule=\"evenodd\" fill-opacity=\"1\" stroke=\"#000000\" stroke-opacity=\"1\" stroke-width=\"3.2\"/>\n",
       "<circle clip-path=\"url(#clip052)\" cx=\"369.665\" cy=\"861.902\" r=\"14.4\" fill=\"#009af9\" fill-rule=\"evenodd\" fill-opacity=\"1\" stroke=\"#000000\" stroke-opacity=\"1\" stroke-width=\"3.2\"/>\n",
       "<circle clip-path=\"url(#clip052)\" cx=\"369.665\" cy=\"861.902\" r=\"14.4\" fill=\"#009af9\" fill-rule=\"evenodd\" fill-opacity=\"1\" stroke=\"#000000\" stroke-opacity=\"1\" stroke-width=\"3.2\"/>\n",
       "<circle clip-path=\"url(#clip052)\" cx=\"369.665\" cy=\"877.874\" r=\"14.4\" fill=\"#009af9\" fill-rule=\"evenodd\" fill-opacity=\"1\" stroke=\"#000000\" stroke-opacity=\"1\" stroke-width=\"3.2\"/>\n",
       "<circle clip-path=\"url(#clip052)\" cx=\"369.665\" cy=\"877.874\" r=\"14.4\" fill=\"#009af9\" fill-rule=\"evenodd\" fill-opacity=\"1\" stroke=\"#000000\" stroke-opacity=\"1\" stroke-width=\"3.2\"/>\n",
       "<circle clip-path=\"url(#clip052)\" cx=\"369.665\" cy=\"877.874\" r=\"14.4\" fill=\"#009af9\" fill-rule=\"evenodd\" fill-opacity=\"1\" stroke=\"#000000\" stroke-opacity=\"1\" stroke-width=\"3.2\"/>\n",
       "<circle clip-path=\"url(#clip052)\" cx=\"369.665\" cy=\"877.874\" r=\"14.4\" fill=\"#009af9\" fill-rule=\"evenodd\" fill-opacity=\"1\" stroke=\"#000000\" stroke-opacity=\"1\" stroke-width=\"3.2\"/>\n",
       "<circle clip-path=\"url(#clip052)\" cx=\"369.665\" cy=\"893.001\" r=\"14.4\" fill=\"#009af9\" fill-rule=\"evenodd\" fill-opacity=\"1\" stroke=\"#000000\" stroke-opacity=\"1\" stroke-width=\"3.2\"/>\n",
       "<circle clip-path=\"url(#clip052)\" cx=\"369.665\" cy=\"873.49\" r=\"14.4\" fill=\"#009af9\" fill-rule=\"evenodd\" fill-opacity=\"1\" stroke=\"#000000\" stroke-opacity=\"1\" stroke-width=\"3.2\"/>\n",
       "<circle clip-path=\"url(#clip052)\" cx=\"369.665\" cy=\"752.799\" r=\"14.4\" fill=\"#009af9\" fill-rule=\"evenodd\" fill-opacity=\"1\" stroke=\"#000000\" stroke-opacity=\"1\" stroke-width=\"3.2\"/>\n",
       "<circle clip-path=\"url(#clip052)\" cx=\"369.665\" cy=\"886.043\" r=\"14.4\" fill=\"#009af9\" fill-rule=\"evenodd\" fill-opacity=\"1\" stroke=\"#000000\" stroke-opacity=\"1\" stroke-width=\"3.2\"/>\n",
       "<circle clip-path=\"url(#clip052)\" cx=\"369.665\" cy=\"853.009\" r=\"14.4\" fill=\"#009af9\" fill-rule=\"evenodd\" fill-opacity=\"1\" stroke=\"#000000\" stroke-opacity=\"1\" stroke-width=\"3.2\"/>\n",
       "<circle clip-path=\"url(#clip052)\" cx=\"369.665\" cy=\"817.53\" r=\"14.4\" fill=\"#009af9\" fill-rule=\"evenodd\" fill-opacity=\"1\" stroke=\"#000000\" stroke-opacity=\"1\" stroke-width=\"3.2\"/>\n",
       "<circle clip-path=\"url(#clip052)\" cx=\"369.665\" cy=\"870.299\" r=\"14.4\" fill=\"#009af9\" fill-rule=\"evenodd\" fill-opacity=\"1\" stroke=\"#000000\" stroke-opacity=\"1\" stroke-width=\"3.2\"/>\n",
       "<circle clip-path=\"url(#clip052)\" cx=\"369.665\" cy=\"871.983\" r=\"14.4\" fill=\"#009af9\" fill-rule=\"evenodd\" fill-opacity=\"1\" stroke=\"#000000\" stroke-opacity=\"1\" stroke-width=\"3.2\"/>\n",
       "<circle clip-path=\"url(#clip052)\" cx=\"369.665\" cy=\"893.007\" r=\"14.4\" fill=\"#009af9\" fill-rule=\"evenodd\" fill-opacity=\"1\" stroke=\"#000000\" stroke-opacity=\"1\" stroke-width=\"3.2\"/>\n",
       "<circle clip-path=\"url(#clip052)\" cx=\"369.665\" cy=\"875.986\" r=\"14.4\" fill=\"#009af9\" fill-rule=\"evenodd\" fill-opacity=\"1\" stroke=\"#000000\" stroke-opacity=\"1\" stroke-width=\"3.2\"/>\n",
       "<circle clip-path=\"url(#clip052)\" cx=\"369.665\" cy=\"865.684\" r=\"14.4\" fill=\"#009af9\" fill-rule=\"evenodd\" fill-opacity=\"1\" stroke=\"#000000\" stroke-opacity=\"1\" stroke-width=\"3.2\"/>\n",
       "<circle clip-path=\"url(#clip052)\" cx=\"369.665\" cy=\"855.818\" r=\"14.4\" fill=\"#009af9\" fill-rule=\"evenodd\" fill-opacity=\"1\" stroke=\"#000000\" stroke-opacity=\"1\" stroke-width=\"3.2\"/>\n",
       "<circle clip-path=\"url(#clip052)\" cx=\"369.665\" cy=\"865.847\" r=\"14.4\" fill=\"#009af9\" fill-rule=\"evenodd\" fill-opacity=\"1\" stroke=\"#000000\" stroke-opacity=\"1\" stroke-width=\"3.2\"/>\n",
       "<circle clip-path=\"url(#clip052)\" cx=\"669.951\" cy=\"852.985\" r=\"14.4\" fill=\"#009af9\" fill-rule=\"evenodd\" fill-opacity=\"1\" stroke=\"#000000\" stroke-opacity=\"1\" stroke-width=\"3.2\"/>\n",
       "<circle clip-path=\"url(#clip052)\" cx=\"669.951\" cy=\"852.985\" r=\"14.4\" fill=\"#009af9\" fill-rule=\"evenodd\" fill-opacity=\"1\" stroke=\"#000000\" stroke-opacity=\"1\" stroke-width=\"3.2\"/>\n",
       "<circle clip-path=\"url(#clip052)\" cx=\"669.951\" cy=\"822.912\" r=\"14.4\" fill=\"#009af9\" fill-rule=\"evenodd\" fill-opacity=\"1\" stroke=\"#000000\" stroke-opacity=\"1\" stroke-width=\"3.2\"/>\n",
       "<circle clip-path=\"url(#clip052)\" cx=\"669.951\" cy=\"852.985\" r=\"14.4\" fill=\"#009af9\" fill-rule=\"evenodd\" fill-opacity=\"1\" stroke=\"#000000\" stroke-opacity=\"1\" stroke-width=\"3.2\"/>\n",
       "<circle clip-path=\"url(#clip052)\" cx=\"669.951\" cy=\"822.912\" r=\"14.4\" fill=\"#009af9\" fill-rule=\"evenodd\" fill-opacity=\"1\" stroke=\"#000000\" stroke-opacity=\"1\" stroke-width=\"3.2\"/>\n",
       "<circle clip-path=\"url(#clip052)\" cx=\"669.951\" cy=\"942.135\" r=\"14.4\" fill=\"#009af9\" fill-rule=\"evenodd\" fill-opacity=\"1\" stroke=\"#000000\" stroke-opacity=\"1\" stroke-width=\"3.2\"/>\n",
       "<circle clip-path=\"url(#clip052)\" cx=\"669.951\" cy=\"936.657\" r=\"14.4\" fill=\"#009af9\" fill-rule=\"evenodd\" fill-opacity=\"1\" stroke=\"#000000\" stroke-opacity=\"1\" stroke-width=\"3.2\"/>\n",
       "<circle clip-path=\"url(#clip052)\" cx=\"669.951\" cy=\"966.729\" r=\"14.4\" fill=\"#009af9\" fill-rule=\"evenodd\" fill-opacity=\"1\" stroke=\"#000000\" stroke-opacity=\"1\" stroke-width=\"3.2\"/>\n",
       "<circle clip-path=\"url(#clip052)\" cx=\"669.951\" cy=\"942.135\" r=\"14.4\" fill=\"#009af9\" fill-rule=\"evenodd\" fill-opacity=\"1\" stroke=\"#000000\" stroke-opacity=\"1\" stroke-width=\"3.2\"/>\n",
       "<circle clip-path=\"url(#clip052)\" cx=\"669.951\" cy=\"942.135\" r=\"14.4\" fill=\"#009af9\" fill-rule=\"evenodd\" fill-opacity=\"1\" stroke=\"#000000\" stroke-opacity=\"1\" stroke-width=\"3.2\"/>\n",
       "<circle clip-path=\"url(#clip052)\" cx=\"669.951\" cy=\"936.657\" r=\"14.4\" fill=\"#009af9\" fill-rule=\"evenodd\" fill-opacity=\"1\" stroke=\"#000000\" stroke-opacity=\"1\" stroke-width=\"3.2\"/>\n",
       "<circle clip-path=\"url(#clip052)\" cx=\"669.951\" cy=\"813.955\" r=\"14.4\" fill=\"#009af9\" fill-rule=\"evenodd\" fill-opacity=\"1\" stroke=\"#000000\" stroke-opacity=\"1\" stroke-width=\"3.2\"/>\n",
       "<circle clip-path=\"url(#clip052)\" cx=\"970.238\" cy=\"637.861\" r=\"14.4\" fill=\"#009af9\" fill-rule=\"evenodd\" fill-opacity=\"1\" stroke=\"#000000\" stroke-opacity=\"1\" stroke-width=\"3.2\"/>\n",
       "<circle clip-path=\"url(#clip052)\" cx=\"970.238\" cy=\"854.773\" r=\"14.4\" fill=\"#009af9\" fill-rule=\"evenodd\" fill-opacity=\"1\" stroke=\"#000000\" stroke-opacity=\"1\" stroke-width=\"3.2\"/>\n",
       "<circle clip-path=\"url(#clip052)\" cx=\"970.238\" cy=\"795.852\" r=\"14.4\" fill=\"#009af9\" fill-rule=\"evenodd\" fill-opacity=\"1\" stroke=\"#000000\" stroke-opacity=\"1\" stroke-width=\"3.2\"/>\n",
       "<circle clip-path=\"url(#clip052)\" cx=\"970.238\" cy=\"854.765\" r=\"14.4\" fill=\"#009af9\" fill-rule=\"evenodd\" fill-opacity=\"1\" stroke=\"#000000\" stroke-opacity=\"1\" stroke-width=\"3.2\"/>\n",
       "<circle clip-path=\"url(#clip052)\" cx=\"970.238\" cy=\"795.852\" r=\"14.4\" fill=\"#009af9\" fill-rule=\"evenodd\" fill-opacity=\"1\" stroke=\"#000000\" stroke-opacity=\"1\" stroke-width=\"3.2\"/>\n",
       "<circle clip-path=\"url(#clip052)\" cx=\"970.238\" cy=\"795.721\" r=\"14.4\" fill=\"#009af9\" fill-rule=\"evenodd\" fill-opacity=\"1\" stroke=\"#000000\" stroke-opacity=\"1\" stroke-width=\"3.2\"/>\n",
       "<circle clip-path=\"url(#clip052)\" cx=\"970.238\" cy=\"854.773\" r=\"14.4\" fill=\"#009af9\" fill-rule=\"evenodd\" fill-opacity=\"1\" stroke=\"#000000\" stroke-opacity=\"1\" stroke-width=\"3.2\"/>\n",
       "<circle clip-path=\"url(#clip052)\" cx=\"970.238\" cy=\"854.773\" r=\"14.4\" fill=\"#009af9\" fill-rule=\"evenodd\" fill-opacity=\"1\" stroke=\"#000000\" stroke-opacity=\"1\" stroke-width=\"3.2\"/>\n",
       "<circle clip-path=\"url(#clip052)\" cx=\"970.238\" cy=\"854.773\" r=\"14.4\" fill=\"#009af9\" fill-rule=\"evenodd\" fill-opacity=\"1\" stroke=\"#000000\" stroke-opacity=\"1\" stroke-width=\"3.2\"/>\n",
       "<circle clip-path=\"url(#clip052)\" cx=\"970.238\" cy=\"854.725\" r=\"14.4\" fill=\"#009af9\" fill-rule=\"evenodd\" fill-opacity=\"1\" stroke=\"#000000\" stroke-opacity=\"1\" stroke-width=\"3.2\"/>\n",
       "<circle clip-path=\"url(#clip052)\" cx=\"970.238\" cy=\"795.721\" r=\"14.4\" fill=\"#009af9\" fill-rule=\"evenodd\" fill-opacity=\"1\" stroke=\"#000000\" stroke-opacity=\"1\" stroke-width=\"3.2\"/>\n",
       "<circle clip-path=\"url(#clip052)\" cx=\"970.238\" cy=\"854.765\" r=\"14.4\" fill=\"#009af9\" fill-rule=\"evenodd\" fill-opacity=\"1\" stroke=\"#000000\" stroke-opacity=\"1\" stroke-width=\"3.2\"/>\n",
       "<circle clip-path=\"url(#clip052)\" cx=\"970.238\" cy=\"786.885\" r=\"14.4\" fill=\"#009af9\" fill-rule=\"evenodd\" fill-opacity=\"1\" stroke=\"#000000\" stroke-opacity=\"1\" stroke-width=\"3.2\"/>\n",
       "<circle clip-path=\"url(#clip052)\" cx=\"970.238\" cy=\"845.95\" r=\"14.4\" fill=\"#009af9\" fill-rule=\"evenodd\" fill-opacity=\"1\" stroke=\"#000000\" stroke-opacity=\"1\" stroke-width=\"3.2\"/>\n",
       "<circle clip-path=\"url(#clip052)\" cx=\"970.238\" cy=\"821.301\" r=\"14.4\" fill=\"#009af9\" fill-rule=\"evenodd\" fill-opacity=\"1\" stroke=\"#000000\" stroke-opacity=\"1\" stroke-width=\"3.2\"/>\n",
       "<circle clip-path=\"url(#clip052)\" cx=\"970.238\" cy=\"860.756\" r=\"14.4\" fill=\"#009af9\" fill-rule=\"evenodd\" fill-opacity=\"1\" stroke=\"#000000\" stroke-opacity=\"1\" stroke-width=\"3.2\"/>\n",
       "<circle clip-path=\"url(#clip052)\" cx=\"970.238\" cy=\"822.994\" r=\"14.4\" fill=\"#009af9\" fill-rule=\"evenodd\" fill-opacity=\"1\" stroke=\"#000000\" stroke-opacity=\"1\" stroke-width=\"3.2\"/>\n",
       "<circle clip-path=\"url(#clip052)\" cx=\"970.238\" cy=\"864.308\" r=\"14.4\" fill=\"#009af9\" fill-rule=\"evenodd\" fill-opacity=\"1\" stroke=\"#000000\" stroke-opacity=\"1\" stroke-width=\"3.2\"/>\n",
       "<circle clip-path=\"url(#clip052)\" cx=\"1270.52\" cy=\"952.404\" r=\"14.4\" fill=\"#009af9\" fill-rule=\"evenodd\" fill-opacity=\"1\" stroke=\"#000000\" stroke-opacity=\"1\" stroke-width=\"3.2\"/>\n",
       "<circle clip-path=\"url(#clip052)\" cx=\"1270.52\" cy=\"909.408\" r=\"14.4\" fill=\"#009af9\" fill-rule=\"evenodd\" fill-opacity=\"1\" stroke=\"#000000\" stroke-opacity=\"1\" stroke-width=\"3.2\"/>\n",
       "<circle clip-path=\"url(#clip052)\" cx=\"1270.52\" cy=\"958.031\" r=\"14.4\" fill=\"#009af9\" fill-rule=\"evenodd\" fill-opacity=\"1\" stroke=\"#000000\" stroke-opacity=\"1\" stroke-width=\"3.2\"/>\n",
       "<circle clip-path=\"url(#clip052)\" cx=\"1270.52\" cy=\"958.239\" r=\"14.4\" fill=\"#009af9\" fill-rule=\"evenodd\" fill-opacity=\"1\" stroke=\"#000000\" stroke-opacity=\"1\" stroke-width=\"3.2\"/>\n",
       "<circle clip-path=\"url(#clip052)\" cx=\"1570.81\" cy=\"784.303\" r=\"14.4\" fill=\"#009af9\" fill-rule=\"evenodd\" fill-opacity=\"1\" stroke=\"#000000\" stroke-opacity=\"1\" stroke-width=\"3.2\"/>\n",
       "<circle clip-path=\"url(#clip052)\" cx=\"1871.1\" cy=\"930.629\" r=\"14.4\" fill=\"#009af9\" fill-rule=\"evenodd\" fill-opacity=\"1\" stroke=\"#000000\" stroke-opacity=\"1\" stroke-width=\"3.2\"/>\n",
       "<circle clip-path=\"url(#clip052)\" cx=\"1871.1\" cy=\"855.852\" r=\"14.4\" fill=\"#009af9\" fill-rule=\"evenodd\" fill-opacity=\"1\" stroke=\"#000000\" stroke-opacity=\"1\" stroke-width=\"3.2\"/>\n",
       "<circle clip-path=\"url(#clip052)\" cx=\"1871.1\" cy=\"835.292\" r=\"14.4\" fill=\"#009af9\" fill-rule=\"evenodd\" fill-opacity=\"1\" stroke=\"#000000\" stroke-opacity=\"1\" stroke-width=\"3.2\"/>\n",
       "<circle clip-path=\"url(#clip052)\" cx=\"1871.1\" cy=\"851.856\" r=\"14.4\" fill=\"#009af9\" fill-rule=\"evenodd\" fill-opacity=\"1\" stroke=\"#000000\" stroke-opacity=\"1\" stroke-width=\"3.2\"/>\n",
       "<circle clip-path=\"url(#clip052)\" cx=\"1871.1\" cy=\"851.856\" r=\"14.4\" fill=\"#009af9\" fill-rule=\"evenodd\" fill-opacity=\"1\" stroke=\"#000000\" stroke-opacity=\"1\" stroke-width=\"3.2\"/>\n",
       "<circle clip-path=\"url(#clip052)\" cx=\"1871.1\" cy=\"851.856\" r=\"14.4\" fill=\"#009af9\" fill-rule=\"evenodd\" fill-opacity=\"1\" stroke=\"#000000\" stroke-opacity=\"1\" stroke-width=\"3.2\"/>\n",
       "<circle clip-path=\"url(#clip052)\" cx=\"1871.1\" cy=\"851.856\" r=\"14.4\" fill=\"#009af9\" fill-rule=\"evenodd\" fill-opacity=\"1\" stroke=\"#000000\" stroke-opacity=\"1\" stroke-width=\"3.2\"/>\n",
       "<circle clip-path=\"url(#clip052)\" cx=\"1871.1\" cy=\"851.856\" r=\"14.4\" fill=\"#009af9\" fill-rule=\"evenodd\" fill-opacity=\"1\" stroke=\"#000000\" stroke-opacity=\"1\" stroke-width=\"3.2\"/>\n",
       "<circle clip-path=\"url(#clip052)\" cx=\"1871.1\" cy=\"851.856\" r=\"14.4\" fill=\"#009af9\" fill-rule=\"evenodd\" fill-opacity=\"1\" stroke=\"#000000\" stroke-opacity=\"1\" stroke-width=\"3.2\"/>\n",
       "<circle clip-path=\"url(#clip052)\" cx=\"1871.1\" cy=\"851.856\" r=\"14.4\" fill=\"#009af9\" fill-rule=\"evenodd\" fill-opacity=\"1\" stroke=\"#000000\" stroke-opacity=\"1\" stroke-width=\"3.2\"/>\n",
       "<circle clip-path=\"url(#clip052)\" cx=\"1871.1\" cy=\"851.856\" r=\"14.4\" fill=\"#009af9\" fill-rule=\"evenodd\" fill-opacity=\"1\" stroke=\"#000000\" stroke-opacity=\"1\" stroke-width=\"3.2\"/>\n",
       "<circle clip-path=\"url(#clip052)\" cx=\"1871.1\" cy=\"851.856\" r=\"14.4\" fill=\"#009af9\" fill-rule=\"evenodd\" fill-opacity=\"1\" stroke=\"#000000\" stroke-opacity=\"1\" stroke-width=\"3.2\"/>\n",
       "<circle clip-path=\"url(#clip052)\" cx=\"1871.1\" cy=\"851.856\" r=\"14.4\" fill=\"#009af9\" fill-rule=\"evenodd\" fill-opacity=\"1\" stroke=\"#000000\" stroke-opacity=\"1\" stroke-width=\"3.2\"/>\n",
       "<circle clip-path=\"url(#clip052)\" cx=\"1871.1\" cy=\"940.724\" r=\"14.4\" fill=\"#009af9\" fill-rule=\"evenodd\" fill-opacity=\"1\" stroke=\"#000000\" stroke-opacity=\"1\" stroke-width=\"3.2\"/>\n",
       "<circle clip-path=\"url(#clip052)\" cx=\"1871.1\" cy=\"940.724\" r=\"14.4\" fill=\"#009af9\" fill-rule=\"evenodd\" fill-opacity=\"1\" stroke=\"#000000\" stroke-opacity=\"1\" stroke-width=\"3.2\"/>\n",
       "<circle clip-path=\"url(#clip052)\" cx=\"1871.1\" cy=\"940.724\" r=\"14.4\" fill=\"#009af9\" fill-rule=\"evenodd\" fill-opacity=\"1\" stroke=\"#000000\" stroke-opacity=\"1\" stroke-width=\"3.2\"/>\n",
       "<circle clip-path=\"url(#clip052)\" cx=\"2171.38\" cy=\"810.917\" r=\"14.4\" fill=\"#009af9\" fill-rule=\"evenodd\" fill-opacity=\"1\" stroke=\"#000000\" stroke-opacity=\"1\" stroke-width=\"3.2\"/>\n",
       "<circle clip-path=\"url(#clip052)\" cx=\"2171.38\" cy=\"940.122\" r=\"14.4\" fill=\"#009af9\" fill-rule=\"evenodd\" fill-opacity=\"1\" stroke=\"#000000\" stroke-opacity=\"1\" stroke-width=\"3.2\"/>\n",
       "<circle clip-path=\"url(#clip052)\" cx=\"2171.38\" cy=\"940.122\" r=\"14.4\" fill=\"#009af9\" fill-rule=\"evenodd\" fill-opacity=\"1\" stroke=\"#000000\" stroke-opacity=\"1\" stroke-width=\"3.2\"/>\n",
       "<circle clip-path=\"url(#clip052)\" cx=\"2171.38\" cy=\"877.874\" r=\"14.4\" fill=\"#009af9\" fill-rule=\"evenodd\" fill-opacity=\"1\" stroke=\"#000000\" stroke-opacity=\"1\" stroke-width=\"3.2\"/>\n",
       "<circle clip-path=\"url(#clip052)\" cx=\"2171.38\" cy=\"940.122\" r=\"14.4\" fill=\"#009af9\" fill-rule=\"evenodd\" fill-opacity=\"1\" stroke=\"#000000\" stroke-opacity=\"1\" stroke-width=\"3.2\"/>\n",
       "<circle clip-path=\"url(#clip052)\" cx=\"2171.38\" cy=\"940.122\" r=\"14.4\" fill=\"#009af9\" fill-rule=\"evenodd\" fill-opacity=\"1\" stroke=\"#000000\" stroke-opacity=\"1\" stroke-width=\"3.2\"/>\n",
       "<circle clip-path=\"url(#clip052)\" cx=\"2171.38\" cy=\"945.622\" r=\"14.4\" fill=\"#009af9\" fill-rule=\"evenodd\" fill-opacity=\"1\" stroke=\"#000000\" stroke-opacity=\"1\" stroke-width=\"3.2\"/>\n",
       "<circle clip-path=\"url(#clip052)\" cx=\"2171.38\" cy=\"952.743\" r=\"14.4\" fill=\"#009af9\" fill-rule=\"evenodd\" fill-opacity=\"1\" stroke=\"#000000\" stroke-opacity=\"1\" stroke-width=\"3.2\"/>\n",
       "<circle clip-path=\"url(#clip052)\" cx=\"2171.38\" cy=\"845.314\" r=\"14.4\" fill=\"#009af9\" fill-rule=\"evenodd\" fill-opacity=\"1\" stroke=\"#000000\" stroke-opacity=\"1\" stroke-width=\"3.2\"/>\n",
       "<circle clip-path=\"url(#clip052)\" cx=\"2171.38\" cy=\"948.132\" r=\"14.4\" fill=\"#009af9\" fill-rule=\"evenodd\" fill-opacity=\"1\" stroke=\"#000000\" stroke-opacity=\"1\" stroke-width=\"3.2\"/>\n",
       "<circle clip-path=\"url(#clip052)\" cx=\"2171.38\" cy=\"952.79\" r=\"14.4\" fill=\"#009af9\" fill-rule=\"evenodd\" fill-opacity=\"1\" stroke=\"#000000\" stroke-opacity=\"1\" stroke-width=\"3.2\"/>\n",
       "<circle clip-path=\"url(#clip052)\" cx=\"2171.38\" cy=\"950.055\" r=\"14.4\" fill=\"#009af9\" fill-rule=\"evenodd\" fill-opacity=\"1\" stroke=\"#000000\" stroke-opacity=\"1\" stroke-width=\"3.2\"/>\n",
       "<circle clip-path=\"url(#clip052)\" cx=\"2171.38\" cy=\"931.315\" r=\"14.4\" fill=\"#009af9\" fill-rule=\"evenodd\" fill-opacity=\"1\" stroke=\"#000000\" stroke-opacity=\"1\" stroke-width=\"3.2\"/>\n",
       "<circle clip-path=\"url(#clip052)\" cx=\"2171.38\" cy=\"871.183\" r=\"14.4\" fill=\"#009af9\" fill-rule=\"evenodd\" fill-opacity=\"1\" stroke=\"#000000\" stroke-opacity=\"1\" stroke-width=\"3.2\"/>\n",
       "<circle clip-path=\"url(#clip052)\" cx=\"2171.38\" cy=\"929.784\" r=\"14.4\" fill=\"#009af9\" fill-rule=\"evenodd\" fill-opacity=\"1\" stroke=\"#000000\" stroke-opacity=\"1\" stroke-width=\"3.2\"/>\n",
       "<circle clip-path=\"url(#clip052)\" cx=\"2171.38\" cy=\"903.66\" r=\"14.4\" fill=\"#009af9\" fill-rule=\"evenodd\" fill-opacity=\"1\" stroke=\"#000000\" stroke-opacity=\"1\" stroke-width=\"3.2\"/>\n",
       "<circle clip-path=\"url(#clip052)\" cx=\"2171.38\" cy=\"910.122\" r=\"14.4\" fill=\"#009af9\" fill-rule=\"evenodd\" fill-opacity=\"1\" stroke=\"#000000\" stroke-opacity=\"1\" stroke-width=\"3.2\"/>\n",
       "<circle clip-path=\"url(#clip052)\" cx=\"2171.38\" cy=\"937.597\" r=\"14.4\" fill=\"#009af9\" fill-rule=\"evenodd\" fill-opacity=\"1\" stroke=\"#000000\" stroke-opacity=\"1\" stroke-width=\"3.2\"/>\n",
       "<polyline clip-path=\"url(#clip052)\" style=\"stroke:#009af9; stroke-linecap:round; stroke-linejoin:round; stroke-width:0; stroke-opacity:1; fill:none\" points=\"369.665,1259.52 309.608,1259.52 429.722,1259.52 369.665,1259.52 369.665,1069.91 \"/>\n",
       "<polyline clip-path=\"url(#clip052)\" style=\"stroke:#009af9; stroke-linecap:round; stroke-linejoin:round; stroke-width:0; stroke-opacity:1; fill:none\" points=\"489.78,1069.91 489.78,996.869 249.551,996.869 249.551,1069.91 489.78,1069.91 489.78,996.869 \"/>\n",
       "<polyline clip-path=\"url(#clip052)\" style=\"stroke:#009af9; stroke-linecap:round; stroke-linejoin:round; stroke-width:0; stroke-opacity:1; fill:none\" points=\"489.78,940.122 249.551,940.122 249.551,996.869 489.78,996.869 489.78,940.122 369.665,940.122 \"/>\n",
       "<polyline clip-path=\"url(#clip052)\" style=\"stroke:#009af9; stroke-linecap:round; stroke-linejoin:round; stroke-width:0; stroke-opacity:1; fill:none\" points=\"369.665,907.769 309.608,907.769 429.722,907.769 369.665,907.769 369.665,940.122 \"/>\n",
       "<polyline clip-path=\"url(#clip052)\" style=\"stroke:#009af9; stroke-linecap:round; stroke-linejoin:round; stroke-width:0; stroke-opacity:1; fill:none\" points=\"669.951,1234.82 609.894,1234.82 730.009,1234.82 669.951,1234.82 669.951,1051.22 \"/>\n",
       "<polyline clip-path=\"url(#clip052)\" style=\"stroke:#009af9; stroke-linecap:round; stroke-linejoin:round; stroke-width:0; stroke-opacity:1; fill:none\" points=\"790.066,1051.22 790.066,1028.43 549.837,1028.43 549.837,1051.22 790.066,1051.22 790.066,1028.43 \"/>\n",
       "<polyline clip-path=\"url(#clip052)\" style=\"stroke:#009af9; stroke-linecap:round; stroke-linejoin:round; stroke-width:0; stroke-opacity:1; fill:none\" points=\"790.066,1003.84 549.837,1003.84 549.837,1028.43 790.066,1028.43 790.066,1003.84 669.951,1003.84 \"/>\n",
       "<polyline clip-path=\"url(#clip052)\" style=\"stroke:#009af9; stroke-linecap:round; stroke-linejoin:round; stroke-width:0; stroke-opacity:1; fill:none\" points=\"669.951,998.358 609.894,998.358 730.009,998.358 669.951,998.358 669.951,1003.84 \"/>\n",
       "<polyline clip-path=\"url(#clip052)\" style=\"stroke:#009af9; stroke-linecap:round; stroke-linejoin:round; stroke-width:0; stroke-opacity:1; fill:none\" points=\"970.238,1343.18 910.18,1343.18 1030.3,1343.18 970.238,1343.18 970.238,1098 \"/>\n",
       "<polyline clip-path=\"url(#clip052)\" style=\"stroke:#009af9; stroke-linecap:round; stroke-linejoin:round; stroke-width:0; stroke-opacity:1; fill:none\" points=\"1090.35,1098 1090.35,1005.93 850.123,1005.93 850.123,1098 1090.35,1098 1090.35,1005.93 \"/>\n",
       "<polyline clip-path=\"url(#clip052)\" style=\"stroke:#009af9; stroke-linecap:round; stroke-linejoin:round; stroke-width:0; stroke-opacity:1; fill:none\" points=\"1090.35,901.869 850.123,901.869 850.123,1005.93 1090.35,1005.93 1090.35,901.869 970.238,901.869 \"/>\n",
       "<polyline clip-path=\"url(#clip052)\" style=\"stroke:#009af9; stroke-linecap:round; stroke-linejoin:round; stroke-width:0; stroke-opacity:1; fill:none\" points=\"970.238,875.985 910.18,875.985 1030.3,875.985 970.238,875.985 970.238,901.869 \"/>\n",
       "<polyline clip-path=\"url(#clip052)\" style=\"stroke:#009af9; stroke-linecap:round; stroke-linejoin:round; stroke-width:0; stroke-opacity:1; fill:none\" points=\"1270.52,1288.18 1210.47,1288.18 1330.58,1288.18 1270.52,1288.18 1270.52,1026.41 \"/>\n",
       "<polyline clip-path=\"url(#clip052)\" style=\"stroke:#009af9; stroke-linecap:round; stroke-linejoin:round; stroke-width:0; stroke-opacity:1; fill:none\" points=\"1390.64,1026.41 1390.64,997.347 1150.41,997.347 1150.41,1026.41 1390.64,1026.41 1390.64,997.347 \"/>\n",
       "<polyline clip-path=\"url(#clip052)\" style=\"stroke:#009af9; stroke-linecap:round; stroke-linejoin:round; stroke-width:0; stroke-opacity:1; fill:none\" points=\"1390.64,984.758 1150.41,984.758 1150.41,997.347 1390.64,997.347 1390.64,984.758 1270.52,984.758 \"/>\n",
       "<polyline clip-path=\"url(#clip052)\" style=\"stroke:#009af9; stroke-linecap:round; stroke-linejoin:round; stroke-width:0; stroke-opacity:1; fill:none\" points=\"1270.52,972.564 1210.47,972.564 1330.58,972.564 1270.52,972.564 1270.52,984.758 \"/>\n",
       "<polyline clip-path=\"url(#clip052)\" style=\"stroke:#009af9; stroke-linecap:round; stroke-linejoin:round; stroke-width:0; stroke-opacity:1; fill:none\" points=\"1570.81,1112.83 1510.75,1112.83 1630.87,1112.83 1570.81,1112.83 1570.81,999.783 \"/>\n",
       "<polyline clip-path=\"url(#clip052)\" style=\"stroke:#009af9; stroke-linecap:round; stroke-linejoin:round; stroke-width:0; stroke-opacity:1; fill:none\" points=\"1690.92,999.783 1690.92,932.277 1450.7,932.277 1450.7,999.783 1690.92,999.783 1690.92,932.277 \"/>\n",
       "<polyline clip-path=\"url(#clip052)\" style=\"stroke:#009af9; stroke-linecap:round; stroke-linejoin:round; stroke-width:0; stroke-opacity:1; fill:none\" points=\"1690.92,818.563 1450.7,818.563 1450.7,932.277 1690.92,932.277 1690.92,818.563 1570.81,818.563 \"/>\n",
       "<polyline clip-path=\"url(#clip052)\" style=\"stroke:#009af9; stroke-linecap:round; stroke-linejoin:round; stroke-width:0; stroke-opacity:1; fill:none\" points=\"1570.81,796.256 1510.75,796.256 1630.87,796.256 1570.81,796.256 1570.81,818.563 \"/>\n",
       "<polyline clip-path=\"url(#clip052)\" style=\"stroke:#009af9; stroke-linecap:round; stroke-linejoin:round; stroke-width:0; stroke-opacity:1; fill:none\" points=\"1871.1,1147.19 1811.04,1147.19 1931.15,1147.19 1871.1,1147.19 1871.1,1012.48 \"/>\n",
       "<polyline clip-path=\"url(#clip052)\" style=\"stroke:#009af9; stroke-linecap:round; stroke-linejoin:round; stroke-width:0; stroke-opacity:1; fill:none\" points=\"1991.21,1012.48 1991.21,996.197 1750.98,996.197 1750.98,1012.48 1991.21,1012.48 1991.21,996.197 \"/>\n",
       "<polyline clip-path=\"url(#clip052)\" style=\"stroke:#009af9; stroke-linecap:round; stroke-linejoin:round; stroke-width:0; stroke-opacity:1; fill:none\" points=\"1991.21,978.15 1750.98,978.15 1750.98,996.197 1991.21,996.197 1991.21,978.15 1871.1,978.15 \"/>\n",
       "<polyline clip-path=\"url(#clip052)\" style=\"stroke:#009af9; stroke-linecap:round; stroke-linejoin:round; stroke-width:0; stroke-opacity:1; fill:none\" points=\"1871.1,964.557 1811.04,964.557 1931.15,964.557 1871.1,964.557 1871.1,978.15 \"/>\n",
       "<polyline clip-path=\"url(#clip052)\" style=\"stroke:#009af9; stroke-linecap:round; stroke-linejoin:round; stroke-width:0; stroke-opacity:1; fill:none\" points=\"2171.38,1318.46 2111.33,1318.46 2231.44,1318.46 2171.38,1318.46 2171.38,1114.3 \"/>\n",
       "<polyline clip-path=\"url(#clip052)\" style=\"stroke:#009af9; stroke-linecap:round; stroke-linejoin:round; stroke-width:0; stroke-opacity:1; fill:none\" points=\"2291.5,1114.3 2291.5,1039.68 2051.27,1039.68 2051.27,1114.3 2291.5,1114.3 2291.5,1039.68 \"/>\n",
       "<polyline clip-path=\"url(#clip052)\" style=\"stroke:#009af9; stroke-linecap:round; stroke-linejoin:round; stroke-width:0; stroke-opacity:1; fill:none\" points=\"2291.5,989.631 2051.27,989.631 2051.27,1039.68 2291.5,1039.68 2291.5,989.631 2171.38,989.631 \"/>\n",
       "<polyline clip-path=\"url(#clip052)\" style=\"stroke:#009af9; stroke-linecap:round; stroke-linejoin:round; stroke-width:0; stroke-opacity:1; fill:none\" points=\"2171.38,969.335 2111.33,969.335 2231.44,969.335 2171.38,969.335 2171.38,989.631 \"/>\n",
       "<path clip-path=\"url(#clip052)\" d=\"M369.665 1259.52 L309.608 1259.52 L429.722 1259.52 L369.665 1259.52 L369.665 1069.91 L369.665 1259.52  Z\" fill=\"#e26f46\" fill-rule=\"evenodd\" fill-opacity=\"0.5\"/>\n",
       "<polyline clip-path=\"url(#clip052)\" style=\"stroke:#000000; stroke-linecap:round; stroke-linejoin:round; stroke-width:8; stroke-opacity:1; fill:none\" points=\"369.665,1259.52 309.608,1259.52 429.722,1259.52 369.665,1259.52 369.665,1069.91 369.665,1259.52 \"/>\n",
       "<path clip-path=\"url(#clip052)\" d=\"M489.78 1069.91 L489.78 996.869 L249.551 996.869 L249.551 1069.91 L489.78 1069.91 L489.78 996.869 L489.78 1069.91  Z\" fill=\"#e26f46\" fill-rule=\"evenodd\" fill-opacity=\"0.5\"/>\n",
       "<polyline clip-path=\"url(#clip052)\" style=\"stroke:#000000; stroke-linecap:round; stroke-linejoin:round; stroke-width:8; stroke-opacity:1; fill:none\" points=\"489.78,1069.91 489.78,996.869 249.551,996.869 249.551,1069.91 489.78,1069.91 489.78,996.869 489.78,1069.91 \"/>\n",
       "<path clip-path=\"url(#clip052)\" d=\"M489.78 940.122 L249.551 940.122 L249.551 996.869 L489.78 996.869 L489.78 940.122 L369.665 940.122 L489.78 940.122  Z\" fill=\"#e26f46\" fill-rule=\"evenodd\" fill-opacity=\"0.5\"/>\n",
       "<polyline clip-path=\"url(#clip052)\" style=\"stroke:#000000; stroke-linecap:round; stroke-linejoin:round; stroke-width:8; stroke-opacity:1; fill:none\" points=\"489.78,940.122 249.551,940.122 249.551,996.869 489.78,996.869 489.78,940.122 369.665,940.122 489.78,940.122 \"/>\n",
       "<path clip-path=\"url(#clip052)\" d=\"M369.665 907.769 L309.608 907.769 L429.722 907.769 L369.665 907.769 L369.665 940.122 L369.665 907.769  Z\" fill=\"#e26f46\" fill-rule=\"evenodd\" fill-opacity=\"0.5\"/>\n",
       "<polyline clip-path=\"url(#clip052)\" style=\"stroke:#000000; stroke-linecap:round; stroke-linejoin:round; stroke-width:8; stroke-opacity:1; fill:none\" points=\"369.665,907.769 309.608,907.769 429.722,907.769 369.665,907.769 369.665,940.122 369.665,907.769 \"/>\n",
       "<path clip-path=\"url(#clip052)\" d=\"M669.951 1234.82 L609.894 1234.82 L730.009 1234.82 L669.951 1234.82 L669.951 1200.86 L669.951 1234.82  Z\" fill=\"#e26f46\" fill-rule=\"evenodd\" fill-opacity=\"0.5\"/>\n",
       "<polyline clip-path=\"url(#clip052)\" style=\"stroke:#000000; stroke-linecap:round; stroke-linejoin:round; stroke-width:8; stroke-opacity:1; fill:none\" points=\"669.951,1234.82 609.894,1234.82 730.009,1234.82 669.951,1234.82 669.951,1200.86 669.951,1234.82 \"/>\n",
       "<path clip-path=\"url(#clip052)\" d=\"M790.066 1200.86 L790.066 1186.96 L549.837 1186.96 L549.837 1200.86 L790.066 1200.86 L790.066 1186.96 L790.066 1200.86  Z\" fill=\"#e26f46\" fill-rule=\"evenodd\" fill-opacity=\"0.5\"/>\n",
       "<polyline clip-path=\"url(#clip052)\" style=\"stroke:#000000; stroke-linecap:round; stroke-linejoin:round; stroke-width:8; stroke-opacity:1; fill:none\" points=\"790.066,1200.86 790.066,1186.96 549.837,1186.96 549.837,1200.86 790.066,1200.86 790.066,1186.96 790.066,1200.86 \"/>\n",
       "<path clip-path=\"url(#clip052)\" d=\"M790.066 1186.96 L549.837 1186.96 L549.837 1186.96 L790.066 1186.96 L790.066 1186.96 L669.951 1186.96 L790.066 1186.96  Z\" fill=\"#e26f46\" fill-rule=\"evenodd\" fill-opacity=\"0.5\"/>\n",
       "<polyline clip-path=\"url(#clip052)\" style=\"stroke:#000000; stroke-linecap:round; stroke-linejoin:round; stroke-width:8; stroke-opacity:1; fill:none\" points=\"790.066,1186.96 549.837,1186.96 790.066,1186.96 669.951,1186.96 790.066,1186.96 \"/>\n",
       "<path clip-path=\"url(#clip052)\" d=\"M669.951 1173.15 L609.894 1173.15 L730.009 1173.15 L669.951 1173.15 L669.951 1186.96 L669.951 1173.15  Z\" fill=\"#e26f46\" fill-rule=\"evenodd\" fill-opacity=\"0.5\"/>\n",
       "<polyline clip-path=\"url(#clip052)\" style=\"stroke:#000000; stroke-linecap:round; stroke-linejoin:round; stroke-width:8; stroke-opacity:1; fill:none\" points=\"669.951,1173.15 609.894,1173.15 730.009,1173.15 669.951,1173.15 669.951,1186.96 669.951,1173.15 \"/>\n",
       "<path clip-path=\"url(#clip052)\" d=\"M970.238 1460.2 L910.18 1460.2 L1030.3 1460.2 L970.238 1460.2 L970.238 1338.53 L970.238 1460.2  Z\" fill=\"#e26f46\" fill-rule=\"evenodd\" fill-opacity=\"0.5\"/>\n",
       "<polyline clip-path=\"url(#clip052)\" style=\"stroke:#000000; stroke-linecap:round; stroke-linejoin:round; stroke-width:8; stroke-opacity:1; fill:none\" points=\"970.238,1460.2 910.18,1460.2 1030.3,1460.2 970.238,1460.2 970.238,1338.53 970.238,1460.2 \"/>\n",
       "<path clip-path=\"url(#clip052)\" d=\"M1090.35 1338.53 L1090.35 1263.22 L850.123 1263.22 L850.123 1338.53 L1090.35 1338.53 L1090.35 1263.22 L1090.35 1338.53  Z\" fill=\"#e26f46\" fill-rule=\"evenodd\" fill-opacity=\"0.5\"/>\n",
       "<polyline clip-path=\"url(#clip052)\" style=\"stroke:#000000; stroke-linecap:round; stroke-linejoin:round; stroke-width:8; stroke-opacity:1; fill:none\" points=\"1090.35,1338.53 1090.35,1263.22 850.123,1263.22 850.123,1338.53 1090.35,1338.53 1090.35,1263.22 1090.35,1338.53 \"/>\n",
       "<path clip-path=\"url(#clip052)\" d=\"M1090.35 1200.43 L850.123 1200.43 L850.123 1263.22 L1090.35 1263.22 L1090.35 1200.43 L970.238 1200.43 L1090.35 1200.43  Z\" fill=\"#e26f46\" fill-rule=\"evenodd\" fill-opacity=\"0.5\"/>\n",
       "<polyline clip-path=\"url(#clip052)\" style=\"stroke:#000000; stroke-linecap:round; stroke-linejoin:round; stroke-width:8; stroke-opacity:1; fill:none\" points=\"1090.35,1200.43 850.123,1200.43 850.123,1263.22 1090.35,1263.22 1090.35,1200.43 970.238,1200.43 1090.35,1200.43 \"/>\n",
       "<path clip-path=\"url(#clip052)\" d=\"M970.238 1170.65 L910.18 1170.65 L1030.3 1170.65 L970.238 1170.65 L970.238 1200.43 L970.238 1170.65  Z\" fill=\"#e26f46\" fill-rule=\"evenodd\" fill-opacity=\"0.5\"/>\n",
       "<polyline clip-path=\"url(#clip052)\" style=\"stroke:#000000; stroke-linecap:round; stroke-linejoin:round; stroke-width:8; stroke-opacity:1; fill:none\" points=\"970.238,1170.65 910.18,1170.65 1030.3,1170.65 970.238,1170.65 970.238,1200.43 970.238,1170.65 \"/>\n",
       "<path clip-path=\"url(#clip052)\" d=\"M1270.52 1334.79 L1210.47 1334.79 L1330.58 1334.79 L1270.52 1334.79 L1270.52 1118.15 L1270.52 1334.79  Z\" fill=\"#e26f46\" fill-rule=\"evenodd\" fill-opacity=\"0.5\"/>\n",
       "<polyline clip-path=\"url(#clip052)\" style=\"stroke:#000000; stroke-linecap:round; stroke-linejoin:round; stroke-width:8; stroke-opacity:1; fill:none\" points=\"1270.52,1334.79 1210.47,1334.79 1330.58,1334.79 1270.52,1334.79 1270.52,1118.15 1270.52,1334.79 \"/>\n",
       "<path clip-path=\"url(#clip052)\" d=\"M1390.64 1118.15 L1390.64 997.431 L1150.41 997.431 L1150.41 1118.15 L1390.64 1118.15 L1390.64 997.431 L1390.64 1118.15  Z\" fill=\"#e26f46\" fill-rule=\"evenodd\" fill-opacity=\"0.5\"/>\n",
       "<polyline clip-path=\"url(#clip052)\" style=\"stroke:#000000; stroke-linecap:round; stroke-linejoin:round; stroke-width:8; stroke-opacity:1; fill:none\" points=\"1390.64,1118.15 1390.64,997.431 1150.41,997.431 1150.41,1118.15 1390.64,1118.15 1390.64,997.431 1390.64,1118.15 \"/>\n",
       "<path clip-path=\"url(#clip052)\" d=\"M1390.64 985.159 L1150.41 985.159 L1150.41 997.431 L1390.64 997.431 L1390.64 985.159 L1270.52 985.159 L1390.64 985.159  Z\" fill=\"#e26f46\" fill-rule=\"evenodd\" fill-opacity=\"0.5\"/>\n",
       "<polyline clip-path=\"url(#clip052)\" style=\"stroke:#000000; stroke-linecap:round; stroke-linejoin:round; stroke-width:8; stroke-opacity:1; fill:none\" points=\"1390.64,985.159 1150.41,985.159 1150.41,997.431 1390.64,997.431 1390.64,985.159 1270.52,985.159 1390.64,985.159 \"/>\n",
       "<path clip-path=\"url(#clip052)\" d=\"M1270.52 952.404 L1210.47 952.404 L1330.58 952.404 L1270.52 952.404 L1270.52 985.159 L1270.52 952.404  Z\" fill=\"#e26f46\" fill-rule=\"evenodd\" fill-opacity=\"0.5\"/>\n",
       "<polyline clip-path=\"url(#clip052)\" style=\"stroke:#000000; stroke-linecap:round; stroke-linejoin:round; stroke-width:8; stroke-opacity:1; fill:none\" points=\"1270.52,952.404 1210.47,952.404 1330.58,952.404 1270.52,952.404 1270.52,985.159 1270.52,952.404 \"/>\n",
       "<path clip-path=\"url(#clip052)\" d=\"M1570.81 1440.43 L1510.75 1440.43 L1630.87 1440.43 L1570.81 1440.43 L1570.81 1400.36 L1570.81 1440.43  Z\" fill=\"#e26f46\" fill-rule=\"evenodd\" fill-opacity=\"0.5\"/>\n",
       "<polyline clip-path=\"url(#clip052)\" style=\"stroke:#000000; stroke-linecap:round; stroke-linejoin:round; stroke-width:8; stroke-opacity:1; fill:none\" points=\"1570.81,1440.43 1510.75,1440.43 1630.87,1440.43 1570.81,1440.43 1570.81,1400.36 1570.81,1440.43 \"/>\n",
       "<path clip-path=\"url(#clip052)\" d=\"M1690.92 1400.36 L1690.92 1275.18 L1450.7 1275.18 L1450.7 1400.36 L1690.92 1400.36 L1690.92 1275.18 L1690.92 1400.36  Z\" fill=\"#e26f46\" fill-rule=\"evenodd\" fill-opacity=\"0.5\"/>\n",
       "<polyline clip-path=\"url(#clip052)\" style=\"stroke:#000000; stroke-linecap:round; stroke-linejoin:round; stroke-width:8; stroke-opacity:1; fill:none\" points=\"1690.92,1400.36 1690.92,1275.18 1450.7,1275.18 1450.7,1400.36 1690.92,1400.36 1690.92,1275.18 1690.92,1400.36 \"/>\n",
       "<path clip-path=\"url(#clip052)\" d=\"M1690.92 1232.47 L1450.7 1232.47 L1450.7 1275.18 L1690.92 1275.18 L1690.92 1232.47 L1570.81 1232.47 L1690.92 1232.47  Z\" fill=\"#e26f46\" fill-rule=\"evenodd\" fill-opacity=\"0.5\"/>\n",
       "<polyline clip-path=\"url(#clip052)\" style=\"stroke:#000000; stroke-linecap:round; stroke-linejoin:round; stroke-width:8; stroke-opacity:1; fill:none\" points=\"1690.92,1232.47 1450.7,1232.47 1450.7,1275.18 1690.92,1275.18 1690.92,1232.47 1570.81,1232.47 1690.92,1232.47 \"/>\n",
       "<path clip-path=\"url(#clip052)\" d=\"M1570.81 1215.25 L1510.75 1215.25 L1630.87 1215.25 L1570.81 1215.25 L1570.81 1232.47 L1570.81 1215.25  Z\" fill=\"#e26f46\" fill-rule=\"evenodd\" fill-opacity=\"0.5\"/>\n",
       "<polyline clip-path=\"url(#clip052)\" style=\"stroke:#000000; stroke-linecap:round; stroke-linejoin:round; stroke-width:8; stroke-opacity:1; fill:none\" points=\"1570.81,1215.25 1510.75,1215.25 1630.87,1215.25 1570.81,1215.25 1570.81,1232.47 1570.81,1215.25 \"/>\n",
       "<path clip-path=\"url(#clip052)\" d=\"M1871.1 1147.19 L1811.04 1147.19 L1931.15 1147.19 L1871.1 1147.19 L1871.1 1012.48 L1871.1 1147.19  Z\" fill=\"#e26f46\" fill-rule=\"evenodd\" fill-opacity=\"0.5\"/>\n",
       "<polyline clip-path=\"url(#clip052)\" style=\"stroke:#000000; stroke-linecap:round; stroke-linejoin:round; stroke-width:8; stroke-opacity:1; fill:none\" points=\"1871.1,1147.19 1811.04,1147.19 1931.15,1147.19 1871.1,1147.19 1871.1,1012.48 1871.1,1147.19 \"/>\n",
       "<path clip-path=\"url(#clip052)\" d=\"M1991.21 1012.48 L1991.21 996.197 L1750.98 996.197 L1750.98 1012.48 L1991.21 1012.48 L1991.21 996.197 L1991.21 1012.48  Z\" fill=\"#e26f46\" fill-rule=\"evenodd\" fill-opacity=\"0.5\"/>\n",
       "<polyline clip-path=\"url(#clip052)\" style=\"stroke:#000000; stroke-linecap:round; stroke-linejoin:round; stroke-width:8; stroke-opacity:1; fill:none\" points=\"1991.21,1012.48 1991.21,996.197 1750.98,996.197 1750.98,1012.48 1991.21,1012.48 1991.21,996.197 1991.21,1012.48 \"/>\n",
       "<path clip-path=\"url(#clip052)\" d=\"M1991.21 978.15 L1750.98 978.15 L1750.98 996.197 L1991.21 996.197 L1991.21 978.15 L1871.1 978.15 L1991.21 978.15  Z\" fill=\"#e26f46\" fill-rule=\"evenodd\" fill-opacity=\"0.5\"/>\n",
       "<polyline clip-path=\"url(#clip052)\" style=\"stroke:#000000; stroke-linecap:round; stroke-linejoin:round; stroke-width:8; stroke-opacity:1; fill:none\" points=\"1991.21,978.15 1750.98,978.15 1750.98,996.197 1991.21,996.197 1991.21,978.15 1871.1,978.15 1991.21,978.15 \"/>\n",
       "<path clip-path=\"url(#clip052)\" d=\"M1871.1 964.557 L1811.04 964.557 L1931.15 964.557 L1871.1 964.557 L1871.1 978.15 L1871.1 964.557  Z\" fill=\"#e26f46\" fill-rule=\"evenodd\" fill-opacity=\"0.5\"/>\n",
       "<polyline clip-path=\"url(#clip052)\" style=\"stroke:#000000; stroke-linecap:round; stroke-linejoin:round; stroke-width:8; stroke-opacity:1; fill:none\" points=\"1871.1,964.557 1811.04,964.557 1931.15,964.557 1871.1,964.557 1871.1,978.15 1871.1,964.557 \"/>\n",
       "<path clip-path=\"url(#clip052)\" d=\"M2171.38 1318.46 L2111.33 1318.46 L2231.44 1318.46 L2171.38 1318.46 L2171.38 1114.3 L2171.38 1318.46  Z\" fill=\"#e26f46\" fill-rule=\"evenodd\" fill-opacity=\"0.5\"/>\n",
       "<polyline clip-path=\"url(#clip052)\" style=\"stroke:#000000; stroke-linecap:round; stroke-linejoin:round; stroke-width:8; stroke-opacity:1; fill:none\" points=\"2171.38,1318.46 2111.33,1318.46 2231.44,1318.46 2171.38,1318.46 2171.38,1114.3 2171.38,1318.46 \"/>\n",
       "<path clip-path=\"url(#clip052)\" d=\"M2291.5 1114.3 L2291.5 1039.68 L2051.27 1039.68 L2051.27 1114.3 L2291.5 1114.3 L2291.5 1039.68 L2291.5 1114.3  Z\" fill=\"#e26f46\" fill-rule=\"evenodd\" fill-opacity=\"0.5\"/>\n",
       "<polyline clip-path=\"url(#clip052)\" style=\"stroke:#000000; stroke-linecap:round; stroke-linejoin:round; stroke-width:8; stroke-opacity:1; fill:none\" points=\"2291.5,1114.3 2291.5,1039.68 2051.27,1039.68 2051.27,1114.3 2291.5,1114.3 2291.5,1039.68 2291.5,1114.3 \"/>\n",
       "<path clip-path=\"url(#clip052)\" d=\"M2291.5 989.631 L2051.27 989.631 L2051.27 1039.68 L2291.5 1039.68 L2291.5 989.631 L2171.38 989.631 L2291.5 989.631  Z\" fill=\"#e26f46\" fill-rule=\"evenodd\" fill-opacity=\"0.5\"/>\n",
       "<polyline clip-path=\"url(#clip052)\" style=\"stroke:#000000; stroke-linecap:round; stroke-linejoin:round; stroke-width:8; stroke-opacity:1; fill:none\" points=\"2291.5,989.631 2051.27,989.631 2051.27,1039.68 2291.5,1039.68 2291.5,989.631 2171.38,989.631 2291.5,989.631 \"/>\n",
       "<path clip-path=\"url(#clip052)\" d=\"M2171.38 969.335 L2111.33 969.335 L2231.44 969.335 L2171.38 969.335 L2171.38 989.631 L2171.38 969.335  Z\" fill=\"#e26f46\" fill-rule=\"evenodd\" fill-opacity=\"0.5\"/>\n",
       "<polyline clip-path=\"url(#clip052)\" style=\"stroke:#000000; stroke-linecap:round; stroke-linejoin:round; stroke-width:8; stroke-opacity:1; fill:none\" points=\"2171.38,969.335 2111.33,969.335 2231.44,969.335 2171.38,969.335 2171.38,989.631 2171.38,969.335 \"/>\n",
       "<circle clip-path=\"url(#clip052)\" cx=\"369.665\" cy=\"810.917\" r=\"14.4\" fill=\"#e26f46\" fill-rule=\"evenodd\" fill-opacity=\"1\" stroke=\"#000000\" stroke-opacity=\"1\" stroke-width=\"3.2\"/>\n",
       "<circle clip-path=\"url(#clip052)\" cx=\"369.665\" cy=\"861.902\" r=\"14.4\" fill=\"#e26f46\" fill-rule=\"evenodd\" fill-opacity=\"1\" stroke=\"#000000\" stroke-opacity=\"1\" stroke-width=\"3.2\"/>\n",
       "<circle clip-path=\"url(#clip052)\" cx=\"369.665\" cy=\"861.902\" r=\"14.4\" fill=\"#e26f46\" fill-rule=\"evenodd\" fill-opacity=\"1\" stroke=\"#000000\" stroke-opacity=\"1\" stroke-width=\"3.2\"/>\n",
       "<circle clip-path=\"url(#clip052)\" cx=\"369.665\" cy=\"861.902\" r=\"14.4\" fill=\"#e26f46\" fill-rule=\"evenodd\" fill-opacity=\"1\" stroke=\"#000000\" stroke-opacity=\"1\" stroke-width=\"3.2\"/>\n",
       "<circle clip-path=\"url(#clip052)\" cx=\"369.665\" cy=\"861.902\" r=\"14.4\" fill=\"#e26f46\" fill-rule=\"evenodd\" fill-opacity=\"1\" stroke=\"#000000\" stroke-opacity=\"1\" stroke-width=\"3.2\"/>\n",
       "<circle clip-path=\"url(#clip052)\" cx=\"369.665\" cy=\"877.874\" r=\"14.4\" fill=\"#e26f46\" fill-rule=\"evenodd\" fill-opacity=\"1\" stroke=\"#000000\" stroke-opacity=\"1\" stroke-width=\"3.2\"/>\n",
       "<circle clip-path=\"url(#clip052)\" cx=\"369.665\" cy=\"877.874\" r=\"14.4\" fill=\"#e26f46\" fill-rule=\"evenodd\" fill-opacity=\"1\" stroke=\"#000000\" stroke-opacity=\"1\" stroke-width=\"3.2\"/>\n",
       "<circle clip-path=\"url(#clip052)\" cx=\"369.665\" cy=\"877.874\" r=\"14.4\" fill=\"#e26f46\" fill-rule=\"evenodd\" fill-opacity=\"1\" stroke=\"#000000\" stroke-opacity=\"1\" stroke-width=\"3.2\"/>\n",
       "<circle clip-path=\"url(#clip052)\" cx=\"369.665\" cy=\"877.874\" r=\"14.4\" fill=\"#e26f46\" fill-rule=\"evenodd\" fill-opacity=\"1\" stroke=\"#000000\" stroke-opacity=\"1\" stroke-width=\"3.2\"/>\n",
       "<circle clip-path=\"url(#clip052)\" cx=\"369.665\" cy=\"893.001\" r=\"14.4\" fill=\"#e26f46\" fill-rule=\"evenodd\" fill-opacity=\"1\" stroke=\"#000000\" stroke-opacity=\"1\" stroke-width=\"3.2\"/>\n",
       "<circle clip-path=\"url(#clip052)\" cx=\"369.665\" cy=\"873.49\" r=\"14.4\" fill=\"#e26f46\" fill-rule=\"evenodd\" fill-opacity=\"1\" stroke=\"#000000\" stroke-opacity=\"1\" stroke-width=\"3.2\"/>\n",
       "<circle clip-path=\"url(#clip052)\" cx=\"369.665\" cy=\"752.799\" r=\"14.4\" fill=\"#e26f46\" fill-rule=\"evenodd\" fill-opacity=\"1\" stroke=\"#000000\" stroke-opacity=\"1\" stroke-width=\"3.2\"/>\n",
       "<circle clip-path=\"url(#clip052)\" cx=\"369.665\" cy=\"886.043\" r=\"14.4\" fill=\"#e26f46\" fill-rule=\"evenodd\" fill-opacity=\"1\" stroke=\"#000000\" stroke-opacity=\"1\" stroke-width=\"3.2\"/>\n",
       "<circle clip-path=\"url(#clip052)\" cx=\"369.665\" cy=\"853.009\" r=\"14.4\" fill=\"#e26f46\" fill-rule=\"evenodd\" fill-opacity=\"1\" stroke=\"#000000\" stroke-opacity=\"1\" stroke-width=\"3.2\"/>\n",
       "<circle clip-path=\"url(#clip052)\" cx=\"369.665\" cy=\"817.53\" r=\"14.4\" fill=\"#e26f46\" fill-rule=\"evenodd\" fill-opacity=\"1\" stroke=\"#000000\" stroke-opacity=\"1\" stroke-width=\"3.2\"/>\n",
       "<circle clip-path=\"url(#clip052)\" cx=\"369.665\" cy=\"870.299\" r=\"14.4\" fill=\"#e26f46\" fill-rule=\"evenodd\" fill-opacity=\"1\" stroke=\"#000000\" stroke-opacity=\"1\" stroke-width=\"3.2\"/>\n",
       "<circle clip-path=\"url(#clip052)\" cx=\"369.665\" cy=\"871.983\" r=\"14.4\" fill=\"#e26f46\" fill-rule=\"evenodd\" fill-opacity=\"1\" stroke=\"#000000\" stroke-opacity=\"1\" stroke-width=\"3.2\"/>\n",
       "<circle clip-path=\"url(#clip052)\" cx=\"369.665\" cy=\"893.007\" r=\"14.4\" fill=\"#e26f46\" fill-rule=\"evenodd\" fill-opacity=\"1\" stroke=\"#000000\" stroke-opacity=\"1\" stroke-width=\"3.2\"/>\n",
       "<circle clip-path=\"url(#clip052)\" cx=\"369.665\" cy=\"875.986\" r=\"14.4\" fill=\"#e26f46\" fill-rule=\"evenodd\" fill-opacity=\"1\" stroke=\"#000000\" stroke-opacity=\"1\" stroke-width=\"3.2\"/>\n",
       "<circle clip-path=\"url(#clip052)\" cx=\"369.665\" cy=\"865.684\" r=\"14.4\" fill=\"#e26f46\" fill-rule=\"evenodd\" fill-opacity=\"1\" stroke=\"#000000\" stroke-opacity=\"1\" stroke-width=\"3.2\"/>\n",
       "<circle clip-path=\"url(#clip052)\" cx=\"369.665\" cy=\"855.818\" r=\"14.4\" fill=\"#e26f46\" fill-rule=\"evenodd\" fill-opacity=\"1\" stroke=\"#000000\" stroke-opacity=\"1\" stroke-width=\"3.2\"/>\n",
       "<circle clip-path=\"url(#clip052)\" cx=\"369.665\" cy=\"865.847\" r=\"14.4\" fill=\"#e26f46\" fill-rule=\"evenodd\" fill-opacity=\"1\" stroke=\"#000000\" stroke-opacity=\"1\" stroke-width=\"3.2\"/>\n",
       "<circle clip-path=\"url(#clip052)\" cx=\"669.951\" cy=\"1120.83\" r=\"14.4\" fill=\"#e26f46\" fill-rule=\"evenodd\" fill-opacity=\"1\" stroke=\"#000000\" stroke-opacity=\"1\" stroke-width=\"3.2\"/>\n",
       "<circle clip-path=\"url(#clip052)\" cx=\"669.951\" cy=\"1026.84\" r=\"14.4\" fill=\"#e26f46\" fill-rule=\"evenodd\" fill-opacity=\"1\" stroke=\"#000000\" stroke-opacity=\"1\" stroke-width=\"3.2\"/>\n",
       "<circle clip-path=\"url(#clip052)\" cx=\"669.951\" cy=\"1026.84\" r=\"14.4\" fill=\"#e26f46\" fill-rule=\"evenodd\" fill-opacity=\"1\" stroke=\"#000000\" stroke-opacity=\"1\" stroke-width=\"3.2\"/>\n",
       "<circle clip-path=\"url(#clip052)\" cx=\"669.951\" cy=\"1120.83\" r=\"14.4\" fill=\"#e26f46\" fill-rule=\"evenodd\" fill-opacity=\"1\" stroke=\"#000000\" stroke-opacity=\"1\" stroke-width=\"3.2\"/>\n",
       "<circle clip-path=\"url(#clip052)\" cx=\"669.951\" cy=\"1026.84\" r=\"14.4\" fill=\"#e26f46\" fill-rule=\"evenodd\" fill-opacity=\"1\" stroke=\"#000000\" stroke-opacity=\"1\" stroke-width=\"3.2\"/>\n",
       "<circle clip-path=\"url(#clip052)\" cx=\"669.951\" cy=\"1026.84\" r=\"14.4\" fill=\"#e26f46\" fill-rule=\"evenodd\" fill-opacity=\"1\" stroke=\"#000000\" stroke-opacity=\"1\" stroke-width=\"3.2\"/>\n",
       "<circle clip-path=\"url(#clip052)\" cx=\"669.951\" cy=\"1026.84\" r=\"14.4\" fill=\"#e26f46\" fill-rule=\"evenodd\" fill-opacity=\"1\" stroke=\"#000000\" stroke-opacity=\"1\" stroke-width=\"3.2\"/>\n",
       "<circle clip-path=\"url(#clip052)\" cx=\"669.951\" cy=\"1120.83\" r=\"14.4\" fill=\"#e26f46\" fill-rule=\"evenodd\" fill-opacity=\"1\" stroke=\"#000000\" stroke-opacity=\"1\" stroke-width=\"3.2\"/>\n",
       "<circle clip-path=\"url(#clip052)\" cx=\"669.951\" cy=\"1110.25\" r=\"14.4\" fill=\"#e26f46\" fill-rule=\"evenodd\" fill-opacity=\"1\" stroke=\"#000000\" stroke-opacity=\"1\" stroke-width=\"3.2\"/>\n",
       "<circle clip-path=\"url(#clip052)\" cx=\"669.951\" cy=\"1110.25\" r=\"14.4\" fill=\"#e26f46\" fill-rule=\"evenodd\" fill-opacity=\"1\" stroke=\"#000000\" stroke-opacity=\"1\" stroke-width=\"3.2\"/>\n",
       "<circle clip-path=\"url(#clip052)\" cx=\"669.951\" cy=\"1115.92\" r=\"14.4\" fill=\"#e26f46\" fill-rule=\"evenodd\" fill-opacity=\"1\" stroke=\"#000000\" stroke-opacity=\"1\" stroke-width=\"3.2\"/>\n",
       "<circle clip-path=\"url(#clip052)\" cx=\"669.951\" cy=\"1088.64\" r=\"14.4\" fill=\"#e26f46\" fill-rule=\"evenodd\" fill-opacity=\"1\" stroke=\"#000000\" stroke-opacity=\"1\" stroke-width=\"3.2\"/>\n",
       "<circle clip-path=\"url(#clip052)\" cx=\"970.238\" cy=\"1054.95\" r=\"14.4\" fill=\"#e26f46\" fill-rule=\"evenodd\" fill-opacity=\"1\" stroke=\"#000000\" stroke-opacity=\"1\" stroke-width=\"3.2\"/>\n",
       "<circle clip-path=\"url(#clip052)\" cx=\"970.238\" cy=\"1054.95\" r=\"14.4\" fill=\"#e26f46\" fill-rule=\"evenodd\" fill-opacity=\"1\" stroke=\"#000000\" stroke-opacity=\"1\" stroke-width=\"3.2\"/>\n",
       "<circle clip-path=\"url(#clip052)\" cx=\"970.238\" cy=\"1009.24\" r=\"14.4\" fill=\"#e26f46\" fill-rule=\"evenodd\" fill-opacity=\"1\" stroke=\"#000000\" stroke-opacity=\"1\" stroke-width=\"3.2\"/>\n",
       "<circle clip-path=\"url(#clip052)\" cx=\"970.238\" cy=\"1139.61\" r=\"14.4\" fill=\"#e26f46\" fill-rule=\"evenodd\" fill-opacity=\"1\" stroke=\"#000000\" stroke-opacity=\"1\" stroke-width=\"3.2\"/>\n",
       "<circle clip-path=\"url(#clip052)\" cx=\"970.238\" cy=\"1139.61\" r=\"14.4\" fill=\"#e26f46\" fill-rule=\"evenodd\" fill-opacity=\"1\" stroke=\"#000000\" stroke-opacity=\"1\" stroke-width=\"3.2\"/>\n",
       "<circle clip-path=\"url(#clip052)\" cx=\"970.238\" cy=\"1132.53\" r=\"14.4\" fill=\"#e26f46\" fill-rule=\"evenodd\" fill-opacity=\"1\" stroke=\"#000000\" stroke-opacity=\"1\" stroke-width=\"3.2\"/>\n",
       "<circle clip-path=\"url(#clip052)\" cx=\"970.238\" cy=\"1161.22\" r=\"14.4\" fill=\"#e26f46\" fill-rule=\"evenodd\" fill-opacity=\"1\" stroke=\"#000000\" stroke-opacity=\"1\" stroke-width=\"3.2\"/>\n",
       "<circle clip-path=\"url(#clip052)\" cx=\"970.238\" cy=\"1158.85\" r=\"14.4\" fill=\"#e26f46\" fill-rule=\"evenodd\" fill-opacity=\"1\" stroke=\"#000000\" stroke-opacity=\"1\" stroke-width=\"3.2\"/>\n",
       "<circle clip-path=\"url(#clip052)\" cx=\"970.238\" cy=\"1156.89\" r=\"14.4\" fill=\"#e26f46\" fill-rule=\"evenodd\" fill-opacity=\"1\" stroke=\"#000000\" stroke-opacity=\"1\" stroke-width=\"3.2\"/>\n",
       "<circle clip-path=\"url(#clip052)\" cx=\"970.238\" cy=\"1080.43\" r=\"14.4\" fill=\"#e26f46\" fill-rule=\"evenodd\" fill-opacity=\"1\" stroke=\"#000000\" stroke-opacity=\"1\" stroke-width=\"3.2\"/>\n",
       "<circle clip-path=\"url(#clip052)\" cx=\"970.238\" cy=\"1111.25\" r=\"14.4\" fill=\"#e26f46\" fill-rule=\"evenodd\" fill-opacity=\"1\" stroke=\"#000000\" stroke-opacity=\"1\" stroke-width=\"3.2\"/>\n",
       "<circle clip-path=\"url(#clip052)\" cx=\"970.238\" cy=\"1164.21\" r=\"14.4\" fill=\"#e26f46\" fill-rule=\"evenodd\" fill-opacity=\"1\" stroke=\"#000000\" stroke-opacity=\"1\" stroke-width=\"3.2\"/>\n",
       "<circle clip-path=\"url(#clip052)\" cx=\"970.238\" cy=\"1138.63\" r=\"14.4\" fill=\"#e26f46\" fill-rule=\"evenodd\" fill-opacity=\"1\" stroke=\"#000000\" stroke-opacity=\"1\" stroke-width=\"3.2\"/>\n",
       "<circle clip-path=\"url(#clip052)\" cx=\"1570.81\" cy=\"1183.09\" r=\"14.4\" fill=\"#e26f46\" fill-rule=\"evenodd\" fill-opacity=\"1\" stroke=\"#000000\" stroke-opacity=\"1\" stroke-width=\"3.2\"/>\n",
       "<circle clip-path=\"url(#clip052)\" cx=\"1570.81\" cy=\"1183.09\" r=\"14.4\" fill=\"#e26f46\" fill-rule=\"evenodd\" fill-opacity=\"1\" stroke=\"#000000\" stroke-opacity=\"1\" stroke-width=\"3.2\"/>\n",
       "<circle clip-path=\"url(#clip052)\" cx=\"1570.81\" cy=\"1183.09\" r=\"14.4\" fill=\"#e26f46\" fill-rule=\"evenodd\" fill-opacity=\"1\" stroke=\"#000000\" stroke-opacity=\"1\" stroke-width=\"3.2\"/>\n",
       "<circle clip-path=\"url(#clip052)\" cx=\"1570.81\" cy=\"1183.09\" r=\"14.4\" fill=\"#e26f46\" fill-rule=\"evenodd\" fill-opacity=\"1\" stroke=\"#000000\" stroke-opacity=\"1\" stroke-width=\"3.2\"/>\n",
       "<circle clip-path=\"url(#clip052)\" cx=\"1570.81\" cy=\"1183.09\" r=\"14.4\" fill=\"#e26f46\" fill-rule=\"evenodd\" fill-opacity=\"1\" stroke=\"#000000\" stroke-opacity=\"1\" stroke-width=\"3.2\"/>\n",
       "<circle clip-path=\"url(#clip052)\" cx=\"1570.81\" cy=\"1183.09\" r=\"14.4\" fill=\"#e26f46\" fill-rule=\"evenodd\" fill-opacity=\"1\" stroke=\"#000000\" stroke-opacity=\"1\" stroke-width=\"3.2\"/>\n",
       "<circle clip-path=\"url(#clip052)\" cx=\"1570.81\" cy=\"1183.09\" r=\"14.4\" fill=\"#e26f46\" fill-rule=\"evenodd\" fill-opacity=\"1\" stroke=\"#000000\" stroke-opacity=\"1\" stroke-width=\"3.2\"/>\n",
       "<circle clip-path=\"url(#clip052)\" cx=\"1570.81\" cy=\"1171.22\" r=\"14.4\" fill=\"#e26f46\" fill-rule=\"evenodd\" fill-opacity=\"1\" stroke=\"#000000\" stroke-opacity=\"1\" stroke-width=\"3.2\"/>\n",
       "<circle clip-path=\"url(#clip052)\" cx=\"1570.81\" cy=\"1173.15\" r=\"14.4\" fill=\"#e26f46\" fill-rule=\"evenodd\" fill-opacity=\"1\" stroke=\"#000000\" stroke-opacity=\"1\" stroke-width=\"3.2\"/>\n",
       "<circle clip-path=\"url(#clip052)\" cx=\"1570.81\" cy=\"1173.15\" r=\"14.4\" fill=\"#e26f46\" fill-rule=\"evenodd\" fill-opacity=\"1\" stroke=\"#000000\" stroke-opacity=\"1\" stroke-width=\"3.2\"/>\n",
       "<circle clip-path=\"url(#clip052)\" cx=\"1570.81\" cy=\"1173.15\" r=\"14.4\" fill=\"#e26f46\" fill-rule=\"evenodd\" fill-opacity=\"1\" stroke=\"#000000\" stroke-opacity=\"1\" stroke-width=\"3.2\"/>\n",
       "<circle clip-path=\"url(#clip052)\" cx=\"1570.81\" cy=\"1173.15\" r=\"14.4\" fill=\"#e26f46\" fill-rule=\"evenodd\" fill-opacity=\"1\" stroke=\"#000000\" stroke-opacity=\"1\" stroke-width=\"3.2\"/>\n",
       "<circle clip-path=\"url(#clip052)\" cx=\"1570.81\" cy=\"1173.15\" r=\"14.4\" fill=\"#e26f46\" fill-rule=\"evenodd\" fill-opacity=\"1\" stroke=\"#000000\" stroke-opacity=\"1\" stroke-width=\"3.2\"/>\n",
       "<circle clip-path=\"url(#clip052)\" cx=\"1570.81\" cy=\"1173.15\" r=\"14.4\" fill=\"#e26f46\" fill-rule=\"evenodd\" fill-opacity=\"1\" stroke=\"#000000\" stroke-opacity=\"1\" stroke-width=\"3.2\"/>\n",
       "<circle clip-path=\"url(#clip052)\" cx=\"1570.81\" cy=\"1173.15\" r=\"14.4\" fill=\"#e26f46\" fill-rule=\"evenodd\" fill-opacity=\"1\" stroke=\"#000000\" stroke-opacity=\"1\" stroke-width=\"3.2\"/>\n",
       "<circle clip-path=\"url(#clip052)\" cx=\"1570.81\" cy=\"1173.15\" r=\"14.4\" fill=\"#e26f46\" fill-rule=\"evenodd\" fill-opacity=\"1\" stroke=\"#000000\" stroke-opacity=\"1\" stroke-width=\"3.2\"/>\n",
       "<circle clip-path=\"url(#clip052)\" cx=\"1570.81\" cy=\"1173.15\" r=\"14.4\" fill=\"#e26f46\" fill-rule=\"evenodd\" fill-opacity=\"1\" stroke=\"#000000\" stroke-opacity=\"1\" stroke-width=\"3.2\"/>\n",
       "<circle clip-path=\"url(#clip052)\" cx=\"1570.81\" cy=\"1186.7\" r=\"14.4\" fill=\"#e26f46\" fill-rule=\"evenodd\" fill-opacity=\"1\" stroke=\"#000000\" stroke-opacity=\"1\" stroke-width=\"3.2\"/>\n",
       "<circle clip-path=\"url(#clip052)\" cx=\"1570.81\" cy=\"1186.7\" r=\"14.4\" fill=\"#e26f46\" fill-rule=\"evenodd\" fill-opacity=\"1\" stroke=\"#000000\" stroke-opacity=\"1\" stroke-width=\"3.2\"/>\n",
       "<circle clip-path=\"url(#clip052)\" cx=\"1871.1\" cy=\"930.629\" r=\"14.4\" fill=\"#e26f46\" fill-rule=\"evenodd\" fill-opacity=\"1\" stroke=\"#000000\" stroke-opacity=\"1\" stroke-width=\"3.2\"/>\n",
       "<circle clip-path=\"url(#clip052)\" cx=\"1871.1\" cy=\"855.852\" r=\"14.4\" fill=\"#e26f46\" fill-rule=\"evenodd\" fill-opacity=\"1\" stroke=\"#000000\" stroke-opacity=\"1\" stroke-width=\"3.2\"/>\n",
       "<circle clip-path=\"url(#clip052)\" cx=\"1871.1\" cy=\"835.292\" r=\"14.4\" fill=\"#e26f46\" fill-rule=\"evenodd\" fill-opacity=\"1\" stroke=\"#000000\" stroke-opacity=\"1\" stroke-width=\"3.2\"/>\n",
       "<circle clip-path=\"url(#clip052)\" cx=\"1871.1\" cy=\"851.856\" r=\"14.4\" fill=\"#e26f46\" fill-rule=\"evenodd\" fill-opacity=\"1\" stroke=\"#000000\" stroke-opacity=\"1\" stroke-width=\"3.2\"/>\n",
       "<circle clip-path=\"url(#clip052)\" cx=\"1871.1\" cy=\"851.856\" r=\"14.4\" fill=\"#e26f46\" fill-rule=\"evenodd\" fill-opacity=\"1\" stroke=\"#000000\" stroke-opacity=\"1\" stroke-width=\"3.2\"/>\n",
       "<circle clip-path=\"url(#clip052)\" cx=\"1871.1\" cy=\"851.856\" r=\"14.4\" fill=\"#e26f46\" fill-rule=\"evenodd\" fill-opacity=\"1\" stroke=\"#000000\" stroke-opacity=\"1\" stroke-width=\"3.2\"/>\n",
       "<circle clip-path=\"url(#clip052)\" cx=\"1871.1\" cy=\"851.856\" r=\"14.4\" fill=\"#e26f46\" fill-rule=\"evenodd\" fill-opacity=\"1\" stroke=\"#000000\" stroke-opacity=\"1\" stroke-width=\"3.2\"/>\n",
       "<circle clip-path=\"url(#clip052)\" cx=\"1871.1\" cy=\"851.856\" r=\"14.4\" fill=\"#e26f46\" fill-rule=\"evenodd\" fill-opacity=\"1\" stroke=\"#000000\" stroke-opacity=\"1\" stroke-width=\"3.2\"/>\n",
       "<circle clip-path=\"url(#clip052)\" cx=\"1871.1\" cy=\"851.856\" r=\"14.4\" fill=\"#e26f46\" fill-rule=\"evenodd\" fill-opacity=\"1\" stroke=\"#000000\" stroke-opacity=\"1\" stroke-width=\"3.2\"/>\n",
       "<circle clip-path=\"url(#clip052)\" cx=\"1871.1\" cy=\"851.856\" r=\"14.4\" fill=\"#e26f46\" fill-rule=\"evenodd\" fill-opacity=\"1\" stroke=\"#000000\" stroke-opacity=\"1\" stroke-width=\"3.2\"/>\n",
       "<circle clip-path=\"url(#clip052)\" cx=\"1871.1\" cy=\"851.856\" r=\"14.4\" fill=\"#e26f46\" fill-rule=\"evenodd\" fill-opacity=\"1\" stroke=\"#000000\" stroke-opacity=\"1\" stroke-width=\"3.2\"/>\n",
       "<circle clip-path=\"url(#clip052)\" cx=\"1871.1\" cy=\"851.856\" r=\"14.4\" fill=\"#e26f46\" fill-rule=\"evenodd\" fill-opacity=\"1\" stroke=\"#000000\" stroke-opacity=\"1\" stroke-width=\"3.2\"/>\n",
       "<circle clip-path=\"url(#clip052)\" cx=\"1871.1\" cy=\"851.856\" r=\"14.4\" fill=\"#e26f46\" fill-rule=\"evenodd\" fill-opacity=\"1\" stroke=\"#000000\" stroke-opacity=\"1\" stroke-width=\"3.2\"/>\n",
       "<circle clip-path=\"url(#clip052)\" cx=\"1871.1\" cy=\"940.724\" r=\"14.4\" fill=\"#e26f46\" fill-rule=\"evenodd\" fill-opacity=\"1\" stroke=\"#000000\" stroke-opacity=\"1\" stroke-width=\"3.2\"/>\n",
       "<circle clip-path=\"url(#clip052)\" cx=\"1871.1\" cy=\"940.724\" r=\"14.4\" fill=\"#e26f46\" fill-rule=\"evenodd\" fill-opacity=\"1\" stroke=\"#000000\" stroke-opacity=\"1\" stroke-width=\"3.2\"/>\n",
       "<circle clip-path=\"url(#clip052)\" cx=\"1871.1\" cy=\"940.724\" r=\"14.4\" fill=\"#e26f46\" fill-rule=\"evenodd\" fill-opacity=\"1\" stroke=\"#000000\" stroke-opacity=\"1\" stroke-width=\"3.2\"/>\n",
       "<circle clip-path=\"url(#clip052)\" cx=\"2171.38\" cy=\"810.917\" r=\"14.4\" fill=\"#e26f46\" fill-rule=\"evenodd\" fill-opacity=\"1\" stroke=\"#000000\" stroke-opacity=\"1\" stroke-width=\"3.2\"/>\n",
       "<circle clip-path=\"url(#clip052)\" cx=\"2171.38\" cy=\"940.122\" r=\"14.4\" fill=\"#e26f46\" fill-rule=\"evenodd\" fill-opacity=\"1\" stroke=\"#000000\" stroke-opacity=\"1\" stroke-width=\"3.2\"/>\n",
       "<circle clip-path=\"url(#clip052)\" cx=\"2171.38\" cy=\"940.122\" r=\"14.4\" fill=\"#e26f46\" fill-rule=\"evenodd\" fill-opacity=\"1\" stroke=\"#000000\" stroke-opacity=\"1\" stroke-width=\"3.2\"/>\n",
       "<circle clip-path=\"url(#clip052)\" cx=\"2171.38\" cy=\"877.874\" r=\"14.4\" fill=\"#e26f46\" fill-rule=\"evenodd\" fill-opacity=\"1\" stroke=\"#000000\" stroke-opacity=\"1\" stroke-width=\"3.2\"/>\n",
       "<circle clip-path=\"url(#clip052)\" cx=\"2171.38\" cy=\"940.122\" r=\"14.4\" fill=\"#e26f46\" fill-rule=\"evenodd\" fill-opacity=\"1\" stroke=\"#000000\" stroke-opacity=\"1\" stroke-width=\"3.2\"/>\n",
       "<circle clip-path=\"url(#clip052)\" cx=\"2171.38\" cy=\"940.122\" r=\"14.4\" fill=\"#e26f46\" fill-rule=\"evenodd\" fill-opacity=\"1\" stroke=\"#000000\" stroke-opacity=\"1\" stroke-width=\"3.2\"/>\n",
       "<circle clip-path=\"url(#clip052)\" cx=\"2171.38\" cy=\"945.622\" r=\"14.4\" fill=\"#e26f46\" fill-rule=\"evenodd\" fill-opacity=\"1\" stroke=\"#000000\" stroke-opacity=\"1\" stroke-width=\"3.2\"/>\n",
       "<circle clip-path=\"url(#clip052)\" cx=\"2171.38\" cy=\"952.743\" r=\"14.4\" fill=\"#e26f46\" fill-rule=\"evenodd\" fill-opacity=\"1\" stroke=\"#000000\" stroke-opacity=\"1\" stroke-width=\"3.2\"/>\n",
       "<circle clip-path=\"url(#clip052)\" cx=\"2171.38\" cy=\"845.314\" r=\"14.4\" fill=\"#e26f46\" fill-rule=\"evenodd\" fill-opacity=\"1\" stroke=\"#000000\" stroke-opacity=\"1\" stroke-width=\"3.2\"/>\n",
       "<circle clip-path=\"url(#clip052)\" cx=\"2171.38\" cy=\"948.132\" r=\"14.4\" fill=\"#e26f46\" fill-rule=\"evenodd\" fill-opacity=\"1\" stroke=\"#000000\" stroke-opacity=\"1\" stroke-width=\"3.2\"/>\n",
       "<circle clip-path=\"url(#clip052)\" cx=\"2171.38\" cy=\"952.79\" r=\"14.4\" fill=\"#e26f46\" fill-rule=\"evenodd\" fill-opacity=\"1\" stroke=\"#000000\" stroke-opacity=\"1\" stroke-width=\"3.2\"/>\n",
       "<circle clip-path=\"url(#clip052)\" cx=\"2171.38\" cy=\"950.055\" r=\"14.4\" fill=\"#e26f46\" fill-rule=\"evenodd\" fill-opacity=\"1\" stroke=\"#000000\" stroke-opacity=\"1\" stroke-width=\"3.2\"/>\n",
       "<circle clip-path=\"url(#clip052)\" cx=\"2171.38\" cy=\"931.315\" r=\"14.4\" fill=\"#e26f46\" fill-rule=\"evenodd\" fill-opacity=\"1\" stroke=\"#000000\" stroke-opacity=\"1\" stroke-width=\"3.2\"/>\n",
       "<circle clip-path=\"url(#clip052)\" cx=\"2171.38\" cy=\"871.183\" r=\"14.4\" fill=\"#e26f46\" fill-rule=\"evenodd\" fill-opacity=\"1\" stroke=\"#000000\" stroke-opacity=\"1\" stroke-width=\"3.2\"/>\n",
       "<circle clip-path=\"url(#clip052)\" cx=\"2171.38\" cy=\"929.784\" r=\"14.4\" fill=\"#e26f46\" fill-rule=\"evenodd\" fill-opacity=\"1\" stroke=\"#000000\" stroke-opacity=\"1\" stroke-width=\"3.2\"/>\n",
       "<circle clip-path=\"url(#clip052)\" cx=\"2171.38\" cy=\"903.66\" r=\"14.4\" fill=\"#e26f46\" fill-rule=\"evenodd\" fill-opacity=\"1\" stroke=\"#000000\" stroke-opacity=\"1\" stroke-width=\"3.2\"/>\n",
       "<circle clip-path=\"url(#clip052)\" cx=\"2171.38\" cy=\"910.122\" r=\"14.4\" fill=\"#e26f46\" fill-rule=\"evenodd\" fill-opacity=\"1\" stroke=\"#000000\" stroke-opacity=\"1\" stroke-width=\"3.2\"/>\n",
       "<circle clip-path=\"url(#clip052)\" cx=\"2171.38\" cy=\"937.597\" r=\"14.4\" fill=\"#e26f46\" fill-rule=\"evenodd\" fill-opacity=\"1\" stroke=\"#000000\" stroke-opacity=\"1\" stroke-width=\"3.2\"/>\n",
       "<polyline clip-path=\"url(#clip052)\" style=\"stroke:#e26f46; stroke-linecap:round; stroke-linejoin:round; stroke-width:0; stroke-opacity:1; fill:none\" points=\"369.665,1259.52 309.608,1259.52 429.722,1259.52 369.665,1259.52 369.665,1069.91 \"/>\n",
       "<polyline clip-path=\"url(#clip052)\" style=\"stroke:#e26f46; stroke-linecap:round; stroke-linejoin:round; stroke-width:0; stroke-opacity:1; fill:none\" points=\"489.78,1069.91 489.78,996.869 249.551,996.869 249.551,1069.91 489.78,1069.91 489.78,996.869 \"/>\n",
       "<polyline clip-path=\"url(#clip052)\" style=\"stroke:#e26f46; stroke-linecap:round; stroke-linejoin:round; stroke-width:0; stroke-opacity:1; fill:none\" points=\"489.78,940.122 249.551,940.122 249.551,996.869 489.78,996.869 489.78,940.122 369.665,940.122 \"/>\n",
       "<polyline clip-path=\"url(#clip052)\" style=\"stroke:#e26f46; stroke-linecap:round; stroke-linejoin:round; stroke-width:0; stroke-opacity:1; fill:none\" points=\"369.665,907.769 309.608,907.769 429.722,907.769 369.665,907.769 369.665,940.122 \"/>\n",
       "<polyline clip-path=\"url(#clip052)\" style=\"stroke:#e26f46; stroke-linecap:round; stroke-linejoin:round; stroke-width:0; stroke-opacity:1; fill:none\" points=\"669.951,1234.82 609.894,1234.82 730.009,1234.82 669.951,1234.82 669.951,1200.86 \"/>\n",
       "<polyline clip-path=\"url(#clip052)\" style=\"stroke:#e26f46; stroke-linecap:round; stroke-linejoin:round; stroke-width:0; stroke-opacity:1; fill:none\" points=\"790.066,1200.86 790.066,1186.96 549.837,1186.96 549.837,1200.86 790.066,1200.86 790.066,1186.96 \"/>\n",
       "<polyline clip-path=\"url(#clip052)\" style=\"stroke:#e26f46; stroke-linecap:round; stroke-linejoin:round; stroke-width:0; stroke-opacity:1; fill:none\" points=\"790.066,1186.96 549.837,1186.96 790.066,1186.96 669.951,1186.96 \"/>\n",
       "<polyline clip-path=\"url(#clip052)\" style=\"stroke:#e26f46; stroke-linecap:round; stroke-linejoin:round; stroke-width:0; stroke-opacity:1; fill:none\" points=\"669.951,1173.15 609.894,1173.15 730.009,1173.15 669.951,1173.15 669.951,1186.96 \"/>\n",
       "<polyline clip-path=\"url(#clip052)\" style=\"stroke:#e26f46; stroke-linecap:round; stroke-linejoin:round; stroke-width:0; stroke-opacity:1; fill:none\" points=\"970.238,1460.2 910.18,1460.2 1030.3,1460.2 970.238,1460.2 970.238,1338.53 \"/>\n",
       "<polyline clip-path=\"url(#clip052)\" style=\"stroke:#e26f46; stroke-linecap:round; stroke-linejoin:round; stroke-width:0; stroke-opacity:1; fill:none\" points=\"1090.35,1338.53 1090.35,1263.22 850.123,1263.22 850.123,1338.53 1090.35,1338.53 1090.35,1263.22 \"/>\n",
       "<polyline clip-path=\"url(#clip052)\" style=\"stroke:#e26f46; stroke-linecap:round; stroke-linejoin:round; stroke-width:0; stroke-opacity:1; fill:none\" points=\"1090.35,1200.43 850.123,1200.43 850.123,1263.22 1090.35,1263.22 1090.35,1200.43 970.238,1200.43 \"/>\n",
       "<polyline clip-path=\"url(#clip052)\" style=\"stroke:#e26f46; stroke-linecap:round; stroke-linejoin:round; stroke-width:0; stroke-opacity:1; fill:none\" points=\"970.238,1170.65 910.18,1170.65 1030.3,1170.65 970.238,1170.65 970.238,1200.43 \"/>\n",
       "<polyline clip-path=\"url(#clip052)\" style=\"stroke:#e26f46; stroke-linecap:round; stroke-linejoin:round; stroke-width:0; stroke-opacity:1; fill:none\" points=\"1270.52,1334.79 1210.47,1334.79 1330.58,1334.79 1270.52,1334.79 1270.52,1118.15 \"/>\n",
       "<polyline clip-path=\"url(#clip052)\" style=\"stroke:#e26f46; stroke-linecap:round; stroke-linejoin:round; stroke-width:0; stroke-opacity:1; fill:none\" points=\"1390.64,1118.15 1390.64,997.431 1150.41,997.431 1150.41,1118.15 1390.64,1118.15 1390.64,997.431 \"/>\n",
       "<polyline clip-path=\"url(#clip052)\" style=\"stroke:#e26f46; stroke-linecap:round; stroke-linejoin:round; stroke-width:0; stroke-opacity:1; fill:none\" points=\"1390.64,985.159 1150.41,985.159 1150.41,997.431 1390.64,997.431 1390.64,985.159 1270.52,985.159 \"/>\n",
       "<polyline clip-path=\"url(#clip052)\" style=\"stroke:#e26f46; stroke-linecap:round; stroke-linejoin:round; stroke-width:0; stroke-opacity:1; fill:none\" points=\"1270.52,952.404 1210.47,952.404 1330.58,952.404 1270.52,952.404 1270.52,985.159 \"/>\n",
       "<polyline clip-path=\"url(#clip052)\" style=\"stroke:#e26f46; stroke-linecap:round; stroke-linejoin:round; stroke-width:0; stroke-opacity:1; fill:none\" points=\"1570.81,1440.43 1510.75,1440.43 1630.87,1440.43 1570.81,1440.43 1570.81,1400.36 \"/>\n",
       "<polyline clip-path=\"url(#clip052)\" style=\"stroke:#e26f46; stroke-linecap:round; stroke-linejoin:round; stroke-width:0; stroke-opacity:1; fill:none\" points=\"1690.92,1400.36 1690.92,1275.18 1450.7,1275.18 1450.7,1400.36 1690.92,1400.36 1690.92,1275.18 \"/>\n",
       "<polyline clip-path=\"url(#clip052)\" style=\"stroke:#e26f46; stroke-linecap:round; stroke-linejoin:round; stroke-width:0; stroke-opacity:1; fill:none\" points=\"1690.92,1232.47 1450.7,1232.47 1450.7,1275.18 1690.92,1275.18 1690.92,1232.47 1570.81,1232.47 \"/>\n",
       "<polyline clip-path=\"url(#clip052)\" style=\"stroke:#e26f46; stroke-linecap:round; stroke-linejoin:round; stroke-width:0; stroke-opacity:1; fill:none\" points=\"1570.81,1215.25 1510.75,1215.25 1630.87,1215.25 1570.81,1215.25 1570.81,1232.47 \"/>\n",
       "<polyline clip-path=\"url(#clip052)\" style=\"stroke:#e26f46; stroke-linecap:round; stroke-linejoin:round; stroke-width:0; stroke-opacity:1; fill:none\" points=\"1871.1,1147.19 1811.04,1147.19 1931.15,1147.19 1871.1,1147.19 1871.1,1012.48 \"/>\n",
       "<polyline clip-path=\"url(#clip052)\" style=\"stroke:#e26f46; stroke-linecap:round; stroke-linejoin:round; stroke-width:0; stroke-opacity:1; fill:none\" points=\"1991.21,1012.48 1991.21,996.197 1750.98,996.197 1750.98,1012.48 1991.21,1012.48 1991.21,996.197 \"/>\n",
       "<polyline clip-path=\"url(#clip052)\" style=\"stroke:#e26f46; stroke-linecap:round; stroke-linejoin:round; stroke-width:0; stroke-opacity:1; fill:none\" points=\"1991.21,978.15 1750.98,978.15 1750.98,996.197 1991.21,996.197 1991.21,978.15 1871.1,978.15 \"/>\n",
       "<polyline clip-path=\"url(#clip052)\" style=\"stroke:#e26f46; stroke-linecap:round; stroke-linejoin:round; stroke-width:0; stroke-opacity:1; fill:none\" points=\"1871.1,964.557 1811.04,964.557 1931.15,964.557 1871.1,964.557 1871.1,978.15 \"/>\n",
       "<polyline clip-path=\"url(#clip052)\" style=\"stroke:#e26f46; stroke-linecap:round; stroke-linejoin:round; stroke-width:0; stroke-opacity:1; fill:none\" points=\"2171.38,1318.46 2111.33,1318.46 2231.44,1318.46 2171.38,1318.46 2171.38,1114.3 \"/>\n",
       "<polyline clip-path=\"url(#clip052)\" style=\"stroke:#e26f46; stroke-linecap:round; stroke-linejoin:round; stroke-width:0; stroke-opacity:1; fill:none\" points=\"2291.5,1114.3 2291.5,1039.68 2051.27,1039.68 2051.27,1114.3 2291.5,1114.3 2291.5,1039.68 \"/>\n",
       "<polyline clip-path=\"url(#clip052)\" style=\"stroke:#e26f46; stroke-linecap:round; stroke-linejoin:round; stroke-width:0; stroke-opacity:1; fill:none\" points=\"2291.5,989.631 2051.27,989.631 2051.27,1039.68 2291.5,1039.68 2291.5,989.631 2171.38,989.631 \"/>\n",
       "<polyline clip-path=\"url(#clip052)\" style=\"stroke:#e26f46; stroke-linecap:round; stroke-linejoin:round; stroke-width:0; stroke-opacity:1; fill:none\" points=\"2171.38,969.335 2111.33,969.335 2231.44,969.335 2171.38,969.335 2171.38,989.631 \"/>\n",
       "<path clip-path=\"url(#clip050)\" d=\"M1602.06 250.738 L2280.61 250.738 L2280.61 95.2176 L1602.06 95.2176  Z\" fill=\"#ffffff\" fill-rule=\"evenodd\" fill-opacity=\"1\"/>\n",
       "<polyline clip-path=\"url(#clip050)\" style=\"stroke:#000000; stroke-linecap:round; stroke-linejoin:round; stroke-width:4; stroke-opacity:1; fill:none\" points=\"1602.06,250.738 2280.61,250.738 2280.61,95.2176 1602.06,95.2176 1602.06,250.738 \"/>\n",
       "<path clip-path=\"url(#clip050)\" d=\"M1626.11 167.794 L1770.4 167.794 L1770.4 126.322 L1626.11 126.322 L1626.11 167.794  Z\" fill=\"#009af9\" fill-rule=\"evenodd\" fill-opacity=\"0.5\"/>\n",
       "<polyline clip-path=\"url(#clip050)\" style=\"stroke:#000000; stroke-linecap:round; stroke-linejoin:round; stroke-width:8; stroke-opacity:1; fill:none\" points=\"1626.11,167.794 1770.4,167.794 1770.4,126.322 1626.11,126.322 1626.11,167.794 \"/>\n",
       "<path clip-path=\"url(#clip050)\" d=\"M1794.45 129.778 L1799.18 129.778 L1806.44 158.99 L1813.69 129.778 L1818.94 129.778 L1826.21 158.99 L1833.46 129.778 L1838.2 129.778 L1829.52 164.338 L1823.64 164.338 L1816.35 134.338 L1808.99 164.338 L1803.11 164.338 L1794.45 129.778 Z\" fill=\"#000000\" fill-rule=\"nonzero\" fill-opacity=\"1\" /><path clip-path=\"url(#clip050)\" d=\"M1843.18 138.412 L1847.44 138.412 L1847.44 164.338 L1843.18 164.338 L1843.18 138.412 M1843.18 128.319 L1847.44 128.319 L1847.44 133.713 L1843.18 133.713 L1843.18 128.319 Z\" fill=\"#000000\" fill-rule=\"nonzero\" fill-opacity=\"1\" /><path clip-path=\"url(#clip050)\" d=\"M1860.56 131.051 L1860.56 138.412 L1869.34 138.412 L1869.34 141.722 L1860.56 141.722 L1860.56 155.796 Q1860.56 158.967 1861.42 159.87 Q1862.3 160.773 1864.96 160.773 L1869.34 160.773 L1869.34 164.338 L1864.96 164.338 Q1860.03 164.338 1858.16 162.509 Q1856.28 160.657 1856.28 155.796 L1856.28 141.722 L1853.16 141.722 L1853.16 138.412 L1856.28 138.412 L1856.28 131.051 L1860.56 131.051 Z\" fill=\"#000000\" fill-rule=\"nonzero\" fill-opacity=\"1\" /><path clip-path=\"url(#clip050)\" d=\"M1896.49 148.689 L1896.49 164.338 L1892.23 164.338 L1892.23 148.828 Q1892.23 145.148 1890.8 143.319 Q1889.36 141.49 1886.49 141.49 Q1883.04 141.49 1881.05 143.69 Q1879.06 145.889 1879.06 149.685 L1879.06 164.338 L1874.78 164.338 L1874.78 128.319 L1879.06 128.319 L1879.06 142.44 Q1880.59 140.102 1882.65 138.944 Q1884.73 137.787 1887.44 137.787 Q1891.91 137.787 1894.2 140.565 Q1896.49 143.319 1896.49 148.689 Z\" fill=\"#000000\" fill-rule=\"nonzero\" fill-opacity=\"1\" /><path clip-path=\"url(#clip050)\" d=\"M1946.12 132.44 L1946.12 137.37 Q1943.76 135.171 1941.07 134.083 Q1938.41 132.995 1935.4 132.995 Q1929.48 132.995 1926.33 136.629 Q1923.18 140.24 1923.18 147.092 Q1923.18 153.921 1926.33 157.555 Q1929.48 161.166 1935.4 161.166 Q1938.41 161.166 1941.07 160.078 Q1943.76 158.99 1946.12 156.791 L1946.12 161.676 Q1943.67 163.342 1940.91 164.176 Q1938.18 165.009 1935.12 165.009 Q1927.28 165.009 1922.76 160.217 Q1918.25 155.402 1918.25 147.092 Q1918.25 138.759 1922.76 133.967 Q1927.28 129.153 1935.12 129.153 Q1938.23 129.153 1940.96 129.986 Q1943.71 130.796 1946.12 132.44 Z\" fill=\"#000000\" fill-rule=\"nonzero\" fill-opacity=\"1\" /><path clip-path=\"url(#clip050)\" d=\"M1963.94 166.745 Q1962.14 171.375 1960.42 172.787 Q1958.71 174.199 1955.84 174.199 L1952.44 174.199 L1952.44 170.634 L1954.94 170.634 Q1956.7 170.634 1957.67 169.8 Q1958.64 168.967 1959.82 165.865 L1960.59 163.921 L1950.1 138.412 L1954.61 138.412 L1962.72 158.689 L1970.82 138.412 L1975.33 138.412 L1963.94 166.745 Z\" fill=\"#000000\" fill-rule=\"nonzero\" fill-opacity=\"1\" /><path clip-path=\"url(#clip050)\" d=\"M1999.87 139.407 L1999.87 143.389 Q1998.06 142.393 1996.23 141.907 Q1994.43 141.398 1992.58 141.398 Q1988.43 141.398 1986.14 144.037 Q1983.85 146.652 1983.85 151.398 Q1983.85 156.143 1986.14 158.782 Q1988.43 161.398 1992.58 161.398 Q1994.43 161.398 1996.23 160.912 Q1998.06 160.402 1999.87 159.407 L1999.87 163.342 Q1998.09 164.176 1996.17 164.592 Q1994.27 165.009 1992.11 165.009 Q1986.26 165.009 1982.81 161.328 Q1979.36 157.648 1979.36 151.398 Q1979.36 145.055 1982.83 141.421 Q1986.33 137.787 1992.39 137.787 Q1994.36 137.787 1996.23 138.203 Q1998.11 138.597 1999.87 139.407 Z\" fill=\"#000000\" fill-rule=\"nonzero\" fill-opacity=\"1\" /><path clip-path=\"url(#clip050)\" d=\"M2007.28 128.319 L2011.54 128.319 L2011.54 164.338 L2007.28 164.338 L2007.28 128.319 Z\" fill=\"#000000\" fill-rule=\"nonzero\" fill-opacity=\"1\" /><path clip-path=\"url(#clip050)\" d=\"M2042.62 150.31 L2042.62 152.393 L2023.04 152.393 Q2023.32 156.791 2025.68 159.106 Q2028.06 161.398 2032.3 161.398 Q2034.75 161.398 2037.04 160.796 Q2039.36 160.194 2041.63 158.99 L2041.63 163.018 Q2039.34 163.99 2036.93 164.5 Q2034.52 165.009 2032.04 165.009 Q2025.84 165.009 2022.21 161.398 Q2018.6 157.787 2018.6 151.629 Q2018.6 145.264 2022.02 141.537 Q2025.47 137.787 2031.3 137.787 Q2036.54 137.787 2039.57 141.166 Q2042.62 144.523 2042.62 150.31 M2038.36 149.06 Q2038.32 145.565 2036.4 143.481 Q2034.5 141.398 2031.35 141.398 Q2027.79 141.398 2025.63 143.412 Q2023.5 145.426 2023.18 149.083 L2038.36 149.06 Z\" fill=\"#000000\" fill-rule=\"nonzero\" fill-opacity=\"1\" /><path clip-path=\"url(#clip050)\" d=\"M2085.59 130.912 L2085.59 135.472 Q2082.92 134.199 2080.56 133.574 Q2078.2 132.949 2076 132.949 Q2072.18 132.949 2070.1 134.43 Q2068.04 135.912 2068.04 138.643 Q2068.04 140.935 2069.41 142.115 Q2070.79 143.273 2074.64 143.99 L2077.46 144.569 Q2082.69 145.565 2085.17 148.088 Q2087.67 150.588 2087.67 154.801 Q2087.67 159.824 2084.29 162.416 Q2080.93 165.009 2074.43 165.009 Q2071.98 165.009 2069.2 164.453 Q2066.44 163.898 2063.48 162.81 L2063.48 157.995 Q2066.33 159.592 2069.06 160.402 Q2071.79 161.213 2074.43 161.213 Q2078.43 161.213 2080.61 159.639 Q2082.79 158.064 2082.79 155.148 Q2082.79 152.602 2081.21 151.166 Q2079.66 149.731 2076.1 149.014 L2073.25 148.458 Q2068.02 147.416 2065.68 145.194 Q2063.34 142.972 2063.34 139.014 Q2063.34 134.43 2066.56 131.791 Q2069.8 129.153 2075.47 129.153 Q2077.9 129.153 2080.42 129.592 Q2082.95 130.032 2085.59 130.912 Z\" fill=\"#000000\" fill-rule=\"nonzero\" fill-opacity=\"1\" /><path clip-path=\"url(#clip050)\" d=\"M2098.99 131.051 L2098.99 138.412 L2107.76 138.412 L2107.76 141.722 L2098.99 141.722 L2098.99 155.796 Q2098.99 158.967 2099.85 159.87 Q2100.73 160.773 2103.39 160.773 L2107.76 160.773 L2107.76 164.338 L2103.39 164.338 Q2098.46 164.338 2096.58 162.509 Q2094.71 160.657 2094.71 155.796 L2094.71 141.722 L2091.58 141.722 L2091.58 138.412 L2094.71 138.412 L2094.71 131.051 L2098.99 131.051 Z\" fill=\"#000000\" fill-rule=\"nonzero\" fill-opacity=\"1\" /><path clip-path=\"url(#clip050)\" d=\"M2125.15 151.305 Q2119.98 151.305 2117.99 152.486 Q2116 153.666 2116 156.514 Q2116 158.782 2117.48 160.125 Q2118.99 161.444 2121.56 161.444 Q2125.1 161.444 2127.23 158.944 Q2129.38 156.421 2129.38 152.254 L2129.38 151.305 L2125.15 151.305 M2133.64 149.546 L2133.64 164.338 L2129.38 164.338 L2129.38 160.402 Q2127.92 162.763 2125.75 163.898 Q2123.57 165.009 2120.42 165.009 Q2116.44 165.009 2114.08 162.787 Q2111.74 160.541 2111.74 156.791 Q2111.74 152.416 2114.66 150.194 Q2117.6 147.972 2123.41 147.972 L2129.38 147.972 L2129.38 147.555 Q2129.38 144.615 2127.44 143.018 Q2125.52 141.398 2122.02 141.398 Q2119.8 141.398 2117.69 141.93 Q2115.59 142.463 2113.64 143.527 L2113.64 139.592 Q2115.98 138.69 2118.18 138.25 Q2120.38 137.787 2122.46 137.787 Q2128.09 137.787 2130.86 140.703 Q2133.64 143.62 2133.64 149.546 Z\" fill=\"#000000\" fill-rule=\"nonzero\" fill-opacity=\"1\" /><path clip-path=\"url(#clip050)\" d=\"M2146.63 131.051 L2146.63 138.412 L2155.4 138.412 L2155.4 141.722 L2146.63 141.722 L2146.63 155.796 Q2146.63 158.967 2147.48 159.87 Q2148.36 160.773 2151.03 160.773 L2155.4 160.773 L2155.4 164.338 L2151.03 164.338 Q2146.1 164.338 2144.22 162.509 Q2142.35 160.657 2142.35 155.796 L2142.35 141.722 L2139.22 141.722 L2139.22 138.412 L2142.35 138.412 L2142.35 131.051 L2146.63 131.051 Z\" fill=\"#000000\" fill-rule=\"nonzero\" fill-opacity=\"1\" /><path clip-path=\"url(#clip050)\" d=\"M2177.53 139.176 L2177.53 143.203 Q2175.72 142.277 2173.78 141.815 Q2171.84 141.352 2169.75 141.352 Q2166.58 141.352 2164.98 142.324 Q2163.41 143.296 2163.41 145.24 Q2163.41 146.722 2164.54 147.578 Q2165.68 148.412 2169.1 149.176 L2170.56 149.5 Q2175.1 150.472 2177 152.254 Q2178.92 154.014 2178.92 157.185 Q2178.92 160.796 2176.05 162.902 Q2173.2 165.009 2168.2 165.009 Q2166.12 165.009 2163.85 164.592 Q2161.6 164.199 2159.1 163.388 L2159.1 158.99 Q2161.47 160.217 2163.76 160.842 Q2166.05 161.444 2168.29 161.444 Q2171.3 161.444 2172.92 160.426 Q2174.54 159.384 2174.54 157.509 Q2174.54 155.773 2173.36 154.847 Q2172.21 153.921 2168.25 153.064 L2166.77 152.717 Q2162.81 151.884 2161.05 150.171 Q2159.29 148.435 2159.29 145.426 Q2159.29 141.768 2161.88 139.778 Q2164.47 137.787 2169.24 137.787 Q2171.6 137.787 2173.69 138.134 Q2175.77 138.481 2177.53 139.176 Z\" fill=\"#000000\" fill-rule=\"nonzero\" fill-opacity=\"1\" /><path clip-path=\"url(#clip050)\" d=\"M1626.11 219.634 L1770.4 219.634 L1770.4 178.162 L1626.11 178.162 L1626.11 219.634  Z\" fill=\"#e26f46\" fill-rule=\"evenodd\" fill-opacity=\"0.5\"/>\n",
       "<polyline clip-path=\"url(#clip050)\" style=\"stroke:#000000; stroke-linecap:round; stroke-linejoin:round; stroke-width:8; stroke-opacity:1; fill:none\" points=\"1626.11,219.634 1770.4,219.634 1770.4,178.162 1626.11,178.162 1626.11,219.634 \"/>\n",
       "<path clip-path=\"url(#clip050)\" d=\"M1794.45 181.618 L1799.18 181.618 L1806.44 210.83 L1813.69 181.618 L1818.94 181.618 L1826.21 210.83 L1833.46 181.618 L1838.2 181.618 L1829.52 216.178 L1823.64 216.178 L1816.35 186.178 L1808.99 216.178 L1803.11 216.178 L1794.45 181.618 Z\" fill=\"#000000\" fill-rule=\"nonzero\" fill-opacity=\"1\" /><path clip-path=\"url(#clip050)\" d=\"M1843.18 190.252 L1847.44 190.252 L1847.44 216.178 L1843.18 216.178 L1843.18 190.252 M1843.18 180.159 L1847.44 180.159 L1847.44 185.553 L1843.18 185.553 L1843.18 180.159 Z\" fill=\"#000000\" fill-rule=\"nonzero\" fill-opacity=\"1\" /><path clip-path=\"url(#clip050)\" d=\"M1860.56 182.891 L1860.56 190.252 L1869.34 190.252 L1869.34 193.562 L1860.56 193.562 L1860.56 207.636 Q1860.56 210.807 1861.42 211.71 Q1862.3 212.613 1864.96 212.613 L1869.34 212.613 L1869.34 216.178 L1864.96 216.178 Q1860.03 216.178 1858.16 214.349 Q1856.28 212.497 1856.28 207.636 L1856.28 193.562 L1853.16 193.562 L1853.16 190.252 L1856.28 190.252 L1856.28 182.891 L1860.56 182.891 Z\" fill=\"#000000\" fill-rule=\"nonzero\" fill-opacity=\"1\" /><path clip-path=\"url(#clip050)\" d=\"M1896.49 200.529 L1896.49 216.178 L1892.23 216.178 L1892.23 200.668 Q1892.23 196.988 1890.8 195.159 Q1889.36 193.33 1886.49 193.33 Q1883.04 193.33 1881.05 195.53 Q1879.06 197.729 1879.06 201.525 L1879.06 216.178 L1874.78 216.178 L1874.78 180.159 L1879.06 180.159 L1879.06 194.28 Q1880.59 191.942 1882.65 190.784 Q1884.73 189.627 1887.44 189.627 Q1891.91 189.627 1894.2 192.405 Q1896.49 195.159 1896.49 200.529 Z\" fill=\"#000000\" fill-rule=\"nonzero\" fill-opacity=\"1\" /><path clip-path=\"url(#clip050)\" d=\"M1915.03 193.238 Q1911.61 193.238 1909.61 195.923 Q1907.62 198.585 1907.62 203.238 Q1907.62 207.891 1909.59 210.576 Q1911.58 213.238 1915.03 213.238 Q1918.43 213.238 1920.43 210.553 Q1922.42 207.867 1922.42 203.238 Q1922.42 198.631 1920.43 195.946 Q1918.43 193.238 1915.03 193.238 M1915.03 189.627 Q1920.59 189.627 1923.76 193.238 Q1926.93 196.849 1926.93 203.238 Q1926.93 209.604 1923.76 213.238 Q1920.59 216.849 1915.03 216.849 Q1909.45 216.849 1906.28 213.238 Q1903.13 209.604 1903.13 203.238 Q1903.13 196.849 1906.28 193.238 Q1909.45 189.627 1915.03 189.627 Z\" fill=\"#000000\" fill-rule=\"nonzero\" fill-opacity=\"1\" /><path clip-path=\"url(#clip050)\" d=\"M1933.55 205.946 L1933.55 190.252 L1937.81 190.252 L1937.81 205.784 Q1937.81 209.465 1939.24 211.316 Q1940.68 213.145 1943.55 213.145 Q1947 213.145 1948.99 210.946 Q1951 208.747 1951 204.951 L1951 190.252 L1955.26 190.252 L1955.26 216.178 L1951 216.178 L1951 212.196 Q1949.45 214.557 1947.39 215.715 Q1945.36 216.849 1942.65 216.849 Q1938.18 216.849 1935.86 214.071 Q1933.55 211.293 1933.55 205.946 M1944.27 189.627 L1944.27 189.627 Z\" fill=\"#000000\" fill-rule=\"nonzero\" fill-opacity=\"1\" /><path clip-path=\"url(#clip050)\" d=\"M1968.25 182.891 L1968.25 190.252 L1977.02 190.252 L1977.02 193.562 L1968.25 193.562 L1968.25 207.636 Q1968.25 210.807 1969.11 211.71 Q1969.98 212.613 1972.65 212.613 L1977.02 212.613 L1977.02 216.178 L1972.65 216.178 Q1967.72 216.178 1965.84 214.349 Q1963.97 212.497 1963.97 207.636 L1963.97 193.562 L1960.84 193.562 L1960.84 190.252 L1963.97 190.252 L1963.97 182.891 L1968.25 182.891 Z\" fill=\"#000000\" fill-rule=\"nonzero\" fill-opacity=\"1\" /><path clip-path=\"url(#clip050)\" d=\"M2023.76 184.28 L2023.76 189.21 Q2021.4 187.011 2018.71 185.923 Q2016.05 184.835 2013.04 184.835 Q2007.11 184.835 2003.97 188.469 Q2000.82 192.08 2000.82 198.932 Q2000.82 205.761 2003.97 209.395 Q2007.11 213.006 2013.04 213.006 Q2016.05 213.006 2018.71 211.918 Q2021.4 210.83 2023.76 208.631 L2023.76 213.516 Q2021.3 215.182 2018.55 216.016 Q2015.82 216.849 2012.76 216.849 Q2004.92 216.849 2000.4 212.057 Q1995.89 207.242 1995.89 198.932 Q1995.89 190.599 2000.4 185.807 Q2004.92 180.993 2012.76 180.993 Q2015.86 180.993 2018.6 181.826 Q2021.35 182.636 2023.76 184.28 Z\" fill=\"#000000\" fill-rule=\"nonzero\" fill-opacity=\"1\" /><path clip-path=\"url(#clip050)\" d=\"M2041.58 218.585 Q2039.78 223.215 2038.06 224.627 Q2036.35 226.039 2033.48 226.039 L2030.08 226.039 L2030.08 222.474 L2032.58 222.474 Q2034.34 222.474 2035.31 221.64 Q2036.28 220.807 2037.46 217.705 L2038.23 215.761 L2027.74 190.252 L2032.25 190.252 L2040.35 210.529 L2048.46 190.252 L2052.97 190.252 L2041.58 218.585 Z\" fill=\"#000000\" fill-rule=\"nonzero\" fill-opacity=\"1\" /><path clip-path=\"url(#clip050)\" d=\"M2077.51 191.247 L2077.51 195.229 Q2075.7 194.233 2073.87 193.747 Q2072.07 193.238 2070.22 193.238 Q2066.07 193.238 2063.78 195.877 Q2061.49 198.492 2061.49 203.238 Q2061.49 207.983 2063.78 210.622 Q2066.07 213.238 2070.22 213.238 Q2072.07 213.238 2073.87 212.752 Q2075.7 212.242 2077.51 211.247 L2077.51 215.182 Q2075.73 216.016 2073.8 216.432 Q2071.91 216.849 2069.75 216.849 Q2063.9 216.849 2060.45 213.168 Q2057 209.488 2057 203.238 Q2057 196.895 2060.47 193.261 Q2063.97 189.627 2070.03 189.627 Q2072 189.627 2073.87 190.043 Q2075.75 190.437 2077.51 191.247 Z\" fill=\"#000000\" fill-rule=\"nonzero\" fill-opacity=\"1\" /><path clip-path=\"url(#clip050)\" d=\"M2084.91 180.159 L2089.17 180.159 L2089.17 216.178 L2084.91 216.178 L2084.91 180.159 Z\" fill=\"#000000\" fill-rule=\"nonzero\" fill-opacity=\"1\" /><path clip-path=\"url(#clip050)\" d=\"M2120.26 202.15 L2120.26 204.233 L2100.68 204.233 Q2100.96 208.631 2103.32 210.946 Q2105.7 213.238 2109.94 213.238 Q2112.39 213.238 2114.68 212.636 Q2117 212.034 2119.27 210.83 L2119.27 214.858 Q2116.97 215.83 2114.57 216.34 Q2112.16 216.849 2109.68 216.849 Q2103.48 216.849 2099.85 213.238 Q2096.23 209.627 2096.23 203.469 Q2096.23 197.104 2099.66 193.377 Q2103.11 189.627 2108.94 189.627 Q2114.17 189.627 2117.21 193.006 Q2120.26 196.363 2120.26 202.15 M2116 200.9 Q2115.96 197.405 2114.04 195.321 Q2112.14 193.238 2108.99 193.238 Q2105.42 193.238 2103.27 195.252 Q2101.14 197.266 2100.82 200.923 L2116 200.9 Z\" fill=\"#000000\" fill-rule=\"nonzero\" fill-opacity=\"1\" /><path clip-path=\"url(#clip050)\" d=\"M2163.22 182.752 L2163.22 187.312 Q2160.56 186.039 2158.2 185.414 Q2155.84 184.789 2153.64 184.789 Q2149.82 184.789 2147.74 186.27 Q2145.68 187.752 2145.68 190.483 Q2145.68 192.775 2147.04 193.955 Q2148.43 195.113 2152.28 195.83 L2155.1 196.409 Q2160.33 197.405 2162.81 199.928 Q2165.31 202.428 2165.31 206.641 Q2165.31 211.664 2161.93 214.256 Q2158.57 216.849 2152.07 216.849 Q2149.61 216.849 2146.84 216.293 Q2144.08 215.738 2141.12 214.65 L2141.12 209.835 Q2143.97 211.432 2146.7 212.242 Q2149.43 213.053 2152.07 213.053 Q2156.07 213.053 2158.25 211.479 Q2160.42 209.904 2160.42 206.988 Q2160.42 204.442 2158.85 203.006 Q2157.3 201.571 2153.73 200.854 L2150.89 200.298 Q2145.66 199.256 2143.32 197.034 Q2140.98 194.812 2140.98 190.854 Q2140.98 186.27 2144.2 183.631 Q2147.44 180.993 2153.11 180.993 Q2155.54 180.993 2158.06 181.432 Q2160.59 181.872 2163.22 182.752 Z\" fill=\"#000000\" fill-rule=\"nonzero\" fill-opacity=\"1\" /><path clip-path=\"url(#clip050)\" d=\"M2176.63 182.891 L2176.63 190.252 L2185.4 190.252 L2185.4 193.562 L2176.63 193.562 L2176.63 207.636 Q2176.63 210.807 2177.48 211.71 Q2178.36 212.613 2181.03 212.613 L2185.4 212.613 L2185.4 216.178 L2181.03 216.178 Q2176.09 216.178 2174.22 214.349 Q2172.35 212.497 2172.35 207.636 L2172.35 193.562 L2169.22 193.562 L2169.22 190.252 L2172.35 190.252 L2172.35 182.891 L2176.63 182.891 Z\" fill=\"#000000\" fill-rule=\"nonzero\" fill-opacity=\"1\" /><path clip-path=\"url(#clip050)\" d=\"M2202.78 203.145 Q2197.62 203.145 2195.63 204.326 Q2193.64 205.506 2193.64 208.354 Q2193.64 210.622 2195.12 211.965 Q2196.63 213.284 2199.2 213.284 Q2202.74 213.284 2204.87 210.784 Q2207.02 208.261 2207.02 204.094 L2207.02 203.145 L2202.78 203.145 M2211.28 201.386 L2211.28 216.178 L2207.02 216.178 L2207.02 212.242 Q2205.56 214.603 2203.39 215.738 Q2201.21 216.849 2198.06 216.849 Q2194.08 216.849 2191.72 214.627 Q2189.38 212.381 2189.38 208.631 Q2189.38 204.256 2192.3 202.034 Q2195.24 199.812 2201.05 199.812 L2207.02 199.812 L2207.02 199.395 Q2207.02 196.455 2205.08 194.858 Q2203.16 193.238 2199.66 193.238 Q2197.44 193.238 2195.33 193.77 Q2193.22 194.303 2191.28 195.367 L2191.28 191.432 Q2193.62 190.53 2195.82 190.09 Q2198.02 189.627 2200.1 189.627 Q2205.72 189.627 2208.5 192.543 Q2211.28 195.46 2211.28 201.386 Z\" fill=\"#000000\" fill-rule=\"nonzero\" fill-opacity=\"1\" /><path clip-path=\"url(#clip050)\" d=\"M2224.27 182.891 L2224.27 190.252 L2233.04 190.252 L2233.04 193.562 L2224.27 193.562 L2224.27 207.636 Q2224.27 210.807 2225.12 211.71 Q2226 212.613 2228.66 212.613 L2233.04 212.613 L2233.04 216.178 L2228.66 216.178 Q2223.73 216.178 2221.86 214.349 Q2219.98 212.497 2219.98 207.636 L2219.98 193.562 L2216.86 193.562 L2216.86 190.252 L2219.98 190.252 L2219.98 182.891 L2224.27 182.891 Z\" fill=\"#000000\" fill-rule=\"nonzero\" fill-opacity=\"1\" /><path clip-path=\"url(#clip050)\" d=\"M2255.17 191.016 L2255.17 195.043 Q2253.36 194.117 2251.42 193.655 Q2249.47 193.192 2247.39 193.192 Q2244.22 193.192 2242.62 194.164 Q2241.05 195.136 2241.05 197.08 Q2241.05 198.562 2242.18 199.418 Q2243.32 200.252 2246.74 201.016 L2248.2 201.34 Q2252.74 202.312 2254.64 204.094 Q2256.56 205.854 2256.56 209.025 Q2256.56 212.636 2253.69 214.742 Q2250.84 216.849 2245.84 216.849 Q2243.76 216.849 2241.49 216.432 Q2239.24 216.039 2236.74 215.228 L2236.74 210.83 Q2239.1 212.057 2241.4 212.682 Q2243.69 213.284 2245.93 213.284 Q2248.94 213.284 2250.56 212.266 Q2252.18 211.224 2252.18 209.349 Q2252.18 207.613 2251 206.687 Q2249.84 205.761 2245.89 204.904 L2244.4 204.557 Q2240.45 203.724 2238.69 202.011 Q2236.93 200.275 2236.93 197.266 Q2236.93 193.608 2239.52 191.618 Q2242.11 189.627 2246.88 189.627 Q2249.24 189.627 2251.33 189.974 Q2253.41 190.321 2255.17 191.016 Z\" fill=\"#000000\" fill-rule=\"nonzero\" fill-opacity=\"1\" /></svg>\n"
      ],
      "text/html": [
       "<?xml version=\"1.0\" encoding=\"utf-8\"?>\n",
       "<svg xmlns=\"http://www.w3.org/2000/svg\" xmlns:xlink=\"http://www.w3.org/1999/xlink\" width=\"600\" height=\"400\" viewBox=\"0 0 2400 1600\">\n",
       "<defs>\n",
       "  <clipPath id=\"clip100\">\n",
       "    <rect x=\"0\" y=\"0\" width=\"2400\" height=\"1600\"/>\n",
       "  </clipPath>\n",
       "</defs>\n",
       "<path clip-path=\"url(#clip100)\" d=\"M0 1600 L2400 1600 L2400 0 L0 0  Z\" fill=\"#ffffff\" fill-rule=\"evenodd\" fill-opacity=\"1\"/>\n",
       "<defs>\n",
       "  <clipPath id=\"clip101\">\n",
       "    <rect x=\"480\" y=\"0\" width=\"1681\" height=\"1600\"/>\n",
       "  </clipPath>\n",
       "</defs>\n",
       "<path clip-path=\"url(#clip100)\" d=\"M188.292 1486.45 L2352.76 1486.45 L2352.76 47.2441 L188.292 47.2441  Z\" fill=\"#ffffff\" fill-rule=\"evenodd\" fill-opacity=\"1\"/>\n",
       "<defs>\n",
       "  <clipPath id=\"clip102\">\n",
       "    <rect x=\"188\" y=\"47\" width=\"2165\" height=\"1440\"/>\n",
       "  </clipPath>\n",
       "</defs>\n",
       "<polyline clip-path=\"url(#clip102)\" style=\"stroke:#000000; stroke-linecap:round; stroke-linejoin:round; stroke-width:2; stroke-opacity:0.1; fill:none\" points=\"369.665,1486.45 369.665,47.2441 \"/>\n",
       "<polyline clip-path=\"url(#clip102)\" style=\"stroke:#000000; stroke-linecap:round; stroke-linejoin:round; stroke-width:2; stroke-opacity:0.1; fill:none\" points=\"669.951,1486.45 669.951,47.2441 \"/>\n",
       "<polyline clip-path=\"url(#clip102)\" style=\"stroke:#000000; stroke-linecap:round; stroke-linejoin:round; stroke-width:2; stroke-opacity:0.1; fill:none\" points=\"970.238,1486.45 970.238,47.2441 \"/>\n",
       "<polyline clip-path=\"url(#clip102)\" style=\"stroke:#000000; stroke-linecap:round; stroke-linejoin:round; stroke-width:2; stroke-opacity:0.1; fill:none\" points=\"1270.52,1486.45 1270.52,47.2441 \"/>\n",
       "<polyline clip-path=\"url(#clip102)\" style=\"stroke:#000000; stroke-linecap:round; stroke-linejoin:round; stroke-width:2; stroke-opacity:0.1; fill:none\" points=\"1570.81,1486.45 1570.81,47.2441 \"/>\n",
       "<polyline clip-path=\"url(#clip102)\" style=\"stroke:#000000; stroke-linecap:round; stroke-linejoin:round; stroke-width:2; stroke-opacity:0.1; fill:none\" points=\"1871.1,1486.45 1871.1,47.2441 \"/>\n",
       "<polyline clip-path=\"url(#clip102)\" style=\"stroke:#000000; stroke-linecap:round; stroke-linejoin:round; stroke-width:2; stroke-opacity:0.1; fill:none\" points=\"2171.38,1486.45 2171.38,47.2441 \"/>\n",
       "<polyline clip-path=\"url(#clip100)\" style=\"stroke:#000000; stroke-linecap:round; stroke-linejoin:round; stroke-width:4; stroke-opacity:1; fill:none\" points=\"188.292,1486.45 2352.76,1486.45 \"/>\n",
       "<polyline clip-path=\"url(#clip100)\" style=\"stroke:#000000; stroke-linecap:round; stroke-linejoin:round; stroke-width:4; stroke-opacity:1; fill:none\" points=\"369.665,1486.45 369.665,1467.55 \"/>\n",
       "<polyline clip-path=\"url(#clip100)\" style=\"stroke:#000000; stroke-linecap:round; stroke-linejoin:round; stroke-width:4; stroke-opacity:1; fill:none\" points=\"669.951,1486.45 669.951,1467.55 \"/>\n",
       "<polyline clip-path=\"url(#clip100)\" style=\"stroke:#000000; stroke-linecap:round; stroke-linejoin:round; stroke-width:4; stroke-opacity:1; fill:none\" points=\"970.238,1486.45 970.238,1467.55 \"/>\n",
       "<polyline clip-path=\"url(#clip100)\" style=\"stroke:#000000; stroke-linecap:round; stroke-linejoin:round; stroke-width:4; stroke-opacity:1; fill:none\" points=\"1270.52,1486.45 1270.52,1467.55 \"/>\n",
       "<polyline clip-path=\"url(#clip100)\" style=\"stroke:#000000; stroke-linecap:round; stroke-linejoin:round; stroke-width:4; stroke-opacity:1; fill:none\" points=\"1570.81,1486.45 1570.81,1467.55 \"/>\n",
       "<polyline clip-path=\"url(#clip100)\" style=\"stroke:#000000; stroke-linecap:round; stroke-linejoin:round; stroke-width:4; stroke-opacity:1; fill:none\" points=\"1871.1,1486.45 1871.1,1467.55 \"/>\n",
       "<polyline clip-path=\"url(#clip100)\" style=\"stroke:#000000; stroke-linecap:round; stroke-linejoin:round; stroke-width:4; stroke-opacity:1; fill:none\" points=\"2171.38,1486.45 2171.38,1467.55 \"/>\n",
       "<path clip-path=\"url(#clip100)\" d=\"M333.172 1516.95 L333.172 1521.88 Q330.811 1519.68 328.126 1518.59 Q325.464 1517.51 322.455 1517.51 Q316.529 1517.51 313.381 1521.14 Q310.233 1524.75 310.233 1531.6 Q310.233 1538.43 313.381 1542.07 Q316.529 1545.68 322.455 1545.68 Q325.464 1545.68 328.126 1544.59 Q330.811 1543.5 333.172 1541.3 L333.172 1546.19 Q330.719 1547.85 327.964 1548.69 Q325.233 1549.52 322.177 1549.52 Q314.33 1549.52 309.816 1544.73 Q305.302 1539.91 305.302 1531.6 Q305.302 1523.27 309.816 1518.48 Q314.33 1513.66 322.177 1513.66 Q325.279 1513.66 328.01 1514.5 Q330.765 1515.31 333.172 1516.95 Z\" fill=\"#000000\" fill-rule=\"nonzero\" fill-opacity=\"1\" /><path clip-path=\"url(#clip100)\" d=\"M361.76 1533.2 L361.76 1548.85 L357.501 1548.85 L357.501 1533.34 Q357.501 1529.66 356.066 1527.83 Q354.631 1526 351.76 1526 Q348.311 1526 346.32 1528.2 Q344.33 1530.4 344.33 1534.2 L344.33 1548.85 L340.047 1548.85 L340.047 1512.83 L344.33 1512.83 L344.33 1526.95 Q345.857 1524.61 347.918 1523.45 Q350.001 1522.3 352.709 1522.3 Q357.177 1522.3 359.468 1525.07 Q361.76 1527.83 361.76 1533.2 Z\" fill=\"#000000\" fill-rule=\"nonzero\" fill-opacity=\"1\" /><path clip-path=\"url(#clip100)\" d=\"M382.038 1535.82 Q376.876 1535.82 374.885 1537 Q372.894 1538.18 372.894 1541.02 Q372.894 1543.29 374.376 1544.63 Q375.88 1545.95 378.45 1545.95 Q381.991 1545.95 384.121 1543.45 Q386.274 1540.93 386.274 1536.76 L386.274 1535.82 L382.038 1535.82 M390.533 1534.06 L390.533 1548.85 L386.274 1548.85 L386.274 1544.91 Q384.816 1547.27 382.64 1548.41 Q380.464 1549.52 377.316 1549.52 Q373.334 1549.52 370.973 1547.3 Q368.635 1545.05 368.635 1541.3 Q368.635 1536.93 371.552 1534.7 Q374.492 1532.48 380.302 1532.48 L386.274 1532.48 L386.274 1532.07 Q386.274 1529.13 384.329 1527.53 Q382.408 1525.91 378.913 1525.91 Q376.691 1525.91 374.584 1526.44 Q372.478 1526.97 370.533 1528.04 L370.533 1524.1 Q372.871 1523.2 375.07 1522.76 Q377.269 1522.3 379.353 1522.3 Q384.978 1522.3 387.755 1525.21 Q390.533 1528.13 390.533 1534.06 Z\" fill=\"#000000\" fill-rule=\"nonzero\" fill-opacity=\"1\" /><path clip-path=\"url(#clip100)\" d=\"M399.306 1522.92 L403.565 1522.92 L403.565 1548.85 L399.306 1548.85 L399.306 1522.92 M399.306 1512.83 L403.565 1512.83 L403.565 1518.22 L399.306 1518.22 L399.306 1512.83 Z\" fill=\"#000000\" fill-rule=\"nonzero\" fill-opacity=\"1\" /><path clip-path=\"url(#clip100)\" d=\"M434.028 1533.2 L434.028 1548.85 L429.769 1548.85 L429.769 1533.34 Q429.769 1529.66 428.334 1527.83 Q426.899 1526 424.028 1526 Q420.579 1526 418.588 1528.2 Q416.598 1530.4 416.598 1534.2 L416.598 1548.85 L412.315 1548.85 L412.315 1522.92 L416.598 1522.92 L416.598 1526.95 Q418.126 1524.61 420.186 1523.45 Q422.269 1522.3 424.977 1522.3 Q429.445 1522.3 431.737 1525.07 Q434.028 1527.83 434.028 1533.2 Z\" fill=\"#000000\" fill-rule=\"nonzero\" fill-opacity=\"1\" /><path clip-path=\"url(#clip100)\" d=\"M635.635 1516.95 L635.635 1521.88 Q633.273 1519.68 630.588 1518.59 Q627.926 1517.51 624.917 1517.51 Q618.991 1517.51 615.843 1521.14 Q612.695 1524.75 612.695 1531.6 Q612.695 1538.43 615.843 1542.07 Q618.991 1545.68 624.917 1545.68 Q627.926 1545.68 630.588 1544.59 Q633.273 1543.5 635.635 1541.3 L635.635 1546.19 Q633.181 1547.85 630.426 1548.69 Q627.695 1549.52 624.639 1549.52 Q616.792 1549.52 612.278 1544.73 Q607.764 1539.91 607.764 1531.6 Q607.764 1523.27 612.278 1518.48 Q616.792 1513.66 624.639 1513.66 Q627.741 1513.66 630.472 1514.5 Q633.227 1515.31 635.635 1516.95 Z\" fill=\"#000000\" fill-rule=\"nonzero\" fill-opacity=\"1\" /><path clip-path=\"url(#clip100)\" d=\"M653.458 1551.26 Q651.653 1555.88 649.94 1557.3 Q648.227 1558.71 645.357 1558.71 L641.954 1558.71 L641.954 1555.14 L644.454 1555.14 Q646.213 1555.14 647.185 1554.31 Q648.158 1553.48 649.338 1550.38 L650.102 1548.43 L639.616 1522.92 L644.13 1522.92 L652.232 1543.2 L660.333 1522.92 L664.847 1522.92 L653.458 1551.26 Z\" fill=\"#000000\" fill-rule=\"nonzero\" fill-opacity=\"1\" /><path clip-path=\"url(#clip100)\" d=\"M689.384 1523.92 L689.384 1527.9 Q687.579 1526.9 685.75 1526.42 Q683.944 1525.91 682.093 1525.91 Q677.949 1525.91 675.657 1528.55 Q673.366 1531.16 673.366 1535.91 Q673.366 1540.65 675.657 1543.29 Q677.949 1545.91 682.093 1545.91 Q683.944 1545.91 685.75 1545.42 Q687.579 1544.91 689.384 1543.92 L689.384 1547.85 Q687.602 1548.69 685.681 1549.1 Q683.782 1549.52 681.63 1549.52 Q675.773 1549.52 672.324 1545.84 Q668.875 1542.16 668.875 1535.91 Q668.875 1529.57 672.347 1525.93 Q675.843 1522.3 681.907 1522.3 Q683.875 1522.3 685.75 1522.71 Q687.625 1523.11 689.384 1523.92 Z\" fill=\"#000000\" fill-rule=\"nonzero\" fill-opacity=\"1\" /><path clip-path=\"url(#clip100)\" d=\"M696.792 1512.83 L701.051 1512.83 L701.051 1548.85 L696.792 1548.85 L696.792 1512.83 Z\" fill=\"#000000\" fill-rule=\"nonzero\" fill-opacity=\"1\" /><path clip-path=\"url(#clip100)\" d=\"M732.139 1534.82 L732.139 1536.9 L712.555 1536.9 Q712.833 1541.3 715.194 1543.62 Q717.579 1545.91 721.815 1545.91 Q724.268 1545.91 726.56 1545.31 Q728.875 1544.7 731.143 1543.5 L731.143 1547.53 Q728.852 1548.5 726.444 1549.01 Q724.037 1549.52 721.56 1549.52 Q715.356 1549.52 711.722 1545.91 Q708.111 1542.3 708.111 1536.14 Q708.111 1529.77 711.537 1526.05 Q714.986 1522.3 720.819 1522.3 Q726.051 1522.3 729.083 1525.68 Q732.139 1529.03 732.139 1534.82 M727.879 1533.57 Q727.833 1530.07 725.912 1527.99 Q724.014 1525.91 720.866 1525.91 Q717.301 1525.91 715.148 1527.92 Q713.018 1529.94 712.694 1533.59 L727.879 1533.57 Z\" fill=\"#000000\" fill-rule=\"nonzero\" fill-opacity=\"1\" /><path clip-path=\"url(#clip100)\" d=\"M894.127 1514.29 L913.988 1514.29 L913.988 1518.22 L898.803 1518.22 L898.803 1528.41 L912.507 1528.41 L912.507 1532.34 L898.803 1532.34 L898.803 1548.85 L894.127 1548.85 L894.127 1514.29 Z\" fill=\"#000000\" fill-rule=\"nonzero\" fill-opacity=\"1\" /><path clip-path=\"url(#clip100)\" d=\"M921.21 1512.83 L925.469 1512.83 L925.469 1548.85 L921.21 1548.85 L921.21 1512.83 Z\" fill=\"#000000\" fill-rule=\"nonzero\" fill-opacity=\"1\" /><path clip-path=\"url(#clip100)\" d=\"M944.428 1525.91 Q941.002 1525.91 939.011 1528.59 Q937.02 1531.26 937.02 1535.91 Q937.02 1540.56 938.988 1543.25 Q940.979 1545.91 944.428 1545.91 Q947.83 1545.91 949.821 1543.22 Q951.812 1540.54 951.812 1535.91 Q951.812 1531.3 949.821 1528.62 Q947.83 1525.91 944.428 1525.91 M944.428 1522.3 Q949.983 1522.3 953.155 1525.91 Q956.326 1529.52 956.326 1535.91 Q956.326 1542.27 953.155 1545.91 Q949.983 1549.52 944.428 1549.52 Q938.849 1549.52 935.678 1545.91 Q932.53 1542.27 932.53 1535.91 Q932.53 1529.52 935.678 1525.91 Q938.849 1522.3 944.428 1522.3 Z\" fill=\"#000000\" fill-rule=\"nonzero\" fill-opacity=\"1\" /><path clip-path=\"url(#clip100)\" d=\"M960.909 1522.92 L965.168 1522.92 L970.492 1543.15 L975.793 1522.92 L980.816 1522.92 L986.14 1543.15 L991.441 1522.92 L995.701 1522.92 L988.918 1548.85 L983.895 1548.85 L978.316 1527.6 L972.715 1548.85 L967.691 1548.85 L960.909 1522.92 Z\" fill=\"#000000\" fill-rule=\"nonzero\" fill-opacity=\"1\" /><path clip-path=\"url(#clip100)\" d=\"M1024.33 1534.82 L1024.33 1536.9 L1004.75 1536.9 Q1005.03 1541.3 1007.39 1543.62 Q1009.77 1545.91 1014.01 1545.91 Q1016.46 1545.91 1018.76 1545.31 Q1021.07 1544.7 1023.34 1543.5 L1023.34 1547.53 Q1021.05 1548.5 1018.64 1549.01 Q1016.23 1549.52 1013.76 1549.52 Q1007.55 1549.52 1003.92 1545.91 Q1000.31 1542.3 1000.31 1536.14 Q1000.31 1529.77 1003.73 1526.05 Q1007.18 1522.3 1013.02 1522.3 Q1018.25 1522.3 1021.28 1525.68 Q1024.33 1529.03 1024.33 1534.82 M1020.08 1533.57 Q1020.03 1530.07 1018.11 1527.99 Q1016.21 1525.91 1013.06 1525.91 Q1009.5 1525.91 1007.34 1527.92 Q1005.21 1529.94 1004.89 1533.59 L1020.08 1533.57 Z\" fill=\"#000000\" fill-rule=\"nonzero\" fill-opacity=\"1\" /><path clip-path=\"url(#clip100)\" d=\"M1046.35 1526.9 Q1045.63 1526.49 1044.77 1526.3 Q1043.94 1526.09 1042.92 1526.09 Q1039.31 1526.09 1037.37 1528.45 Q1035.45 1530.79 1035.45 1535.19 L1035.45 1548.85 L1031.16 1548.85 L1031.16 1522.92 L1035.45 1522.92 L1035.45 1526.95 Q1036.79 1524.59 1038.94 1523.45 Q1041.09 1522.3 1044.17 1522.3 Q1044.61 1522.3 1045.14 1522.37 Q1045.68 1522.41 1046.33 1522.53 L1046.35 1526.9 Z\" fill=\"#000000\" fill-rule=\"nonzero\" fill-opacity=\"1\" /><path clip-path=\"url(#clip100)\" d=\"M1226.72 1543.92 L1226.72 1534.63 L1219.08 1534.63 L1219.08 1530.79 L1231.35 1530.79 L1231.35 1545.63 Q1228.64 1547.55 1225.37 1548.55 Q1222.11 1549.52 1218.41 1549.52 Q1210.3 1549.52 1205.72 1544.8 Q1201.16 1540.05 1201.16 1531.6 Q1201.16 1523.13 1205.72 1518.41 Q1210.3 1513.66 1218.41 1513.66 Q1221.79 1513.66 1224.82 1514.5 Q1227.87 1515.33 1230.44 1516.95 L1230.44 1521.93 Q1227.85 1519.73 1224.93 1518.62 Q1222.02 1517.51 1218.8 1517.51 Q1212.46 1517.51 1209.26 1521.05 Q1206.09 1524.59 1206.09 1531.6 Q1206.09 1538.59 1209.26 1542.13 Q1212.46 1545.68 1218.8 1545.68 Q1221.28 1545.68 1223.22 1545.26 Q1225.17 1544.82 1226.72 1543.92 Z\" fill=\"#000000\" fill-rule=\"nonzero\" fill-opacity=\"1\" /><path clip-path=\"url(#clip100)\" d=\"M1254.73 1526.9 Q1254.01 1526.49 1253.15 1526.3 Q1252.32 1526.09 1251.3 1526.09 Q1247.69 1526.09 1245.74 1528.45 Q1243.82 1530.79 1243.82 1535.19 L1243.82 1548.85 L1239.54 1548.85 L1239.54 1522.92 L1243.82 1522.92 L1243.82 1526.95 Q1245.17 1524.59 1247.32 1523.45 Q1249.47 1522.3 1252.55 1522.3 Q1252.99 1522.3 1253.52 1522.37 Q1254.05 1522.41 1254.7 1522.53 L1254.73 1526.9 Z\" fill=\"#000000\" fill-rule=\"nonzero\" fill-opacity=\"1\" /><path clip-path=\"url(#clip100)\" d=\"M1270.98 1535.82 Q1265.81 1535.82 1263.82 1537 Q1261.83 1538.18 1261.83 1541.02 Q1261.83 1543.29 1263.31 1544.63 Q1264.82 1545.95 1267.39 1545.95 Q1270.93 1545.95 1273.06 1543.45 Q1275.21 1540.93 1275.21 1536.76 L1275.21 1535.82 L1270.98 1535.82 M1279.47 1534.06 L1279.47 1548.85 L1275.21 1548.85 L1275.21 1544.91 Q1273.75 1547.27 1271.58 1548.41 Q1269.4 1549.52 1266.25 1549.52 Q1262.27 1549.52 1259.91 1547.3 Q1257.57 1545.05 1257.57 1541.3 Q1257.57 1536.93 1260.49 1534.7 Q1263.43 1532.48 1269.24 1532.48 L1275.21 1532.48 L1275.21 1532.07 Q1275.21 1529.13 1273.27 1527.53 Q1271.35 1525.91 1267.85 1525.91 Q1265.63 1525.91 1263.52 1526.44 Q1261.42 1526.97 1259.47 1528.04 L1259.47 1524.1 Q1261.81 1523.2 1264.01 1522.76 Q1266.21 1522.3 1268.29 1522.3 Q1273.92 1522.3 1276.69 1525.21 Q1279.47 1528.13 1279.47 1534.06 Z\" fill=\"#000000\" fill-rule=\"nonzero\" fill-opacity=\"1\" /><path clip-path=\"url(#clip100)\" d=\"M1292.36 1544.96 L1292.36 1558.71 L1288.08 1558.71 L1288.08 1522.92 L1292.36 1522.92 L1292.36 1526.86 Q1293.71 1524.54 1295.74 1523.43 Q1297.8 1522.3 1300.65 1522.3 Q1305.37 1522.3 1308.31 1526.05 Q1311.28 1529.8 1311.28 1535.91 Q1311.28 1542.02 1308.31 1545.77 Q1305.37 1549.52 1300.65 1549.52 Q1297.8 1549.52 1295.74 1548.41 Q1293.71 1547.27 1292.36 1544.96 M1306.85 1535.91 Q1306.85 1531.21 1304.91 1528.55 Q1302.99 1525.86 1299.61 1525.86 Q1296.23 1525.86 1294.29 1528.55 Q1292.36 1531.21 1292.36 1535.91 Q1292.36 1540.61 1294.29 1543.29 Q1296.23 1545.95 1299.61 1545.95 Q1302.99 1545.95 1304.91 1543.29 Q1306.85 1540.61 1306.85 1535.91 Z\" fill=\"#000000\" fill-rule=\"nonzero\" fill-opacity=\"1\" /><path clip-path=\"url(#clip100)\" d=\"M1339.89 1533.2 L1339.89 1548.85 L1335.63 1548.85 L1335.63 1533.34 Q1335.63 1529.66 1334.19 1527.83 Q1332.76 1526 1329.89 1526 Q1326.44 1526 1324.45 1528.2 Q1322.46 1530.4 1322.46 1534.2 L1322.46 1548.85 L1318.17 1548.85 L1318.17 1512.83 L1322.46 1512.83 L1322.46 1526.95 Q1323.98 1524.61 1326.04 1523.45 Q1328.13 1522.3 1330.84 1522.3 Q1335.3 1522.3 1337.6 1525.07 Q1339.89 1527.83 1339.89 1533.2 Z\" fill=\"#000000\" fill-rule=\"nonzero\" fill-opacity=\"1\" /><path clip-path=\"url(#clip100)\" d=\"M1521.6 1518.13 L1521.6 1531.12 L1527.48 1531.12 Q1530.74 1531.12 1532.52 1529.43 Q1534.31 1527.74 1534.31 1524.61 Q1534.31 1521.51 1532.52 1519.82 Q1530.74 1518.13 1527.48 1518.13 L1521.6 1518.13 M1516.92 1514.29 L1527.48 1514.29 Q1533.29 1514.29 1536.25 1516.93 Q1539.24 1519.54 1539.24 1524.61 Q1539.24 1529.73 1536.25 1532.34 Q1533.29 1534.96 1527.48 1534.96 L1521.6 1534.96 L1521.6 1548.85 L1516.92 1548.85 L1516.92 1514.29 Z\" fill=\"#000000\" fill-rule=\"nonzero\" fill-opacity=\"1\" /><path clip-path=\"url(#clip100)\" d=\"M1565.81 1534.82 L1565.81 1536.9 L1546.23 1536.9 Q1546.5 1541.3 1548.87 1543.62 Q1551.25 1545.91 1555.49 1545.91 Q1557.94 1545.91 1560.23 1545.31 Q1562.55 1544.7 1564.82 1543.5 L1564.82 1547.53 Q1562.52 1548.5 1560.12 1549.01 Q1557.71 1549.52 1555.23 1549.52 Q1549.03 1549.52 1545.39 1545.91 Q1541.78 1542.3 1541.78 1536.14 Q1541.78 1529.77 1545.21 1526.05 Q1548.66 1522.3 1554.49 1522.3 Q1559.72 1522.3 1562.75 1525.68 Q1565.81 1529.03 1565.81 1534.82 M1561.55 1533.57 Q1561.5 1530.07 1559.58 1527.99 Q1557.69 1525.91 1554.54 1525.91 Q1550.97 1525.91 1548.82 1527.92 Q1546.69 1529.94 1546.37 1533.59 L1561.55 1533.57 Z\" fill=\"#000000\" fill-rule=\"nonzero\" fill-opacity=\"1\" /><path clip-path=\"url(#clip100)\" d=\"M1577.01 1515.56 L1577.01 1522.92 L1585.79 1522.92 L1585.79 1526.23 L1577.01 1526.23 L1577.01 1540.31 Q1577.01 1543.48 1577.87 1544.38 Q1578.75 1545.28 1581.41 1545.28 L1585.79 1545.28 L1585.79 1548.85 L1581.41 1548.85 Q1576.48 1548.85 1574.61 1547.02 Q1572.73 1545.17 1572.73 1540.31 L1572.73 1526.23 L1569.61 1526.23 L1569.61 1522.92 L1572.73 1522.92 L1572.73 1515.56 L1577.01 1515.56 Z\" fill=\"#000000\" fill-rule=\"nonzero\" fill-opacity=\"1\" /><path clip-path=\"url(#clip100)\" d=\"M1603.17 1535.82 Q1598.01 1535.82 1596.02 1537 Q1594.03 1538.18 1594.03 1541.02 Q1594.03 1543.29 1595.51 1544.63 Q1597.01 1545.95 1599.58 1545.95 Q1603.13 1545.95 1605.25 1543.45 Q1607.41 1540.93 1607.41 1536.76 L1607.41 1535.82 L1603.17 1535.82 M1611.67 1534.06 L1611.67 1548.85 L1607.41 1548.85 L1607.41 1544.91 Q1605.95 1547.27 1603.77 1548.41 Q1601.6 1549.52 1598.45 1549.52 Q1594.47 1549.52 1592.11 1547.3 Q1589.77 1545.05 1589.77 1541.3 Q1589.77 1536.93 1592.69 1534.7 Q1595.63 1532.48 1601.44 1532.48 L1607.41 1532.48 L1607.41 1532.07 Q1607.41 1529.13 1605.46 1527.53 Q1603.54 1525.91 1600.05 1525.91 Q1597.82 1525.91 1595.72 1526.44 Q1593.61 1526.97 1591.67 1528.04 L1591.67 1524.1 Q1594 1523.2 1596.2 1522.76 Q1598.4 1522.3 1600.49 1522.3 Q1606.11 1522.3 1608.89 1525.21 Q1611.67 1528.13 1611.67 1534.06 Z\" fill=\"#000000\" fill-rule=\"nonzero\" fill-opacity=\"1\" /><path clip-path=\"url(#clip100)\" d=\"M1620.44 1512.83 L1624.7 1512.83 L1624.7 1548.85 L1620.44 1548.85 L1620.44 1512.83 Z\" fill=\"#000000\" fill-rule=\"nonzero\" fill-opacity=\"1\" /><path clip-path=\"url(#clip100)\" d=\"M1846.29 1515.42 L1846.29 1519.98 Q1843.63 1518.71 1841.27 1518.08 Q1838.91 1517.46 1836.71 1517.46 Q1832.89 1517.46 1830.81 1518.94 Q1828.75 1520.42 1828.75 1523.15 Q1828.75 1525.45 1830.11 1526.63 Q1831.5 1527.78 1835.34 1528.5 L1838.17 1529.08 Q1843.4 1530.07 1845.88 1532.6 Q1848.38 1535.1 1848.38 1539.31 Q1848.38 1544.33 1845 1546.93 Q1841.64 1549.52 1835.14 1549.52 Q1832.68 1549.52 1829.9 1548.96 Q1827.15 1548.41 1824.19 1547.32 L1824.19 1542.51 Q1827.03 1544.1 1829.77 1544.91 Q1832.5 1545.72 1835.14 1545.72 Q1839.14 1545.72 1841.32 1544.15 Q1843.49 1542.57 1843.49 1539.66 Q1843.49 1537.11 1841.92 1535.68 Q1840.37 1534.24 1836.8 1533.52 L1833.96 1532.97 Q1828.72 1531.93 1826.39 1529.7 Q1824.05 1527.48 1824.05 1523.52 Q1824.05 1518.94 1827.27 1516.3 Q1830.51 1513.66 1836.18 1513.66 Q1838.61 1513.66 1841.13 1514.1 Q1843.65 1514.54 1846.29 1515.42 Z\" fill=\"#000000\" fill-rule=\"nonzero\" fill-opacity=\"1\" /><path clip-path=\"url(#clip100)\" d=\"M1859.7 1515.56 L1859.7 1522.92 L1868.47 1522.92 L1868.47 1526.23 L1859.7 1526.23 L1859.7 1540.31 Q1859.7 1543.48 1860.55 1544.38 Q1861.43 1545.28 1864.09 1545.28 L1868.47 1545.28 L1868.47 1548.85 L1864.09 1548.85 Q1859.16 1548.85 1857.29 1547.02 Q1855.41 1545.17 1855.41 1540.31 L1855.41 1526.23 L1852.29 1526.23 L1852.29 1522.92 L1855.41 1522.92 L1855.41 1515.56 L1859.7 1515.56 Z\" fill=\"#000000\" fill-rule=\"nonzero\" fill-opacity=\"1\" /><path clip-path=\"url(#clip100)\" d=\"M1885.85 1535.82 Q1880.69 1535.82 1878.7 1537 Q1876.71 1538.18 1876.71 1541.02 Q1876.71 1543.29 1878.19 1544.63 Q1879.7 1545.95 1882.27 1545.95 Q1885.81 1545.95 1887.94 1543.45 Q1890.09 1540.93 1890.09 1536.76 L1890.09 1535.82 L1885.85 1535.82 M1894.35 1534.06 L1894.35 1548.85 L1890.09 1548.85 L1890.09 1544.91 Q1888.63 1547.27 1886.46 1548.41 Q1884.28 1549.52 1881.13 1549.52 Q1877.15 1549.52 1874.79 1547.3 Q1872.45 1545.05 1872.45 1541.3 Q1872.45 1536.93 1875.37 1534.7 Q1878.31 1532.48 1884.12 1532.48 L1890.09 1532.48 L1890.09 1532.07 Q1890.09 1529.13 1888.15 1527.53 Q1886.22 1525.91 1882.73 1525.91 Q1880.51 1525.91 1878.4 1526.44 Q1876.29 1526.97 1874.35 1528.04 L1874.35 1524.1 Q1876.69 1523.2 1878.89 1522.76 Q1881.09 1522.3 1883.17 1522.3 Q1888.79 1522.3 1891.57 1525.21 Q1894.35 1528.13 1894.35 1534.06 Z\" fill=\"#000000\" fill-rule=\"nonzero\" fill-opacity=\"1\" /><path clip-path=\"url(#clip100)\" d=\"M1918.15 1526.9 Q1917.43 1526.49 1916.57 1526.3 Q1915.74 1526.09 1914.72 1526.09 Q1911.11 1526.09 1909.16 1528.45 Q1907.24 1530.79 1907.24 1535.19 L1907.24 1548.85 L1902.96 1548.85 L1902.96 1522.92 L1907.24 1522.92 L1907.24 1526.95 Q1908.58 1524.59 1910.74 1523.45 Q1912.89 1522.3 1915.97 1522.3 Q1916.41 1522.3 1916.94 1522.37 Q1917.47 1522.41 1918.12 1522.53 L1918.15 1526.9 Z\" fill=\"#000000\" fill-rule=\"nonzero\" fill-opacity=\"1\" /><path clip-path=\"url(#clip100)\" d=\"M2123.19 1514.29 L2152.42 1514.29 L2152.42 1518.22 L2140.16 1518.22 L2140.16 1548.85 L2135.46 1548.85 L2135.46 1518.22 L2123.19 1518.22 L2123.19 1514.29 Z\" fill=\"#000000\" fill-rule=\"nonzero\" fill-opacity=\"1\" /><path clip-path=\"url(#clip100)\" d=\"M2164.81 1526.9 Q2164.09 1526.49 2163.23 1526.3 Q2162.4 1526.09 2161.38 1526.09 Q2157.77 1526.09 2155.83 1528.45 Q2153.91 1530.79 2153.91 1535.19 L2153.91 1548.85 L2149.62 1548.85 L2149.62 1522.92 L2153.91 1522.92 L2153.91 1526.95 Q2155.25 1524.59 2157.4 1523.45 Q2159.55 1522.3 2162.63 1522.3 Q2163.07 1522.3 2163.61 1522.37 Q2164.14 1522.41 2164.79 1522.53 L2164.81 1526.9 Z\" fill=\"#000000\" fill-rule=\"nonzero\" fill-opacity=\"1\" /><path clip-path=\"url(#clip100)\" d=\"M2190.41 1534.82 L2190.41 1536.9 L2170.83 1536.9 Q2171.11 1541.3 2173.47 1543.62 Q2175.85 1545.91 2180.09 1545.91 Q2182.54 1545.91 2184.83 1545.31 Q2187.15 1544.7 2189.42 1543.5 L2189.42 1547.53 Q2187.12 1548.5 2184.72 1549.01 Q2182.31 1549.52 2179.83 1549.52 Q2173.63 1549.52 2169.99 1545.91 Q2166.38 1542.3 2166.38 1536.14 Q2166.38 1529.77 2169.81 1526.05 Q2173.26 1522.3 2179.09 1522.3 Q2184.32 1522.3 2187.36 1525.68 Q2190.41 1529.03 2190.41 1534.82 M2186.15 1533.57 Q2186.11 1530.07 2184.18 1527.99 Q2182.29 1525.91 2179.14 1525.91 Q2175.57 1525.91 2173.42 1527.92 Q2171.29 1529.94 2170.97 1533.59 L2186.15 1533.57 Z\" fill=\"#000000\" fill-rule=\"nonzero\" fill-opacity=\"1\" /><path clip-path=\"url(#clip100)\" d=\"M2219.58 1534.82 L2219.58 1536.9 L2199.99 1536.9 Q2200.27 1541.3 2202.63 1543.62 Q2205.02 1545.91 2209.25 1545.91 Q2211.71 1545.91 2214 1545.31 Q2216.31 1544.7 2218.58 1543.5 L2218.58 1547.53 Q2216.29 1548.5 2213.88 1549.01 Q2211.48 1549.52 2209 1549.52 Q2202.79 1549.52 2199.16 1545.91 Q2195.55 1542.3 2195.55 1536.14 Q2195.55 1529.77 2198.98 1526.05 Q2202.42 1522.3 2208.26 1522.3 Q2213.49 1522.3 2216.52 1525.68 Q2219.58 1529.03 2219.58 1534.82 M2215.32 1533.57 Q2215.27 1530.07 2213.35 1527.99 Q2211.45 1525.91 2208.3 1525.91 Q2204.74 1525.91 2202.59 1527.92 Q2200.46 1529.94 2200.13 1533.59 L2215.32 1533.57 Z\" fill=\"#000000\" fill-rule=\"nonzero\" fill-opacity=\"1\" /><polyline clip-path=\"url(#clip102)\" style=\"stroke:#000000; stroke-linecap:round; stroke-linejoin:round; stroke-width:2; stroke-opacity:0.1; fill:none\" points=\"188.292,1401.79 2352.76,1401.79 \"/>\n",
       "<polyline clip-path=\"url(#clip102)\" style=\"stroke:#000000; stroke-linecap:round; stroke-linejoin:round; stroke-width:2; stroke-opacity:0.1; fill:none\" points=\"188.292,978.494 2352.76,978.494 \"/>\n",
       "<polyline clip-path=\"url(#clip102)\" style=\"stroke:#000000; stroke-linecap:round; stroke-linejoin:round; stroke-width:2; stroke-opacity:0.1; fill:none\" points=\"188.292,555.198 2352.76,555.198 \"/>\n",
       "<polyline clip-path=\"url(#clip102)\" style=\"stroke:#000000; stroke-linecap:round; stroke-linejoin:round; stroke-width:2; stroke-opacity:0.1; fill:none\" points=\"188.292,131.903 2352.76,131.903 \"/>\n",
       "<polyline clip-path=\"url(#clip100)\" style=\"stroke:#000000; stroke-linecap:round; stroke-linejoin:round; stroke-width:4; stroke-opacity:1; fill:none\" points=\"188.292,1486.45 188.292,47.2441 \"/>\n",
       "<polyline clip-path=\"url(#clip100)\" style=\"stroke:#000000; stroke-linecap:round; stroke-linejoin:round; stroke-width:4; stroke-opacity:1; fill:none\" points=\"188.292,1401.79 207.19,1401.79 \"/>\n",
       "<polyline clip-path=\"url(#clip100)\" style=\"stroke:#000000; stroke-linecap:round; stroke-linejoin:round; stroke-width:4; stroke-opacity:1; fill:none\" points=\"188.292,978.494 207.19,978.494 \"/>\n",
       "<polyline clip-path=\"url(#clip100)\" style=\"stroke:#000000; stroke-linecap:round; stroke-linejoin:round; stroke-width:4; stroke-opacity:1; fill:none\" points=\"188.292,555.198 207.19,555.198 \"/>\n",
       "<polyline clip-path=\"url(#clip100)\" style=\"stroke:#000000; stroke-linecap:round; stroke-linejoin:round; stroke-width:4; stroke-opacity:1; fill:none\" points=\"188.292,131.903 207.19,131.903 \"/>\n",
       "<path clip-path=\"url(#clip100)\" d=\"M51.6634 1421.58 L59.3023 1421.58 L59.3023 1395.22 L50.9921 1396.88 L50.9921 1392.62 L59.256 1390.96 L63.9319 1390.96 L63.9319 1421.58 L71.5707 1421.58 L71.5707 1425.52 L51.6634 1425.52 L51.6634 1421.58 Z\" fill=\"#000000\" fill-rule=\"nonzero\" fill-opacity=\"1\" /><path clip-path=\"url(#clip100)\" d=\"M91.0151 1394.04 Q87.404 1394.04 85.5753 1397.6 Q83.7697 1401.14 83.7697 1408.27 Q83.7697 1415.38 85.5753 1418.94 Q87.404 1422.48 91.0151 1422.48 Q94.6493 1422.48 96.4548 1418.94 Q98.2835 1415.38 98.2835 1408.27 Q98.2835 1401.14 96.4548 1397.6 Q94.6493 1394.04 91.0151 1394.04 M91.0151 1390.33 Q96.8252 1390.33 99.8808 1394.94 Q102.959 1399.52 102.959 1408.27 Q102.959 1417 99.8808 1421.6 Q96.8252 1426.19 91.0151 1426.19 Q85.2049 1426.19 82.1262 1421.6 Q79.0707 1417 79.0707 1408.27 Q79.0707 1399.52 82.1262 1394.94 Q85.2049 1390.33 91.0151 1390.33 Z\" fill=\"#000000\" fill-rule=\"nonzero\" fill-opacity=\"1\" /><path clip-path=\"url(#clip100)\" d=\"M102.959 1384.43 L127.071 1384.43 L127.071 1387.63 L102.959 1387.63 L102.959 1384.43 Z\" fill=\"#000000\" fill-rule=\"nonzero\" fill-opacity=\"1\" /><path clip-path=\"url(#clip100)\" d=\"M135.309 1370.03 L150.223 1370.03 L150.223 1373.22 L138.788 1373.22 L138.788 1380.11 Q139.616 1379.82 140.443 1379.69 Q141.271 1379.54 142.098 1379.54 Q146.8 1379.54 149.546 1382.12 Q152.292 1384.7 152.292 1389.1 Q152.292 1393.63 149.471 1396.15 Q146.65 1398.65 141.515 1398.65 Q139.747 1398.65 137.904 1398.35 Q136.08 1398.05 134.124 1397.45 L134.124 1393.63 Q135.817 1394.55 137.622 1395 Q139.428 1395.45 141.44 1395.45 Q144.694 1395.45 146.593 1393.74 Q148.493 1392.03 148.493 1389.1 Q148.493 1386.16 146.593 1384.45 Q144.694 1382.74 141.44 1382.74 Q139.917 1382.74 138.393 1383.08 Q136.889 1383.42 135.309 1384.13 L135.309 1370.03 Z\" fill=\"#000000\" fill-rule=\"nonzero\" fill-opacity=\"1\" /><path clip-path=\"url(#clip100)\" d=\"M81.5866 998.286 L89.2254 998.286 L89.2254 971.92 L80.9153 973.587 L80.9153 969.328 L89.1791 967.661 L93.855 967.661 L93.855 998.286 L101.494 998.286 L101.494 1002.22 L81.5866 1002.22 L81.5866 998.286 Z\" fill=\"#000000\" fill-rule=\"nonzero\" fill-opacity=\"1\" /><path clip-path=\"url(#clip100)\" d=\"M120.938 970.74 Q117.327 970.74 115.498 974.305 Q113.693 977.846 113.693 984.976 Q113.693 992.082 115.498 995.647 Q117.327 999.189 120.938 999.189 Q124.572 999.189 126.378 995.647 Q128.207 992.082 128.207 984.976 Q128.207 977.846 126.378 974.305 Q124.572 970.74 120.938 970.74 M120.938 967.036 Q126.748 967.036 129.804 971.643 Q132.883 976.226 132.883 984.976 Q132.883 993.703 129.804 998.309 Q126.748 1002.89 120.938 1002.89 Q115.128 1002.89 112.049 998.309 Q108.994 993.703 108.994 984.976 Q108.994 976.226 112.049 971.643 Q115.128 967.036 120.938 967.036 Z\" fill=\"#000000\" fill-rule=\"nonzero\" fill-opacity=\"1\" /><path clip-path=\"url(#clip100)\" d=\"M142.587 949.232 Q139.653 949.232 138.168 952.129 Q136.701 955.006 136.701 960.799 Q136.701 966.573 138.168 969.469 Q139.653 972.347 142.587 972.347 Q145.54 972.347 147.007 969.469 Q148.493 966.573 148.493 960.799 Q148.493 955.006 147.007 952.129 Q145.54 949.232 142.587 949.232 M142.587 946.223 Q147.308 946.223 149.791 949.966 Q152.292 953.69 152.292 960.799 Q152.292 967.89 149.791 971.632 Q147.308 975.356 142.587 975.356 Q137.867 975.356 135.365 971.632 Q132.883 967.89 132.883 960.799 Q132.883 953.69 135.365 949.966 Q137.867 946.223 142.587 946.223 Z\" fill=\"#000000\" fill-rule=\"nonzero\" fill-opacity=\"1\" /><path clip-path=\"url(#clip100)\" d=\"M82.8279 574.991 L90.4667 574.991 L90.4667 548.625 L82.1566 550.292 L82.1566 546.033 L90.4204 544.366 L95.0963 544.366 L95.0963 574.991 L102.735 574.991 L102.735 578.926 L82.8279 578.926 L82.8279 574.991 Z\" fill=\"#000000\" fill-rule=\"nonzero\" fill-opacity=\"1\" /><path clip-path=\"url(#clip100)\" d=\"M122.18 547.445 Q118.568 547.445 116.74 551.009 Q114.934 554.551 114.934 561.681 Q114.934 568.787 116.74 572.352 Q118.568 575.894 122.18 575.894 Q125.814 575.894 127.619 572.352 Q129.448 568.787 129.448 561.681 Q129.448 554.551 127.619 551.009 Q125.814 547.445 122.18 547.445 M122.18 543.741 Q127.99 543.741 131.045 548.347 Q134.124 552.931 134.124 561.681 Q134.124 570.407 131.045 575.014 Q127.99 579.597 122.18 579.597 Q116.369 579.597 113.291 575.014 Q110.235 570.407 110.235 561.681 Q110.235 552.931 113.291 548.347 Q116.369 543.741 122.18 543.741 Z\" fill=\"#000000\" fill-rule=\"nonzero\" fill-opacity=\"1\" /><path clip-path=\"url(#clip100)\" d=\"M135.309 523.436 L150.223 523.436 L150.223 526.633 L138.788 526.633 L138.788 533.517 Q139.616 533.234 140.443 533.103 Q141.271 532.952 142.098 532.952 Q146.8 532.952 149.546 535.529 Q152.292 538.106 152.292 542.507 Q152.292 547.039 149.471 549.56 Q146.65 552.061 141.515 552.061 Q139.747 552.061 137.904 551.76 Q136.08 551.459 134.124 550.857 L134.124 547.039 Q135.817 547.961 137.622 548.412 Q139.428 548.864 141.44 548.864 Q144.694 548.864 146.593 547.152 Q148.493 545.441 148.493 542.507 Q148.493 539.573 146.593 537.861 Q144.694 536.15 141.44 536.15 Q139.917 536.15 138.393 536.488 Q136.889 536.827 135.309 537.541 L135.309 523.436 Z\" fill=\"#000000\" fill-rule=\"nonzero\" fill-opacity=\"1\" /><path clip-path=\"url(#clip100)\" d=\"M58.7728 151.696 L66.4116 151.696 L66.4116 125.33 L58.1015 126.997 L58.1015 122.737 L66.3653 121.071 L71.0412 121.071 L71.0412 151.696 L78.6801 151.696 L78.6801 155.631 L58.7728 155.631 L58.7728 151.696 Z\" fill=\"#000000\" fill-rule=\"nonzero\" fill-opacity=\"1\" /><path clip-path=\"url(#clip100)\" d=\"M98.1244 124.149 Q94.5133 124.149 92.6846 127.714 Q90.8791 131.256 90.8791 138.385 Q90.8791 145.492 92.6846 149.057 Q94.5133 152.598 98.1244 152.598 Q101.759 152.598 103.564 149.057 Q105.393 145.492 105.393 138.385 Q105.393 131.256 103.564 127.714 Q101.759 124.149 98.1244 124.149 M98.1244 120.446 Q103.935 120.446 106.99 125.052 Q110.069 129.636 110.069 138.385 Q110.069 147.112 106.99 151.719 Q103.935 156.302 98.1244 156.302 Q92.3142 156.302 89.2356 151.719 Q86.18 147.112 86.18 138.385 Q86.18 129.636 89.2356 125.052 Q92.3142 120.446 98.1244 120.446 Z\" fill=\"#000000\" fill-rule=\"nonzero\" fill-opacity=\"1\" /><path clip-path=\"url(#clip100)\" d=\"M110.614 125.023 L116.821 125.023 L116.821 103.601 L110.069 104.955 L110.069 101.494 L116.783 100.14 L120.582 100.14 L120.582 125.023 L126.789 125.023 L126.789 128.22 L110.614 128.22 L110.614 125.023 Z\" fill=\"#000000\" fill-rule=\"nonzero\" fill-opacity=\"1\" /><path clip-path=\"url(#clip100)\" d=\"M142.587 102.642 Q139.653 102.642 138.168 105.538 Q136.701 108.416 136.701 114.209 Q136.701 119.983 138.168 122.879 Q139.653 125.757 142.587 125.757 Q145.54 125.757 147.007 122.879 Q148.493 119.983 148.493 114.209 Q148.493 108.416 147.007 105.538 Q145.54 102.642 142.587 102.642 M142.587 99.6325 Q147.308 99.6325 149.791 103.375 Q152.292 107.099 152.292 114.209 Q152.292 121.299 149.791 125.042 Q147.308 128.766 142.587 128.766 Q137.867 128.766 135.365 125.042 Q132.883 121.299 132.883 114.209 Q132.883 107.099 135.365 103.375 Q137.867 99.6325 142.587 99.6325 Z\" fill=\"#000000\" fill-rule=\"nonzero\" fill-opacity=\"1\" /><path clip-path=\"url(#clip102)\" d=\"M369.665 1259.52 L309.608 1259.52 L429.722 1259.52 L369.665 1259.52 L369.665 1069.91 L369.665 1259.52  Z\" fill=\"#009af9\" fill-rule=\"evenodd\" fill-opacity=\"0.5\"/>\n",
       "<polyline clip-path=\"url(#clip102)\" style=\"stroke:#000000; stroke-linecap:round; stroke-linejoin:round; stroke-width:8; stroke-opacity:1; fill:none\" points=\"369.665,1259.52 309.608,1259.52 429.722,1259.52 369.665,1259.52 369.665,1069.91 369.665,1259.52 \"/>\n",
       "<path clip-path=\"url(#clip102)\" d=\"M489.78 1069.91 L489.78 996.869 L249.551 996.869 L249.551 1069.91 L489.78 1069.91 L489.78 996.869 L489.78 1069.91  Z\" fill=\"#009af9\" fill-rule=\"evenodd\" fill-opacity=\"0.5\"/>\n",
       "<polyline clip-path=\"url(#clip102)\" style=\"stroke:#000000; stroke-linecap:round; stroke-linejoin:round; stroke-width:8; stroke-opacity:1; fill:none\" points=\"489.78,1069.91 489.78,996.869 249.551,996.869 249.551,1069.91 489.78,1069.91 489.78,996.869 489.78,1069.91 \"/>\n",
       "<path clip-path=\"url(#clip102)\" d=\"M489.78 940.122 L249.551 940.122 L249.551 996.869 L489.78 996.869 L489.78 940.122 L369.665 940.122 L489.78 940.122  Z\" fill=\"#009af9\" fill-rule=\"evenodd\" fill-opacity=\"0.5\"/>\n",
       "<polyline clip-path=\"url(#clip102)\" style=\"stroke:#000000; stroke-linecap:round; stroke-linejoin:round; stroke-width:8; stroke-opacity:1; fill:none\" points=\"489.78,940.122 249.551,940.122 249.551,996.869 489.78,996.869 489.78,940.122 369.665,940.122 489.78,940.122 \"/>\n",
       "<path clip-path=\"url(#clip102)\" d=\"M369.665 907.769 L309.608 907.769 L429.722 907.769 L369.665 907.769 L369.665 940.122 L369.665 907.769  Z\" fill=\"#009af9\" fill-rule=\"evenodd\" fill-opacity=\"0.5\"/>\n",
       "<polyline clip-path=\"url(#clip102)\" style=\"stroke:#000000; stroke-linecap:round; stroke-linejoin:round; stroke-width:8; stroke-opacity:1; fill:none\" points=\"369.665,907.769 309.608,907.769 429.722,907.769 369.665,907.769 369.665,940.122 369.665,907.769 \"/>\n",
       "<path clip-path=\"url(#clip102)\" d=\"M669.951 1234.82 L609.894 1234.82 L730.009 1234.82 L669.951 1234.82 L669.951 1051.22 L669.951 1234.82  Z\" fill=\"#009af9\" fill-rule=\"evenodd\" fill-opacity=\"0.5\"/>\n",
       "<polyline clip-path=\"url(#clip102)\" style=\"stroke:#000000; stroke-linecap:round; stroke-linejoin:round; stroke-width:8; stroke-opacity:1; fill:none\" points=\"669.951,1234.82 609.894,1234.82 730.009,1234.82 669.951,1234.82 669.951,1051.22 669.951,1234.82 \"/>\n",
       "<path clip-path=\"url(#clip102)\" d=\"M790.066 1051.22 L790.066 1028.43 L549.837 1028.43 L549.837 1051.22 L790.066 1051.22 L790.066 1028.43 L790.066 1051.22  Z\" fill=\"#009af9\" fill-rule=\"evenodd\" fill-opacity=\"0.5\"/>\n",
       "<polyline clip-path=\"url(#clip102)\" style=\"stroke:#000000; stroke-linecap:round; stroke-linejoin:round; stroke-width:8; stroke-opacity:1; fill:none\" points=\"790.066,1051.22 790.066,1028.43 549.837,1028.43 549.837,1051.22 790.066,1051.22 790.066,1028.43 790.066,1051.22 \"/>\n",
       "<path clip-path=\"url(#clip102)\" d=\"M790.066 1003.84 L549.837 1003.84 L549.837 1028.43 L790.066 1028.43 L790.066 1003.84 L669.951 1003.84 L790.066 1003.84  Z\" fill=\"#009af9\" fill-rule=\"evenodd\" fill-opacity=\"0.5\"/>\n",
       "<polyline clip-path=\"url(#clip102)\" style=\"stroke:#000000; stroke-linecap:round; stroke-linejoin:round; stroke-width:8; stroke-opacity:1; fill:none\" points=\"790.066,1003.84 549.837,1003.84 549.837,1028.43 790.066,1028.43 790.066,1003.84 669.951,1003.84 790.066,1003.84 \"/>\n",
       "<path clip-path=\"url(#clip102)\" d=\"M669.951 998.358 L609.894 998.358 L730.009 998.358 L669.951 998.358 L669.951 1003.84 L669.951 998.358  Z\" fill=\"#009af9\" fill-rule=\"evenodd\" fill-opacity=\"0.5\"/>\n",
       "<polyline clip-path=\"url(#clip102)\" style=\"stroke:#000000; stroke-linecap:round; stroke-linejoin:round; stroke-width:8; stroke-opacity:1; fill:none\" points=\"669.951,998.358 609.894,998.358 730.009,998.358 669.951,998.358 669.951,1003.84 669.951,998.358 \"/>\n",
       "<path clip-path=\"url(#clip102)\" d=\"M970.238 1343.18 L910.18 1343.18 L1030.3 1343.18 L970.238 1343.18 L970.238 1098 L970.238 1343.18  Z\" fill=\"#009af9\" fill-rule=\"evenodd\" fill-opacity=\"0.5\"/>\n",
       "<polyline clip-path=\"url(#clip102)\" style=\"stroke:#000000; stroke-linecap:round; stroke-linejoin:round; stroke-width:8; stroke-opacity:1; fill:none\" points=\"970.238,1343.18 910.18,1343.18 1030.3,1343.18 970.238,1343.18 970.238,1098 970.238,1343.18 \"/>\n",
       "<path clip-path=\"url(#clip102)\" d=\"M1090.35 1098 L1090.35 1005.93 L850.123 1005.93 L850.123 1098 L1090.35 1098 L1090.35 1005.93 L1090.35 1098  Z\" fill=\"#009af9\" fill-rule=\"evenodd\" fill-opacity=\"0.5\"/>\n",
       "<polyline clip-path=\"url(#clip102)\" style=\"stroke:#000000; stroke-linecap:round; stroke-linejoin:round; stroke-width:8; stroke-opacity:1; fill:none\" points=\"1090.35,1098 1090.35,1005.93 850.123,1005.93 850.123,1098 1090.35,1098 1090.35,1005.93 1090.35,1098 \"/>\n",
       "<path clip-path=\"url(#clip102)\" d=\"M1090.35 901.869 L850.123 901.869 L850.123 1005.93 L1090.35 1005.93 L1090.35 901.869 L970.238 901.869 L1090.35 901.869  Z\" fill=\"#009af9\" fill-rule=\"evenodd\" fill-opacity=\"0.5\"/>\n",
       "<polyline clip-path=\"url(#clip102)\" style=\"stroke:#000000; stroke-linecap:round; stroke-linejoin:round; stroke-width:8; stroke-opacity:1; fill:none\" points=\"1090.35,901.869 850.123,901.869 850.123,1005.93 1090.35,1005.93 1090.35,901.869 970.238,901.869 1090.35,901.869 \"/>\n",
       "<path clip-path=\"url(#clip102)\" d=\"M970.238 875.985 L910.18 875.985 L1030.3 875.985 L970.238 875.985 L970.238 901.869 L970.238 875.985  Z\" fill=\"#009af9\" fill-rule=\"evenodd\" fill-opacity=\"0.5\"/>\n",
       "<polyline clip-path=\"url(#clip102)\" style=\"stroke:#000000; stroke-linecap:round; stroke-linejoin:round; stroke-width:8; stroke-opacity:1; fill:none\" points=\"970.238,875.985 910.18,875.985 1030.3,875.985 970.238,875.985 970.238,901.869 970.238,875.985 \"/>\n",
       "<path clip-path=\"url(#clip102)\" d=\"M1270.52 1288.18 L1210.47 1288.18 L1330.58 1288.18 L1270.52 1288.18 L1270.52 1026.41 L1270.52 1288.18  Z\" fill=\"#009af9\" fill-rule=\"evenodd\" fill-opacity=\"0.5\"/>\n",
       "<polyline clip-path=\"url(#clip102)\" style=\"stroke:#000000; stroke-linecap:round; stroke-linejoin:round; stroke-width:8; stroke-opacity:1; fill:none\" points=\"1270.52,1288.18 1210.47,1288.18 1330.58,1288.18 1270.52,1288.18 1270.52,1026.41 1270.52,1288.18 \"/>\n",
       "<path clip-path=\"url(#clip102)\" d=\"M1390.64 1026.41 L1390.64 997.347 L1150.41 997.347 L1150.41 1026.41 L1390.64 1026.41 L1390.64 997.347 L1390.64 1026.41  Z\" fill=\"#009af9\" fill-rule=\"evenodd\" fill-opacity=\"0.5\"/>\n",
       "<polyline clip-path=\"url(#clip102)\" style=\"stroke:#000000; stroke-linecap:round; stroke-linejoin:round; stroke-width:8; stroke-opacity:1; fill:none\" points=\"1390.64,1026.41 1390.64,997.347 1150.41,997.347 1150.41,1026.41 1390.64,1026.41 1390.64,997.347 1390.64,1026.41 \"/>\n",
       "<path clip-path=\"url(#clip102)\" d=\"M1390.64 984.758 L1150.41 984.758 L1150.41 997.347 L1390.64 997.347 L1390.64 984.758 L1270.52 984.758 L1390.64 984.758  Z\" fill=\"#009af9\" fill-rule=\"evenodd\" fill-opacity=\"0.5\"/>\n",
       "<polyline clip-path=\"url(#clip102)\" style=\"stroke:#000000; stroke-linecap:round; stroke-linejoin:round; stroke-width:8; stroke-opacity:1; fill:none\" points=\"1390.64,984.758 1150.41,984.758 1150.41,997.347 1390.64,997.347 1390.64,984.758 1270.52,984.758 1390.64,984.758 \"/>\n",
       "<path clip-path=\"url(#clip102)\" d=\"M1270.52 972.564 L1210.47 972.564 L1330.58 972.564 L1270.52 972.564 L1270.52 984.758 L1270.52 972.564  Z\" fill=\"#009af9\" fill-rule=\"evenodd\" fill-opacity=\"0.5\"/>\n",
       "<polyline clip-path=\"url(#clip102)\" style=\"stroke:#000000; stroke-linecap:round; stroke-linejoin:round; stroke-width:8; stroke-opacity:1; fill:none\" points=\"1270.52,972.564 1210.47,972.564 1330.58,972.564 1270.52,972.564 1270.52,984.758 1270.52,972.564 \"/>\n",
       "<path clip-path=\"url(#clip102)\" d=\"M1570.81 1112.83 L1510.75 1112.83 L1630.87 1112.83 L1570.81 1112.83 L1570.81 999.783 L1570.81 1112.83  Z\" fill=\"#009af9\" fill-rule=\"evenodd\" fill-opacity=\"0.5\"/>\n",
       "<polyline clip-path=\"url(#clip102)\" style=\"stroke:#000000; stroke-linecap:round; stroke-linejoin:round; stroke-width:8; stroke-opacity:1; fill:none\" points=\"1570.81,1112.83 1510.75,1112.83 1630.87,1112.83 1570.81,1112.83 1570.81,999.783 1570.81,1112.83 \"/>\n",
       "<path clip-path=\"url(#clip102)\" d=\"M1690.92 999.783 L1690.92 932.277 L1450.7 932.277 L1450.7 999.783 L1690.92 999.783 L1690.92 932.277 L1690.92 999.783  Z\" fill=\"#009af9\" fill-rule=\"evenodd\" fill-opacity=\"0.5\"/>\n",
       "<polyline clip-path=\"url(#clip102)\" style=\"stroke:#000000; stroke-linecap:round; stroke-linejoin:round; stroke-width:8; stroke-opacity:1; fill:none\" points=\"1690.92,999.783 1690.92,932.277 1450.7,932.277 1450.7,999.783 1690.92,999.783 1690.92,932.277 1690.92,999.783 \"/>\n",
       "<path clip-path=\"url(#clip102)\" d=\"M1690.92 818.563 L1450.7 818.563 L1450.7 932.277 L1690.92 932.277 L1690.92 818.563 L1570.81 818.563 L1690.92 818.563  Z\" fill=\"#009af9\" fill-rule=\"evenodd\" fill-opacity=\"0.5\"/>\n",
       "<polyline clip-path=\"url(#clip102)\" style=\"stroke:#000000; stroke-linecap:round; stroke-linejoin:round; stroke-width:8; stroke-opacity:1; fill:none\" points=\"1690.92,818.563 1450.7,818.563 1450.7,932.277 1690.92,932.277 1690.92,818.563 1570.81,818.563 1690.92,818.563 \"/>\n",
       "<path clip-path=\"url(#clip102)\" d=\"M1570.81 796.256 L1510.75 796.256 L1630.87 796.256 L1570.81 796.256 L1570.81 818.563 L1570.81 796.256  Z\" fill=\"#009af9\" fill-rule=\"evenodd\" fill-opacity=\"0.5\"/>\n",
       "<polyline clip-path=\"url(#clip102)\" style=\"stroke:#000000; stroke-linecap:round; stroke-linejoin:round; stroke-width:8; stroke-opacity:1; fill:none\" points=\"1570.81,796.256 1510.75,796.256 1630.87,796.256 1570.81,796.256 1570.81,818.563 1570.81,796.256 \"/>\n",
       "<path clip-path=\"url(#clip102)\" d=\"M1871.1 1147.19 L1811.04 1147.19 L1931.15 1147.19 L1871.1 1147.19 L1871.1 1012.48 L1871.1 1147.19  Z\" fill=\"#009af9\" fill-rule=\"evenodd\" fill-opacity=\"0.5\"/>\n",
       "<polyline clip-path=\"url(#clip102)\" style=\"stroke:#000000; stroke-linecap:round; stroke-linejoin:round; stroke-width:8; stroke-opacity:1; fill:none\" points=\"1871.1,1147.19 1811.04,1147.19 1931.15,1147.19 1871.1,1147.19 1871.1,1012.48 1871.1,1147.19 \"/>\n",
       "<path clip-path=\"url(#clip102)\" d=\"M1991.21 1012.48 L1991.21 996.197 L1750.98 996.197 L1750.98 1012.48 L1991.21 1012.48 L1991.21 996.197 L1991.21 1012.48  Z\" fill=\"#009af9\" fill-rule=\"evenodd\" fill-opacity=\"0.5\"/>\n",
       "<polyline clip-path=\"url(#clip102)\" style=\"stroke:#000000; stroke-linecap:round; stroke-linejoin:round; stroke-width:8; stroke-opacity:1; fill:none\" points=\"1991.21,1012.48 1991.21,996.197 1750.98,996.197 1750.98,1012.48 1991.21,1012.48 1991.21,996.197 1991.21,1012.48 \"/>\n",
       "<path clip-path=\"url(#clip102)\" d=\"M1991.21 978.15 L1750.98 978.15 L1750.98 996.197 L1991.21 996.197 L1991.21 978.15 L1871.1 978.15 L1991.21 978.15  Z\" fill=\"#009af9\" fill-rule=\"evenodd\" fill-opacity=\"0.5\"/>\n",
       "<polyline clip-path=\"url(#clip102)\" style=\"stroke:#000000; stroke-linecap:round; stroke-linejoin:round; stroke-width:8; stroke-opacity:1; fill:none\" points=\"1991.21,978.15 1750.98,978.15 1750.98,996.197 1991.21,996.197 1991.21,978.15 1871.1,978.15 1991.21,978.15 \"/>\n",
       "<path clip-path=\"url(#clip102)\" d=\"M1871.1 964.557 L1811.04 964.557 L1931.15 964.557 L1871.1 964.557 L1871.1 978.15 L1871.1 964.557  Z\" fill=\"#009af9\" fill-rule=\"evenodd\" fill-opacity=\"0.5\"/>\n",
       "<polyline clip-path=\"url(#clip102)\" style=\"stroke:#000000; stroke-linecap:round; stroke-linejoin:round; stroke-width:8; stroke-opacity:1; fill:none\" points=\"1871.1,964.557 1811.04,964.557 1931.15,964.557 1871.1,964.557 1871.1,978.15 1871.1,964.557 \"/>\n",
       "<path clip-path=\"url(#clip102)\" d=\"M2171.38 1318.46 L2111.33 1318.46 L2231.44 1318.46 L2171.38 1318.46 L2171.38 1114.3 L2171.38 1318.46  Z\" fill=\"#009af9\" fill-rule=\"evenodd\" fill-opacity=\"0.5\"/>\n",
       "<polyline clip-path=\"url(#clip102)\" style=\"stroke:#000000; stroke-linecap:round; stroke-linejoin:round; stroke-width:8; stroke-opacity:1; fill:none\" points=\"2171.38,1318.46 2111.33,1318.46 2231.44,1318.46 2171.38,1318.46 2171.38,1114.3 2171.38,1318.46 \"/>\n",
       "<path clip-path=\"url(#clip102)\" d=\"M2291.5 1114.3 L2291.5 1039.68 L2051.27 1039.68 L2051.27 1114.3 L2291.5 1114.3 L2291.5 1039.68 L2291.5 1114.3  Z\" fill=\"#009af9\" fill-rule=\"evenodd\" fill-opacity=\"0.5\"/>\n",
       "<polyline clip-path=\"url(#clip102)\" style=\"stroke:#000000; stroke-linecap:round; stroke-linejoin:round; stroke-width:8; stroke-opacity:1; fill:none\" points=\"2291.5,1114.3 2291.5,1039.68 2051.27,1039.68 2051.27,1114.3 2291.5,1114.3 2291.5,1039.68 2291.5,1114.3 \"/>\n",
       "<path clip-path=\"url(#clip102)\" d=\"M2291.5 989.631 L2051.27 989.631 L2051.27 1039.68 L2291.5 1039.68 L2291.5 989.631 L2171.38 989.631 L2291.5 989.631  Z\" fill=\"#009af9\" fill-rule=\"evenodd\" fill-opacity=\"0.5\"/>\n",
       "<polyline clip-path=\"url(#clip102)\" style=\"stroke:#000000; stroke-linecap:round; stroke-linejoin:round; stroke-width:8; stroke-opacity:1; fill:none\" points=\"2291.5,989.631 2051.27,989.631 2051.27,1039.68 2291.5,1039.68 2291.5,989.631 2171.38,989.631 2291.5,989.631 \"/>\n",
       "<path clip-path=\"url(#clip102)\" d=\"M2171.38 969.335 L2111.33 969.335 L2231.44 969.335 L2171.38 969.335 L2171.38 989.631 L2171.38 969.335  Z\" fill=\"#009af9\" fill-rule=\"evenodd\" fill-opacity=\"0.5\"/>\n",
       "<polyline clip-path=\"url(#clip102)\" style=\"stroke:#000000; stroke-linecap:round; stroke-linejoin:round; stroke-width:8; stroke-opacity:1; fill:none\" points=\"2171.38,969.335 2111.33,969.335 2231.44,969.335 2171.38,969.335 2171.38,989.631 2171.38,969.335 \"/>\n",
       "<circle clip-path=\"url(#clip102)\" cx=\"369.665\" cy=\"810.917\" r=\"14.4\" fill=\"#009af9\" fill-rule=\"evenodd\" fill-opacity=\"1\" stroke=\"#000000\" stroke-opacity=\"1\" stroke-width=\"3.2\"/>\n",
       "<circle clip-path=\"url(#clip102)\" cx=\"369.665\" cy=\"861.902\" r=\"14.4\" fill=\"#009af9\" fill-rule=\"evenodd\" fill-opacity=\"1\" stroke=\"#000000\" stroke-opacity=\"1\" stroke-width=\"3.2\"/>\n",
       "<circle clip-path=\"url(#clip102)\" cx=\"369.665\" cy=\"861.902\" r=\"14.4\" fill=\"#009af9\" fill-rule=\"evenodd\" fill-opacity=\"1\" stroke=\"#000000\" stroke-opacity=\"1\" stroke-width=\"3.2\"/>\n",
       "<circle clip-path=\"url(#clip102)\" cx=\"369.665\" cy=\"861.902\" r=\"14.4\" fill=\"#009af9\" fill-rule=\"evenodd\" fill-opacity=\"1\" stroke=\"#000000\" stroke-opacity=\"1\" stroke-width=\"3.2\"/>\n",
       "<circle clip-path=\"url(#clip102)\" cx=\"369.665\" cy=\"861.902\" r=\"14.4\" fill=\"#009af9\" fill-rule=\"evenodd\" fill-opacity=\"1\" stroke=\"#000000\" stroke-opacity=\"1\" stroke-width=\"3.2\"/>\n",
       "<circle clip-path=\"url(#clip102)\" cx=\"369.665\" cy=\"877.874\" r=\"14.4\" fill=\"#009af9\" fill-rule=\"evenodd\" fill-opacity=\"1\" stroke=\"#000000\" stroke-opacity=\"1\" stroke-width=\"3.2\"/>\n",
       "<circle clip-path=\"url(#clip102)\" cx=\"369.665\" cy=\"877.874\" r=\"14.4\" fill=\"#009af9\" fill-rule=\"evenodd\" fill-opacity=\"1\" stroke=\"#000000\" stroke-opacity=\"1\" stroke-width=\"3.2\"/>\n",
       "<circle clip-path=\"url(#clip102)\" cx=\"369.665\" cy=\"877.874\" r=\"14.4\" fill=\"#009af9\" fill-rule=\"evenodd\" fill-opacity=\"1\" stroke=\"#000000\" stroke-opacity=\"1\" stroke-width=\"3.2\"/>\n",
       "<circle clip-path=\"url(#clip102)\" cx=\"369.665\" cy=\"877.874\" r=\"14.4\" fill=\"#009af9\" fill-rule=\"evenodd\" fill-opacity=\"1\" stroke=\"#000000\" stroke-opacity=\"1\" stroke-width=\"3.2\"/>\n",
       "<circle clip-path=\"url(#clip102)\" cx=\"369.665\" cy=\"893.001\" r=\"14.4\" fill=\"#009af9\" fill-rule=\"evenodd\" fill-opacity=\"1\" stroke=\"#000000\" stroke-opacity=\"1\" stroke-width=\"3.2\"/>\n",
       "<circle clip-path=\"url(#clip102)\" cx=\"369.665\" cy=\"873.49\" r=\"14.4\" fill=\"#009af9\" fill-rule=\"evenodd\" fill-opacity=\"1\" stroke=\"#000000\" stroke-opacity=\"1\" stroke-width=\"3.2\"/>\n",
       "<circle clip-path=\"url(#clip102)\" cx=\"369.665\" cy=\"752.799\" r=\"14.4\" fill=\"#009af9\" fill-rule=\"evenodd\" fill-opacity=\"1\" stroke=\"#000000\" stroke-opacity=\"1\" stroke-width=\"3.2\"/>\n",
       "<circle clip-path=\"url(#clip102)\" cx=\"369.665\" cy=\"886.043\" r=\"14.4\" fill=\"#009af9\" fill-rule=\"evenodd\" fill-opacity=\"1\" stroke=\"#000000\" stroke-opacity=\"1\" stroke-width=\"3.2\"/>\n",
       "<circle clip-path=\"url(#clip102)\" cx=\"369.665\" cy=\"853.009\" r=\"14.4\" fill=\"#009af9\" fill-rule=\"evenodd\" fill-opacity=\"1\" stroke=\"#000000\" stroke-opacity=\"1\" stroke-width=\"3.2\"/>\n",
       "<circle clip-path=\"url(#clip102)\" cx=\"369.665\" cy=\"817.53\" r=\"14.4\" fill=\"#009af9\" fill-rule=\"evenodd\" fill-opacity=\"1\" stroke=\"#000000\" stroke-opacity=\"1\" stroke-width=\"3.2\"/>\n",
       "<circle clip-path=\"url(#clip102)\" cx=\"369.665\" cy=\"870.299\" r=\"14.4\" fill=\"#009af9\" fill-rule=\"evenodd\" fill-opacity=\"1\" stroke=\"#000000\" stroke-opacity=\"1\" stroke-width=\"3.2\"/>\n",
       "<circle clip-path=\"url(#clip102)\" cx=\"369.665\" cy=\"871.983\" r=\"14.4\" fill=\"#009af9\" fill-rule=\"evenodd\" fill-opacity=\"1\" stroke=\"#000000\" stroke-opacity=\"1\" stroke-width=\"3.2\"/>\n",
       "<circle clip-path=\"url(#clip102)\" cx=\"369.665\" cy=\"893.007\" r=\"14.4\" fill=\"#009af9\" fill-rule=\"evenodd\" fill-opacity=\"1\" stroke=\"#000000\" stroke-opacity=\"1\" stroke-width=\"3.2\"/>\n",
       "<circle clip-path=\"url(#clip102)\" cx=\"369.665\" cy=\"875.986\" r=\"14.4\" fill=\"#009af9\" fill-rule=\"evenodd\" fill-opacity=\"1\" stroke=\"#000000\" stroke-opacity=\"1\" stroke-width=\"3.2\"/>\n",
       "<circle clip-path=\"url(#clip102)\" cx=\"369.665\" cy=\"865.684\" r=\"14.4\" fill=\"#009af9\" fill-rule=\"evenodd\" fill-opacity=\"1\" stroke=\"#000000\" stroke-opacity=\"1\" stroke-width=\"3.2\"/>\n",
       "<circle clip-path=\"url(#clip102)\" cx=\"369.665\" cy=\"855.818\" r=\"14.4\" fill=\"#009af9\" fill-rule=\"evenodd\" fill-opacity=\"1\" stroke=\"#000000\" stroke-opacity=\"1\" stroke-width=\"3.2\"/>\n",
       "<circle clip-path=\"url(#clip102)\" cx=\"369.665\" cy=\"865.847\" r=\"14.4\" fill=\"#009af9\" fill-rule=\"evenodd\" fill-opacity=\"1\" stroke=\"#000000\" stroke-opacity=\"1\" stroke-width=\"3.2\"/>\n",
       "<circle clip-path=\"url(#clip102)\" cx=\"669.951\" cy=\"852.985\" r=\"14.4\" fill=\"#009af9\" fill-rule=\"evenodd\" fill-opacity=\"1\" stroke=\"#000000\" stroke-opacity=\"1\" stroke-width=\"3.2\"/>\n",
       "<circle clip-path=\"url(#clip102)\" cx=\"669.951\" cy=\"852.985\" r=\"14.4\" fill=\"#009af9\" fill-rule=\"evenodd\" fill-opacity=\"1\" stroke=\"#000000\" stroke-opacity=\"1\" stroke-width=\"3.2\"/>\n",
       "<circle clip-path=\"url(#clip102)\" cx=\"669.951\" cy=\"822.912\" r=\"14.4\" fill=\"#009af9\" fill-rule=\"evenodd\" fill-opacity=\"1\" stroke=\"#000000\" stroke-opacity=\"1\" stroke-width=\"3.2\"/>\n",
       "<circle clip-path=\"url(#clip102)\" cx=\"669.951\" cy=\"852.985\" r=\"14.4\" fill=\"#009af9\" fill-rule=\"evenodd\" fill-opacity=\"1\" stroke=\"#000000\" stroke-opacity=\"1\" stroke-width=\"3.2\"/>\n",
       "<circle clip-path=\"url(#clip102)\" cx=\"669.951\" cy=\"822.912\" r=\"14.4\" fill=\"#009af9\" fill-rule=\"evenodd\" fill-opacity=\"1\" stroke=\"#000000\" stroke-opacity=\"1\" stroke-width=\"3.2\"/>\n",
       "<circle clip-path=\"url(#clip102)\" cx=\"669.951\" cy=\"942.135\" r=\"14.4\" fill=\"#009af9\" fill-rule=\"evenodd\" fill-opacity=\"1\" stroke=\"#000000\" stroke-opacity=\"1\" stroke-width=\"3.2\"/>\n",
       "<circle clip-path=\"url(#clip102)\" cx=\"669.951\" cy=\"936.657\" r=\"14.4\" fill=\"#009af9\" fill-rule=\"evenodd\" fill-opacity=\"1\" stroke=\"#000000\" stroke-opacity=\"1\" stroke-width=\"3.2\"/>\n",
       "<circle clip-path=\"url(#clip102)\" cx=\"669.951\" cy=\"966.729\" r=\"14.4\" fill=\"#009af9\" fill-rule=\"evenodd\" fill-opacity=\"1\" stroke=\"#000000\" stroke-opacity=\"1\" stroke-width=\"3.2\"/>\n",
       "<circle clip-path=\"url(#clip102)\" cx=\"669.951\" cy=\"942.135\" r=\"14.4\" fill=\"#009af9\" fill-rule=\"evenodd\" fill-opacity=\"1\" stroke=\"#000000\" stroke-opacity=\"1\" stroke-width=\"3.2\"/>\n",
       "<circle clip-path=\"url(#clip102)\" cx=\"669.951\" cy=\"942.135\" r=\"14.4\" fill=\"#009af9\" fill-rule=\"evenodd\" fill-opacity=\"1\" stroke=\"#000000\" stroke-opacity=\"1\" stroke-width=\"3.2\"/>\n",
       "<circle clip-path=\"url(#clip102)\" cx=\"669.951\" cy=\"936.657\" r=\"14.4\" fill=\"#009af9\" fill-rule=\"evenodd\" fill-opacity=\"1\" stroke=\"#000000\" stroke-opacity=\"1\" stroke-width=\"3.2\"/>\n",
       "<circle clip-path=\"url(#clip102)\" cx=\"669.951\" cy=\"813.955\" r=\"14.4\" fill=\"#009af9\" fill-rule=\"evenodd\" fill-opacity=\"1\" stroke=\"#000000\" stroke-opacity=\"1\" stroke-width=\"3.2\"/>\n",
       "<circle clip-path=\"url(#clip102)\" cx=\"970.238\" cy=\"637.861\" r=\"14.4\" fill=\"#009af9\" fill-rule=\"evenodd\" fill-opacity=\"1\" stroke=\"#000000\" stroke-opacity=\"1\" stroke-width=\"3.2\"/>\n",
       "<circle clip-path=\"url(#clip102)\" cx=\"970.238\" cy=\"854.773\" r=\"14.4\" fill=\"#009af9\" fill-rule=\"evenodd\" fill-opacity=\"1\" stroke=\"#000000\" stroke-opacity=\"1\" stroke-width=\"3.2\"/>\n",
       "<circle clip-path=\"url(#clip102)\" cx=\"970.238\" cy=\"795.852\" r=\"14.4\" fill=\"#009af9\" fill-rule=\"evenodd\" fill-opacity=\"1\" stroke=\"#000000\" stroke-opacity=\"1\" stroke-width=\"3.2\"/>\n",
       "<circle clip-path=\"url(#clip102)\" cx=\"970.238\" cy=\"854.765\" r=\"14.4\" fill=\"#009af9\" fill-rule=\"evenodd\" fill-opacity=\"1\" stroke=\"#000000\" stroke-opacity=\"1\" stroke-width=\"3.2\"/>\n",
       "<circle clip-path=\"url(#clip102)\" cx=\"970.238\" cy=\"795.852\" r=\"14.4\" fill=\"#009af9\" fill-rule=\"evenodd\" fill-opacity=\"1\" stroke=\"#000000\" stroke-opacity=\"1\" stroke-width=\"3.2\"/>\n",
       "<circle clip-path=\"url(#clip102)\" cx=\"970.238\" cy=\"795.721\" r=\"14.4\" fill=\"#009af9\" fill-rule=\"evenodd\" fill-opacity=\"1\" stroke=\"#000000\" stroke-opacity=\"1\" stroke-width=\"3.2\"/>\n",
       "<circle clip-path=\"url(#clip102)\" cx=\"970.238\" cy=\"854.773\" r=\"14.4\" fill=\"#009af9\" fill-rule=\"evenodd\" fill-opacity=\"1\" stroke=\"#000000\" stroke-opacity=\"1\" stroke-width=\"3.2\"/>\n",
       "<circle clip-path=\"url(#clip102)\" cx=\"970.238\" cy=\"854.773\" r=\"14.4\" fill=\"#009af9\" fill-rule=\"evenodd\" fill-opacity=\"1\" stroke=\"#000000\" stroke-opacity=\"1\" stroke-width=\"3.2\"/>\n",
       "<circle clip-path=\"url(#clip102)\" cx=\"970.238\" cy=\"854.773\" r=\"14.4\" fill=\"#009af9\" fill-rule=\"evenodd\" fill-opacity=\"1\" stroke=\"#000000\" stroke-opacity=\"1\" stroke-width=\"3.2\"/>\n",
       "<circle clip-path=\"url(#clip102)\" cx=\"970.238\" cy=\"854.725\" r=\"14.4\" fill=\"#009af9\" fill-rule=\"evenodd\" fill-opacity=\"1\" stroke=\"#000000\" stroke-opacity=\"1\" stroke-width=\"3.2\"/>\n",
       "<circle clip-path=\"url(#clip102)\" cx=\"970.238\" cy=\"795.721\" r=\"14.4\" fill=\"#009af9\" fill-rule=\"evenodd\" fill-opacity=\"1\" stroke=\"#000000\" stroke-opacity=\"1\" stroke-width=\"3.2\"/>\n",
       "<circle clip-path=\"url(#clip102)\" cx=\"970.238\" cy=\"854.765\" r=\"14.4\" fill=\"#009af9\" fill-rule=\"evenodd\" fill-opacity=\"1\" stroke=\"#000000\" stroke-opacity=\"1\" stroke-width=\"3.2\"/>\n",
       "<circle clip-path=\"url(#clip102)\" cx=\"970.238\" cy=\"786.885\" r=\"14.4\" fill=\"#009af9\" fill-rule=\"evenodd\" fill-opacity=\"1\" stroke=\"#000000\" stroke-opacity=\"1\" stroke-width=\"3.2\"/>\n",
       "<circle clip-path=\"url(#clip102)\" cx=\"970.238\" cy=\"845.95\" r=\"14.4\" fill=\"#009af9\" fill-rule=\"evenodd\" fill-opacity=\"1\" stroke=\"#000000\" stroke-opacity=\"1\" stroke-width=\"3.2\"/>\n",
       "<circle clip-path=\"url(#clip102)\" cx=\"970.238\" cy=\"821.301\" r=\"14.4\" fill=\"#009af9\" fill-rule=\"evenodd\" fill-opacity=\"1\" stroke=\"#000000\" stroke-opacity=\"1\" stroke-width=\"3.2\"/>\n",
       "<circle clip-path=\"url(#clip102)\" cx=\"970.238\" cy=\"860.756\" r=\"14.4\" fill=\"#009af9\" fill-rule=\"evenodd\" fill-opacity=\"1\" stroke=\"#000000\" stroke-opacity=\"1\" stroke-width=\"3.2\"/>\n",
       "<circle clip-path=\"url(#clip102)\" cx=\"970.238\" cy=\"822.994\" r=\"14.4\" fill=\"#009af9\" fill-rule=\"evenodd\" fill-opacity=\"1\" stroke=\"#000000\" stroke-opacity=\"1\" stroke-width=\"3.2\"/>\n",
       "<circle clip-path=\"url(#clip102)\" cx=\"970.238\" cy=\"864.308\" r=\"14.4\" fill=\"#009af9\" fill-rule=\"evenodd\" fill-opacity=\"1\" stroke=\"#000000\" stroke-opacity=\"1\" stroke-width=\"3.2\"/>\n",
       "<circle clip-path=\"url(#clip102)\" cx=\"1270.52\" cy=\"952.404\" r=\"14.4\" fill=\"#009af9\" fill-rule=\"evenodd\" fill-opacity=\"1\" stroke=\"#000000\" stroke-opacity=\"1\" stroke-width=\"3.2\"/>\n",
       "<circle clip-path=\"url(#clip102)\" cx=\"1270.52\" cy=\"909.408\" r=\"14.4\" fill=\"#009af9\" fill-rule=\"evenodd\" fill-opacity=\"1\" stroke=\"#000000\" stroke-opacity=\"1\" stroke-width=\"3.2\"/>\n",
       "<circle clip-path=\"url(#clip102)\" cx=\"1270.52\" cy=\"958.031\" r=\"14.4\" fill=\"#009af9\" fill-rule=\"evenodd\" fill-opacity=\"1\" stroke=\"#000000\" stroke-opacity=\"1\" stroke-width=\"3.2\"/>\n",
       "<circle clip-path=\"url(#clip102)\" cx=\"1270.52\" cy=\"958.239\" r=\"14.4\" fill=\"#009af9\" fill-rule=\"evenodd\" fill-opacity=\"1\" stroke=\"#000000\" stroke-opacity=\"1\" stroke-width=\"3.2\"/>\n",
       "<circle clip-path=\"url(#clip102)\" cx=\"1570.81\" cy=\"784.303\" r=\"14.4\" fill=\"#009af9\" fill-rule=\"evenodd\" fill-opacity=\"1\" stroke=\"#000000\" stroke-opacity=\"1\" stroke-width=\"3.2\"/>\n",
       "<circle clip-path=\"url(#clip102)\" cx=\"1871.1\" cy=\"930.629\" r=\"14.4\" fill=\"#009af9\" fill-rule=\"evenodd\" fill-opacity=\"1\" stroke=\"#000000\" stroke-opacity=\"1\" stroke-width=\"3.2\"/>\n",
       "<circle clip-path=\"url(#clip102)\" cx=\"1871.1\" cy=\"855.852\" r=\"14.4\" fill=\"#009af9\" fill-rule=\"evenodd\" fill-opacity=\"1\" stroke=\"#000000\" stroke-opacity=\"1\" stroke-width=\"3.2\"/>\n",
       "<circle clip-path=\"url(#clip102)\" cx=\"1871.1\" cy=\"835.292\" r=\"14.4\" fill=\"#009af9\" fill-rule=\"evenodd\" fill-opacity=\"1\" stroke=\"#000000\" stroke-opacity=\"1\" stroke-width=\"3.2\"/>\n",
       "<circle clip-path=\"url(#clip102)\" cx=\"1871.1\" cy=\"851.856\" r=\"14.4\" fill=\"#009af9\" fill-rule=\"evenodd\" fill-opacity=\"1\" stroke=\"#000000\" stroke-opacity=\"1\" stroke-width=\"3.2\"/>\n",
       "<circle clip-path=\"url(#clip102)\" cx=\"1871.1\" cy=\"851.856\" r=\"14.4\" fill=\"#009af9\" fill-rule=\"evenodd\" fill-opacity=\"1\" stroke=\"#000000\" stroke-opacity=\"1\" stroke-width=\"3.2\"/>\n",
       "<circle clip-path=\"url(#clip102)\" cx=\"1871.1\" cy=\"851.856\" r=\"14.4\" fill=\"#009af9\" fill-rule=\"evenodd\" fill-opacity=\"1\" stroke=\"#000000\" stroke-opacity=\"1\" stroke-width=\"3.2\"/>\n",
       "<circle clip-path=\"url(#clip102)\" cx=\"1871.1\" cy=\"851.856\" r=\"14.4\" fill=\"#009af9\" fill-rule=\"evenodd\" fill-opacity=\"1\" stroke=\"#000000\" stroke-opacity=\"1\" stroke-width=\"3.2\"/>\n",
       "<circle clip-path=\"url(#clip102)\" cx=\"1871.1\" cy=\"851.856\" r=\"14.4\" fill=\"#009af9\" fill-rule=\"evenodd\" fill-opacity=\"1\" stroke=\"#000000\" stroke-opacity=\"1\" stroke-width=\"3.2\"/>\n",
       "<circle clip-path=\"url(#clip102)\" cx=\"1871.1\" cy=\"851.856\" r=\"14.4\" fill=\"#009af9\" fill-rule=\"evenodd\" fill-opacity=\"1\" stroke=\"#000000\" stroke-opacity=\"1\" stroke-width=\"3.2\"/>\n",
       "<circle clip-path=\"url(#clip102)\" cx=\"1871.1\" cy=\"851.856\" r=\"14.4\" fill=\"#009af9\" fill-rule=\"evenodd\" fill-opacity=\"1\" stroke=\"#000000\" stroke-opacity=\"1\" stroke-width=\"3.2\"/>\n",
       "<circle clip-path=\"url(#clip102)\" cx=\"1871.1\" cy=\"851.856\" r=\"14.4\" fill=\"#009af9\" fill-rule=\"evenodd\" fill-opacity=\"1\" stroke=\"#000000\" stroke-opacity=\"1\" stroke-width=\"3.2\"/>\n",
       "<circle clip-path=\"url(#clip102)\" cx=\"1871.1\" cy=\"851.856\" r=\"14.4\" fill=\"#009af9\" fill-rule=\"evenodd\" fill-opacity=\"1\" stroke=\"#000000\" stroke-opacity=\"1\" stroke-width=\"3.2\"/>\n",
       "<circle clip-path=\"url(#clip102)\" cx=\"1871.1\" cy=\"851.856\" r=\"14.4\" fill=\"#009af9\" fill-rule=\"evenodd\" fill-opacity=\"1\" stroke=\"#000000\" stroke-opacity=\"1\" stroke-width=\"3.2\"/>\n",
       "<circle clip-path=\"url(#clip102)\" cx=\"1871.1\" cy=\"940.724\" r=\"14.4\" fill=\"#009af9\" fill-rule=\"evenodd\" fill-opacity=\"1\" stroke=\"#000000\" stroke-opacity=\"1\" stroke-width=\"3.2\"/>\n",
       "<circle clip-path=\"url(#clip102)\" cx=\"1871.1\" cy=\"940.724\" r=\"14.4\" fill=\"#009af9\" fill-rule=\"evenodd\" fill-opacity=\"1\" stroke=\"#000000\" stroke-opacity=\"1\" stroke-width=\"3.2\"/>\n",
       "<circle clip-path=\"url(#clip102)\" cx=\"1871.1\" cy=\"940.724\" r=\"14.4\" fill=\"#009af9\" fill-rule=\"evenodd\" fill-opacity=\"1\" stroke=\"#000000\" stroke-opacity=\"1\" stroke-width=\"3.2\"/>\n",
       "<circle clip-path=\"url(#clip102)\" cx=\"2171.38\" cy=\"810.917\" r=\"14.4\" fill=\"#009af9\" fill-rule=\"evenodd\" fill-opacity=\"1\" stroke=\"#000000\" stroke-opacity=\"1\" stroke-width=\"3.2\"/>\n",
       "<circle clip-path=\"url(#clip102)\" cx=\"2171.38\" cy=\"940.122\" r=\"14.4\" fill=\"#009af9\" fill-rule=\"evenodd\" fill-opacity=\"1\" stroke=\"#000000\" stroke-opacity=\"1\" stroke-width=\"3.2\"/>\n",
       "<circle clip-path=\"url(#clip102)\" cx=\"2171.38\" cy=\"940.122\" r=\"14.4\" fill=\"#009af9\" fill-rule=\"evenodd\" fill-opacity=\"1\" stroke=\"#000000\" stroke-opacity=\"1\" stroke-width=\"3.2\"/>\n",
       "<circle clip-path=\"url(#clip102)\" cx=\"2171.38\" cy=\"877.874\" r=\"14.4\" fill=\"#009af9\" fill-rule=\"evenodd\" fill-opacity=\"1\" stroke=\"#000000\" stroke-opacity=\"1\" stroke-width=\"3.2\"/>\n",
       "<circle clip-path=\"url(#clip102)\" cx=\"2171.38\" cy=\"940.122\" r=\"14.4\" fill=\"#009af9\" fill-rule=\"evenodd\" fill-opacity=\"1\" stroke=\"#000000\" stroke-opacity=\"1\" stroke-width=\"3.2\"/>\n",
       "<circle clip-path=\"url(#clip102)\" cx=\"2171.38\" cy=\"940.122\" r=\"14.4\" fill=\"#009af9\" fill-rule=\"evenodd\" fill-opacity=\"1\" stroke=\"#000000\" stroke-opacity=\"1\" stroke-width=\"3.2\"/>\n",
       "<circle clip-path=\"url(#clip102)\" cx=\"2171.38\" cy=\"945.622\" r=\"14.4\" fill=\"#009af9\" fill-rule=\"evenodd\" fill-opacity=\"1\" stroke=\"#000000\" stroke-opacity=\"1\" stroke-width=\"3.2\"/>\n",
       "<circle clip-path=\"url(#clip102)\" cx=\"2171.38\" cy=\"952.743\" r=\"14.4\" fill=\"#009af9\" fill-rule=\"evenodd\" fill-opacity=\"1\" stroke=\"#000000\" stroke-opacity=\"1\" stroke-width=\"3.2\"/>\n",
       "<circle clip-path=\"url(#clip102)\" cx=\"2171.38\" cy=\"845.314\" r=\"14.4\" fill=\"#009af9\" fill-rule=\"evenodd\" fill-opacity=\"1\" stroke=\"#000000\" stroke-opacity=\"1\" stroke-width=\"3.2\"/>\n",
       "<circle clip-path=\"url(#clip102)\" cx=\"2171.38\" cy=\"948.132\" r=\"14.4\" fill=\"#009af9\" fill-rule=\"evenodd\" fill-opacity=\"1\" stroke=\"#000000\" stroke-opacity=\"1\" stroke-width=\"3.2\"/>\n",
       "<circle clip-path=\"url(#clip102)\" cx=\"2171.38\" cy=\"952.79\" r=\"14.4\" fill=\"#009af9\" fill-rule=\"evenodd\" fill-opacity=\"1\" stroke=\"#000000\" stroke-opacity=\"1\" stroke-width=\"3.2\"/>\n",
       "<circle clip-path=\"url(#clip102)\" cx=\"2171.38\" cy=\"950.055\" r=\"14.4\" fill=\"#009af9\" fill-rule=\"evenodd\" fill-opacity=\"1\" stroke=\"#000000\" stroke-opacity=\"1\" stroke-width=\"3.2\"/>\n",
       "<circle clip-path=\"url(#clip102)\" cx=\"2171.38\" cy=\"931.315\" r=\"14.4\" fill=\"#009af9\" fill-rule=\"evenodd\" fill-opacity=\"1\" stroke=\"#000000\" stroke-opacity=\"1\" stroke-width=\"3.2\"/>\n",
       "<circle clip-path=\"url(#clip102)\" cx=\"2171.38\" cy=\"871.183\" r=\"14.4\" fill=\"#009af9\" fill-rule=\"evenodd\" fill-opacity=\"1\" stroke=\"#000000\" stroke-opacity=\"1\" stroke-width=\"3.2\"/>\n",
       "<circle clip-path=\"url(#clip102)\" cx=\"2171.38\" cy=\"929.784\" r=\"14.4\" fill=\"#009af9\" fill-rule=\"evenodd\" fill-opacity=\"1\" stroke=\"#000000\" stroke-opacity=\"1\" stroke-width=\"3.2\"/>\n",
       "<circle clip-path=\"url(#clip102)\" cx=\"2171.38\" cy=\"903.66\" r=\"14.4\" fill=\"#009af9\" fill-rule=\"evenodd\" fill-opacity=\"1\" stroke=\"#000000\" stroke-opacity=\"1\" stroke-width=\"3.2\"/>\n",
       "<circle clip-path=\"url(#clip102)\" cx=\"2171.38\" cy=\"910.122\" r=\"14.4\" fill=\"#009af9\" fill-rule=\"evenodd\" fill-opacity=\"1\" stroke=\"#000000\" stroke-opacity=\"1\" stroke-width=\"3.2\"/>\n",
       "<circle clip-path=\"url(#clip102)\" cx=\"2171.38\" cy=\"937.597\" r=\"14.4\" fill=\"#009af9\" fill-rule=\"evenodd\" fill-opacity=\"1\" stroke=\"#000000\" stroke-opacity=\"1\" stroke-width=\"3.2\"/>\n",
       "<polyline clip-path=\"url(#clip102)\" style=\"stroke:#009af9; stroke-linecap:round; stroke-linejoin:round; stroke-width:0; stroke-opacity:1; fill:none\" points=\"369.665,1259.52 309.608,1259.52 429.722,1259.52 369.665,1259.52 369.665,1069.91 \"/>\n",
       "<polyline clip-path=\"url(#clip102)\" style=\"stroke:#009af9; stroke-linecap:round; stroke-linejoin:round; stroke-width:0; stroke-opacity:1; fill:none\" points=\"489.78,1069.91 489.78,996.869 249.551,996.869 249.551,1069.91 489.78,1069.91 489.78,996.869 \"/>\n",
       "<polyline clip-path=\"url(#clip102)\" style=\"stroke:#009af9; stroke-linecap:round; stroke-linejoin:round; stroke-width:0; stroke-opacity:1; fill:none\" points=\"489.78,940.122 249.551,940.122 249.551,996.869 489.78,996.869 489.78,940.122 369.665,940.122 \"/>\n",
       "<polyline clip-path=\"url(#clip102)\" style=\"stroke:#009af9; stroke-linecap:round; stroke-linejoin:round; stroke-width:0; stroke-opacity:1; fill:none\" points=\"369.665,907.769 309.608,907.769 429.722,907.769 369.665,907.769 369.665,940.122 \"/>\n",
       "<polyline clip-path=\"url(#clip102)\" style=\"stroke:#009af9; stroke-linecap:round; stroke-linejoin:round; stroke-width:0; stroke-opacity:1; fill:none\" points=\"669.951,1234.82 609.894,1234.82 730.009,1234.82 669.951,1234.82 669.951,1051.22 \"/>\n",
       "<polyline clip-path=\"url(#clip102)\" style=\"stroke:#009af9; stroke-linecap:round; stroke-linejoin:round; stroke-width:0; stroke-opacity:1; fill:none\" points=\"790.066,1051.22 790.066,1028.43 549.837,1028.43 549.837,1051.22 790.066,1051.22 790.066,1028.43 \"/>\n",
       "<polyline clip-path=\"url(#clip102)\" style=\"stroke:#009af9; stroke-linecap:round; stroke-linejoin:round; stroke-width:0; stroke-opacity:1; fill:none\" points=\"790.066,1003.84 549.837,1003.84 549.837,1028.43 790.066,1028.43 790.066,1003.84 669.951,1003.84 \"/>\n",
       "<polyline clip-path=\"url(#clip102)\" style=\"stroke:#009af9; stroke-linecap:round; stroke-linejoin:round; stroke-width:0; stroke-opacity:1; fill:none\" points=\"669.951,998.358 609.894,998.358 730.009,998.358 669.951,998.358 669.951,1003.84 \"/>\n",
       "<polyline clip-path=\"url(#clip102)\" style=\"stroke:#009af9; stroke-linecap:round; stroke-linejoin:round; stroke-width:0; stroke-opacity:1; fill:none\" points=\"970.238,1343.18 910.18,1343.18 1030.3,1343.18 970.238,1343.18 970.238,1098 \"/>\n",
       "<polyline clip-path=\"url(#clip102)\" style=\"stroke:#009af9; stroke-linecap:round; stroke-linejoin:round; stroke-width:0; stroke-opacity:1; fill:none\" points=\"1090.35,1098 1090.35,1005.93 850.123,1005.93 850.123,1098 1090.35,1098 1090.35,1005.93 \"/>\n",
       "<polyline clip-path=\"url(#clip102)\" style=\"stroke:#009af9; stroke-linecap:round; stroke-linejoin:round; stroke-width:0; stroke-opacity:1; fill:none\" points=\"1090.35,901.869 850.123,901.869 850.123,1005.93 1090.35,1005.93 1090.35,901.869 970.238,901.869 \"/>\n",
       "<polyline clip-path=\"url(#clip102)\" style=\"stroke:#009af9; stroke-linecap:round; stroke-linejoin:round; stroke-width:0; stroke-opacity:1; fill:none\" points=\"970.238,875.985 910.18,875.985 1030.3,875.985 970.238,875.985 970.238,901.869 \"/>\n",
       "<polyline clip-path=\"url(#clip102)\" style=\"stroke:#009af9; stroke-linecap:round; stroke-linejoin:round; stroke-width:0; stroke-opacity:1; fill:none\" points=\"1270.52,1288.18 1210.47,1288.18 1330.58,1288.18 1270.52,1288.18 1270.52,1026.41 \"/>\n",
       "<polyline clip-path=\"url(#clip102)\" style=\"stroke:#009af9; stroke-linecap:round; stroke-linejoin:round; stroke-width:0; stroke-opacity:1; fill:none\" points=\"1390.64,1026.41 1390.64,997.347 1150.41,997.347 1150.41,1026.41 1390.64,1026.41 1390.64,997.347 \"/>\n",
       "<polyline clip-path=\"url(#clip102)\" style=\"stroke:#009af9; stroke-linecap:round; stroke-linejoin:round; stroke-width:0; stroke-opacity:1; fill:none\" points=\"1390.64,984.758 1150.41,984.758 1150.41,997.347 1390.64,997.347 1390.64,984.758 1270.52,984.758 \"/>\n",
       "<polyline clip-path=\"url(#clip102)\" style=\"stroke:#009af9; stroke-linecap:round; stroke-linejoin:round; stroke-width:0; stroke-opacity:1; fill:none\" points=\"1270.52,972.564 1210.47,972.564 1330.58,972.564 1270.52,972.564 1270.52,984.758 \"/>\n",
       "<polyline clip-path=\"url(#clip102)\" style=\"stroke:#009af9; stroke-linecap:round; stroke-linejoin:round; stroke-width:0; stroke-opacity:1; fill:none\" points=\"1570.81,1112.83 1510.75,1112.83 1630.87,1112.83 1570.81,1112.83 1570.81,999.783 \"/>\n",
       "<polyline clip-path=\"url(#clip102)\" style=\"stroke:#009af9; stroke-linecap:round; stroke-linejoin:round; stroke-width:0; stroke-opacity:1; fill:none\" points=\"1690.92,999.783 1690.92,932.277 1450.7,932.277 1450.7,999.783 1690.92,999.783 1690.92,932.277 \"/>\n",
       "<polyline clip-path=\"url(#clip102)\" style=\"stroke:#009af9; stroke-linecap:round; stroke-linejoin:round; stroke-width:0; stroke-opacity:1; fill:none\" points=\"1690.92,818.563 1450.7,818.563 1450.7,932.277 1690.92,932.277 1690.92,818.563 1570.81,818.563 \"/>\n",
       "<polyline clip-path=\"url(#clip102)\" style=\"stroke:#009af9; stroke-linecap:round; stroke-linejoin:round; stroke-width:0; stroke-opacity:1; fill:none\" points=\"1570.81,796.256 1510.75,796.256 1630.87,796.256 1570.81,796.256 1570.81,818.563 \"/>\n",
       "<polyline clip-path=\"url(#clip102)\" style=\"stroke:#009af9; stroke-linecap:round; stroke-linejoin:round; stroke-width:0; stroke-opacity:1; fill:none\" points=\"1871.1,1147.19 1811.04,1147.19 1931.15,1147.19 1871.1,1147.19 1871.1,1012.48 \"/>\n",
       "<polyline clip-path=\"url(#clip102)\" style=\"stroke:#009af9; stroke-linecap:round; stroke-linejoin:round; stroke-width:0; stroke-opacity:1; fill:none\" points=\"1991.21,1012.48 1991.21,996.197 1750.98,996.197 1750.98,1012.48 1991.21,1012.48 1991.21,996.197 \"/>\n",
       "<polyline clip-path=\"url(#clip102)\" style=\"stroke:#009af9; stroke-linecap:round; stroke-linejoin:round; stroke-width:0; stroke-opacity:1; fill:none\" points=\"1991.21,978.15 1750.98,978.15 1750.98,996.197 1991.21,996.197 1991.21,978.15 1871.1,978.15 \"/>\n",
       "<polyline clip-path=\"url(#clip102)\" style=\"stroke:#009af9; stroke-linecap:round; stroke-linejoin:round; stroke-width:0; stroke-opacity:1; fill:none\" points=\"1871.1,964.557 1811.04,964.557 1931.15,964.557 1871.1,964.557 1871.1,978.15 \"/>\n",
       "<polyline clip-path=\"url(#clip102)\" style=\"stroke:#009af9; stroke-linecap:round; stroke-linejoin:round; stroke-width:0; stroke-opacity:1; fill:none\" points=\"2171.38,1318.46 2111.33,1318.46 2231.44,1318.46 2171.38,1318.46 2171.38,1114.3 \"/>\n",
       "<polyline clip-path=\"url(#clip102)\" style=\"stroke:#009af9; stroke-linecap:round; stroke-linejoin:round; stroke-width:0; stroke-opacity:1; fill:none\" points=\"2291.5,1114.3 2291.5,1039.68 2051.27,1039.68 2051.27,1114.3 2291.5,1114.3 2291.5,1039.68 \"/>\n",
       "<polyline clip-path=\"url(#clip102)\" style=\"stroke:#009af9; stroke-linecap:round; stroke-linejoin:round; stroke-width:0; stroke-opacity:1; fill:none\" points=\"2291.5,989.631 2051.27,989.631 2051.27,1039.68 2291.5,1039.68 2291.5,989.631 2171.38,989.631 \"/>\n",
       "<polyline clip-path=\"url(#clip102)\" style=\"stroke:#009af9; stroke-linecap:round; stroke-linejoin:round; stroke-width:0; stroke-opacity:1; fill:none\" points=\"2171.38,969.335 2111.33,969.335 2231.44,969.335 2171.38,969.335 2171.38,989.631 \"/>\n",
       "<path clip-path=\"url(#clip102)\" d=\"M369.665 1259.52 L309.608 1259.52 L429.722 1259.52 L369.665 1259.52 L369.665 1069.91 L369.665 1259.52  Z\" fill=\"#e26f46\" fill-rule=\"evenodd\" fill-opacity=\"0.5\"/>\n",
       "<polyline clip-path=\"url(#clip102)\" style=\"stroke:#000000; stroke-linecap:round; stroke-linejoin:round; stroke-width:8; stroke-opacity:1; fill:none\" points=\"369.665,1259.52 309.608,1259.52 429.722,1259.52 369.665,1259.52 369.665,1069.91 369.665,1259.52 \"/>\n",
       "<path clip-path=\"url(#clip102)\" d=\"M489.78 1069.91 L489.78 996.869 L249.551 996.869 L249.551 1069.91 L489.78 1069.91 L489.78 996.869 L489.78 1069.91  Z\" fill=\"#e26f46\" fill-rule=\"evenodd\" fill-opacity=\"0.5\"/>\n",
       "<polyline clip-path=\"url(#clip102)\" style=\"stroke:#000000; stroke-linecap:round; stroke-linejoin:round; stroke-width:8; stroke-opacity:1; fill:none\" points=\"489.78,1069.91 489.78,996.869 249.551,996.869 249.551,1069.91 489.78,1069.91 489.78,996.869 489.78,1069.91 \"/>\n",
       "<path clip-path=\"url(#clip102)\" d=\"M489.78 940.122 L249.551 940.122 L249.551 996.869 L489.78 996.869 L489.78 940.122 L369.665 940.122 L489.78 940.122  Z\" fill=\"#e26f46\" fill-rule=\"evenodd\" fill-opacity=\"0.5\"/>\n",
       "<polyline clip-path=\"url(#clip102)\" style=\"stroke:#000000; stroke-linecap:round; stroke-linejoin:round; stroke-width:8; stroke-opacity:1; fill:none\" points=\"489.78,940.122 249.551,940.122 249.551,996.869 489.78,996.869 489.78,940.122 369.665,940.122 489.78,940.122 \"/>\n",
       "<path clip-path=\"url(#clip102)\" d=\"M369.665 907.769 L309.608 907.769 L429.722 907.769 L369.665 907.769 L369.665 940.122 L369.665 907.769  Z\" fill=\"#e26f46\" fill-rule=\"evenodd\" fill-opacity=\"0.5\"/>\n",
       "<polyline clip-path=\"url(#clip102)\" style=\"stroke:#000000; stroke-linecap:round; stroke-linejoin:round; stroke-width:8; stroke-opacity:1; fill:none\" points=\"369.665,907.769 309.608,907.769 429.722,907.769 369.665,907.769 369.665,940.122 369.665,907.769 \"/>\n",
       "<path clip-path=\"url(#clip102)\" d=\"M669.951 1234.82 L609.894 1234.82 L730.009 1234.82 L669.951 1234.82 L669.951 1200.86 L669.951 1234.82  Z\" fill=\"#e26f46\" fill-rule=\"evenodd\" fill-opacity=\"0.5\"/>\n",
       "<polyline clip-path=\"url(#clip102)\" style=\"stroke:#000000; stroke-linecap:round; stroke-linejoin:round; stroke-width:8; stroke-opacity:1; fill:none\" points=\"669.951,1234.82 609.894,1234.82 730.009,1234.82 669.951,1234.82 669.951,1200.86 669.951,1234.82 \"/>\n",
       "<path clip-path=\"url(#clip102)\" d=\"M790.066 1200.86 L790.066 1186.96 L549.837 1186.96 L549.837 1200.86 L790.066 1200.86 L790.066 1186.96 L790.066 1200.86  Z\" fill=\"#e26f46\" fill-rule=\"evenodd\" fill-opacity=\"0.5\"/>\n",
       "<polyline clip-path=\"url(#clip102)\" style=\"stroke:#000000; stroke-linecap:round; stroke-linejoin:round; stroke-width:8; stroke-opacity:1; fill:none\" points=\"790.066,1200.86 790.066,1186.96 549.837,1186.96 549.837,1200.86 790.066,1200.86 790.066,1186.96 790.066,1200.86 \"/>\n",
       "<path clip-path=\"url(#clip102)\" d=\"M790.066 1186.96 L549.837 1186.96 L549.837 1186.96 L790.066 1186.96 L790.066 1186.96 L669.951 1186.96 L790.066 1186.96  Z\" fill=\"#e26f46\" fill-rule=\"evenodd\" fill-opacity=\"0.5\"/>\n",
       "<polyline clip-path=\"url(#clip102)\" style=\"stroke:#000000; stroke-linecap:round; stroke-linejoin:round; stroke-width:8; stroke-opacity:1; fill:none\" points=\"790.066,1186.96 549.837,1186.96 790.066,1186.96 669.951,1186.96 790.066,1186.96 \"/>\n",
       "<path clip-path=\"url(#clip102)\" d=\"M669.951 1173.15 L609.894 1173.15 L730.009 1173.15 L669.951 1173.15 L669.951 1186.96 L669.951 1173.15  Z\" fill=\"#e26f46\" fill-rule=\"evenodd\" fill-opacity=\"0.5\"/>\n",
       "<polyline clip-path=\"url(#clip102)\" style=\"stroke:#000000; stroke-linecap:round; stroke-linejoin:round; stroke-width:8; stroke-opacity:1; fill:none\" points=\"669.951,1173.15 609.894,1173.15 730.009,1173.15 669.951,1173.15 669.951,1186.96 669.951,1173.15 \"/>\n",
       "<path clip-path=\"url(#clip102)\" d=\"M970.238 1460.2 L910.18 1460.2 L1030.3 1460.2 L970.238 1460.2 L970.238 1338.53 L970.238 1460.2  Z\" fill=\"#e26f46\" fill-rule=\"evenodd\" fill-opacity=\"0.5\"/>\n",
       "<polyline clip-path=\"url(#clip102)\" style=\"stroke:#000000; stroke-linecap:round; stroke-linejoin:round; stroke-width:8; stroke-opacity:1; fill:none\" points=\"970.238,1460.2 910.18,1460.2 1030.3,1460.2 970.238,1460.2 970.238,1338.53 970.238,1460.2 \"/>\n",
       "<path clip-path=\"url(#clip102)\" d=\"M1090.35 1338.53 L1090.35 1263.22 L850.123 1263.22 L850.123 1338.53 L1090.35 1338.53 L1090.35 1263.22 L1090.35 1338.53  Z\" fill=\"#e26f46\" fill-rule=\"evenodd\" fill-opacity=\"0.5\"/>\n",
       "<polyline clip-path=\"url(#clip102)\" style=\"stroke:#000000; stroke-linecap:round; stroke-linejoin:round; stroke-width:8; stroke-opacity:1; fill:none\" points=\"1090.35,1338.53 1090.35,1263.22 850.123,1263.22 850.123,1338.53 1090.35,1338.53 1090.35,1263.22 1090.35,1338.53 \"/>\n",
       "<path clip-path=\"url(#clip102)\" d=\"M1090.35 1200.43 L850.123 1200.43 L850.123 1263.22 L1090.35 1263.22 L1090.35 1200.43 L970.238 1200.43 L1090.35 1200.43  Z\" fill=\"#e26f46\" fill-rule=\"evenodd\" fill-opacity=\"0.5\"/>\n",
       "<polyline clip-path=\"url(#clip102)\" style=\"stroke:#000000; stroke-linecap:round; stroke-linejoin:round; stroke-width:8; stroke-opacity:1; fill:none\" points=\"1090.35,1200.43 850.123,1200.43 850.123,1263.22 1090.35,1263.22 1090.35,1200.43 970.238,1200.43 1090.35,1200.43 \"/>\n",
       "<path clip-path=\"url(#clip102)\" d=\"M970.238 1170.65 L910.18 1170.65 L1030.3 1170.65 L970.238 1170.65 L970.238 1200.43 L970.238 1170.65  Z\" fill=\"#e26f46\" fill-rule=\"evenodd\" fill-opacity=\"0.5\"/>\n",
       "<polyline clip-path=\"url(#clip102)\" style=\"stroke:#000000; stroke-linecap:round; stroke-linejoin:round; stroke-width:8; stroke-opacity:1; fill:none\" points=\"970.238,1170.65 910.18,1170.65 1030.3,1170.65 970.238,1170.65 970.238,1200.43 970.238,1170.65 \"/>\n",
       "<path clip-path=\"url(#clip102)\" d=\"M1270.52 1334.79 L1210.47 1334.79 L1330.58 1334.79 L1270.52 1334.79 L1270.52 1118.15 L1270.52 1334.79  Z\" fill=\"#e26f46\" fill-rule=\"evenodd\" fill-opacity=\"0.5\"/>\n",
       "<polyline clip-path=\"url(#clip102)\" style=\"stroke:#000000; stroke-linecap:round; stroke-linejoin:round; stroke-width:8; stroke-opacity:1; fill:none\" points=\"1270.52,1334.79 1210.47,1334.79 1330.58,1334.79 1270.52,1334.79 1270.52,1118.15 1270.52,1334.79 \"/>\n",
       "<path clip-path=\"url(#clip102)\" d=\"M1390.64 1118.15 L1390.64 997.431 L1150.41 997.431 L1150.41 1118.15 L1390.64 1118.15 L1390.64 997.431 L1390.64 1118.15  Z\" fill=\"#e26f46\" fill-rule=\"evenodd\" fill-opacity=\"0.5\"/>\n",
       "<polyline clip-path=\"url(#clip102)\" style=\"stroke:#000000; stroke-linecap:round; stroke-linejoin:round; stroke-width:8; stroke-opacity:1; fill:none\" points=\"1390.64,1118.15 1390.64,997.431 1150.41,997.431 1150.41,1118.15 1390.64,1118.15 1390.64,997.431 1390.64,1118.15 \"/>\n",
       "<path clip-path=\"url(#clip102)\" d=\"M1390.64 985.159 L1150.41 985.159 L1150.41 997.431 L1390.64 997.431 L1390.64 985.159 L1270.52 985.159 L1390.64 985.159  Z\" fill=\"#e26f46\" fill-rule=\"evenodd\" fill-opacity=\"0.5\"/>\n",
       "<polyline clip-path=\"url(#clip102)\" style=\"stroke:#000000; stroke-linecap:round; stroke-linejoin:round; stroke-width:8; stroke-opacity:1; fill:none\" points=\"1390.64,985.159 1150.41,985.159 1150.41,997.431 1390.64,997.431 1390.64,985.159 1270.52,985.159 1390.64,985.159 \"/>\n",
       "<path clip-path=\"url(#clip102)\" d=\"M1270.52 952.404 L1210.47 952.404 L1330.58 952.404 L1270.52 952.404 L1270.52 985.159 L1270.52 952.404  Z\" fill=\"#e26f46\" fill-rule=\"evenodd\" fill-opacity=\"0.5\"/>\n",
       "<polyline clip-path=\"url(#clip102)\" style=\"stroke:#000000; stroke-linecap:round; stroke-linejoin:round; stroke-width:8; stroke-opacity:1; fill:none\" points=\"1270.52,952.404 1210.47,952.404 1330.58,952.404 1270.52,952.404 1270.52,985.159 1270.52,952.404 \"/>\n",
       "<path clip-path=\"url(#clip102)\" d=\"M1570.81 1440.43 L1510.75 1440.43 L1630.87 1440.43 L1570.81 1440.43 L1570.81 1400.36 L1570.81 1440.43  Z\" fill=\"#e26f46\" fill-rule=\"evenodd\" fill-opacity=\"0.5\"/>\n",
       "<polyline clip-path=\"url(#clip102)\" style=\"stroke:#000000; stroke-linecap:round; stroke-linejoin:round; stroke-width:8; stroke-opacity:1; fill:none\" points=\"1570.81,1440.43 1510.75,1440.43 1630.87,1440.43 1570.81,1440.43 1570.81,1400.36 1570.81,1440.43 \"/>\n",
       "<path clip-path=\"url(#clip102)\" d=\"M1690.92 1400.36 L1690.92 1275.18 L1450.7 1275.18 L1450.7 1400.36 L1690.92 1400.36 L1690.92 1275.18 L1690.92 1400.36  Z\" fill=\"#e26f46\" fill-rule=\"evenodd\" fill-opacity=\"0.5\"/>\n",
       "<polyline clip-path=\"url(#clip102)\" style=\"stroke:#000000; stroke-linecap:round; stroke-linejoin:round; stroke-width:8; stroke-opacity:1; fill:none\" points=\"1690.92,1400.36 1690.92,1275.18 1450.7,1275.18 1450.7,1400.36 1690.92,1400.36 1690.92,1275.18 1690.92,1400.36 \"/>\n",
       "<path clip-path=\"url(#clip102)\" d=\"M1690.92 1232.47 L1450.7 1232.47 L1450.7 1275.18 L1690.92 1275.18 L1690.92 1232.47 L1570.81 1232.47 L1690.92 1232.47  Z\" fill=\"#e26f46\" fill-rule=\"evenodd\" fill-opacity=\"0.5\"/>\n",
       "<polyline clip-path=\"url(#clip102)\" style=\"stroke:#000000; stroke-linecap:round; stroke-linejoin:round; stroke-width:8; stroke-opacity:1; fill:none\" points=\"1690.92,1232.47 1450.7,1232.47 1450.7,1275.18 1690.92,1275.18 1690.92,1232.47 1570.81,1232.47 1690.92,1232.47 \"/>\n",
       "<path clip-path=\"url(#clip102)\" d=\"M1570.81 1215.25 L1510.75 1215.25 L1630.87 1215.25 L1570.81 1215.25 L1570.81 1232.47 L1570.81 1215.25  Z\" fill=\"#e26f46\" fill-rule=\"evenodd\" fill-opacity=\"0.5\"/>\n",
       "<polyline clip-path=\"url(#clip102)\" style=\"stroke:#000000; stroke-linecap:round; stroke-linejoin:round; stroke-width:8; stroke-opacity:1; fill:none\" points=\"1570.81,1215.25 1510.75,1215.25 1630.87,1215.25 1570.81,1215.25 1570.81,1232.47 1570.81,1215.25 \"/>\n",
       "<path clip-path=\"url(#clip102)\" d=\"M1871.1 1147.19 L1811.04 1147.19 L1931.15 1147.19 L1871.1 1147.19 L1871.1 1012.48 L1871.1 1147.19  Z\" fill=\"#e26f46\" fill-rule=\"evenodd\" fill-opacity=\"0.5\"/>\n",
       "<polyline clip-path=\"url(#clip102)\" style=\"stroke:#000000; stroke-linecap:round; stroke-linejoin:round; stroke-width:8; stroke-opacity:1; fill:none\" points=\"1871.1,1147.19 1811.04,1147.19 1931.15,1147.19 1871.1,1147.19 1871.1,1012.48 1871.1,1147.19 \"/>\n",
       "<path clip-path=\"url(#clip102)\" d=\"M1991.21 1012.48 L1991.21 996.197 L1750.98 996.197 L1750.98 1012.48 L1991.21 1012.48 L1991.21 996.197 L1991.21 1012.48  Z\" fill=\"#e26f46\" fill-rule=\"evenodd\" fill-opacity=\"0.5\"/>\n",
       "<polyline clip-path=\"url(#clip102)\" style=\"stroke:#000000; stroke-linecap:round; stroke-linejoin:round; stroke-width:8; stroke-opacity:1; fill:none\" points=\"1991.21,1012.48 1991.21,996.197 1750.98,996.197 1750.98,1012.48 1991.21,1012.48 1991.21,996.197 1991.21,1012.48 \"/>\n",
       "<path clip-path=\"url(#clip102)\" d=\"M1991.21 978.15 L1750.98 978.15 L1750.98 996.197 L1991.21 996.197 L1991.21 978.15 L1871.1 978.15 L1991.21 978.15  Z\" fill=\"#e26f46\" fill-rule=\"evenodd\" fill-opacity=\"0.5\"/>\n",
       "<polyline clip-path=\"url(#clip102)\" style=\"stroke:#000000; stroke-linecap:round; stroke-linejoin:round; stroke-width:8; stroke-opacity:1; fill:none\" points=\"1991.21,978.15 1750.98,978.15 1750.98,996.197 1991.21,996.197 1991.21,978.15 1871.1,978.15 1991.21,978.15 \"/>\n",
       "<path clip-path=\"url(#clip102)\" d=\"M1871.1 964.557 L1811.04 964.557 L1931.15 964.557 L1871.1 964.557 L1871.1 978.15 L1871.1 964.557  Z\" fill=\"#e26f46\" fill-rule=\"evenodd\" fill-opacity=\"0.5\"/>\n",
       "<polyline clip-path=\"url(#clip102)\" style=\"stroke:#000000; stroke-linecap:round; stroke-linejoin:round; stroke-width:8; stroke-opacity:1; fill:none\" points=\"1871.1,964.557 1811.04,964.557 1931.15,964.557 1871.1,964.557 1871.1,978.15 1871.1,964.557 \"/>\n",
       "<path clip-path=\"url(#clip102)\" d=\"M2171.38 1318.46 L2111.33 1318.46 L2231.44 1318.46 L2171.38 1318.46 L2171.38 1114.3 L2171.38 1318.46  Z\" fill=\"#e26f46\" fill-rule=\"evenodd\" fill-opacity=\"0.5\"/>\n",
       "<polyline clip-path=\"url(#clip102)\" style=\"stroke:#000000; stroke-linecap:round; stroke-linejoin:round; stroke-width:8; stroke-opacity:1; fill:none\" points=\"2171.38,1318.46 2111.33,1318.46 2231.44,1318.46 2171.38,1318.46 2171.38,1114.3 2171.38,1318.46 \"/>\n",
       "<path clip-path=\"url(#clip102)\" d=\"M2291.5 1114.3 L2291.5 1039.68 L2051.27 1039.68 L2051.27 1114.3 L2291.5 1114.3 L2291.5 1039.68 L2291.5 1114.3  Z\" fill=\"#e26f46\" fill-rule=\"evenodd\" fill-opacity=\"0.5\"/>\n",
       "<polyline clip-path=\"url(#clip102)\" style=\"stroke:#000000; stroke-linecap:round; stroke-linejoin:round; stroke-width:8; stroke-opacity:1; fill:none\" points=\"2291.5,1114.3 2291.5,1039.68 2051.27,1039.68 2051.27,1114.3 2291.5,1114.3 2291.5,1039.68 2291.5,1114.3 \"/>\n",
       "<path clip-path=\"url(#clip102)\" d=\"M2291.5 989.631 L2051.27 989.631 L2051.27 1039.68 L2291.5 1039.68 L2291.5 989.631 L2171.38 989.631 L2291.5 989.631  Z\" fill=\"#e26f46\" fill-rule=\"evenodd\" fill-opacity=\"0.5\"/>\n",
       "<polyline clip-path=\"url(#clip102)\" style=\"stroke:#000000; stroke-linecap:round; stroke-linejoin:round; stroke-width:8; stroke-opacity:1; fill:none\" points=\"2291.5,989.631 2051.27,989.631 2051.27,1039.68 2291.5,1039.68 2291.5,989.631 2171.38,989.631 2291.5,989.631 \"/>\n",
       "<path clip-path=\"url(#clip102)\" d=\"M2171.38 969.335 L2111.33 969.335 L2231.44 969.335 L2171.38 969.335 L2171.38 989.631 L2171.38 969.335  Z\" fill=\"#e26f46\" fill-rule=\"evenodd\" fill-opacity=\"0.5\"/>\n",
       "<polyline clip-path=\"url(#clip102)\" style=\"stroke:#000000; stroke-linecap:round; stroke-linejoin:round; stroke-width:8; stroke-opacity:1; fill:none\" points=\"2171.38,969.335 2111.33,969.335 2231.44,969.335 2171.38,969.335 2171.38,989.631 2171.38,969.335 \"/>\n",
       "<circle clip-path=\"url(#clip102)\" cx=\"369.665\" cy=\"810.917\" r=\"14.4\" fill=\"#e26f46\" fill-rule=\"evenodd\" fill-opacity=\"1\" stroke=\"#000000\" stroke-opacity=\"1\" stroke-width=\"3.2\"/>\n",
       "<circle clip-path=\"url(#clip102)\" cx=\"369.665\" cy=\"861.902\" r=\"14.4\" fill=\"#e26f46\" fill-rule=\"evenodd\" fill-opacity=\"1\" stroke=\"#000000\" stroke-opacity=\"1\" stroke-width=\"3.2\"/>\n",
       "<circle clip-path=\"url(#clip102)\" cx=\"369.665\" cy=\"861.902\" r=\"14.4\" fill=\"#e26f46\" fill-rule=\"evenodd\" fill-opacity=\"1\" stroke=\"#000000\" stroke-opacity=\"1\" stroke-width=\"3.2\"/>\n",
       "<circle clip-path=\"url(#clip102)\" cx=\"369.665\" cy=\"861.902\" r=\"14.4\" fill=\"#e26f46\" fill-rule=\"evenodd\" fill-opacity=\"1\" stroke=\"#000000\" stroke-opacity=\"1\" stroke-width=\"3.2\"/>\n",
       "<circle clip-path=\"url(#clip102)\" cx=\"369.665\" cy=\"861.902\" r=\"14.4\" fill=\"#e26f46\" fill-rule=\"evenodd\" fill-opacity=\"1\" stroke=\"#000000\" stroke-opacity=\"1\" stroke-width=\"3.2\"/>\n",
       "<circle clip-path=\"url(#clip102)\" cx=\"369.665\" cy=\"877.874\" r=\"14.4\" fill=\"#e26f46\" fill-rule=\"evenodd\" fill-opacity=\"1\" stroke=\"#000000\" stroke-opacity=\"1\" stroke-width=\"3.2\"/>\n",
       "<circle clip-path=\"url(#clip102)\" cx=\"369.665\" cy=\"877.874\" r=\"14.4\" fill=\"#e26f46\" fill-rule=\"evenodd\" fill-opacity=\"1\" stroke=\"#000000\" stroke-opacity=\"1\" stroke-width=\"3.2\"/>\n",
       "<circle clip-path=\"url(#clip102)\" cx=\"369.665\" cy=\"877.874\" r=\"14.4\" fill=\"#e26f46\" fill-rule=\"evenodd\" fill-opacity=\"1\" stroke=\"#000000\" stroke-opacity=\"1\" stroke-width=\"3.2\"/>\n",
       "<circle clip-path=\"url(#clip102)\" cx=\"369.665\" cy=\"877.874\" r=\"14.4\" fill=\"#e26f46\" fill-rule=\"evenodd\" fill-opacity=\"1\" stroke=\"#000000\" stroke-opacity=\"1\" stroke-width=\"3.2\"/>\n",
       "<circle clip-path=\"url(#clip102)\" cx=\"369.665\" cy=\"893.001\" r=\"14.4\" fill=\"#e26f46\" fill-rule=\"evenodd\" fill-opacity=\"1\" stroke=\"#000000\" stroke-opacity=\"1\" stroke-width=\"3.2\"/>\n",
       "<circle clip-path=\"url(#clip102)\" cx=\"369.665\" cy=\"873.49\" r=\"14.4\" fill=\"#e26f46\" fill-rule=\"evenodd\" fill-opacity=\"1\" stroke=\"#000000\" stroke-opacity=\"1\" stroke-width=\"3.2\"/>\n",
       "<circle clip-path=\"url(#clip102)\" cx=\"369.665\" cy=\"752.799\" r=\"14.4\" fill=\"#e26f46\" fill-rule=\"evenodd\" fill-opacity=\"1\" stroke=\"#000000\" stroke-opacity=\"1\" stroke-width=\"3.2\"/>\n",
       "<circle clip-path=\"url(#clip102)\" cx=\"369.665\" cy=\"886.043\" r=\"14.4\" fill=\"#e26f46\" fill-rule=\"evenodd\" fill-opacity=\"1\" stroke=\"#000000\" stroke-opacity=\"1\" stroke-width=\"3.2\"/>\n",
       "<circle clip-path=\"url(#clip102)\" cx=\"369.665\" cy=\"853.009\" r=\"14.4\" fill=\"#e26f46\" fill-rule=\"evenodd\" fill-opacity=\"1\" stroke=\"#000000\" stroke-opacity=\"1\" stroke-width=\"3.2\"/>\n",
       "<circle clip-path=\"url(#clip102)\" cx=\"369.665\" cy=\"817.53\" r=\"14.4\" fill=\"#e26f46\" fill-rule=\"evenodd\" fill-opacity=\"1\" stroke=\"#000000\" stroke-opacity=\"1\" stroke-width=\"3.2\"/>\n",
       "<circle clip-path=\"url(#clip102)\" cx=\"369.665\" cy=\"870.299\" r=\"14.4\" fill=\"#e26f46\" fill-rule=\"evenodd\" fill-opacity=\"1\" stroke=\"#000000\" stroke-opacity=\"1\" stroke-width=\"3.2\"/>\n",
       "<circle clip-path=\"url(#clip102)\" cx=\"369.665\" cy=\"871.983\" r=\"14.4\" fill=\"#e26f46\" fill-rule=\"evenodd\" fill-opacity=\"1\" stroke=\"#000000\" stroke-opacity=\"1\" stroke-width=\"3.2\"/>\n",
       "<circle clip-path=\"url(#clip102)\" cx=\"369.665\" cy=\"893.007\" r=\"14.4\" fill=\"#e26f46\" fill-rule=\"evenodd\" fill-opacity=\"1\" stroke=\"#000000\" stroke-opacity=\"1\" stroke-width=\"3.2\"/>\n",
       "<circle clip-path=\"url(#clip102)\" cx=\"369.665\" cy=\"875.986\" r=\"14.4\" fill=\"#e26f46\" fill-rule=\"evenodd\" fill-opacity=\"1\" stroke=\"#000000\" stroke-opacity=\"1\" stroke-width=\"3.2\"/>\n",
       "<circle clip-path=\"url(#clip102)\" cx=\"369.665\" cy=\"865.684\" r=\"14.4\" fill=\"#e26f46\" fill-rule=\"evenodd\" fill-opacity=\"1\" stroke=\"#000000\" stroke-opacity=\"1\" stroke-width=\"3.2\"/>\n",
       "<circle clip-path=\"url(#clip102)\" cx=\"369.665\" cy=\"855.818\" r=\"14.4\" fill=\"#e26f46\" fill-rule=\"evenodd\" fill-opacity=\"1\" stroke=\"#000000\" stroke-opacity=\"1\" stroke-width=\"3.2\"/>\n",
       "<circle clip-path=\"url(#clip102)\" cx=\"369.665\" cy=\"865.847\" r=\"14.4\" fill=\"#e26f46\" fill-rule=\"evenodd\" fill-opacity=\"1\" stroke=\"#000000\" stroke-opacity=\"1\" stroke-width=\"3.2\"/>\n",
       "<circle clip-path=\"url(#clip102)\" cx=\"669.951\" cy=\"1120.83\" r=\"14.4\" fill=\"#e26f46\" fill-rule=\"evenodd\" fill-opacity=\"1\" stroke=\"#000000\" stroke-opacity=\"1\" stroke-width=\"3.2\"/>\n",
       "<circle clip-path=\"url(#clip102)\" cx=\"669.951\" cy=\"1026.84\" r=\"14.4\" fill=\"#e26f46\" fill-rule=\"evenodd\" fill-opacity=\"1\" stroke=\"#000000\" stroke-opacity=\"1\" stroke-width=\"3.2\"/>\n",
       "<circle clip-path=\"url(#clip102)\" cx=\"669.951\" cy=\"1026.84\" r=\"14.4\" fill=\"#e26f46\" fill-rule=\"evenodd\" fill-opacity=\"1\" stroke=\"#000000\" stroke-opacity=\"1\" stroke-width=\"3.2\"/>\n",
       "<circle clip-path=\"url(#clip102)\" cx=\"669.951\" cy=\"1120.83\" r=\"14.4\" fill=\"#e26f46\" fill-rule=\"evenodd\" fill-opacity=\"1\" stroke=\"#000000\" stroke-opacity=\"1\" stroke-width=\"3.2\"/>\n",
       "<circle clip-path=\"url(#clip102)\" cx=\"669.951\" cy=\"1026.84\" r=\"14.4\" fill=\"#e26f46\" fill-rule=\"evenodd\" fill-opacity=\"1\" stroke=\"#000000\" stroke-opacity=\"1\" stroke-width=\"3.2\"/>\n",
       "<circle clip-path=\"url(#clip102)\" cx=\"669.951\" cy=\"1026.84\" r=\"14.4\" fill=\"#e26f46\" fill-rule=\"evenodd\" fill-opacity=\"1\" stroke=\"#000000\" stroke-opacity=\"1\" stroke-width=\"3.2\"/>\n",
       "<circle clip-path=\"url(#clip102)\" cx=\"669.951\" cy=\"1026.84\" r=\"14.4\" fill=\"#e26f46\" fill-rule=\"evenodd\" fill-opacity=\"1\" stroke=\"#000000\" stroke-opacity=\"1\" stroke-width=\"3.2\"/>\n",
       "<circle clip-path=\"url(#clip102)\" cx=\"669.951\" cy=\"1120.83\" r=\"14.4\" fill=\"#e26f46\" fill-rule=\"evenodd\" fill-opacity=\"1\" stroke=\"#000000\" stroke-opacity=\"1\" stroke-width=\"3.2\"/>\n",
       "<circle clip-path=\"url(#clip102)\" cx=\"669.951\" cy=\"1110.25\" r=\"14.4\" fill=\"#e26f46\" fill-rule=\"evenodd\" fill-opacity=\"1\" stroke=\"#000000\" stroke-opacity=\"1\" stroke-width=\"3.2\"/>\n",
       "<circle clip-path=\"url(#clip102)\" cx=\"669.951\" cy=\"1110.25\" r=\"14.4\" fill=\"#e26f46\" fill-rule=\"evenodd\" fill-opacity=\"1\" stroke=\"#000000\" stroke-opacity=\"1\" stroke-width=\"3.2\"/>\n",
       "<circle clip-path=\"url(#clip102)\" cx=\"669.951\" cy=\"1115.92\" r=\"14.4\" fill=\"#e26f46\" fill-rule=\"evenodd\" fill-opacity=\"1\" stroke=\"#000000\" stroke-opacity=\"1\" stroke-width=\"3.2\"/>\n",
       "<circle clip-path=\"url(#clip102)\" cx=\"669.951\" cy=\"1088.64\" r=\"14.4\" fill=\"#e26f46\" fill-rule=\"evenodd\" fill-opacity=\"1\" stroke=\"#000000\" stroke-opacity=\"1\" stroke-width=\"3.2\"/>\n",
       "<circle clip-path=\"url(#clip102)\" cx=\"970.238\" cy=\"1054.95\" r=\"14.4\" fill=\"#e26f46\" fill-rule=\"evenodd\" fill-opacity=\"1\" stroke=\"#000000\" stroke-opacity=\"1\" stroke-width=\"3.2\"/>\n",
       "<circle clip-path=\"url(#clip102)\" cx=\"970.238\" cy=\"1054.95\" r=\"14.4\" fill=\"#e26f46\" fill-rule=\"evenodd\" fill-opacity=\"1\" stroke=\"#000000\" stroke-opacity=\"1\" stroke-width=\"3.2\"/>\n",
       "<circle clip-path=\"url(#clip102)\" cx=\"970.238\" cy=\"1009.24\" r=\"14.4\" fill=\"#e26f46\" fill-rule=\"evenodd\" fill-opacity=\"1\" stroke=\"#000000\" stroke-opacity=\"1\" stroke-width=\"3.2\"/>\n",
       "<circle clip-path=\"url(#clip102)\" cx=\"970.238\" cy=\"1139.61\" r=\"14.4\" fill=\"#e26f46\" fill-rule=\"evenodd\" fill-opacity=\"1\" stroke=\"#000000\" stroke-opacity=\"1\" stroke-width=\"3.2\"/>\n",
       "<circle clip-path=\"url(#clip102)\" cx=\"970.238\" cy=\"1139.61\" r=\"14.4\" fill=\"#e26f46\" fill-rule=\"evenodd\" fill-opacity=\"1\" stroke=\"#000000\" stroke-opacity=\"1\" stroke-width=\"3.2\"/>\n",
       "<circle clip-path=\"url(#clip102)\" cx=\"970.238\" cy=\"1132.53\" r=\"14.4\" fill=\"#e26f46\" fill-rule=\"evenodd\" fill-opacity=\"1\" stroke=\"#000000\" stroke-opacity=\"1\" stroke-width=\"3.2\"/>\n",
       "<circle clip-path=\"url(#clip102)\" cx=\"970.238\" cy=\"1161.22\" r=\"14.4\" fill=\"#e26f46\" fill-rule=\"evenodd\" fill-opacity=\"1\" stroke=\"#000000\" stroke-opacity=\"1\" stroke-width=\"3.2\"/>\n",
       "<circle clip-path=\"url(#clip102)\" cx=\"970.238\" cy=\"1158.85\" r=\"14.4\" fill=\"#e26f46\" fill-rule=\"evenodd\" fill-opacity=\"1\" stroke=\"#000000\" stroke-opacity=\"1\" stroke-width=\"3.2\"/>\n",
       "<circle clip-path=\"url(#clip102)\" cx=\"970.238\" cy=\"1156.89\" r=\"14.4\" fill=\"#e26f46\" fill-rule=\"evenodd\" fill-opacity=\"1\" stroke=\"#000000\" stroke-opacity=\"1\" stroke-width=\"3.2\"/>\n",
       "<circle clip-path=\"url(#clip102)\" cx=\"970.238\" cy=\"1080.43\" r=\"14.4\" fill=\"#e26f46\" fill-rule=\"evenodd\" fill-opacity=\"1\" stroke=\"#000000\" stroke-opacity=\"1\" stroke-width=\"3.2\"/>\n",
       "<circle clip-path=\"url(#clip102)\" cx=\"970.238\" cy=\"1111.25\" r=\"14.4\" fill=\"#e26f46\" fill-rule=\"evenodd\" fill-opacity=\"1\" stroke=\"#000000\" stroke-opacity=\"1\" stroke-width=\"3.2\"/>\n",
       "<circle clip-path=\"url(#clip102)\" cx=\"970.238\" cy=\"1164.21\" r=\"14.4\" fill=\"#e26f46\" fill-rule=\"evenodd\" fill-opacity=\"1\" stroke=\"#000000\" stroke-opacity=\"1\" stroke-width=\"3.2\"/>\n",
       "<circle clip-path=\"url(#clip102)\" cx=\"970.238\" cy=\"1138.63\" r=\"14.4\" fill=\"#e26f46\" fill-rule=\"evenodd\" fill-opacity=\"1\" stroke=\"#000000\" stroke-opacity=\"1\" stroke-width=\"3.2\"/>\n",
       "<circle clip-path=\"url(#clip102)\" cx=\"1570.81\" cy=\"1183.09\" r=\"14.4\" fill=\"#e26f46\" fill-rule=\"evenodd\" fill-opacity=\"1\" stroke=\"#000000\" stroke-opacity=\"1\" stroke-width=\"3.2\"/>\n",
       "<circle clip-path=\"url(#clip102)\" cx=\"1570.81\" cy=\"1183.09\" r=\"14.4\" fill=\"#e26f46\" fill-rule=\"evenodd\" fill-opacity=\"1\" stroke=\"#000000\" stroke-opacity=\"1\" stroke-width=\"3.2\"/>\n",
       "<circle clip-path=\"url(#clip102)\" cx=\"1570.81\" cy=\"1183.09\" r=\"14.4\" fill=\"#e26f46\" fill-rule=\"evenodd\" fill-opacity=\"1\" stroke=\"#000000\" stroke-opacity=\"1\" stroke-width=\"3.2\"/>\n",
       "<circle clip-path=\"url(#clip102)\" cx=\"1570.81\" cy=\"1183.09\" r=\"14.4\" fill=\"#e26f46\" fill-rule=\"evenodd\" fill-opacity=\"1\" stroke=\"#000000\" stroke-opacity=\"1\" stroke-width=\"3.2\"/>\n",
       "<circle clip-path=\"url(#clip102)\" cx=\"1570.81\" cy=\"1183.09\" r=\"14.4\" fill=\"#e26f46\" fill-rule=\"evenodd\" fill-opacity=\"1\" stroke=\"#000000\" stroke-opacity=\"1\" stroke-width=\"3.2\"/>\n",
       "<circle clip-path=\"url(#clip102)\" cx=\"1570.81\" cy=\"1183.09\" r=\"14.4\" fill=\"#e26f46\" fill-rule=\"evenodd\" fill-opacity=\"1\" stroke=\"#000000\" stroke-opacity=\"1\" stroke-width=\"3.2\"/>\n",
       "<circle clip-path=\"url(#clip102)\" cx=\"1570.81\" cy=\"1183.09\" r=\"14.4\" fill=\"#e26f46\" fill-rule=\"evenodd\" fill-opacity=\"1\" stroke=\"#000000\" stroke-opacity=\"1\" stroke-width=\"3.2\"/>\n",
       "<circle clip-path=\"url(#clip102)\" cx=\"1570.81\" cy=\"1171.22\" r=\"14.4\" fill=\"#e26f46\" fill-rule=\"evenodd\" fill-opacity=\"1\" stroke=\"#000000\" stroke-opacity=\"1\" stroke-width=\"3.2\"/>\n",
       "<circle clip-path=\"url(#clip102)\" cx=\"1570.81\" cy=\"1173.15\" r=\"14.4\" fill=\"#e26f46\" fill-rule=\"evenodd\" fill-opacity=\"1\" stroke=\"#000000\" stroke-opacity=\"1\" stroke-width=\"3.2\"/>\n",
       "<circle clip-path=\"url(#clip102)\" cx=\"1570.81\" cy=\"1173.15\" r=\"14.4\" fill=\"#e26f46\" fill-rule=\"evenodd\" fill-opacity=\"1\" stroke=\"#000000\" stroke-opacity=\"1\" stroke-width=\"3.2\"/>\n",
       "<circle clip-path=\"url(#clip102)\" cx=\"1570.81\" cy=\"1173.15\" r=\"14.4\" fill=\"#e26f46\" fill-rule=\"evenodd\" fill-opacity=\"1\" stroke=\"#000000\" stroke-opacity=\"1\" stroke-width=\"3.2\"/>\n",
       "<circle clip-path=\"url(#clip102)\" cx=\"1570.81\" cy=\"1173.15\" r=\"14.4\" fill=\"#e26f46\" fill-rule=\"evenodd\" fill-opacity=\"1\" stroke=\"#000000\" stroke-opacity=\"1\" stroke-width=\"3.2\"/>\n",
       "<circle clip-path=\"url(#clip102)\" cx=\"1570.81\" cy=\"1173.15\" r=\"14.4\" fill=\"#e26f46\" fill-rule=\"evenodd\" fill-opacity=\"1\" stroke=\"#000000\" stroke-opacity=\"1\" stroke-width=\"3.2\"/>\n",
       "<circle clip-path=\"url(#clip102)\" cx=\"1570.81\" cy=\"1173.15\" r=\"14.4\" fill=\"#e26f46\" fill-rule=\"evenodd\" fill-opacity=\"1\" stroke=\"#000000\" stroke-opacity=\"1\" stroke-width=\"3.2\"/>\n",
       "<circle clip-path=\"url(#clip102)\" cx=\"1570.81\" cy=\"1173.15\" r=\"14.4\" fill=\"#e26f46\" fill-rule=\"evenodd\" fill-opacity=\"1\" stroke=\"#000000\" stroke-opacity=\"1\" stroke-width=\"3.2\"/>\n",
       "<circle clip-path=\"url(#clip102)\" cx=\"1570.81\" cy=\"1173.15\" r=\"14.4\" fill=\"#e26f46\" fill-rule=\"evenodd\" fill-opacity=\"1\" stroke=\"#000000\" stroke-opacity=\"1\" stroke-width=\"3.2\"/>\n",
       "<circle clip-path=\"url(#clip102)\" cx=\"1570.81\" cy=\"1173.15\" r=\"14.4\" fill=\"#e26f46\" fill-rule=\"evenodd\" fill-opacity=\"1\" stroke=\"#000000\" stroke-opacity=\"1\" stroke-width=\"3.2\"/>\n",
       "<circle clip-path=\"url(#clip102)\" cx=\"1570.81\" cy=\"1186.7\" r=\"14.4\" fill=\"#e26f46\" fill-rule=\"evenodd\" fill-opacity=\"1\" stroke=\"#000000\" stroke-opacity=\"1\" stroke-width=\"3.2\"/>\n",
       "<circle clip-path=\"url(#clip102)\" cx=\"1570.81\" cy=\"1186.7\" r=\"14.4\" fill=\"#e26f46\" fill-rule=\"evenodd\" fill-opacity=\"1\" stroke=\"#000000\" stroke-opacity=\"1\" stroke-width=\"3.2\"/>\n",
       "<circle clip-path=\"url(#clip102)\" cx=\"1871.1\" cy=\"930.629\" r=\"14.4\" fill=\"#e26f46\" fill-rule=\"evenodd\" fill-opacity=\"1\" stroke=\"#000000\" stroke-opacity=\"1\" stroke-width=\"3.2\"/>\n",
       "<circle clip-path=\"url(#clip102)\" cx=\"1871.1\" cy=\"855.852\" r=\"14.4\" fill=\"#e26f46\" fill-rule=\"evenodd\" fill-opacity=\"1\" stroke=\"#000000\" stroke-opacity=\"1\" stroke-width=\"3.2\"/>\n",
       "<circle clip-path=\"url(#clip102)\" cx=\"1871.1\" cy=\"835.292\" r=\"14.4\" fill=\"#e26f46\" fill-rule=\"evenodd\" fill-opacity=\"1\" stroke=\"#000000\" stroke-opacity=\"1\" stroke-width=\"3.2\"/>\n",
       "<circle clip-path=\"url(#clip102)\" cx=\"1871.1\" cy=\"851.856\" r=\"14.4\" fill=\"#e26f46\" fill-rule=\"evenodd\" fill-opacity=\"1\" stroke=\"#000000\" stroke-opacity=\"1\" stroke-width=\"3.2\"/>\n",
       "<circle clip-path=\"url(#clip102)\" cx=\"1871.1\" cy=\"851.856\" r=\"14.4\" fill=\"#e26f46\" fill-rule=\"evenodd\" fill-opacity=\"1\" stroke=\"#000000\" stroke-opacity=\"1\" stroke-width=\"3.2\"/>\n",
       "<circle clip-path=\"url(#clip102)\" cx=\"1871.1\" cy=\"851.856\" r=\"14.4\" fill=\"#e26f46\" fill-rule=\"evenodd\" fill-opacity=\"1\" stroke=\"#000000\" stroke-opacity=\"1\" stroke-width=\"3.2\"/>\n",
       "<circle clip-path=\"url(#clip102)\" cx=\"1871.1\" cy=\"851.856\" r=\"14.4\" fill=\"#e26f46\" fill-rule=\"evenodd\" fill-opacity=\"1\" stroke=\"#000000\" stroke-opacity=\"1\" stroke-width=\"3.2\"/>\n",
       "<circle clip-path=\"url(#clip102)\" cx=\"1871.1\" cy=\"851.856\" r=\"14.4\" fill=\"#e26f46\" fill-rule=\"evenodd\" fill-opacity=\"1\" stroke=\"#000000\" stroke-opacity=\"1\" stroke-width=\"3.2\"/>\n",
       "<circle clip-path=\"url(#clip102)\" cx=\"1871.1\" cy=\"851.856\" r=\"14.4\" fill=\"#e26f46\" fill-rule=\"evenodd\" fill-opacity=\"1\" stroke=\"#000000\" stroke-opacity=\"1\" stroke-width=\"3.2\"/>\n",
       "<circle clip-path=\"url(#clip102)\" cx=\"1871.1\" cy=\"851.856\" r=\"14.4\" fill=\"#e26f46\" fill-rule=\"evenodd\" fill-opacity=\"1\" stroke=\"#000000\" stroke-opacity=\"1\" stroke-width=\"3.2\"/>\n",
       "<circle clip-path=\"url(#clip102)\" cx=\"1871.1\" cy=\"851.856\" r=\"14.4\" fill=\"#e26f46\" fill-rule=\"evenodd\" fill-opacity=\"1\" stroke=\"#000000\" stroke-opacity=\"1\" stroke-width=\"3.2\"/>\n",
       "<circle clip-path=\"url(#clip102)\" cx=\"1871.1\" cy=\"851.856\" r=\"14.4\" fill=\"#e26f46\" fill-rule=\"evenodd\" fill-opacity=\"1\" stroke=\"#000000\" stroke-opacity=\"1\" stroke-width=\"3.2\"/>\n",
       "<circle clip-path=\"url(#clip102)\" cx=\"1871.1\" cy=\"851.856\" r=\"14.4\" fill=\"#e26f46\" fill-rule=\"evenodd\" fill-opacity=\"1\" stroke=\"#000000\" stroke-opacity=\"1\" stroke-width=\"3.2\"/>\n",
       "<circle clip-path=\"url(#clip102)\" cx=\"1871.1\" cy=\"940.724\" r=\"14.4\" fill=\"#e26f46\" fill-rule=\"evenodd\" fill-opacity=\"1\" stroke=\"#000000\" stroke-opacity=\"1\" stroke-width=\"3.2\"/>\n",
       "<circle clip-path=\"url(#clip102)\" cx=\"1871.1\" cy=\"940.724\" r=\"14.4\" fill=\"#e26f46\" fill-rule=\"evenodd\" fill-opacity=\"1\" stroke=\"#000000\" stroke-opacity=\"1\" stroke-width=\"3.2\"/>\n",
       "<circle clip-path=\"url(#clip102)\" cx=\"1871.1\" cy=\"940.724\" r=\"14.4\" fill=\"#e26f46\" fill-rule=\"evenodd\" fill-opacity=\"1\" stroke=\"#000000\" stroke-opacity=\"1\" stroke-width=\"3.2\"/>\n",
       "<circle clip-path=\"url(#clip102)\" cx=\"2171.38\" cy=\"810.917\" r=\"14.4\" fill=\"#e26f46\" fill-rule=\"evenodd\" fill-opacity=\"1\" stroke=\"#000000\" stroke-opacity=\"1\" stroke-width=\"3.2\"/>\n",
       "<circle clip-path=\"url(#clip102)\" cx=\"2171.38\" cy=\"940.122\" r=\"14.4\" fill=\"#e26f46\" fill-rule=\"evenodd\" fill-opacity=\"1\" stroke=\"#000000\" stroke-opacity=\"1\" stroke-width=\"3.2\"/>\n",
       "<circle clip-path=\"url(#clip102)\" cx=\"2171.38\" cy=\"940.122\" r=\"14.4\" fill=\"#e26f46\" fill-rule=\"evenodd\" fill-opacity=\"1\" stroke=\"#000000\" stroke-opacity=\"1\" stroke-width=\"3.2\"/>\n",
       "<circle clip-path=\"url(#clip102)\" cx=\"2171.38\" cy=\"877.874\" r=\"14.4\" fill=\"#e26f46\" fill-rule=\"evenodd\" fill-opacity=\"1\" stroke=\"#000000\" stroke-opacity=\"1\" stroke-width=\"3.2\"/>\n",
       "<circle clip-path=\"url(#clip102)\" cx=\"2171.38\" cy=\"940.122\" r=\"14.4\" fill=\"#e26f46\" fill-rule=\"evenodd\" fill-opacity=\"1\" stroke=\"#000000\" stroke-opacity=\"1\" stroke-width=\"3.2\"/>\n",
       "<circle clip-path=\"url(#clip102)\" cx=\"2171.38\" cy=\"940.122\" r=\"14.4\" fill=\"#e26f46\" fill-rule=\"evenodd\" fill-opacity=\"1\" stroke=\"#000000\" stroke-opacity=\"1\" stroke-width=\"3.2\"/>\n",
       "<circle clip-path=\"url(#clip102)\" cx=\"2171.38\" cy=\"945.622\" r=\"14.4\" fill=\"#e26f46\" fill-rule=\"evenodd\" fill-opacity=\"1\" stroke=\"#000000\" stroke-opacity=\"1\" stroke-width=\"3.2\"/>\n",
       "<circle clip-path=\"url(#clip102)\" cx=\"2171.38\" cy=\"952.743\" r=\"14.4\" fill=\"#e26f46\" fill-rule=\"evenodd\" fill-opacity=\"1\" stroke=\"#000000\" stroke-opacity=\"1\" stroke-width=\"3.2\"/>\n",
       "<circle clip-path=\"url(#clip102)\" cx=\"2171.38\" cy=\"845.314\" r=\"14.4\" fill=\"#e26f46\" fill-rule=\"evenodd\" fill-opacity=\"1\" stroke=\"#000000\" stroke-opacity=\"1\" stroke-width=\"3.2\"/>\n",
       "<circle clip-path=\"url(#clip102)\" cx=\"2171.38\" cy=\"948.132\" r=\"14.4\" fill=\"#e26f46\" fill-rule=\"evenodd\" fill-opacity=\"1\" stroke=\"#000000\" stroke-opacity=\"1\" stroke-width=\"3.2\"/>\n",
       "<circle clip-path=\"url(#clip102)\" cx=\"2171.38\" cy=\"952.79\" r=\"14.4\" fill=\"#e26f46\" fill-rule=\"evenodd\" fill-opacity=\"1\" stroke=\"#000000\" stroke-opacity=\"1\" stroke-width=\"3.2\"/>\n",
       "<circle clip-path=\"url(#clip102)\" cx=\"2171.38\" cy=\"950.055\" r=\"14.4\" fill=\"#e26f46\" fill-rule=\"evenodd\" fill-opacity=\"1\" stroke=\"#000000\" stroke-opacity=\"1\" stroke-width=\"3.2\"/>\n",
       "<circle clip-path=\"url(#clip102)\" cx=\"2171.38\" cy=\"931.315\" r=\"14.4\" fill=\"#e26f46\" fill-rule=\"evenodd\" fill-opacity=\"1\" stroke=\"#000000\" stroke-opacity=\"1\" stroke-width=\"3.2\"/>\n",
       "<circle clip-path=\"url(#clip102)\" cx=\"2171.38\" cy=\"871.183\" r=\"14.4\" fill=\"#e26f46\" fill-rule=\"evenodd\" fill-opacity=\"1\" stroke=\"#000000\" stroke-opacity=\"1\" stroke-width=\"3.2\"/>\n",
       "<circle clip-path=\"url(#clip102)\" cx=\"2171.38\" cy=\"929.784\" r=\"14.4\" fill=\"#e26f46\" fill-rule=\"evenodd\" fill-opacity=\"1\" stroke=\"#000000\" stroke-opacity=\"1\" stroke-width=\"3.2\"/>\n",
       "<circle clip-path=\"url(#clip102)\" cx=\"2171.38\" cy=\"903.66\" r=\"14.4\" fill=\"#e26f46\" fill-rule=\"evenodd\" fill-opacity=\"1\" stroke=\"#000000\" stroke-opacity=\"1\" stroke-width=\"3.2\"/>\n",
       "<circle clip-path=\"url(#clip102)\" cx=\"2171.38\" cy=\"910.122\" r=\"14.4\" fill=\"#e26f46\" fill-rule=\"evenodd\" fill-opacity=\"1\" stroke=\"#000000\" stroke-opacity=\"1\" stroke-width=\"3.2\"/>\n",
       "<circle clip-path=\"url(#clip102)\" cx=\"2171.38\" cy=\"937.597\" r=\"14.4\" fill=\"#e26f46\" fill-rule=\"evenodd\" fill-opacity=\"1\" stroke=\"#000000\" stroke-opacity=\"1\" stroke-width=\"3.2\"/>\n",
       "<polyline clip-path=\"url(#clip102)\" style=\"stroke:#e26f46; stroke-linecap:round; stroke-linejoin:round; stroke-width:0; stroke-opacity:1; fill:none\" points=\"369.665,1259.52 309.608,1259.52 429.722,1259.52 369.665,1259.52 369.665,1069.91 \"/>\n",
       "<polyline clip-path=\"url(#clip102)\" style=\"stroke:#e26f46; stroke-linecap:round; stroke-linejoin:round; stroke-width:0; stroke-opacity:1; fill:none\" points=\"489.78,1069.91 489.78,996.869 249.551,996.869 249.551,1069.91 489.78,1069.91 489.78,996.869 \"/>\n",
       "<polyline clip-path=\"url(#clip102)\" style=\"stroke:#e26f46; stroke-linecap:round; stroke-linejoin:round; stroke-width:0; stroke-opacity:1; fill:none\" points=\"489.78,940.122 249.551,940.122 249.551,996.869 489.78,996.869 489.78,940.122 369.665,940.122 \"/>\n",
       "<polyline clip-path=\"url(#clip102)\" style=\"stroke:#e26f46; stroke-linecap:round; stroke-linejoin:round; stroke-width:0; stroke-opacity:1; fill:none\" points=\"369.665,907.769 309.608,907.769 429.722,907.769 369.665,907.769 369.665,940.122 \"/>\n",
       "<polyline clip-path=\"url(#clip102)\" style=\"stroke:#e26f46; stroke-linecap:round; stroke-linejoin:round; stroke-width:0; stroke-opacity:1; fill:none\" points=\"669.951,1234.82 609.894,1234.82 730.009,1234.82 669.951,1234.82 669.951,1200.86 \"/>\n",
       "<polyline clip-path=\"url(#clip102)\" style=\"stroke:#e26f46; stroke-linecap:round; stroke-linejoin:round; stroke-width:0; stroke-opacity:1; fill:none\" points=\"790.066,1200.86 790.066,1186.96 549.837,1186.96 549.837,1200.86 790.066,1200.86 790.066,1186.96 \"/>\n",
       "<polyline clip-path=\"url(#clip102)\" style=\"stroke:#e26f46; stroke-linecap:round; stroke-linejoin:round; stroke-width:0; stroke-opacity:1; fill:none\" points=\"790.066,1186.96 549.837,1186.96 790.066,1186.96 669.951,1186.96 \"/>\n",
       "<polyline clip-path=\"url(#clip102)\" style=\"stroke:#e26f46; stroke-linecap:round; stroke-linejoin:round; stroke-width:0; stroke-opacity:1; fill:none\" points=\"669.951,1173.15 609.894,1173.15 730.009,1173.15 669.951,1173.15 669.951,1186.96 \"/>\n",
       "<polyline clip-path=\"url(#clip102)\" style=\"stroke:#e26f46; stroke-linecap:round; stroke-linejoin:round; stroke-width:0; stroke-opacity:1; fill:none\" points=\"970.238,1460.2 910.18,1460.2 1030.3,1460.2 970.238,1460.2 970.238,1338.53 \"/>\n",
       "<polyline clip-path=\"url(#clip102)\" style=\"stroke:#e26f46; stroke-linecap:round; stroke-linejoin:round; stroke-width:0; stroke-opacity:1; fill:none\" points=\"1090.35,1338.53 1090.35,1263.22 850.123,1263.22 850.123,1338.53 1090.35,1338.53 1090.35,1263.22 \"/>\n",
       "<polyline clip-path=\"url(#clip102)\" style=\"stroke:#e26f46; stroke-linecap:round; stroke-linejoin:round; stroke-width:0; stroke-opacity:1; fill:none\" points=\"1090.35,1200.43 850.123,1200.43 850.123,1263.22 1090.35,1263.22 1090.35,1200.43 970.238,1200.43 \"/>\n",
       "<polyline clip-path=\"url(#clip102)\" style=\"stroke:#e26f46; stroke-linecap:round; stroke-linejoin:round; stroke-width:0; stroke-opacity:1; fill:none\" points=\"970.238,1170.65 910.18,1170.65 1030.3,1170.65 970.238,1170.65 970.238,1200.43 \"/>\n",
       "<polyline clip-path=\"url(#clip102)\" style=\"stroke:#e26f46; stroke-linecap:round; stroke-linejoin:round; stroke-width:0; stroke-opacity:1; fill:none\" points=\"1270.52,1334.79 1210.47,1334.79 1330.58,1334.79 1270.52,1334.79 1270.52,1118.15 \"/>\n",
       "<polyline clip-path=\"url(#clip102)\" style=\"stroke:#e26f46; stroke-linecap:round; stroke-linejoin:round; stroke-width:0; stroke-opacity:1; fill:none\" points=\"1390.64,1118.15 1390.64,997.431 1150.41,997.431 1150.41,1118.15 1390.64,1118.15 1390.64,997.431 \"/>\n",
       "<polyline clip-path=\"url(#clip102)\" style=\"stroke:#e26f46; stroke-linecap:round; stroke-linejoin:round; stroke-width:0; stroke-opacity:1; fill:none\" points=\"1390.64,985.159 1150.41,985.159 1150.41,997.431 1390.64,997.431 1390.64,985.159 1270.52,985.159 \"/>\n",
       "<polyline clip-path=\"url(#clip102)\" style=\"stroke:#e26f46; stroke-linecap:round; stroke-linejoin:round; stroke-width:0; stroke-opacity:1; fill:none\" points=\"1270.52,952.404 1210.47,952.404 1330.58,952.404 1270.52,952.404 1270.52,985.159 \"/>\n",
       "<polyline clip-path=\"url(#clip102)\" style=\"stroke:#e26f46; stroke-linecap:round; stroke-linejoin:round; stroke-width:0; stroke-opacity:1; fill:none\" points=\"1570.81,1440.43 1510.75,1440.43 1630.87,1440.43 1570.81,1440.43 1570.81,1400.36 \"/>\n",
       "<polyline clip-path=\"url(#clip102)\" style=\"stroke:#e26f46; stroke-linecap:round; stroke-linejoin:round; stroke-width:0; stroke-opacity:1; fill:none\" points=\"1690.92,1400.36 1690.92,1275.18 1450.7,1275.18 1450.7,1400.36 1690.92,1400.36 1690.92,1275.18 \"/>\n",
       "<polyline clip-path=\"url(#clip102)\" style=\"stroke:#e26f46; stroke-linecap:round; stroke-linejoin:round; stroke-width:0; stroke-opacity:1; fill:none\" points=\"1690.92,1232.47 1450.7,1232.47 1450.7,1275.18 1690.92,1275.18 1690.92,1232.47 1570.81,1232.47 \"/>\n",
       "<polyline clip-path=\"url(#clip102)\" style=\"stroke:#e26f46; stroke-linecap:round; stroke-linejoin:round; stroke-width:0; stroke-opacity:1; fill:none\" points=\"1570.81,1215.25 1510.75,1215.25 1630.87,1215.25 1570.81,1215.25 1570.81,1232.47 \"/>\n",
       "<polyline clip-path=\"url(#clip102)\" style=\"stroke:#e26f46; stroke-linecap:round; stroke-linejoin:round; stroke-width:0; stroke-opacity:1; fill:none\" points=\"1871.1,1147.19 1811.04,1147.19 1931.15,1147.19 1871.1,1147.19 1871.1,1012.48 \"/>\n",
       "<polyline clip-path=\"url(#clip102)\" style=\"stroke:#e26f46; stroke-linecap:round; stroke-linejoin:round; stroke-width:0; stroke-opacity:1; fill:none\" points=\"1991.21,1012.48 1991.21,996.197 1750.98,996.197 1750.98,1012.48 1991.21,1012.48 1991.21,996.197 \"/>\n",
       "<polyline clip-path=\"url(#clip102)\" style=\"stroke:#e26f46; stroke-linecap:round; stroke-linejoin:round; stroke-width:0; stroke-opacity:1; fill:none\" points=\"1991.21,978.15 1750.98,978.15 1750.98,996.197 1991.21,996.197 1991.21,978.15 1871.1,978.15 \"/>\n",
       "<polyline clip-path=\"url(#clip102)\" style=\"stroke:#e26f46; stroke-linecap:round; stroke-linejoin:round; stroke-width:0; stroke-opacity:1; fill:none\" points=\"1871.1,964.557 1811.04,964.557 1931.15,964.557 1871.1,964.557 1871.1,978.15 \"/>\n",
       "<polyline clip-path=\"url(#clip102)\" style=\"stroke:#e26f46; stroke-linecap:round; stroke-linejoin:round; stroke-width:0; stroke-opacity:1; fill:none\" points=\"2171.38,1318.46 2111.33,1318.46 2231.44,1318.46 2171.38,1318.46 2171.38,1114.3 \"/>\n",
       "<polyline clip-path=\"url(#clip102)\" style=\"stroke:#e26f46; stroke-linecap:round; stroke-linejoin:round; stroke-width:0; stroke-opacity:1; fill:none\" points=\"2291.5,1114.3 2291.5,1039.68 2051.27,1039.68 2051.27,1114.3 2291.5,1114.3 2291.5,1039.68 \"/>\n",
       "<polyline clip-path=\"url(#clip102)\" style=\"stroke:#e26f46; stroke-linecap:round; stroke-linejoin:round; stroke-width:0; stroke-opacity:1; fill:none\" points=\"2291.5,989.631 2051.27,989.631 2051.27,1039.68 2291.5,1039.68 2291.5,989.631 2171.38,989.631 \"/>\n",
       "<polyline clip-path=\"url(#clip102)\" style=\"stroke:#e26f46; stroke-linecap:round; stroke-linejoin:round; stroke-width:0; stroke-opacity:1; fill:none\" points=\"2171.38,969.335 2111.33,969.335 2231.44,969.335 2171.38,969.335 2171.38,989.631 \"/>\n",
       "<path clip-path=\"url(#clip100)\" d=\"M1602.06 250.738 L2280.61 250.738 L2280.61 95.2176 L1602.06 95.2176  Z\" fill=\"#ffffff\" fill-rule=\"evenodd\" fill-opacity=\"1\"/>\n",
       "<polyline clip-path=\"url(#clip100)\" style=\"stroke:#000000; stroke-linecap:round; stroke-linejoin:round; stroke-width:4; stroke-opacity:1; fill:none\" points=\"1602.06,250.738 2280.61,250.738 2280.61,95.2176 1602.06,95.2176 1602.06,250.738 \"/>\n",
       "<path clip-path=\"url(#clip100)\" d=\"M1626.11 167.794 L1770.4 167.794 L1770.4 126.322 L1626.11 126.322 L1626.11 167.794  Z\" fill=\"#009af9\" fill-rule=\"evenodd\" fill-opacity=\"0.5\"/>\n",
       "<polyline clip-path=\"url(#clip100)\" style=\"stroke:#000000; stroke-linecap:round; stroke-linejoin:round; stroke-width:8; stroke-opacity:1; fill:none\" points=\"1626.11,167.794 1770.4,167.794 1770.4,126.322 1626.11,126.322 1626.11,167.794 \"/>\n",
       "<path clip-path=\"url(#clip100)\" d=\"M1794.45 129.778 L1799.18 129.778 L1806.44 158.99 L1813.69 129.778 L1818.94 129.778 L1826.21 158.99 L1833.46 129.778 L1838.2 129.778 L1829.52 164.338 L1823.64 164.338 L1816.35 134.338 L1808.99 164.338 L1803.11 164.338 L1794.45 129.778 Z\" fill=\"#000000\" fill-rule=\"nonzero\" fill-opacity=\"1\" /><path clip-path=\"url(#clip100)\" d=\"M1843.18 138.412 L1847.44 138.412 L1847.44 164.338 L1843.18 164.338 L1843.18 138.412 M1843.18 128.319 L1847.44 128.319 L1847.44 133.713 L1843.18 133.713 L1843.18 128.319 Z\" fill=\"#000000\" fill-rule=\"nonzero\" fill-opacity=\"1\" /><path clip-path=\"url(#clip100)\" d=\"M1860.56 131.051 L1860.56 138.412 L1869.34 138.412 L1869.34 141.722 L1860.56 141.722 L1860.56 155.796 Q1860.56 158.967 1861.42 159.87 Q1862.3 160.773 1864.96 160.773 L1869.34 160.773 L1869.34 164.338 L1864.96 164.338 Q1860.03 164.338 1858.16 162.509 Q1856.28 160.657 1856.28 155.796 L1856.28 141.722 L1853.16 141.722 L1853.16 138.412 L1856.28 138.412 L1856.28 131.051 L1860.56 131.051 Z\" fill=\"#000000\" fill-rule=\"nonzero\" fill-opacity=\"1\" /><path clip-path=\"url(#clip100)\" d=\"M1896.49 148.689 L1896.49 164.338 L1892.23 164.338 L1892.23 148.828 Q1892.23 145.148 1890.8 143.319 Q1889.36 141.49 1886.49 141.49 Q1883.04 141.49 1881.05 143.69 Q1879.06 145.889 1879.06 149.685 L1879.06 164.338 L1874.78 164.338 L1874.78 128.319 L1879.06 128.319 L1879.06 142.44 Q1880.59 140.102 1882.65 138.944 Q1884.73 137.787 1887.44 137.787 Q1891.91 137.787 1894.2 140.565 Q1896.49 143.319 1896.49 148.689 Z\" fill=\"#000000\" fill-rule=\"nonzero\" fill-opacity=\"1\" /><path clip-path=\"url(#clip100)\" d=\"M1946.12 132.44 L1946.12 137.37 Q1943.76 135.171 1941.07 134.083 Q1938.41 132.995 1935.4 132.995 Q1929.48 132.995 1926.33 136.629 Q1923.18 140.24 1923.18 147.092 Q1923.18 153.921 1926.33 157.555 Q1929.48 161.166 1935.4 161.166 Q1938.41 161.166 1941.07 160.078 Q1943.76 158.99 1946.12 156.791 L1946.12 161.676 Q1943.67 163.342 1940.91 164.176 Q1938.18 165.009 1935.12 165.009 Q1927.28 165.009 1922.76 160.217 Q1918.25 155.402 1918.25 147.092 Q1918.25 138.759 1922.76 133.967 Q1927.28 129.153 1935.12 129.153 Q1938.23 129.153 1940.96 129.986 Q1943.71 130.796 1946.12 132.44 Z\" fill=\"#000000\" fill-rule=\"nonzero\" fill-opacity=\"1\" /><path clip-path=\"url(#clip100)\" d=\"M1963.94 166.745 Q1962.14 171.375 1960.42 172.787 Q1958.71 174.199 1955.84 174.199 L1952.44 174.199 L1952.44 170.634 L1954.94 170.634 Q1956.7 170.634 1957.67 169.8 Q1958.64 168.967 1959.82 165.865 L1960.59 163.921 L1950.1 138.412 L1954.61 138.412 L1962.72 158.689 L1970.82 138.412 L1975.33 138.412 L1963.94 166.745 Z\" fill=\"#000000\" fill-rule=\"nonzero\" fill-opacity=\"1\" /><path clip-path=\"url(#clip100)\" d=\"M1999.87 139.407 L1999.87 143.389 Q1998.06 142.393 1996.23 141.907 Q1994.43 141.398 1992.58 141.398 Q1988.43 141.398 1986.14 144.037 Q1983.85 146.652 1983.85 151.398 Q1983.85 156.143 1986.14 158.782 Q1988.43 161.398 1992.58 161.398 Q1994.43 161.398 1996.23 160.912 Q1998.06 160.402 1999.87 159.407 L1999.87 163.342 Q1998.09 164.176 1996.17 164.592 Q1994.27 165.009 1992.11 165.009 Q1986.26 165.009 1982.81 161.328 Q1979.36 157.648 1979.36 151.398 Q1979.36 145.055 1982.83 141.421 Q1986.33 137.787 1992.39 137.787 Q1994.36 137.787 1996.23 138.203 Q1998.11 138.597 1999.87 139.407 Z\" fill=\"#000000\" fill-rule=\"nonzero\" fill-opacity=\"1\" /><path clip-path=\"url(#clip100)\" d=\"M2007.28 128.319 L2011.54 128.319 L2011.54 164.338 L2007.28 164.338 L2007.28 128.319 Z\" fill=\"#000000\" fill-rule=\"nonzero\" fill-opacity=\"1\" /><path clip-path=\"url(#clip100)\" d=\"M2042.62 150.31 L2042.62 152.393 L2023.04 152.393 Q2023.32 156.791 2025.68 159.106 Q2028.06 161.398 2032.3 161.398 Q2034.75 161.398 2037.04 160.796 Q2039.36 160.194 2041.63 158.99 L2041.63 163.018 Q2039.34 163.99 2036.93 164.5 Q2034.52 165.009 2032.04 165.009 Q2025.84 165.009 2022.21 161.398 Q2018.6 157.787 2018.6 151.629 Q2018.6 145.264 2022.02 141.537 Q2025.47 137.787 2031.3 137.787 Q2036.54 137.787 2039.57 141.166 Q2042.62 144.523 2042.62 150.31 M2038.36 149.06 Q2038.32 145.565 2036.4 143.481 Q2034.5 141.398 2031.35 141.398 Q2027.79 141.398 2025.63 143.412 Q2023.5 145.426 2023.18 149.083 L2038.36 149.06 Z\" fill=\"#000000\" fill-rule=\"nonzero\" fill-opacity=\"1\" /><path clip-path=\"url(#clip100)\" d=\"M2085.59 130.912 L2085.59 135.472 Q2082.92 134.199 2080.56 133.574 Q2078.2 132.949 2076 132.949 Q2072.18 132.949 2070.1 134.43 Q2068.04 135.912 2068.04 138.643 Q2068.04 140.935 2069.41 142.115 Q2070.79 143.273 2074.64 143.99 L2077.46 144.569 Q2082.69 145.565 2085.17 148.088 Q2087.67 150.588 2087.67 154.801 Q2087.67 159.824 2084.29 162.416 Q2080.93 165.009 2074.43 165.009 Q2071.98 165.009 2069.2 164.453 Q2066.44 163.898 2063.48 162.81 L2063.48 157.995 Q2066.33 159.592 2069.06 160.402 Q2071.79 161.213 2074.43 161.213 Q2078.43 161.213 2080.61 159.639 Q2082.79 158.064 2082.79 155.148 Q2082.79 152.602 2081.21 151.166 Q2079.66 149.731 2076.1 149.014 L2073.25 148.458 Q2068.02 147.416 2065.68 145.194 Q2063.34 142.972 2063.34 139.014 Q2063.34 134.43 2066.56 131.791 Q2069.8 129.153 2075.47 129.153 Q2077.9 129.153 2080.42 129.592 Q2082.95 130.032 2085.59 130.912 Z\" fill=\"#000000\" fill-rule=\"nonzero\" fill-opacity=\"1\" /><path clip-path=\"url(#clip100)\" d=\"M2098.99 131.051 L2098.99 138.412 L2107.76 138.412 L2107.76 141.722 L2098.99 141.722 L2098.99 155.796 Q2098.99 158.967 2099.85 159.87 Q2100.73 160.773 2103.39 160.773 L2107.76 160.773 L2107.76 164.338 L2103.39 164.338 Q2098.46 164.338 2096.58 162.509 Q2094.71 160.657 2094.71 155.796 L2094.71 141.722 L2091.58 141.722 L2091.58 138.412 L2094.71 138.412 L2094.71 131.051 L2098.99 131.051 Z\" fill=\"#000000\" fill-rule=\"nonzero\" fill-opacity=\"1\" /><path clip-path=\"url(#clip100)\" d=\"M2125.15 151.305 Q2119.98 151.305 2117.99 152.486 Q2116 153.666 2116 156.514 Q2116 158.782 2117.48 160.125 Q2118.99 161.444 2121.56 161.444 Q2125.1 161.444 2127.23 158.944 Q2129.38 156.421 2129.38 152.254 L2129.38 151.305 L2125.15 151.305 M2133.64 149.546 L2133.64 164.338 L2129.38 164.338 L2129.38 160.402 Q2127.92 162.763 2125.75 163.898 Q2123.57 165.009 2120.42 165.009 Q2116.44 165.009 2114.08 162.787 Q2111.74 160.541 2111.74 156.791 Q2111.74 152.416 2114.66 150.194 Q2117.6 147.972 2123.41 147.972 L2129.38 147.972 L2129.38 147.555 Q2129.38 144.615 2127.44 143.018 Q2125.52 141.398 2122.02 141.398 Q2119.8 141.398 2117.69 141.93 Q2115.59 142.463 2113.64 143.527 L2113.64 139.592 Q2115.98 138.69 2118.18 138.25 Q2120.38 137.787 2122.46 137.787 Q2128.09 137.787 2130.86 140.703 Q2133.64 143.62 2133.64 149.546 Z\" fill=\"#000000\" fill-rule=\"nonzero\" fill-opacity=\"1\" /><path clip-path=\"url(#clip100)\" d=\"M2146.63 131.051 L2146.63 138.412 L2155.4 138.412 L2155.4 141.722 L2146.63 141.722 L2146.63 155.796 Q2146.63 158.967 2147.48 159.87 Q2148.36 160.773 2151.03 160.773 L2155.4 160.773 L2155.4 164.338 L2151.03 164.338 Q2146.1 164.338 2144.22 162.509 Q2142.35 160.657 2142.35 155.796 L2142.35 141.722 L2139.22 141.722 L2139.22 138.412 L2142.35 138.412 L2142.35 131.051 L2146.63 131.051 Z\" fill=\"#000000\" fill-rule=\"nonzero\" fill-opacity=\"1\" /><path clip-path=\"url(#clip100)\" d=\"M2177.53 139.176 L2177.53 143.203 Q2175.72 142.277 2173.78 141.815 Q2171.84 141.352 2169.75 141.352 Q2166.58 141.352 2164.98 142.324 Q2163.41 143.296 2163.41 145.24 Q2163.41 146.722 2164.54 147.578 Q2165.68 148.412 2169.1 149.176 L2170.56 149.5 Q2175.1 150.472 2177 152.254 Q2178.92 154.014 2178.92 157.185 Q2178.92 160.796 2176.05 162.902 Q2173.2 165.009 2168.2 165.009 Q2166.12 165.009 2163.85 164.592 Q2161.6 164.199 2159.1 163.388 L2159.1 158.99 Q2161.47 160.217 2163.76 160.842 Q2166.05 161.444 2168.29 161.444 Q2171.3 161.444 2172.92 160.426 Q2174.54 159.384 2174.54 157.509 Q2174.54 155.773 2173.36 154.847 Q2172.21 153.921 2168.25 153.064 L2166.77 152.717 Q2162.81 151.884 2161.05 150.171 Q2159.29 148.435 2159.29 145.426 Q2159.29 141.768 2161.88 139.778 Q2164.47 137.787 2169.24 137.787 Q2171.6 137.787 2173.69 138.134 Q2175.77 138.481 2177.53 139.176 Z\" fill=\"#000000\" fill-rule=\"nonzero\" fill-opacity=\"1\" /><path clip-path=\"url(#clip100)\" d=\"M1626.11 219.634 L1770.4 219.634 L1770.4 178.162 L1626.11 178.162 L1626.11 219.634  Z\" fill=\"#e26f46\" fill-rule=\"evenodd\" fill-opacity=\"0.5\"/>\n",
       "<polyline clip-path=\"url(#clip100)\" style=\"stroke:#000000; stroke-linecap:round; stroke-linejoin:round; stroke-width:8; stroke-opacity:1; fill:none\" points=\"1626.11,219.634 1770.4,219.634 1770.4,178.162 1626.11,178.162 1626.11,219.634 \"/>\n",
       "<path clip-path=\"url(#clip100)\" d=\"M1794.45 181.618 L1799.18 181.618 L1806.44 210.83 L1813.69 181.618 L1818.94 181.618 L1826.21 210.83 L1833.46 181.618 L1838.2 181.618 L1829.52 216.178 L1823.64 216.178 L1816.35 186.178 L1808.99 216.178 L1803.11 216.178 L1794.45 181.618 Z\" fill=\"#000000\" fill-rule=\"nonzero\" fill-opacity=\"1\" /><path clip-path=\"url(#clip100)\" d=\"M1843.18 190.252 L1847.44 190.252 L1847.44 216.178 L1843.18 216.178 L1843.18 190.252 M1843.18 180.159 L1847.44 180.159 L1847.44 185.553 L1843.18 185.553 L1843.18 180.159 Z\" fill=\"#000000\" fill-rule=\"nonzero\" fill-opacity=\"1\" /><path clip-path=\"url(#clip100)\" d=\"M1860.56 182.891 L1860.56 190.252 L1869.34 190.252 L1869.34 193.562 L1860.56 193.562 L1860.56 207.636 Q1860.56 210.807 1861.42 211.71 Q1862.3 212.613 1864.96 212.613 L1869.34 212.613 L1869.34 216.178 L1864.96 216.178 Q1860.03 216.178 1858.16 214.349 Q1856.28 212.497 1856.28 207.636 L1856.28 193.562 L1853.16 193.562 L1853.16 190.252 L1856.28 190.252 L1856.28 182.891 L1860.56 182.891 Z\" fill=\"#000000\" fill-rule=\"nonzero\" fill-opacity=\"1\" /><path clip-path=\"url(#clip100)\" d=\"M1896.49 200.529 L1896.49 216.178 L1892.23 216.178 L1892.23 200.668 Q1892.23 196.988 1890.8 195.159 Q1889.36 193.33 1886.49 193.33 Q1883.04 193.33 1881.05 195.53 Q1879.06 197.729 1879.06 201.525 L1879.06 216.178 L1874.78 216.178 L1874.78 180.159 L1879.06 180.159 L1879.06 194.28 Q1880.59 191.942 1882.65 190.784 Q1884.73 189.627 1887.44 189.627 Q1891.91 189.627 1894.2 192.405 Q1896.49 195.159 1896.49 200.529 Z\" fill=\"#000000\" fill-rule=\"nonzero\" fill-opacity=\"1\" /><path clip-path=\"url(#clip100)\" d=\"M1915.03 193.238 Q1911.61 193.238 1909.61 195.923 Q1907.62 198.585 1907.62 203.238 Q1907.62 207.891 1909.59 210.576 Q1911.58 213.238 1915.03 213.238 Q1918.43 213.238 1920.43 210.553 Q1922.42 207.867 1922.42 203.238 Q1922.42 198.631 1920.43 195.946 Q1918.43 193.238 1915.03 193.238 M1915.03 189.627 Q1920.59 189.627 1923.76 193.238 Q1926.93 196.849 1926.93 203.238 Q1926.93 209.604 1923.76 213.238 Q1920.59 216.849 1915.03 216.849 Q1909.45 216.849 1906.28 213.238 Q1903.13 209.604 1903.13 203.238 Q1903.13 196.849 1906.28 193.238 Q1909.45 189.627 1915.03 189.627 Z\" fill=\"#000000\" fill-rule=\"nonzero\" fill-opacity=\"1\" /><path clip-path=\"url(#clip100)\" d=\"M1933.55 205.946 L1933.55 190.252 L1937.81 190.252 L1937.81 205.784 Q1937.81 209.465 1939.24 211.316 Q1940.68 213.145 1943.55 213.145 Q1947 213.145 1948.99 210.946 Q1951 208.747 1951 204.951 L1951 190.252 L1955.26 190.252 L1955.26 216.178 L1951 216.178 L1951 212.196 Q1949.45 214.557 1947.39 215.715 Q1945.36 216.849 1942.65 216.849 Q1938.18 216.849 1935.86 214.071 Q1933.55 211.293 1933.55 205.946 M1944.27 189.627 L1944.27 189.627 Z\" fill=\"#000000\" fill-rule=\"nonzero\" fill-opacity=\"1\" /><path clip-path=\"url(#clip100)\" d=\"M1968.25 182.891 L1968.25 190.252 L1977.02 190.252 L1977.02 193.562 L1968.25 193.562 L1968.25 207.636 Q1968.25 210.807 1969.11 211.71 Q1969.98 212.613 1972.65 212.613 L1977.02 212.613 L1977.02 216.178 L1972.65 216.178 Q1967.72 216.178 1965.84 214.349 Q1963.97 212.497 1963.97 207.636 L1963.97 193.562 L1960.84 193.562 L1960.84 190.252 L1963.97 190.252 L1963.97 182.891 L1968.25 182.891 Z\" fill=\"#000000\" fill-rule=\"nonzero\" fill-opacity=\"1\" /><path clip-path=\"url(#clip100)\" d=\"M2023.76 184.28 L2023.76 189.21 Q2021.4 187.011 2018.71 185.923 Q2016.05 184.835 2013.04 184.835 Q2007.11 184.835 2003.97 188.469 Q2000.82 192.08 2000.82 198.932 Q2000.82 205.761 2003.97 209.395 Q2007.11 213.006 2013.04 213.006 Q2016.05 213.006 2018.71 211.918 Q2021.4 210.83 2023.76 208.631 L2023.76 213.516 Q2021.3 215.182 2018.55 216.016 Q2015.82 216.849 2012.76 216.849 Q2004.92 216.849 2000.4 212.057 Q1995.89 207.242 1995.89 198.932 Q1995.89 190.599 2000.4 185.807 Q2004.92 180.993 2012.76 180.993 Q2015.86 180.993 2018.6 181.826 Q2021.35 182.636 2023.76 184.28 Z\" fill=\"#000000\" fill-rule=\"nonzero\" fill-opacity=\"1\" /><path clip-path=\"url(#clip100)\" d=\"M2041.58 218.585 Q2039.78 223.215 2038.06 224.627 Q2036.35 226.039 2033.48 226.039 L2030.08 226.039 L2030.08 222.474 L2032.58 222.474 Q2034.34 222.474 2035.31 221.64 Q2036.28 220.807 2037.46 217.705 L2038.23 215.761 L2027.74 190.252 L2032.25 190.252 L2040.35 210.529 L2048.46 190.252 L2052.97 190.252 L2041.58 218.585 Z\" fill=\"#000000\" fill-rule=\"nonzero\" fill-opacity=\"1\" /><path clip-path=\"url(#clip100)\" d=\"M2077.51 191.247 L2077.51 195.229 Q2075.7 194.233 2073.87 193.747 Q2072.07 193.238 2070.22 193.238 Q2066.07 193.238 2063.78 195.877 Q2061.49 198.492 2061.49 203.238 Q2061.49 207.983 2063.78 210.622 Q2066.07 213.238 2070.22 213.238 Q2072.07 213.238 2073.87 212.752 Q2075.7 212.242 2077.51 211.247 L2077.51 215.182 Q2075.73 216.016 2073.8 216.432 Q2071.91 216.849 2069.75 216.849 Q2063.9 216.849 2060.45 213.168 Q2057 209.488 2057 203.238 Q2057 196.895 2060.47 193.261 Q2063.97 189.627 2070.03 189.627 Q2072 189.627 2073.87 190.043 Q2075.75 190.437 2077.51 191.247 Z\" fill=\"#000000\" fill-rule=\"nonzero\" fill-opacity=\"1\" /><path clip-path=\"url(#clip100)\" d=\"M2084.91 180.159 L2089.17 180.159 L2089.17 216.178 L2084.91 216.178 L2084.91 180.159 Z\" fill=\"#000000\" fill-rule=\"nonzero\" fill-opacity=\"1\" /><path clip-path=\"url(#clip100)\" d=\"M2120.26 202.15 L2120.26 204.233 L2100.68 204.233 Q2100.96 208.631 2103.32 210.946 Q2105.7 213.238 2109.94 213.238 Q2112.39 213.238 2114.68 212.636 Q2117 212.034 2119.27 210.83 L2119.27 214.858 Q2116.97 215.83 2114.57 216.34 Q2112.16 216.849 2109.68 216.849 Q2103.48 216.849 2099.85 213.238 Q2096.23 209.627 2096.23 203.469 Q2096.23 197.104 2099.66 193.377 Q2103.11 189.627 2108.94 189.627 Q2114.17 189.627 2117.21 193.006 Q2120.26 196.363 2120.26 202.15 M2116 200.9 Q2115.96 197.405 2114.04 195.321 Q2112.14 193.238 2108.99 193.238 Q2105.42 193.238 2103.27 195.252 Q2101.14 197.266 2100.82 200.923 L2116 200.9 Z\" fill=\"#000000\" fill-rule=\"nonzero\" fill-opacity=\"1\" /><path clip-path=\"url(#clip100)\" d=\"M2163.22 182.752 L2163.22 187.312 Q2160.56 186.039 2158.2 185.414 Q2155.84 184.789 2153.64 184.789 Q2149.82 184.789 2147.74 186.27 Q2145.68 187.752 2145.68 190.483 Q2145.68 192.775 2147.04 193.955 Q2148.43 195.113 2152.28 195.83 L2155.1 196.409 Q2160.33 197.405 2162.81 199.928 Q2165.31 202.428 2165.31 206.641 Q2165.31 211.664 2161.93 214.256 Q2158.57 216.849 2152.07 216.849 Q2149.61 216.849 2146.84 216.293 Q2144.08 215.738 2141.12 214.65 L2141.12 209.835 Q2143.97 211.432 2146.7 212.242 Q2149.43 213.053 2152.07 213.053 Q2156.07 213.053 2158.25 211.479 Q2160.42 209.904 2160.42 206.988 Q2160.42 204.442 2158.85 203.006 Q2157.3 201.571 2153.73 200.854 L2150.89 200.298 Q2145.66 199.256 2143.32 197.034 Q2140.98 194.812 2140.98 190.854 Q2140.98 186.27 2144.2 183.631 Q2147.44 180.993 2153.11 180.993 Q2155.54 180.993 2158.06 181.432 Q2160.59 181.872 2163.22 182.752 Z\" fill=\"#000000\" fill-rule=\"nonzero\" fill-opacity=\"1\" /><path clip-path=\"url(#clip100)\" d=\"M2176.63 182.891 L2176.63 190.252 L2185.4 190.252 L2185.4 193.562 L2176.63 193.562 L2176.63 207.636 Q2176.63 210.807 2177.48 211.71 Q2178.36 212.613 2181.03 212.613 L2185.4 212.613 L2185.4 216.178 L2181.03 216.178 Q2176.09 216.178 2174.22 214.349 Q2172.35 212.497 2172.35 207.636 L2172.35 193.562 L2169.22 193.562 L2169.22 190.252 L2172.35 190.252 L2172.35 182.891 L2176.63 182.891 Z\" fill=\"#000000\" fill-rule=\"nonzero\" fill-opacity=\"1\" /><path clip-path=\"url(#clip100)\" d=\"M2202.78 203.145 Q2197.62 203.145 2195.63 204.326 Q2193.64 205.506 2193.64 208.354 Q2193.64 210.622 2195.12 211.965 Q2196.63 213.284 2199.2 213.284 Q2202.74 213.284 2204.87 210.784 Q2207.02 208.261 2207.02 204.094 L2207.02 203.145 L2202.78 203.145 M2211.28 201.386 L2211.28 216.178 L2207.02 216.178 L2207.02 212.242 Q2205.56 214.603 2203.39 215.738 Q2201.21 216.849 2198.06 216.849 Q2194.08 216.849 2191.72 214.627 Q2189.38 212.381 2189.38 208.631 Q2189.38 204.256 2192.3 202.034 Q2195.24 199.812 2201.05 199.812 L2207.02 199.812 L2207.02 199.395 Q2207.02 196.455 2205.08 194.858 Q2203.16 193.238 2199.66 193.238 Q2197.44 193.238 2195.33 193.77 Q2193.22 194.303 2191.28 195.367 L2191.28 191.432 Q2193.62 190.53 2195.82 190.09 Q2198.02 189.627 2200.1 189.627 Q2205.72 189.627 2208.5 192.543 Q2211.28 195.46 2211.28 201.386 Z\" fill=\"#000000\" fill-rule=\"nonzero\" fill-opacity=\"1\" /><path clip-path=\"url(#clip100)\" d=\"M2224.27 182.891 L2224.27 190.252 L2233.04 190.252 L2233.04 193.562 L2224.27 193.562 L2224.27 207.636 Q2224.27 210.807 2225.12 211.71 Q2226 212.613 2228.66 212.613 L2233.04 212.613 L2233.04 216.178 L2228.66 216.178 Q2223.73 216.178 2221.86 214.349 Q2219.98 212.497 2219.98 207.636 L2219.98 193.562 L2216.86 193.562 L2216.86 190.252 L2219.98 190.252 L2219.98 182.891 L2224.27 182.891 Z\" fill=\"#000000\" fill-rule=\"nonzero\" fill-opacity=\"1\" /><path clip-path=\"url(#clip100)\" d=\"M2255.17 191.016 L2255.17 195.043 Q2253.36 194.117 2251.42 193.655 Q2249.47 193.192 2247.39 193.192 Q2244.22 193.192 2242.62 194.164 Q2241.05 195.136 2241.05 197.08 Q2241.05 198.562 2242.18 199.418 Q2243.32 200.252 2246.74 201.016 L2248.2 201.34 Q2252.74 202.312 2254.64 204.094 Q2256.56 205.854 2256.56 209.025 Q2256.56 212.636 2253.69 214.742 Q2250.84 216.849 2245.84 216.849 Q2243.76 216.849 2241.49 216.432 Q2239.24 216.039 2236.74 215.228 L2236.74 210.83 Q2239.1 212.057 2241.4 212.682 Q2243.69 213.284 2245.93 213.284 Q2248.94 213.284 2250.56 212.266 Q2252.18 211.224 2252.18 209.349 Q2252.18 207.613 2251 206.687 Q2249.84 205.761 2245.89 204.904 L2244.4 204.557 Q2240.45 203.724 2238.69 202.011 Q2236.93 200.275 2236.93 197.266 Q2236.93 193.608 2239.52 191.618 Q2242.11 189.627 2246.88 189.627 Q2249.24 189.627 2251.33 189.974 Q2253.41 190.321 2255.17 191.016 Z\" fill=\"#000000\" fill-rule=\"nonzero\" fill-opacity=\"1\" /></svg>\n"
      ]
     },
     "metadata": {},
     "output_type": "display_data"
    }
   ],
   "source": [
    "StatsPlots.boxplot(aids_query_types, [x[2] for x in aids_relative_errors_with_stats],  yscale=:log10, fillalpha=0.5, linewidth=2, label=\"With Cycle Stats\", ylims=[10^-6, 10^11], yticks=[10^-5, 1, 10^5, 10^10])\n",
    "StatsPlots.boxplot!(aids_query_types, [x[2] for x in aids_relative_errors],  yscale=:log10, fillalpha=0.5, linewidth=2, label=\"Without Cycle Stats\")"
   ]
  },
  {
   "cell_type": "code",
   "execution_count": 63,
   "metadata": {},
   "outputs": [
    {
     "name": "stdout",
     "output_type": "stream",
     "text": [
      "Any[\"Chain\", \"Chain\", \"Chain\", \"Chain\", \"Chain\", \"Chain\", \"Chain\", \"Chain\", \"Chain\", \"Chain\", \"Chain\", \"Chain\", \"Chain\", \"Chain\", \"Chain\", \"Chain\", \"Chain\", \"Chain\", \"Chain\", \"Chain\", \"Chain\", \"Chain\", \"Chain\", \"Chain\", \"Chain\", \"Chain\", \"Chain\", \"Chain\", \"Chain\", \"Chain\", \"Chain\", \"Chain\", \"Chain\", \"Chain\", \"Chain\", \"Chain\", \"Chain\", \"Chain\", \"Chain\", \"Chain\", \"Chain\", \"Chain\", \"Chain\", \"Chain\", \"Chain\", \"Chain\", \"Chain\", \"Chain\", \"Chain\", \"Chain\", \"Chain\", \"Chain\", \"Chain\", \"Chain\", \"Chain\", \"Chain\", \"Chain\", \"Chain\", \"Chain\", \"Chain\", \"Chain\", \"Chain\", \"Chain\", \"Chain\", \"Chain\", \"Chain\", \"Chain\", \"Chain\", \"Chain\", \"Chain\", \"Chain\", \"Chain\", \"Chain\", \"Chain\", \"Chain\", \"Chain\", \"Chain\", \"Chain\", \"Chain\", \"Chain\", \"Chain\", \"Chain\", \"Chain\", \"Chain\", \"Chain\", \"Chain\", \"Chain\", \"Chain\", \"Chain\", \"Chain\", \"Chain\", \"Chain\", \"Chain\", \"Chain\", \"Chain\", \"Chain\", \"Chain\", \"Chain\", \"Chain\", \"Chain\", \"Chain\", \"Chain\", \"Chain\", \"Chain\", \"Chain\", \"Chain\", \"Chain\", \"Chain\", \"Chain\", \"Chain\", \"Chain\", \"Chain\", \"Chain\", \"Chain\", \"Chain\", \"Chain\", \"Chain\", \"Chain\", \"Chain\", \"Chain\", \"Chain\", \"Chain\", \"Chain\", \"Chain\", \"Chain\", \"Chain\", \"Chain\", \"Chain\", \"Chain\", \"Chain\", \"Chain\", \"Chain\", \"Chain\", \"Chain\", \"Chain\", \"Chain\", \"Chain\", \"Chain\", \"Chain\", \"Chain\", \"Chain\", \"Chain\", \"Chain\", \"Chain\", \"Chain\", \"Chain\", \"Chain\", \"Chain\", \"Chain\", \"Chain\", \"Chain\", \"Chain\", \"Chain\", \"Chain\", \"Chain\", \"Chain\", \"Chain\", \"Chain\", \"Chain\", \"Chain\", \"Chain\", \"Chain\", \"Chain\", \"Chain\", \"Chain\", \"Chain\", \"Chain\", \"Chain\", \"Chain\", \"Chain\", \"Chain\", \"Chain\", \"Chain\", \"Chain\", \"Chain\", \"Chain\", \"Chain\", \"Chain\", \"Chain\", \"Chain\", \"Chain\", \"Chain\", \"Chain\", \"Chain\", \"Chain\", \"Chain\", \"Chain\", \"Chain\", \"Chain\", \"Chain\", \"Chain\", \"Chain\", \"Chain\", \"Cycle\", \"Cycle\", \"Cycle\", \"Cycle\", \"Cycle\", \"Cycle\", \"Cycle\", \"Cycle\", \"Cycle\", \"Cycle\", \"Cycle\", \"Cycle\", \"Cycle\", \"Cycle\", \"Cycle\", \"Cycle\", \"Cycle\", \"Cycle\", \"Cycle\", \"Cycle\", \"Cycle\", \"Cycle\", \"Cycle\", \"Cycle\", \"Cycle\", \"Cycle\", \"Cycle\", \"Cycle\", \"Cycle\", \"Cycle\", \"Cycle\", \"Cycle\", \"Cycle\", \"Cycle\", \"Cycle\", \"Cycle\", \"Cycle\", \"Cycle\", \"Cycle\", \"Cycle\", \"Cycle\", \"Cycle\", \"Cycle\", \"Cycle\", \"Cycle\", \"Cycle\", \"Cycle\", \"Cycle\", \"Cycle\", \"Cycle\", \"Cycle\", \"Cycle\", \"Cycle\", \"Cycle\", \"Cycle\", \"Flower\", \"Flower\", \"Flower\", \"Flower\", \"Flower\", \"Flower\", \"Flower\", \"Flower\", \"Flower\", \"Flower\", \"Flower\", \"Flower\", \"Flower\", \"Flower\", \"Flower\", \"Flower\", \"Flower\", \"Flower\", \"Flower\", \"Flower\", \"Flower\", \"Flower\", \"Flower\", \"Flower\", \"Flower\", \"Flower\", \"Flower\", \"Flower\", \"Flower\", \"Flower\", \"Flower\", \"Flower\", \"Flower\", \"Flower\", \"Flower\", \"Flower\", \"Flower\", \"Flower\", \"Flower\", \"F"
     ]
    },
    {
     "name": "stdout",
     "output_type": "stream",
     "text": [
      "lower\", \"Flower\", \"Flower\", \"Flower\", \"Flower\", \"Flower\", \"Flower\", \"Flower\", \"Flower\", \"Flower\", \"Flower\", \"Flower\", \"Flower\", \"Flower\", \"Flower\", \"Flower\", \"Flower\", \"Flower\", \"Flower\", \"Flower\", \"Flower\", \"Flower\", \"Flower\", \"Flower\", \"Flower\", \"Flower\", \"Flower\", \"Flower\", \"Flower\", \"Flower\", \"Flower\", \"Flower\", \"Flower\", \"Flower\", \"Flower\", \"Flower\", \"Flower\", \"Flower\", \"Flower\", \"Flower\", \"Flower\", \"Flower\", \"Flower\", \"Flower\", \"Flower\", \"Flower\", \"Flower\", \"Flower\", \"Flower\", \"Flower\", \"Flower\", \"Flower\", \"Flower\", \"Flower\", \"Flower\", \"Graph\", \"Graph\", \"Graph\", \"Graph\", \"Graph\", \"Graph\", \"Graph\", \"Graph\", \"Graph\", \"Graph\", \"Graph\", \"Graph\", \"Graph\", \"Graph\", \"Graph\", \"Graph\", \"Graph\", \"Graph\", \"Graph\", \"Graph\", \"Graph\", \"Graph\", \"Graph\", \"Graph\", \"Graph\", \"Graph\", \"Graph\", \"Graph\", \"Graph\", \"Graph\", \"Graph\", \"Graph\", \"Graph\", \"Graph\", \"Graph\", \"Graph\", \"Graph\", \"Graph\", \"Graph\", \"Graph\", \"Graph\", \"Graph\", \"Graph\", \"Graph\", \"Graph\", \"Graph\", \"Graph\", \"Graph\", \"Graph\", \"Graph\", \"Graph\", \"Graph\", \"Graph\", \"Graph\", \"Graph\", \"Graph\", \"Graph\", \"Graph\", \"Graph\", \"Graph\", \"Graph\", \"Graph\", \"Petal\", \"Petal\", \"Petal\", \"Petal\", \"Petal\", \"Petal\", \"Petal\", \"Petal\", \"Petal\", \"Petal\", \"Petal\", \"Petal\", \"Petal\", \"Petal\", \"Petal\", \"Petal\", \"Petal\", \"Petal\", \"Petal\", \"Petal\", \"Petal\", \"Petal\", \"Petal\", \"Petal\", \"Petal\", \"Petal\", \"Petal\", \"Petal\", \"Petal\", \"Petal\", \"Petal\", \"Petal\", \"Petal\", \"Petal\", \"Petal\", \"Petal\", \"Petal\", \"Petal\", \"Petal\", \"Petal\", \"Petal\", \"Petal\", \"Petal\", \"Petal\", \"Petal\", \"Petal\", \"Petal\", \"Petal\", \"Petal\", \"Petal\", \"Petal\", \"Petal\", \"Petal\", \"Petal\", \"Petal\", \"Petal\", \"Petal\", \"Petal\", \"Petal\", \"Petal\", \"Petal\", \"Petal\", \"Petal\", \"Petal\", \"Petal\", \"Petal\", \"Petal\", \"Petal\", \"Petal\", \"Petal\", \"Petal\", \"Petal\", \"Petal\", \"Petal\", \"Petal\", \"Petal\", \"Petal\", \"Petal\", \"Petal\", \"Petal\", \"Petal\", \"Petal\", \"Petal\", \"Petal\", \"Petal\", \"Petal\", \"Star\", \"Star\", \"Star\", \"Star\", \"Star\", \"Star\", \"Star\", \"Star\", \"Star\", \"Star\", \"Star\", \"Star\", \"Star\", \"Star\", \"Star\", \"Star\", \"Star\", \"Star\", \"Star\", \"Star\", \"Star\", \"Star\", \"Star\", \"Star\", \"Star\", \"Star\", \"Star\", \"Star\", \"Star\", \"Star\", \"Star\", \"Star\", \"Star\", \"Star\", \"Star\", \"Star\", \"Star\", \"Star\", \"Star\", \"Star\", \"Star\", \"Star\", \"Star\", \"Star\", \"Star\", \"Star\", \"Star\", \"Star\", \"Star\", \"Star\", \"Star\", \"Star\", \"Star\", \"Star\", \"Star\", \"Star\", \"Star\", \"Star\", \"Star\", \"Star\", \"Star\", \"Star\", \"Star\", \"Star\", \"Star\", \"Star\", \"Star\", \"Star\", \"Star\", \"Star\", \"Star\", \"Star\", \"Star\", \"Star\", \"Star\", \"Star\", \"Star\", \"Star\", \"Star\", \"Star\", \"Star\", \"Star\", \"Star\", \"Star\", \"Star\", \"Star\", \"Star\", \"Star\", \"Star\", \"Star\", \"Star\", \"Star\", \"Star\", \"Star\", \"Star\", \"Star\", \"Star\", \"Star\", \"Star\", \"Star\", \"Star\", \"Star\", \"Star\", \"Star\", \"Star\", \"Star\", \"Star\", \"Star\", \"Star\", \"Star\", \"Star\", \"Star\", \"Star\", \"Star\", \"Star\", \"Star\", \"Star\", \"Star\", \"Star\", \"Star\", \"Star\", \"Tree\", \"Tree\", \"Tree\", \"Tree\", \"Tree\", \"Tree\", \"Tree\", \"Tree\", \"Tree\", \"Tree\", \"Tree\", \"Tree\", \"Tree\", \"Tree\", \"Tree\", \"Tree\", \"Tree\", \"Tree\", \"Tree\", \"Tree\", \"Tree\", \"Tree\", \"Tree\", \"Tree\", \"Tree\", \"Tree\", \"Tree\", \"Tree\", \"Tree\", \"Tree\", \"Tree\", \"Tree\", \"Tree\", \"Tree\", \"Tree\", \"Tree\", \"Tree\", \"Tree\", \"Tree\", \"Tree\", \"Tree\", \"Tree\", \"Tree\", \"Tree\", \"Tree\", \"Tree\", \"Tree\", \"Tree\", \"Tree\", \"Tree\", \"Tree\", \"Tree\", \"Tree\", \"Tree\", \"Tree\", \"Tree\", \"Tree\", \"Tree\", \"Tree\", \"Tree\", \"Tree\", \"Tree\", \"Tree\", \"Tree\", \"Tree\", \"Tree\", \"Tree\", \"Tree\", \"Tree\", \"Tree\", \"Tree\", \"Tree\", \"Tree\", \"Tree\", \"Tree\", \"Tree\", \"Tree\", \"Tree\", \"Tree\", \"Tree\", \"Tree\", \"Tree\", \"Tree\", \"Tree\", \"Tree\", \"Tree\", \"Tree\", \"Tree\", \"Tree\", \"Tree\", \"Tree\", \"Tree\", \"Tree\", \"Tree\", \"Tree\", \"Tree\", \"Tree\", \"Tree\", \"Tree\", \"Tree\", \"Tree\", \"Tree\", \"Tree\", \"Tree\", \"Tree\", \"Tree\", \"Tree\", \"Tree\", \"Tree\", \"Tree\", \"Tree\", \"Tree\", \"Tree\", \"Tree\", \"Tree\", \"Tree\", \"Tree\", \"Tree\", \"Tree\", \"Tree\", \"Tree\", \"Tree\", \"Tree\", \"Tree\", \"Tree\", \"Tree\", \"Tree\", \"Tree\", \"Tree\", \"Tree\", \"Tree\", \"Tree\", \"Tree\", \"Tree\", \"Tree\", \"Tree\", \"Tree\", \"Tree\", \"Tree\", \"Tree\", \"Tree\", \"Tree\", \"Tree\", \"Tree\", \"Tree\", \"Tree\", \"Tree\", \"Tree\", \"Tree\", \"Tree\", \"Tree\", \"Tree\", \"Tree\", \"Tree\", \"Tree\", \"Tree\", \"Tree\", \"Tree\", \"Tree\", \"Tree\", \"Tree\", \"Tree\", \"Tree\", \"Tree\", \"Tree\", \"Tree\", \"Tree\"]"
     ]
    }
   ],
   "source": [
    "print(data[!,\"QueryType\"])"
   ]
  },
  {
   "cell_type": "code",
   "execution_count": null,
   "metadata": {},
   "outputs": [],
   "source": [
    "lubm80_query_paths = [\"lubm80/lubm80_Q2.txt\",\n",
    "# \"lubm80/lubm80_Q4.txt\",\n",
    "# \"lubm80/lubm80_Q7.txt\",\n",
    "# \"lubm80/lubm80_Q8.txt\",\n",
    "# \"lubm80/lubm80_Q9.txt\",\n",
    "# \"lubm80/lubm80_Q12.txt\"\n",
    "                    ]\n",
    "exactSizes = []\n",
    "bounds = []\n",
    "relativeErrors = []\n",
    "println(\"Summary Size: \", summary_size[1])\n",
    "println(\"Summary Build Time: \", build_time[1])\n",
    "for query_path in lubm80_query_paths\n",
    "    println(\"Query: \", query_path)\n",
    "    id_and_query = load_query(\"queryset/\" * query_path)\n",
    "    id = id_and_query[1]\n",
    "    query = id_and_query[2]\n",
    "    bound_results = @timed get_cardinality_bounds(query, color_summaries[1])\n",
    "    exact_size_results = @timed get_exact_size(query, datasets[1])\n",
    "    gcare_size = load_true_cardinality(\"TrueCardinalities/\" * query_path)\n",
    "    println(\"Bound Time: \", bound_results[2])\n",
    "    println(\"Exact Size Time: \", exact_size_results[2])\n",
    "    println(\"Exact Size: \", exact_size_results[1])\n",
    "    println(\"GCare Exact Size: \", gcare_size)\n",
    "    if gcare_size != exact_size_results[1]\n",
    "        println(\"Bad Exact Size Estimate!!\")\n",
    "        break\n",
    "    end\n",
    "    println(\"Bound [Lower, Avg, Upper]: \", bound_results[1])\n",
    "    println(\"Relative Error [Lower, Avg, Upper]: \", (bound_results[1])./exact_size_results[1])\n",
    "    push!(exactSizes, gcare_size)\n",
    "    push!(bounds, bound_results[1])\n",
    "    push!(relativeErrors, bound_results[1] ./ gcare_size)\n",
    "end"
   ]
  },
  {
   "cell_type": "code",
   "execution_count": null,
   "metadata": {},
   "outputs": [],
   "source": [
    "exactSizes"
   ]
  },
  {
   "cell_type": "code",
   "execution_count": null,
   "metadata": {},
   "outputs": [],
   "source": []
  }
 ],
 "metadata": {
  "kernelspec": {
   "display_name": "Julia 1.8.3",
   "language": "julia",
   "name": "julia-1.8"
  },
  "language_info": {
   "file_extension": ".jl",
   "mimetype": "application/julia",
   "name": "julia",
   "version": "1.8.3"
  },
  "orig_nbformat": 4
 },
 "nbformat": 4,
 "nbformat_minor": 2
}
