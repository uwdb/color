{
 "cells": [
  {
   "attachments": {},
   "cell_type": "markdown",
   "metadata": {},
   "source": [
    "## G-CARE Benchmark"
   ]
  },
  {
   "cell_type": "code",
   "execution_count": 1,
   "metadata": {},
   "outputs": [],
   "source": [
    "using Graphs: DiGraph\n",
    "using StatsPlots\n",
    "include(\"Source/datasets.jl\")\n",
    "include(\"Source/QuasiStableCardinalityEstimator.jl\")\n",
    "\n",
    "\n",
    "aids_data_file_path = \"dataset/aids/aids.txt\"\n",
    "human_data_file_path = \"dataset/human/human.txt\"\n",
    "lubm80_data_file_path = \"dataset/lubm80/lubm80.txt\"\n",
    "yago_data_file_path = \"dataset/yago/yago.txt\"\n",
    "\n",
    "#aids_data = load_dataset(aids_data_file_path)\n",
    "#human_data = load_dataset(human_data_file_path)\n",
    "lubm80_data = load_dataset(lubm80_data_file_path)\n",
    "#yago_data = load_dataset(yago_data_file_path)\n",
    "nothing"
   ]
  },
  {
   "cell_type": "code",
   "execution_count": 2,
   "metadata": {},
   "outputs": [
    {
     "data": {
      "text/plain": [
       "1-element Vector{String}:\n",
       " \"lubm80\""
      ]
     },
     "metadata": {},
     "output_type": "display_data"
    }
   ],
   "source": [
    "#datasets = [aids_data, human_data, lubm80_data, yago_data]\n",
    "#dataset_names = [\"aids\", \"human\", \"lubm80\", \"yago\"]\n",
    "datasets = [lubm80_data]\n",
    "dataset_names = [\"lubm80\"]"
   ]
  },
  {
   "cell_type": "code",
   "execution_count": 3,
   "metadata": {},
   "outputs": [
    {
     "name": "stdout",
     "output_type": "stream",
     "text": [
      "Started coloring\n",
      "Finished coloring\n"
     ]
    },
    {
     "name": "stdout",
     "output_type": "stream",
     "text": [
      "Started bloom filters\n"
     ]
    },
    {
     "name": "stdout",
     "output_type": "stream",
     "text": [
      "Finished bloom filters\n",
      "Started cardinality counts\n"
     ]
    },
    {
     "name": "stdout",
     "output_type": "stream",
     "text": [
      "Finished cardinality counts\n",
      "Started tracking statistics\n"
     ]
    },
    {
     "name": "stdout",
     "output_type": "stream",
     "text": [
      "Finished tracking statistics\n"
     ]
    }
   ],
   "source": [
    "build_time = []\n",
    "summary_size = []\n",
    "color_summaries =[]\n",
    "for dataset in datasets\n",
    "    results = @timed generate_color_summary(dataset, 8, verbose=true)\n",
    "    push!(build_time, results[2])\n",
    "    push!(summary_size,  get_color_summary_size(results[1]))\n",
    "    push!(color_summaries, results[1])\n",
    "end"
   ]
  },
  {
   "cell_type": "code",
   "execution_count": 6,
   "metadata": {},
   "outputs": [
    {
     "name": "stdout",
     "output_type": "stream",
     "text": [
      "Summary Size: 7209\n",
      "Summary Build Time: 440.3114781\n"
     ]
    },
    {
     "name": "stdout",
     "output_type": "stream",
     "text": [
      "Query: lubm80/lubm80_Q2.txt\n",
      "PARTIAL PATHS: [([4, 4, 2], [0.0, 0.0, 276232.0]), ([4, 4, 1], [0.0, 0.0, 155782.0])]\n",
      "NUMBER OF PARTIAL PATHS: 2\n",
      "NUMBER OF ZERO AVG: 2\n"
     ]
    },
    {
     "name": "stdout",
     "output_type": "stream",
     "text": [
      "Bound Time: 0.0438784\n",
      "Exact Size Time: 3.5055465\n",
      "Exact Size: 212\n",
      "GCare Exact Size: 212\n",
      "Bound [Lower, Avg, Upper]: [0.0, 0.0, 432014.0]\n",
      "Relative Error [Lower, Avg, Upper]: [0.0, 0.0, 2037.801886792453]\n"
     ]
    }
   ],
   "source": [
    "lubm80_query_paths = [\"lubm80/lubm80_Q2.txt\",\n",
    "# \"lubm80/lubm80_Q4.txt\",\n",
    "# \"lubm80/lubm80_Q7.txt\",\n",
    "# \"lubm80/lubm80_Q8.txt\",\n",
    "# \"lubm80/lubm80_Q9.txt\",\n",
    "# \"lubm80/lubm80_Q12.txt\"\n",
    "                    ]\n",
    "exactSizes = []\n",
    "bounds = []\n",
    "relativeErrors = []\n",
    "println(\"Summary Size: \", summary_size[1])\n",
    "println(\"Summary Build Time: \", build_time[1])\n",
    "for query_path in lubm80_query_paths\n",
    "    println(\"Query: \", query_path)\n",
    "    id_and_query = load_query(\"queryset/\" * query_path)\n",
    "    id = id_and_query[1]\n",
    "    query = id_and_query[2]\n",
    "    bound_results = @timed get_cardinality_bounds(query, color_summaries[1])\n",
    "    exact_size_results = @timed get_exact_size(query, datasets[1])\n",
    "    gcare_size = load_true_cardinality(\"TrueCardinalities/\" * query_path)\n",
    "    println(\"Bound Time: \", bound_results[2])\n",
    "    println(\"Exact Size Time: \", exact_size_results[2])\n",
    "    println(\"Exact Size: \", exact_size_results[1])\n",
    "    println(\"GCare Exact Size: \", gcare_size)\n",
    "    if gcare_size != exact_size_results[1]\n",
    "        println(\"Bad Exact Size Estimate!!\")\n",
    "        break\n",
    "    end\n",
    "    println(\"Bound [Lower, Avg, Upper]: \", bound_results[1])\n",
    "    println(\"Relative Error [Lower, Avg, Upper]: \", (bound_results[1])./exact_size_results[1])\n",
    "    push!(exactSizes, gcare_size)\n",
    "    push!(bounds, bound_results[1])\n",
    "    push!(relativeErrors, bound_results[1] ./ gcare_size)\n",
    "end"
   ]
  },
  {
   "cell_type": "code",
   "execution_count": null,
   "metadata": {},
   "outputs": [],
   "source": [
    "human_query_paths = [\"human/Chain_3/uf_Q_1_1.txt\",\n",
    "\"human/Chain_3/uf_Q_1_2.txt\",\n",
    "\"human/Chain_3/uf_Q_1_3.txt\",\n",
    "\"human/Star_3/uf_Q_0_1.txt\",\n",
    "\"human/Star_3/uf_Q_0_2.txt\",\n",
    "\"human/Star_3/uf_Q_1_1.txt\",\n",
    "\"human/Star_3/uf_Q_1_2.txt\",\n",
    "\"human/Star_3/uf_Q_1_3.txt\",\n",
    "\"human/Star_3/uf_Q_1_4.txt\", \n",
    "\"human/Star_3/uf_Q_1_5.txt\",\n",
    "\"human/Star_3/uf_Q_1_6.txt\",\n",
    "\"human/Star_3/uf_Q_2_1.txt\",\n",
    "\"human/Star_3/uf_Q_2_2.txt\",\n",
    "\"human/Star_3/uf_Q_2_3.txt\",\n",
    "\"human/Graph_3/uf_Q_3_1.txt\",\n",
    "\"human/Graph_3/uf_Q_3_2.txt\",\n",
    "\"human/Graph_3/uf_Q_3_3.txt\",\n",
    "\"human/Graph_3/uf_Q_3_4.txt\",\n",
    "\"human/Graph_3/uf_Q_3_5.txt\",\n",
    "\"human/Graph_3/uf_Q_3_6.txt\",\n",
    "                    ]\n",
    "exactSizes = []\n",
    "bounds = []\n",
    "relativeErrors = []\n",
    "println(\"Summary Size: \", summary_size[2])\n",
    "println(\"Summary Build Time: \", build_time[2])\n",
    "for query_path in human_query_paths\n",
    "    println(\"Query: \", query_path)\n",
    "    id_and_query = load_query(\"queryset/\" * query_path)\n",
    "    id = id_and_query[1]\n",
    "    query = id_and_query[2]\n",
    "    bound_results = @timed get_cardinality_bounds(query, color_summaries[2])\n",
    "    exact_size_results = @timed get_exact_size(query, datasets[2])\n",
    "    gcare_size = load_true_cardinality(\"TrueCardinalities/\" * query_path)\n",
    "    println(\"Bound Time: \", bound_results[2])\n",
    "    println(\"Exact Size Time: \", exact_size_results[2])\n",
    "    println(\"Exact Size: \", exact_size_results[1])\n",
    "    println(\"GCare Exact Size: \", gcare_size)\n",
    "    if gcare_size != exact_size_results[1]\n",
    "        println(\"Bad Exact Size Estimate!!\")\n",
    "        break\n",
    "    end\n",
    "    println(\"Bound [Lower, Avg, Upper]: \", bound_results[1])\n",
    "    println(\"Relative Error [Lower, Avg, Upper]: \", bound_results[1]./exact_size_results[1])\n",
    "    push!(exactSizes, gcare_size)\n",
    "    push!(bounds, bound_results[1])\n",
    "    push!(relativeErrors, bound_results[1] ./ gcare_size)\n",
    "end"
   ]
  },
  {
   "cell_type": "code",
   "execution_count": null,
   "metadata": {},
   "outputs": [],
   "source": [
    "yago_query_paths = [\"yago/Chain_3/f_Q_1_1.txt\",\n",
    "\"yago/Chain_3/f_Q_1_2.txt\",\n",
    "\"yago/Chain_3/f_Q_1_3.txt\",\n",
    "\"yago/Star_3/f_Q_0_1.txt\",\n",
    "\"yago/Star_3/f_Q_0_2.txt\",\n",
    "\"yago/Star_3/f_Q_1_1.txt\",\n",
    "\"yago/Star_3/f_Q_1_2.txt\",\n",
    "\"yago/Star_3/f_Q_1_3.txt\",\n",
    "\"yago/Star_3/f_Q_1_4.txt\", \n",
    "\"yago/Star_3/f_Q_1_5.txt\",\n",
    "\"yago/Star_3/f_Q_1_6.txt\",\n",
    "\"yago/Star_3/f_Q_2_1.txt\",\n",
    "\"yago/Star_3/f_Q_2_2.txt\",\n",
    "\"yago/Star_3/f_Q_2_3.txt\",\n",
    "\"yago/Graph_3/f_Q_3_1.txt\",\n",
    "\"yago/Graph_3/f_Q_3_2.txt\",\n",
    "\"yago/Graph_3/f_Q_3_3.txt\",\n",
    "\"yago/Graph_3/f_Q_3_7.txt\",\n",
    "\"yago/Graph_3/f_Q_3_8.txt\",\n",
    "\"yago/Graph_3/f_Q_3_10.txt\",\n",
    "                    ]\n",
    "exactSizes = []\n",
    "bounds = []\n",
    "relativeErrors = []\n",
    "println(\"Summary Size: \", summary_size[2])\n",
    "println(\"Summary Build Time: \", build_time[2])\n",
    "for query_path in yago_query_paths\n",
    "    println(\"Query: \", query_path)\n",
    "    id_and_query = load_query(\"queryset/\" * query_path)\n",
    "    id = id_and_query[1]\n",
    "    query = id_and_query[2]\n",
    "    bound_results = @timed get_cardinality_bounds(query, color_summaries[2])\n",
    "    exact_size_results = @timed get_exact_size(query, datasets[2])\n",
    "    gcare_size = load_true_cardinality(\"TrueCardinalities/\" * query_path)\n",
    "    println(\"Bound Time: \", bound_results[2])\n",
    "    println(\"Exact Size Time: \", exact_size_results[2])\n",
    "    println(\"Exact Size: \", exact_size_results[1])\n",
    "    println(\"GCare Exact Size: \", gcare_size)\n",
    "    if gcare_size != exact_size_results[1]\n",
    "        println(\"Bad Exact Size Estimate!!\")\n",
    "        break\n",
    "    end\n",
    "    println(\"Bound [Lower, Avg, Upper]: \", bound_results[1])\n",
    "    println(\"Relative Error [Lower, Avg, Upper]: \", bound_results[1]./exact_size_results[1])\n",
    "    push!(exactSizes, gcare_size)\n",
    "    push!(bounds, bound_results[1])\n",
    "    push!(relativeErrors, bound_results[1] ./ gcare_size)\n",
    "end"
   ]
  },
  {
   "cell_type": "code",
   "execution_count": null,
   "metadata": {},
   "outputs": [],
   "source": [
    "aids_query_paths = [\"aids/Chain_3/uf_Q_5_1.txt\",\n",
    "\"aids/Chain_3/uf_Q_5_2.txt\",\n",
    "\"aids/Chain_3/uf_Q_5_3.txt\",\n",
    "\"aids/Tree_3/uf_Q_2_5.txt\",\n",
    "\"aids/Tree_3/uf_Q_4_4.txt\",\n",
    "\"aids/Tree_6/uf_Q_4_4.txt\",\n",
    "\"aids/Tree_6/uf_Q_5_6.txt\",\n",
    "\"aids/Star_6/uf_Q_2_3.txt\",\n",
    "\"aids/Star_6/uf_Q_1_1.txt\",\n",
    "\"aids/Cycle_3/uf_Q_2_14.txt\",\n",
    "\"aids/Cycle_3/uf_Q_3_14.txt\",\n",
    "\"aids/Flower_6/uf_Q_3_6.txt\",\n",
    "\"aids/Flower_6/uf_Q_5_3.txt\",\n",
    "\"aids/Flower_9/uf_Q_3_3.txt\"\n",
    "]\n",
    "exactSizes = []\n",
    "bounds = []\n",
    "relativeErrors = []\n",
    "exactTimes = []\n",
    "boundTimes = []\n",
    "for query_path in aids_query_paths\n",
    "    println(\"Query: \", query_path)\n",
    "    id_and_query = load_query(\"queryset/\" * query_path)\n",
    "    id = id_and_query[1]\n",
    "    query = id_and_query[2]\n",
    "    bound_results = @timed get_cardinality_bounds(query, color_summaries[1])\n",
    "    exact_size_results = @timed get_exact_size(query, datasets[1])\n",
    "    gcare_size = load_true_cardinality(\"TrueCardinalities/\" * query_path)\n",
    "    println(\"Bound Time: \", bound_results[2])\n",
    "    println(\"Exact Size Time: \", exact_size_results[2])\n",
    "    println(\"Exact Size: \", exact_size_results[1])\n",
    "    println(\"GCare Exact Size: \", gcare_size)\n",
    "    if gcare_size != exact_size_results[1]\n",
    "        println(\"Bad Exact Size Estimate!!\")\n",
    "        break\n",
    "    end\n",
    "    println(\"Bound [Lower, Avg, Upper]: \", bound_results[1])\n",
    "    println(\"Relative Error [Lower, Avg, Upper]: \", bound_results[1]./gcare_size)\n",
    "    push!(exactSizes, gcare_size)\n",
    "    push!(bounds, bound_results[1])\n",
    "    push!(relativeErrors, bound_results[1] ./ gcare_size)\n",
    "    push!(exactTimes, exact_size_results[2])\n",
    "    push!(boundTimes, bound_results[2])\n",
    "end"
   ]
  },
  {
   "cell_type": "code",
   "execution_count": 6,
   "metadata": {},
   "outputs": [
    {
     "data": {
      "text/plain": [
       "6-element Vector{Any}:\n",
       " [0.0, 0.0, 2037.801886792453]\n",
       " [0.0, 0.018128757995797183, 2.430169411764706e7]\n",
       " [0.0, 8578.183718779555, 317560.89552238805]\n",
       " [0.0, 0.007440463481413045, 587.3258023106547]\n",
       " [0.0, 0.0, 421.54288588149234]\n",
       " [0.0, 59.25191821732139, 9673.333333333334]"
      ]
     },
     "metadata": {},
     "output_type": "display_data"
    }
   ],
   "source": [
    "relativeErrors"
   ]
  },
  {
   "cell_type": "code",
   "execution_count": 7,
   "metadata": {},
   "outputs": [
    {
     "data": {
      "text/plain": [
       "6-element Vector{Any}:\n",
       "   212\n",
       "    34\n",
       "    67\n",
       "  7790\n",
       " 21872\n",
       "    15"
      ]
     },
     "metadata": {},
     "output_type": "display_data"
    }
   ],
   "source": [
    "exactSizes"
   ]
  },
  {
   "cell_type": "code",
   "execution_count": null,
   "metadata": {},
   "outputs": [],
   "source": []
  }
 ],
 "metadata": {
  "kernelspec": {
   "display_name": "Julia 1.8.5",
   "language": "julia",
   "name": "julia-1.8"
  },
  "language_info": {
   "file_extension": ".jl",
   "mimetype": "application/julia",
   "name": "julia",
   "version": "1.8.5"
  },
  "orig_nbformat": 4
 },
 "nbformat": 4,
 "nbformat_minor": 2
}
