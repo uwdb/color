{
 "cells": [
  {
   "attachments": {},
   "cell_type": "markdown",
   "metadata": {},
   "source": [
    "## G-CARE Benchmark"
   ]
  },
  {
   "cell_type": "code",
   "execution_count": null,
   "metadata": {},
   "outputs": [],
   "source": [
    "using Graphs: DiGraph\n",
    "using StatsPlots\n",
    "include(\"Source/datasets.jl\")\n",
    "include(\"Source/UnlabeledCardinalityEstimator.jl\")\n",
    "\n",
    "\n",
    "aids_data_file_path = \"dataset/aids/aids.txt\"\n",
    "human_data_file_path = \"dataset/human/human.txt\"\n",
    "lubm80_data_file_path = \"dataset/lubm80/lubm80.txt\"\n",
    "yago_data_file_path = \"dataset/yago/yago.txt\"\n",
    "\n",
    "aids_data = load_dataset(aids_data_file_path)\n",
    "human_data = load_dataset(human_data_file_path)\n",
    "#lubm80_data = load_dataset(lubm80_data_file_path)\n",
    "#yago_data = load_dataset(yago_data_file_path)"
   ]
  },
  {
   "cell_type": "code",
   "execution_count": null,
   "metadata": {},
   "outputs": [],
   "source": [
    "#datasets = [aids_data, human_data, lubm80_data, yago_data]\n",
    "#dataset_names = [\"aids\", \"human\", \"lubm80\", \"yago\"]\n",
    "datasets = [aids_data, human_data, yago]\n",
    "dataset_names = [\"aids\", \"human\", yago]"
   ]
  },
  {
   "cell_type": "code",
   "execution_count": null,
   "metadata": {},
   "outputs": [],
   "source": [
    "build_time = []\n",
    "color_summaries =[]\n",
    "for dataset in datasets\n",
    "    results = @timed generate_color_summary(dataset, 32)\n",
    "    push!(build_time, results[2])\n",
    "    push!(color_summaries, results[1])\n",
    "end"
   ]
  },
  {
   "cell_type": "code",
   "execution_count": null,
   "metadata": {},
   "outputs": [],
   "source": [
    "triangle_query = DiGraph(3)\n",
    "add_edge!(triangle_query, (1,2))\n",
    "add_edge!(triangle_query, (2,3))\n",
    "add_edge!(triangle_query, (3,1))\n",
    "\n",
    "chain_query = DiGraph(4)\n",
    "add_edge!(chain_query, (1,2))\n",
    "add_edge!(chain_query, (2,3))\n",
    "add_edge!(chain_query, (3,4))\n",
    "\n",
    "tree_query = DiGraph(5)\n",
    "add_edge!(tree_query, (1,2))\n",
    "add_edge!(tree_query, (2,3))\n",
    "add_edge!(tree_query, (2,4))\n",
    "add_edge!(tree_query, (4,5))"
   ]
  },
  {
   "cell_type": "code",
   "execution_count": null,
   "metadata": {},
   "outputs": [],
   "source": [
    "for i in range(1, length(datasets))\n",
    "    println(\"Dataset:\", dataset_names[i])\n",
    "    println(\"Summary Build Time:\", build_time[i])\n",
    "    triangle_bound_results = @timed get_cardinality_bounds(triangle_query, color_summaries[i])\n",
    "    triangle_exact_size_results = @timed get_exact_size(triangle_query, datasets[i])\n",
    "    println(\"Triangle Bound Time: \", triangle_bound_results[2])\n",
    "    println(\"Triangle Exact Size Time: \", triangle_exact_size_results[2])\n",
    "    println(\"Triangle Bound [Lower, Avg, Upper]: \", triangle_bound_results[1])\n",
    "    println(\"Triangle Relative Error [Lower, Avg, Upper]: \", triangle_bound_results[1]./triangle_exact_size_results[1])\n",
    "\n",
    "    chain_bound_results = @timed get_cardinality_bounds(chain_query, color_summaries[i])\n",
    "    chain_exact_size_results = @timed get_exact_size(chain_query, datasets[i])\n",
    "    println(\"Chain Bound Time: \", chain_bound_results[2])\n",
    "    println(\"Chain Exact Size Time: \", chain_exact_size_results[2])\n",
    "    println(\"Chain Bound [Lower, Avg, Upper]: \", chain_bound_results[1])\n",
    "    println(\"Chain Relative Error [Lower, Avg, Upper]: \", chain_bound_results[1]./chain_exact_size_results[1])\n",
    "\n",
    "    \n",
    "    tree_bound_results = @timed get_cardinality_bounds(tree_query, color_summaries[i])\n",
    "    tree_exact_size_results = @timed get_exact_size(tree_query, datasets[i])\n",
    "    println(\"Tree Bound Time: \", tree_bound_results[2])\n",
    "    println(\"Tree Exact Size Time: \", tree_exact_size_results[2])\n",
    "    println(\"Tree Bound [Lower, Avg, Upper]: \", tree_bound_results[1])\n",
    "    println(\"Tree Relative Error [Lower, Avg, Upper]: \", tree_bound_results[1]./tree_exact_size_results[1])\n",
    "end"
   ]
  },
  {
   "cell_type": "code",
   "execution_count": null,
   "metadata": {},
   "outputs": [],
   "source": []
  },
  {
   "cell_type": "code",
   "execution_count": null,
   "metadata": {},
   "outputs": [],
   "source": []
  }
 ],
 "metadata": {
  "kernelspec": {
   "display_name": "Julia 1.8.3",
   "language": "julia",
   "name": "julia-1.8"
  },
  "language_info": {
   "file_extension": ".jl",
   "mimetype": "application/julia",
   "name": "julia",
   "version": "1.8.3"
  },
  "orig_nbformat": 4
 },
 "nbformat": 4,
 "nbformat_minor": 2
}
