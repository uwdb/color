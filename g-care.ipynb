{
 "cells": [
  {
   "attachments": {},
   "cell_type": "markdown",
   "metadata": {},
   "source": [
    "## G-CARE Benchmark"
   ]
  },
  {
   "cell_type": "code",
   "execution_count": 7,
   "metadata": {},
   "outputs": [],
   "source": [
    "using Graphs: DiGraph\n",
    "include(\"Source/datasets.jl\")\n",
    "include(\"Source/QuasiStableCardinalityEstimator.jl\")\n",
    "\n",
    "\n",
    "aids_data_file_path = \"dataset/aids/aids.txt\"\n",
    "human_data_file_path = \"dataset/human/human.txt\"\n",
    "lubm80_data_file_path = \"dataset/lubm80/lubm80.txt\"\n",
    "yago_data_file_path = \"dataset/yago/yago.txt\"\n",
    "\n",
    "aids_data = load_dataset(aids_data_file_path)\n",
    "human_data = load_dataset(human_data_file_path)\n",
    "#lubm80_data = load_dataset(lubm80_data_file_path)\n",
    "#yago_data = load_dataset(yago_data_file_path)\n",
    "nothing"
   ]
  },
  {
   "cell_type": "code",
   "execution_count": 2,
   "metadata": {},
   "outputs": [
    {
     "data": {
      "text/plain": [
       "2-element Vector{String}:\n",
       " \"aids\"\n",
       " \"human\""
      ]
     },
     "execution_count": 2,
     "metadata": {},
     "output_type": "execute_result"
    }
   ],
   "source": [
    "#datasets = [aids_data, human_data, lubm80_data, yago_data]\n",
    "#dataset_names = [\"aids\", \"human\", \"lubm80\", \"yago\"]\n",
    "datasets = [aids_data, human_data]\n",
    "dataset_names = [\"aids\", \"human\"]"
   ]
  },
  {
   "cell_type": "code",
   "execution_count": 5,
   "metadata": {},
   "outputs": [],
   "source": [
    "build_time = []\n",
    "summary_size = []\n",
    "color_summaries =[]\n",
    "for dataset in datasets\n",
    "    results = @timed generate_color_summary(dataset, 32)\n",
    "    push!(build_time, results[2])\n",
    "    push!(summary_size,  get_color_summary_size(results[1]))\n",
    "    push!(color_summaries, results[1])\n",
    "end"
   ]
  },
  {
   "cell_type": "code",
   "execution_count": 70,
   "metadata": {},
   "outputs": [
    {
     "data": {
      "text/plain": [
       "1-element Vector{Int64}:\n",
       " 12"
      ]
     },
     "execution_count": 70,
     "metadata": {},
     "output_type": "execute_result"
    }
   ],
   "source": [
    "triangle_query = PropertyGraph(3)\n",
    "add_labeled_edge!(triangle_query, (1,2), -1)\n",
    "add_labeled_edge!(triangle_query, (2,3), -1)\n",
    "add_labeled_edge!(triangle_query, (3,1), -1)\n",
    "add_labeled_node!(triangle_query, 1, [10])\n",
    "add_labeled_node!(triangle_query, 2, [-1])\n",
    "add_labeled_node!(triangle_query, 3, [-1])\n",
    "\n",
    "\n",
    "chain_query = PropertyGraph(4)\n",
    "add_labeled_edge!(chain_query, (1,2), 0)\n",
    "add_labeled_edge!(chain_query, (2,3), 0)\n",
    "add_labeled_edge!(chain_query, (3,4), 0)\n",
    "add_labeled_node!(chain_query, 1, [25])\n",
    "add_labeled_node!(chain_query, 2, [10])\n",
    "add_labeled_node!(chain_query, 3, [5])\n",
    "add_labeled_node!(chain_query, 4, [1])\n",
    "\n",
    "\n",
    "tree_query = PropertyGraph(5)\n",
    "add_labeled_edge!(tree_query, (1,2), 0)\n",
    "add_labeled_edge!(tree_query, (2,3), 0)\n",
    "add_labeled_edge!(tree_query, (3,4), 0)\n",
    "add_labeled_edge!(tree_query, (2,5), 0)\n",
    "add_labeled_node!(tree_query, 1, [25])\n",
    "add_labeled_node!(tree_query, 2, [10])\n",
    "add_labeled_node!(tree_query, 3, [5])\n",
    "add_labeled_node!(tree_query, 4, [1])\n",
    "add_labeled_node!(tree_query, 5, [12])"
   ]
  },
  {
   "cell_type": "code",
   "execution_count": 71,
   "metadata": {},
   "outputs": [
    {
     "name": "stdout",
     "output_type": "stream",
     "text": [
      "Dataset:aids\n",
      "Summary Build Time:9.751231551\n",
      "Summary Size:16767\n",
      "Triangle Bound Time: 0.017626434\n",
      "Triangle Exact Size Time: 0.049458826\n",
      "Triangle Exact Size: 112\n",
      "Triangle Bound [Lower, Avg, Upper]: [0.0, 0.0027283251589922904, 20960.0]\n",
      "Triangle Relative Error [Lower, Avg, Upper]: [0.0, 2.4360046062431166e-5, 187.14285714285714]\n",
      "Chain Bound Time: 0.02876133\n",
      "Chain Exact Size Time: 0.113230813\n",
      "Chain Exact Size: 0\n",
      "Chain Bound [Lower, Avg, Upper]: [0.0, 0.0008854862003792051, 53.0]\n",
      "Chain Relative Error [Lower, Avg, Upper]: [NaN, Inf, Inf]\n",
      "Tree Bound Time: 0.00020301\n",
      "Tree Exact Size Time: 0.045988151\n",
      "Tree Exact Size: 0\n",
      "Tree Bound [Lower, Avg, Upper]: [0.0, 9.019542960376027e-7, 16.0]\n",
      "Tree Relative Error [Lower, Avg, Upper]: [NaN, Inf, Inf]\n",
      "Dataset:human\n",
      "Summary Build Time:0.834180826\n",
      "Summary Size:87180\n",
      "Triangle Bound Time: 0.027833571\n",
      "Triangle Exact Size Time: 0.493410651\n",
      "Triangle Exact Size: 34196\n",
      "Triangle Bound [Lower, Avg, Upper]: [0.0, 5275.49109031926, 1.4841625e7]\n",
      "Triangle Relative Error [Lower, Avg, Upper]: [0.0, 0.15427216897646684, 434.0164054275354]\n",
      "Chain Bound Time: 0.002093027\n",
      "Chain Exact Size Time: 0.001940039\n",
      "Chain Exact Size: 153\n",
      "Chain Bound [Lower, Avg, Upper]: [126.0, 1829.136203256265, 5.050886e6]\n",
      "Chain Relative Error [Lower, Avg, Upper]: [0.8235294117647058, 11.95513858337428, 33012.32679738562]\n",
      "Tree Bound Time: 0.00117521\n",
      "Tree Exact Size Time: 0.001520864\n",
      "Tree Exact Size: 765\n",
      "Tree Bound [Lower, Avg, Upper]: [126.0, 27071.742294582713, 5.23493636e8]\n",
      "Tree Relative Error [Lower, Avg, Upper]: [0.16470588235294117, 35.38789842429113, 684305.4065359477]\n"
     ]
    }
   ],
   "source": [
    "for i in range(1, length(datasets))\n",
    "    println(\"Dataset:\", dataset_names[i])\n",
    "    println(\"Summary Build Time:\", build_time[i])\n",
    "    println(\"Summary Size:\", summary_size[i])\n",
    "    triangle_bound_results = @timed get_cardinality_bounds(triangle_query, color_summaries[i])\n",
    "    triangle_exact_size_results = @timed get_exact_size(triangle_query, datasets[i])\n",
    "    println(\"Triangle Bound Time: \", triangle_bound_results[2])\n",
    "    println(\"Triangle Exact Size Time: \", triangle_exact_size_results[2])\n",
    "    println(\"Triangle Exact Size: \", triangle_exact_size_results[1])\n",
    "    println(\"Triangle Bound [Lower, Avg, Upper]: \", triangle_bound_results[1])\n",
    "    println(\"Triangle Relative Error [Lower, Avg, Upper]: \", triangle_bound_results[1]./triangle_exact_size_results[1])\n",
    "\n",
    "    chain_bound_results = @timed get_cardinality_bounds(chain_query, color_summaries[i])\n",
    "    chain_exact_size_results = @timed get_exact_size(chain_query, datasets[i])\n",
    "    println(\"Chain Bound Time: \", chain_bound_results[2])\n",
    "    println(\"Chain Exact Size Time: \", chain_exact_size_results[2])\n",
    "    println(\"Chain Exact Size: \", chain_exact_size_results[1])\n",
    "    println(\"Chain Bound [Lower, Avg, Upper]: \", chain_bound_results[1])\n",
    "    println(\"Chain Relative Error [Lower, Avg, Upper]: \", chain_bound_results[1]./chain_exact_size_results[1])\n",
    "    \n",
    "    tree_bound_results = @timed get_cardinality_bounds(tree_query, color_summaries[i])\n",
    "    tree_exact_size_results = @timed get_exact_size(tree_query, datasets[i])\n",
    "    println(\"Tree Bound Time: \", tree_bound_results[2])\n",
    "    println(\"Tree Exact Size Time: \", tree_exact_size_results[2])\n",
    "    println(\"Tree Exact Size: \", tree_exact_size_results[1])\n",
    "    println(\"Tree Bound [Lower, Avg, Upper]: \", tree_bound_results[1])\n",
    "    println(\"Tree Relative Error [Lower, Avg, Upper]: \", tree_bound_results[1]./tree_exact_size_results[1])\n",
    "end"
   ]
  },
  {
   "cell_type": "code",
   "execution_count": 9,
   "metadata": {},
   "outputs": [
    {
     "name": "stdout",
     "output_type": "stream",
     "text": [
      "Query: human/Chain_3/uf_Q_1_1.txt\n"
     ]
    },
    {
     "ename": "LoadError",
     "evalue": "KeyError: key 1 not found",
     "output_type": "error",
     "traceback": [
      "KeyError: key 1 not found",
      "",
      "Stacktrace:",
      " [1] getindex(h::Dict{Int64, Dict{Int64, Array{Int64}}}, key::Int64)",
      "   @ Base ./dict.jl:498",
      " [2] get_cardinality_bounds_given_starting_node(query::PropertyGraph, summary::ColorSummary, starting_node::Int64; use_partial_sums::Bool, verbose::Bool)",
      "   @ Main ~/Cardinality-with-Colors/Source/QuasiStableCardinalityEstimator.jl:346",
      " [3] get_cardinality_bounds(query::PropertyGraph, summary::ColorSummary; use_partial_sums::Bool, try_all_starting_nodes::Bool, verbose::Bool)",
      "   @ Main ~/Cardinality-with-Colors/Source/QuasiStableCardinalityEstimator.jl:434",
      " [4] get_cardinality_bounds",
      "   @ ~/Cardinality-with-Colors/Source/QuasiStableCardinalityEstimator.jl:429 [inlined]",
      " [5] macro expansion",
      "   @ ./timing.jl:463 [inlined]",
      " [6] top-level scope",
      "   @ ./In[9]:30",
      " [7] eval",
      "   @ ./boot.jl:368 [inlined]",
      " [8] include_string(mapexpr::typeof(REPL.softscope), mod::Module, code::String, filename::String)",
      "   @ Base ./loading.jl:1428"
     ]
    }
   ],
   "source": [
    "human_query_paths = [\"human/Chain_3/uf_Q_1_1.txt\",\n",
    "\"human/Chain_3/uf_Q_1_2.txt\",\n",
    "\"human/Chain_3/uf_Q_1_3.txt\",\n",
    "\"human/Star_3/uf_Q_0_1.txt\",\n",
    "\"human/Star_3/uf_Q_0_2.txt\",\n",
    "\"human/Star_3/uf_Q_1_1.txt\",\n",
    "\"human/Star_3/uf_Q_1_2.txt\",\n",
    "\"human/Star_3/uf_Q_1_3.txt\",\n",
    "#\"human/Star_3/uf_Q_1_4.txt\", <- This query has structue 'a -> b <- c' which we don't support. Need to support walking backwards along edges. \n",
    "\"human/Star_3/uf_Q_1_5.txt\",\n",
    "#\"human/Star_3/uf_Q_1_6.txt\",\n",
    "\"human/Star_3/uf_Q_2_1.txt\",\n",
    "#\"human/Star_3/uf_Q_2_2.txt\",\n",
    "#\"human/Star_3/uf_Q_2_3.txt\",\n",
    "\"human/Graph_3/uf_Q_3_1.txt\",\n",
    "\"human/Graph_3/uf_Q_3_2.txt\",\n",
    "\"human/Graph_3/uf_Q_3_3.txt\",\n",
    "\"human/Graph_3/uf_Q_3_4.txt\",\n",
    "\"human/Graph_3/uf_Q_3_5.txt\",\n",
    "\"human/Graph_3/uf_Q_3_6.txt\",\n",
    "                    ]\n",
    "exactSizes = []\n",
    "bounds = []\n",
    "relativeErrors = []\n",
    "for query_path in human_query_paths\n",
    "    println(\"Query: \", query_path)\n",
    "    id_and_query = load_query(\"queryset/\" * query_path)\n",
    "    id = id_and_query[1]\n",
    "    query = id_and_query[2]\n",
    "    bound_results = @timed get_cardinality_bounds(query, color_summaries[2])\n",
    "    exact_size_results = @timed get_exact_size(query, datasets[2])\n",
    "    gcare_size = load_true_cardinality(\"TrueCardinalities/\" * query_path)\n",
    "    println(\"Bound Time: \", bound_results[2])\n",
    "    println(\"Exact Size Time: \", exact_size_results[2])\n",
    "    println(\"Exact Size: \", exact_size_results[1])\n",
    "    println(\"GCare Exact Size: \", gcare_size)\n",
    "    if gcare_size != exact_size_results[1]\n",
    "        println(\"Bad Exact Size Estimate!!\")\n",
    "        break\n",
    "    end\n",
    "    println(\"Bound [Lower, Avg, Upper]: \", bound_results[1])\n",
    "    println(\"Relative Error [Lower, Avg, Upper]: \", bound_results[1]./exact_size_results[1])\n",
    "    push!(exactSizes, gcare_size)\n",
    "    push!(bounds, bound_results[1])\n",
    "    push!(relativeErrors, bound_results[1] ./ gcare_size)\n",
    "end"
   ]
  },
  {
   "cell_type": "code",
   "execution_count": 168,
   "metadata": {},
   "outputs": [
    {
     "data": {
      "text/plain": [
       "16-element Vector{Any}:\n",
       "   72\n",
       "   22\n",
       "   10\n",
       "    1\n",
       "    1\n",
       "   23\n",
       "   25\n",
       "   25\n",
       "   25\n",
       "  315\n",
       " 9610\n",
       " 6875\n",
       " 2830\n",
       " 8588\n",
       " 9103\n",
       " 2796"
      ]
     },
     "execution_count": 168,
     "metadata": {},
     "output_type": "execute_result"
    }
   ],
   "source": [
    "exactSizes"
   ]
  },
  {
   "cell_type": "code",
   "execution_count": 8,
   "metadata": {},
   "outputs": [
    {
     "name": "stdout",
     "output_type": "stream",
     "text": [
      "Query: aids/Chain_3/uf_Q_5_1.txt\n"
     ]
    },
    {
     "ename": "LoadError",
     "evalue": "KeyError: key 1 not found",
     "output_type": "error",
     "traceback": [
      "KeyError: key 1 not found",
      "",
      "Stacktrace:",
      " [1] getindex(h::Dict{Int64, Dict{Int64, Array{Int64}}}, key::Int64)",
      "   @ Base ./dict.jl:498",
      " [2] get_cardinality_bounds_given_starting_node(query::PropertyGraph, summary::ColorSummary, starting_node::Int64; use_partial_sums::Bool, verbose::Bool)",
      "   @ Main ~/Cardinality-with-Colors/Source/QuasiStableCardinalityEstimator.jl:346",
      " [3] get_cardinality_bounds(query::PropertyGraph, summary::ColorSummary; use_partial_sums::Bool, try_all_starting_nodes::Bool, verbose::Bool)",
      "   @ Main ~/Cardinality-with-Colors/Source/QuasiStableCardinalityEstimator.jl:434",
      " [4] get_cardinality_bounds",
      "   @ ~/Cardinality-with-Colors/Source/QuasiStableCardinalityEstimator.jl:429 [inlined]",
      " [5] macro expansion",
      "   @ ./timing.jl:463 [inlined]",
      " [6] top-level scope",
      "   @ ./In[8]:13",
      " [7] eval",
      "   @ ./boot.jl:368 [inlined]",
      " [8] include_string(mapexpr::typeof(REPL.softscope), mod::Module, code::String, filename::String)",
      "   @ Base ./loading.jl:1428"
     ]
    }
   ],
   "source": [
    "aids_query_paths = [\"aids/Chain_3/uf_Q_5_1.txt\",\n",
    "\"aids/Chain_3/uf_Q_5_2.txt\",\n",
    "\"aids/Chain_3/uf_Q_5_3.txt\",\n",
    "]\n",
    "exactSizes = []\n",
    "bounds = []\n",
    "relativeErrors = []\n",
    "for query_path in aids_query_paths\n",
    "    println(\"Query: \", query_path)\n",
    "    id_and_query = load_query(\"queryset/\" * query_path)\n",
    "    id = id_and_query[1]\n",
    "    query = id_and_query[2]\n",
    "    bound_results = @timed get_cardinality_bounds(query, color_summaries[1])\n",
    "    exact_size_results = @timed get_exact_size(query, datasets[1])\n",
    "    gcare_size = load_true_cardinality(\"TrueCardinalities/\" * query_path)\n",
    "    println(\"Bound Time: \", bound_results[2])\n",
    "    println(\"Exact Size Time: \", exact_size_results[2])\n",
    "    println(\"Exact Size: \", exact_size_results[1])\n",
    "    println(\"GCare Exact Size: \", gcare_size)\n",
    "    if gcare_size != exact_size_results[1]\n",
    "        println(\"Bad Exact Size Estimate!!\")\n",
    "        break\n",
    "    end\n",
    "    println(\"Bound [Lower, Avg, Upper]: \", bound_results[1])\n",
    "    println(\"Relative Error [Lower, Avg, Upper]: \", bound_results[1]./exact_size_results[1])\n",
    "    push!(exactSizes, gcare_size)\n",
    "    push!(bounds, bound_results[1])\n",
    "    push!(relativeErrors, bound_results[1] ./ gcare_size)\n",
    "end"
   ]
  },
  {
   "cell_type": "code",
   "execution_count": null,
   "metadata": {},
   "outputs": [],
   "source": [
    "\n"
   ]
  },
  {
   "cell_type": "code",
   "execution_count": null,
   "metadata": {},
   "outputs": [],
   "source": []
  }
 ],
 "metadata": {
  "kernelspec": {
   "display_name": "Julia 1.8.3",
   "language": "julia",
   "name": "julia-1.8"
  },
  "language_info": {
   "file_extension": ".jl",
   "mimetype": "application/julia",
   "name": "julia",
   "version": "1.8.3"
  },
  "orig_nbformat": 4
 },
 "nbformat": 4,
 "nbformat_minor": 2
}
