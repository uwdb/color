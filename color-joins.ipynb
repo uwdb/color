{
 "cells": [
  {
   "cell_type": "markdown",
   "metadata": {},
   "source": [
    "## Joins with Quasi-stable Coloring"
   ]
  },
  {
   "cell_type": "code",
   "execution_count": 135,
   "metadata": {},
   "outputs": [],
   "source": [
    "using Distributions\n",
    "using DataStructures: counter"
   ]
  },
  {
   "cell_type": "code",
   "execution_count": 136,
   "metadata": {},
   "outputs": [],
   "source": [
    "n = 250\n",
    "nothing #hide"
   ]
  },
  {
   "cell_type": "markdown",
   "metadata": {},
   "source": [
    "Let's generate two arrays of size $n$."
   ]
  },
  {
   "cell_type": "code",
   "execution_count": 137,
   "metadata": {},
   "outputs": [],
   "source": [
    "d = Geometric()\n",
    "x1 = rand(d, n)\n",
    "x2 = rand(d, n)\n",
    "nothing"
   ]
  },
  {
   "cell_type": "markdown",
   "metadata": {},
   "source": [
    "hash them then count the hash values:"
   ]
  },
  {
   "cell_type": "code",
   "execution_count": 138,
   "metadata": {},
   "outputs": [
    {
     "data": {
      "text/plain": [
       "DataStructures.Accumulator{Int64, Int64} with 4 entries:\n",
       "  0 => 141\n",
       "  2 => 30\n",
       "  3 => 13\n",
       "  1 => 66"
      ]
     },
     "metadata": {},
     "output_type": "display_data"
    }
   ],
   "source": [
    "hash1 = x1 .% 4\n",
    "hash2 = x2 .% 4\n",
    "agg1 = counter(hash1)\n",
    "agg2 = counter(hash2)"
   ]
  },
  {
   "cell_type": "markdown",
   "metadata": {},
   "source": [
    "by *Walter's method* we get an upper cardinality bound of: "
   ]
  },
  {
   "cell_type": "code",
   "execution_count": 139,
   "metadata": {},
   "outputs": [
    {
     "data": {
      "text/plain": [
       "24973"
      ]
     },
     "metadata": {},
     "output_type": "display_data"
    }
   ],
   "source": [
    "estimate_prior = sum(agg1[v] * agg2[v] for v in keys(agg1.map))"
   ]
  },
  {
   "cell_type": "markdown",
   "metadata": {},
   "source": [
    "The actual cardinality is:"
   ]
  },
  {
   "cell_type": "code",
   "execution_count": 140,
   "metadata": {},
   "outputs": [
    {
     "data": {
      "text/plain": [
       "21946"
      ]
     },
     "metadata": {},
     "output_type": "display_data"
    }
   ],
   "source": [
    "cardinality = sum(i == j for (i, j) in Iterators.product(x1, x2))"
   ]
  },
  {
   "cell_type": "markdown",
   "metadata": {},
   "source": [
    "## Graph Coloring\n",
    "Now let's transform this into a graph coloring problem:"
   ]
  },
  {
   "cell_type": "code",
   "execution_count": 141,
   "metadata": {},
   "outputs": [],
   "source": [
    "using Graphs\n",
    "using QuasiStableColors"
   ]
  },
  {
   "cell_type": "code",
   "execution_count": 142,
   "metadata": {},
   "outputs": [
    {
     "data": {
      "text/plain": [
       "10"
      ]
     },
     "metadata": {},
     "output_type": "display_data"
    }
   ],
   "source": [
    "m = 1 + maximum([x1; x2])\n",
    "\n",
    "g = Graph(n * 2 + m)\n",
    "\n",
    "for (i, x) in enumerate(x1)\n",
    "    add_edge!(g, m + i, x + 1)\n",
    "end\n",
    "\n",
    "for (i, x) in enumerate(x2)\n",
    "    add_edge!(g, n + m + i, x + 1)\n",
    "end\n",
    "\n",
    "m"
   ]
  },
  {
   "cell_type": "code",
   "execution_count": 143,
   "metadata": {},
   "outputs": [
    {
     "data": {
      "text/plain": [
       "5-element Vector{Vector{Int64}}:\n",
       " [4, 5, 6, 7, 8, 9, 10]\n",
       " [11, 12, 13, 14, 15, 16, 17, 18, 19, 20  …  501, 502, 503, 504, 505, 506, 507, 508, 509, 510]\n",
       " [3]\n",
       " [1]\n",
       " [2]"
      ]
     },
     "metadata": {},
     "output_type": "display_data"
    }
   ],
   "source": [
    "C = q_color(g, n_colors=4 + 1, warm_start=Vector{Vector{Int}}([collect(1:m), (m+1 : n* 2 + m)]))"
   ]
  },
  {
   "cell_type": "code",
   "execution_count": 144,
   "metadata": {},
   "outputs": [
    {
     "data": {
      "text/plain": [
       "Dict{Int64, Int64} with 10 entries:\n",
       "  5 => 1\n",
       "  4 => 1\n",
       "  6 => 1\n",
       "  7 => 1\n",
       "  2 => 3\n",
       "  0 => 4\n",
       "  9 => 1\n",
       "  8 => 1\n",
       "  3 => 1\n",
       "  1 => 5"
      ]
     },
     "metadata": {},
     "output_type": "display_data"
    }
   ],
   "source": [
    "color_hash::Dict{Int, Int} = Dict()\n",
    "for (color, nodes) in enumerate(C)\n",
    "    for x in nodes\n",
    "        if x <= m\n",
    "            color_hash[x - 1] = color\n",
    "        end\n",
    "    end\n",
    "end\n",
    "color_hash"
   ]
  },
  {
   "cell_type": "code",
   "execution_count": 145,
   "metadata": {},
   "outputs": [
    {
     "data": {
      "text/plain": [
       "22425"
      ]
     },
     "metadata": {},
     "output_type": "display_data"
    }
   ],
   "source": [
    "hash1 = map(x -> color_hash[x], x1)\n",
    "hash2 = map(x -> color_hash[x], x2)\n",
    "agg1 = counter(hash1)\n",
    "agg2 = counter(hash2)\n",
    "estimate = sum(agg1[v] * agg2[v] for v in keys(agg1.map))"
   ]
  },
  {
   "cell_type": "code",
   "execution_count": 157,
   "metadata": {},
   "outputs": [
    {
     "data": {
      "text/plain": [
       "\"Hashing error: 13.792946322792304%, \\n color hashing error: 2.182630092044107%\""
      ]
     },
     "metadata": {},
     "output_type": "display_data"
    }
   ],
   "source": [
    "\"Hashing error: $(estimate_prior / cardinality * 100 - 100)%, color hashing error: $(estimate / cardinality * 100 - 100)%\""
   ]
  }
 ],
 "metadata": {
  "kernelspec": {
   "display_name": "Julia 1.8.3",
   "language": "julia",
   "name": "julia-1.8"
  },
  "language_info": {
   "file_extension": ".jl",
   "mimetype": "application/julia",
   "name": "julia",
   "version": "1.8.3"
  },
  "orig_nbformat": 4
 },
 "nbformat": 4,
 "nbformat_minor": 2
}
