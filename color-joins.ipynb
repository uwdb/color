{
 "cells": [
  {
   "cell_type": "markdown",
   "metadata": {},
   "source": [
    "## Joins with Quasi-stable Coloring"
   ]
  },
  {
   "cell_type": "code",
   "execution_count": 4,
   "metadata": {},
   "outputs": [],
   "source": [
    "using Distributions\n",
    "using DataStructures: counter, Dict, Set, Vector, inc!"
   ]
  },
  {
   "cell_type": "code",
   "execution_count": 5,
   "metadata": {},
   "outputs": [],
   "source": [
    "n = 200000\n",
    "numVertices = 100000\n",
    "zipf = [1.0/(i^.5) for i in 1:numVertices]\n",
    "zipf = zipf ./ sum(zipf)\n",
    "nothing #hide"
   ]
  },
  {
   "cell_type": "markdown",
   "metadata": {},
   "source": [
    "Let's generate two arrays of size $n$ representing the edges in a graph G where the edges are generated according to a zipf distribution. Then makes two graph formats for convenience."
   ]
  },
  {
   "cell_type": "code",
   "execution_count": 6,
   "metadata": {},
   "outputs": [],
   "source": [
    "d = DiscreteNonParametric(1:numVertices, zipf)\n",
    "x1 = rand(d, n) .% numVertices\n",
    "x2 = rand(d, n) .% numVertices\n",
    "EDict = Dict()\n",
    "for x in Set(x1)\n",
    "    EDict[x] = Set()\n",
    "end\n",
    "for i in 1:length(x1)\n",
    "    push!(EDict[x1[i]], x2[i])\n",
    "end\n",
    "\n",
    "numEdges = sum(length(EDict[x]) for x in keys(EDict))\n",
    "ETable = Array{Int64}(undef, numEdges, 2)\n",
    "edgeCounter = 1\n",
    "for x in keys(EDict)\n",
    "    for y in EDict[x]\n",
    "        ETable[edgeCounter,1] = x\n",
    "        ETable[edgeCounter,2] = y\n",
    "        edgeCounter += 1\n",
    "    end\n",
    "end"
   ]
  },
  {
   "cell_type": "markdown",
   "metadata": {},
   "source": [
    "hash them then count the hash values:"
   ]
  },
  {
   "cell_type": "code",
   "execution_count": 21,
   "metadata": {},
   "outputs": [],
   "source": [
    "numPartitions = 8\n",
    "inDegCounters = [counter(Int32) for _ in 1:numPartitions]\n",
    "outDegCounters = [counter(Int32) for _ in 1:numPartitions]\n",
    "hashETable = (ETable .% numPartitions) .+ 1\n",
    "for i in 1:size(ETable)[1]\n",
    "    inc!(inDegCounters[hashETable[i,1]], ETable[i,1])\n",
    "    inc!(outDegCounters[hashETable[i,2]], ETable[i,2])\n",
    "end\n",
    "\n",
    "hashCardinality::Dict{Int, Dict{Int, Int}} = Dict()\n",
    "hashMaxDeg::Dict{Int, Dict{Int, Int}} = Dict()\n",
    "for c1 in 1:numPartitions\n",
    "    hashMaxDeg[c1] = Dict()\n",
    "    hashCardinality[c1] = Dict()\n",
    "    for c2 in 1:numPartitions\n",
    "        hashMaxDeg[c1][c2] = 0\n",
    "        hashCardinality[c1][c2] = 0\n",
    "        for x in keys(EDict)\n",
    "            if x .% numPartitions + 1 == c1\n",
    "                numEdgesToColor = 0\n",
    "                for y in EDict[x]\n",
    "                    if y .% numPartitions + 1 == c2\n",
    "                        numEdgesToColor += 1\n",
    "                    end\n",
    "                end\n",
    "                hashMaxDeg[c1][c2] = max(numEdgesToColor, hashMaxDeg[c1][c2])\n",
    "                hashCardinality[c1][c2] += numEdgesToColor\n",
    "            end\n",
    "        end\n",
    "    end\n",
    "end"
   ]
  },
  {
   "cell_type": "markdown",
   "metadata": {},
   "source": [
    "by *Walter's method* we get an upper cardinality bound of the following for 3-hop paths in our graph: "
   ]
  },
  {
   "cell_type": "code",
   "execution_count": 29,
   "metadata": {},
   "outputs": [
    {
     "data": {
      "text/plain": [
       "4508246397"
      ]
     },
     "execution_count": 29,
     "metadata": {},
     "output_type": "execute_result"
    }
   ],
   "source": [
    "estimate_prior = 0\n",
    "for x in keys(hashMaxDeg)\n",
    "    if x in keys(hashMaxDeg)\n",
    "        for y in keys(hashMaxDeg[x])\n",
    "            if y in keys(hashMaxDeg)\n",
    "                for z in keys(hashMaxDeg[y])\n",
    "                    if z in keys(hashMaxDeg)\n",
    "                        for u in keys(hashMaxDeg[z])\n",
    "                            estimate_prior += min(hashCardinality[x][y]*hashMaxDeg[y][z]*hashMaxDeg[z][u],\n",
    "                                                hashMaxDeg[x][y]*hashCardinality[y][z]*hashMaxDeg[z][u],\n",
    "                                                hashMaxDeg[x][y]*hashMaxDeg[y][z]*hashCardinality[z][u]\n",
    "                                                )\n",
    "                        end\n",
    "                    end\n",
    "                end\n",
    "            end\n",
    "        end\n",
    "    end\n",
    "end\n",
    "estimate_prior"
   ]
  },
  {
   "cell_type": "markdown",
   "metadata": {},
   "source": [
    "## Graph Coloring\n",
    "Now let's transform this into a graph coloring problem:"
   ]
  },
  {
   "cell_type": "code",
   "execution_count": 23,
   "metadata": {},
   "outputs": [],
   "source": [
    "using Graphs\n",
    "using QuasiStableColors\n",
    "g = Graph(numVertices)\n",
    "for x in keys(EDict)\n",
    "    for y in EDict[x]\n",
    "        add_edge!(g, x, y)\n",
    "    end\n",
    "end\n",
    "\n",
    "C = q_color(g, n_colors=numPartitions)\n",
    "color_hash::Dict{Int, Int} = Dict()\n",
    "for (color, nodes) in enumerate(C)\n",
    "    for x in nodes\n",
    "        color_hash[x - 1] = color\n",
    "    end\n",
    "end"
   ]
  },
  {
   "cell_type": "code",
   "execution_count": 24,
   "metadata": {},
   "outputs": [],
   "source": [
    "colorColorCounter = Dict()\n",
    "for x in keys(EDict)\n",
    "    for y in EDict[x] \n",
    "        c1 = color_hash[x]\n",
    "        c2 = color_hash[y]\n",
    "        if !(c1 in keys(colorColorCounter))\n",
    "           colorColorCounter[c1] = Dict()\n",
    "        end\n",
    "        if !(c2 in keys(colorColorCounter[c1]))\n",
    "           colorColorCounter[c1][c2] = counter(Int)\n",
    "        end\n",
    "        inc!(colorColorCounter[c1][c2], x)\n",
    "    end\n",
    "end\n",
    "\n",
    "colorEdgeCardinality::Dict{Int, Dict{Int, Int}} = Dict()\n",
    "colorEdgeMaxDeg::Dict{Int, Dict{Int, Int}} = Dict()\n",
    "for c1 in keys(colorColorCounter)\n",
    "    colorEdgeMaxDeg[c1] = Dict()\n",
    "    colorEdgeCardinality[c1] = Dict()\n",
    "    for c2 in keys(colorColorCounter[c1])\n",
    "        colorEdgeMaxDeg[c1][c2] =  0 \n",
    "        colorEdgeCardinality[c1][c2] = 0\n",
    "        for v in values(colorColorCounter[c1][c2])\n",
    "            colorEdgeMaxDeg[c1][c2] = max(v, colorEdgeMaxDeg[c1][c2])\n",
    "            colorEdgeCardinality[c1][c2] += v\n",
    "        end \n",
    "    end\n",
    "end"
   ]
  },
  {
   "cell_type": "code",
   "execution_count": 25,
   "metadata": {},
   "outputs": [
    {
     "data": {
      "text/plain": [
       "Dict{Int64, Dict{Int64, Int64}} with 8 entries:\n",
       "  5 => Dict(5=>5, 4=>6, 6=>3, 7=>3, 2=>12, 8=>3, 3=>7, 1=>18)\n",
       "  4 => Dict(5=>4, 4=>4, 6=>3, 7=>2, 2=>9, 8=>2, 3=>5, 1=>18)\n",
       "  6 => Dict(5=>6, 4=>5, 6=>3, 7=>2, 2=>17, 8=>2, 3=>8, 1=>23)\n",
       "  7 => Dict(5=>7, 4=>7, 6=>5, 7=>2, 2=>26, 8=>3, 3=>12, 1=>34)\n",
       "  2 => Dict(5=>3, 4=>4, 6=>3, 7=>2, 2=>7, 8=>2, 3=>5, 1=>8)\n",
       "  8 => Dict(5=>16, 4=>24, 6=>9, 7=>5, 2=>104, 8=>3, 3=>42, 1=>127)\n",
       "  3 => Dict(5=>5, 4=>3, 6=>3, 7=>2, 2=>10, 8=>2, 3=>5, 1=>9)\n",
       "  1 => Dict(5=>4, 4=>4, 6=>3, 7=>2, 2=>7, 8=>2, 3=>4, 1=>7)"
      ]
     },
     "execution_count": 25,
     "metadata": {},
     "output_type": "execute_result"
    }
   ],
   "source": [
    "colorEdgeMaxDeg"
   ]
  },
  {
   "cell_type": "code",
   "execution_count": 26,
   "metadata": {},
   "outputs": [
    {
     "data": {
      "text/plain": [
       "114401453"
      ]
     },
     "execution_count": 26,
     "metadata": {},
     "output_type": "execute_result"
    }
   ],
   "source": [
    "estimate = 0\n",
    "for x in keys(colorEdgeMaxDeg)\n",
    "    for y in keys(colorEdgeMaxDeg[x])\n",
    "        if y in keys(colorEdgeMaxDeg)\n",
    "            for z in keys(colorEdgeMaxDeg[y])\n",
    "                if z in keys(colorEdgeMaxDeg)\n",
    "                    for u in keys(colorEdgeMaxDeg[z])\n",
    "                        if u in keys(colorEdgeMaxDeg[z])\n",
    "                            estimate += min(colorEdgeCardinality[x][y]*colorEdgeMaxDeg[y][z]*colorEdgeMaxDeg[z][u],\n",
    "                                            colorEdgeMaxDeg[x][y]*colorEdgeCardinality[y][z]*colorEdgeMaxDeg[z][u],\n",
    "                                            colorEdgeMaxDeg[x][y]*colorEdgeMaxDeg[y][z]*colorEdgeCardinality[z][u]\n",
    "                                            )\n",
    "                        end\n",
    "                    end\n",
    "                end\n",
    "            end\n",
    "        end\n",
    "    end\n",
    "end\n",
    "estimate"
   ]
  },
  {
   "cell_type": "code",
   "execution_count": 240,
   "metadata": {},
   "outputs": [
    {
     "data": {
      "text/plain": [
       "237.20296831955434"
      ]
     },
     "execution_count": 240,
     "metadata": {},
     "output_type": "execute_result"
    }
   ],
   "source": [
    "94091272833556/396669879387"
   ]
  },
  {
   "cell_type": "code",
   "execution_count": 241,
   "metadata": {},
   "outputs": [
    {
     "data": {
      "text/plain": [
       "Dict{Int64, Int64} with 128 entries:\n",
       "  5   => 164\n",
       "  56  => 217\n",
       "  35  => 2\n",
       "  55  => 3\n",
       "  110 => 6\n",
       "  114 => 16\n",
       "  123 => 9\n",
       "  60  => 2\n",
       "  30  => 440\n",
       "  32  => 3\n",
       "  6   => 20\n",
       "  67  => 7\n",
       "  45  => 2\n",
       "  117 => 5\n",
       "  73  => 3820\n",
       "  115 => 2\n",
       "  112 => 2\n",
       "  64  => 22\n",
       "  90  => 1190\n",
       "  4   => 1516\n",
       "  13  => 11\n",
       "  54  => 56\n",
       "  63  => 3\n",
       "  86  => 4\n",
       "  104 => 9\n",
       "  ⋮   => ⋮"
      ]
     },
     "execution_count": 241,
     "metadata": {},
     "output_type": "execute_result"
    }
   ],
   "source": [
    "colorCardinality"
   ]
  },
  {
   "cell_type": "code",
   "execution_count": 242,
   "metadata": {},
   "outputs": [
    {
     "data": {
      "text/plain": [
       "Dict{Int64, Dict{Int64, Int64}} with 128 entries:\n",
       "  5   => Dict(5=>1, 56=>2, 123=>1, 55=>1, 30=>2, 32=>1, 6=>1, 45=>1, 73=>3, 90=…\n",
       "  56  => Dict(5=>1, 56=>1, 123=>1, 55=>1, 35=>1, 114=>1, 60=>1, 30=>2, 32=>1, 6…\n",
       "  55  => Dict(5=>1, 56=>1, 81=>1, 72=>1, 30=>1, 1=>20, 22=>1, 43=>5, 69=>1, 99=…\n",
       "  123 => Dict(56=>1, 16=>1, 79=>1, 20=>1, 72=>1, 30=>1, 75=>1, 37=>1, 111=>1, 1…\n",
       "  110 => Dict(56=>1, 81=>1, 30=>1, 75=>1, 1=>11, 83=>1, 43=>2, 45=>1, 98=>1, 73…\n",
       "  114 => Dict(5=>1, 56=>1, 81=>1, 30=>1, 1=>8, 53=>1, 22=>1, 43=>3, 69=>1, 68=>…\n",
       "  35  => Dict(5=>1, 56=>1, 30=>1, 75=>1, 1=>15, 53=>1, 83=>1, 49=>1, 43=>3, 73=…\n",
       "  60  => Dict(5=>2, 56=>1, 20=>1, 105=>1, 30=>1, 75=>1, 1=>26, 43=>4, 99=>1, 31…\n",
       "  30  => Dict(5=>1, 56=>1, 123=>1, 114=>1, 55=>1, 60=>1, 30=>1, 6=>1, 67=>1, 45…\n",
       "  32  => Dict(35=>1, 105=>1, 28=>1, 75=>1, 1=>19, 53=>1, 22=>1, 43=>4, 99=>1, 7…\n",
       "  6   => Dict(5=>1, 56=>1, 30=>1, 117=>1, 45=>1, 73=>3, 115=>1, 64=>1, 90=>2, 4…\n",
       "  67  => Dict(5=>1, 56=>1, 81=>1, 30=>1, 1=>17, 53=>1, 92=>1, 6=>1, 43=>4, 45=>…\n",
       "  45  => Dict(5=>2, 56=>1, 81=>1, 110=>1, 52=>1, 30=>2, 75=>2, 1=>31, 19=>1, 43…\n",
       "  117 => Dict(78=>1, 5=>2, 81=>1, 30=>1, 1=>15, 53=>1, 83=>1, 43=>2, 99=>3, 31=…\n",
       "  73  => Dict(5=>1, 56=>1, 123=>2, 114=>1, 110=>1, 35=>1, 55=>1, 60=>1, 30=>2, …\n",
       "  115 => Dict(5=>1, 56=>1, 81=>1, 110=>1, 30=>1, 28=>1, 37=>1, 1=>21, 53=>1, 43…\n",
       "  112 => Dict(75=>1, 1=>10, 43=>2, 99=>1, 73=>1, 89=>1, 3=>1, 29=>1, 25=>1, 34=…\n",
       "  64  => Dict(56=>1, 35=>1, 55=>1, 30=>1, 117=>1, 73=>2, 64=>1, 90=>1, 4=>3, 63…\n",
       "  90  => Dict(5=>1, 56=>1, 55=>1, 123=>1, 114=>1, 35=>1, 60=>1, 30=>2, 32=>1, 6…\n",
       "  4   => Dict(5=>2, 56=>2, 55=>1, 114=>1, 123=>1, 110=>1, 35=>1, 60=>1, 30=>2, …\n",
       "  13  => Dict(5=>1, 56=>2, 55=>1, 81=>1, 105=>1, 72=>1, 30=>2, 28=>1, 75=>1, 24…\n",
       "  54  => Dict(5=>2, 56=>2, 114=>1, 123=>1, 30=>1, 32=>1, 6=>1, 45=>1, 73=>2, 64…\n",
       "  86  => Dict(56=>2, 16=>1, 75=>1, 111=>1, 1=>21, 83=>1, 19=>1, 43=>7, 117=>1, …\n",
       "  63  => Dict(5=>1, 105=>1, 30=>1, 28=>1, 75=>1, 1=>14, 53=>1, 43=>8, 45=>1, 99…\n",
       "  104 => Dict(56=>1, 52=>1, 30=>1, 75=>1, 8=>1, 23=>1, 53=>1, 1=>7, 43=>3, 36=>…\n",
       "  ⋮   => ⋮"
      ]
     },
     "execution_count": 242,
     "metadata": {},
     "output_type": "execute_result"
    }
   ],
   "source": [
    "colorEdgeMaxDeg"
   ]
  },
  {
   "cell_type": "markdown",
   "metadata": {},
   "source": [
    "The actual cardinality is:"
   ]
  },
  {
   "cell_type": "code",
   "execution_count": 17,
   "metadata": {},
   "outputs": [
    {
     "data": {
      "text/plain": [
       "7545339"
      ]
     },
     "execution_count": 17,
     "metadata": {},
     "output_type": "execute_result"
    }
   ],
   "source": [
    "cardinality = 0\n",
    "for x in keys(EDict)\n",
    "    for y in EDict[x]\n",
    "        if y in keys(EDict)\n",
    "            for z in EDict[y]\n",
    "                if z in keys(EDict)\n",
    "                    cardinality += length(EDict[z])\n",
    "                end\n",
    "            end\n",
    "        end\n",
    "    end\n",
    "end\n",
    "cardinality"
   ]
  },
  {
   "cell_type": "code",
   "execution_count": 30,
   "metadata": {},
   "outputs": [
    {
     "data": {
      "text/plain": [
       "\"Hashing relative error: 597.4875876352276, color hashing relative error: 15.161870526957106\""
      ]
     },
     "execution_count": 30,
     "metadata": {},
     "output_type": "execute_result"
    }
   ],
   "source": [
    "\"Hashing relative error: $(estimate_prior / cardinality), color hashing relative error: $(estimate / cardinality)\""
   ]
  },
  {
   "cell_type": "code",
   "execution_count": 32,
   "metadata": {},
   "outputs": [
    {
     "data": {
      "text/plain": [
       "39.8"
      ]
     },
     "execution_count": 32,
     "metadata": {},
     "output_type": "execute_result"
    }
   ],
   "source": [
    "597/15"
   ]
  },
  {
   "cell_type": "code",
   "execution_count": null,
   "metadata": {},
   "outputs": [],
   "source": []
  }
 ],
 "metadata": {
  "kernelspec": {
   "display_name": "Julia 1.8.3",
   "language": "julia",
   "name": "julia-1.8"
  },
  "language_info": {
   "file_extension": ".jl",
   "mimetype": "application/julia",
   "name": "julia",
   "version": "1.8.3"
  }
 },
 "nbformat": 4,
 "nbformat_minor": 4
}
