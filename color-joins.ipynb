{
 "cells": [
  {
   "cell_type": "markdown",
   "metadata": {},
   "source": [
    "## Joins with Quasi-stable Coloring"
   ]
  },
  {
   "cell_type": "code",
   "execution_count": 1,
   "metadata": {},
   "outputs": [],
   "source": [
    "using Distributions\n",
    "using DataStructures: counter, Dict, Set, Vector, inc!"
   ]
  },
  {
   "cell_type": "code",
   "execution_count": 2,
   "metadata": {},
   "outputs": [],
   "source": [
    "n = 200000\n",
    "numVertices = 100000\n",
    "zipf = [1.0/(i^.5) for i in 1:numVertices]\n",
    "zipf = zipf ./ sum(zipf)\n",
    "nothing #hide"
   ]
  },
  {
   "cell_type": "markdown",
   "metadata": {},
   "source": [
    "Let's generate two arrays of size $n$ representing the edges in a graph G where the edges are generated according to a zipf distribution. Then makes two graph formats for convenience."
   ]
  },
  {
   "cell_type": "code",
   "execution_count": 3,
   "metadata": {},
   "outputs": [],
   "source": [
    "d = DiscreteNonParametric(1:numVertices, zipf)\n",
    "x1 = rand(d, n) .% numVertices\n",
    "x2 = rand(d, n) .% numVertices\n",
    "EDict = Dict()\n",
    "for x in Set(x1)\n",
    "    EDict[x] = Set()\n",
    "end\n",
    "for i in 1:length(x1)\n",
    "    push!(EDict[x1[i]], x2[i])\n",
    "end\n",
    "\n",
    "numEdges = sum(length(EDict[x]) for x in keys(EDict))\n",
    "ETable = Array{Int64}(undef, numEdges, 2)\n",
    "edgeCounter = 1\n",
    "for x in keys(EDict)\n",
    "    for y in EDict[x]\n",
    "        ETable[edgeCounter,1] = x\n",
    "        ETable[edgeCounter,2] = y\n",
    "        edgeCounter += 1\n",
    "    end\n",
    "end"
   ]
  },
  {
   "cell_type": "markdown",
   "metadata": {},
   "source": [
    "hash them then count the hash values:"
   ]
  },
  {
   "cell_type": "code",
   "execution_count": 21,
   "metadata": {},
   "outputs": [],
   "source": [
    "numPartitions = 8\n",
    "inDegCounters = [counter(Int32) for _ in 1:numPartitions]\n",
    "outDegCounters = [counter(Int32) for _ in 1:numPartitions]\n",
    "hashETable = (ETable .% numPartitions) .+ 1\n",
    "for i in 1:size(ETable)[1]\n",
    "    inc!(inDegCounters[hashETable[i,1]], ETable[i,1])\n",
    "    inc!(outDegCounters[hashETable[i,2]], ETable[i,2])\n",
    "end\n",
    "\n",
    "hashCardinality::Dict{Int, Dict{Int, Int}} = Dict()\n",
    "hashMaxDeg::Dict{Int, Dict{Int, Int}} = Dict()\n",
    "for c1 in 1:numPartitions\n",
    "    hashMaxDeg[c1] = Dict()\n",
    "    hashCardinality[c1] = Dict()\n",
    "    for c2 in 1:numPartitions\n",
    "        hashMaxDeg[c1][c2] = 0\n",
    "        hashCardinality[c1][c2] = 0\n",
    "        for x in keys(EDict)\n",
    "            if x .% numPartitions + 1 == c1\n",
    "                numEdgesToColor = 0\n",
    "                for y in EDict[x]\n",
    "                    if y .% numPartitions + 1 == c2\n",
    "                        numEdgesToColor += 1\n",
    "                    end\n",
    "                end\n",
    "                hashMaxDeg[c1][c2] = max(numEdgesToColor, hashMaxDeg[c1][c2])\n",
    "                hashCardinality[c1][c2] += numEdgesToColor\n",
    "            end\n",
    "        end\n",
    "    end\n",
    "end"
   ]
  },
  {
   "cell_type": "markdown",
   "metadata": {},
   "source": [
    "by *Walter's method* we get an upper cardinality bound of the following for 3-hop paths in our graph: "
   ]
  },
  {
   "cell_type": "code",
   "execution_count": 22,
   "metadata": {},
   "outputs": [
    {
     "data": {
      "text/plain": [
       "4364391525"
      ]
     },
     "execution_count": 22,
     "metadata": {},
     "output_type": "execute_result"
    }
   ],
   "source": [
    "estimate_prior = 0\n",
    "for x in keys(hashMaxDeg)\n",
    "    if x in keys(hashMaxDeg)\n",
    "        for y in keys(hashMaxDeg[x])\n",
    "            if y in keys(hashMaxDeg)\n",
    "                for z in keys(hashMaxDeg[y])\n",
    "                    if z in keys(hashMaxDeg)\n",
    "                        for u in keys(hashMaxDeg[z])\n",
    "                            estimate_prior += min(hashCardinality[x][y]*hashMaxDeg[y][z]*hashMaxDeg[z][u],\n",
    "                                                hashMaxDeg[x][y]*hashCardinality[y][z]*hashMaxDeg[z][u],\n",
    "                                                hashMaxDeg[x][y]*hashMaxDeg[y][z]*hashCardinality[z][u]\n",
    "                                                )\n",
    "                        end\n",
    "                    end\n",
    "                end\n",
    "            end\n",
    "        end\n",
    "    end\n",
    "end\n",
    "estimate_prior"
   ]
  },
  {
   "cell_type": "markdown",
   "metadata": {},
   "source": [
    "## Graph Coloring\n",
    "Now let's transform this into a graph coloring problem. We start by generating a lifted graph."
   ]
  },
  {
   "cell_type": "code",
   "execution_count": 23,
   "metadata": {},
   "outputs": [],
   "source": [
    "using Graphs\n",
    "using QuasiStableColors\n",
    "g = Graph(numVertices)\n",
    "for x in keys(EDict)\n",
    "    for y in EDict[x]\n",
    "        add_edge!(g, x, y)\n",
    "    end\n",
    "end\n",
    "\n",
    "minVal = 1000000\n",
    "C = q_color(g, n_colors=numPartitions)\n",
    "color_hash::Dict{Int, Int} = Dict()\n",
    "for (color, nodes) in enumerate(C)\n",
    "    for x in nodes\n",
    "        color_hash[x-1] = color\n",
    "    end\n",
    "end"
   ]
  },
  {
   "cell_type": "markdown",
   "metadata": {},
   "source": [
    "Next, we keep a variety of statistics about the edges between each pair of colors including the min, avg, and max degree as well as the total number of edges."
   ]
  },
  {
   "cell_type": "code",
   "execution_count": 24,
   "metadata": {},
   "outputs": [],
   "source": [
    "colorCardinality = Dict()\n",
    "for c in 1:numPartitions\n",
    "    colorCardinality[c] = 0\n",
    "end \n",
    "\n",
    "colorColorCounter = Dict()\n",
    "for x in keys(EDict)\n",
    "    c1 = color_hash[x]\n",
    "    colorCardinality[c1] += 1\n",
    "    for y in EDict[x] \n",
    "        c2 = color_hash[y]\n",
    "        if !(c1 in keys(colorColorCounter))\n",
    "           colorColorCounter[c1] = Dict()\n",
    "        end\n",
    "        if !(c2 in keys(colorColorCounter[c1]))\n",
    "           colorColorCounter[c1][c2] = counter(Int)\n",
    "        end\n",
    "        inc!(colorColorCounter[c1][c2], x)\n",
    "    end\n",
    "end\n",
    "\n",
    "colorEdgeCardinality::Dict{Int, Dict{Int, Int}} = Dict()\n",
    "colorEdgeMaxDeg::Dict{Int, Dict{Int, Int}} = Dict()\n",
    "for c1 in keys(colorColorCounter)\n",
    "    colorEdgeMaxDeg[c1] = Dict()\n",
    "    colorEdgeCardinality[c1] = Dict()\n",
    "    for c2 in keys(colorColorCounter[c1])\n",
    "        colorEdgeMaxDeg[c1][c2] =  0 \n",
    "        colorEdgeCardinality[c1][c2] = 0\n",
    "        for v in values(colorColorCounter[c1][c2])\n",
    "            colorEdgeMaxDeg[c1][c2] = max(v, colorEdgeMaxDeg[c1][c2])\n",
    "            colorEdgeCardinality[c1][c2] += v\n",
    "        end \n",
    "    end\n",
    "end\n",
    "\n",
    "colorEdgeCardinality::Dict{Int, Dict{Int, Int}} = Dict()\n",
    "colorEdgeMinDeg::Dict{Int, Dict{Int, Int}} = Dict()\n",
    "for c1 in keys(colorColorCounter)\n",
    "    colorEdgeMinDeg[c1] = Dict()\n",
    "    colorEdgeCardinality[c1] = Dict()\n",
    "    for c2 in keys(colorColorCounter[c1])\n",
    "        colorEdgeMinDeg[c1][c2] =  1000 \n",
    "        colorEdgeCardinality[c1][c2] = 0\n",
    "        if length(values(colorColorCounter[c1][c2])) < colorCardinality[c1]\n",
    "            colorEdgeMinDeg[c1][c2] =  0 \n",
    "        else\n",
    "            for v in values(colorColorCounter[c1][c2])\n",
    "                colorEdgeMinDeg[c1][c2] = min(v, colorEdgeMinDeg[c1][c2])\n",
    "                colorEdgeCardinality[c1][c2] += v\n",
    "            end \n",
    "        end\n",
    "    end\n",
    "end\n",
    "\n",
    "\n",
    "colorEdgeCardinality::Dict{Int, Dict{Int, Int}} = Dict()\n",
    "colorEdgeAvgDeg::Dict{Int, Dict{Int, Float64}} = Dict()\n",
    "for c1 in keys(colorColorCounter)\n",
    "    colorEdgeAvgDeg[c1] = Dict()\n",
    "    colorEdgeCardinality[c1] = Dict()\n",
    "    for c2 in keys(colorColorCounter[c1])\n",
    "        colorEdgeAvgDeg[c1][c2] = colorCardinality[c1]\n",
    "        colorEdgeCardinality[c1][c2] = 0\n",
    "        for v in values(colorColorCounter[c1][c2])\n",
    "            colorEdgeCardinality[c1][c2] += v\n",
    "        end \n",
    "        colorEdgeAvgDeg[c1][c2] = float(colorEdgeCardinality[c1][c2])/colorEdgeAvgDeg[c1][c2]\n",
    "    end\n",
    "end"
   ]
  },
  {
   "cell_type": "markdown",
   "metadata": {},
   "source": [
    "Lastly, we test the lower bounds, avg estimates, and upper bounds on the number of three-hop paths."
   ]
  },
  {
   "cell_type": "code",
   "execution_count": 25,
   "metadata": {},
   "outputs": [
    {
     "data": {
      "text/plain": [
       "0"
      ]
     },
     "execution_count": 25,
     "metadata": {},
     "output_type": "execute_result"
    }
   ],
   "source": [
    "minEstimate = 0\n",
    "count = 1\n",
    "for x in keys(colorEdgeMinDeg)\n",
    "    if count % 100 == 0\n",
    "        print(count)\n",
    "        print(\"\\n\")\n",
    "    end\n",
    "    count += 1\n",
    "    for y in keys(colorEdgeMinDeg[x])\n",
    "        if y in keys(colorEdgeMinDeg)\n",
    "            for z in keys(colorEdgeMinDeg[y])\n",
    "                if z in keys(colorEdgeMinDeg)\n",
    "                    for u in keys(colorEdgeMinDeg[z])\n",
    "                        minEstimate += colorEdgeCardinality[x][y]*colorEdgeMinDeg[y][z]*colorEdgeMinDeg[z][u]\n",
    "                    end\n",
    "                end\n",
    "            end\n",
    "        end\n",
    "    end\n",
    "end\n",
    "minEstimate"
   ]
  },
  {
   "cell_type": "code",
   "execution_count": 26,
   "metadata": {},
   "outputs": [
    {
     "data": {
      "text/plain": [
       "5.941241909667022e6"
      ]
     },
     "execution_count": 26,
     "metadata": {},
     "output_type": "execute_result"
    }
   ],
   "source": [
    "avgEstimate = 0\n",
    "count = 1\n",
    "for x in keys(colorEdgeAvgDeg)\n",
    "    for y in keys(colorEdgeAvgDeg[x])\n",
    "        if y in keys(colorEdgeAvgDeg)\n",
    "            for z in keys(colorEdgeAvgDeg[y])\n",
    "                if z in keys(colorEdgeAvgDeg)\n",
    "                    for u in keys(colorEdgeAvgDeg[z])\n",
    "                        count += 1\n",
    "                        avgEstimate += colorEdgeCardinality[x][y]*colorEdgeAvgDeg[y][z]*colorEdgeAvgDeg[z][u]\n",
    "                    end\n",
    "                end\n",
    "            end\n",
    "        end\n",
    "    end\n",
    "end\n",
    "avgEstimate"
   ]
  },
  {
   "cell_type": "code",
   "execution_count": 27,
   "metadata": {},
   "outputs": [
    {
     "data": {
      "text/plain": [
       "114643832"
      ]
     },
     "execution_count": 27,
     "metadata": {},
     "output_type": "execute_result"
    }
   ],
   "source": [
    "maxEstimate = 0\n",
    "count = 1\n",
    "for x in keys(colorEdgeMaxDeg)\n",
    "    if count % 100 == 0\n",
    "        print(count)\n",
    "        print(\"\\n\")\n",
    "    end\n",
    "    count += 1\n",
    "    for y in keys(colorEdgeMaxDeg[x])\n",
    "        if y in keys(colorEdgeMaxDeg)\n",
    "            for z in keys(colorEdgeMaxDeg[y])\n",
    "                if z in keys(colorEdgeMaxDeg)\n",
    "                    for u in keys(colorEdgeMaxDeg[z]) # Note: The DSB using just a max degree statistic might be different than the polymatroid bound, and might be more accurate...\n",
    "                        numVals1 = colorEdgeCardinality[x][y]/colorEdgeMaxDeg[x][y]\n",
    "                        numVals2 = colorEdgeCardinality[x][y]/colorEdgeMaxDeg[x][y]\n",
    "                        numVals3 = colorEdgeCardinality[x][y]/colorEdgeMaxDeg[x][y]\n",
    "                        \n",
    "                        \n",
    "                        maxEstimate += min(colorEdgeCardinality[x][y]*colorEdgeMaxDeg[y][z]*colorEdgeMaxDeg[z][u],\n",
    "                                        colorEdgeMaxDeg[x][y]*colorEdgeCardinality[y][z]*colorEdgeMaxDeg[z][u],\n",
    "                                        colorEdgeMaxDeg[x][y]*colorEdgeMaxDeg[y][z]*colorEdgeCardinality[z][u]\n",
    "                                        )\n",
    "                    end\n",
    "                end\n",
    "            end\n",
    "        end\n",
    "    end\n",
    "end\n",
    "maxEstimate"
   ]
  },
  {
   "cell_type": "code",
   "execution_count": 28,
   "metadata": {},
   "outputs": [
    {
     "data": {
      "text/plain": [
       "9"
      ]
     },
     "execution_count": 28,
     "metadata": {},
     "output_type": "execute_result"
    }
   ],
   "source": [
    "count"
   ]
  },
  {
   "cell_type": "markdown",
   "metadata": {},
   "source": [
    "The actual cardinality is:"
   ]
  },
  {
   "cell_type": "code",
   "execution_count": 29,
   "metadata": {},
   "outputs": [
    {
     "data": {
      "text/plain": [
       "7173717"
      ]
     },
     "execution_count": 29,
     "metadata": {},
     "output_type": "execute_result"
    }
   ],
   "source": [
    "cardinality = 0\n",
    "for x in keys(EDict)\n",
    "    for y in EDict[x]\n",
    "        if y in keys(EDict)\n",
    "            for z in EDict[y]\n",
    "                if z in keys(EDict)\n",
    "                    cardinality += length(EDict[z])\n",
    "                end\n",
    "            end\n",
    "        end\n",
    "    end\n",
    "end\n",
    "cardinality"
   ]
  },
  {
   "cell_type": "code",
   "execution_count": 30,
   "metadata": {},
   "outputs": [
    {
     "name": "stdout",
     "output_type": "stream",
     "text": [
      "Hashing relative error: 608.386353267072,\n",
      " color min relative error: 0.0,\n",
      " color avg relative error: 0.8281957470119077,\n",
      " color max relative error: 15.981092089358976"
     ]
    }
   ],
   "source": [
    "print(\"Hashing relative error: $(estimate_prior / cardinality),\\n color min relative error: $(minEstimate / cardinality),\\n color avg relative error: $(avgEstimate / cardinality),\\n color max relative error: $(maxEstimate / cardinality)\")"
   ]
  },
  {
   "cell_type": "code",
   "execution_count": null,
   "metadata": {},
   "outputs": [],
   "source": [
    "597/15"
   ]
  },
  {
   "cell_type": "code",
   "execution_count": null,
   "metadata": {},
   "outputs": [],
   "source": []
  },
  {
   "cell_type": "code",
   "execution_count": null,
   "metadata": {},
   "outputs": [],
   "source": []
  }
 ],
 "metadata": {
  "kernelspec": {
   "display_name": "Julia 1.8.4",
   "language": "julia",
   "name": "julia-1.8"
  },
  "language_info": {
   "file_extension": ".jl",
   "mimetype": "application/julia",
   "name": "julia",
   "version": "1.8.4"
  }
 },
 "nbformat": 4,
 "nbformat_minor": 4
}
